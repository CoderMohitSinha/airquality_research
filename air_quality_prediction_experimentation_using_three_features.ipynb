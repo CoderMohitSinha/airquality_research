{
 "cells": [
  {
   "cell_type": "code",
   "execution_count": 405,
   "metadata": {
    "colab": {},
    "colab_type": "code",
    "id": "L3-ikINq_CDz"
   },
   "outputs": [],
   "source": [
    "import pandas as pd\n",
    "import numpy as np\n",
    "import seaborn as sns\n",
    "import matplotlib.pyplot as plt \n",
    "%matplotlib inline\n",
    "from sklearn import preprocessing\n",
    "from sklearn.preprocessing import MinMaxScaler\n",
    "from sklearn.metrics import mean_squared_error, mean_absolute_error\n",
    "import os\n",
    "import datetime\n",
    "import math"
   ]
  },
  {
   "cell_type": "raw",
   "metadata": {
    "colab": {
     "base_uri": "https://localhost:8080/",
     "height": 125
    },
    "colab_type": "code",
    "id": "YgmwH-BI_txh",
    "outputId": "dd59d1ca-f56f-405b-ae1b-f867bef2c512"
   },
   "source": [
    "from google.colab import drive\n",
    "drive.mount('/content/drive')"
   ]
  },
  {
   "cell_type": "code",
   "execution_count": 406,
   "metadata": {
    "colab": {},
    "colab_type": "code",
    "id": "InRp4djsBMwh"
   },
   "outputs": [],
   "source": [
    "#!ls \"/content/drive/My Drive/Uni/Msc Comp Science/Year Two/Research/data\""
   ]
  },
  {
   "cell_type": "code",
   "execution_count": 407,
   "metadata": {
    "colab": {},
    "colab_type": "code",
    "id": "geukmPjkSbyn"
   },
   "outputs": [],
   "source": [
    "def show_dataframe_info(df):\n",
    "    print(df.shape)\n",
    "    print(list(df.columns.values))\n",
    "    print('\\n dataframe info: \\n', df.info())\n",
    "    print('\\n dataframe column datatypes:\\n', df.dtypes)\n",
    "    \n",
    "def calculate_rmse(actual_values,predictions):\n",
    "    mse= mean_squared_error(actual_values, predictions)\n",
    "    rmse = np.sqrt(mse)\n",
    "    return rmse"
   ]
  },
  {
   "cell_type": "code",
   "execution_count": 408,
   "metadata": {
    "colab": {
     "base_uri": "https://localhost:8080/",
     "height": 478
    },
    "colab_type": "code",
    "id": "SYFacJONAbXp",
    "outputId": "09eebaf5-610a-4c66-c4a1-cfa929ec9b46"
   },
   "outputs": [
    {
     "data": {
      "text/html": [
       "<div>\n",
       "<style scoped>\n",
       "    .dataframe tbody tr th:only-of-type {\n",
       "        vertical-align: middle;\n",
       "    }\n",
       "\n",
       "    .dataframe tbody tr th {\n",
       "        vertical-align: top;\n",
       "    }\n",
       "\n",
       "    .dataframe thead th {\n",
       "        text-align: right;\n",
       "    }\n",
       "</style>\n",
       "<table border=\"1\" class=\"dataframe\">\n",
       "  <thead>\n",
       "    <tr style=\"text-align: right;\">\n",
       "      <th></th>\n",
       "      <th>TimeStamp</th>\n",
       "      <th>PM2.5(Ug/m3)</th>\n",
       "      <th>PM10(Ug/m3)</th>\n",
       "      <th>hour</th>\n",
       "      <th>EVI</th>\n",
       "      <th>NDVI</th>\n",
       "      <th>humidity (%)</th>\n",
       "      <th>precipitation (mm)</th>\n",
       "      <th>pressure (kPa)</th>\n",
       "      <th>radiation (W/m2)</th>\n",
       "      <th>temperature (oC)</th>\n",
       "      <th>windspeed (m/s)</th>\n",
       "      <th>winddirection_E</th>\n",
       "      <th>winddirection_N</th>\n",
       "      <th>winddirection_NE</th>\n",
       "      <th>winddirection_NW</th>\n",
       "      <th>winddirection_S</th>\n",
       "      <th>winddirection_SE</th>\n",
       "      <th>winddirection_SW</th>\n",
       "      <th>winddirection_W</th>\n",
       "    </tr>\n",
       "  </thead>\n",
       "  <tbody>\n",
       "    <tr>\n",
       "      <th>0</th>\n",
       "      <td>2019-03-14 22:00:00</td>\n",
       "      <td>29.15</td>\n",
       "      <td>33.20</td>\n",
       "      <td>22</td>\n",
       "      <td>0.1233</td>\n",
       "      <td>0.2471</td>\n",
       "      <td>84</td>\n",
       "      <td>0.0</td>\n",
       "      <td>87.65</td>\n",
       "      <td>0.00</td>\n",
       "      <td>22.65</td>\n",
       "      <td>0.54</td>\n",
       "      <td>0</td>\n",
       "      <td>1</td>\n",
       "      <td>0</td>\n",
       "      <td>0</td>\n",
       "      <td>0</td>\n",
       "      <td>0</td>\n",
       "      <td>0</td>\n",
       "      <td>0</td>\n",
       "    </tr>\n",
       "    <tr>\n",
       "      <th>1</th>\n",
       "      <td>2019-03-14 23:00:00</td>\n",
       "      <td>147.98</td>\n",
       "      <td>165.33</td>\n",
       "      <td>23</td>\n",
       "      <td>0.1233</td>\n",
       "      <td>0.2471</td>\n",
       "      <td>86</td>\n",
       "      <td>0.0</td>\n",
       "      <td>87.70</td>\n",
       "      <td>0.00</td>\n",
       "      <td>22.12</td>\n",
       "      <td>0.40</td>\n",
       "      <td>0</td>\n",
       "      <td>0</td>\n",
       "      <td>0</td>\n",
       "      <td>0</td>\n",
       "      <td>0</td>\n",
       "      <td>0</td>\n",
       "      <td>0</td>\n",
       "      <td>1</td>\n",
       "    </tr>\n",
       "    <tr>\n",
       "      <th>2</th>\n",
       "      <td>2019-03-15 00:00:00</td>\n",
       "      <td>146.83</td>\n",
       "      <td>166.99</td>\n",
       "      <td>0</td>\n",
       "      <td>0.1233</td>\n",
       "      <td>0.2471</td>\n",
       "      <td>87</td>\n",
       "      <td>0.0</td>\n",
       "      <td>87.69</td>\n",
       "      <td>0.00</td>\n",
       "      <td>21.82</td>\n",
       "      <td>0.28</td>\n",
       "      <td>0</td>\n",
       "      <td>0</td>\n",
       "      <td>0</td>\n",
       "      <td>1</td>\n",
       "      <td>0</td>\n",
       "      <td>0</td>\n",
       "      <td>0</td>\n",
       "      <td>0</td>\n",
       "    </tr>\n",
       "    <tr>\n",
       "      <th>3</th>\n",
       "      <td>2019-03-15 01:00:00</td>\n",
       "      <td>112.06</td>\n",
       "      <td>128.38</td>\n",
       "      <td>1</td>\n",
       "      <td>0.1233</td>\n",
       "      <td>0.2471</td>\n",
       "      <td>88</td>\n",
       "      <td>0.0</td>\n",
       "      <td>87.65</td>\n",
       "      <td>0.00</td>\n",
       "      <td>21.79</td>\n",
       "      <td>0.38</td>\n",
       "      <td>0</td>\n",
       "      <td>0</td>\n",
       "      <td>1</td>\n",
       "      <td>0</td>\n",
       "      <td>0</td>\n",
       "      <td>0</td>\n",
       "      <td>0</td>\n",
       "      <td>0</td>\n",
       "    </tr>\n",
       "    <tr>\n",
       "      <th>4</th>\n",
       "      <td>2019-03-15 02:00:00</td>\n",
       "      <td>84.10</td>\n",
       "      <td>95.38</td>\n",
       "      <td>2</td>\n",
       "      <td>0.1233</td>\n",
       "      <td>0.2471</td>\n",
       "      <td>91</td>\n",
       "      <td>0.0</td>\n",
       "      <td>87.60</td>\n",
       "      <td>0.00</td>\n",
       "      <td>21.06</td>\n",
       "      <td>0.28</td>\n",
       "      <td>0</td>\n",
       "      <td>0</td>\n",
       "      <td>0</td>\n",
       "      <td>1</td>\n",
       "      <td>0</td>\n",
       "      <td>0</td>\n",
       "      <td>0</td>\n",
       "      <td>0</td>\n",
       "    </tr>\n",
       "    <tr>\n",
       "      <th>5</th>\n",
       "      <td>2019-03-15 03:00:00</td>\n",
       "      <td>70.99</td>\n",
       "      <td>80.30</td>\n",
       "      <td>3</td>\n",
       "      <td>0.1233</td>\n",
       "      <td>0.2471</td>\n",
       "      <td>92</td>\n",
       "      <td>0.0</td>\n",
       "      <td>87.58</td>\n",
       "      <td>0.00</td>\n",
       "      <td>20.89</td>\n",
       "      <td>0.28</td>\n",
       "      <td>0</td>\n",
       "      <td>0</td>\n",
       "      <td>0</td>\n",
       "      <td>1</td>\n",
       "      <td>0</td>\n",
       "      <td>0</td>\n",
       "      <td>0</td>\n",
       "      <td>0</td>\n",
       "    </tr>\n",
       "    <tr>\n",
       "      <th>6</th>\n",
       "      <td>2019-03-15 04:00:00</td>\n",
       "      <td>64.95</td>\n",
       "      <td>73.47</td>\n",
       "      <td>4</td>\n",
       "      <td>0.1233</td>\n",
       "      <td>0.2471</td>\n",
       "      <td>93</td>\n",
       "      <td>0.0</td>\n",
       "      <td>87.57</td>\n",
       "      <td>0.00</td>\n",
       "      <td>20.66</td>\n",
       "      <td>0.28</td>\n",
       "      <td>0</td>\n",
       "      <td>0</td>\n",
       "      <td>0</td>\n",
       "      <td>1</td>\n",
       "      <td>0</td>\n",
       "      <td>0</td>\n",
       "      <td>0</td>\n",
       "      <td>0</td>\n",
       "    </tr>\n",
       "    <tr>\n",
       "      <th>7</th>\n",
       "      <td>2019-03-15 05:00:00</td>\n",
       "      <td>66.98</td>\n",
       "      <td>74.72</td>\n",
       "      <td>5</td>\n",
       "      <td>0.1233</td>\n",
       "      <td>0.2471</td>\n",
       "      <td>93</td>\n",
       "      <td>0.0</td>\n",
       "      <td>87.61</td>\n",
       "      <td>0.00</td>\n",
       "      <td>20.92</td>\n",
       "      <td>0.30</td>\n",
       "      <td>0</td>\n",
       "      <td>0</td>\n",
       "      <td>0</td>\n",
       "      <td>0</td>\n",
       "      <td>0</td>\n",
       "      <td>0</td>\n",
       "      <td>0</td>\n",
       "      <td>1</td>\n",
       "    </tr>\n",
       "    <tr>\n",
       "      <th>8</th>\n",
       "      <td>2019-03-15 06:00:00</td>\n",
       "      <td>77.64</td>\n",
       "      <td>84.77</td>\n",
       "      <td>6</td>\n",
       "      <td>0.1233</td>\n",
       "      <td>0.2471</td>\n",
       "      <td>94</td>\n",
       "      <td>0.0</td>\n",
       "      <td>87.64</td>\n",
       "      <td>0.57</td>\n",
       "      <td>20.85</td>\n",
       "      <td>0.47</td>\n",
       "      <td>0</td>\n",
       "      <td>0</td>\n",
       "      <td>0</td>\n",
       "      <td>0</td>\n",
       "      <td>0</td>\n",
       "      <td>0</td>\n",
       "      <td>0</td>\n",
       "      <td>1</td>\n",
       "    </tr>\n",
       "    <tr>\n",
       "      <th>9</th>\n",
       "      <td>2019-03-15 07:00:00</td>\n",
       "      <td>81.60</td>\n",
       "      <td>89.16</td>\n",
       "      <td>7</td>\n",
       "      <td>0.1233</td>\n",
       "      <td>0.2471</td>\n",
       "      <td>85</td>\n",
       "      <td>0.0</td>\n",
       "      <td>87.70</td>\n",
       "      <td>35.43</td>\n",
       "      <td>20.88</td>\n",
       "      <td>0.54</td>\n",
       "      <td>0</td>\n",
       "      <td>0</td>\n",
       "      <td>0</td>\n",
       "      <td>1</td>\n",
       "      <td>0</td>\n",
       "      <td>0</td>\n",
       "      <td>0</td>\n",
       "      <td>0</td>\n",
       "    </tr>\n",
       "  </tbody>\n",
       "</table>\n",
       "</div>"
      ],
      "text/plain": [
       "             TimeStamp  PM2.5(Ug/m3)  PM10(Ug/m3)  hour     EVI    NDVI  \\\n",
       "0  2019-03-14 22:00:00         29.15        33.20    22  0.1233  0.2471   \n",
       "1  2019-03-14 23:00:00        147.98       165.33    23  0.1233  0.2471   \n",
       "2  2019-03-15 00:00:00        146.83       166.99     0  0.1233  0.2471   \n",
       "3  2019-03-15 01:00:00        112.06       128.38     1  0.1233  0.2471   \n",
       "4  2019-03-15 02:00:00         84.10        95.38     2  0.1233  0.2471   \n",
       "5  2019-03-15 03:00:00         70.99        80.30     3  0.1233  0.2471   \n",
       "6  2019-03-15 04:00:00         64.95        73.47     4  0.1233  0.2471   \n",
       "7  2019-03-15 05:00:00         66.98        74.72     5  0.1233  0.2471   \n",
       "8  2019-03-15 06:00:00         77.64        84.77     6  0.1233  0.2471   \n",
       "9  2019-03-15 07:00:00         81.60        89.16     7  0.1233  0.2471   \n",
       "\n",
       "   humidity (%)  precipitation (mm)  pressure (kPa)  radiation (W/m2)  \\\n",
       "0            84                 0.0           87.65              0.00   \n",
       "1            86                 0.0           87.70              0.00   \n",
       "2            87                 0.0           87.69              0.00   \n",
       "3            88                 0.0           87.65              0.00   \n",
       "4            91                 0.0           87.60              0.00   \n",
       "5            92                 0.0           87.58              0.00   \n",
       "6            93                 0.0           87.57              0.00   \n",
       "7            93                 0.0           87.61              0.00   \n",
       "8            94                 0.0           87.64              0.57   \n",
       "9            85                 0.0           87.70             35.43   \n",
       "\n",
       "   temperature (oC)  windspeed (m/s)  winddirection_E  winddirection_N  \\\n",
       "0             22.65             0.54                0                1   \n",
       "1             22.12             0.40                0                0   \n",
       "2             21.82             0.28                0                0   \n",
       "3             21.79             0.38                0                0   \n",
       "4             21.06             0.28                0                0   \n",
       "5             20.89             0.28                0                0   \n",
       "6             20.66             0.28                0                0   \n",
       "7             20.92             0.30                0                0   \n",
       "8             20.85             0.47                0                0   \n",
       "9             20.88             0.54                0                0   \n",
       "\n",
       "   winddirection_NE  winddirection_NW  winddirection_S  winddirection_SE  \\\n",
       "0                 0                 0                0                 0   \n",
       "1                 0                 0                0                 0   \n",
       "2                 0                 1                0                 0   \n",
       "3                 1                 0                0                 0   \n",
       "4                 0                 1                0                 0   \n",
       "5                 0                 1                0                 0   \n",
       "6                 0                 1                0                 0   \n",
       "7                 0                 0                0                 0   \n",
       "8                 0                 0                0                 0   \n",
       "9                 0                 1                0                 0   \n",
       "\n",
       "   winddirection_SW  winddirection_W  \n",
       "0                 0                0  \n",
       "1                 0                1  \n",
       "2                 0                0  \n",
       "3                 0                0  \n",
       "4                 0                0  \n",
       "5                 0                0  \n",
       "6                 0                0  \n",
       "7                 0                1  \n",
       "8                 0                1  \n",
       "9                 0                0  "
      ]
     },
     "execution_count": 408,
     "metadata": {},
     "output_type": "execute_result"
    }
   ],
   "source": [
    "#airquality_data = pd.read_csv('/content/drive/My Drive/Uni/Msc Comp Science/Year Two/Research/experiments/data/AirQuality/AirQo/Bugolobi(ambrosoli)/bugolobi.csv')\n",
    "\n",
    "root_data_dir = 'data'\n",
    "base_dir ='data\\AirQuality\\AirQo'\n",
    "\n",
    "#airquality_data = pd.read_csv(os.path.join(base_dir,'Makerere','merged_hourly_airquality_greenness_meteorological_dataset.csv'))\n",
    "#filepath = os.path.join(base_dir,'Makerere','SelectedFeatures')\n",
    "#filepath= os.path.join(base_dir,'Makerere','all_features')\n",
    "#filepath= os.path.join(base_dir,'Makerere','three_features')\n",
    "#sensor_type = 0\n",
    "\n",
    "#airquality_data = pd.read_csv(os.path.join(base_dir,'Bugolobi(ambrosoli)','merged_hourly_airquality_greenness_meteorological_dataset.csv'))\n",
    "#filepath = os.path.join(base_dir,'Bugolobi(ambrosoli)','SelectedFeatures')\n",
    "#filepath= os.path.join(base_dir,'Bugolobi(ambrosoli)','three_features')\n",
    "#sensor_type = 0\n",
    "\n",
    "#airquality_data = pd.read_csv(os.path.join(base_dir,'Mulago','merged_hourly_airquality_greenness_meteorological_dataset.csv'))\n",
    "#filepath= os.path.join(base_dir,'Mulago','SelectedFeatures')\n",
    "#filepath= os.path.join(base_dir,'Mulago','all_features')\n",
    "#filepath= os.path.join(base_dir,'Mulago','three_features')\n",
    "#sensor_type = 0\n",
    "\n",
    "#airquality_data = pd.read_csv(os.path.join(base_dir,'Makindye','merged_hourly_airquality_greenness_meteorological_dataset.csv'))\n",
    "#filepath = os.path.join(base_dir, 'Makindye','SelectedFeatures')\n",
    "#filepath= os.path.join(base_dir,'Makindye','all_features')\n",
    "#filepath= os.path.join(base_dir,'Makindye','three_features')\n",
    "#sensor_type = 0\n",
    "\n",
    "#airquality_data = pd.read_csv(os.path.join(base_dir,'Bukoto(kisu)','merged_hourly_airquality_greenness_meteorological_dataset.csv'))\n",
    "#filepath= os.path.join(base_dir,'Bukoto(kisu)', 'SelectedFeatures')\n",
    "#filepath= os.path.join(base_dir,'Bukoto(kisu)','all_features')\n",
    "#filepath= os.path.join(base_dir,'Bukoto(kisu)','three_features')\n",
    "#sensor_type = 0\n",
    "\n",
    "#airquality_data = pd.read_csv(os.path.join(base_dir,'Lubowa','merged_hourly_airquality_greenness_meteorological_dataset.csv'))\n",
    "#filepath = os.path.join(base_dir,'Lubowa','SelectedFeatures')\n",
    "#filepath= os.path.join(base_dir,'Lubowa','all_features')\n",
    "#filepath= os.path.join(base_dir,'Lubowa','three_features')\n",
    "#sensor_type = 0\n",
    "\n",
    "#airquality_data = pd.read_csv(os.path.join(base_dir,'Jinja_Road(NEMAHOUSE)','merged_hourly_airquality_greenness_meteorological_dataset.csv '))\n",
    "#filepath = os.path.join(base_dir,'Jinja_Road(NEMAHOUSE)','SelectedFeatures')\n",
    "#filepath= os.path.join(base_dir,'Jinja_Road(NEMAHOUSE)','all_features')\n",
    "#filepath= os.path.join(base_dir,'Jinja_Road(NEMAHOUSE)','three_features')\n",
    "#sensor_type = 1\n",
    "\n",
    "#airquality_data = pd.read_csv(os.path.join(base_dir,'Rubaga_Kabusu','merged_hourly_airquality_greenness_meteorological_dataset.csv'))\n",
    "#filepath = os.path.join(base_dir,'Rubaga_Kabusu','SelectedFeatures')\n",
    "#filepath= os.path.join(base_dir,'Rubaga_Kabusu','all_features')\n",
    "#filepath= os.path.join(base_dir,'Rubaga_Kabusu','three_features')\n",
    "#sensor_type = 1\n",
    "\n",
    "airquality_data = pd.read_csv(os.path.join(base_dir,'Kireka','merged_hourly_airquality_greenness_meteorological_dataset.csv'))\n",
    "#filepath = os.path.join(base_dir,'Kireka','SelectedFeatures')\n",
    "#filepath= os.path.join(base_dir,'Kireka','all_features')\n",
    "filepath= os.path.join(base_dir,'Kireka','three_features')\n",
    "#sensor_type = 1\n",
    "\n",
    "#airquality_data = pd.read_csv(os.path.join(base_dir, 'Nsambya(American_Embassy)','merged_hourly_airquality_greenness_meteorological_dataset.csv '))\n",
    "#filepath = os.path.join(base_dir, 'Nsambya(American_Embassy)','SelectedFeatures')\n",
    "#filepath= os.path.join(base_dir,'Nsambya(American_Embassy)','all_features')\n",
    "#filepath= os.path.join(base_dir,'Nsambya(American_Embassy)','three_features')\n",
    "sensor_type = 2\n",
    "\n",
    "airquality_data.head(10)"
   ]
  },
  {
   "cell_type": "code",
   "execution_count": 409,
   "metadata": {
    "colab": {},
    "colab_type": "code",
    "id": "ftQn1R_02W9o"
   },
   "outputs": [],
   "source": [
    "airquality_data_copy = airquality_data.copy()\n",
    "airquality_data[\"TimeStamp\"] = pd.to_datetime(airquality_data[\"TimeStamp\"])\n",
    "airquality_data = airquality_data.set_index('TimeStamp')"
   ]
  },
  {
   "cell_type": "markdown",
   "metadata": {},
   "source": [
    "### Feature Selection"
   ]
  },
  {
   "cell_type": "raw",
   "metadata": {},
   "source": [
    "correlations = pd.DataFrame(airquality_data).corr(method='pearson')\n",
    "correlations.to_csv(os.path.join(filepath, 'training_correlations.csv'))\n",
    "plt.figure(figsize=(24,12))\n",
    "training_features_corr_plot = sns.heatmap(correlations, annot=True, cmap=plt.cm.Reds)\n",
    "correlation_plot_figure = training_features_corr_plot.get_figure()    \n",
    "correlation_plot_figure.savefig(os.path.join(filepath ,\"training_correlations_heatmap_plot.png\"))\n",
    "plt.show()"
   ]
  },
  {
   "cell_type": "raw",
   "metadata": {},
   "source": [
    "from sklearn.tree import DecisionTreeRegressor\n",
    "from sklearn.feature_selection import SelectFromModel\n",
    "\n",
    "dr = DecisionTreeRegressor().fit(training_features, training_targets)\n",
    "dr.feature_importances_\n",
    "pd.Series(dr.feature_importances_, index=training_features.columns[0:]).plot.bar(color='steelblue', figsize=(12, 6))\n",
    "\n",
    "feature_importance_dictionary = {}\n",
    "for feature, importance in zip(training_features.columns, dr.feature_importances_):\n",
    "    feature_importance_dictionary[feature] = importance\n",
    "    \n",
    "feature_importances = pd.DataFrame.from_dict(feature_importance_dictionary, orient='index').rename(columns={0: 'Feature-importance'})\n",
    "feature_importances.sort_values(by='Feature-importance').plot(kind='bar', rot=90, figsize=(12,12))\n",
    "plt.savefig(os.path.join(filepath, 'feature_importance.png'))\n",
    "sorted_feature_importances = feature_importances.sort_values(by='Feature-importance')\n",
    "sorted_feature_importances.to_csv(os.path.join(filepath, 'feature_importance.csv'))"
   ]
  },
  {
   "cell_type": "code",
   "execution_count": 410,
   "metadata": {
    "colab": {},
    "colab_type": "code",
    "id": "Rl-Q0Swy2W9t"
   },
   "outputs": [],
   "source": [
    "if sensor_type == 0:\n",
    "    #pm1 and pm10 and pm2.5\n",
    "    airquality_data_for_selected_features = airquality_data.drop(['hour', 'EVI', 'NDVI',\n",
    "       'humidity (%)', 'precipitation (mm)', 'pressure (kPa)',\n",
    "       'radiation (W/m2)', 'windspeed (m/s)',\n",
    "       'winddirection_E', 'winddirection_N', 'winddirection_NE',\n",
    "       'winddirection_NW', 'winddirection_S', 'winddirection_SE',\n",
    "       'winddirection_SW', 'winddirection_W','temperature (oC)'], axis=1)\n",
    "    \n",
    "elif sensor_type == 1:\n",
    "    #'temperature (oC)','PM10(Ug/m3)'\n",
    "    airquality_data_for_selected_features = airquality_data.drop(['hour', 'EVI', 'NDVI',\n",
    "       'humidity (%)', 'precipitation (mm)', 'pressure (kPa)',\n",
    "       'radiation (W/m2)', 'windspeed (m/s)',\n",
    "       'winddirection_E', 'winddirection_N', 'winddirection_NE',\n",
    "       'winddirection_NW', 'winddirection_S', 'winddirection_SE',\n",
    "       'winddirection_SW', 'winddirection_W'], axis=1)\n",
    "    \n",
    "elif sensor_type == 2:\n",
    "    #temperature , hour\n",
    "    airquality_data_for_selected_features = airquality_data.drop([ 'EVI', 'NDVI',\n",
    "       'humidity (%)', 'precipitation (mm)', 'pressure (kPa)',\n",
    "       'radiation (W/m2)', 'windspeed (m/s)',\n",
    "       'winddirection_E', 'winddirection_N', 'winddirection_NE',\n",
    "       'winddirection_NW', 'winddirection_S', 'winddirection_SE',\n",
    "       'winddirection_SW', 'winddirection_W'], axis=1)\n",
    "    \n",
    "#temperature"
   ]
  },
  {
   "cell_type": "code",
   "execution_count": 411,
   "metadata": {
    "colab": {},
    "colab_type": "code",
    "id": "nCH7dg6uSby0"
   },
   "outputs": [
    {
     "data": {
      "text/html": [
       "<div>\n",
       "<style scoped>\n",
       "    .dataframe tbody tr th:only-of-type {\n",
       "        vertical-align: middle;\n",
       "    }\n",
       "\n",
       "    .dataframe tbody tr th {\n",
       "        vertical-align: top;\n",
       "    }\n",
       "\n",
       "    .dataframe thead th {\n",
       "        text-align: right;\n",
       "    }\n",
       "</style>\n",
       "<table border=\"1\" class=\"dataframe\">\n",
       "  <thead>\n",
       "    <tr style=\"text-align: right;\">\n",
       "      <th></th>\n",
       "      <th>PM2.5(Ug/m3)</th>\n",
       "      <th>PM10(Ug/m3)</th>\n",
       "      <th>hour</th>\n",
       "      <th>temperature (oC)</th>\n",
       "    </tr>\n",
       "    <tr>\n",
       "      <th>TimeStamp</th>\n",
       "      <th></th>\n",
       "      <th></th>\n",
       "      <th></th>\n",
       "      <th></th>\n",
       "    </tr>\n",
       "  </thead>\n",
       "  <tbody>\n",
       "    <tr>\n",
       "      <th>2019-03-14 22:00:00</th>\n",
       "      <td>29.15</td>\n",
       "      <td>33.20</td>\n",
       "      <td>22</td>\n",
       "      <td>22.65</td>\n",
       "    </tr>\n",
       "    <tr>\n",
       "      <th>2019-03-14 23:00:00</th>\n",
       "      <td>147.98</td>\n",
       "      <td>165.33</td>\n",
       "      <td>23</td>\n",
       "      <td>22.12</td>\n",
       "    </tr>\n",
       "    <tr>\n",
       "      <th>2019-03-15 00:00:00</th>\n",
       "      <td>146.83</td>\n",
       "      <td>166.99</td>\n",
       "      <td>0</td>\n",
       "      <td>21.82</td>\n",
       "    </tr>\n",
       "    <tr>\n",
       "      <th>2019-03-15 01:00:00</th>\n",
       "      <td>112.06</td>\n",
       "      <td>128.38</td>\n",
       "      <td>1</td>\n",
       "      <td>21.79</td>\n",
       "    </tr>\n",
       "    <tr>\n",
       "      <th>2019-03-15 02:00:00</th>\n",
       "      <td>84.10</td>\n",
       "      <td>95.38</td>\n",
       "      <td>2</td>\n",
       "      <td>21.06</td>\n",
       "    </tr>\n",
       "  </tbody>\n",
       "</table>\n",
       "</div>"
      ],
      "text/plain": [
       "                     PM2.5(Ug/m3)  PM10(Ug/m3)  hour  temperature (oC)\n",
       "TimeStamp                                                             \n",
       "2019-03-14 22:00:00         29.15        33.20    22             22.65\n",
       "2019-03-14 23:00:00        147.98       165.33    23             22.12\n",
       "2019-03-15 00:00:00        146.83       166.99     0             21.82\n",
       "2019-03-15 01:00:00        112.06       128.38     1             21.79\n",
       "2019-03-15 02:00:00         84.10        95.38     2             21.06"
      ]
     },
     "execution_count": 411,
     "metadata": {},
     "output_type": "execute_result"
    }
   ],
   "source": [
    "airquality_data_for_selected_features.head()"
   ]
  },
  {
   "cell_type": "code",
   "execution_count": 412,
   "metadata": {
    "colab": {},
    "colab_type": "code",
    "id": "Ho2ych4lB3cA"
   },
   "outputs": [
    {
     "data": {
      "text/html": [
       "<div>\n",
       "<style scoped>\n",
       "    .dataframe tbody tr th:only-of-type {\n",
       "        vertical-align: middle;\n",
       "    }\n",
       "\n",
       "    .dataframe tbody tr th {\n",
       "        vertical-align: top;\n",
       "    }\n",
       "\n",
       "    .dataframe thead th {\n",
       "        text-align: right;\n",
       "    }\n",
       "</style>\n",
       "<table border=\"1\" class=\"dataframe\">\n",
       "  <thead>\n",
       "    <tr style=\"text-align: right;\">\n",
       "      <th></th>\n",
       "      <th>PM2.5(Ug/m3)</th>\n",
       "      <th>PM10(Ug/m3)</th>\n",
       "      <th>hour</th>\n",
       "      <th>temperature (oC)</th>\n",
       "    </tr>\n",
       "    <tr>\n",
       "      <th>TimeStamp</th>\n",
       "      <th></th>\n",
       "      <th></th>\n",
       "      <th></th>\n",
       "      <th></th>\n",
       "    </tr>\n",
       "  </thead>\n",
       "  <tbody>\n",
       "    <tr>\n",
       "      <th>2019-05-30 06:00:00</th>\n",
       "      <td>77.64</td>\n",
       "      <td>84.77</td>\n",
       "      <td>6</td>\n",
       "      <td>19.07</td>\n",
       "    </tr>\n",
       "    <tr>\n",
       "      <th>2019-05-30 07:00:00</th>\n",
       "      <td>81.60</td>\n",
       "      <td>89.16</td>\n",
       "      <td>7</td>\n",
       "      <td>19.71</td>\n",
       "    </tr>\n",
       "    <tr>\n",
       "      <th>2019-05-30 08:00:00</th>\n",
       "      <td>72.84</td>\n",
       "      <td>80.19</td>\n",
       "      <td>8</td>\n",
       "      <td>21.57</td>\n",
       "    </tr>\n",
       "    <tr>\n",
       "      <th>2019-05-30 09:00:00</th>\n",
       "      <td>54.17</td>\n",
       "      <td>61.61</td>\n",
       "      <td>9</td>\n",
       "      <td>23.20</td>\n",
       "    </tr>\n",
       "    <tr>\n",
       "      <th>2019-05-30 10:00:00</th>\n",
       "      <td>29.48</td>\n",
       "      <td>32.61</td>\n",
       "      <td>10</td>\n",
       "      <td>24.67</td>\n",
       "    </tr>\n",
       "  </tbody>\n",
       "</table>\n",
       "</div>"
      ],
      "text/plain": [
       "                     PM2.5(Ug/m3)  PM10(Ug/m3)  hour  temperature (oC)\n",
       "TimeStamp                                                             \n",
       "2019-05-30 06:00:00         77.64        84.77     6             19.07\n",
       "2019-05-30 07:00:00         81.60        89.16     7             19.71\n",
       "2019-05-30 08:00:00         72.84        80.19     8             21.57\n",
       "2019-05-30 09:00:00         54.17        61.61     9             23.20\n",
       "2019-05-30 10:00:00         29.48        32.61    10             24.67"
      ]
     },
     "execution_count": 412,
     "metadata": {},
     "output_type": "execute_result"
    }
   ],
   "source": [
    "airquality_data_for_selected_features.tail()"
   ]
  },
  {
   "cell_type": "code",
   "execution_count": 413,
   "metadata": {
    "colab": {},
    "colab_type": "code",
    "id": "LueXKLM3B_DR"
   },
   "outputs": [
    {
     "name": "stdout",
     "output_type": "stream",
     "text": [
      "(1837, 4)\n",
      "['PM2.5(Ug/m3)', 'PM10(Ug/m3)', 'hour', 'temperature (oC)']\n",
      "<class 'pandas.core.frame.DataFrame'>\n",
      "DatetimeIndex: 1837 entries, 2019-03-14 22:00:00 to 2019-05-30 10:00:00\n",
      "Data columns (total 4 columns):\n",
      "PM2.5(Ug/m3)        1837 non-null float64\n",
      "PM10(Ug/m3)         1837 non-null float64\n",
      "hour                1837 non-null int64\n",
      "temperature (oC)    1837 non-null float64\n",
      "dtypes: float64(3), int64(1)\n",
      "memory usage: 71.8 KB\n",
      "\n",
      " dataframe info: \n",
      " None\n",
      "\n",
      " dataframe column datatypes:\n",
      " PM2.5(Ug/m3)        float64\n",
      "PM10(Ug/m3)         float64\n",
      "hour                  int64\n",
      "temperature (oC)    float64\n",
      "dtype: object\n"
     ]
    }
   ],
   "source": [
    "show_dataframe_info(airquality_data_for_selected_features)"
   ]
  },
  {
   "cell_type": "code",
   "execution_count": 414,
   "metadata": {
    "colab": {},
    "colab_type": "code",
    "id": "6inajEGHCWNw"
   },
   "outputs": [
    {
     "data": {
      "text/html": [
       "<div>\n",
       "<style scoped>\n",
       "    .dataframe tbody tr th:only-of-type {\n",
       "        vertical-align: middle;\n",
       "    }\n",
       "\n",
       "    .dataframe tbody tr th {\n",
       "        vertical-align: top;\n",
       "    }\n",
       "\n",
       "    .dataframe thead th {\n",
       "        text-align: right;\n",
       "    }\n",
       "</style>\n",
       "<table border=\"1\" class=\"dataframe\">\n",
       "  <thead>\n",
       "    <tr style=\"text-align: right;\">\n",
       "      <th></th>\n",
       "      <th>PM2.5(Ug/m3)</th>\n",
       "      <th>PM10(Ug/m3)</th>\n",
       "      <th>hour</th>\n",
       "      <th>temperature (oC)</th>\n",
       "    </tr>\n",
       "  </thead>\n",
       "  <tbody>\n",
       "    <tr>\n",
       "      <th>count</th>\n",
       "      <td>1837.000000</td>\n",
       "      <td>1837.000000</td>\n",
       "      <td>1837.000000</td>\n",
       "      <td>1837.000000</td>\n",
       "    </tr>\n",
       "    <tr>\n",
       "      <th>mean</th>\n",
       "      <td>101.900310</td>\n",
       "      <td>113.563658</td>\n",
       "      <td>11.473054</td>\n",
       "      <td>23.188487</td>\n",
       "    </tr>\n",
       "    <tr>\n",
       "      <th>std</th>\n",
       "      <td>85.904769</td>\n",
       "      <td>95.651466</td>\n",
       "      <td>6.931658</td>\n",
       "      <td>2.956188</td>\n",
       "    </tr>\n",
       "    <tr>\n",
       "      <th>min</th>\n",
       "      <td>12.460000</td>\n",
       "      <td>12.890000</td>\n",
       "      <td>0.000000</td>\n",
       "      <td>16.890000</td>\n",
       "    </tr>\n",
       "    <tr>\n",
       "      <th>25%</th>\n",
       "      <td>35.670000</td>\n",
       "      <td>40.910000</td>\n",
       "      <td>5.000000</td>\n",
       "      <td>20.970000</td>\n",
       "    </tr>\n",
       "    <tr>\n",
       "      <th>50%</th>\n",
       "      <td>70.990000</td>\n",
       "      <td>79.510000</td>\n",
       "      <td>11.000000</td>\n",
       "      <td>22.660000</td>\n",
       "    </tr>\n",
       "    <tr>\n",
       "      <th>75%</th>\n",
       "      <td>141.760000</td>\n",
       "      <td>156.440000</td>\n",
       "      <td>17.000000</td>\n",
       "      <td>25.390000</td>\n",
       "    </tr>\n",
       "    <tr>\n",
       "      <th>max</th>\n",
       "      <td>400.910000</td>\n",
       "      <td>456.290000</td>\n",
       "      <td>23.000000</td>\n",
       "      <td>31.200000</td>\n",
       "    </tr>\n",
       "  </tbody>\n",
       "</table>\n",
       "</div>"
      ],
      "text/plain": [
       "       PM2.5(Ug/m3)  PM10(Ug/m3)         hour  temperature (oC)\n",
       "count   1837.000000  1837.000000  1837.000000       1837.000000\n",
       "mean     101.900310   113.563658    11.473054         23.188487\n",
       "std       85.904769    95.651466     6.931658          2.956188\n",
       "min       12.460000    12.890000     0.000000         16.890000\n",
       "25%       35.670000    40.910000     5.000000         20.970000\n",
       "50%       70.990000    79.510000    11.000000         22.660000\n",
       "75%      141.760000   156.440000    17.000000         25.390000\n",
       "max      400.910000   456.290000    23.000000         31.200000"
      ]
     },
     "execution_count": 414,
     "metadata": {},
     "output_type": "execute_result"
    }
   ],
   "source": [
    "airquality_data_for_selected_features.describe()"
   ]
  },
  {
   "cell_type": "markdown",
   "metadata": {
    "colab_type": "text",
    "id": "_QqtVZw7Sb3i"
   },
   "source": [
    "### Separate Features From the Target"
   ]
  },
  {
   "cell_type": "code",
   "execution_count": 415,
   "metadata": {
    "colab": {},
    "colab_type": "code",
    "id": "y5tqylHa2W-Y"
   },
   "outputs": [
    {
     "data": {
      "text/plain": [
       "Index(['PM2.5(Ug/m3)', 'PM10(Ug/m3)', 'hour', 'temperature (oC)'], dtype='object')"
      ]
     },
     "execution_count": 415,
     "metadata": {},
     "output_type": "execute_result"
    }
   ],
   "source": [
    "airquality_data_for_selected_features.columns"
   ]
  },
  {
   "cell_type": "code",
   "execution_count": 416,
   "metadata": {},
   "outputs": [],
   "source": [
    "airquality_data_for_selected_features_copy = airquality_data_for_selected_features.copy()"
   ]
  },
  {
   "cell_type": "code",
   "execution_count": 417,
   "metadata": {
    "colab": {},
    "colab_type": "code",
    "id": "4sPre3D-2W-6"
   },
   "outputs": [],
   "source": [
    "airquality_data_for_selected_features = airquality_data_for_selected_features.values"
   ]
  },
  {
   "cell_type": "markdown",
   "metadata": {
    "colab_type": "text",
    "id": "LvOH8t25Sb4E"
   },
   "source": [
    "\n",
    "### separate test dataset from training dataset and validation dataset\n",
    "- separate data on 70/10/20 training/validation/testing\n"
   ]
  },
  {
   "cell_type": "code",
   "execution_count": 418,
   "metadata": {
    "colab": {},
    "colab_type": "code",
    "id": "ahZvu1i-2W_A"
   },
   "outputs": [
    {
     "name": "stdout",
     "output_type": "stream",
     "text": [
      "1285\n",
      "183\n",
      "367\n",
      "1835\n"
     ]
    }
   ],
   "source": [
    "training_data_length = math.floor(len(airquality_data_for_selected_features)* 0.7)\n",
    "print(training_data_length)\n",
    "\n",
    "validation_data_length = math.floor(len(airquality_data_for_selected_features)*0.1)\n",
    "print(validation_data_length)\n",
    "\n",
    "testing_data_length = math.floor(len(airquality_data_for_selected_features)* 0.2)\n",
    "print(testing_data_length)\n",
    "\n",
    "print(str(training_data_length + validation_data_length + testing_data_length ))"
   ]
  },
  {
   "cell_type": "code",
   "execution_count": 419,
   "metadata": {
    "colab": {},
    "colab_type": "code",
    "id": "yiqwv889Sb4E"
   },
   "outputs": [
    {
     "name": "stdout",
     "output_type": "stream",
     "text": [
      "(1285, 4)\n",
      "(183, 4)\n",
      "(367, 4)\n"
     ]
    }
   ],
   "source": [
    "training_data = airquality_data_for_selected_features[0:training_data_length,:]\n",
    "print(training_data.shape)\n",
    "\n",
    "validation_data = airquality_data_for_selected_features[training_data_length:training_data_length+validation_data_length,:]\n",
    "print(validation_data.shape)\n",
    "\n",
    "testing_data = airquality_data_for_selected_features[training_data_length+validation_data_length: training_data_length+validation_data_length+testing_data_length,:]\n",
    "print(testing_data.shape)\n",
    "\n"
   ]
  },
  {
   "cell_type": "markdown",
   "metadata": {
    "colab_type": "text",
    "id": "qchOsoA0Sb3A"
   },
   "source": [
    "### Preprocess the data to a format a neural network can ingest.\n",
    "- Normalising/Scaling data using minmax scaler in sklearn preprocessing for each dataset separately\n",
    "- Generationg sequential data from the recent past (e.g 3hrs), along with a target pm2.5 value in the future (next day)  for the\n",
    "  * training dataset\n",
    "  * validation dataset\n",
    "  * test dataset"
   ]
  },
  {
   "cell_type": "code",
   "execution_count": 420,
   "metadata": {
    "colab": {},
    "colab_type": "code",
    "id": "GpJLPXVa2W_b"
   },
   "outputs": [],
   "source": [
    "def generate_dataset_in_format_lstm_can_ingest(data, look_back=1):\n",
    "    x_data, y_data = [], []\n",
    "    for i in range(len(data)-look_back-1):\n",
    "        feature_data = data[i:(i+look_back), 0]\n",
    "        x_data.append(feature_data)\n",
    "        y_data.append(data[i + look_back, 0])\n",
    "    return np.array(x_data), np.array(y_data)"
   ]
  },
  {
   "cell_type": "code",
   "execution_count": 421,
   "metadata": {},
   "outputs": [],
   "source": [
    "## format series to supervised problem.. example obtained from machine learning mastery. Number of lag observations, number of observations as output\n",
    "def generate_multivariate_dataset_in_format_lstm_can_ingest(data, number_of_inputs, number_of_outputs, dropnan=True):\n",
    "    number_of_variables = 1 if type(data) is list else data.shape[1]\n",
    "    data_frame= pd.DataFrame(data)\n",
    "    columnsx, names = list(),list()\n",
    "    #generate input sequence (t-n, ... t-1)\n",
    "    for i in range(number_of_inputs, 0, -1):\n",
    "        columnsx.append(data_frame.shift(i))\n",
    "        names += [('var%d(t-%d)' % (j+1, i)) for j in range(number_of_variables)]\n",
    "       # forecast sequence (t, t+1, ... t+n)\n",
    "    for i in range(0, number_of_outputs):\n",
    "        columnsx.append(data_frame.shift(-i))\n",
    "        if i == 0:\n",
    "            names += [('var%d(t)' % (j+1)) for j in range(number_of_variables)]\n",
    "        else:\n",
    "            names += [('var%d(t+%d)' % (j+1, i)) for j in range(number_of_variables)]\n",
    "            \n",
    "    \n",
    "    aggregated_df = pd.concat(columnsx, axis=1)\n",
    "    aggregated_df.columns = names\n",
    "    \n",
    "    if dropnan:\n",
    "        aggregated_df.dropna(inplace=True)\n",
    "    return aggregated_df\n",
    "    "
   ]
  },
  {
   "cell_type": "markdown",
   "metadata": {
    "colab_type": "text",
    "id": "TDXADXdT2W_g"
   },
   "source": [
    "### given data that goes back a number of timesteps e.g 3hrs, can we predict the next hour."
   ]
  },
  {
   "cell_type": "markdown",
   "metadata": {
    "colab_type": "text",
    "id": "LpEnC6fs2W_h"
   },
   "source": [
    "### training dataset"
   ]
  },
  {
   "cell_type": "code",
   "execution_count": 422,
   "metadata": {},
   "outputs": [
    {
     "name": "stdout",
     "output_type": "stream",
     "text": [
      "Index(['var1(t-1)', 'var2(t-1)', 'var3(t-1)', 'var1(t)', 'var3(t)', 'var4(t)'], dtype='object')\n",
      "(1284, 1, 5) (1284,) (1284, 5)\n"
     ]
    },
    {
     "data": {
      "text/html": [
       "<div>\n",
       "<style scoped>\n",
       "    .dataframe tbody tr th:only-of-type {\n",
       "        vertical-align: middle;\n",
       "    }\n",
       "\n",
       "    .dataframe tbody tr th {\n",
       "        vertical-align: top;\n",
       "    }\n",
       "\n",
       "    .dataframe thead th {\n",
       "        text-align: right;\n",
       "    }\n",
       "</style>\n",
       "<table border=\"1\" class=\"dataframe\">\n",
       "  <thead>\n",
       "    <tr style=\"text-align: right;\">\n",
       "      <th></th>\n",
       "      <th>1</th>\n",
       "      <th>2</th>\n",
       "      <th>3</th>\n",
       "      <th>4</th>\n",
       "      <th>5</th>\n",
       "    </tr>\n",
       "  </thead>\n",
       "  <tbody>\n",
       "    <tr>\n",
       "      <th>var1(t-1)</th>\n",
       "      <td>29.15</td>\n",
       "      <td>147.98</td>\n",
       "      <td>146.83</td>\n",
       "      <td>112.06</td>\n",
       "      <td>84.10</td>\n",
       "    </tr>\n",
       "    <tr>\n",
       "      <th>var2(t-1)</th>\n",
       "      <td>33.20</td>\n",
       "      <td>165.33</td>\n",
       "      <td>166.99</td>\n",
       "      <td>128.38</td>\n",
       "      <td>95.38</td>\n",
       "    </tr>\n",
       "    <tr>\n",
       "      <th>var3(t-1)</th>\n",
       "      <td>22.00</td>\n",
       "      <td>23.00</td>\n",
       "      <td>0.00</td>\n",
       "      <td>1.00</td>\n",
       "      <td>2.00</td>\n",
       "    </tr>\n",
       "    <tr>\n",
       "      <th>var1(t)</th>\n",
       "      <td>147.98</td>\n",
       "      <td>146.83</td>\n",
       "      <td>112.06</td>\n",
       "      <td>84.10</td>\n",
       "      <td>70.99</td>\n",
       "    </tr>\n",
       "    <tr>\n",
       "      <th>var3(t)</th>\n",
       "      <td>23.00</td>\n",
       "      <td>0.00</td>\n",
       "      <td>1.00</td>\n",
       "      <td>2.00</td>\n",
       "      <td>3.00</td>\n",
       "    </tr>\n",
       "    <tr>\n",
       "      <th>var4(t)</th>\n",
       "      <td>22.12</td>\n",
       "      <td>21.82</td>\n",
       "      <td>21.79</td>\n",
       "      <td>21.06</td>\n",
       "      <td>20.89</td>\n",
       "    </tr>\n",
       "  </tbody>\n",
       "</table>\n",
       "</div>"
      ],
      "text/plain": [
       "                1       2       3       4      5\n",
       "var1(t-1)   29.15  147.98  146.83  112.06  84.10\n",
       "var2(t-1)   33.20  165.33  166.99  128.38  95.38\n",
       "var3(t-1)   22.00   23.00    0.00    1.00   2.00\n",
       "var1(t)    147.98  146.83  112.06   84.10  70.99\n",
       "var3(t)     23.00    0.00    1.00    2.00   3.00\n",
       "var4(t)     22.12   21.82   21.79   21.06  20.89"
      ]
     },
     "execution_count": 422,
     "metadata": {},
     "output_type": "execute_result"
    }
   ],
   "source": [
    "# reshape into X=t and Y=t+1 timesteps = lookback\n",
    "timesteps = 1\n",
    "number_of_features = 1\n",
    "number_of_outputs = 1\n",
    "transformed_training_data = generate_multivariate_dataset_in_format_lstm_can_ingest(training_data, timesteps, number_of_outputs)\n",
    "# drop columns we don't want to predict...21 is pm2.5 we want to predict\n",
    "if sensor_type == 0:\n",
    "    transformed_training_data.drop(transformed_training_data.columns[[3,5]], axis=1, inplace=True)\n",
    "    print(transformed_training_data.columns)\n",
    "elif sensor_type == 1:\n",
    "    transformed_training_data.drop(transformed_training_data.columns[[3,5]], axis=1, inplace=True)\n",
    "    print(transformed_training_data.columns)\n",
    "elif sensor_type == 2:\n",
    "    transformed_training_data.drop(transformed_training_data.columns[[3,5]], axis=1, inplace=True)\n",
    "    print(transformed_training_data.columns)\n",
    "\n",
    "\n",
    "transformed_training_data_values = transformed_training_data.values\n",
    "scaler = MinMaxScaler()\n",
    "training_features =transformed_training_data_values[:, :-1]\n",
    "scaled_training_features_original = scaler.fit_transform(training_features)\n",
    "training_targets = transformed_training_data_values[:, -1]\n",
    "\n",
    "scaled_training_features = np.reshape(scaled_training_features_original, \n",
    "                                      (scaled_training_features_original.shape[0], timesteps, scaled_training_features_original.shape[1]))\n",
    "print(scaled_training_features.shape, training_targets.shape, scaled_training_features_original.shape )\n",
    "transformed_training_data.head().T"
   ]
  },
  {
   "cell_type": "code",
   "execution_count": 423,
   "metadata": {},
   "outputs": [
    {
     "data": {
      "text/html": [
       "<div>\n",
       "<style scoped>\n",
       "    .dataframe tbody tr th:only-of-type {\n",
       "        vertical-align: middle;\n",
       "    }\n",
       "\n",
       "    .dataframe tbody tr th {\n",
       "        vertical-align: top;\n",
       "    }\n",
       "\n",
       "    .dataframe thead th {\n",
       "        text-align: right;\n",
       "    }\n",
       "</style>\n",
       "<table border=\"1\" class=\"dataframe\">\n",
       "  <thead>\n",
       "    <tr style=\"text-align: right;\">\n",
       "      <th></th>\n",
       "      <th>1</th>\n",
       "      <th>2</th>\n",
       "      <th>3</th>\n",
       "      <th>4</th>\n",
       "      <th>5</th>\n",
       "    </tr>\n",
       "  </thead>\n",
       "  <tbody>\n",
       "    <tr>\n",
       "      <th>var1(t-1)</th>\n",
       "      <td>29.15</td>\n",
       "      <td>147.98</td>\n",
       "      <td>146.83</td>\n",
       "      <td>112.06</td>\n",
       "      <td>84.10</td>\n",
       "    </tr>\n",
       "    <tr>\n",
       "      <th>var2(t-1)</th>\n",
       "      <td>33.20</td>\n",
       "      <td>165.33</td>\n",
       "      <td>166.99</td>\n",
       "      <td>128.38</td>\n",
       "      <td>95.38</td>\n",
       "    </tr>\n",
       "    <tr>\n",
       "      <th>var3(t-1)</th>\n",
       "      <td>22.00</td>\n",
       "      <td>23.00</td>\n",
       "      <td>0.00</td>\n",
       "      <td>1.00</td>\n",
       "      <td>2.00</td>\n",
       "    </tr>\n",
       "    <tr>\n",
       "      <th>var1(t)</th>\n",
       "      <td>147.98</td>\n",
       "      <td>146.83</td>\n",
       "      <td>112.06</td>\n",
       "      <td>84.10</td>\n",
       "      <td>70.99</td>\n",
       "    </tr>\n",
       "    <tr>\n",
       "      <th>var3(t)</th>\n",
       "      <td>23.00</td>\n",
       "      <td>0.00</td>\n",
       "      <td>1.00</td>\n",
       "      <td>2.00</td>\n",
       "      <td>3.00</td>\n",
       "    </tr>\n",
       "    <tr>\n",
       "      <th>var4(t)</th>\n",
       "      <td>22.12</td>\n",
       "      <td>21.82</td>\n",
       "      <td>21.79</td>\n",
       "      <td>21.06</td>\n",
       "      <td>20.89</td>\n",
       "    </tr>\n",
       "  </tbody>\n",
       "</table>\n",
       "</div>"
      ],
      "text/plain": [
       "                1       2       3       4      5\n",
       "var1(t-1)   29.15  147.98  146.83  112.06  84.10\n",
       "var2(t-1)   33.20  165.33  166.99  128.38  95.38\n",
       "var3(t-1)   22.00   23.00    0.00    1.00   2.00\n",
       "var1(t)    147.98  146.83  112.06   84.10  70.99\n",
       "var3(t)     23.00    0.00    1.00    2.00   3.00\n",
       "var4(t)     22.12   21.82   21.79   21.06  20.89"
      ]
     },
     "execution_count": 423,
     "metadata": {},
     "output_type": "execute_result"
    }
   ],
   "source": [
    "transformed_training_data.head().T"
   ]
  },
  {
   "cell_type": "markdown",
   "metadata": {
    "colab_type": "text",
    "id": "2rUqfzEj2XHf"
   },
   "source": [
    "### validation dataset"
   ]
  },
  {
   "cell_type": "code",
   "execution_count": 424,
   "metadata": {
    "colab": {},
    "colab_type": "code",
    "id": "9K3nO_QW2XHg"
   },
   "outputs": [
    {
     "name": "stdout",
     "output_type": "stream",
     "text": [
      "Index(['var1(t-1)', 'var2(t-1)', 'var3(t-1)', 'var1(t)', 'var3(t)', 'var4(t)'], dtype='object')\n",
      "(182, 1, 5) (182,) (182, 5)\n"
     ]
    },
    {
     "data": {
      "text/html": [
       "<div>\n",
       "<style scoped>\n",
       "    .dataframe tbody tr th:only-of-type {\n",
       "        vertical-align: middle;\n",
       "    }\n",
       "\n",
       "    .dataframe tbody tr th {\n",
       "        vertical-align: top;\n",
       "    }\n",
       "\n",
       "    .dataframe thead th {\n",
       "        text-align: right;\n",
       "    }\n",
       "</style>\n",
       "<table border=\"1\" class=\"dataframe\">\n",
       "  <thead>\n",
       "    <tr style=\"text-align: right;\">\n",
       "      <th></th>\n",
       "      <th>1</th>\n",
       "      <th>2</th>\n",
       "      <th>3</th>\n",
       "      <th>4</th>\n",
       "      <th>5</th>\n",
       "    </tr>\n",
       "  </thead>\n",
       "  <tbody>\n",
       "    <tr>\n",
       "      <th>var1(t-1)</th>\n",
       "      <td>32.11</td>\n",
       "      <td>23.05</td>\n",
       "      <td>17.53</td>\n",
       "      <td>15.46</td>\n",
       "      <td>19.88</td>\n",
       "    </tr>\n",
       "    <tr>\n",
       "      <th>var2(t-1)</th>\n",
       "      <td>35.57</td>\n",
       "      <td>24.57</td>\n",
       "      <td>18.60</td>\n",
       "      <td>16.36</td>\n",
       "      <td>21.22</td>\n",
       "    </tr>\n",
       "    <tr>\n",
       "      <th>var3(t-1)</th>\n",
       "      <td>11.00</td>\n",
       "      <td>12.00</td>\n",
       "      <td>13.00</td>\n",
       "      <td>14.00</td>\n",
       "      <td>15.00</td>\n",
       "    </tr>\n",
       "    <tr>\n",
       "      <th>var1(t)</th>\n",
       "      <td>23.05</td>\n",
       "      <td>17.53</td>\n",
       "      <td>15.46</td>\n",
       "      <td>19.88</td>\n",
       "      <td>14.05</td>\n",
       "    </tr>\n",
       "    <tr>\n",
       "      <th>var3(t)</th>\n",
       "      <td>12.00</td>\n",
       "      <td>13.00</td>\n",
       "      <td>14.00</td>\n",
       "      <td>15.00</td>\n",
       "      <td>16.00</td>\n",
       "    </tr>\n",
       "    <tr>\n",
       "      <th>var4(t)</th>\n",
       "      <td>24.52</td>\n",
       "      <td>25.57</td>\n",
       "      <td>25.91</td>\n",
       "      <td>25.90</td>\n",
       "      <td>26.00</td>\n",
       "    </tr>\n",
       "  </tbody>\n",
       "</table>\n",
       "</div>"
      ],
      "text/plain": [
       "               1      2      3      4      5\n",
       "var1(t-1)  32.11  23.05  17.53  15.46  19.88\n",
       "var2(t-1)  35.57  24.57  18.60  16.36  21.22\n",
       "var3(t-1)  11.00  12.00  13.00  14.00  15.00\n",
       "var1(t)    23.05  17.53  15.46  19.88  14.05\n",
       "var3(t)    12.00  13.00  14.00  15.00  16.00\n",
       "var4(t)    24.52  25.57  25.91  25.90  26.00"
      ]
     },
     "execution_count": 424,
     "metadata": {},
     "output_type": "execute_result"
    }
   ],
   "source": [
    "transformed_validation_data = generate_multivariate_dataset_in_format_lstm_can_ingest(validation_data, timesteps, number_of_outputs)\n",
    "\n",
    "if sensor_type == 0:\n",
    "    transformed_validation_data.drop(transformed_validation_data.columns[[3,5]], axis=1, inplace=True)\n",
    "    print(transformed_validation_data.columns)\n",
    "elif sensor_type == 1:\n",
    "    transformed_validation_data.drop(transformed_validation_data.columns[[3,5]], axis=1, inplace=True)\n",
    "    print(transformed_validation_data.columns)\n",
    "elif sensor_type == 2:\n",
    "    transformed_validation_data.drop(transformed_validation_data.columns[[3,5]], axis=1, inplace=True)\n",
    "    print(transformed_validation_data.columns)\n",
    "\n",
    "##convert dataframe to array form\n",
    "transformed_validation_data_values = transformed_validation_data.values\n",
    "validation_features = transformed_validation_data_values[:, :-1]\n",
    "validation_targets =  transformed_validation_data_values[:, -1]\n",
    "scaled_validation_features_original = scaler.fit_transform(validation_features)\n",
    "# reshape validation features to [samples, time steps, features]\n",
    "scaled_validation_features = np.reshape(scaled_validation_features_original, \n",
    "                                      (scaled_validation_features_original.shape[0], timesteps, scaled_validation_features_original.shape[1]))\n",
    "\n",
    "print(scaled_validation_features.shape, validation_targets.shape, scaled_validation_features_original.shape )\n",
    "transformed_validation_data.head().T\n"
   ]
  },
  {
   "cell_type": "markdown",
   "metadata": {
    "colab_type": "text",
    "id": "DNtoE6H22XHl"
   },
   "source": [
    "### Testing dataset"
   ]
  },
  {
   "cell_type": "code",
   "execution_count": 425,
   "metadata": {},
   "outputs": [
    {
     "name": "stdout",
     "output_type": "stream",
     "text": [
      "Index(['var1(t-1)', 'var2(t-1)', 'var3(t-1)', 'var1(t)', 'var3(t)', 'var4(t)'], dtype='object')\n",
      "(366, 1, 5) (366,) (366, 5)\n"
     ]
    },
    {
     "data": {
      "text/html": [
       "<div>\n",
       "<style scoped>\n",
       "    .dataframe tbody tr th:only-of-type {\n",
       "        vertical-align: middle;\n",
       "    }\n",
       "\n",
       "    .dataframe tbody tr th {\n",
       "        vertical-align: top;\n",
       "    }\n",
       "\n",
       "    .dataframe thead th {\n",
       "        text-align: right;\n",
       "    }\n",
       "</style>\n",
       "<table border=\"1\" class=\"dataframe\">\n",
       "  <thead>\n",
       "    <tr style=\"text-align: right;\">\n",
       "      <th></th>\n",
       "      <th>1</th>\n",
       "      <th>2</th>\n",
       "      <th>3</th>\n",
       "      <th>4</th>\n",
       "      <th>5</th>\n",
       "    </tr>\n",
       "  </thead>\n",
       "  <tbody>\n",
       "    <tr>\n",
       "      <th>var1(t-1)</th>\n",
       "      <td>224.28</td>\n",
       "      <td>55.88</td>\n",
       "      <td>51.11</td>\n",
       "      <td>29.13</td>\n",
       "      <td>54.04</td>\n",
       "    </tr>\n",
       "    <tr>\n",
       "      <th>var2(t-1)</th>\n",
       "      <td>257.76</td>\n",
       "      <td>62.73</td>\n",
       "      <td>56.42</td>\n",
       "      <td>32.04</td>\n",
       "      <td>62.13</td>\n",
       "    </tr>\n",
       "    <tr>\n",
       "      <th>var3(t-1)</th>\n",
       "      <td>2.00</td>\n",
       "      <td>3.00</td>\n",
       "      <td>4.00</td>\n",
       "      <td>5.00</td>\n",
       "      <td>6.00</td>\n",
       "    </tr>\n",
       "    <tr>\n",
       "      <th>var1(t)</th>\n",
       "      <td>55.88</td>\n",
       "      <td>51.11</td>\n",
       "      <td>29.13</td>\n",
       "      <td>54.04</td>\n",
       "      <td>65.53</td>\n",
       "    </tr>\n",
       "    <tr>\n",
       "      <th>var3(t)</th>\n",
       "      <td>3.00</td>\n",
       "      <td>4.00</td>\n",
       "      <td>5.00</td>\n",
       "      <td>6.00</td>\n",
       "      <td>7.00</td>\n",
       "    </tr>\n",
       "    <tr>\n",
       "      <th>var4(t)</th>\n",
       "      <td>17.41</td>\n",
       "      <td>17.93</td>\n",
       "      <td>18.22</td>\n",
       "      <td>18.45</td>\n",
       "      <td>18.45</td>\n",
       "    </tr>\n",
       "  </tbody>\n",
       "</table>\n",
       "</div>"
      ],
      "text/plain": [
       "                1      2      3      4      5\n",
       "var1(t-1)  224.28  55.88  51.11  29.13  54.04\n",
       "var2(t-1)  257.76  62.73  56.42  32.04  62.13\n",
       "var3(t-1)    2.00   3.00   4.00   5.00   6.00\n",
       "var1(t)     55.88  51.11  29.13  54.04  65.53\n",
       "var3(t)      3.00   4.00   5.00   6.00   7.00\n",
       "var4(t)     17.41  17.93  18.22  18.45  18.45"
      ]
     },
     "execution_count": 425,
     "metadata": {},
     "output_type": "execute_result"
    }
   ],
   "source": [
    "transformed_testing_data = generate_multivariate_dataset_in_format_lstm_can_ingest(testing_data,\n",
    "                                                                                   timesteps, number_of_outputs)\n",
    "\n",
    "if sensor_type == 0:\n",
    "    transformed_testing_data.drop(transformed_testing_data.columns[[3,5]], axis=1, inplace=True)\n",
    "elif sensor_type == 1:\n",
    "    transformed_testing_data.drop(transformed_testing_data.columns[[3,5]], axis=1, inplace=True)\n",
    "elif sensor_type == 2:\n",
    "    transformed_testing_data.drop(transformed_testing_data.columns[[3,5]], axis=1, inplace=True)\n",
    "\n",
    "print(transformed_testing_data.columns)\n",
    "\n",
    "transformed_testing_data_values = transformed_testing_data.values\n",
    "testing_features =  transformed_testing_data_values[:, :-1]\n",
    "testing_targets =  transformed_testing_data_values[:, -1]\n",
    "\n",
    "test_scaler = MinMaxScaler()\n",
    "scaled_testing_features_original = test_scaler.fit_transform(testing_features)\n",
    "# reshape testing features to [samples, timesteps, features]\n",
    "scaled_testing_features = np.reshape(scaled_testing_features_original, \n",
    "                                      (scaled_testing_features_original.shape[0], timesteps, scaled_testing_features_original.shape[1]))\n",
    "\n",
    "print(scaled_testing_features.shape, testing_targets.shape, scaled_testing_features_original.shape )\n",
    "transformed_testing_data.head().T"
   ]
  },
  {
   "cell_type": "markdown",
   "metadata": {
    "colab_type": "text",
    "id": "2NYYNr3J2XH5"
   },
   "source": [
    "### SUPPORT VECTOR REGRESSION APPROACH\n",
    "- Training and evaluation on support vector regression approach"
   ]
  },
  {
   "cell_type": "code",
   "execution_count": 426,
   "metadata": {
    "colab": {},
    "colab_type": "code",
    "id": "S0qt0M402XH6"
   },
   "outputs": [
    {
     "name": "stdout",
     "output_type": "stream",
     "text": [
      "(366,)\n",
      "[22.36665674 21.08635428 21.89488684 21.81504753 22.33972619 22.65290059\n",
      " 23.76450557 24.77155093 25.73139134 26.44708945 27.13939834 27.75511932\n",
      " 28.26780541 28.68030909 26.48756829 24.60232738 24.09880657 23.39835883\n",
      " 23.38974741 23.02922295 23.1710205  22.49206046 21.86955491 20.8693589\n",
      " 20.65646499 20.82376381 21.71714479 22.24014695 22.48344986 23.11767886\n",
      " 23.48408159 23.98340488 25.42920932 26.65740083 27.25593026 27.7995258\n",
      " 28.20364268 28.23246573 25.65207795 25.60756293 23.97358072 23.28170786\n",
      " 23.42444508 23.63126395 22.88551131 22.16080508 21.16714926 20.91811948\n",
      " 20.64138475 21.3729311  21.87680584 22.38361335 22.49579185 22.77867843\n",
      " 23.45689334 24.74820907 25.78714834 26.60795392 27.00871234 27.47133865\n",
      " 28.02832809 28.25962969 26.06809023 24.13198586 23.99986101 23.65689714\n",
      " 23.19253882 22.72546484 22.68426506 22.52888946 20.6453959  22.02108356\n",
      " 20.32101773 21.53694159 21.44272738 22.50125171 22.7305001  22.88235604\n",
      " 23.6550172  24.34017854 25.38290509 26.42518545 27.14932503 27.73741726\n",
      " 28.20486851 28.50458434 25.91877117 24.87102078 24.49584457 24.06272326\n",
      " 23.61736012 22.90402572 22.14857731 22.10140991 21.91409323 20.28220754\n",
      " 21.65941454 20.78732526 21.65284322 22.80313068 23.2245486  23.29299786\n",
      " 24.14003605 24.17013331 24.31507381 24.99044836 25.98452163 26.91545423\n",
      " 27.60702114 28.03853796 27.58471717 26.6383318  25.65251387 24.15725665\n",
      " 23.0105509  23.21594185 22.75488545 22.06548809 21.57302359 20.48268382\n",
      " 20.67558248 21.28330164 21.5345416  21.39869635 22.47126694 23.0176212\n",
      " 24.05225121 24.71243463 25.68819212 26.40769625 27.20373228 27.67631598\n",
      " 28.20328237 28.62676246 26.71823322 25.9257092  25.05638542 23.35325089\n",
      " 23.13404893 23.65905879 24.43346117 22.88790779 21.06832322 20.40425269\n",
      " 20.7167192  21.08001579 21.19062545 21.71546174 22.08713886 23.05532315\n",
      " 24.11427997 24.89816671 25.95662117 26.78574778 27.48324105 27.77228853\n",
      " 28.24672254 28.55030814 26.97253082 25.62651482 24.03449464 24.00277624\n",
      " 23.65874151 24.13793608 23.71206309 22.61385618 20.81070923 20.51148735\n",
      " 20.90901751 20.87189321 21.74586516 22.09667362 22.5315559  22.89966028\n",
      " 23.60459332 24.89391836 25.87131302 26.57109784 27.3554571  27.93724648\n",
      " 28.38954365 28.3905269  26.39928047 24.33377762 23.58588313 23.87335945\n",
      " 24.16897626 24.26797647 23.37534388 22.91135762 20.30678791 20.34560512\n",
      " 20.73672105 21.26517947 21.88755972 21.80992844 22.34096155 23.31078228\n",
      " 23.82187898 24.28238226 25.09879521 25.993183   26.69698811 27.39933166\n",
      " 28.11432797 28.36133087 25.85844134 25.98213213 24.14761228 23.72611566\n",
      " 24.05362505 24.12349739 23.22864915 22.3388931  21.15612386 20.09609906\n",
      " 20.73061044 21.46663666 22.72591906 22.09517716 22.70820285 23.35992488\n",
      " 23.45876838 24.38153442 24.84600012 25.37251728 26.33042391 27.05054436\n",
      " 27.51581562 28.06735469 27.93771428 25.98430553 24.08856091 23.36107878\n",
      " 24.25109902 25.18174883 23.33224876 22.23600633 21.89275652 22.16635593\n",
      " 20.84187665 20.97902659 20.64676488 22.27978904 22.64861069 23.54000367\n",
      " 24.20327509 24.91233449 25.95889952 26.81385286 27.28817463 27.89736373\n",
      " 28.42095716 28.42741868 25.91181086 24.94342144 24.03806633 23.52184842\n",
      " 22.99327601 22.64690492 22.18212637 22.10184382 21.99367801 20.8931898\n",
      " 21.4105722  21.13410632 21.75896971 22.17773816 22.88086114 23.36160002\n",
      " 23.93553774 24.36674523 25.40797433 26.57134657 27.13813546 27.60172564\n",
      " 28.17401759 28.62799661 27.72228864 25.12538109 23.83748537 23.69502499\n",
      " 23.2046882  22.63030474 22.12319114 22.19170518 20.74145139 20.99537225\n",
      " 20.36336185 21.50441108 21.87553388 22.19446345 22.77822049 23.44956661\n",
      " 23.98962363 24.90933169 25.85561085 26.53906589 26.9502122  27.56527112\n",
      " 28.20909609 27.64082089 26.87788434 26.16049982 25.05779327 23.46063643\n",
      " 23.0874101  23.24310663 22.60852972 22.05517119 21.7068886  21.21782788\n",
      " 20.77466075 20.79901497 21.43968514 21.58621833 21.94216112 22.27432715\n",
      " 23.12345612 24.60328708 25.75509786 26.7030204  27.43573635 27.92870795\n",
      " 28.2335824  28.40329686 26.99062103 24.70017771 23.97286194 23.42966508\n",
      " 23.22989641 23.01341346 22.30083598 22.1256968  21.46052546 21.06995418\n",
      " 20.88544953 21.06810521 21.3643453  21.6544955  22.08949542 22.72966228\n",
      " 23.63693021 24.57531681 25.44916563 26.25283428 26.94162875 27.48930967\n",
      " 27.92718643 28.1107579  26.42474062 24.53144353 23.77090681 23.5157053\n",
      " 23.08588006 22.68078656 22.30083598 22.1256968  21.46052546 21.06995418\n",
      " 20.88544953 21.06810521 21.3643453  21.6544955  22.08949542 22.72966228]\n"
     ]
    },
    {
     "name": "stderr",
     "output_type": "stream",
     "text": [
      "C:\\Users\\DELL\\Anaconda3\\envs\\airquality_prediction\\lib\\site-packages\\sklearn\\svm\\base.py:196: FutureWarning: The default value of gamma will change from 'auto' to 'scale' in version 0.22 to account better for unscaled features. Set gamma explicitly to 'auto' or 'scale' to avoid this warning.\n",
      "  \"avoid this warning.\", FutureWarning)\n"
     ]
    }
   ],
   "source": [
    "from sklearn.svm import SVR\n",
    "svr = SVR(kernel='rbf', degree=3, C=100, epsilon=0.1)\n",
    "# fit the model by fitting the SVM regressor to the training data\n",
    "svr.fit(scaled_training_features_original,training_targets.ravel())\n",
    "svr_predictions = svr.predict(scaled_testing_features_original)\n",
    "print(svr_predictions.shape)\n",
    "print(svr_predictions)"
   ]
  },
  {
   "cell_type": "code",
   "execution_count": 427,
   "metadata": {},
   "outputs": [
    {
     "data": {
      "text/plain": [
       "(366, 1)"
      ]
     },
     "execution_count": 427,
     "metadata": {},
     "output_type": "execute_result"
    }
   ],
   "source": [
    "svr_predictions = svr_predictions.reshape(-1, 1)\n",
    "svr_predictions.shape"
   ]
  },
  {
   "cell_type": "code",
   "execution_count": 428,
   "metadata": {},
   "outputs": [
    {
     "data": {
      "text/plain": [
       "(366, 5)"
      ]
     },
     "execution_count": 428,
     "metadata": {},
     "output_type": "execute_result"
    }
   ],
   "source": [
    "scaled_testing_features_original.shape"
   ]
  },
  {
   "cell_type": "markdown",
   "metadata": {},
   "source": [
    "### inverting the predictions and actual values from standardized form"
   ]
  },
  {
   "cell_type": "raw",
   "metadata": {},
   "source": [
    "svr_testing_predictions_unscaled = scaler.inverse_transform(svr_predictions)\n",
    "#print(testing_data_unscaled.shape)\n",
    "#restored_original_scaled_testing_data_shape.shape\n",
    "#testing_targets_unscaled[0:5]"
   ]
  },
  {
   "cell_type": "raw",
   "metadata": {},
   "source": [
    "svr_testing_predictions_unscaled.ravel()\n",
    "testing_targets.ravel()"
   ]
  },
  {
   "cell_type": "code",
   "execution_count": 429,
   "metadata": {},
   "outputs": [
    {
     "data": {
      "text/plain": [
       "array([22.36665674, 21.08635428, 21.89488684, 21.81504753, 22.33972619,\n",
       "       22.65290059, 23.76450557, 24.77155093, 25.73139134, 26.44708945,\n",
       "       27.13939834, 27.75511932, 28.26780541, 28.68030909, 26.48756829,\n",
       "       24.60232738, 24.09880657, 23.39835883, 23.38974741, 23.02922295,\n",
       "       23.1710205 , 22.49206046, 21.86955491, 20.8693589 , 20.65646499,\n",
       "       20.82376381, 21.71714479, 22.24014695, 22.48344986, 23.11767886,\n",
       "       23.48408159, 23.98340488, 25.42920932, 26.65740083, 27.25593026,\n",
       "       27.7995258 , 28.20364268, 28.23246573, 25.65207795, 25.60756293,\n",
       "       23.97358072, 23.28170786, 23.42444508, 23.63126395, 22.88551131,\n",
       "       22.16080508, 21.16714926, 20.91811948, 20.64138475, 21.3729311 ,\n",
       "       21.87680584, 22.38361335, 22.49579185, 22.77867843, 23.45689334,\n",
       "       24.74820907, 25.78714834, 26.60795392, 27.00871234, 27.47133865,\n",
       "       28.02832809, 28.25962969, 26.06809023, 24.13198586, 23.99986101,\n",
       "       23.65689714, 23.19253882, 22.72546484, 22.68426506, 22.52888946,\n",
       "       20.6453959 , 22.02108356, 20.32101773, 21.53694159, 21.44272738,\n",
       "       22.50125171, 22.7305001 , 22.88235604, 23.6550172 , 24.34017854,\n",
       "       25.38290509, 26.42518545, 27.14932503, 27.73741726, 28.20486851,\n",
       "       28.50458434, 25.91877117, 24.87102078, 24.49584457, 24.06272326,\n",
       "       23.61736012, 22.90402572, 22.14857731, 22.10140991, 21.91409323,\n",
       "       20.28220754, 21.65941454, 20.78732526, 21.65284322, 22.80313068,\n",
       "       23.2245486 , 23.29299786, 24.14003605, 24.17013331, 24.31507381,\n",
       "       24.99044836, 25.98452163, 26.91545423, 27.60702114, 28.03853796,\n",
       "       27.58471717, 26.6383318 , 25.65251387, 24.15725665, 23.0105509 ,\n",
       "       23.21594185, 22.75488545, 22.06548809, 21.57302359, 20.48268382,\n",
       "       20.67558248, 21.28330164, 21.5345416 , 21.39869635, 22.47126694,\n",
       "       23.0176212 , 24.05225121, 24.71243463, 25.68819212, 26.40769625,\n",
       "       27.20373228, 27.67631598, 28.20328237, 28.62676246, 26.71823322,\n",
       "       25.9257092 , 25.05638542, 23.35325089, 23.13404893, 23.65905879,\n",
       "       24.43346117, 22.88790779, 21.06832322, 20.40425269, 20.7167192 ,\n",
       "       21.08001579, 21.19062545, 21.71546174, 22.08713886, 23.05532315,\n",
       "       24.11427997, 24.89816671, 25.95662117, 26.78574778, 27.48324105,\n",
       "       27.77228853, 28.24672254, 28.55030814, 26.97253082, 25.62651482,\n",
       "       24.03449464, 24.00277624, 23.65874151, 24.13793608, 23.71206309,\n",
       "       22.61385618, 20.81070923, 20.51148735, 20.90901751, 20.87189321,\n",
       "       21.74586516, 22.09667362, 22.5315559 , 22.89966028, 23.60459332,\n",
       "       24.89391836, 25.87131302, 26.57109784, 27.3554571 , 27.93724648,\n",
       "       28.38954365, 28.3905269 , 26.39928047, 24.33377762, 23.58588313,\n",
       "       23.87335945, 24.16897626, 24.26797647, 23.37534388, 22.91135762,\n",
       "       20.30678791, 20.34560512, 20.73672105, 21.26517947, 21.88755972,\n",
       "       21.80992844, 22.34096155, 23.31078228, 23.82187898, 24.28238226,\n",
       "       25.09879521, 25.993183  , 26.69698811, 27.39933166, 28.11432797,\n",
       "       28.36133087, 25.85844134, 25.98213213, 24.14761228, 23.72611566,\n",
       "       24.05362505, 24.12349739, 23.22864915, 22.3388931 , 21.15612386,\n",
       "       20.09609906, 20.73061044, 21.46663666, 22.72591906, 22.09517716,\n",
       "       22.70820285, 23.35992488, 23.45876838, 24.38153442, 24.84600012,\n",
       "       25.37251728, 26.33042391, 27.05054436, 27.51581562, 28.06735469,\n",
       "       27.93771428, 25.98430553, 24.08856091, 23.36107878, 24.25109902,\n",
       "       25.18174883, 23.33224876, 22.23600633, 21.89275652, 22.16635593,\n",
       "       20.84187665, 20.97902659, 20.64676488, 22.27978904, 22.64861069,\n",
       "       23.54000367, 24.20327509, 24.91233449, 25.95889952, 26.81385286,\n",
       "       27.28817463, 27.89736373, 28.42095716, 28.42741868, 25.91181086,\n",
       "       24.94342144, 24.03806633, 23.52184842, 22.99327601, 22.64690492,\n",
       "       22.18212637, 22.10184382, 21.99367801, 20.8931898 , 21.4105722 ,\n",
       "       21.13410632, 21.75896971, 22.17773816, 22.88086114, 23.36160002,\n",
       "       23.93553774, 24.36674523, 25.40797433, 26.57134657, 27.13813546,\n",
       "       27.60172564, 28.17401759, 28.62799661, 27.72228864, 25.12538109,\n",
       "       23.83748537, 23.69502499, 23.2046882 , 22.63030474, 22.12319114,\n",
       "       22.19170518, 20.74145139, 20.99537225, 20.36336185, 21.50441108,\n",
       "       21.87553388, 22.19446345, 22.77822049, 23.44956661, 23.98962363,\n",
       "       24.90933169, 25.85561085, 26.53906589, 26.9502122 , 27.56527112,\n",
       "       28.20909609, 27.64082089, 26.87788434, 26.16049982, 25.05779327,\n",
       "       23.46063643, 23.0874101 , 23.24310663, 22.60852972, 22.05517119,\n",
       "       21.7068886 , 21.21782788, 20.77466075, 20.79901497, 21.43968514,\n",
       "       21.58621833, 21.94216112, 22.27432715, 23.12345612, 24.60328708,\n",
       "       25.75509786, 26.7030204 , 27.43573635, 27.92870795, 28.2335824 ,\n",
       "       28.40329686, 26.99062103, 24.70017771, 23.97286194, 23.42966508,\n",
       "       23.22989641, 23.01341346, 22.30083598, 22.1256968 , 21.46052546,\n",
       "       21.06995418, 20.88544953, 21.06810521, 21.3643453 , 21.6544955 ,\n",
       "       22.08949542, 22.72966228, 23.63693021, 24.57531681, 25.44916563,\n",
       "       26.25283428, 26.94162875, 27.48930967, 27.92718643, 28.1107579 ,\n",
       "       26.42474062, 24.53144353, 23.77090681, 23.5157053 , 23.08588006,\n",
       "       22.68078656, 22.30083598, 22.1256968 , 21.46052546, 21.06995418,\n",
       "       20.88544953, 21.06810521, 21.3643453 , 21.6544955 , 22.08949542,\n",
       "       22.72966228])"
      ]
     },
     "execution_count": 429,
     "metadata": {},
     "output_type": "execute_result"
    }
   ],
   "source": [
    "svr_predictions.ravel()"
   ]
  },
  {
   "cell_type": "code",
   "execution_count": 430,
   "metadata": {
    "colab": {},
    "colab_type": "code",
    "id": "G0ZZNqj72XH-"
   },
   "outputs": [
    {
     "name": "stdout",
     "output_type": "stream",
     "text": [
      "SVR MAE:  2.18\n",
      "SVR RMSE:  2.62\n"
     ]
    }
   ],
   "source": [
    "#svr_testing_predictions_unscaled = scaler.inverse_transform(svr_predictions)\n",
    "svr_mae = mean_absolute_error(testing_targets, svr_predictions)\n",
    "print('SVR MAE: ', svr_mae.round(2))\n",
    "svr_rmse = calculate_rmse(testing_targets, svr_predictions)\n",
    "print('SVR RMSE: ', svr_rmse.round(2))\n",
    "svr_prediction_vs_actual_dataframe = pd.DataFrame({'Actual PM2.5': testing_targets.ravel(), 'Predicted PM2.5':svr_predictions.ravel()}) \n",
    "svr_prediction_vs_actual_dataframe\n",
    "\n",
    "## save predictions by svr\n",
    "svr_prediction_vs_actual_dataframe.to_csv(os.path.join(filepath , 'svr_predictions.csv'))"
   ]
  },
  {
   "cell_type": "code",
   "execution_count": 431,
   "metadata": {},
   "outputs": [
    {
     "data": {
      "image/png": "[encoded data removed]",
      "text/plain": [
       "<Figure size 864x432 with 1 Axes>"
      ]
     },
     "metadata": {
      "needs_background": "light"
     },
     "output_type": "display_data"
    }
   ],
   "source": [
    "fig_svr_predictions_vs_actual = plt.figure(figsize=(12,6))\n",
    "ax_fig_svr_predictions_vs_actual = fig_svr_predictions_vs_actual.add_subplot(111)\n",
    "plt.plot(testing_targets, color = 'red', label = 'Actual PM2.5 Values')\n",
    "plt.plot(svr_predictions, color = 'blue', label = 'Predicted PM2.5 Values')\n",
    "plt.title('Predicted PM2.5  Vs Actual PM2.5 ')\n",
    "plt.xlabel('PM2.5 Records')\n",
    "plt.ylabel('PM2.5 Values')\n",
    "plt.legend()\n",
    "\n",
    "fig_svr_predictions_vs_actual.savefig(os.path.join(filepath, 'svr_model_prediction_vs_actual.png'))"
   ]
  },
  {
   "cell_type": "markdown",
   "metadata": {
    "colab_type": "text",
    "id": "NWJELt102XID"
   },
   "source": [
    "### BASIC LSTM MODOEL\n",
    "- Training and evaluating on basic lstm model with one layer"
   ]
  },
  {
   "cell_type": "code",
   "execution_count": 432,
   "metadata": {},
   "outputs": [
    {
     "data": {
      "text/plain": [
       "(1, 5)"
      ]
     },
     "execution_count": 432,
     "metadata": {},
     "output_type": "execute_result"
    }
   ],
   "source": [
    "scaled_training_features.shape[1], scaled_training_features.shape[2]"
   ]
  },
  {
   "cell_type": "code",
   "execution_count": 433,
   "metadata": {
    "colab": {},
    "colab_type": "code",
    "id": "LUzooi-O2XIE"
   },
   "outputs": [
    {
     "name": "stdout",
     "output_type": "stream",
     "text": [
      "Train on 1284 samples, validate on 182 samples\n",
      "Epoch 1/50\n",
      "1284/1284 [==============================] - 13s 10ms/step - loss: 571.6591 - mean_absolute_error: 23.7188 - rmse: 23.9026 - val_loss: 504.1157 - val_mean_absolute_error: 22.3213 - val_rmse: 22.4468\n",
      "Epoch 2/50\n",
      "1284/1284 [==============================] - 0s 115us/step - loss: 563.8168 - mean_absolute_error: 23.5535 - rmse: 23.7375 - val_loss: 496.3863 - val_mean_absolute_error: 22.1479 - val_rmse: 22.2739\n",
      "Epoch 3/50\n",
      "1284/1284 [==============================] - 0s 103us/step - loss: 554.5642 - mean_absolute_error: 23.3565 - rmse: 23.5413 - val_loss: 486.7187 - val_mean_absolute_error: 21.9286 - val_rmse: 22.0557\n",
      "Epoch 4/50\n",
      "1284/1284 [==============================] - 0s 126us/step - loss: 542.6671 - mean_absolute_error: 23.1007 - rmse: 23.2905 - val_loss: 474.3956 - val_mean_absolute_error: 21.6455 - val_rmse: 21.7744\n",
      "Epoch 5/50\n",
      "1284/1284 [==============================] - 0s 121us/step - loss: 527.7405 - mean_absolute_error: 22.7740 - rmse: 22.9652 - val_loss: 459.0416 - val_mean_absolute_error: 21.2870 - val_rmse: 21.4187\n",
      "Epoch 6/50\n",
      "1284/1284 [==============================] - 0s 121us/step - loss: 509.5368 - mean_absolute_error: 22.3695 - rmse: 22.5659 - val_loss: 440.8608 - val_mean_absolute_error: 20.8535 - val_rmse: 20.9897\n",
      "Epoch 7/50\n",
      "1284/1284 [==============================] - 0s 130us/step - loss: 488.4255 - mean_absolute_error: 21.8906 - rmse: 22.0930 - val_loss: 420.2013 - val_mean_absolute_error: 20.3488 - val_rmse: 20.4914\n",
      "Epoch 8/50\n",
      "1284/1284 [==============================] - 0s 126us/step - loss: 465.2176 - mean_absolute_error: 21.3496 - rmse: 21.5609 - val_loss: 398.1569 - val_mean_absolute_error: 19.7957 - val_rmse: 19.9460\n",
      "Epoch 9/50\n",
      "1284/1284 [==============================] - 0s 122us/step - loss: 440.9334 - mean_absolute_error: 20.7692 - rmse: 20.9861 - val_loss: 375.4362 - val_mean_absolute_error: 19.2089 - val_rmse: 19.3678\n",
      "Epoch 10/50\n",
      "1284/1284 [==============================] - 0s 134us/step - loss: 416.3628 - mean_absolute_error: 20.1650 - rmse: 20.3910 - val_loss: 352.7587 - val_mean_absolute_error: 18.6053 - val_rmse: 18.7730\n",
      "Epoch 11/50\n",
      "1284/1284 [==============================] - 0s 122us/step - loss: 392.2504 - mean_absolute_error: 19.5571 - rmse: 19.8009 - val_loss: 330.8077 - val_mean_absolute_error: 18.0030 - val_rmse: 18.1787\n",
      "Epoch 12/50\n",
      "1284/1284 [==============================] - 0s 134us/step - loss: 369.1015 - mean_absolute_error: 18.9539 - rmse: 19.2016 - val_loss: 309.8436 - val_mean_absolute_error: 17.4108 - val_rmse: 17.5926\n",
      "Epoch 13/50\n",
      "1284/1284 [==============================] - 0s 134us/step - loss: 347.2479 - mean_absolute_error: 18.3716 - rmse: 18.6259 - val_loss: 290.2572 - val_mean_absolute_error: 16.8418 - val_rmse: 17.0268\n",
      "Epoch 14/50\n",
      "1284/1284 [==============================] - 0s 134us/step - loss: 326.6711 - mean_absolute_error: 17.8091 - rmse: 18.0638 - val_loss: 271.7251 - val_mean_absolute_error: 16.2878 - val_rmse: 16.4735\n",
      "Epoch 15/50\n",
      "1284/1284 [==============================] - 0s 122us/step - loss: 307.2559 - mean_absolute_error: 17.2635 - rmse: 17.5211 - val_loss: 254.3990 - val_mean_absolute_error: 15.7537 - val_rmse: 15.9389\n",
      "Epoch 16/50\n",
      "1284/1284 [==============================] - 0s 146us/step - loss: 288.7909 - mean_absolute_error: 16.7289 - rmse: 16.9850 - val_loss: 237.7353 - val_mean_absolute_error: 15.2236 - val_rmse: 15.4073\n",
      "Epoch 17/50\n",
      "1284/1284 [==============================] - 0s 143us/step - loss: 271.1830 - mean_absolute_error: 16.2014 - rmse: 16.4583 - val_loss: 221.9956 - val_mean_absolute_error: 14.7058 - val_rmse: 14.8877\n",
      "Epoch 18/50\n",
      "1284/1284 [==============================] - 0s 134us/step - loss: 254.5609 - mean_absolute_error: 15.6869 - rmse: 15.9449 - val_loss: 207.2515 - val_mean_absolute_error: 14.2032 - val_rmse: 14.3840\n",
      "Epoch 19/50\n",
      "1284/1284 [==============================] - 0s 122us/step - loss: 238.9923 - mean_absolute_error: 15.1928 - rmse: 15.4472 - val_loss: 193.5672 - val_mean_absolute_error: 13.7195 - val_rmse: 13.9003\n",
      "Epoch 20/50\n",
      "1284/1284 [==============================] - 0s 134us/step - loss: 224.5774 - mean_absolute_error: 14.7183 - rmse: 14.9798 - val_loss: 180.8482 - val_mean_absolute_error: 13.2531 - val_rmse: 13.4352\n",
      "Epoch 21/50\n",
      "1284/1284 [==============================] - 0s 110us/step - loss: 211.2424 - mean_absolute_error: 14.2620 - rmse: 14.5212 - val_loss: 169.0993 - val_mean_absolute_error: 12.8062 - val_rmse: 12.9908\n",
      "Epoch 22/50\n",
      "1284/1284 [==============================] - 0s 110us/step - loss: 198.9969 - mean_absolute_error: 13.8292 - rmse: 14.0939 - val_loss: 158.3184 - val_mean_absolute_error: 12.3808 - val_rmse: 12.5692\n",
      "Epoch 23/50\n",
      "1284/1284 [==============================] - 0s 134us/step - loss: 187.8093 - mean_absolute_error: 13.4218 - rmse: 13.6960 - val_loss: 148.5869 - val_mean_absolute_error: 11.9825 - val_rmse: 12.1762\n",
      "Epoch 24/50\n",
      "1284/1284 [==============================] - 0s 134us/step - loss: 177.6301 - mean_absolute_error: 13.0374 - rmse: 13.3187 - val_loss: 139.6490 - val_mean_absolute_error: 11.6037 - val_rmse: 11.8038\n",
      "Epoch 25/50\n",
      "1284/1284 [==============================] - 0s 124us/step - loss: 168.2926 - mean_absolute_error: 12.6737 - rmse: 12.9632 - val_loss: 131.4687 - val_mean_absolute_error: 11.2449 - val_rmse: 11.4523\n",
      "Epoch 26/50\n",
      "1284/1284 [==============================] - 0s 131us/step - loss: 159.6584 - mean_absolute_error: 12.3294 - rmse: 12.6251 - val_loss: 123.9686 - val_mean_absolute_error: 10.9048 - val_rmse: 11.1202\n",
      "Epoch 27/50\n",
      "1284/1284 [==============================] - 0s 145us/step - loss: 151.6527 - mean_absolute_error: 11.9987 - rmse: 12.2991 - val_loss: 116.9688 - val_mean_absolute_error: 10.5773 - val_rmse: 10.8012\n",
      "Epoch 28/50\n",
      "1284/1284 [==============================] - 0s 124us/step - loss: 144.1701 - mean_absolute_error: 11.6796 - rmse: 11.9918 - val_loss: 110.4260 - val_mean_absolute_error: 10.2615 - val_rmse: 10.4941\n",
      "Epoch 29/50\n",
      "1284/1284 [==============================] - 0s 129us/step - loss: 137.1378 - mean_absolute_error: 11.3733 - rmse: 11.6968 - val_loss: 104.3306 - val_mean_absolute_error: 9.9580 - val_rmse: 10.1997\n",
      "Epoch 30/50\n",
      "1284/1284 [==============================] - 0s 119us/step - loss: 130.5211 - mean_absolute_error: 11.0756 - rmse: 11.4103 - val_loss: 98.5690 - val_mean_absolute_error: 9.6624 - val_rmse: 9.9134\n",
      "Epoch 31/50\n",
      "1284/1284 [==============================] - 0s 124us/step - loss: 124.2381 - mean_absolute_error: 10.7867 - rmse: 11.1299 - val_loss: 93.1420 - val_mean_absolute_error: 9.3752 - val_rmse: 9.6359\n",
      "Epoch 32/50\n",
      "1284/1284 [==============================] - 0s 142us/step - loss: 118.2811 - mean_absolute_error: 10.5044 - rmse: 10.8645 - val_loss: 88.0078 - val_mean_absolute_error: 9.0953 - val_rmse: 9.3658\n",
      "Epoch 33/50\n",
      "1284/1284 [==============================] - 0s 122us/step - loss: 112.6183 - mean_absolute_error: 10.2302 - rmse: 10.5972 - val_loss: 83.1476 - val_mean_absolute_error: 8.8222 - val_rmse: 9.1027\n",
      "Epoch 34/50\n",
      "1284/1284 [==============================] - 0s 118us/step - loss: 107.2445 - mean_absolute_error: 9.9622 - rmse: 10.3418 - val_loss: 78.5396 - val_mean_absolute_error: 8.5551 - val_rmse: 8.8461\n",
      "Epoch 35/50\n",
      "1284/1284 [==============================] - 0s 134us/step - loss: 102.1075 - mean_absolute_error: 9.6993 - rmse: 10.0881 - val_loss: 74.1627 - val_mean_absolute_error: 8.2934 - val_rmse: 8.5952\n",
      "Epoch 36/50\n",
      "1284/1284 [==============================] - 0s 122us/step - loss: 97.2010 - mean_absolute_error: 9.4403 - rmse: 9.8474 - val_loss: 69.9946 - val_mean_absolute_error: 8.0365 - val_rmse: 8.3493\n",
      "Epoch 37/50\n",
      "1284/1284 [==============================] - 0s 122us/step - loss: 92.5287 - mean_absolute_error: 9.1876 - rmse: 9.6035 - val_loss: 66.0556 - val_mean_absolute_error: 7.7859 - val_rmse: 8.1101\n",
      "Epoch 38/50\n",
      "1284/1284 [==============================] - 0s 122us/step - loss: 88.0623 - mean_absolute_error: 8.9402 - rmse: 9.3735 - val_loss: 62.3104 - val_mean_absolute_error: 7.5400 - val_rmse: 7.8760\n",
      "Epoch 39/50\n",
      "1284/1284 [==============================] - 0s 125us/step - loss: 83.8185 - mean_absolute_error: 8.6975 - rmse: 9.1410 - val_loss: 58.7501 - val_mean_absolute_error: 7.2986 - val_rmse: 7.6468\n"
     ]
    },
    {
     "name": "stdout",
     "output_type": "stream",
     "text": [
      "Epoch 40/50\n",
      "1284/1284 [==============================] - 0s 139us/step - loss: 79.7574 - mean_absolute_error: 8.4595 - rmse: 8.9127 - val_loss: 55.3760 - val_mean_absolute_error: 7.0623 - val_rmse: 7.4230\n",
      "Epoch 41/50\n",
      "1284/1284 [==============================] - 0s 126us/step - loss: 75.8841 - mean_absolute_error: 8.2263 - rmse: 8.6936 - val_loss: 52.1931 - val_mean_absolute_error: 6.8320 - val_rmse: 7.2056\n",
      "Epoch 42/50\n",
      "1284/1284 [==============================] - 0s 105us/step - loss: 72.1820 - mean_absolute_error: 7.9963 - rmse: 8.4774 - val_loss: 49.1314 - val_mean_absolute_error: 6.6030 - val_rmse: 6.9901\n",
      "Epoch 43/50\n",
      "1284/1284 [==============================] - 0s 110us/step - loss: 68.6615 - mean_absolute_error: 7.7716 - rmse: 8.2663 - val_loss: 46.2546 - val_mean_absolute_error: 6.3803 - val_rmse: 6.7814\n",
      "Epoch 44/50\n",
      "1284/1284 [==============================] - 0s 134us/step - loss: 65.3121 - mean_absolute_error: 7.5513 - rmse: 8.0676 - val_loss: 43.5334 - val_mean_absolute_error: 6.1624 - val_rmse: 6.5779\n",
      "Epoch 45/50\n",
      "1284/1284 [==============================] - 0s 122us/step - loss: 62.0982 - mean_absolute_error: 7.3353 - rmse: 7.8629 - val_loss: 40.9439 - val_mean_absolute_error: 5.9478 - val_rmse: 6.3783\n",
      "Epoch 46/50\n",
      "1284/1284 [==============================] - 0s 122us/step - loss: 59.0509 - mean_absolute_error: 7.1212 - rmse: 7.6574 - val_loss: 38.4787 - val_mean_absolute_error: 5.7361 - val_rmse: 6.1822\n",
      "Epoch 47/50\n",
      "1284/1284 [==============================] - 0s 117us/step - loss: 56.1389 - mean_absolute_error: 6.9138 - rmse: 7.4788 - val_loss: 36.1738 - val_mean_absolute_error: 5.5308 - val_rmse: 5.9932\n",
      "Epoch 48/50\n",
      "1284/1284 [==============================] - 0s 132us/step - loss: 53.3615 - mean_absolute_error: 6.7087 - rmse: 7.2891 - val_loss: 33.9720 - val_mean_absolute_error: 5.3273 - val_rmse: 5.8069\n",
      "Epoch 49/50\n",
      "1284/1284 [==============================] - 0s 116us/step - loss: 50.7341 - mean_absolute_error: 6.5087 - rmse: 7.1009 - val_loss: 31.9089 - val_mean_absolute_error: 5.1294 - val_rmse: 5.6267\n",
      "Epoch 50/50\n",
      "1284/1284 [==============================] - 0s 119us/step - loss: 48.2321 - mean_absolute_error: 6.3138 - rmse: 6.9223 - val_loss: 29.9627 - val_mean_absolute_error: 4.9355 - val_rmse: 5.4513\n"
     ]
    }
   ],
   "source": [
    "from tensorflow.keras.models import Sequential, load_model\n",
    "from tensorflow.keras.layers import Dense, LSTM\n",
    "from tensorflow.keras.optimizers import RMSprop\n",
    "from tensorflow.keras import backend\n",
    "from tensorflow.keras.utils import plot_model\n",
    "from tensorflow.keras.callbacks import EarlyStopping, ModelCheckpoint\n",
    "#from keras.models import load_model\n",
    "\n",
    "def rmse(y_true, y_pred):\n",
    "    return backend.sqrt(backend.mean(backend.square(y_pred - y_true)))\n",
    "\n",
    "def root_mean_squared_error(y_true, y_pred):\n",
    "        return backend.sqrt(backend.mean(backend.square(y_pred - y_true)))\n",
    "\n",
    "model = Sequential()\n",
    "model.add(LSTM(8, input_shape = (scaled_training_features.shape[1], scaled_training_features.shape[2]))) #timesteps, seq_length(no of features)\n",
    "model.add(Dense(1))\n",
    "\n",
    "callbacks_list = [\n",
    "    EarlyStopping(  # interrupts training when improvement stops \n",
    "        monitor='val_loss', \n",
    "        patience=10, \n",
    "        mode='min'), \n",
    "    \n",
    "   ModelCheckpoint( #saves the current weights after every epock\n",
    "        filepath=os.path.join(filepath, 'basic_lstm_model.h5'),\n",
    "        monitor='val_loss',save_best_only=True) # these 2 arguments mean , you won't overwrite the model file unless val_loss has improved which  allows you to keep the best model seen during training.\n",
    "]\n",
    "\n",
    "model.compile(optimizer='adam', loss='mse', metrics = ['mean_absolute_error', rmse])\n",
    "basic_model_history = model.fit(scaled_training_features, training_targets, epochs=50,\n",
    "                                validation_data=(scaled_validation_features, validation_targets),\n",
    "                               callbacks=callbacks_list)"
   ]
  },
  {
   "cell_type": "code",
   "execution_count": 434,
   "metadata": {
    "colab": {},
    "colab_type": "code",
    "id": "YEwyHV1o2XIK"
   },
   "outputs": [
    {
     "name": "stdout",
     "output_type": "stream",
     "text": [
      "_________________________________________________________________\n",
      "Layer (type)                 Output Shape              Param #   \n",
      "=================================================================\n",
      "lstm_32 (LSTM)               (None, 8)                 448       \n",
      "_________________________________________________________________\n",
      "dense_16 (Dense)             (None, 1)                 9         \n",
      "=================================================================\n",
      "Total params: 457\n",
      "Trainable params: 457\n",
      "Non-trainable params: 0\n",
      "_________________________________________________________________\n"
     ]
    }
   ],
   "source": [
    "model.summary()"
   ]
  },
  {
   "cell_type": "code",
   "execution_count": 435,
   "metadata": {
    "colab": {},
    "colab_type": "code",
    "id": "PZL3AsR92XIR"
   },
   "outputs": [],
   "source": [
    "basic_model_architecture_path = os.path.join(filepath, 'basic_model_plot.png')\n",
    "plot_model(model, to_file=basic_model_architecture_path, show_shapes=False, show_layer_names=False)"
   ]
  },
  {
   "cell_type": "code",
   "execution_count": 436,
   "metadata": {
    "colab": {},
    "colab_type": "code",
    "id": "uL8eqrcs2XIa",
    "scrolled": true
   },
   "outputs": [
    {
     "data": {
      "image/png": "[encoded data removed]",
      "text/plain": [
       "<Figure size 864x432 with 1 Axes>"
      ]
     },
     "metadata": {
      "needs_background": "light"
     },
     "output_type": "display_data"
    }
   ],
   "source": [
    "loss = basic_model_history.history['loss']\n",
    "val_loss = basic_model_history.history['val_loss']\n",
    "\n",
    "epochs = range(len(loss))\n",
    "\n",
    "fig = plt.figure(figsize=(12,6))\n",
    "ax = fig.add_subplot(111)\n",
    "\n",
    "plt.plot(epochs, loss, 'bo', label='Training loss')\n",
    "plt.plot(epochs, val_loss, 'r', label='Validation loss')\n",
    "plt.title('Training and validation loss')\n",
    "plt.xlabel('Epochs')\n",
    "plt.ylabel('Loss')\n",
    "plt.legend()\n",
    "plt.show()\n",
    "\n",
    "fig.savefig(os.path.join(filepath, 'basic_model_history_training_validation_loss.png'))"
   ]
  },
  {
   "cell_type": "code",
   "execution_count": 437,
   "metadata": {
    "colab": {},
    "colab_type": "code",
    "id": "lsH0QO0v2XId"
   },
   "outputs": [
    {
     "name": "stdout",
     "output_type": "stream",
     "text": [
      "49\n"
     ]
    }
   ],
   "source": [
    "print(np.argmin(val_loss))\n",
    "#val_loss[70]"
   ]
  },
  {
   "cell_type": "code",
   "execution_count": 438,
   "metadata": {
    "colab": {},
    "colab_type": "code",
    "id": "EDgTEYNe2XIg"
   },
   "outputs": [
    {
     "data": {
      "image/png": "[encoded data removed]",
      "text/plain": [
       "<Figure size 864x432 with 1 Axes>"
      ]
     },
     "metadata": {
      "needs_background": "light"
     },
     "output_type": "display_data"
    }
   ],
   "source": [
    "hist_rmse = basic_model_history.history['rmse']\n",
    "val_rmse = basic_model_history.history['val_rmse']\n",
    "epochs = range(len(hist_rmse))\n",
    "\n",
    "fig_rmse = plt.figure(figsize=(12,6))\n",
    "ax_rmse= fig_rmse.add_subplot(111)\n",
    "\n",
    "plt.plot(epochs, hist_rmse, 'bo', label='Training Root Mean Square Error')\n",
    "plt.plot(epochs, val_rmse, 'r', label='Validation Root Mean Square Error')\n",
    "plt.title('Training and Validation Root Mean Square Error')\n",
    "plt.xlabel('Epochs')\n",
    "plt.ylabel('RMSE')\n",
    "plt.legend()\n",
    "\n",
    "plt.show()\n",
    "fig_rmse.savefig(os.path.join(filepath, 'basic_model_history_training_validation_RMSE.png'))"
   ]
  },
  {
   "cell_type": "code",
   "execution_count": 439,
   "metadata": {
    "colab": {},
    "colab_type": "code",
    "id": "vSw3rqR92XIk",
    "scrolled": true
   },
   "outputs": [
    {
     "data": {
      "image/png": "[encoded data removed]",
      "text/plain": [
       "<Figure size 864x432 with 1 Axes>"
      ]
     },
     "metadata": {
      "needs_background": "light"
     },
     "output_type": "display_data"
    }
   ],
   "source": [
    "mae = basic_model_history.history['mean_absolute_error']\n",
    "val_mae = basic_model_history.history['val_mean_absolute_error']\n",
    "epochs = range(len(mae))\n",
    "\n",
    "fig_mae = plt.figure(figsize=(12,6))\n",
    "ax_mae = fig_mae.add_subplot(111)\n",
    "\n",
    "plt.plot(epochs, mae, 'bo', label='Training Mean Absolute Error')\n",
    "plt.plot(epochs, val_mae, 'r', label='Validation Mean Absolute Error')\n",
    "plt.title('Training and Validation Mean Absolute Error')\n",
    "plt.xlabel('Epochs')\n",
    "plt.ylabel('MAE')\n",
    "plt.legend()\n",
    "\n",
    "plt.show()\n",
    "fig_mae.savefig(os.path.join(filepath, 'basic_model_history_training_validation_mae.png'))"
   ]
  },
  {
   "cell_type": "code",
   "execution_count": 440,
   "metadata": {
    "colab": {},
    "colab_type": "code",
    "id": "_RR1f5UE2XIr"
   },
   "outputs": [
    {
     "name": "stdout",
     "output_type": "stream",
     "text": [
      "[46.96392929813943, 6.212719381041245, 6.761163892032944]\n",
      "[26.532051534600598, 4.5648688240780855, 5.041436717809876]\n"
     ]
    }
   ],
   "source": [
    "saved_model = load_model(os.path.join(filepath,'basic_lstm_model.h5'),  custom_objects={'rmse': rmse})\n",
    "\n",
    "basic_lstm_model_train_evaluation = saved_model.evaluate(scaled_training_features, training_targets, verbose=0)\n",
    "basic_lstm_model_test_evaluation = saved_model.evaluate(scaled_testing_features, testing_targets, verbose=0)\n",
    "print(basic_lstm_model_train_evaluation)\n",
    "print(basic_lstm_model_test_evaluation)"
   ]
  },
  {
   "cell_type": "code",
   "execution_count": 441,
   "metadata": {
    "colab": {},
    "colab_type": "code",
    "id": "_sYd1zZO2XI4"
   },
   "outputs": [
    {
     "name": "stdout",
     "output_type": "stream",
     "text": [
      "366/366 [==============================] - 0s 49us/step\n",
      "[26.532051534600598, 4.5648688240780855, 5.041436717809876]\n",
      "['loss', 'mean_absolute_error', 'rmse']\n"
     ]
    }
   ],
   "source": [
    "basic_lstm_model_predictions = saved_model.predict(scaled_testing_features)\n",
    "basic_lstm_model_evaluation =  saved_model.evaluate(scaled_testing_features, testing_targets)\n",
    "print(basic_lstm_model_evaluation)\n",
    "print(saved_model.metrics_names)"
   ]
  },
  {
   "cell_type": "code",
   "execution_count": 442,
   "metadata": {},
   "outputs": [],
   "source": [
    "### converting targets and predictions to from scaled values"
   ]
  },
  {
   "cell_type": "raw",
   "metadata": {},
   "source": [
    "basic_lstm_testing_targets_unscaled = scaler.inverse_transform(scaled_testing_targets)\n",
    "basic_lstm_testing_predictions_unscaled = scaler.inverse_transform(basic_lstm_model_predictions)"
   ]
  },
  {
   "cell_type": "code",
   "execution_count": 443,
   "metadata": {},
   "outputs": [
    {
     "name": "stdout",
     "output_type": "stream",
     "text": [
      "BASIC LSTM RMSE:  5.15\n",
      "BASIC LSTM MAE:  4.56\n"
     ]
    }
   ],
   "source": [
    "basic_lstm_rmse = calculate_rmse(testing_targets, basic_lstm_model_predictions)\n",
    "basic_lstm_mae =  mean_absolute_error(testing_targets, basic_lstm_model_predictions)\n",
    "print('BASIC LSTM RMSE: ', basic_lstm_rmse.round(2))\n",
    "print('BASIC LSTM MAE: ', basic_lstm_mae.round(2))"
   ]
  },
  {
   "cell_type": "code",
   "execution_count": 444,
   "metadata": {},
   "outputs": [
    {
     "data": {
      "image/png": "[encoded data removed]",
      "text/plain": [
       "<Figure size 864x432 with 1 Axes>"
      ]
     },
     "metadata": {
      "needs_background": "light"
     },
     "output_type": "display_data"
    }
   ],
   "source": [
    "fig_basic_lstm_predictions_vs_actual = plt.figure(figsize=(12,6))\n",
    "ax_fig_basic_lstm_predictions_vs_actual = fig_basic_lstm_predictions_vs_actual.add_subplot(111)\n",
    "plt.plot(testing_targets, color = 'red', label = 'Actual PM2.5 Values')\n",
    "plt.plot(basic_lstm_model_predictions, color = 'blue', label = 'Predicted PM2.5 Values')\n",
    "plt.title('Predicted PM2.5  Vs Actual PM2.5 ')\n",
    "plt.xlabel('PM2.5 Records')\n",
    "plt.ylabel('PM2.5 Values')\n",
    "plt.legend()\n",
    "\n",
    "fig_basic_lstm_predictions_vs_actual.savefig(os.path.join(filepath, 'basic_lstm_model_prediction_vs_actual.png'))"
   ]
  },
  {
   "cell_type": "code",
   "execution_count": 445,
   "metadata": {
    "colab": {},
    "colab_type": "code",
    "id": "s2K0wBp62XI9"
   },
   "outputs": [
    {
     "name": "stdout",
     "output_type": "stream",
     "text": [
      "(366, 1)\n",
      "(366,)\n"
     ]
    }
   ],
   "source": [
    "print(basic_lstm_model_predictions.shape)\n",
    "print(basic_lstm_model_predictions.ravel().shape)"
   ]
  },
  {
   "cell_type": "code",
   "execution_count": 446,
   "metadata": {
    "colab": {},
    "colab_type": "code",
    "id": "ZGfCLc2T2XJA"
   },
   "outputs": [],
   "source": [
    "basic_lstm_model_prediction_vs_actual_dataframe = pd.DataFrame({'Actual PM2.5': testing_targets.ravel(), 'Predicted PM2.5':basic_lstm_model_predictions.ravel()}) \n",
    "basic_lstm_model_prediction_vs_actual_dataframe\n",
    "## save predictions by basic lstm model\n",
    "basic_lstm_model_prediction_vs_actual_dataframe.to_csv(os.path.join(filepath , 'basic_lstm_model_predictions.csv'))"
   ]
  },
  {
   "cell_type": "markdown",
   "metadata": {
    "colab_type": "text",
    "id": "WBitZDTLSb4P"
   },
   "source": [
    "### Creation of Neural Network Architecture,Training & Evaluation  on Stacked LSTM and DROPOUT layers"
   ]
  },
  {
   "cell_type": "code",
   "execution_count": 447,
   "metadata": {
    "colab": {},
    "colab_type": "code",
    "id": "IenaENnPSb4Q",
    "scrolled": true
   },
   "outputs": [
    {
     "name": "stdout",
     "output_type": "stream",
     "text": [
      "Train on 1284 samples, validate on 182 samples\n",
      "Epoch 1/100\n",
      "1284/1284 [==============================] - 17s 13ms/step - loss: 568.1544 - mean_absolute_error: 23.6459 - rmse: 23.8293 - val_loss: 502.6580 - val_mean_absolute_error: 22.2891 - val_rmse: 22.4143\n",
      "Epoch 2/100\n",
      "1284/1284 [==============================] - 0s 260us/step - loss: 563.9461 - mean_absolute_error: 23.5566 - rmse: 23.7421 - val_loss: 498.0060 - val_mean_absolute_error: 22.1845 - val_rmse: 22.3103\n",
      "Epoch 3/100\n",
      "1284/1284 [==============================] - 0s 251us/step - loss: 557.7694 - mean_absolute_error: 23.4252 - rmse: 23.6105 - val_loss: 490.3692 - val_mean_absolute_error: 22.0118 - val_rmse: 22.1384\n",
      "Epoch 4/100\n",
      "1284/1284 [==============================] - 0s 235us/step - loss: 546.4609 - mean_absolute_error: 23.1825 - rmse: 23.3712 - val_loss: 475.7129 - val_mean_absolute_error: 21.6767 - val_rmse: 21.8048\n",
      "Epoch 5/100\n",
      "1284/1284 [==============================] - 0s 256us/step - loss: 525.4990 - mean_absolute_error: 22.7269 - rmse: 22.9198 - val_loss: 449.7013 - val_mean_absolute_error: 21.0687 - val_rmse: 21.1998\n",
      "Epoch 6/100\n",
      "1284/1284 [==============================] - 0s 266us/step - loss: 492.6031 - mean_absolute_error: 21.9875 - rmse: 22.1844 - val_loss: 413.8581 - val_mean_absolute_error: 20.2006 - val_rmse: 20.3367\n",
      "Epoch 7/100\n",
      "1284/1284 [==============================] - 0s 280us/step - loss: 453.4418 - mean_absolute_error: 21.0819 - rmse: 21.2838 - val_loss: 377.0440 - val_mean_absolute_error: 19.2707 - val_rmse: 19.4105\n",
      "Epoch 8/100\n",
      "1284/1284 [==============================] - 0s 288us/step - loss: 420.1756 - mean_absolute_error: 20.2771 - rmse: 20.4919 - val_loss: 348.3442 - val_mean_absolute_error: 18.5131 - val_rmse: 18.6568\n",
      "Epoch 9/100\n",
      "1284/1284 [==============================] - 0s 231us/step - loss: 396.5657 - mean_absolute_error: 19.6856 - rmse: 19.9072 - val_loss: 330.0973 - val_mean_absolute_error: 18.0121 - val_rmse: 18.1614\n",
      "Epoch 10/100\n",
      "1284/1284 [==============================] - 0s 258us/step - loss: 381.7406 - mean_absolute_error: 19.3034 - rmse: 19.5285 - val_loss: 318.8201 - val_mean_absolute_error: 17.6931 - val_rmse: 17.8483\n",
      "Epoch 11/100\n",
      "1284/1284 [==============================] - 0s 268us/step - loss: 371.2927 - mean_absolute_error: 19.0338 - rmse: 19.2607 - val_loss: 310.2739 - val_mean_absolute_error: 17.4486 - val_rmse: 17.6073\n",
      "Epoch 12/100\n",
      "1284/1284 [==============================] - 0s 246us/step - loss: 361.8469 - mean_absolute_error: 18.7853 - rmse: 19.0162 - val_loss: 302.5855 - val_mean_absolute_error: 17.2264 - val_rmse: 17.3876\n",
      "Epoch 13/100\n",
      "1284/1284 [==============================] - 0s 246us/step - loss: 352.6896 - mean_absolute_error: 18.5361 - rmse: 18.7738 - val_loss: 295.4348 - val_mean_absolute_error: 17.0174 - val_rmse: 17.1807\n",
      "Epoch 14/100\n",
      "1284/1284 [==============================] - 0s 246us/step - loss: 344.8862 - mean_absolute_error: 18.3264 - rmse: 18.5602 - val_loss: 288.6433 - val_mean_absolute_error: 16.8166 - val_rmse: 16.9819\n",
      "Epoch 15/100\n",
      "1284/1284 [==============================] - 0s 246us/step - loss: 337.6427 - mean_absolute_error: 18.1281 - rmse: 18.3676 - val_loss: 282.1662 - val_mean_absolute_error: 16.6229 - val_rmse: 16.7902\n",
      "Epoch 16/100\n",
      "1284/1284 [==============================] - 0s 268us/step - loss: 330.9539 - mean_absolute_error: 17.9400 - rmse: 18.1813 - val_loss: 275.9115 - val_mean_absolute_error: 16.4336 - val_rmse: 16.6029\n",
      "Epoch 17/100\n",
      "1284/1284 [==============================] - 0s 245us/step - loss: 323.6927 - mean_absolute_error: 17.7373 - rmse: 17.9852 - val_loss: 269.8927 - val_mean_absolute_error: 16.2495 - val_rmse: 16.4206\n",
      "Epoch 18/100\n",
      "1284/1284 [==============================] - 0s 256us/step - loss: 316.7642 - mean_absolute_error: 17.5434 - rmse: 17.7917 - val_loss: 264.0361 - val_mean_absolute_error: 16.0682 - val_rmse: 16.2413\n",
      "Epoch 19/100\n",
      "1284/1284 [==============================] - 0s 259us/step - loss: 310.4676 - mean_absolute_error: 17.3618 - rmse: 17.6072 - val_loss: 258.3349 - val_mean_absolute_error: 15.8898 - val_rmse: 16.0648\n",
      "Epoch 20/100\n",
      "1284/1284 [==============================] - 0s 231us/step - loss: 303.9802 - mean_absolute_error: 17.1740 - rmse: 17.4260 - val_loss: 252.8103 - val_mean_absolute_error: 15.7150 - val_rmse: 15.8920\n",
      "Epoch 21/100\n",
      "1284/1284 [==============================] - 0s 292us/step - loss: 297.8957 - mean_absolute_error: 16.9960 - rmse: 17.2555 - val_loss: 247.4058 - val_mean_absolute_error: 15.5421 - val_rmse: 15.7210\n",
      "Epoch 22/100\n",
      "1284/1284 [==============================] - 0s 275us/step - loss: 292.4261 - mean_absolute_error: 16.8337 - rmse: 17.0921 - val_loss: 242.1356 - val_mean_absolute_error: 15.3716 - val_rmse: 15.5525\n",
      "Epoch 23/100\n",
      "1284/1284 [==============================] - 0s 287us/step - loss: 286.5883 - mean_absolute_error: 16.6594 - rmse: 16.9236 - val_loss: 236.9628 - val_mean_absolute_error: 15.2024 - val_rmse: 15.3853\n",
      "Epoch 24/100\n",
      "1284/1284 [==============================] - 0s 234us/step - loss: 280.8473 - mean_absolute_error: 16.4846 - rmse: 16.7507 - val_loss: 231.9293 - val_mean_absolute_error: 15.0360 - val_rmse: 15.2208\n",
      "Epoch 25/100\n",
      "1284/1284 [==============================] - 0s 231us/step - loss: 275.4117 - mean_absolute_error: 16.3193 - rmse: 16.5867 - val_loss: 226.9837 - val_mean_absolute_error: 14.8706 - val_rmse: 15.0575\n",
      "Epoch 26/100\n",
      "1284/1284 [==============================] - 0s 272us/step - loss: 269.8012 - mean_absolute_error: 16.1474 - rmse: 16.4148 - val_loss: 222.1697 - val_mean_absolute_error: 14.7078 - val_rmse: 14.8968\n",
      "Epoch 27/100\n",
      "1284/1284 [==============================] - 0s 282us/step - loss: 264.4809 - mean_absolute_error: 15.9831 - rmse: 16.2542 - val_loss: 217.4506 - val_mean_absolute_error: 14.5465 - val_rmse: 14.7375\n",
      "Epoch 28/100\n",
      "1284/1284 [==============================] - 0s 331us/step - loss: 259.8065 - mean_absolute_error: 15.8340 - rmse: 16.1098 - val_loss: 212.8082 - val_mean_absolute_error: 14.3861 - val_rmse: 14.5792\n",
      "Epoch 29/100\n",
      "1284/1284 [==============================] - 0s 243us/step - loss: 254.2872 - mean_absolute_error: 15.6586 - rmse: 15.9380 - val_loss: 208.2353 - val_mean_absolute_error: 14.2262 - val_rmse: 14.4215\n",
      "Epoch 30/100\n",
      "1284/1284 [==============================] - 0s 251us/step - loss: 249.6282 - mean_absolute_error: 15.5076 - rmse: 15.7908 - val_loss: 203.7652 - val_mean_absolute_error: 14.0682 - val_rmse: 14.2657\n",
      "Epoch 31/100\n",
      "1284/1284 [==============================] - 0s 244us/step - loss: 244.4280 - mean_absolute_error: 15.3400 - rmse: 15.6216 - val_loss: 199.3696 - val_mean_absolute_error: 13.9111 - val_rmse: 14.1108\n",
      "Epoch 32/100\n",
      "1284/1284 [==============================] - 0s 250us/step - loss: 239.7588 - mean_absolute_error: 15.1888 - rmse: 15.4768 - val_loss: 195.0701 - val_mean_absolute_error: 13.7557 - val_rmse: 13.9576\n",
      "Epoch 33/100\n",
      "1284/1284 [==============================] - 0s 243us/step - loss: 234.9598 - mean_absolute_error: 15.0293 - rmse: 15.3192 - val_loss: 190.8301 - val_mean_absolute_error: 13.6007 - val_rmse: 13.8049\n",
      "Epoch 34/100\n",
      "1284/1284 [==============================] - 0s 264us/step - loss: 230.0820 - mean_absolute_error: 14.8683 - rmse: 15.1580 - val_loss: 186.6608 - val_mean_absolute_error: 13.4466 - val_rmse: 13.6531\n",
      "Epoch 35/100\n",
      "1284/1284 [==============================] - 0s 265us/step - loss: 225.7524 - mean_absolute_error: 14.7213 - rmse: 15.0132 - val_loss: 182.5635 - val_mean_absolute_error: 13.2934 - val_rmse: 13.5022\n",
      "Epoch 36/100\n",
      "1284/1284 [==============================] - 0s 257us/step - loss: 221.0285 - mean_absolute_error: 14.5607 - rmse: 14.8590 - val_loss: 178.5465 - val_mean_absolute_error: 13.1414 - val_rmse: 13.3526\n",
      "Epoch 37/100\n",
      "1284/1284 [==============================] - 0s 246us/step - loss: 216.6335 - mean_absolute_error: 14.4082 - rmse: 14.7117 - val_loss: 174.6055 - val_mean_absolute_error: 12.9906 - val_rmse: 13.2042\n",
      "Epoch 38/100\n",
      "1284/1284 [==============================] - 0s 256us/step - loss: 212.3257 - mean_absolute_error: 14.2582 - rmse: 14.5615 - val_loss: 170.7235 - val_mean_absolute_error: 12.8403 - val_rmse: 13.0564\n",
      "Epoch 39/100\n"
     ]
    },
    {
     "name": "stdout",
     "output_type": "stream",
     "text": [
      "1284/1284 [==============================] - 0s 289us/step - loss: 208.1940 - mean_absolute_error: 14.1122 - rmse: 14.4179 - val_loss: 166.9295 - val_mean_absolute_error: 12.6917 - val_rmse: 12.9103\n",
      "Epoch 40/100\n",
      "1284/1284 [==============================] - 0s 258us/step - loss: 203.8660 - mean_absolute_error: 13.9576 - rmse: 14.2683 - val_loss: 163.1732 - val_mean_absolute_error: 12.5428 - val_rmse: 12.7640\n",
      "Epoch 41/100\n",
      "1284/1284 [==============================] - 0s 280us/step - loss: 199.6802 - mean_absolute_error: 13.8081 - rmse: 14.1199 - val_loss: 159.5093 - val_mean_absolute_error: 12.3959 - val_rmse: 12.6197\n",
      "Epoch 42/100\n",
      "1284/1284 [==============================] - 0s 251us/step - loss: 195.5513 - mean_absolute_error: 13.6590 - rmse: 13.9778 - val_loss: 155.8907 - val_mean_absolute_error: 12.2491 - val_rmse: 12.4755\n",
      "Epoch 43/100\n",
      "1284/1284 [==============================] - 0s 243us/step - loss: 191.7549 - mean_absolute_error: 13.5171 - rmse: 13.8375 - val_loss: 152.3363 - val_mean_absolute_error: 12.1031 - val_rmse: 12.3322\n",
      "Epoch 44/100\n",
      "1284/1284 [==============================] - 0s 272us/step - loss: 187.6461 - mean_absolute_error: 13.3645 - rmse: 13.6908 - val_loss: 148.8429 - val_mean_absolute_error: 11.9580 - val_rmse: 12.1897\n",
      "Epoch 45/100\n",
      "1284/1284 [==============================] - 0s 241us/step - loss: 183.8979 - mean_absolute_error: 13.2236 - rmse: 13.5502 - val_loss: 145.4114 - val_mean_absolute_error: 11.8136 - val_rmse: 12.0482\n",
      "Epoch 46/100\n",
      "1284/1284 [==============================] - 0s 249us/step - loss: 180.1780 - mean_absolute_error: 13.0797 - rmse: 13.4097 - val_loss: 142.0281 - val_mean_absolute_error: 11.6695 - val_rmse: 11.9070\n",
      "Epoch 47/100\n",
      "1284/1284 [==============================] - 0s 264us/step - loss: 176.5266 - mean_absolute_error: 12.9407 - rmse: 13.2763 - val_loss: 138.7097 - val_mean_absolute_error: 11.5265 - val_rmse: 11.7668\n",
      "Epoch 48/100\n",
      "1284/1284 [==============================] - 0s 274us/step - loss: 173.0199 - mean_absolute_error: 12.8018 - rmse: 13.1463 - val_loss: 135.4632 - val_mean_absolute_error: 11.3848 - val_rmse: 11.6280\n",
      "Epoch 49/100\n",
      "1284/1284 [==============================] - 0s 274us/step - loss: 169.0130 - mean_absolute_error: 12.6475 - rmse: 12.9890 - val_loss: 132.2477 - val_mean_absolute_error: 11.2427 - val_rmse: 11.4889\n",
      "Epoch 50/100\n",
      "1284/1284 [==============================] - 0s 231us/step - loss: 165.7438 - mean_absolute_error: 12.5153 - rmse: 12.8636 - val_loss: 129.0868 - val_mean_absolute_error: 11.1012 - val_rmse: 11.3506\n",
      "Epoch 51/100\n",
      "1284/1284 [==============================] - 0s 261us/step - loss: 161.8900 - mean_absolute_error: 12.3637 - rmse: 12.7100 - val_loss: 125.9839 - val_mean_absolute_error: 10.9605 - val_rmse: 11.2130\n",
      "Epoch 52/100\n",
      "1284/1284 [==============================] - 0s 254us/step - loss: 158.4878 - mean_absolute_error: 12.2248 - rmse: 12.5755 - val_loss: 122.9408 - val_mean_absolute_error: 10.8208 - val_rmse: 11.0765\n",
      "Epoch 53/100\n",
      "1284/1284 [==============================] - 0s 244us/step - loss: 155.0560 - mean_absolute_error: 12.0830 - rmse: 12.4385 - val_loss: 119.9332 - val_mean_absolute_error: 10.6810 - val_rmse: 10.9399\n",
      "Epoch 54/100\n",
      "1284/1284 [==============================] - 0s 243us/step - loss: 151.8927 - mean_absolute_error: 11.9510 - rmse: 12.3162 - val_loss: 116.9956 - val_mean_absolute_error: 10.5425 - val_rmse: 10.8048\n",
      "Epoch 55/100\n",
      "1284/1284 [==============================] - 0s 261us/step - loss: 148.6197 - mean_absolute_error: 11.8160 - rmse: 12.1764 - val_loss: 114.1151 - val_mean_absolute_error: 10.4050 - val_rmse: 10.6707\n",
      "Epoch 56/100\n",
      "1284/1284 [==============================] - 0s 256us/step - loss: 145.2656 - mean_absolute_error: 11.6722 - rmse: 12.0426 - val_loss: 111.2695 - val_mean_absolute_error: 10.2674 - val_rmse: 10.5366\n",
      "Epoch 57/100\n",
      "1284/1284 [==============================] - 0s 243us/step - loss: 142.2320 - mean_absolute_error: 11.5397 - rmse: 11.9116 - val_loss: 108.4768 - val_mean_absolute_error: 10.1305 - val_rmse: 10.4032\n",
      "Epoch 58/100\n",
      "1284/1284 [==============================] - ETA: 0s - loss: 137.7007 - mean_absolute_error: 11.3463 - rmse: 11.72 - 0s 234us/step - loss: 138.8114 - mean_absolute_error: 11.3923 - rmse: 11.7699 - val_loss: 105.7478 - val_mean_absolute_error: 9.9949 - val_rmse: 10.2712\n",
      "Epoch 59/100\n",
      "1284/1284 [==============================] - 0s 232us/step - loss: 136.0120 - mean_absolute_error: 11.2668 - rmse: 11.6531 - val_loss: 103.0589 - val_mean_absolute_error: 9.8594 - val_rmse: 10.1395\n",
      "Epoch 60/100\n",
      "1284/1284 [==============================] - 0s 242us/step - loss: 132.7640 - mean_absolute_error: 11.1225 - rmse: 11.5083 - val_loss: 100.4090 - val_mean_absolute_error: 9.7241 - val_rmse: 10.0080\n",
      "Epoch 61/100\n",
      "1284/1284 [==============================] - 0s 243us/step - loss: 130.0212 - mean_absolute_error: 10.9985 - rmse: 11.3917 - val_loss: 97.8274 - val_mean_absolute_error: 9.5905 - val_rmse: 9.8782\n",
      "Epoch 62/100\n",
      "1284/1284 [==============================] - 0s 263us/step - loss: 126.8586 - mean_absolute_error: 10.8543 - rmse: 11.2508 - val_loss: 95.2823 - val_mean_absolute_error: 9.4568 - val_rmse: 9.7485\n",
      "Epoch 63/100\n",
      "1284/1284 [==============================] - 0s 237us/step - loss: 124.1360 - mean_absolute_error: 10.7259 - rmse: 11.1251 - val_loss: 92.7762 - val_mean_absolute_error: 9.3234 - val_rmse: 9.6191\n",
      "Epoch 64/100\n",
      "1284/1284 [==============================] - 0s 231us/step - loss: 121.3815 - mean_absolute_error: 10.5972 - rmse: 11.0016 - val_loss: 90.3312 - val_mean_absolute_error: 9.1913 - val_rmse: 9.4912\n",
      "Epoch 65/100\n",
      "1284/1284 [==============================] - 0s 237us/step - loss: 118.3795 - mean_absolute_error: 10.4570 - rmse: 10.8658 - val_loss: 87.9240 - val_mean_absolute_error: 9.0594 - val_rmse: 9.3636\n",
      "Epoch 66/100\n",
      "1284/1284 [==============================] - 0s 251us/step - loss: 115.5811 - mean_absolute_error: 10.3211 - rmse: 10.7381 - val_loss: 85.5571 - val_mean_absolute_error: 8.9279 - val_rmse: 9.2363\n",
      "Epoch 67/100\n",
      "1284/1284 [==============================] - 0s 249us/step - loss: 112.8014 - mean_absolute_error: 10.1874 - rmse: 10.6030 - val_loss: 83.2362 - val_mean_absolute_error: 8.7969 - val_rmse: 9.1098\n",
      "Epoch 68/100\n",
      "1284/1284 [==============================] - 0s 227us/step - loss: 110.2575 - mean_absolute_error: 10.0600 - rmse: 10.4885 - val_loss: 80.9686 - val_mean_absolute_error: 8.6671 - val_rmse: 8.9845\n",
      "Epoch 69/100\n",
      "1284/1284 [==============================] - ETA: 0s - loss: 108.5580 - mean_absolute_error: 9.9706 - rmse: 10.4032 - 0s 256us/step - loss: 107.8286 - mean_absolute_error: 9.9396 - rmse: 10.3683 - val_loss: 78.7373 - val_mean_absolute_error: 8.5374 - val_rmse: 8.8595\n",
      "Epoch 70/100\n",
      "1284/1284 [==============================] - 0s 239us/step - loss: 105.4621 - mean_absolute_error: 9.8135 - rmse: 10.2555 - val_loss: 76.5440 - val_mean_absolute_error: 8.4079 - val_rmse: 8.7349\n",
      "Epoch 71/100\n",
      "1284/1284 [==============================] - 0s 256us/step - loss: 102.7127 - mean_absolute_error: 9.6795 - rmse: 10.1203 - val_loss: 74.4105 - val_mean_absolute_error: 8.2801 - val_rmse: 8.6119\n",
      "Epoch 72/100\n",
      "1284/1284 [==============================] - 0s 256us/step - loss: 100.1613 - mean_absolute_error: 9.5451 - rmse: 9.9921 - val_loss: 72.2974 - val_mean_absolute_error: 8.1515 - val_rmse: 8.4884\n",
      "Epoch 73/100\n",
      "1284/1284 [==============================] - 0s 246us/step - loss: 97.7720 - mean_absolute_error: 9.4198 - rmse: 9.8742 - val_loss: 70.2364 - val_mean_absolute_error: 8.0241 - val_rmse: 8.3661\n",
      "Epoch 74/100\n",
      "1284/1284 [==============================] - 0s 243us/step - loss: 95.5310 - mean_absolute_error: 9.2987 - rmse: 9.7592 - val_loss: 68.2305 - val_mean_absolute_error: 7.8981 - val_rmse: 8.2454\n",
      "Epoch 75/100\n",
      "1284/1284 [==============================] - 0s 266us/step - loss: 93.2606 - mean_absolute_error: 9.1731 - rmse: 9.6425 - val_loss: 66.2523 - val_mean_absolute_error: 7.7719 - val_rmse: 8.1246\n",
      "Epoch 76/100\n",
      "1284/1284 [==============================] - 0s 288us/step - loss: 90.7917 - mean_absolute_error: 9.0418 - rmse: 9.5141 - val_loss: 64.3221 - val_mean_absolute_error: 7.6467 - val_rmse: 8.0049\n",
      "Epoch 77/100\n"
     ]
    },
    {
     "name": "stdout",
     "output_type": "stream",
     "text": [
      "1284/1284 [==============================] - 0s 245us/step - loss: 88.5449 - mean_absolute_error: 8.9176 - rmse: 9.3946 - val_loss: 62.4263 - val_mean_absolute_error: 7.5217 - val_rmse: 7.8857\n",
      "Epoch 78/100\n",
      "1284/1284 [==============================] - 0s 256us/step - loss: 86.1422 - mean_absolute_error: 8.7821 - rmse: 9.2665 - val_loss: 60.5829 - val_mean_absolute_error: 7.3981 - val_rmse: 7.7680\n",
      "Epoch 79/100\n",
      "1284/1284 [==============================] - 0s 266us/step - loss: 84.0082 - mean_absolute_error: 8.6601 - rmse: 9.1485 - val_loss: 58.7687 - val_mean_absolute_error: 7.2745 - val_rmse: 7.6503\n",
      "Epoch 80/100\n",
      "1284/1284 [==============================] - 0s 256us/step - loss: 81.9648 - mean_absolute_error: 8.5431 - rmse: 9.0449 - val_loss: 56.9812 - val_mean_absolute_error: 7.1506 - val_rmse: 7.5326\n",
      "Epoch 81/100\n",
      "1284/1284 [==============================] - 0s 293us/step - loss: 79.8494 - mean_absolute_error: 8.4164 - rmse: 8.9216 - val_loss: 55.2368 - val_mean_absolute_error: 7.0275 - val_rmse: 7.4160\n",
      "Epoch 82/100\n",
      "1284/1284 [==============================] - 0s 241us/step - loss: 77.8530 - mean_absolute_error: 8.2964 - rmse: 8.8060 - val_loss: 53.5398 - val_mean_absolute_error: 6.9057 - val_rmse: 7.3007\n",
      "Epoch 83/100\n",
      "1284/1284 [==============================] - 0s 283us/step - loss: 75.8790 - mean_absolute_error: 8.1744 - rmse: 8.6922 - val_loss: 51.8818 - val_mean_absolute_error: 6.7846 - val_rmse: 7.1863\n",
      "Epoch 84/100\n",
      "1284/1284 [==============================] - 0s 247us/step - loss: 74.2953 - mean_absolute_error: 8.0736 - rmse: 8.6064 - val_loss: 50.2514 - val_mean_absolute_error: 6.6634 - val_rmse: 7.0720\n",
      "Epoch 85/100\n",
      "1284/1284 [==============================] - 0s 290us/step - loss: 72.0090 - mean_absolute_error: 7.9327 - rmse: 8.4651 - val_loss: 48.6564 - val_mean_absolute_error: 6.5426 - val_rmse: 6.9584\n",
      "Epoch 86/100\n",
      "1284/1284 [==============================] - 0s 295us/step - loss: 70.0187 - mean_absolute_error: 7.8110 - rmse: 8.3493 - val_loss: 47.1068 - val_mean_absolute_error: 6.4231 - val_rmse: 6.8462\n",
      "Epoch 87/100\n",
      "1284/1284 [==============================] - 0s 243us/step - loss: 68.1296 - mean_absolute_error: 7.6887 - rmse: 8.2356 - val_loss: 45.5847 - val_mean_absolute_error: 6.3035 - val_rmse: 6.7342\n",
      "Epoch 88/100\n",
      "1284/1284 [==============================] - 0s 278us/step - loss: 66.2542 - mean_absolute_error: 7.5650 - rmse: 8.1233 - val_loss: 44.1078 - val_mean_absolute_error: 6.1853 - val_rmse: 6.6237\n",
      "Epoch 89/100\n",
      "1284/1284 [==============================] - 0s 251us/step - loss: 64.6868 - mean_absolute_error: 7.4579 - rmse: 8.0311 - val_loss: 42.6716 - val_mean_absolute_error: 6.0680 - val_rmse: 6.5144\n",
      "Epoch 90/100\n",
      "1284/1284 [==============================] - 0s 255us/step - loss: 62.9327 - mean_absolute_error: 7.3414 - rmse: 7.9197 - val_loss: 41.2744 - val_mean_absolute_error: 5.9518 - val_rmse: 6.4063\n",
      "Epoch 91/100\n",
      "1284/1284 [==============================] - 0s 268us/step - loss: 61.2657 - mean_absolute_error: 7.2262 - rmse: 7.8119 - val_loss: 39.8942 - val_mean_absolute_error: 5.8347 - val_rmse: 6.2978\n",
      "Epoch 92/100\n",
      "1284/1284 [==============================] - 0s 267us/step - loss: 59.5002 - mean_absolute_error: 7.1036 - rmse: 7.6937 - val_loss: 38.5597 - val_mean_absolute_error: 5.7192 - val_rmse: 6.1910\n",
      "Epoch 93/100\n",
      "1284/1284 [==============================] - 0s 270us/step - loss: 57.8783 - mean_absolute_error: 6.9877 - rmse: 7.5930 - val_loss: 37.2539 - val_mean_absolute_error: 5.6039 - val_rmse: 6.0847\n",
      "Epoch 94/100\n",
      "1284/1284 [==============================] - 0s 299us/step - loss: 56.4786 - mean_absolute_error: 6.8810 - rmse: 7.4965 - val_loss: 35.9967 - val_mean_absolute_error: 5.4906 - val_rmse: 5.9806\n",
      "Epoch 95/100\n",
      "1284/1284 [==============================] - 0s 263us/step - loss: 54.8164 - mean_absolute_error: 6.7628 - rmse: 7.3805 - val_loss: 34.7555 - val_mean_absolute_error: 5.3763 - val_rmse: 5.8760\n",
      "Epoch 96/100\n",
      "1284/1284 [==============================] - 1s 468us/step - loss: 53.2744 - mean_absolute_error: 6.6505 - rmse: 7.2838 - val_loss: 33.5457 - val_mean_absolute_error: 5.2626 - val_rmse: 5.7722\n",
      "Epoch 97/100\n",
      "1284/1284 [==============================] - 0s 273us/step - loss: 51.7905 - mean_absolute_error: 6.5370 - rmse: 7.1721 - val_loss: 32.3805 - val_mean_absolute_error: 5.1507 - val_rmse: 5.6705\n",
      "Epoch 98/100\n",
      "1284/1284 [==============================] - 0s 271us/step - loss: 50.3010 - mean_absolute_error: 6.4209 - rmse: 7.0730 - val_loss: 31.2370 - val_mean_absolute_error: 5.0385 - val_rmse: 5.5689\n",
      "Epoch 99/100\n",
      "1284/1284 [==============================] - 0s 265us/step - loss: 48.9191 - mean_absolute_error: 6.3151 - rmse: 6.9822 - val_loss: 30.1276 - val_mean_absolute_error: 4.9272 - val_rmse: 5.4685\n",
      "Epoch 100/100\n",
      "1284/1284 [==============================] - 0s 346us/step - loss: 47.4454 - mean_absolute_error: 6.2009 - rmse: 6.8646 - val_loss: 29.0493 - val_mean_absolute_error: 4.8165 - val_rmse: 5.3691\n"
     ]
    }
   ],
   "source": [
    "from tensorflow.keras.models import Sequential\n",
    "from tensorflow.keras.layers import Dense, LSTM, Dropout\n",
    "from tensorflow.keras.utils import plot_model\n",
    "\n",
    "deep_lstm_callbacks_list = [\n",
    "    EarlyStopping(  # interrupts training when improvement stops \n",
    "        monitor='val_loss', \n",
    "        patience=10, \n",
    "        mode='min'), \n",
    "    \n",
    "   ModelCheckpoint( #saves the current weights after every epock\n",
    "        filepath=os.path.join(filepath, 'deep_lstm_best_model.h5'),\n",
    "        monitor='val_loss',save_best_only=True) # these 2 arguments mean , you won't overwrite the model file unless val_loss has improved which  allows you to keep the best model seen during training.\n",
    "]\n",
    "\n",
    "regressor_model = Sequential()\n",
    "regressor_model.add(LSTM(units=8, return_sequences = True, input_shape = (scaled_training_features.shape[1],scaled_training_features.shape[2])))\n",
    "regressor_model.add(Dropout(0.2))\n",
    "regressor_model.add(LSTM(units = 4, return_sequences = True))\n",
    "regressor_model.add(Dropout(0.1))\n",
    "regressor_model.add(LSTM(units = 4))\n",
    "#regressor_model.add(Dropout(0.2))\n",
    "\n",
    "regressor_model.add(Dense(units = 1))\n",
    "\n",
    "regressor_model.compile(optimizer = 'adam', loss = 'mse',metrics = ['mean_absolute_error',rmse] )\n",
    "\n",
    "##Training the model\n",
    "history = regressor_model.fit(scaled_training_features, training_targets,epochs = 100,\n",
    "                              validation_data=(scaled_validation_features, validation_targets), batch_size=32,\n",
    "                              callbacks=deep_lstm_callbacks_list)\n"
   ]
  },
  {
   "cell_type": "code",
   "execution_count": 448,
   "metadata": {
    "colab": {},
    "colab_type": "code",
    "id": "fN9EwdUFSb4R"
   },
   "outputs": [
    {
     "name": "stdout",
     "output_type": "stream",
     "text": [
      "_________________________________________________________________\n",
      "Layer (type)                 Output Shape              Param #   \n",
      "=================================================================\n",
      "lstm_33 (LSTM)               (None, 1, 8)              448       \n",
      "_________________________________________________________________\n",
      "dropout_16 (Dropout)         (None, 1, 8)              0         \n",
      "_________________________________________________________________\n",
      "lstm_34 (LSTM)               (None, 1, 4)              208       \n",
      "_________________________________________________________________\n",
      "dropout_17 (Dropout)         (None, 1, 4)              0         \n",
      "_________________________________________________________________\n",
      "lstm_35 (LSTM)               (None, 4)                 144       \n",
      "_________________________________________________________________\n",
      "dense_17 (Dense)             (None, 1)                 5         \n",
      "=================================================================\n",
      "Total params: 805\n",
      "Trainable params: 805\n",
      "Non-trainable params: 0\n",
      "_________________________________________________________________\n"
     ]
    }
   ],
   "source": [
    "#regressor_model.save('/content/drive/My Drive/Uni/Msc Comp Science/Year Two/Research/experiments/data/AirQuality/AirQo/airquality_prediction_bugolobi_04_20_2019.h5')\n",
    "regressor_model.save(os.path.join(filepath,'airquality_prediction_model.h5'))\n",
    "regressor_model.summary()\n",
    "regressor_model_architecture_path = os.path.join(filepath, 'deep_lstm_model_plot.png')\n",
    "plot_model(regressor_model, to_file=regressor_model_architecture_path, show_shapes=False, show_layer_names=False)"
   ]
  },
  {
   "cell_type": "code",
   "execution_count": 449,
   "metadata": {
    "colab": {},
    "colab_type": "code",
    "id": "PNUn7SCa2XJT"
   },
   "outputs": [
    {
     "data": {
      "image/png": "[encoded data removed]",
      "text/plain": [
       "<Figure size 864x432 with 1 Axes>"
      ]
     },
     "metadata": {
      "needs_background": "light"
     },
     "output_type": "display_data"
    }
   ],
   "source": [
    "loss = history.history['loss']\n",
    "val_loss = history.history['val_loss']\n",
    "\n",
    "epochs = range(len(loss))\n",
    "\n",
    "fig_deep_lstm_loss= plt.figure(figsize=(12,6))\n",
    "ax = fig_deep_lstm_loss.add_subplot(111)\n",
    "\n",
    "plt.plot(epochs, loss, 'bo', label='Training loss')\n",
    "plt.plot(epochs, val_loss, 'r', label='Validation loss')\n",
    "plt.title('Training and validation loss')\n",
    "plt.xlabel('Epochs')\n",
    "plt.ylabel('Loss')\n",
    "plt.legend()\n",
    "\n",
    "plt.show()\n",
    "\n",
    "fig_deep_lstm_loss.savefig(os.path.join(filepath, 'deep_lstm_model_history_training_validation_loss.png'))"
   ]
  },
  {
   "cell_type": "code",
   "execution_count": 450,
   "metadata": {
    "colab": {},
    "colab_type": "code",
    "id": "MCJ9OT-u2XJn"
   },
   "outputs": [
    {
     "data": {
      "image/png": "[encoded data removed]",
      "text/plain": [
       "<Figure size 864x432 with 1 Axes>"
      ]
     },
     "metadata": {
      "needs_background": "light"
     },
     "output_type": "display_data"
    }
   ],
   "source": [
    "mae = history.history['mean_absolute_error']\n",
    "val_mae = history.history['val_mean_absolute_error']\n",
    "epochs = range(len(mae))\n",
    "\n",
    "fig_deep_lstm_mae = plt.figure(figsize=(12,6))\n",
    "ax_mae = fig_deep_lstm_mae.add_subplot(111)\n",
    "\n",
    "plt.plot(epochs, mae, 'bo', label='Training Mean Absolute Error')\n",
    "plt.plot(epochs, val_mae, 'r', label='Validation Mean Absolute Error')\n",
    "plt.title('Training and Validation Mean Absolute Error')\n",
    "plt.xlabel('Epochs')\n",
    "plt.ylabel('MAE')\n",
    "plt.legend()\n",
    "\n",
    "plt.show()\n",
    "fig_mae.savefig(os.path.join(filepath, 'deep_lst_mmodel_history_training_validation_mae.png'))"
   ]
  },
  {
   "cell_type": "code",
   "execution_count": 451,
   "metadata": {
    "colab": {},
    "colab_type": "code",
    "id": "ti0Xaz812XJt"
   },
   "outputs": [
    {
     "data": {
      "image/png": "[encoded data removed]",
      "text/plain": [
       "<Figure size 864x432 with 1 Axes>"
      ]
     },
     "metadata": {
      "needs_background": "light"
     },
     "output_type": "display_data"
    }
   ],
   "source": [
    "hist_rmse = history.history['rmse']\n",
    "val_rmse = history.history['val_rmse']\n",
    "epochs = range(len(hist_rmse))\n",
    "\n",
    "fig_rmse = plt.figure(figsize=(12,6))\n",
    "ax_rmse= fig_rmse.add_subplot(111)\n",
    "\n",
    "plt.plot(epochs, hist_rmse, 'bo', label='Training Root Mean Squared Error')\n",
    "plt.plot(epochs, val_rmse, 'r', label='Validation Root Mean Squared Error')\n",
    "plt.title('Training and Validation Root Mean Squared Error')\n",
    "plt.xlabel('Epochs')\n",
    "plt.ylabel('RMSE')\n",
    "plt.legend()\n",
    "\n",
    "plt.show()\n",
    "fig_rmse.savefig(os.path.join(filepath, 'deep_model_history_training_validation_RMSE.png'))"
   ]
  },
  {
   "cell_type": "markdown",
   "metadata": {
    "colab_type": "text",
    "id": "sO0awXl1Sb4T"
   },
   "source": [
    "### Making predictions (forecasts) using the deep recurrent lstm\n",
    "1. Convert test set in the same format accepted by model\n",
    "1. make the forecasts directly on the testing dataset"
   ]
  },
  {
   "cell_type": "markdown",
   "metadata": {
    "colab_type": "text",
    "id": "RDyMT-YB2XJ0"
   },
   "source": [
    "### Make prediction and evaluation using the developed deep lstm model"
   ]
  },
  {
   "cell_type": "code",
   "execution_count": 452,
   "metadata": {
    "colab": {},
    "colab_type": "code",
    "id": "99pD-uTa2XJ1"
   },
   "outputs": [
    {
     "name": "stdout",
     "output_type": "stream",
     "text": [
      "[46.60940812904144, 6.131838955983195, 6.7304674695214]\n",
      "[25.084679113711164, 4.336005062353416, 4.891034607027398]\n"
     ]
    }
   ],
   "source": [
    "#saved_best_deep_lstm_model = load_model(os.path.join(filepath,'deep_lstm_best_model.h5'),  custom_objects={'rmse': rmse})\n",
    "saved_best_deep_lstm_model = load_model(os.path.join(filepath,'airquality_prediction_model.h5'),  custom_objects={'rmse': rmse})\n",
    "deep_lstm_model_train_evaluation = saved_best_deep_lstm_model.evaluate(scaled_training_features, training_targets, verbose=0)\n",
    "deep_lstm_model_test_evaluation = saved_best_deep_lstm_model.evaluate(scaled_testing_features, testing_targets, verbose=0)\n",
    "print(deep_lstm_model_train_evaluation)\n",
    "print(deep_lstm_model_test_evaluation)"
   ]
  },
  {
   "cell_type": "code",
   "execution_count": 453,
   "metadata": {
    "colab": {},
    "colab_type": "code",
    "id": "ts5RRZWoSb4Z"
   },
   "outputs": [
    {
     "name": "stdout",
     "output_type": "stream",
     "text": [
      "366/366 [==============================] - 0s 74us/step\n",
      "Deep LSTM RMSE:  5.01\n",
      "Deep LSTM MAE:  4.34\n"
     ]
    }
   ],
   "source": [
    "deep_lstm_model_predictions = saved_best_deep_lstm_model.predict(scaled_testing_features)\n",
    "deep_lstm_model_evaluation =  saved_best_deep_lstm_model.evaluate(scaled_testing_features, testing_targets)\n",
    "\n",
    "deep_lstm_rmse = calculate_rmse(testing_targets, deep_lstm_model_predictions )\n",
    "deep_lstm_mae =  mean_absolute_error(testing_targets, deep_lstm_model_predictions)\n",
    "print('Deep LSTM RMSE: ', deep_lstm_rmse.round(2))\n",
    "print('Deep LSTM MAE: ', deep_lstm_mae.round(2))\n",
    "\n",
    "deep_lstm_model_prediction_vs_actual_dataframe = pd.DataFrame({'Actual PM2.5':testing_targets.ravel(), 'Predicted PM2.5':deep_lstm_model_predictions.ravel()}) \n",
    "deep_lstm_model_prediction_vs_actual_dataframe\n",
    "## save predictions by basic lstm model\n",
    "deep_lstm_model_prediction_vs_actual_dataframe.to_csv(os.path.join(filepath , 'deep_lstm_model_predictions.csv'))"
   ]
  },
  {
   "cell_type": "markdown",
   "metadata": {
    "colab_type": "text",
    "id": "EQ7BkVaMSb4j"
   },
   "source": [
    "### Verification of the average in the results of the forecasts and in the actual results"
   ]
  },
  {
   "cell_type": "code",
   "execution_count": 454,
   "metadata": {
    "colab": {},
    "colab_type": "code",
    "id": "pBCyXHz1Sb4h"
   },
   "outputs": [
    {
     "name": "stdout",
     "output_type": "stream",
     "text": [
      "predictions 17.549583\n",
      "actual pm2.5 values 21.87827868852459\n"
     ]
    }
   ],
   "source": [
    "print('predictions', deep_lstm_model_predictions.mean())\n",
    "print('actual pm2.5 values', testing_targets.mean())"
   ]
  },
  {
   "cell_type": "markdown",
   "metadata": {
    "colab_type": "text",
    "id": "xX5heGwJSb4m"
   },
   "source": [
    "### Visualization of the predictions and actual values of PM2.5\n",
    "1. #### using line graph"
   ]
  },
  {
   "cell_type": "code",
   "execution_count": 455,
   "metadata": {},
   "outputs": [
    {
     "name": "stdout",
     "output_type": "stream",
     "text": [
      "(366, 20)\n"
     ]
    },
    {
     "data": {
      "text/html": [
       "<div>\n",
       "<style scoped>\n",
       "    .dataframe tbody tr th:only-of-type {\n",
       "        vertical-align: middle;\n",
       "    }\n",
       "\n",
       "    .dataframe tbody tr th {\n",
       "        vertical-align: top;\n",
       "    }\n",
       "\n",
       "    .dataframe thead th {\n",
       "        text-align: right;\n",
       "    }\n",
       "</style>\n",
       "<table border=\"1\" class=\"dataframe\">\n",
       "  <thead>\n",
       "    <tr style=\"text-align: right;\">\n",
       "      <th></th>\n",
       "      <th>TimeStamp</th>\n",
       "      <th>PM2.5(Ug/m3)</th>\n",
       "      <th>PM10(Ug/m3)</th>\n",
       "      <th>hour</th>\n",
       "      <th>EVI</th>\n",
       "      <th>NDVI</th>\n",
       "      <th>humidity (%)</th>\n",
       "      <th>precipitation (mm)</th>\n",
       "      <th>pressure (kPa)</th>\n",
       "      <th>radiation (W/m2)</th>\n",
       "      <th>temperature (oC)</th>\n",
       "      <th>windspeed (m/s)</th>\n",
       "      <th>winddirection_E</th>\n",
       "      <th>winddirection_N</th>\n",
       "      <th>winddirection_NE</th>\n",
       "      <th>winddirection_NW</th>\n",
       "      <th>winddirection_S</th>\n",
       "      <th>winddirection_SE</th>\n",
       "      <th>winddirection_SW</th>\n",
       "      <th>winddirection_W</th>\n",
       "    </tr>\n",
       "  </thead>\n",
       "  <tbody>\n",
       "    <tr>\n",
       "      <th>1470</th>\n",
       "      <td>2019-05-15 04:00:00</td>\n",
       "      <td>51.11</td>\n",
       "      <td>56.42</td>\n",
       "      <td>4</td>\n",
       "      <td>0.1763</td>\n",
       "      <td>0.3046</td>\n",
       "      <td>100</td>\n",
       "      <td>0.17</td>\n",
       "      <td>87.72</td>\n",
       "      <td>0.00</td>\n",
       "      <td>17.93</td>\n",
       "      <td>0.47</td>\n",
       "      <td>0</td>\n",
       "      <td>1</td>\n",
       "      <td>0</td>\n",
       "      <td>0</td>\n",
       "      <td>0</td>\n",
       "      <td>0</td>\n",
       "      <td>0</td>\n",
       "      <td>0</td>\n",
       "    </tr>\n",
       "    <tr>\n",
       "      <th>1471</th>\n",
       "      <td>2019-05-15 05:00:00</td>\n",
       "      <td>29.13</td>\n",
       "      <td>32.04</td>\n",
       "      <td>5</td>\n",
       "      <td>0.1763</td>\n",
       "      <td>0.3046</td>\n",
       "      <td>100</td>\n",
       "      <td>0.02</td>\n",
       "      <td>87.69</td>\n",
       "      <td>0.00</td>\n",
       "      <td>18.22</td>\n",
       "      <td>0.44</td>\n",
       "      <td>1</td>\n",
       "      <td>0</td>\n",
       "      <td>0</td>\n",
       "      <td>0</td>\n",
       "      <td>0</td>\n",
       "      <td>0</td>\n",
       "      <td>0</td>\n",
       "      <td>0</td>\n",
       "    </tr>\n",
       "    <tr>\n",
       "      <th>1472</th>\n",
       "      <td>2019-05-15 06:00:00</td>\n",
       "      <td>54.04</td>\n",
       "      <td>62.13</td>\n",
       "      <td>6</td>\n",
       "      <td>0.1763</td>\n",
       "      <td>0.3046</td>\n",
       "      <td>100</td>\n",
       "      <td>0.00</td>\n",
       "      <td>87.72</td>\n",
       "      <td>2.15</td>\n",
       "      <td>18.45</td>\n",
       "      <td>0.77</td>\n",
       "      <td>1</td>\n",
       "      <td>0</td>\n",
       "      <td>0</td>\n",
       "      <td>0</td>\n",
       "      <td>0</td>\n",
       "      <td>0</td>\n",
       "      <td>0</td>\n",
       "      <td>0</td>\n",
       "    </tr>\n",
       "    <tr>\n",
       "      <th>1473</th>\n",
       "      <td>2019-05-15 07:00:00</td>\n",
       "      <td>65.53</td>\n",
       "      <td>73.15</td>\n",
       "      <td>7</td>\n",
       "      <td>0.1763</td>\n",
       "      <td>0.3046</td>\n",
       "      <td>100</td>\n",
       "      <td>0.02</td>\n",
       "      <td>87.78</td>\n",
       "      <td>54.92</td>\n",
       "      <td>18.45</td>\n",
       "      <td>0.88</td>\n",
       "      <td>1</td>\n",
       "      <td>0</td>\n",
       "      <td>0</td>\n",
       "      <td>0</td>\n",
       "      <td>0</td>\n",
       "      <td>0</td>\n",
       "      <td>0</td>\n",
       "      <td>0</td>\n",
       "    </tr>\n",
       "    <tr>\n",
       "      <th>1474</th>\n",
       "      <td>2019-05-15 08:00:00</td>\n",
       "      <td>78.85</td>\n",
       "      <td>83.41</td>\n",
       "      <td>8</td>\n",
       "      <td>0.1763</td>\n",
       "      <td>0.3046</td>\n",
       "      <td>100</td>\n",
       "      <td>0.00</td>\n",
       "      <td>87.86</td>\n",
       "      <td>155.38</td>\n",
       "      <td>18.45</td>\n",
       "      <td>0.59</td>\n",
       "      <td>1</td>\n",
       "      <td>0</td>\n",
       "      <td>0</td>\n",
       "      <td>0</td>\n",
       "      <td>0</td>\n",
       "      <td>0</td>\n",
       "      <td>0</td>\n",
       "      <td>0</td>\n",
       "    </tr>\n",
       "  </tbody>\n",
       "</table>\n",
       "</div>"
      ],
      "text/plain": [
       "                TimeStamp  PM2.5(Ug/m3)  PM10(Ug/m3)  hour     EVI    NDVI  \\\n",
       "1470  2019-05-15 04:00:00         51.11        56.42     4  0.1763  0.3046   \n",
       "1471  2019-05-15 05:00:00         29.13        32.04     5  0.1763  0.3046   \n",
       "1472  2019-05-15 06:00:00         54.04        62.13     6  0.1763  0.3046   \n",
       "1473  2019-05-15 07:00:00         65.53        73.15     7  0.1763  0.3046   \n",
       "1474  2019-05-15 08:00:00         78.85        83.41     8  0.1763  0.3046   \n",
       "\n",
       "      humidity (%)  precipitation (mm)  pressure (kPa)  radiation (W/m2)  \\\n",
       "1470           100                0.17           87.72              0.00   \n",
       "1471           100                0.02           87.69              0.00   \n",
       "1472           100                0.00           87.72              2.15   \n",
       "1473           100                0.02           87.78             54.92   \n",
       "1474           100                0.00           87.86            155.38   \n",
       "\n",
       "      temperature (oC)  windspeed (m/s)  winddirection_E  winddirection_N  \\\n",
       "1470             17.93             0.47                0                1   \n",
       "1471             18.22             0.44                1                0   \n",
       "1472             18.45             0.77                1                0   \n",
       "1473             18.45             0.88                1                0   \n",
       "1474             18.45             0.59                1                0   \n",
       "\n",
       "      winddirection_NE  winddirection_NW  winddirection_S  winddirection_SE  \\\n",
       "1470                 0                 0                0                 0   \n",
       "1471                 0                 0                0                 0   \n",
       "1472                 0                 0                0                 0   \n",
       "1473                 0                 0                0                 0   \n",
       "1474                 0                 0                0                 0   \n",
       "\n",
       "      winddirection_SW  winddirection_W  \n",
       "1470                 0                0  \n",
       "1471                 0                0  \n",
       "1472                 0                0  \n",
       "1473                 0                0  \n",
       "1474                 0                0  "
      ]
     },
     "execution_count": 455,
     "metadata": {},
     "output_type": "execute_result"
    }
   ],
   "source": [
    "#added timestep to cater for the shifted records which get droped for having nan values\n",
    "testing_data_for_plotting =airquality_data_copy.loc[training_data_length+validation_data_length+timesteps+1: training_data_length+validation_data_length+testing_data_length,:]\n",
    "print(testing_data_for_plotting.shape)\n",
    "testing_data_for_plotting.head()"
   ]
  },
  {
   "cell_type": "code",
   "execution_count": 456,
   "metadata": {},
   "outputs": [
    {
     "name": "stdout",
     "output_type": "stream",
     "text": [
      "(366, 20)\n",
      "(366,)\n",
      "(366, 1)\n"
     ]
    }
   ],
   "source": [
    "print(testing_data_for_plotting.shape)\n",
    "print(testing_targets.shape)\n",
    "print(deep_lstm_model_predictions.shape)"
   ]
  },
  {
   "cell_type": "raw",
   "metadata": {},
   "source": [
    "actual_pm25_vs_predicted_pm25_dataframe = pd.DataFrame({'TimeStamp':testing_data_for_plotting['TimeStamp'].values, \n",
    "                           'Actual PM2.5':testing_targets.ravel(), 'Predicted PM2.5': deep_lstm_model_predictions.ravel()})\n",
    "\n",
    "\n",
    "actual_pm25_vs_predicted_pm25_dataframe[\"TimeStamp\"] = pd.to_datetime(actual_pm25_vs_predicted_pm25_dataframe[\"TimeStamp\"])\n",
    "actual_pm25_vs_predicted_pm25_dataframe = actual_pm25_vs_predicted_pm25_dataframe.set_index('TimeStamp')"
   ]
  },
  {
   "cell_type": "raw",
   "metadata": {},
   "source": [
    "actual_pm25_vs_predicted_pm25_dataframe.head()"
   ]
  },
  {
   "cell_type": "code",
   "execution_count": 457,
   "metadata": {},
   "outputs": [
    {
     "data": {
      "text/plain": [
       "(366, 1)"
      ]
     },
     "execution_count": 457,
     "metadata": {},
     "output_type": "execute_result"
    }
   ],
   "source": [
    "deep_lstm_model_predictions.shape"
   ]
  },
  {
   "cell_type": "code",
   "execution_count": 458,
   "metadata": {
    "colab": {},
    "colab_type": "code",
    "id": "e1NQ6pyMSb4m"
   },
   "outputs": [
    {
     "data": {
      "image/png": "[encoded data removed]",
      "text/plain": [
       "<Figure size 864x432 with 1 Axes>"
      ]
     },
     "metadata": {
      "needs_background": "light"
     },
     "output_type": "display_data"
    }
   ],
   "source": [
    "fig_deep_lstm_predictions_vs_actual = plt.figure(figsize=(12,6))\n",
    "ax_fig_deep_lstm_predictions_vs_actual = fig_deep_lstm_predictions_vs_actual.add_subplot(111)\n",
    "plt.plot(testing_targets, color = 'red', label = 'Actual PM2.5 Values')\n",
    "plt.plot(deep_lstm_model_predictions, color = 'blue', label = 'Predicted PM2.5 Values')\n",
    "plt.title('Predicted PM2.5  Vs Actual PM2.5 ')\n",
    "plt.xlabel('PM2.5 Records')\n",
    "plt.ylabel('PM2.5 Values')\n",
    "plt.legend()\n",
    "\n",
    "fig_deep_lstm_predictions_vs_actual.savefig(os.path.join(filepath, 'deep_lstm_model_prediction_vs_actual.png'))"
   ]
  },
  {
   "cell_type": "code",
   "execution_count": 459,
   "metadata": {
    "colab": {},
    "colab_type": "code",
    "id": "SAro3NFG2XKh",
    "scrolled": true
   },
   "outputs": [
    {
     "data": {
      "image/png": "[encoded data removed]",
      "text/plain": [
       "<Figure size 576x432 with 1 Axes>"
      ]
     },
     "metadata": {},
     "output_type": "display_data"
    }
   ],
   "source": [
    "sns.set_context('talk')\n",
    "sns.set_style('ticks')\n",
    "sns.set_palette('dark')\n",
    "fig_deep_lstm_predictions_vs_actual_scatter = plt.figure(figsize=(8,6))\n",
    "ax_fig_deep_lstm_predictions_vs_actual_scatter = fig_deep_lstm_predictions_vs_actual_scatter.add_subplot(111)\n",
    "ax = ax_fig_deep_lstm_predictions_vs_actual_scatter\n",
    "# we are going to use y_test, y_test_pred\n",
    "ax.scatter(testing_targets, deep_lstm_model_predictions, alpha=.3)\n",
    "\n",
    "ax.set(xlabel='Actual Values', \n",
    "       ylabel='Predictions',\n",
    "       title='PM2.5 Predictions vs Actual Values');\n",
    "\n",
    "fig_deep_lstm_predictions_vs_actual_scatter.savefig(os.path.join(filepath, 'deep_lstm_model_predictions_vs_actual_values_scatter.png'))"
   ]
  },
  {
   "cell_type": "markdown",
   "metadata": {
    "colab_type": "text",
    "id": "5lryEQH12XKn"
   },
   "source": [
    "### saving results to file"
   ]
  },
  {
   "cell_type": "code",
   "execution_count": 460,
   "metadata": {
    "colab": {},
    "colab_type": "code",
    "id": "2EDwleDm2XLC"
   },
   "outputs": [],
   "source": [
    "with open(os.path.join(filepath, \"results_summary.txt\"), \"w+\") as text_file:\n",
    "        print(\"SVR RMSE : {}\\n SVR MAE : {} \\n Basic LSTM RMSE: {} \\n Basic LSTM MAE: {} \\n Basic LSTM Evaluation Results: {} \\n Deep LSTM RMSE : {} \\n Deep LSTM MAE: {} \\n Deep LSTM Evaluation Results: {}, \\n metrics {}\"\n",
    "              .format(svr_rmse.round(2),svr_mae.round(2),  basic_lstm_rmse.round(2), basic_lstm_mae.round(2), basic_lstm_model_evaluation,\n",
    "                      deep_lstm_rmse.round(2), deep_lstm_mae.round(2),  deep_lstm_model_evaluation, model.metrics_names ), file=text_file)"
   ]
  },
  {
   "cell_type": "code",
   "execution_count": null,
   "metadata": {
    "colab": {},
    "colab_type": "code",
    "id": "kTcRwaN42XLT"
   },
   "outputs": [],
   "source": []
  }
 ],
 "metadata": {
  "accelerator": "GPU",
  "colab": {
   "name": "air_quality_prediction_experimentation_selected_features.ipynb",
   "provenance": [],
   "version": "0.3.2"
  },
  "kernelspec": {
   "display_name": "Python 3",
   "language": "python",
   "name": "python3"
  },
  "language_info": {
   "codemirror_mode": {
    "name": "ipython",
    "version": 3
   },
   "file_extension": ".py",
   "mimetype": "text/x-python",
   "name": "python",
   "nbconvert_exporter": "python",
   "pygments_lexer": "ipython3",
   "version": "3.6.6"
  }
 },
 "nbformat": 4,
 "nbformat_minor": 1
}
