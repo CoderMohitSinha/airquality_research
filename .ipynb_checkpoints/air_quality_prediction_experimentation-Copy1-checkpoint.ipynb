{
 "cells": [
  {
   "cell_type": "code",
   "execution_count": 407,
   "metadata": {
    "colab": {},
    "colab_type": "code",
    "id": "L3-ikINq_CDz"
   },
   "outputs": [],
   "source": [
    "import pandas as pd\n",
    "import numpy as np\n",
    "import seaborn as sns\n",
    "import matplotlib.pyplot as plt \n",
    "%matplotlib inline\n",
    "from sklearn import preprocessing\n",
    "from sklearn.preprocessing import MinMaxScaler\n",
    "from sklearn.metrics import mean_squared_error, mean_absolute_error\n",
    "import os\n",
    "import datetime\n",
    "import math"
   ]
  },
  {
   "cell_type": "code",
   "execution_count": 408,
   "metadata": {
    "colab": {
     "base_uri": "https://localhost:8080/",
     "height": 34
    },
    "colab_type": "code",
    "id": "YgmwH-BI_txh",
    "outputId": "3e4e1ced-5245-4791-a322-86d27a3e3ef8"
   },
   "outputs": [],
   "source": [
    "#from google.colab import drive\n",
    "#drive.mount('/content/drive')"
   ]
  },
  {
   "cell_type": "code",
   "execution_count": 409,
   "metadata": {
    "colab": {},
    "colab_type": "code",
    "id": "InRp4djsBMwh"
   },
   "outputs": [],
   "source": [
    "#!ls \"/content/drive/My Drive/Uni/Msc Comp Science/Year Two/Research/data\""
   ]
  },
  {
   "cell_type": "markdown",
   "metadata": {
    "colab_type": "text",
    "id": "29AZ-B0rSbyj"
   },
   "source": [
    "### Reading in data from various sensors stored in  csv files for airquality data\n",
    "1. Get a list of all the filenames containing data from various sensors using the os python module.\n",
    "2. Turn those into a list of dataframes using pandas"
   ]
  },
  {
   "cell_type": "code",
   "execution_count": 410,
   "metadata": {
    "colab": {},
    "colab_type": "code",
    "id": "geukmPjkSbyn"
   },
   "outputs": [],
   "source": [
    "def show_dataframe_info(df):\n",
    "    print(df.shape)\n",
    "    print(list(df.columns.values))\n",
    "    print('\\n dataframe info: \\n', df.info())\n",
    "    print('\\n dataframe column datatypes:\\n', df.dtypes)"
   ]
  },
  {
   "cell_type": "code",
   "execution_count": 411,
   "metadata": {
    "colab": {
     "base_uri": "https://localhost:8080/",
     "height": 347
    },
    "colab_type": "code",
    "id": "SYFacJONAbXp",
    "outputId": "2b9aad80-eeea-48c9-9345-a1753be42e59"
   },
   "outputs": [
    {
     "data": {
      "text/html": [
       "<div>\n",
       "<style scoped>\n",
       "    .dataframe tbody tr th:only-of-type {\n",
       "        vertical-align: middle;\n",
       "    }\n",
       "\n",
       "    .dataframe tbody tr th {\n",
       "        vertical-align: top;\n",
       "    }\n",
       "\n",
       "    .dataframe thead th {\n",
       "        text-align: right;\n",
       "    }\n",
       "</style>\n",
       "<table border=\"1\" class=\"dataframe\">\n",
       "  <thead>\n",
       "    <tr style=\"text-align: right;\">\n",
       "      <th></th>\n",
       "      <th>TimeStamp</th>\n",
       "      <th>PM1(Ug/m3)</th>\n",
       "      <th>PM2.5(Ug/m3)</th>\n",
       "      <th>PM10(Ug/m3)</th>\n",
       "      <th>hour</th>\n",
       "      <th>EVI</th>\n",
       "      <th>NDVI</th>\n",
       "      <th>humidity (%)</th>\n",
       "      <th>precipitation (mm)</th>\n",
       "      <th>pressure (kPa)</th>\n",
       "      <th>...</th>\n",
       "      <th>temperature (oC)</th>\n",
       "      <th>windspeed (m/s)</th>\n",
       "      <th>winddirection_E</th>\n",
       "      <th>winddirection_N</th>\n",
       "      <th>winddirection_NE</th>\n",
       "      <th>winddirection_NW</th>\n",
       "      <th>winddirection_S</th>\n",
       "      <th>winddirection_SE</th>\n",
       "      <th>winddirection_SW</th>\n",
       "      <th>winddirection_W</th>\n",
       "    </tr>\n",
       "  </thead>\n",
       "  <tbody>\n",
       "    <tr>\n",
       "      <th>0</th>\n",
       "      <td>2017-09-09 18:00</td>\n",
       "      <td>6.36</td>\n",
       "      <td>8.31</td>\n",
       "      <td>18.36</td>\n",
       "      <td>18</td>\n",
       "      <td>0.2002</td>\n",
       "      <td>0.366</td>\n",
       "      <td>73</td>\n",
       "      <td>0.0</td>\n",
       "      <td>87.50</td>\n",
       "      <td>...</td>\n",
       "      <td>23.27</td>\n",
       "      <td>0.44</td>\n",
       "      <td>0</td>\n",
       "      <td>0</td>\n",
       "      <td>0</td>\n",
       "      <td>0</td>\n",
       "      <td>0</td>\n",
       "      <td>1</td>\n",
       "      <td>0</td>\n",
       "      <td>0</td>\n",
       "    </tr>\n",
       "    <tr>\n",
       "      <th>1</th>\n",
       "      <td>2017-09-09 19:00</td>\n",
       "      <td>9.98</td>\n",
       "      <td>12.27</td>\n",
       "      <td>18.93</td>\n",
       "      <td>19</td>\n",
       "      <td>0.2002</td>\n",
       "      <td>0.366</td>\n",
       "      <td>77</td>\n",
       "      <td>0.0</td>\n",
       "      <td>87.58</td>\n",
       "      <td>...</td>\n",
       "      <td>22.72</td>\n",
       "      <td>0.38</td>\n",
       "      <td>0</td>\n",
       "      <td>0</td>\n",
       "      <td>1</td>\n",
       "      <td>0</td>\n",
       "      <td>0</td>\n",
       "      <td>0</td>\n",
       "      <td>0</td>\n",
       "      <td>0</td>\n",
       "    </tr>\n",
       "    <tr>\n",
       "      <th>2</th>\n",
       "      <td>2017-09-09 20:00</td>\n",
       "      <td>12.33</td>\n",
       "      <td>15.04</td>\n",
       "      <td>21.93</td>\n",
       "      <td>20</td>\n",
       "      <td>0.2002</td>\n",
       "      <td>0.366</td>\n",
       "      <td>80</td>\n",
       "      <td>0.0</td>\n",
       "      <td>87.67</td>\n",
       "      <td>...</td>\n",
       "      <td>22.29</td>\n",
       "      <td>0.37</td>\n",
       "      <td>0</td>\n",
       "      <td>0</td>\n",
       "      <td>0</td>\n",
       "      <td>0</td>\n",
       "      <td>0</td>\n",
       "      <td>1</td>\n",
       "      <td>0</td>\n",
       "      <td>0</td>\n",
       "    </tr>\n",
       "    <tr>\n",
       "      <th>3</th>\n",
       "      <td>2017-09-09 21:00</td>\n",
       "      <td>16.61</td>\n",
       "      <td>22.81</td>\n",
       "      <td>45.38</td>\n",
       "      <td>21</td>\n",
       "      <td>0.2002</td>\n",
       "      <td>0.366</td>\n",
       "      <td>82</td>\n",
       "      <td>0.0</td>\n",
       "      <td>87.66</td>\n",
       "      <td>...</td>\n",
       "      <td>21.71</td>\n",
       "      <td>0.34</td>\n",
       "      <td>0</td>\n",
       "      <td>1</td>\n",
       "      <td>0</td>\n",
       "      <td>0</td>\n",
       "      <td>0</td>\n",
       "      <td>0</td>\n",
       "      <td>0</td>\n",
       "      <td>0</td>\n",
       "    </tr>\n",
       "    <tr>\n",
       "      <th>4</th>\n",
       "      <td>2017-09-09 22:00</td>\n",
       "      <td>17.01</td>\n",
       "      <td>23.40</td>\n",
       "      <td>46.11</td>\n",
       "      <td>22</td>\n",
       "      <td>0.2002</td>\n",
       "      <td>0.366</td>\n",
       "      <td>87</td>\n",
       "      <td>0.0</td>\n",
       "      <td>87.68</td>\n",
       "      <td>...</td>\n",
       "      <td>20.86</td>\n",
       "      <td>0.29</td>\n",
       "      <td>0</td>\n",
       "      <td>0</td>\n",
       "      <td>1</td>\n",
       "      <td>0</td>\n",
       "      <td>0</td>\n",
       "      <td>0</td>\n",
       "      <td>0</td>\n",
       "      <td>0</td>\n",
       "    </tr>\n",
       "    <tr>\n",
       "      <th>5</th>\n",
       "      <td>2017-09-09 23:00</td>\n",
       "      <td>17.29</td>\n",
       "      <td>23.77</td>\n",
       "      <td>44.29</td>\n",
       "      <td>23</td>\n",
       "      <td>0.2002</td>\n",
       "      <td>0.366</td>\n",
       "      <td>90</td>\n",
       "      <td>0.0</td>\n",
       "      <td>87.77</td>\n",
       "      <td>...</td>\n",
       "      <td>20.30</td>\n",
       "      <td>0.46</td>\n",
       "      <td>0</td>\n",
       "      <td>0</td>\n",
       "      <td>0</td>\n",
       "      <td>0</td>\n",
       "      <td>0</td>\n",
       "      <td>1</td>\n",
       "      <td>0</td>\n",
       "      <td>0</td>\n",
       "    </tr>\n",
       "    <tr>\n",
       "      <th>6</th>\n",
       "      <td>2017-09-10 0:00</td>\n",
       "      <td>16.59</td>\n",
       "      <td>22.76</td>\n",
       "      <td>39.24</td>\n",
       "      <td>0</td>\n",
       "      <td>0.2002</td>\n",
       "      <td>0.366</td>\n",
       "      <td>91</td>\n",
       "      <td>0.0</td>\n",
       "      <td>87.74</td>\n",
       "      <td>...</td>\n",
       "      <td>20.30</td>\n",
       "      <td>0.59</td>\n",
       "      <td>0</td>\n",
       "      <td>0</td>\n",
       "      <td>0</td>\n",
       "      <td>0</td>\n",
       "      <td>0</td>\n",
       "      <td>1</td>\n",
       "      <td>0</td>\n",
       "      <td>0</td>\n",
       "    </tr>\n",
       "    <tr>\n",
       "      <th>7</th>\n",
       "      <td>2017-09-10 1:00</td>\n",
       "      <td>16.15</td>\n",
       "      <td>22.14</td>\n",
       "      <td>35.52</td>\n",
       "      <td>1</td>\n",
       "      <td>0.2002</td>\n",
       "      <td>0.366</td>\n",
       "      <td>91</td>\n",
       "      <td>0.0</td>\n",
       "      <td>87.67</td>\n",
       "      <td>...</td>\n",
       "      <td>20.14</td>\n",
       "      <td>0.99</td>\n",
       "      <td>0</td>\n",
       "      <td>0</td>\n",
       "      <td>0</td>\n",
       "      <td>0</td>\n",
       "      <td>0</td>\n",
       "      <td>1</td>\n",
       "      <td>0</td>\n",
       "      <td>0</td>\n",
       "    </tr>\n",
       "    <tr>\n",
       "      <th>8</th>\n",
       "      <td>2017-09-10 2:00</td>\n",
       "      <td>15.33</td>\n",
       "      <td>21.00</td>\n",
       "      <td>31.42</td>\n",
       "      <td>2</td>\n",
       "      <td>0.2002</td>\n",
       "      <td>0.366</td>\n",
       "      <td>89</td>\n",
       "      <td>0.0</td>\n",
       "      <td>87.63</td>\n",
       "      <td>...</td>\n",
       "      <td>20.15</td>\n",
       "      <td>1.19</td>\n",
       "      <td>0</td>\n",
       "      <td>0</td>\n",
       "      <td>0</td>\n",
       "      <td>0</td>\n",
       "      <td>0</td>\n",
       "      <td>1</td>\n",
       "      <td>0</td>\n",
       "      <td>0</td>\n",
       "    </tr>\n",
       "    <tr>\n",
       "      <th>9</th>\n",
       "      <td>2017-09-10 3:00</td>\n",
       "      <td>13.99</td>\n",
       "      <td>19.19</td>\n",
       "      <td>27.34</td>\n",
       "      <td>3</td>\n",
       "      <td>0.2002</td>\n",
       "      <td>0.366</td>\n",
       "      <td>89</td>\n",
       "      <td>0.0</td>\n",
       "      <td>87.59</td>\n",
       "      <td>...</td>\n",
       "      <td>19.78</td>\n",
       "      <td>0.69</td>\n",
       "      <td>1</td>\n",
       "      <td>0</td>\n",
       "      <td>0</td>\n",
       "      <td>0</td>\n",
       "      <td>0</td>\n",
       "      <td>0</td>\n",
       "      <td>0</td>\n",
       "      <td>0</td>\n",
       "    </tr>\n",
       "  </tbody>\n",
       "</table>\n",
       "<p>10 rows × 21 columns</p>\n",
       "</div>"
      ],
      "text/plain": [
       "          TimeStamp  PM1(Ug/m3)  PM2.5(Ug/m3)  PM10(Ug/m3)  hour     EVI  \\\n",
       "0  2017-09-09 18:00        6.36          8.31        18.36    18  0.2002   \n",
       "1  2017-09-09 19:00        9.98         12.27        18.93    19  0.2002   \n",
       "2  2017-09-09 20:00       12.33         15.04        21.93    20  0.2002   \n",
       "3  2017-09-09 21:00       16.61         22.81        45.38    21  0.2002   \n",
       "4  2017-09-09 22:00       17.01         23.40        46.11    22  0.2002   \n",
       "5  2017-09-09 23:00       17.29         23.77        44.29    23  0.2002   \n",
       "6   2017-09-10 0:00       16.59         22.76        39.24     0  0.2002   \n",
       "7   2017-09-10 1:00       16.15         22.14        35.52     1  0.2002   \n",
       "8   2017-09-10 2:00       15.33         21.00        31.42     2  0.2002   \n",
       "9   2017-09-10 3:00       13.99         19.19        27.34     3  0.2002   \n",
       "\n",
       "    NDVI  humidity (%)  precipitation (mm)  pressure (kPa)       ...         \\\n",
       "0  0.366            73                 0.0           87.50       ...          \n",
       "1  0.366            77                 0.0           87.58       ...          \n",
       "2  0.366            80                 0.0           87.67       ...          \n",
       "3  0.366            82                 0.0           87.66       ...          \n",
       "4  0.366            87                 0.0           87.68       ...          \n",
       "5  0.366            90                 0.0           87.77       ...          \n",
       "6  0.366            91                 0.0           87.74       ...          \n",
       "7  0.366            91                 0.0           87.67       ...          \n",
       "8  0.366            89                 0.0           87.63       ...          \n",
       "9  0.366            89                 0.0           87.59       ...          \n",
       "\n",
       "   temperature (oC)  windspeed (m/s)  winddirection_E  winddirection_N  \\\n",
       "0             23.27             0.44                0                0   \n",
       "1             22.72             0.38                0                0   \n",
       "2             22.29             0.37                0                0   \n",
       "3             21.71             0.34                0                1   \n",
       "4             20.86             0.29                0                0   \n",
       "5             20.30             0.46                0                0   \n",
       "6             20.30             0.59                0                0   \n",
       "7             20.14             0.99                0                0   \n",
       "8             20.15             1.19                0                0   \n",
       "9             19.78             0.69                1                0   \n",
       "\n",
       "   winddirection_NE  winddirection_NW  winddirection_S  winddirection_SE  \\\n",
       "0                 0                 0                0                 1   \n",
       "1                 1                 0                0                 0   \n",
       "2                 0                 0                0                 1   \n",
       "3                 0                 0                0                 0   \n",
       "4                 1                 0                0                 0   \n",
       "5                 0                 0                0                 1   \n",
       "6                 0                 0                0                 1   \n",
       "7                 0                 0                0                 1   \n",
       "8                 0                 0                0                 1   \n",
       "9                 0                 0                0                 0   \n",
       "\n",
       "   winddirection_SW  winddirection_W  \n",
       "0                 0                0  \n",
       "1                 0                0  \n",
       "2                 0                0  \n",
       "3                 0                0  \n",
       "4                 0                0  \n",
       "5                 0                0  \n",
       "6                 0                0  \n",
       "7                 0                0  \n",
       "8                 0                0  \n",
       "9                 0                0  \n",
       "\n",
       "[10 rows x 21 columns]"
      ]
     },
     "execution_count": 411,
     "metadata": {},
     "output_type": "execute_result"
    }
   ],
   "source": [
    "#airquality_data = combined_df\n",
    "#airquality_data = pd.read_csv('/content/drive/My Drive/Uni/Msc Comp Science/Year Two/Research/experiments/data/AirQuality/AirQo/Bugolobi(ambrosoli)/bugolobi.csv')\n",
    "\n",
    "root_data_dir = 'data'\n",
    "base_dir ='data\\AirQuality\\AirQo'\n",
    "#unit_name = 'Makindye'\n",
    "#base_dir = os.path.join(base_dir, unit_name)\n",
    "\n",
    "#airquality_data = pd.read_csv(os.path.join(base_dir,'Bugolobi(ambrosoli)','merged_hourly_airquality_greenness_meteorological_dataset.csv'))\n",
    "#filepath = os.path.join(base_dir,'Bugolobi(ambrosoli)')\n",
    "\n",
    "#airquality_data = pd.read_csv(os.path.join(base_dir,'Makerere','merged_hourly_airquality_greenness_meteorological_dataset.csv'))\n",
    "#filepath = os.path.join(base_dir,'Makerere')\n",
    "\n",
    "airquality_data = pd.read_csv(os.path.join(base_dir,'Makindye','merged_hourly_airquality_greenness_meteorological_dataset.csv'))\n",
    "filepath = os.path.join(base_dir, 'Makindye')\n",
    "\n",
    "#airquality_data = pd.read_csv(os.path.join(base_dir,'Bukoto(kisu)','merged_hourly_airquality_greenness_meteorological_dataset.csv'))\n",
    "#filepath= os.path.join(base_dir,'Bukoto(kisu)')\n",
    "\n",
    "#airquality_data = pd.read_csv(os.path.join(base_dir,'Mulago','merged_hourly_airquality_greenness_meteorological_dataset.csv'))\n",
    "#filepath= os.path.join(base_dir,'Mulagox')\n",
    "\n",
    "#airquality_data = pd.read_csv(os.path.join(base_dir,'Lubowa','merged_hourly_airquality_greenness_meteorological_dataset.csv'))\n",
    "#filepath = os.path.join(base_dir,'Lubowa')\n",
    "\n",
    "#airquality_data = pd.read_csv(os.path.join(base_dir,'Jinja_Road(NEMAHOUSE)',' merged_hourly_airquality_greenness_meteorological_dataset.csv '))\n",
    "#filepath = os.path.join(base_dir,'Jinja_Road(NEMAHOUSE)')\n",
    "\n",
    "#airquality_data = pd.read_csv(os.path.join(base_dir, 'Rubaga_Mobile',' merged_hourly_airquality_greenness_meteorological_dataset.csv '))\n",
    "#filepath = os.path.join(base_dir, 'Rubaga_Mobile')\n",
    "\n",
    "airquality_data.head(10)"
   ]
  },
  {
   "cell_type": "code",
   "execution_count": 412,
   "metadata": {},
   "outputs": [],
   "source": [
    "airquality_data[\"TimeStamp\"] = pd.to_datetime(airquality_data[\"TimeStamp\"])\n",
    "airquality_data = airquality_data.set_index('TimeStamp')"
   ]
  },
  {
   "cell_type": "code",
   "execution_count": 413,
   "metadata": {},
   "outputs": [],
   "source": [
    "#airquality_data = airquality_data.drop(['Hour'], axis=1)"
   ]
  },
  {
   "cell_type": "code",
   "execution_count": 414,
   "metadata": {
    "colab": {
     "base_uri": "https://localhost:8080/",
     "height": 197
    },
    "colab_type": "code",
    "id": "nCH7dg6uSby0",
    "outputId": "182b0084-fb2e-449f-a3e1-35388b82f8f7"
   },
   "outputs": [
    {
     "data": {
      "text/html": [
       "<div>\n",
       "<style scoped>\n",
       "    .dataframe tbody tr th:only-of-type {\n",
       "        vertical-align: middle;\n",
       "    }\n",
       "\n",
       "    .dataframe tbody tr th {\n",
       "        vertical-align: top;\n",
       "    }\n",
       "\n",
       "    .dataframe thead th {\n",
       "        text-align: right;\n",
       "    }\n",
       "</style>\n",
       "<table border=\"1\" class=\"dataframe\">\n",
       "  <thead>\n",
       "    <tr style=\"text-align: right;\">\n",
       "      <th></th>\n",
       "      <th>PM1(Ug/m3)</th>\n",
       "      <th>PM2.5(Ug/m3)</th>\n",
       "      <th>PM10(Ug/m3)</th>\n",
       "      <th>hour</th>\n",
       "      <th>EVI</th>\n",
       "      <th>NDVI</th>\n",
       "      <th>humidity (%)</th>\n",
       "      <th>precipitation (mm)</th>\n",
       "      <th>pressure (kPa)</th>\n",
       "      <th>radiation (W/m2)</th>\n",
       "      <th>temperature (oC)</th>\n",
       "      <th>windspeed (m/s)</th>\n",
       "      <th>winddirection_E</th>\n",
       "      <th>winddirection_N</th>\n",
       "      <th>winddirection_NE</th>\n",
       "      <th>winddirection_NW</th>\n",
       "      <th>winddirection_S</th>\n",
       "      <th>winddirection_SE</th>\n",
       "      <th>winddirection_SW</th>\n",
       "      <th>winddirection_W</th>\n",
       "    </tr>\n",
       "    <tr>\n",
       "      <th>TimeStamp</th>\n",
       "      <th></th>\n",
       "      <th></th>\n",
       "      <th></th>\n",
       "      <th></th>\n",
       "      <th></th>\n",
       "      <th></th>\n",
       "      <th></th>\n",
       "      <th></th>\n",
       "      <th></th>\n",
       "      <th></th>\n",
       "      <th></th>\n",
       "      <th></th>\n",
       "      <th></th>\n",
       "      <th></th>\n",
       "      <th></th>\n",
       "      <th></th>\n",
       "      <th></th>\n",
       "      <th></th>\n",
       "      <th></th>\n",
       "      <th></th>\n",
       "    </tr>\n",
       "  </thead>\n",
       "  <tbody>\n",
       "    <tr>\n",
       "      <th>2017-09-09 18:00:00</th>\n",
       "      <td>6.36</td>\n",
       "      <td>8.31</td>\n",
       "      <td>18.36</td>\n",
       "      <td>18</td>\n",
       "      <td>0.2002</td>\n",
       "      <td>0.366</td>\n",
       "      <td>73</td>\n",
       "      <td>0.0</td>\n",
       "      <td>87.50</td>\n",
       "      <td>0.9</td>\n",
       "      <td>23.27</td>\n",
       "      <td>0.44</td>\n",
       "      <td>0</td>\n",
       "      <td>0</td>\n",
       "      <td>0</td>\n",
       "      <td>0</td>\n",
       "      <td>0</td>\n",
       "      <td>1</td>\n",
       "      <td>0</td>\n",
       "      <td>0</td>\n",
       "    </tr>\n",
       "    <tr>\n",
       "      <th>2017-09-09 19:00:00</th>\n",
       "      <td>9.98</td>\n",
       "      <td>12.27</td>\n",
       "      <td>18.93</td>\n",
       "      <td>19</td>\n",
       "      <td>0.2002</td>\n",
       "      <td>0.366</td>\n",
       "      <td>77</td>\n",
       "      <td>0.0</td>\n",
       "      <td>87.58</td>\n",
       "      <td>0.0</td>\n",
       "      <td>22.72</td>\n",
       "      <td>0.38</td>\n",
       "      <td>0</td>\n",
       "      <td>0</td>\n",
       "      <td>1</td>\n",
       "      <td>0</td>\n",
       "      <td>0</td>\n",
       "      <td>0</td>\n",
       "      <td>0</td>\n",
       "      <td>0</td>\n",
       "    </tr>\n",
       "    <tr>\n",
       "      <th>2017-09-09 20:00:00</th>\n",
       "      <td>12.33</td>\n",
       "      <td>15.04</td>\n",
       "      <td>21.93</td>\n",
       "      <td>20</td>\n",
       "      <td>0.2002</td>\n",
       "      <td>0.366</td>\n",
       "      <td>80</td>\n",
       "      <td>0.0</td>\n",
       "      <td>87.67</td>\n",
       "      <td>0.0</td>\n",
       "      <td>22.29</td>\n",
       "      <td>0.37</td>\n",
       "      <td>0</td>\n",
       "      <td>0</td>\n",
       "      <td>0</td>\n",
       "      <td>0</td>\n",
       "      <td>0</td>\n",
       "      <td>1</td>\n",
       "      <td>0</td>\n",
       "      <td>0</td>\n",
       "    </tr>\n",
       "    <tr>\n",
       "      <th>2017-09-09 21:00:00</th>\n",
       "      <td>16.61</td>\n",
       "      <td>22.81</td>\n",
       "      <td>45.38</td>\n",
       "      <td>21</td>\n",
       "      <td>0.2002</td>\n",
       "      <td>0.366</td>\n",
       "      <td>82</td>\n",
       "      <td>0.0</td>\n",
       "      <td>87.66</td>\n",
       "      <td>0.0</td>\n",
       "      <td>21.71</td>\n",
       "      <td>0.34</td>\n",
       "      <td>0</td>\n",
       "      <td>1</td>\n",
       "      <td>0</td>\n",
       "      <td>0</td>\n",
       "      <td>0</td>\n",
       "      <td>0</td>\n",
       "      <td>0</td>\n",
       "      <td>0</td>\n",
       "    </tr>\n",
       "    <tr>\n",
       "      <th>2017-09-09 22:00:00</th>\n",
       "      <td>17.01</td>\n",
       "      <td>23.40</td>\n",
       "      <td>46.11</td>\n",
       "      <td>22</td>\n",
       "      <td>0.2002</td>\n",
       "      <td>0.366</td>\n",
       "      <td>87</td>\n",
       "      <td>0.0</td>\n",
       "      <td>87.68</td>\n",
       "      <td>0.0</td>\n",
       "      <td>20.86</td>\n",
       "      <td>0.29</td>\n",
       "      <td>0</td>\n",
       "      <td>0</td>\n",
       "      <td>1</td>\n",
       "      <td>0</td>\n",
       "      <td>0</td>\n",
       "      <td>0</td>\n",
       "      <td>0</td>\n",
       "      <td>0</td>\n",
       "    </tr>\n",
       "  </tbody>\n",
       "</table>\n",
       "</div>"
      ],
      "text/plain": [
       "                     PM1(Ug/m3)  PM2.5(Ug/m3)  PM10(Ug/m3)  hour     EVI  \\\n",
       "TimeStamp                                                                  \n",
       "2017-09-09 18:00:00        6.36          8.31        18.36    18  0.2002   \n",
       "2017-09-09 19:00:00        9.98         12.27        18.93    19  0.2002   \n",
       "2017-09-09 20:00:00       12.33         15.04        21.93    20  0.2002   \n",
       "2017-09-09 21:00:00       16.61         22.81        45.38    21  0.2002   \n",
       "2017-09-09 22:00:00       17.01         23.40        46.11    22  0.2002   \n",
       "\n",
       "                      NDVI  humidity (%)  precipitation (mm)  pressure (kPa)  \\\n",
       "TimeStamp                                                                      \n",
       "2017-09-09 18:00:00  0.366            73                 0.0           87.50   \n",
       "2017-09-09 19:00:00  0.366            77                 0.0           87.58   \n",
       "2017-09-09 20:00:00  0.366            80                 0.0           87.67   \n",
       "2017-09-09 21:00:00  0.366            82                 0.0           87.66   \n",
       "2017-09-09 22:00:00  0.366            87                 0.0           87.68   \n",
       "\n",
       "                     radiation (W/m2)  temperature (oC)  windspeed (m/s)  \\\n",
       "TimeStamp                                                                  \n",
       "2017-09-09 18:00:00               0.9             23.27             0.44   \n",
       "2017-09-09 19:00:00               0.0             22.72             0.38   \n",
       "2017-09-09 20:00:00               0.0             22.29             0.37   \n",
       "2017-09-09 21:00:00               0.0             21.71             0.34   \n",
       "2017-09-09 22:00:00               0.0             20.86             0.29   \n",
       "\n",
       "                     winddirection_E  winddirection_N  winddirection_NE  \\\n",
       "TimeStamp                                                                 \n",
       "2017-09-09 18:00:00                0                0                 0   \n",
       "2017-09-09 19:00:00                0                0                 1   \n",
       "2017-09-09 20:00:00                0                0                 0   \n",
       "2017-09-09 21:00:00                0                1                 0   \n",
       "2017-09-09 22:00:00                0                0                 1   \n",
       "\n",
       "                     winddirection_NW  winddirection_S  winddirection_SE  \\\n",
       "TimeStamp                                                                  \n",
       "2017-09-09 18:00:00                 0                0                 1   \n",
       "2017-09-09 19:00:00                 0                0                 0   \n",
       "2017-09-09 20:00:00                 0                0                 1   \n",
       "2017-09-09 21:00:00                 0                0                 0   \n",
       "2017-09-09 22:00:00                 0                0                 0   \n",
       "\n",
       "                     winddirection_SW  winddirection_W  \n",
       "TimeStamp                                               \n",
       "2017-09-09 18:00:00                 0                0  \n",
       "2017-09-09 19:00:00                 0                0  \n",
       "2017-09-09 20:00:00                 0                0  \n",
       "2017-09-09 21:00:00                 0                0  \n",
       "2017-09-09 22:00:00                 0                0  "
      ]
     },
     "execution_count": 414,
     "metadata": {},
     "output_type": "execute_result"
    }
   ],
   "source": [
    "airquality_data.head()"
   ]
  },
  {
   "cell_type": "code",
   "execution_count": 415,
   "metadata": {
    "colab": {
     "base_uri": "https://localhost:8080/",
     "height": 197
    },
    "colab_type": "code",
    "id": "Ho2ych4lB3cA",
    "outputId": "ac2a2a33-7ff2-4943-b4be-2178342a65e1"
   },
   "outputs": [
    {
     "data": {
      "text/html": [
       "<div>\n",
       "<style scoped>\n",
       "    .dataframe tbody tr th:only-of-type {\n",
       "        vertical-align: middle;\n",
       "    }\n",
       "\n",
       "    .dataframe tbody tr th {\n",
       "        vertical-align: top;\n",
       "    }\n",
       "\n",
       "    .dataframe thead th {\n",
       "        text-align: right;\n",
       "    }\n",
       "</style>\n",
       "<table border=\"1\" class=\"dataframe\">\n",
       "  <thead>\n",
       "    <tr style=\"text-align: right;\">\n",
       "      <th></th>\n",
       "      <th>PM1(Ug/m3)</th>\n",
       "      <th>PM2.5(Ug/m3)</th>\n",
       "      <th>PM10(Ug/m3)</th>\n",
       "      <th>hour</th>\n",
       "      <th>EVI</th>\n",
       "      <th>NDVI</th>\n",
       "      <th>humidity (%)</th>\n",
       "      <th>precipitation (mm)</th>\n",
       "      <th>pressure (kPa)</th>\n",
       "      <th>radiation (W/m2)</th>\n",
       "      <th>temperature (oC)</th>\n",
       "      <th>windspeed (m/s)</th>\n",
       "      <th>winddirection_E</th>\n",
       "      <th>winddirection_N</th>\n",
       "      <th>winddirection_NE</th>\n",
       "      <th>winddirection_NW</th>\n",
       "      <th>winddirection_S</th>\n",
       "      <th>winddirection_SE</th>\n",
       "      <th>winddirection_SW</th>\n",
       "      <th>winddirection_W</th>\n",
       "    </tr>\n",
       "    <tr>\n",
       "      <th>TimeStamp</th>\n",
       "      <th></th>\n",
       "      <th></th>\n",
       "      <th></th>\n",
       "      <th></th>\n",
       "      <th></th>\n",
       "      <th></th>\n",
       "      <th></th>\n",
       "      <th></th>\n",
       "      <th></th>\n",
       "      <th></th>\n",
       "      <th></th>\n",
       "      <th></th>\n",
       "      <th></th>\n",
       "      <th></th>\n",
       "      <th></th>\n",
       "      <th></th>\n",
       "      <th></th>\n",
       "      <th></th>\n",
       "      <th></th>\n",
       "      <th></th>\n",
       "    </tr>\n",
       "  </thead>\n",
       "  <tbody>\n",
       "    <tr>\n",
       "      <th>2019-04-05 10:00:00</th>\n",
       "      <td>1.92</td>\n",
       "      <td>2.81</td>\n",
       "      <td>6.04</td>\n",
       "      <td>10</td>\n",
       "      <td>0.2186</td>\n",
       "      <td>0.3674</td>\n",
       "      <td>69</td>\n",
       "      <td>0.0</td>\n",
       "      <td>87.84</td>\n",
       "      <td>467.87</td>\n",
       "      <td>27.14</td>\n",
       "      <td>1.10</td>\n",
       "      <td>0</td>\n",
       "      <td>0</td>\n",
       "      <td>0</td>\n",
       "      <td>0</td>\n",
       "      <td>1</td>\n",
       "      <td>0</td>\n",
       "      <td>0</td>\n",
       "      <td>0</td>\n",
       "    </tr>\n",
       "    <tr>\n",
       "      <th>2019-04-05 11:00:00</th>\n",
       "      <td>1.68</td>\n",
       "      <td>2.58</td>\n",
       "      <td>5.58</td>\n",
       "      <td>11</td>\n",
       "      <td>0.2186</td>\n",
       "      <td>0.3674</td>\n",
       "      <td>64</td>\n",
       "      <td>0.0</td>\n",
       "      <td>87.80</td>\n",
       "      <td>557.57</td>\n",
       "      <td>27.65</td>\n",
       "      <td>1.14</td>\n",
       "      <td>0</td>\n",
       "      <td>0</td>\n",
       "      <td>0</td>\n",
       "      <td>0</td>\n",
       "      <td>1</td>\n",
       "      <td>0</td>\n",
       "      <td>0</td>\n",
       "      <td>0</td>\n",
       "    </tr>\n",
       "    <tr>\n",
       "      <th>2019-04-05 12:00:00</th>\n",
       "      <td>1.69</td>\n",
       "      <td>2.69</td>\n",
       "      <td>6.13</td>\n",
       "      <td>12</td>\n",
       "      <td>0.2186</td>\n",
       "      <td>0.3674</td>\n",
       "      <td>61</td>\n",
       "      <td>0.0</td>\n",
       "      <td>87.73</td>\n",
       "      <td>878.48</td>\n",
       "      <td>28.34</td>\n",
       "      <td>1.37</td>\n",
       "      <td>0</td>\n",
       "      <td>0</td>\n",
       "      <td>0</td>\n",
       "      <td>0</td>\n",
       "      <td>1</td>\n",
       "      <td>0</td>\n",
       "      <td>0</td>\n",
       "      <td>0</td>\n",
       "    </tr>\n",
       "    <tr>\n",
       "      <th>2019-04-05 13:00:00</th>\n",
       "      <td>1.51</td>\n",
       "      <td>2.29</td>\n",
       "      <td>4.90</td>\n",
       "      <td>13</td>\n",
       "      <td>0.2186</td>\n",
       "      <td>0.3674</td>\n",
       "      <td>62</td>\n",
       "      <td>0.0</td>\n",
       "      <td>87.65</td>\n",
       "      <td>809.73</td>\n",
       "      <td>28.47</td>\n",
       "      <td>1.23</td>\n",
       "      <td>0</td>\n",
       "      <td>0</td>\n",
       "      <td>0</td>\n",
       "      <td>0</td>\n",
       "      <td>1</td>\n",
       "      <td>0</td>\n",
       "      <td>0</td>\n",
       "      <td>0</td>\n",
       "    </tr>\n",
       "    <tr>\n",
       "      <th>2019-04-05 14:00:00</th>\n",
       "      <td>1.78</td>\n",
       "      <td>2.60</td>\n",
       "      <td>5.21</td>\n",
       "      <td>14</td>\n",
       "      <td>0.2186</td>\n",
       "      <td>0.3674</td>\n",
       "      <td>62</td>\n",
       "      <td>0.0</td>\n",
       "      <td>87.56</td>\n",
       "      <td>832.38</td>\n",
       "      <td>28.80</td>\n",
       "      <td>1.34</td>\n",
       "      <td>0</td>\n",
       "      <td>0</td>\n",
       "      <td>0</td>\n",
       "      <td>0</td>\n",
       "      <td>1</td>\n",
       "      <td>0</td>\n",
       "      <td>0</td>\n",
       "      <td>0</td>\n",
       "    </tr>\n",
       "  </tbody>\n",
       "</table>\n",
       "</div>"
      ],
      "text/plain": [
       "                     PM1(Ug/m3)  PM2.5(Ug/m3)  PM10(Ug/m3)  hour     EVI  \\\n",
       "TimeStamp                                                                  \n",
       "2019-04-05 10:00:00        1.92          2.81         6.04    10  0.2186   \n",
       "2019-04-05 11:00:00        1.68          2.58         5.58    11  0.2186   \n",
       "2019-04-05 12:00:00        1.69          2.69         6.13    12  0.2186   \n",
       "2019-04-05 13:00:00        1.51          2.29         4.90    13  0.2186   \n",
       "2019-04-05 14:00:00        1.78          2.60         5.21    14  0.2186   \n",
       "\n",
       "                       NDVI  humidity (%)  precipitation (mm)  pressure (kPa)  \\\n",
       "TimeStamp                                                                       \n",
       "2019-04-05 10:00:00  0.3674            69                 0.0           87.84   \n",
       "2019-04-05 11:00:00  0.3674            64                 0.0           87.80   \n",
       "2019-04-05 12:00:00  0.3674            61                 0.0           87.73   \n",
       "2019-04-05 13:00:00  0.3674            62                 0.0           87.65   \n",
       "2019-04-05 14:00:00  0.3674            62                 0.0           87.56   \n",
       "\n",
       "                     radiation (W/m2)  temperature (oC)  windspeed (m/s)  \\\n",
       "TimeStamp                                                                  \n",
       "2019-04-05 10:00:00            467.87             27.14             1.10   \n",
       "2019-04-05 11:00:00            557.57             27.65             1.14   \n",
       "2019-04-05 12:00:00            878.48             28.34             1.37   \n",
       "2019-04-05 13:00:00            809.73             28.47             1.23   \n",
       "2019-04-05 14:00:00            832.38             28.80             1.34   \n",
       "\n",
       "                     winddirection_E  winddirection_N  winddirection_NE  \\\n",
       "TimeStamp                                                                 \n",
       "2019-04-05 10:00:00                0                0                 0   \n",
       "2019-04-05 11:00:00                0                0                 0   \n",
       "2019-04-05 12:00:00                0                0                 0   \n",
       "2019-04-05 13:00:00                0                0                 0   \n",
       "2019-04-05 14:00:00                0                0                 0   \n",
       "\n",
       "                     winddirection_NW  winddirection_S  winddirection_SE  \\\n",
       "TimeStamp                                                                  \n",
       "2019-04-05 10:00:00                 0                1                 0   \n",
       "2019-04-05 11:00:00                 0                1                 0   \n",
       "2019-04-05 12:00:00                 0                1                 0   \n",
       "2019-04-05 13:00:00                 0                1                 0   \n",
       "2019-04-05 14:00:00                 0                1                 0   \n",
       "\n",
       "                     winddirection_SW  winddirection_W  \n",
       "TimeStamp                                               \n",
       "2019-04-05 10:00:00                 0                0  \n",
       "2019-04-05 11:00:00                 0                0  \n",
       "2019-04-05 12:00:00                 0                0  \n",
       "2019-04-05 13:00:00                 0                0  \n",
       "2019-04-05 14:00:00                 0                0  "
      ]
     },
     "execution_count": 415,
     "metadata": {},
     "output_type": "execute_result"
    }
   ],
   "source": [
    "airquality_data.tail()"
   ]
  },
  {
   "cell_type": "code",
   "execution_count": 416,
   "metadata": {
    "colab": {
     "base_uri": "https://localhost:8080/",
     "height": 567
    },
    "colab_type": "code",
    "id": "LueXKLM3B_DR",
    "outputId": "ba5a377a-7b5b-41a8-f5ba-26424099dd23"
   },
   "outputs": [
    {
     "name": "stdout",
     "output_type": "stream",
     "text": [
      "(12596, 20)\n",
      "['PM1(Ug/m3)', 'PM2.5(Ug/m3)', 'PM10(Ug/m3)', 'hour', 'EVI', 'NDVI', 'humidity (%)', 'precipitation (mm)', 'pressure (kPa)', 'radiation (W/m2)', 'temperature (oC)', 'windspeed (m/s)', 'winddirection_E', 'winddirection_N', 'winddirection_NE', 'winddirection_NW', 'winddirection_S', 'winddirection_SE', 'winddirection_SW', 'winddirection_W']\n",
      "<class 'pandas.core.frame.DataFrame'>\n",
      "DatetimeIndex: 12596 entries, 2017-09-09 18:00:00 to 2019-04-05 14:00:00\n",
      "Data columns (total 20 columns):\n",
      "PM1(Ug/m3)            12596 non-null float64\n",
      "PM2.5(Ug/m3)          12596 non-null float64\n",
      "PM10(Ug/m3)           12596 non-null float64\n",
      "hour                  12596 non-null int64\n",
      "EVI                   12596 non-null float64\n",
      "NDVI                  12596 non-null float64\n",
      "humidity (%)          12596 non-null int64\n",
      "precipitation (mm)    12596 non-null float64\n",
      "pressure (kPa)        12596 non-null float64\n",
      "radiation (W/m2)      12596 non-null float64\n",
      "temperature (oC)      12596 non-null float64\n",
      "windspeed (m/s)       12596 non-null float64\n",
      "winddirection_E       12596 non-null int64\n",
      "winddirection_N       12596 non-null int64\n",
      "winddirection_NE      12596 non-null int64\n",
      "winddirection_NW      12596 non-null int64\n",
      "winddirection_S       12596 non-null int64\n",
      "winddirection_SE      12596 non-null int64\n",
      "winddirection_SW      12596 non-null int64\n",
      "winddirection_W       12596 non-null int64\n",
      "dtypes: float64(10), int64(10)\n",
      "memory usage: 2.0 MB\n",
      "\n",
      " dataframe info: \n",
      " None\n",
      "\n",
      " dataframe column datatypes:\n",
      " PM1(Ug/m3)            float64\n",
      "PM2.5(Ug/m3)          float64\n",
      "PM10(Ug/m3)           float64\n",
      "hour                    int64\n",
      "EVI                   float64\n",
      "NDVI                  float64\n",
      "humidity (%)            int64\n",
      "precipitation (mm)    float64\n",
      "pressure (kPa)        float64\n",
      "radiation (W/m2)      float64\n",
      "temperature (oC)      float64\n",
      "windspeed (m/s)       float64\n",
      "winddirection_E         int64\n",
      "winddirection_N         int64\n",
      "winddirection_NE        int64\n",
      "winddirection_NW        int64\n",
      "winddirection_S         int64\n",
      "winddirection_SE        int64\n",
      "winddirection_SW        int64\n",
      "winddirection_W         int64\n",
      "dtype: object\n"
     ]
    }
   ],
   "source": [
    "show_dataframe_info(airquality_data)"
   ]
  },
  {
   "cell_type": "code",
   "execution_count": 417,
   "metadata": {
    "colab": {
     "base_uri": "https://localhost:8080/",
     "height": 287
    },
    "colab_type": "code",
    "id": "6inajEGHCWNw",
    "outputId": "33b50565-8809-4013-a695-c6b5f79bfe0b"
   },
   "outputs": [
    {
     "data": {
      "text/html": [
       "<div>\n",
       "<style scoped>\n",
       "    .dataframe tbody tr th:only-of-type {\n",
       "        vertical-align: middle;\n",
       "    }\n",
       "\n",
       "    .dataframe tbody tr th {\n",
       "        vertical-align: top;\n",
       "    }\n",
       "\n",
       "    .dataframe thead th {\n",
       "        text-align: right;\n",
       "    }\n",
       "</style>\n",
       "<table border=\"1\" class=\"dataframe\">\n",
       "  <thead>\n",
       "    <tr style=\"text-align: right;\">\n",
       "      <th></th>\n",
       "      <th>PM1(Ug/m3)</th>\n",
       "      <th>PM2.5(Ug/m3)</th>\n",
       "      <th>PM10(Ug/m3)</th>\n",
       "      <th>hour</th>\n",
       "      <th>EVI</th>\n",
       "      <th>NDVI</th>\n",
       "      <th>humidity (%)</th>\n",
       "      <th>precipitation (mm)</th>\n",
       "      <th>pressure (kPa)</th>\n",
       "      <th>radiation (W/m2)</th>\n",
       "      <th>temperature (oC)</th>\n",
       "      <th>windspeed (m/s)</th>\n",
       "      <th>winddirection_E</th>\n",
       "      <th>winddirection_N</th>\n",
       "      <th>winddirection_NE</th>\n",
       "      <th>winddirection_NW</th>\n",
       "      <th>winddirection_S</th>\n",
       "      <th>winddirection_SE</th>\n",
       "      <th>winddirection_SW</th>\n",
       "      <th>winddirection_W</th>\n",
       "    </tr>\n",
       "  </thead>\n",
       "  <tbody>\n",
       "    <tr>\n",
       "      <th>count</th>\n",
       "      <td>12596.000000</td>\n",
       "      <td>12596.000000</td>\n",
       "      <td>12596.000000</td>\n",
       "      <td>12596.000000</td>\n",
       "      <td>12596.000000</td>\n",
       "      <td>12596.000000</td>\n",
       "      <td>12596.000000</td>\n",
       "      <td>12596.000000</td>\n",
       "      <td>12596.000000</td>\n",
       "      <td>12596.000000</td>\n",
       "      <td>12596.000000</td>\n",
       "      <td>12596.000000</td>\n",
       "      <td>12596.000000</td>\n",
       "      <td>12596.000000</td>\n",
       "      <td>12596.000000</td>\n",
       "      <td>12596.000000</td>\n",
       "      <td>12596.000000</td>\n",
       "      <td>12596.000000</td>\n",
       "      <td>12596.000000</td>\n",
       "      <td>12596.000000</td>\n",
       "    </tr>\n",
       "    <tr>\n",
       "      <th>mean</th>\n",
       "      <td>11.932353</td>\n",
       "      <td>16.632879</td>\n",
       "      <td>28.098837</td>\n",
       "      <td>11.494601</td>\n",
       "      <td>0.209319</td>\n",
       "      <td>0.374949</td>\n",
       "      <td>-99.141394</td>\n",
       "      <td>0.128062</td>\n",
       "      <td>87.676804</td>\n",
       "      <td>158.166226</td>\n",
       "      <td>22.577933</td>\n",
       "      <td>-100.647091</td>\n",
       "      <td>0.103128</td>\n",
       "      <td>0.064068</td>\n",
       "      <td>0.075262</td>\n",
       "      <td>0.098285</td>\n",
       "      <td>0.215545</td>\n",
       "      <td>0.217450</td>\n",
       "      <td>0.123611</td>\n",
       "      <td>0.102652</td>\n",
       "    </tr>\n",
       "    <tr>\n",
       "      <th>std</th>\n",
       "      <td>11.238641</td>\n",
       "      <td>15.939169</td>\n",
       "      <td>21.661583</td>\n",
       "      <td>6.922130</td>\n",
       "      <td>0.025652</td>\n",
       "      <td>0.024931</td>\n",
       "      <td>1326.029547</td>\n",
       "      <td>1.202631</td>\n",
       "      <td>0.182798</td>\n",
       "      <td>234.279611</td>\n",
       "      <td>3.445170</td>\n",
       "      <td>1002.867102</td>\n",
       "      <td>0.304138</td>\n",
       "      <td>0.244884</td>\n",
       "      <td>0.263824</td>\n",
       "      <td>0.297712</td>\n",
       "      <td>0.411216</td>\n",
       "      <td>0.412528</td>\n",
       "      <td>0.329150</td>\n",
       "      <td>0.303515</td>\n",
       "    </tr>\n",
       "    <tr>\n",
       "      <th>min</th>\n",
       "      <td>0.000000</td>\n",
       "      <td>0.020000</td>\n",
       "      <td>0.020000</td>\n",
       "      <td>0.000000</td>\n",
       "      <td>0.168600</td>\n",
       "      <td>0.328700</td>\n",
       "      <td>-9998.000000</td>\n",
       "      <td>0.000000</td>\n",
       "      <td>87.060000</td>\n",
       "      <td>0.000000</td>\n",
       "      <td>15.470000</td>\n",
       "      <td>-9998.000000</td>\n",
       "      <td>0.000000</td>\n",
       "      <td>0.000000</td>\n",
       "      <td>0.000000</td>\n",
       "      <td>0.000000</td>\n",
       "      <td>0.000000</td>\n",
       "      <td>0.000000</td>\n",
       "      <td>0.000000</td>\n",
       "      <td>0.000000</td>\n",
       "    </tr>\n",
       "    <tr>\n",
       "      <th>25%</th>\n",
       "      <td>5.447500</td>\n",
       "      <td>8.020000</td>\n",
       "      <td>15.320000</td>\n",
       "      <td>5.000000</td>\n",
       "      <td>0.190800</td>\n",
       "      <td>0.368700</td>\n",
       "      <td>66.000000</td>\n",
       "      <td>0.000000</td>\n",
       "      <td>87.550000</td>\n",
       "      <td>0.000000</td>\n",
       "      <td>19.890000</td>\n",
       "      <td>0.480000</td>\n",
       "      <td>0.000000</td>\n",
       "      <td>0.000000</td>\n",
       "      <td>0.000000</td>\n",
       "      <td>0.000000</td>\n",
       "      <td>0.000000</td>\n",
       "      <td>0.000000</td>\n",
       "      <td>0.000000</td>\n",
       "      <td>0.000000</td>\n",
       "    </tr>\n",
       "    <tr>\n",
       "      <th>50%</th>\n",
       "      <td>9.140000</td>\n",
       "      <td>12.740000</td>\n",
       "      <td>24.245000</td>\n",
       "      <td>11.000000</td>\n",
       "      <td>0.203500</td>\n",
       "      <td>0.378700</td>\n",
       "      <td>82.000000</td>\n",
       "      <td>0.000000</td>\n",
       "      <td>87.670000</td>\n",
       "      <td>3.420000</td>\n",
       "      <td>21.590000</td>\n",
       "      <td>0.710000</td>\n",
       "      <td>0.000000</td>\n",
       "      <td>0.000000</td>\n",
       "      <td>0.000000</td>\n",
       "      <td>0.000000</td>\n",
       "      <td>0.000000</td>\n",
       "      <td>0.000000</td>\n",
       "      <td>0.000000</td>\n",
       "      <td>0.000000</td>\n",
       "    </tr>\n",
       "    <tr>\n",
       "      <th>75%</th>\n",
       "      <td>15.410000</td>\n",
       "      <td>21.540000</td>\n",
       "      <td>36.880000</td>\n",
       "      <td>17.000000</td>\n",
       "      <td>0.215900</td>\n",
       "      <td>0.390900</td>\n",
       "      <td>91.000000</td>\n",
       "      <td>0.000000</td>\n",
       "      <td>87.810000</td>\n",
       "      <td>276.927500</td>\n",
       "      <td>25.150000</td>\n",
       "      <td>1.040000</td>\n",
       "      <td>0.000000</td>\n",
       "      <td>0.000000</td>\n",
       "      <td>0.000000</td>\n",
       "      <td>0.000000</td>\n",
       "      <td>0.000000</td>\n",
       "      <td>0.000000</td>\n",
       "      <td>0.000000</td>\n",
       "      <td>0.000000</td>\n",
       "    </tr>\n",
       "    <tr>\n",
       "      <th>max</th>\n",
       "      <td>374.160000</td>\n",
       "      <td>461.130000</td>\n",
       "      <td>462.670000</td>\n",
       "      <td>23.000000</td>\n",
       "      <td>0.266200</td>\n",
       "      <td>0.424200</td>\n",
       "      <td>100.000000</td>\n",
       "      <td>46.230000</td>\n",
       "      <td>88.200000</td>\n",
       "      <td>1057.280000</td>\n",
       "      <td>33.370000</td>\n",
       "      <td>36.910000</td>\n",
       "      <td>1.000000</td>\n",
       "      <td>1.000000</td>\n",
       "      <td>1.000000</td>\n",
       "      <td>1.000000</td>\n",
       "      <td>1.000000</td>\n",
       "      <td>1.000000</td>\n",
       "      <td>1.000000</td>\n",
       "      <td>1.000000</td>\n",
       "    </tr>\n",
       "  </tbody>\n",
       "</table>\n",
       "</div>"
      ],
      "text/plain": [
       "         PM1(Ug/m3)  PM2.5(Ug/m3)   PM10(Ug/m3)          hour           EVI  \\\n",
       "count  12596.000000  12596.000000  12596.000000  12596.000000  12596.000000   \n",
       "mean      11.932353     16.632879     28.098837     11.494601      0.209319   \n",
       "std       11.238641     15.939169     21.661583      6.922130      0.025652   \n",
       "min        0.000000      0.020000      0.020000      0.000000      0.168600   \n",
       "25%        5.447500      8.020000     15.320000      5.000000      0.190800   \n",
       "50%        9.140000     12.740000     24.245000     11.000000      0.203500   \n",
       "75%       15.410000     21.540000     36.880000     17.000000      0.215900   \n",
       "max      374.160000    461.130000    462.670000     23.000000      0.266200   \n",
       "\n",
       "               NDVI  humidity (%)  precipitation (mm)  pressure (kPa)  \\\n",
       "count  12596.000000  12596.000000        12596.000000    12596.000000   \n",
       "mean       0.374949    -99.141394            0.128062       87.676804   \n",
       "std        0.024931   1326.029547            1.202631        0.182798   \n",
       "min        0.328700  -9998.000000            0.000000       87.060000   \n",
       "25%        0.368700     66.000000            0.000000       87.550000   \n",
       "50%        0.378700     82.000000            0.000000       87.670000   \n",
       "75%        0.390900     91.000000            0.000000       87.810000   \n",
       "max        0.424200    100.000000           46.230000       88.200000   \n",
       "\n",
       "       radiation (W/m2)  temperature (oC)  windspeed (m/s)  winddirection_E  \\\n",
       "count      12596.000000      12596.000000     12596.000000     12596.000000   \n",
       "mean         158.166226         22.577933      -100.647091         0.103128   \n",
       "std          234.279611          3.445170      1002.867102         0.304138   \n",
       "min            0.000000         15.470000     -9998.000000         0.000000   \n",
       "25%            0.000000         19.890000         0.480000         0.000000   \n",
       "50%            3.420000         21.590000         0.710000         0.000000   \n",
       "75%          276.927500         25.150000         1.040000         0.000000   \n",
       "max         1057.280000         33.370000        36.910000         1.000000   \n",
       "\n",
       "       winddirection_N  winddirection_NE  winddirection_NW  winddirection_S  \\\n",
       "count     12596.000000      12596.000000      12596.000000     12596.000000   \n",
       "mean          0.064068          0.075262          0.098285         0.215545   \n",
       "std           0.244884          0.263824          0.297712         0.411216   \n",
       "min           0.000000          0.000000          0.000000         0.000000   \n",
       "25%           0.000000          0.000000          0.000000         0.000000   \n",
       "50%           0.000000          0.000000          0.000000         0.000000   \n",
       "75%           0.000000          0.000000          0.000000         0.000000   \n",
       "max           1.000000          1.000000          1.000000         1.000000   \n",
       "\n",
       "       winddirection_SE  winddirection_SW  winddirection_W  \n",
       "count      12596.000000      12596.000000     12596.000000  \n",
       "mean           0.217450          0.123611         0.102652  \n",
       "std            0.412528          0.329150         0.303515  \n",
       "min            0.000000          0.000000         0.000000  \n",
       "25%            0.000000          0.000000         0.000000  \n",
       "50%            0.000000          0.000000         0.000000  \n",
       "75%            0.000000          0.000000         0.000000  \n",
       "max            1.000000          1.000000         1.000000  "
      ]
     },
     "execution_count": 417,
     "metadata": {},
     "output_type": "execute_result"
    }
   ],
   "source": [
    "airquality_data.describe()"
   ]
  },
  {
   "cell_type": "markdown",
   "metadata": {
    "colab_type": "text",
    "id": "_QqtVZw7Sb3i"
   },
   "source": [
    "### Separate Features From the Target"
   ]
  },
  {
   "cell_type": "code",
   "execution_count": 418,
   "metadata": {},
   "outputs": [],
   "source": [
    "#target_column = 'PM2.5(Ug/m3)'\n",
    "#feature_columns = [x for x in airquality_data.columns if x != target_column]\n",
    "feature_columns = [0,2, 3,4,5,6,8,9,10,11,12,13,14,15,16,17,18,19]\n",
    "target_column = [1]\n",
    "features = airquality_data.iloc[:,feature_columns]\n",
    "targets = airquality_data.iloc[:,target_column]"
   ]
  },
  {
   "cell_type": "code",
   "execution_count": 419,
   "metadata": {},
   "outputs": [
    {
     "data": {
      "text/html": [
       "<div>\n",
       "<style scoped>\n",
       "    .dataframe tbody tr th:only-of-type {\n",
       "        vertical-align: middle;\n",
       "    }\n",
       "\n",
       "    .dataframe tbody tr th {\n",
       "        vertical-align: top;\n",
       "    }\n",
       "\n",
       "    .dataframe thead th {\n",
       "        text-align: right;\n",
       "    }\n",
       "</style>\n",
       "<table border=\"1\" class=\"dataframe\">\n",
       "  <thead>\n",
       "    <tr style=\"text-align: right;\">\n",
       "      <th></th>\n",
       "      <th>PM1(Ug/m3)</th>\n",
       "      <th>PM10(Ug/m3)</th>\n",
       "      <th>hour</th>\n",
       "      <th>EVI</th>\n",
       "      <th>NDVI</th>\n",
       "      <th>humidity (%)</th>\n",
       "      <th>pressure (kPa)</th>\n",
       "      <th>radiation (W/m2)</th>\n",
       "      <th>temperature (oC)</th>\n",
       "      <th>windspeed (m/s)</th>\n",
       "      <th>winddirection_E</th>\n",
       "      <th>winddirection_N</th>\n",
       "      <th>winddirection_NE</th>\n",
       "      <th>winddirection_NW</th>\n",
       "      <th>winddirection_S</th>\n",
       "      <th>winddirection_SE</th>\n",
       "      <th>winddirection_SW</th>\n",
       "      <th>winddirection_W</th>\n",
       "    </tr>\n",
       "    <tr>\n",
       "      <th>TimeStamp</th>\n",
       "      <th></th>\n",
       "      <th></th>\n",
       "      <th></th>\n",
       "      <th></th>\n",
       "      <th></th>\n",
       "      <th></th>\n",
       "      <th></th>\n",
       "      <th></th>\n",
       "      <th></th>\n",
       "      <th></th>\n",
       "      <th></th>\n",
       "      <th></th>\n",
       "      <th></th>\n",
       "      <th></th>\n",
       "      <th></th>\n",
       "      <th></th>\n",
       "      <th></th>\n",
       "      <th></th>\n",
       "    </tr>\n",
       "  </thead>\n",
       "  <tbody>\n",
       "    <tr>\n",
       "      <th>2017-09-09 18:00:00</th>\n",
       "      <td>6.36</td>\n",
       "      <td>18.36</td>\n",
       "      <td>18</td>\n",
       "      <td>0.2002</td>\n",
       "      <td>0.366</td>\n",
       "      <td>73</td>\n",
       "      <td>87.50</td>\n",
       "      <td>0.9</td>\n",
       "      <td>23.27</td>\n",
       "      <td>0.44</td>\n",
       "      <td>0</td>\n",
       "      <td>0</td>\n",
       "      <td>0</td>\n",
       "      <td>0</td>\n",
       "      <td>0</td>\n",
       "      <td>1</td>\n",
       "      <td>0</td>\n",
       "      <td>0</td>\n",
       "    </tr>\n",
       "    <tr>\n",
       "      <th>2017-09-09 19:00:00</th>\n",
       "      <td>9.98</td>\n",
       "      <td>18.93</td>\n",
       "      <td>19</td>\n",
       "      <td>0.2002</td>\n",
       "      <td>0.366</td>\n",
       "      <td>77</td>\n",
       "      <td>87.58</td>\n",
       "      <td>0.0</td>\n",
       "      <td>22.72</td>\n",
       "      <td>0.38</td>\n",
       "      <td>0</td>\n",
       "      <td>0</td>\n",
       "      <td>1</td>\n",
       "      <td>0</td>\n",
       "      <td>0</td>\n",
       "      <td>0</td>\n",
       "      <td>0</td>\n",
       "      <td>0</td>\n",
       "    </tr>\n",
       "    <tr>\n",
       "      <th>2017-09-09 20:00:00</th>\n",
       "      <td>12.33</td>\n",
       "      <td>21.93</td>\n",
       "      <td>20</td>\n",
       "      <td>0.2002</td>\n",
       "      <td>0.366</td>\n",
       "      <td>80</td>\n",
       "      <td>87.67</td>\n",
       "      <td>0.0</td>\n",
       "      <td>22.29</td>\n",
       "      <td>0.37</td>\n",
       "      <td>0</td>\n",
       "      <td>0</td>\n",
       "      <td>0</td>\n",
       "      <td>0</td>\n",
       "      <td>0</td>\n",
       "      <td>1</td>\n",
       "      <td>0</td>\n",
       "      <td>0</td>\n",
       "    </tr>\n",
       "    <tr>\n",
       "      <th>2017-09-09 21:00:00</th>\n",
       "      <td>16.61</td>\n",
       "      <td>45.38</td>\n",
       "      <td>21</td>\n",
       "      <td>0.2002</td>\n",
       "      <td>0.366</td>\n",
       "      <td>82</td>\n",
       "      <td>87.66</td>\n",
       "      <td>0.0</td>\n",
       "      <td>21.71</td>\n",
       "      <td>0.34</td>\n",
       "      <td>0</td>\n",
       "      <td>1</td>\n",
       "      <td>0</td>\n",
       "      <td>0</td>\n",
       "      <td>0</td>\n",
       "      <td>0</td>\n",
       "      <td>0</td>\n",
       "      <td>0</td>\n",
       "    </tr>\n",
       "    <tr>\n",
       "      <th>2017-09-09 22:00:00</th>\n",
       "      <td>17.01</td>\n",
       "      <td>46.11</td>\n",
       "      <td>22</td>\n",
       "      <td>0.2002</td>\n",
       "      <td>0.366</td>\n",
       "      <td>87</td>\n",
       "      <td>87.68</td>\n",
       "      <td>0.0</td>\n",
       "      <td>20.86</td>\n",
       "      <td>0.29</td>\n",
       "      <td>0</td>\n",
       "      <td>0</td>\n",
       "      <td>1</td>\n",
       "      <td>0</td>\n",
       "      <td>0</td>\n",
       "      <td>0</td>\n",
       "      <td>0</td>\n",
       "      <td>0</td>\n",
       "    </tr>\n",
       "  </tbody>\n",
       "</table>\n",
       "</div>"
      ],
      "text/plain": [
       "                     PM1(Ug/m3)  PM10(Ug/m3)  hour     EVI   NDVI  \\\n",
       "TimeStamp                                                           \n",
       "2017-09-09 18:00:00        6.36        18.36    18  0.2002  0.366   \n",
       "2017-09-09 19:00:00        9.98        18.93    19  0.2002  0.366   \n",
       "2017-09-09 20:00:00       12.33        21.93    20  0.2002  0.366   \n",
       "2017-09-09 21:00:00       16.61        45.38    21  0.2002  0.366   \n",
       "2017-09-09 22:00:00       17.01        46.11    22  0.2002  0.366   \n",
       "\n",
       "                     humidity (%)  pressure (kPa)  radiation (W/m2)  \\\n",
       "TimeStamp                                                             \n",
       "2017-09-09 18:00:00            73           87.50               0.9   \n",
       "2017-09-09 19:00:00            77           87.58               0.0   \n",
       "2017-09-09 20:00:00            80           87.67               0.0   \n",
       "2017-09-09 21:00:00            82           87.66               0.0   \n",
       "2017-09-09 22:00:00            87           87.68               0.0   \n",
       "\n",
       "                     temperature (oC)  windspeed (m/s)  winddirection_E  \\\n",
       "TimeStamp                                                                 \n",
       "2017-09-09 18:00:00             23.27             0.44                0   \n",
       "2017-09-09 19:00:00             22.72             0.38                0   \n",
       "2017-09-09 20:00:00             22.29             0.37                0   \n",
       "2017-09-09 21:00:00             21.71             0.34                0   \n",
       "2017-09-09 22:00:00             20.86             0.29                0   \n",
       "\n",
       "                     winddirection_N  winddirection_NE  winddirection_NW  \\\n",
       "TimeStamp                                                                  \n",
       "2017-09-09 18:00:00                0                 0                 0   \n",
       "2017-09-09 19:00:00                0                 1                 0   \n",
       "2017-09-09 20:00:00                0                 0                 0   \n",
       "2017-09-09 21:00:00                1                 0                 0   \n",
       "2017-09-09 22:00:00                0                 1                 0   \n",
       "\n",
       "                     winddirection_S  winddirection_SE  winddirection_SW  \\\n",
       "TimeStamp                                                                  \n",
       "2017-09-09 18:00:00                0                 1                 0   \n",
       "2017-09-09 19:00:00                0                 0                 0   \n",
       "2017-09-09 20:00:00                0                 1                 0   \n",
       "2017-09-09 21:00:00                0                 0                 0   \n",
       "2017-09-09 22:00:00                0                 0                 0   \n",
       "\n",
       "                     winddirection_W  \n",
       "TimeStamp                             \n",
       "2017-09-09 18:00:00                0  \n",
       "2017-09-09 19:00:00                0  \n",
       "2017-09-09 20:00:00                0  \n",
       "2017-09-09 21:00:00                0  \n",
       "2017-09-09 22:00:00                0  "
      ]
     },
     "execution_count": 419,
     "metadata": {},
     "output_type": "execute_result"
    }
   ],
   "source": [
    "features.head()"
   ]
  },
  {
   "cell_type": "code",
   "execution_count": 420,
   "metadata": {},
   "outputs": [
    {
     "data": {
      "text/html": [
       "<div>\n",
       "<style scoped>\n",
       "    .dataframe tbody tr th:only-of-type {\n",
       "        vertical-align: middle;\n",
       "    }\n",
       "\n",
       "    .dataframe tbody tr th {\n",
       "        vertical-align: top;\n",
       "    }\n",
       "\n",
       "    .dataframe thead th {\n",
       "        text-align: right;\n",
       "    }\n",
       "</style>\n",
       "<table border=\"1\" class=\"dataframe\">\n",
       "  <thead>\n",
       "    <tr style=\"text-align: right;\">\n",
       "      <th></th>\n",
       "      <th>PM2.5(Ug/m3)</th>\n",
       "    </tr>\n",
       "    <tr>\n",
       "      <th>TimeStamp</th>\n",
       "      <th></th>\n",
       "    </tr>\n",
       "  </thead>\n",
       "  <tbody>\n",
       "    <tr>\n",
       "      <th>2017-09-09 18:00:00</th>\n",
       "      <td>8.31</td>\n",
       "    </tr>\n",
       "    <tr>\n",
       "      <th>2017-09-09 19:00:00</th>\n",
       "      <td>12.27</td>\n",
       "    </tr>\n",
       "    <tr>\n",
       "      <th>2017-09-09 20:00:00</th>\n",
       "      <td>15.04</td>\n",
       "    </tr>\n",
       "    <tr>\n",
       "      <th>2017-09-09 21:00:00</th>\n",
       "      <td>22.81</td>\n",
       "    </tr>\n",
       "    <tr>\n",
       "      <th>2017-09-09 22:00:00</th>\n",
       "      <td>23.40</td>\n",
       "    </tr>\n",
       "  </tbody>\n",
       "</table>\n",
       "</div>"
      ],
      "text/plain": [
       "                     PM2.5(Ug/m3)\n",
       "TimeStamp                        \n",
       "2017-09-09 18:00:00          8.31\n",
       "2017-09-09 19:00:00         12.27\n",
       "2017-09-09 20:00:00         15.04\n",
       "2017-09-09 21:00:00         22.81\n",
       "2017-09-09 22:00:00         23.40"
      ]
     },
     "execution_count": 420,
     "metadata": {},
     "output_type": "execute_result"
    }
   ],
   "source": [
    "targets.head()"
   ]
  },
  {
   "cell_type": "markdown",
   "metadata": {
    "colab_type": "text",
    "id": "LvOH8t25Sb4E"
   },
   "source": [
    "\n",
    "### separate test dataset from training dataset and validation dataset\n",
    "- separate data on 70/10/20 training/validation/testing\n"
   ]
  },
  {
   "cell_type": "code",
   "execution_count": 421,
   "metadata": {},
   "outputs": [
    {
     "name": "stdout",
     "output_type": "stream",
     "text": [
      "12596\n",
      "8817\n",
      "1259\n",
      "2519\n",
      "12595\n"
     ]
    }
   ],
   "source": [
    "training_data = len(airquality_data)\n",
    "print(training_data)\n",
    "\n",
    "training_data_length = math.floor(len(airquality_data)* 0.7)\n",
    "print(training_data_length)\n",
    "\n",
    "validation_data_length = math.floor(len(airquality_data)*0.1)\n",
    "print(validation_data_length)\n",
    "\n",
    "testing_data_length = math.floor(len(airquality_data)* 0.2)\n",
    "print(testing_data_length)\n",
    "\n",
    "print(str(training_data_length + validation_data_length + testing_data_length ))"
   ]
  },
  {
   "cell_type": "code",
   "execution_count": null,
   "metadata": {},
   "outputs": [],
   "source": []
  },
  {
   "cell_type": "code",
   "execution_count": 422,
   "metadata": {
    "colab": {
     "base_uri": "https://localhost:8080/",
     "height": 87
    },
    "colab_type": "code",
    "id": "yiqwv889Sb4E",
    "outputId": "38629036-60c7-4862-d0f2-b69b4cf3b32f"
   },
   "outputs": [
    {
     "name": "stdout",
     "output_type": "stream",
     "text": [
      "(8817, 18)\n",
      "(8817, 1)\n",
      "(1259, 18)\n",
      "(1259, 1)\n",
      "(2519, 18)\n",
      "(2519, 1)\n"
     ]
    }
   ],
   "source": [
    "training_features = features.iloc[0:training_data_length,:]\n",
    "print(training_features.shape)\n",
    "training_targets =  targets.iloc[0:training_data_length,:]\n",
    "print(training_targets.shape)\n",
    "\n",
    "validation_features = features.iloc[training_data_length:training_data_length+validation_data_length,:]\n",
    "print(validation_features.shape)\n",
    "validation_targets =  targets.iloc[training_data_length:training_data_length+validation_data_length,:]\n",
    "print(validation_targets.shape)\n",
    "\n",
    "testing_features = features.iloc[training_data_length+validation_data_length: training_data_length+validation_data_length+testing_data_length,:]\n",
    "print(testing_features.shape)\n",
    "\n",
    "testing_targets = targets.iloc[training_data_length+validation_data_length: training_data_length+validation_data_length+testing_data_length,:]\n",
    "print(testing_targets.shape)"
   ]
  },
  {
   "cell_type": "markdown",
   "metadata": {
    "colab_type": "text",
    "id": "qchOsoA0Sb3A"
   },
   "source": [
    "### Preprocess the data to a format a neural network can ingest.\n",
    "- Normalising/Scaling data using minmax scaler in sklearn preprocessing for each dataset separately\n",
    "- Generationg sequential data from the recent past (3hrs), along with a target pm2.5 value in the future (next day)  for the\n",
    "  * training dataset\n",
    "  * validation dataset\n",
    "  * test dataset"
   ]
  },
  {
   "cell_type": "markdown",
   "metadata": {},
   "source": [
    "### given data that goes back 3hrs, can we predict the next hour."
   ]
  },
  {
   "cell_type": "markdown",
   "metadata": {},
   "source": [
    "### training dataset"
   ]
  },
  {
   "cell_type": "code",
   "execution_count": 423,
   "metadata": {
    "colab": {},
    "colab_type": "code",
    "id": "eJF-bFjySb4H"
   },
   "outputs": [
    {
     "name": "stdout",
     "output_type": "stream",
     "text": [
      "[[0.01699808 0.0396412  0.7826087  ... 1.         0.         0.        ]\n",
      " [0.02667308 0.04087323 0.82608696 ... 0.         0.         0.        ]\n",
      " [0.03295382 0.04735761 0.86956522 ... 1.         0.         0.        ]\n",
      " ...\n",
      " [0.09819329 0.11751864 0.04347826 ... 1.         0.         0.        ]\n",
      " [0.03835258 0.05139955 0.08695652 ... 1.         0.         0.        ]\n",
      " [0.04086487 0.05762455 0.13043478 ... 0.         0.         0.        ]]\n",
      "(8817, 18)\n",
      "trainging target shape:  (8817, 1)\n",
      "(8797,)\n",
      "(8797, 20, 18)\n",
      "20\n"
     ]
    },
    {
     "name": "stderr",
     "output_type": "stream",
     "text": [
      "C:\\Users\\DELL\\Anaconda3\\envs\\airquality_prediction\\lib\\site-packages\\sklearn\\preprocessing\\data.py:323: DataConversionWarning: Data with input dtype int64, float64 were all converted to float64 by MinMaxScaler.\n",
      "  return self.partial_fit(X, y)\n"
     ]
    }
   ],
   "source": [
    "scaler = MinMaxScaler()\n",
    "scaled_training_features = scaler.fit_transform(training_features)\n",
    "print(scaled_training_features)\n",
    "print(scaled_training_features.shape)\n",
    "timestep = 20\n",
    "training_targets =  np.array(training_targets)\n",
    "training_targets = training_targets.reshape(-1,1)\n",
    "print('trainging target shape: ', training_targets.shape)\n",
    "\n",
    "##given data that goes back 3hrs, can we predict the next hour.\n",
    "forecasters = [] \n",
    "pollution_real = [] \n",
    "for i in range(timestep, scaled_training_features.shape[0]):\n",
    "    forecasters.append(scaled_training_features[i-timestep:i, 0:18])\n",
    "    pollution_real.append(training_targets[i, 0])\n",
    "    \n",
    "forecasters, pollution_real = np.array(forecasters), np.array(pollution_real)\n",
    "\n",
    "print(pollution_real.shape)\n",
    "print(forecasters.shape)\n",
    "print(forecasters.shape[1])"
   ]
  },
  {
   "cell_type": "markdown",
   "metadata": {},
   "source": [
    "### validation dataset"
   ]
  },
  {
   "cell_type": "code",
   "execution_count": 424,
   "metadata": {},
   "outputs": [
    {
     "name": "stdout",
     "output_type": "stream",
     "text": [
      "[[0.13421257 0.11743828 0.17391304 ... 1.         0.         0.        ]\n",
      " [0.06732178 0.05694452 0.2173913  ... 1.         0.         0.        ]\n",
      " [0.03034221 0.0270369  0.26086957 ... 0.         0.         0.        ]\n",
      " ...\n",
      " [0.04068615 0.07578684 0.52173913 ... 1.         0.         0.        ]\n",
      " [0.03965175 0.07526489 0.56521739 ... 1.         0.         0.        ]\n",
      " [0.04120334 0.07521269 0.60869565 ... 1.         0.         0.        ]]\n",
      "(1259, 1)\n",
      "(1239, 20, 18)\n",
      "(1239,)\n"
     ]
    },
    {
     "name": "stderr",
     "output_type": "stream",
     "text": [
      "C:\\Users\\DELL\\Anaconda3\\envs\\airquality_prediction\\lib\\site-packages\\sklearn\\preprocessing\\data.py:323: DataConversionWarning: Data with input dtype int64, float64 were all converted to float64 by MinMaxScaler.\n",
      "  return self.partial_fit(X, y)\n"
     ]
    }
   ],
   "source": [
    "scaled_validation_features = scaler.fit_transform(validation_features)\n",
    "print(scaled_validation_features)\n",
    "forecasters_validation = [] \n",
    "pollution_real_validation = [] \n",
    "\n",
    "validation_targets =  np.array(validation_targets)\n",
    "validation_targets= validation_targets.reshape(-1,1)\n",
    "print(validation_targets.shape)\n",
    "\n",
    "for i in range(timestep, scaled_validation_features.shape[0]):\n",
    "    forecasters_validation.append(scaled_validation_features[i-timestep:i, 0:18])\n",
    "    pollution_real_validation.append(validation_targets[i, 0])\n",
    "    \n",
    "forecasters_validation, pollution_real_validation = np.array(forecasters_validation), np.array(pollution_real_validation)\n",
    "#baseline_prediction_validation_values, baseline_actual_validation_values = np.array(baseline_prediction_validation_values),\n",
    "#np.array(baseline_actual_validation_values)\n",
    "print(forecasters_validation.shape)\n",
    "print(pollution_real_validation.shape)"
   ]
  },
  {
   "cell_type": "markdown",
   "metadata": {},
   "source": [
    "### Testing dataset"
   ]
  },
  {
   "cell_type": "code",
   "execution_count": 425,
   "metadata": {
    "scrolled": true
   },
   "outputs": [
    {
     "name": "stdout",
     "output_type": "stream",
     "text": [
      "[[0.0642618  0.12374791 0.65217391 ... 1.         0.         0.        ]\n",
      " [0.07020197 0.13265164 0.69565217 ... 1.         0.         0.        ]\n",
      " [0.05950967 0.12632165 0.73913043 ... 1.         0.         0.        ]\n",
      " ...\n",
      " [0.0070202  0.02427657 0.47826087 ... 0.         0.         0.        ]\n",
      " [0.0071282  0.02810239 0.52173913 ... 0.         0.         0.        ]\n",
      " [0.00518415 0.01954647 0.56521739 ... 0.         0.         0.        ]]\n",
      "Testing Y values shape:  (2519,)\n",
      "Testing targets shape:  (2519, 1)\n",
      "(2499, 20, 18)\n",
      "(2499,)\n"
     ]
    },
    {
     "name": "stderr",
     "output_type": "stream",
     "text": [
      "C:\\Users\\DELL\\Anaconda3\\envs\\airquality_prediction\\lib\\site-packages\\sklearn\\preprocessing\\data.py:323: DataConversionWarning: Data with input dtype int64, float64 were all converted to float64 by MinMaxScaler.\n",
      "  return self.partial_fit(X, y)\n"
     ]
    }
   ],
   "source": [
    "scaled_testing_features = scaler.fit_transform(testing_features)\n",
    "print(scaled_testing_features)\n",
    "forecasters_test = [] \n",
    "pollution_real_test = [] \n",
    "\n",
    "testing_targets =  np.array(testing_targets)\n",
    "testing_y_values = testing_targets\n",
    "testing_targets = testing_targets.reshape(-1,1)\n",
    "print('Testing Y values shape: ',testing_y_values.ravel().shape)\n",
    "print('Testing targets shape: ',testing_targets.shape)\n",
    "for i in range(timestep, scaled_testing_features.shape[0]):\n",
    "    forecasters_test.append(scaled_testing_features[i-timestep:i, 0:18])\n",
    "    pollution_real_test.append(testing_targets[i, 0])\n",
    "    \n",
    "forecasters_test, pollution_real_test = np.array(forecasters_test), np.array(pollution_real_test)\n",
    "\n",
    "print(forecasters_test.shape)\n",
    "print(pollution_real_test.shape)"
   ]
  },
  {
   "cell_type": "markdown",
   "metadata": {},
   "source": [
    "### Building Baseline Model\n",
    "- for Baseline, we predict the average pm2.5 and check the RMSE on validation data. Any model, should be able to beat this simple benchmark\n",
    "- The airquality(pm25) timeseries are continuous (the pm25 conncentration in the next hour are likely to be close to the pm25 concentration at the current hour).\n",
    "- Thus a common sense approach would be to always predict that the pm25 concentrations right now  will be equal to the pm25 concentration 1hr hour ago. Let's evaluate this approach, using the Mean Absolute Error metric (MAE). Mean Absolute Error is simply equal to: np.mean(np.abs(preds - targets))"
   ]
  },
  {
   "cell_type": "code",
   "execution_count": 426,
   "metadata": {},
   "outputs": [
    {
     "name": "stdout",
     "output_type": "stream",
     "text": [
      "4.0945976095617524\n"
     ]
    }
   ],
   "source": [
    "def evaluate_naive_method():\n",
    "    baseline_prediction_validation_values = []\n",
    "    baseline_actual_validation_values = []\n",
    "    \n",
    "    #3 is the number of timesteps back.\n",
    "    for i in range(3, scaled_validation_features.shape[0]):\n",
    "        if i != 3:\n",
    "            baseline_prediction_validation_values.append(validation_targets[i-1, 0])\n",
    "            baseline_actual_validation_values.append(validation_targets[i, 0])\n",
    "\n",
    "    baseline_prediction_validation_values = np.array(baseline_prediction_validation_values)\n",
    "    baseline_actual_validation_values = np.array(baseline_actual_validation_values)\n",
    "\n",
    "    baseline_maes = []\n",
    "    baseline_rmses = []\n",
    "    \n",
    "    for i in range(0,len(baseline_prediction_validation_values)):\n",
    "        mae = np.mean(np.abs(baseline_prediction_validation_values[i] - baseline_actual_validation_values[i]))\n",
    "        baseline_maes.append(mae)\n",
    "    \n",
    "    print(np.mean(baseline_maes))\n",
    "    \n",
    "evaluate_naive_method()\n",
    "\n",
    "def calculate_rmse(actual_values,predictions):\n",
    "    mse= mean_squared_error(actual_values, predictions)\n",
    "    rmse = np.sqrt(mse)\n",
    "    return rmse\n",
    "\n",
    "#def rmse(ytrue, ypredicted):\n",
    "    #return np.sqrt(mean_squared_error(ytrue, ypredicted))\n",
    "\n",
    "#calculate_rmse(baseline_actual_validation_values, baseline_prediction_validation_values)"
   ]
  },
  {
   "cell_type": "code",
   "execution_count": 427,
   "metadata": {},
   "outputs": [
    {
     "data": {
      "text/plain": [
       "(1259, 18)"
      ]
     },
     "execution_count": 427,
     "metadata": {},
     "output_type": "execute_result"
    }
   ],
   "source": [
    "validation_features.shape"
   ]
  },
  {
   "cell_type": "raw",
   "metadata": {},
   "source": [
    "print(baseline_actual_validation_values[0:10])\n",
    "print(baseline_prediction_validation_values[0:10])"
   ]
  },
  {
   "cell_type": "raw",
   "metadata": {},
   "source": [
    "print(baseline_prediction_validation_values.shape)\n",
    "#scaled_validation_features.shape[0]\n",
    "print(baseline_actual_validation_values.shape)"
   ]
  },
  {
   "cell_type": "markdown",
   "metadata": {},
   "source": [
    "### SUPPORT VECTOR REGRESSION APPROACH\n",
    "- Training and evaluation on support vector regression approach"
   ]
  },
  {
   "cell_type": "code",
   "execution_count": 428,
   "metadata": {},
   "outputs": [
    {
     "name": "stderr",
     "output_type": "stream",
     "text": [
      "C:\\Users\\DELL\\Anaconda3\\envs\\airquality_prediction\\lib\\site-packages\\sklearn\\svm\\base.py:196: FutureWarning: The default value of gamma will change from 'auto' to 'scale' in version 0.22 to account better for unscaled features. Set gamma explicitly to 'auto' or 'scale' to avoid this warning.\n",
      "  \"avoid this warning.\", FutureWarning)\n"
     ]
    },
    {
     "name": "stdout",
     "output_type": "stream",
     "text": [
      "[32.58452397 35.64250204 31.18903117 ...  4.63782659  5.06819737\n",
      "  3.72923571]\n"
     ]
    }
   ],
   "source": [
    "from sklearn.svm import SVR\n",
    "svr = SVR(kernel='rbf', degree=3, C=100, epsilon=0.1)\n",
    "# fit the model by fitting the SVM regressor to the training data\n",
    "svr.fit(scaled_training_features, training_targets.ravel())\n",
    "svr_predictions = svr.predict(scaled_testing_features)\n",
    "print(svr_predictions)"
   ]
  },
  {
   "cell_type": "code",
   "execution_count": 429,
   "metadata": {},
   "outputs": [
    {
     "name": "stdout",
     "output_type": "stream",
     "text": [
      "SVR MAE:  41.01\n",
      "SVR RMSE:  53.57\n"
     ]
    }
   ],
   "source": [
    "svr_mae = mean_absolute_error(testing_targets, svr_predictions)\n",
    "print('SVR MAE: ', svr_mae.round(2))\n",
    "svr_rmse = calculate_rmse(testing_targets, svr_predictions)\n",
    "print('SVR RMSE: ', svr_rmse.round(2))\n",
    "svr_prediction_vs_actual_dataframe = pd.DataFrame({'Actual PM2.5': testing_targets.ravel(), 'Predicted PM2.5':svr_predictions}) \n",
    "svr_prediction_vs_actual_dataframe\n",
    "\n",
    "## save predictions by svr\n",
    "svr_prediction_vs_actual_dataframe.to_csv(os.path.join(filepath , 'svr_predictions.csv'))"
   ]
  },
  {
   "cell_type": "markdown",
   "metadata": {},
   "source": [
    "### BASIC LSTM MODOEL\n",
    "- Training and evaluating on basic lstm model with one layer"
   ]
  },
  {
   "cell_type": "code",
   "execution_count": 430,
   "metadata": {},
   "outputs": [
    {
     "name": "stdout",
     "output_type": "stream",
     "text": [
      "Train on 8797 samples, validate on 1239 samples\n",
      "Epoch 1/50\n",
      "8797/8797 [==============================] - 28s 3ms/step - loss: 322.6366 - mean_absolute_error: 10.1402 - rmse: 15.8638 - val_loss: 181.1138 - val_mean_absolute_error: 9.2502 - val_rmse: 11.0257\n",
      "Epoch 2/50\n",
      "8797/8797 [==============================] - 15s 2ms/step - loss: 294.1400 - mean_absolute_error: 9.7553 - rmse: 15.0273 - val_loss: 181.0753 - val_mean_absolute_error: 9.2667 - val_rmse: 11.0417\n",
      "Epoch 3/50\n",
      "8797/8797 [==============================] - 15s 2ms/step - loss: 293.7049 - mean_absolute_error: 9.7565 - rmse: 14.9283 - val_loss: 179.7330 - val_mean_absolute_error: 9.1779 - val_rmse: 10.9516\n",
      "Epoch 4/50\n",
      "8797/8797 [==============================] - 15s 2ms/step - loss: 291.5911 - mean_absolute_error: 9.6443 - rmse: 14.8848 - val_loss: 176.1523 - val_mean_absolute_error: 9.0828 - val_rmse: 10.8424\n",
      "Epoch 5/50\n",
      "8797/8797 [==============================] - 15s 2ms/step - loss: 288.0388 - mean_absolute_error: 9.5321 - rmse: 14.8614 - val_loss: 175.0049 - val_mean_absolute_error: 8.9749 - val_rmse: 10.7438\n",
      "Epoch 6/50\n",
      "8797/8797 [==============================] - 15s 2ms/step - loss: 279.7455 - mean_absolute_error: 9.2140 - rmse: 14.6128 - val_loss: 166.7275 - val_mean_absolute_error: 8.5869 - val_rmse: 10.3472\n",
      "Epoch 7/50\n",
      "8797/8797 [==============================] - 15s 2ms/step - loss: 265.1078 - mean_absolute_error: 8.5027 - rmse: 14.0687 - val_loss: 147.2974 - val_mean_absolute_error: 7.8810 - val_rmse: 9.6172\n",
      "Epoch 8/50\n",
      "8797/8797 [==============================] - 15s 2ms/step - loss: 275.4460 - mean_absolute_error: 8.8826 - rmse: 14.5250 - val_loss: 142.7608 - val_mean_absolute_error: 7.5596 - val_rmse: 9.3388\n",
      "Epoch 9/50\n",
      "8797/8797 [==============================] - 15s 2ms/step - loss: 256.5113 - mean_absolute_error: 8.1711 - rmse: 13.7479 - val_loss: 150.2565 - val_mean_absolute_error: 8.2268 - val_rmse: 9.9131\n",
      "Epoch 10/50\n",
      "8797/8797 [==============================] - 16s 2ms/step - loss: 228.7508 - mean_absolute_error: 7.3488 - rmse: 12.7687 - val_loss: 183.7428 - val_mean_absolute_error: 10.4743 - val_rmse: 12.3583\n",
      "Epoch 11/50\n",
      "8797/8797 [==============================] - 13s 2ms/step - loss: 209.2110 - mean_absolute_error: 7.0385 - rmse: 12.1321 - val_loss: 202.0455 - val_mean_absolute_error: 11.1325 - val_rmse: 13.3203\n",
      "Epoch 12/50\n",
      "8797/8797 [==============================] - 15s 2ms/step - loss: 195.4456 - mean_absolute_error: 6.8176 - rmse: 11.6703 - val_loss: 174.3031 - val_mean_absolute_error: 9.9826 - val_rmse: 12.2673\n",
      "Epoch 13/50\n",
      "8797/8797 [==============================] - 16s 2ms/step - loss: 179.5910 - mean_absolute_error: 6.4527 - rmse: 11.0576 - val_loss: 235.6056 - val_mean_absolute_error: 11.9700 - val_rmse: 14.6927\n"
     ]
    }
   ],
   "source": [
    "from tensorflow.keras.models import Sequential, load_model\n",
    "from tensorflow.keras.layers import Dense, LSTM\n",
    "from tensorflow.keras.optimizers import RMSprop\n",
    "from tensorflow.keras import backend\n",
    "from tensorflow.keras.utils import plot_model\n",
    "from tensorflow.keras.callbacks import EarlyStopping, ModelCheckpoint\n",
    "#from keras.models import load_model\n",
    "\n",
    "def rmse(y_true, y_pred):\n",
    "    return backend.sqrt(backend.mean(backend.square(y_pred - y_true)))\n",
    "\n",
    "def root_mean_squared_error(y_true, y_pred):\n",
    "        return backend.sqrt(backend.mean(backend.square(y_pred - y_true)))\n",
    "\n",
    "model = Sequential()\n",
    "model.add(LSTM(64, input_shape = (forecasters.shape[1],18)))\n",
    "model.add(Dense(1))\n",
    "\n",
    "callbacks_list = [\n",
    "    EarlyStopping(  # interrupts training when improvement stops \n",
    "        monitor='val_loss', \n",
    "        patience=5, \n",
    "        mode='min'), \n",
    "    \n",
    "   ModelCheckpoint( #saves the current weights after every epock\n",
    "        filepath=os.path.join(filepath, 'basic_lstm_model.h5'),\n",
    "        monitor='val_loss',save_best_only=True) # these 2 arguments mean , you won't overwrite the model file unless val_loss has improved which  allows you to keep the best model seen during training.\n",
    "]\n",
    "\n",
    "model.compile(optimizer='adam', loss='mse', metrics = ['mean_absolute_error', rmse])\n",
    "basic_model_history = model.fit(forecasters, pollution_real, epochs=50,\n",
    "                                validation_data=(forecasters_validation, pollution_real_validation),\n",
    "                               callbacks=callbacks_list)"
   ]
  },
  {
   "cell_type": "code",
   "execution_count": 431,
   "metadata": {},
   "outputs": [
    {
     "name": "stdout",
     "output_type": "stream",
     "text": [
      "_________________________________________________________________\n",
      "Layer (type)                 Output Shape              Param #   \n",
      "=================================================================\n",
      "lstm_40 (LSTM)               (None, 64)                21248     \n",
      "_________________________________________________________________\n",
      "dense_16 (Dense)             (None, 1)                 65        \n",
      "=================================================================\n",
      "Total params: 21,313\n",
      "Trainable params: 21,313\n",
      "Non-trainable params: 0\n",
      "_________________________________________________________________\n"
     ]
    }
   ],
   "source": [
    "model.summary()"
   ]
  },
  {
   "cell_type": "code",
   "execution_count": 432,
   "metadata": {},
   "outputs": [],
   "source": [
    "basic_model_architecture_path = os.path.join(filepath, 'basic_model_plot.png')\n",
    "plot_model(model, to_file=basic_model_architecture_path, show_shapes=False, show_layer_names=False)"
   ]
  },
  {
   "cell_type": "code",
   "execution_count": 433,
   "metadata": {
    "scrolled": true
   },
   "outputs": [
    {
     "data": {
      "image/png": "[encoded data removed]",
      "text/plain": [
       "<Figure size 864x432 with 1 Axes>"
      ]
     },
     "metadata": {
      "needs_background": "light"
     },
     "output_type": "display_data"
    }
   ],
   "source": [
    "loss = basic_model_history.history['loss']\n",
    "val_loss = basic_model_history.history['val_loss']\n",
    "\n",
    "epochs = range(len(loss))\n",
    "\n",
    "fig = plt.figure(figsize=(12,6))\n",
    "ax = fig.add_subplot(111)\n",
    "\n",
    "plt.plot(epochs, loss, 'bo', label='Training loss')\n",
    "plt.plot(epochs, val_loss, 'r', label='Validation loss')\n",
    "plt.title('Training and validation loss')\n",
    "plt.xlabel('Epochs')\n",
    "plt.ylabel('Loss')\n",
    "plt.legend()\n",
    "plt.show()\n",
    "\n",
    "fig.savefig(os.path.join(filepath, 'basic_model_history_training_validation_loss.png'))"
   ]
  },
  {
   "cell_type": "code",
   "execution_count": 434,
   "metadata": {},
   "outputs": [
    {
     "name": "stdout",
     "output_type": "stream",
     "text": [
      "7\n"
     ]
    }
   ],
   "source": [
    "print(np.argmin(val_loss))\n",
    "#val_loss[70]"
   ]
  },
  {
   "cell_type": "code",
   "execution_count": 435,
   "metadata": {},
   "outputs": [
    {
     "data": {
      "image/png": "[encoded data removed]",
      "text/plain": [
       "<Figure size 864x432 with 1 Axes>"
      ]
     },
     "metadata": {
      "needs_background": "light"
     },
     "output_type": "display_data"
    }
   ],
   "source": [
    "hist_rmse = basic_model_history.history['rmse']\n",
    "val_rmse = basic_model_history.history['val_rmse']\n",
    "epochs = range(len(hist_rmse))\n",
    "\n",
    "fig_rmse = plt.figure(figsize=(12,6))\n",
    "ax_rmse= fig_rmse.add_subplot(111)\n",
    "\n",
    "plt.plot(epochs, hist_rmse, 'bo', label='Training Root Mean Square Error')\n",
    "plt.plot(epochs, val_rmse, 'r', label='Validation Root Mean Square Error')\n",
    "plt.title('Training and Validation Root Mean Square Error')\n",
    "plt.xlabel('Epochs')\n",
    "plt.ylabel('RMSE')\n",
    "plt.legend()\n",
    "\n",
    "plt.show()\n",
    "fig_rmse.savefig(os.path.join(filepath, 'basic_model_history_training_validation_RMSE.png'))"
   ]
  },
  {
   "cell_type": "code",
   "execution_count": 436,
   "metadata": {},
   "outputs": [
    {
     "data": {
      "image/png": "[encoded data removed]",
      "text/plain": [
       "<Figure size 864x432 with 1 Axes>"
      ]
     },
     "metadata": {
      "needs_background": "light"
     },
     "output_type": "display_data"
    }
   ],
   "source": [
    "mae = basic_model_history.history['mean_absolute_error']\n",
    "val_mae = basic_model_history.history['val_mean_absolute_error']\n",
    "epochs = range(len(mae))\n",
    "\n",
    "fig_mae = plt.figure(figsize=(12,6))\n",
    "ax_mae = fig_mae.add_subplot(111)\n",
    "\n",
    "plt.plot(epochs, mae, 'bo', label='Training Mean Absolute Error')\n",
    "plt.plot(epochs, val_mae, 'r', label='Validation Mean Absolute Error')\n",
    "plt.title('Training and Validation Mean Absolute Error')\n",
    "plt.xlabel('Epochs')\n",
    "plt.ylabel('MAE')\n",
    "plt.legend()\n",
    "\n",
    "plt.show()\n",
    "fig_mae.savefig(os.path.join(filepath, 'basic_model_history_training_validation_mae.png'))"
   ]
  },
  {
   "cell_type": "code",
   "execution_count": 437,
   "metadata": {},
   "outputs": [
    {
     "name": "stdout",
     "output_type": "stream",
     "text": [
      "[272.32122045388826, 8.417575385958902, 10.742441904142362]\n",
      "[114.61979918004799, 7.256134951004938, 9.135557117820884]\n"
     ]
    }
   ],
   "source": [
    "saved_model = load_model(os.path.join(filepath,'basic_lstm_model.h5'),  custom_objects={'rmse': rmse})\n",
    "\n",
    "basic_lstm_model_train_evaluation = saved_model.evaluate(forecasters, pollution_real, verbose=0)\n",
    "basic_lstm_model_test_evaluation = saved_model.evaluate(forecasters_test, pollution_real_test, verbose=0)\n",
    "print(basic_lstm_model_train_evaluation)\n",
    "print(basic_lstm_model_test_evaluation)"
   ]
  },
  {
   "cell_type": "code",
   "execution_count": 438,
   "metadata": {},
   "outputs": [
    {
     "name": "stdout",
     "output_type": "stream",
     "text": [
      "2499/2499 [==============================] - 1s 307us/step\n",
      "[114.61979918004799, 7.256134951004938, 9.135557117820884]\n",
      "['loss', 'mean_absolute_error', 'rmse']\n"
     ]
    }
   ],
   "source": [
    "basic_lstm_model_predictions = saved_model.predict(forecasters_test)\n",
    "basic_lstm_model_evaluation =  saved_model.evaluate(forecasters_test, pollution_real_test)\n",
    "print(basic_lstm_model_evaluation)\n",
    "print(saved_model.metrics_names)"
   ]
  },
  {
   "cell_type": "code",
   "execution_count": 439,
   "metadata": {},
   "outputs": [
    {
     "name": "stdout",
     "output_type": "stream",
     "text": [
      "(2499, 1)\n",
      "(2499,)\n"
     ]
    }
   ],
   "source": [
    "print(basic_lstm_model_predictions.shape)\n",
    "print(basic_lstm_model_predictions.ravel().shape)"
   ]
  },
  {
   "cell_type": "code",
   "execution_count": 440,
   "metadata": {},
   "outputs": [],
   "source": [
    "basic_lstm_model_prediction_vs_actual_dataframe = pd.DataFrame({'Actual PM2.5': pollution_real_test, 'Predicted PM2.5':basic_lstm_model_predictions.ravel()}) \n",
    "basic_lstm_model_prediction_vs_actual_dataframe\n",
    "## save predictions by basic lstm model\n",
    "basic_lstm_model_prediction_vs_actual_dataframe.to_csv(os.path.join(filepath , 'basic_lstm_model_predictions.csv'))"
   ]
  },
  {
   "cell_type": "markdown",
   "metadata": {
    "colab_type": "text",
    "id": "WBitZDTLSb4P"
   },
   "source": [
    "### Creation Neural Network Architecture,Training & Evaluation  On Recurrent LSTM and DROPOUT layers\n",
    "The last parameter with the value 18 represents, the number of features"
   ]
  },
  {
   "cell_type": "code",
   "execution_count": 441,
   "metadata": {
    "colab": {
     "base_uri": "https://localhost:8080/",
     "height": 7503
    },
    "colab_type": "code",
    "id": "IenaENnPSb4Q",
    "outputId": "30a425bc-f88c-49d5-98a6-2fcf2508ff89",
    "scrolled": true
   },
   "outputs": [
    {
     "name": "stdout",
     "output_type": "stream",
     "text": [
      "Train on 8797 samples, validate on 1239 samples\n",
      "Epoch 1/100\n",
      "8797/8797 [==============================] - 80s 9ms/step - loss: 336.8497 - mean_absolute_error: 10.0161 - rmse: 16.0678 - val_loss: 182.4949 - val_mean_absolute_error: 9.0789 - val_rmse: 10.9324\n",
      "Epoch 2/100\n",
      "8797/8797 [==============================] - 66s 8ms/step - loss: 296.2385 - mean_absolute_error: 9.6878 - rmse: 15.1891 - val_loss: 181.1906 - val_mean_absolute_error: 9.2717 - val_rmse: 11.0474\n",
      "Epoch 3/100\n",
      "8797/8797 [==============================] - 65s 7ms/step - loss: 295.2670 - mean_absolute_error: 9.7512 - rmse: 15.0635 - val_loss: 181.1536 - val_mean_absolute_error: 9.2628 - val_rmse: 11.0382\n",
      "Epoch 4/100\n",
      "8797/8797 [==============================] - 66s 8ms/step - loss: 295.6829 - mean_absolute_error: 9.8033 - rmse: 15.0551 - val_loss: 181.1147 - val_mean_absolute_error: 9.2506 - val_rmse: 11.0260\n",
      "Epoch 5/100\n",
      "8797/8797 [==============================] - 67s 8ms/step - loss: 294.9532 - mean_absolute_error: 9.7537 - rmse: 15.0369 - val_loss: 181.3680 - val_mean_absolute_error: 9.3021 - val_rmse: 11.0809\n",
      "Epoch 6/100\n",
      "8797/8797 [==============================] - 65s 7ms/step - loss: 295.4265 - mean_absolute_error: 9.8067 - rmse: 15.1073 - val_loss: 181.0805 - val_mean_absolute_error: 9.2274 - val_rmse: 11.0048\n",
      "Epoch 7/100\n",
      "8797/8797 [==============================] - 69s 8ms/step - loss: 294.7457 - mean_absolute_error: 9.7766 - rmse: 15.0540 - val_loss: 181.0801 - val_mean_absolute_error: 9.2263 - val_rmse: 11.0038\n",
      "Epoch 8/100\n",
      "8797/8797 [==============================] - 72s 8ms/step - loss: 294.5773 - mean_absolute_error: 9.7459 - rmse: 15.0663 - val_loss: 181.1689 - val_mean_absolute_error: 9.2667 - val_rmse: 11.0422\n",
      "Epoch 9/100\n",
      "8797/8797 [==============================] - 71s 8ms/step - loss: 295.2727 - mean_absolute_error: 9.7548 - rmse: 15.1539 - val_loss: 181.0983 - val_mean_absolute_error: 9.2433 - val_rmse: 11.0191\n",
      "Epoch 10/100\n",
      "8797/8797 [==============================] - 68s 8ms/step - loss: 295.4512 - mean_absolute_error: 9.7608 - rmse: 15.0751 - val_loss: 181.5438 - val_mean_absolute_error: 9.3242 - val_rmse: 11.1072\n",
      "Epoch 11/100\n",
      "8797/8797 [==============================] - 69s 8ms/step - loss: 295.6415 - mean_absolute_error: 9.7978 - rmse: 15.1060 - val_loss: 181.1321 - val_mean_absolute_error: 9.2566 - val_rmse: 11.0320\n",
      "Epoch 12/100\n",
      "8797/8797 [==============================] - 70s 8ms/step - loss: 295.3114 - mean_absolute_error: 9.7433 - rmse: 15.1402 - val_loss: 181.2682 - val_mean_absolute_error: 9.2865 - val_rmse: 11.0635\n"
     ]
    }
   ],
   "source": [
    "from tensorflow.keras.models import Sequential\n",
    "from tensorflow.keras.layers import Dense, LSTM, Dropout\n",
    "from tensorflow.keras.utils import plot_model\n",
    "\n",
    "deep_lstm_callbacks_list = [\n",
    "    EarlyStopping(  # interrupts training when improvement stops \n",
    "        monitor='val_loss', \n",
    "        patience=5, \n",
    "        mode='min'), \n",
    "    \n",
    "   ModelCheckpoint( #saves the current weights after every epock\n",
    "        filepath=os.path.join(filepath, 'deep_lstm_best_model.h5'),\n",
    "        monitor='val_loss',save_best_only=True) # these 2 arguments mean , you won't overwrite the model file unless val_loss has improved which  allows you to keep the best model seen during training.\n",
    "]\n",
    "\n",
    "regressor_model = Sequential()\n",
    "regressor_model.add(LSTM(units=100, return_sequences = True, input_shape = (forecasters.shape[1],18)))\n",
    "regressor_model.add(Dropout(0.3))\n",
    "\n",
    "regressor_model.add(LSTM(units = 50, return_sequences = True))\n",
    "regressor_model.add(Dropout(0.2))\n",
    "\n",
    "regressor_model.add(LSTM(units = 50, return_sequences = True))\n",
    "regressor_model.add(Dropout(0.2))\n",
    "\n",
    "regressor_model.add(LSTM(units = 50))\n",
    "regressor_model.add(Dropout(0.2))\n",
    "\n",
    "regressor_model.add(Dense(units = 1))\n",
    "\n",
    "regressor_model.compile(optimizer = 'adam', loss = 'mean_squared_error',metrics = ['mean_absolute_error',rmse] )\n",
    "\n",
    "##Training the model\n",
    "history = regressor_model.fit(forecasters, pollution_real,epochs = 100,\n",
    "                              validation_data=(forecasters_validation,pollution_real_validation),batch_size = 32 , \n",
    "                              callbacks=deep_lstm_callbacks_list)"
   ]
  },
  {
   "cell_type": "code",
   "execution_count": 442,
   "metadata": {
    "colab": {},
    "colab_type": "code",
    "id": "fN9EwdUFSb4R"
   },
   "outputs": [
    {
     "name": "stdout",
     "output_type": "stream",
     "text": [
      "_________________________________________________________________\n",
      "Layer (type)                 Output Shape              Param #   \n",
      "=================================================================\n",
      "lstm_41 (LSTM)               (None, 20, 100)           47600     \n",
      "_________________________________________________________________\n",
      "dropout_32 (Dropout)         (None, 20, 100)           0         \n",
      "_________________________________________________________________\n",
      "lstm_42 (LSTM)               (None, 20, 50)            30200     \n",
      "_________________________________________________________________\n",
      "dropout_33 (Dropout)         (None, 20, 50)            0         \n",
      "_________________________________________________________________\n",
      "lstm_43 (LSTM)               (None, 20, 50)            20200     \n",
      "_________________________________________________________________\n",
      "dropout_34 (Dropout)         (None, 20, 50)            0         \n",
      "_________________________________________________________________\n",
      "lstm_44 (LSTM)               (None, 50)                20200     \n",
      "_________________________________________________________________\n",
      "dropout_35 (Dropout)         (None, 50)                0         \n",
      "_________________________________________________________________\n",
      "dense_17 (Dense)             (None, 1)                 51        \n",
      "=================================================================\n",
      "Total params: 118,251\n",
      "Trainable params: 118,251\n",
      "Non-trainable params: 0\n",
      "_________________________________________________________________\n"
     ]
    }
   ],
   "source": [
    "#regressor_model.save('/content/drive/My Drive/Uni/Msc Comp Science/Year Two/Research/experiments/data/AirQuality/AirQo/airquality_prediction_bugolobi_04_20_2019.h5')\n",
    "\n",
    "regressor_model.save(os.path.join(filepath,'airquality_prediction_model.h5'))\n",
    "regressor_model.summary()\n",
    "regressor_model_architecture_path = os.path.join(filepath, 'deep_lstm_model_plot.png')\n",
    "plot_model(regressor_model, to_file=regressor_model_architecture_path, show_shapes=False, show_layer_names=False)"
   ]
  },
  {
   "cell_type": "code",
   "execution_count": 443,
   "metadata": {},
   "outputs": [
    {
     "data": {
      "image/png": "[encoded data removed]",
      "text/plain": [
       "<Figure size 864x432 with 1 Axes>"
      ]
     },
     "metadata": {
      "needs_background": "light"
     },
     "output_type": "display_data"
    }
   ],
   "source": [
    "loss = history.history['loss']\n",
    "val_loss = history.history['val_loss']\n",
    "\n",
    "epochs = range(len(loss))\n",
    "\n",
    "fig_deep_lstm_loss= plt.figure(figsize=(12,6))\n",
    "ax = fig_deep_lstm_loss.add_subplot(111)\n",
    "\n",
    "plt.plot(epochs, loss, 'bo', label='Training loss')\n",
    "plt.plot(epochs, val_loss, 'r', label='Validation loss')\n",
    "plt.title('Training and validation loss')\n",
    "plt.xlabel('Epochs')\n",
    "plt.ylabel('Loss')\n",
    "plt.legend()\n",
    "\n",
    "plt.show()\n",
    "\n",
    "fig_deep_lstm_loss.savefig(os.path.join(filepath, 'deep_lstm_model_history_training_validation_loss.png'))"
   ]
  },
  {
   "cell_type": "code",
   "execution_count": 444,
   "metadata": {},
   "outputs": [
    {
     "data": {
      "image/png": "[encoded data removed]",
      "text/plain": [
       "<Figure size 864x432 with 1 Axes>"
      ]
     },
     "metadata": {
      "needs_background": "light"
     },
     "output_type": "display_data"
    }
   ],
   "source": [
    "mae = history.history['mean_absolute_error']\n",
    "val_mae = history.history['val_mean_absolute_error']\n",
    "epochs = range(len(mae))\n",
    "\n",
    "fig_deep_lstm_mae = plt.figure(figsize=(12,6))\n",
    "ax_mae = fig_deep_lstm_mae.add_subplot(111)\n",
    "\n",
    "plt.plot(epochs, mae, 'bo', label='Training Mean Absolute Error')\n",
    "plt.plot(epochs, val_mae, 'r', label='Validation Mean Absolute Error')\n",
    "plt.title('Training and Validation Mean Absolute Error')\n",
    "plt.xlabel('Epochs')\n",
    "plt.ylabel('MAE')\n",
    "plt.legend()\n",
    "\n",
    "plt.show()\n",
    "fig_mae.savefig(os.path.join(filepath, 'deep_lst_mmodel_history_training_validation_mae.png'))"
   ]
  },
  {
   "cell_type": "code",
   "execution_count": 445,
   "metadata": {},
   "outputs": [
    {
     "data": {
      "image/png": "[encoded data removed]",
      "text/plain": [
       "<Figure size 864x432 with 1 Axes>"
      ]
     },
     "metadata": {
      "needs_background": "light"
     },
     "output_type": "display_data"
    }
   ],
   "source": [
    "hist_rmse = history.history['rmse']\n",
    "val_rmse = history.history['val_rmse']\n",
    "epochs = range(len(hist_rmse))\n",
    "\n",
    "fig_rmse = plt.figure(figsize=(12,6))\n",
    "ax_rmse= fig_rmse.add_subplot(111)\n",
    "\n",
    "plt.plot(epochs, hist_rmse, 'bo', label='Training Root Mean Squared Error')\n",
    "plt.plot(epochs, val_rmse, 'r', label='Validation Root Mean Squared Error')\n",
    "plt.title('Training and Validation Root Mean Squared Error')\n",
    "plt.xlabel('Epochs')\n",
    "plt.ylabel('RMSE')\n",
    "plt.legend()\n",
    "\n",
    "plt.show()\n",
    "fig_rmse.savefig(os.path.join(filepath, 'basic_model_history_training_validation_RMSE.png'))"
   ]
  },
  {
   "cell_type": "markdown",
   "metadata": {
    "colab_type": "text",
    "id": "sO0awXl1Sb4T"
   },
   "source": [
    "### Making predictions (forecasts) using the deep recurrent lstm\n",
    "1. Convert test set in the same format accepted by model\n",
    "1. make the forecasts directly on the testing dataset"
   ]
  },
  {
   "cell_type": "markdown",
   "metadata": {},
   "source": [
    "### Make prediction and evaluation using the developed deep lstm model"
   ]
  },
  {
   "cell_type": "code",
   "execution_count": 446,
   "metadata": {},
   "outputs": [
    {
     "name": "stdout",
     "output_type": "stream",
     "text": [
      "[294.1398903501024, 9.69245662328207, 11.925591266519769]\n",
      "[154.9868388273278, 9.046189846254054, 10.951240053745497]\n"
     ]
    }
   ],
   "source": [
    "saved_best_deep_lstm_model = load_model(os.path.join(filepath,'deep_lstm_best_model.h5'),  custom_objects={'rmse': rmse})\n",
    "deep_lstm_model_train_evaluation = saved_best_deep_lstm_model.evaluate(forecasters, pollution_real, verbose=0)\n",
    "deep_lstm_model_test_evaluation = saved_best_deep_lstm_model.evaluate(forecasters_test, pollution_real_test, verbose=0)\n",
    "print(deep_lstm_model_train_evaluation)\n",
    "print(deep_lstm_model_test_evaluation)"
   ]
  },
  {
   "cell_type": "code",
   "execution_count": 447,
   "metadata": {
    "colab": {},
    "colab_type": "code",
    "id": "ts5RRZWoSb4Z"
   },
   "outputs": [
    {
     "name": "stdout",
     "output_type": "stream",
     "text": [
      "2499/2499 [==============================] - 3s 1ms/step\n"
     ]
    }
   ],
   "source": [
    "deep_lstm_model_predictions = saved_best_deep_lstm_model.predict(forecasters_test)\n",
    "deep_lstm_model_evaluation =  saved_best_deep_lstm_model.evaluate(forecasters_test, pollution_real_test)\n",
    "\n",
    "deep_lstm_model_prediction_vs_actual_dataframe = pd.DataFrame({'Actual PM2.5': pollution_real_test, 'Predicted PM2.5':deep_lstm_model_predictions.ravel()}) \n",
    "deep_lstm_model_prediction_vs_actual_dataframe\n",
    "## save predictions by basic lstm model\n",
    "deep_lstm_model_prediction_vs_actual_dataframe.to_csv(os.path.join(filepath , 'deep_lstm_model_predictions.csv'))"
   ]
  },
  {
   "cell_type": "code",
   "execution_count": 448,
   "metadata": {
    "colab": {
     "base_uri": "https://localhost:8080/",
     "height": 34
    },
    "colab_type": "code",
    "id": "PhydX24QSb4e",
    "outputId": "7b932aca-3c48-4890-864e-62663465aed7"
   },
   "outputs": [
    {
     "name": "stdout",
     "output_type": "stream",
     "text": [
      "(2499, 1)\n"
     ]
    }
   ],
   "source": [
    "#print(forecasters_test.shape)\n",
    "print(deep_lstm_model_predictions.shape)"
   ]
  },
  {
   "cell_type": "code",
   "execution_count": 449,
   "metadata": {
    "colab": {
     "base_uri": "https://localhost:8080/",
     "height": 52
    },
    "colab_type": "code",
    "id": "pBCyXHz1Sb4h",
    "outputId": "08a4e2a2-9460-4bdf-8f2c-96e4b5efd36b"
   },
   "outputs": [
    {
     "name": "stdout",
     "output_type": "stream",
     "text": [
      "predictions 16.262115\n",
      "actual pm2.5 values 16.86639855942377\n"
     ]
    }
   ],
   "source": [
    "print('predictions', deep_lstm_model_predictions.mean())\n",
    "print('actual pm2.5 values', pollution_real_test.mean())"
   ]
  },
  {
   "cell_type": "markdown",
   "metadata": {
    "colab_type": "text",
    "id": "EQ7BkVaMSb4j"
   },
   "source": [
    "### Verification of the average in the results of the forecasts and in the actual results"
   ]
  },
  {
   "cell_type": "code",
   "execution_count": 450,
   "metadata": {
    "colab": {
     "base_uri": "https://localhost:8080/",
     "height": 52
    },
    "colab_type": "code",
    "id": "v3AVMbw6Sb4j",
    "outputId": "3d51c342-1fed-4b52-d946-34be9d7ba6a5"
   },
   "outputs": [
    {
     "name": "stdout",
     "output_type": "stream",
     "text": [
      "predictions 16.262115\n",
      "actual pm2.5 values 16.86639855942377\n"
     ]
    }
   ],
   "source": [
    "print('predictions', deep_lstm_model_predictions.mean())\n",
    "print('actual pm2.5 values', pollution_real_test.mean())"
   ]
  },
  {
   "cell_type": "markdown",
   "metadata": {
    "colab_type": "text",
    "id": "xX5heGwJSb4m"
   },
   "source": [
    "### Visualization of the predictions and actual values of PM2.5\n",
    "1. #### using bar chart"
   ]
  },
  {
   "cell_type": "code",
   "execution_count": 451,
   "metadata": {
    "colab": {
     "base_uri": "https://localhost:8080/",
     "height": 638
    },
    "colab_type": "code",
    "id": "e1NQ6pyMSb4m",
    "outputId": "1897373c-c28e-41f5-cc11-c000fbd05aa6"
   },
   "outputs": [
    {
     "data": {
      "image/png": "[encoded data removed]",
      "text/plain": [
       "<Figure size 864x432 with 1 Axes>"
      ]
     },
     "metadata": {
      "needs_background": "light"
     },
     "output_type": "display_data"
    }
   ],
   "source": [
    "fig_deep_lstm_predictions_vs_actual = plt.figure(figsize=(12,6))\n",
    "ax_fig_deep_lstm_predictions_vs_actual = fig_deep_lstm_predictions_vs_actual.add_subplot(111)\n",
    "plt.plot(pollution_real_test, color = 'red', label = 'Real PM2.5 Values')\n",
    "plt.plot(deep_lstm_model_predictions, color = 'blue', label = 'Predictions')\n",
    "plt.title('PM2.5 Values Predictions Vs Real PM2.5 Values ')\n",
    "plt.xlabel('PM2.5 Records')\n",
    "plt.ylabel('PM2.5 Values')\n",
    "plt.legend()\n",
    "\n",
    "fig_deep_lstm_predictions_vs_actual.savefig(os.path.join(filepath, 'deep_lstm_model_prediction_vs_actual.png'))"
   ]
  },
  {
   "cell_type": "markdown",
   "metadata": {
    "colab_type": "text",
    "id": "IgZEA2ZsSb4o"
   },
   "source": [
    "### 2. using line graphs"
   ]
  },
  {
   "cell_type": "code",
   "execution_count": 452,
   "metadata": {
    "colab": {
     "base_uri": "https://localhost:8080/",
     "height": 1164
    },
    "colab_type": "code",
    "id": "eVDzGVwdSb4o",
    "outputId": "611dd298-9007-43e9-e26b-b7538a370edc"
   },
   "outputs": [
    {
     "data": {
      "image/png": "[encoded data removed]",
      "text/plain": [
       "<Figure size 432x288 with 1 Axes>"
      ]
     },
     "metadata": {
      "needs_background": "light"
     },
     "output_type": "display_data"
    }
   ],
   "source": [
    "plt.plot(pollution_real_test, color = 'red', label = 'Real PM2.5 Values')\n",
    "plt.plot(deep_lstm_model_predictions, color = 'blue', label = 'Predicted PM2.5 Values')\n",
    "plt.title('PM2.5 Prediction')\n",
    "plt.xlabel('PM2.5 Records')\n",
    "plt.ylabel('PM2.5')\n",
    "plt.legend()\n",
    "plt.show()"
   ]
  },
  {
   "cell_type": "code",
   "execution_count": 453,
   "metadata": {
    "scrolled": true
   },
   "outputs": [
    {
     "data": {
      "image/png": "[encoded data removed]",
      "text/plain": [
       "<Figure size 576x432 with 1 Axes>"
      ]
     },
     "metadata": {},
     "output_type": "display_data"
    }
   ],
   "source": [
    "sns.set_context('talk')\n",
    "sns.set_style('ticks')\n",
    "sns.set_palette('dark')\n",
    "fig_deep_lstm_predictions_vs_actual_scatter = plt.figure(figsize=(8,6))\n",
    "ax_fig_deep_lstm_predictions_vs_actual_scatter = fig_deep_lstm_predictions_vs_actual_scatter.add_subplot(111)\n",
    "ax = ax_fig_deep_lstm_predictions_vs_actual_scatter\n",
    "# we are going to use y_test, y_test_pred\n",
    "ax.scatter(pollution_real_test, deep_lstm_model_predictions, alpha=.3)\n",
    "\n",
    "ax.set(xlabel='Actual Values', \n",
    "       ylabel='Predictions',\n",
    "       title='PM2.5 Predictions vs Actual Values');\n",
    "\n",
    "fig_deep_lstm_predictions_vs_actual_scatter.savefig(os.path.join(filepath, 'deep_lstm_model_predictions_vs_actual_values_scatter.png'))"
   ]
  },
  {
   "cell_type": "markdown",
   "metadata": {},
   "source": [
    "### saving results to file"
   ]
  },
  {
   "cell_type": "code",
   "execution_count": 454,
   "metadata": {},
   "outputs": [],
   "source": [
    "with open(os.path.join(filepath, \"results_summary.txt\"), \"w+\") as text_file:\n",
    "        print(\"SVR RMSE : {}\\n SVR MAE : {} \\n Basic LSTM: {} \\n Deep LSTM : {}, \\n metrics {}\"\n",
    "              .format(svr_rmse.round(2),svr_mae.round(2), basic_lstm_model_evaluation, deep_lstm_model_evaluation, model.metrics_names ), file=text_file)"
   ]
  },
  {
   "cell_type": "code",
   "execution_count": null,
   "metadata": {},
   "outputs": [],
   "source": []
  }
 ],
 "metadata": {
  "accelerator": "GPU",
  "colab": {
   "name": "air_quality_prediction_data_preprocesing_13_April_2019.ipynb",
   "provenance": [],
   "version": "0.3.2"
  },
  "kernelspec": {
   "display_name": "Python 3",
   "language": "python",
   "name": "python3"
  },
  "language_info": {
   "codemirror_mode": {
    "name": "ipython",
    "version": 3
   },
   "file_extension": ".py",
   "mimetype": "text/x-python",
   "name": "python",
   "nbconvert_exporter": "python",
   "pygments_lexer": "ipython3",
   "version": "3.6.6"
  }
 },
 "nbformat": 4,
 "nbformat_minor": 1
}
