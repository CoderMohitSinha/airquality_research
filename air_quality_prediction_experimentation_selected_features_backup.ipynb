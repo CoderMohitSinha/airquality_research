{
 "cells": [
  {
   "cell_type": "code",
   "execution_count": 3,
   "metadata": {
    "colab": {},
    "colab_type": "code",
    "id": "L3-ikINq_CDz"
   },
   "outputs": [],
   "source": [
    "import pandas as pd\n",
    "import numpy as np\n",
    "import seaborn as sns\n",
    "import matplotlib.pyplot as plt \n",
    "%matplotlib inline\n",
    "from sklearn import preprocessing\n",
    "from sklearn.preprocessing import MinMaxScaler\n",
    "from sklearn.metrics import mean_squared_error, mean_absolute_error\n",
    "import os\n",
    "import datetime\n",
    "import math\n"
   ]
  },
  {
   "cell_type": "code",
   "execution_count": 4,
   "metadata": {
    "colab": {
     "base_uri": "https://localhost:8080/",
     "height": 34
    },
    "colab_type": "code",
    "id": "YgmwH-BI_txh",
    "outputId": "3e4e1ced-5245-4791-a322-86d27a3e3ef8"
   },
   "outputs": [],
   "source": [
    "#from google.colab import drive\n",
    "#drive.mount('/content/drive')"
   ]
  },
  {
   "cell_type": "code",
   "execution_count": 5,
   "metadata": {
    "colab": {},
    "colab_type": "code",
    "id": "InRp4djsBMwh"
   },
   "outputs": [],
   "source": [
    "#!ls \"/content/drive/My Drive/Uni/Msc Comp Science/Year Two/Research/data\""
   ]
  },
  {
   "cell_type": "code",
   "execution_count": 6,
   "metadata": {
    "colab": {},
    "colab_type": "code",
    "id": "geukmPjkSbyn"
   },
   "outputs": [],
   "source": [
    "def show_dataframe_info(df):\n",
    "    print(df.shape)\n",
    "    print(list(df.columns.values))\n",
    "    print('\\n dataframe info: \\n', df.info())\n",
    "    print('\\n dataframe column datatypes:\\n', df.dtypes)"
   ]
  },
  {
   "cell_type": "code",
   "execution_count": 7,
   "metadata": {
    "colab": {
     "base_uri": "https://localhost:8080/",
     "height": 347
    },
    "colab_type": "code",
    "id": "SYFacJONAbXp",
    "outputId": "2b9aad80-eeea-48c9-9345-a1753be42e59"
   },
   "outputs": [
    {
     "data": {
      "text/html": [
       "<div>\n",
       "<style scoped>\n",
       "    .dataframe tbody tr th:only-of-type {\n",
       "        vertical-align: middle;\n",
       "    }\n",
       "\n",
       "    .dataframe tbody tr th {\n",
       "        vertical-align: top;\n",
       "    }\n",
       "\n",
       "    .dataframe thead th {\n",
       "        text-align: right;\n",
       "    }\n",
       "</style>\n",
       "<table border=\"1\" class=\"dataframe\">\n",
       "  <thead>\n",
       "    <tr style=\"text-align: right;\">\n",
       "      <th></th>\n",
       "      <th>TimeStamp</th>\n",
       "      <th>PM1(Ug/m3)</th>\n",
       "      <th>PM2.5(Ug/m3)</th>\n",
       "      <th>PM10(Ug/m3)</th>\n",
       "      <th>hour</th>\n",
       "      <th>EVI</th>\n",
       "      <th>NDVI</th>\n",
       "      <th>humidity (%)</th>\n",
       "      <th>precipitation (mm)</th>\n",
       "      <th>pressure (kPa)</th>\n",
       "      <th>...</th>\n",
       "      <th>temperature (oC)</th>\n",
       "      <th>windspeed (m/s)</th>\n",
       "      <th>winddirection_E</th>\n",
       "      <th>winddirection_N</th>\n",
       "      <th>winddirection_NE</th>\n",
       "      <th>winddirection_NW</th>\n",
       "      <th>winddirection_S</th>\n",
       "      <th>winddirection_SE</th>\n",
       "      <th>winddirection_SW</th>\n",
       "      <th>winddirection_W</th>\n",
       "    </tr>\n",
       "  </thead>\n",
       "  <tbody>\n",
       "    <tr>\n",
       "      <th>0</th>\n",
       "      <td>2017-09-09 18:00</td>\n",
       "      <td>6.36</td>\n",
       "      <td>8.31</td>\n",
       "      <td>18.36</td>\n",
       "      <td>18</td>\n",
       "      <td>0.2002</td>\n",
       "      <td>0.366</td>\n",
       "      <td>73</td>\n",
       "      <td>0.0</td>\n",
       "      <td>87.50</td>\n",
       "      <td>...</td>\n",
       "      <td>23.27</td>\n",
       "      <td>0.44</td>\n",
       "      <td>0</td>\n",
       "      <td>0</td>\n",
       "      <td>0</td>\n",
       "      <td>0</td>\n",
       "      <td>0</td>\n",
       "      <td>1</td>\n",
       "      <td>0</td>\n",
       "      <td>0</td>\n",
       "    </tr>\n",
       "    <tr>\n",
       "      <th>1</th>\n",
       "      <td>2017-09-09 19:00</td>\n",
       "      <td>9.98</td>\n",
       "      <td>12.27</td>\n",
       "      <td>18.93</td>\n",
       "      <td>19</td>\n",
       "      <td>0.2002</td>\n",
       "      <td>0.366</td>\n",
       "      <td>77</td>\n",
       "      <td>0.0</td>\n",
       "      <td>87.58</td>\n",
       "      <td>...</td>\n",
       "      <td>22.72</td>\n",
       "      <td>0.38</td>\n",
       "      <td>0</td>\n",
       "      <td>0</td>\n",
       "      <td>1</td>\n",
       "      <td>0</td>\n",
       "      <td>0</td>\n",
       "      <td>0</td>\n",
       "      <td>0</td>\n",
       "      <td>0</td>\n",
       "    </tr>\n",
       "    <tr>\n",
       "      <th>2</th>\n",
       "      <td>2017-09-09 20:00</td>\n",
       "      <td>12.33</td>\n",
       "      <td>15.04</td>\n",
       "      <td>21.93</td>\n",
       "      <td>20</td>\n",
       "      <td>0.2002</td>\n",
       "      <td>0.366</td>\n",
       "      <td>80</td>\n",
       "      <td>0.0</td>\n",
       "      <td>87.67</td>\n",
       "      <td>...</td>\n",
       "      <td>22.29</td>\n",
       "      <td>0.37</td>\n",
       "      <td>0</td>\n",
       "      <td>0</td>\n",
       "      <td>0</td>\n",
       "      <td>0</td>\n",
       "      <td>0</td>\n",
       "      <td>1</td>\n",
       "      <td>0</td>\n",
       "      <td>0</td>\n",
       "    </tr>\n",
       "    <tr>\n",
       "      <th>3</th>\n",
       "      <td>2017-09-09 21:00</td>\n",
       "      <td>16.61</td>\n",
       "      <td>22.81</td>\n",
       "      <td>45.38</td>\n",
       "      <td>21</td>\n",
       "      <td>0.2002</td>\n",
       "      <td>0.366</td>\n",
       "      <td>82</td>\n",
       "      <td>0.0</td>\n",
       "      <td>87.66</td>\n",
       "      <td>...</td>\n",
       "      <td>21.71</td>\n",
       "      <td>0.34</td>\n",
       "      <td>0</td>\n",
       "      <td>1</td>\n",
       "      <td>0</td>\n",
       "      <td>0</td>\n",
       "      <td>0</td>\n",
       "      <td>0</td>\n",
       "      <td>0</td>\n",
       "      <td>0</td>\n",
       "    </tr>\n",
       "    <tr>\n",
       "      <th>4</th>\n",
       "      <td>2017-09-09 22:00</td>\n",
       "      <td>17.01</td>\n",
       "      <td>23.40</td>\n",
       "      <td>46.11</td>\n",
       "      <td>22</td>\n",
       "      <td>0.2002</td>\n",
       "      <td>0.366</td>\n",
       "      <td>87</td>\n",
       "      <td>0.0</td>\n",
       "      <td>87.68</td>\n",
       "      <td>...</td>\n",
       "      <td>20.86</td>\n",
       "      <td>0.29</td>\n",
       "      <td>0</td>\n",
       "      <td>0</td>\n",
       "      <td>1</td>\n",
       "      <td>0</td>\n",
       "      <td>0</td>\n",
       "      <td>0</td>\n",
       "      <td>0</td>\n",
       "      <td>0</td>\n",
       "    </tr>\n",
       "    <tr>\n",
       "      <th>5</th>\n",
       "      <td>2017-09-09 23:00</td>\n",
       "      <td>17.29</td>\n",
       "      <td>23.77</td>\n",
       "      <td>44.29</td>\n",
       "      <td>23</td>\n",
       "      <td>0.2002</td>\n",
       "      <td>0.366</td>\n",
       "      <td>90</td>\n",
       "      <td>0.0</td>\n",
       "      <td>87.77</td>\n",
       "      <td>...</td>\n",
       "      <td>20.30</td>\n",
       "      <td>0.46</td>\n",
       "      <td>0</td>\n",
       "      <td>0</td>\n",
       "      <td>0</td>\n",
       "      <td>0</td>\n",
       "      <td>0</td>\n",
       "      <td>1</td>\n",
       "      <td>0</td>\n",
       "      <td>0</td>\n",
       "    </tr>\n",
       "    <tr>\n",
       "      <th>6</th>\n",
       "      <td>2017-09-10 0:00</td>\n",
       "      <td>16.59</td>\n",
       "      <td>22.76</td>\n",
       "      <td>39.24</td>\n",
       "      <td>0</td>\n",
       "      <td>0.2002</td>\n",
       "      <td>0.366</td>\n",
       "      <td>91</td>\n",
       "      <td>0.0</td>\n",
       "      <td>87.74</td>\n",
       "      <td>...</td>\n",
       "      <td>20.30</td>\n",
       "      <td>0.59</td>\n",
       "      <td>0</td>\n",
       "      <td>0</td>\n",
       "      <td>0</td>\n",
       "      <td>0</td>\n",
       "      <td>0</td>\n",
       "      <td>1</td>\n",
       "      <td>0</td>\n",
       "      <td>0</td>\n",
       "    </tr>\n",
       "    <tr>\n",
       "      <th>7</th>\n",
       "      <td>2017-09-10 1:00</td>\n",
       "      <td>16.15</td>\n",
       "      <td>22.14</td>\n",
       "      <td>35.52</td>\n",
       "      <td>1</td>\n",
       "      <td>0.2002</td>\n",
       "      <td>0.366</td>\n",
       "      <td>91</td>\n",
       "      <td>0.0</td>\n",
       "      <td>87.67</td>\n",
       "      <td>...</td>\n",
       "      <td>20.14</td>\n",
       "      <td>0.99</td>\n",
       "      <td>0</td>\n",
       "      <td>0</td>\n",
       "      <td>0</td>\n",
       "      <td>0</td>\n",
       "      <td>0</td>\n",
       "      <td>1</td>\n",
       "      <td>0</td>\n",
       "      <td>0</td>\n",
       "    </tr>\n",
       "    <tr>\n",
       "      <th>8</th>\n",
       "      <td>2017-09-10 2:00</td>\n",
       "      <td>15.33</td>\n",
       "      <td>21.00</td>\n",
       "      <td>31.42</td>\n",
       "      <td>2</td>\n",
       "      <td>0.2002</td>\n",
       "      <td>0.366</td>\n",
       "      <td>89</td>\n",
       "      <td>0.0</td>\n",
       "      <td>87.63</td>\n",
       "      <td>...</td>\n",
       "      <td>20.15</td>\n",
       "      <td>1.19</td>\n",
       "      <td>0</td>\n",
       "      <td>0</td>\n",
       "      <td>0</td>\n",
       "      <td>0</td>\n",
       "      <td>0</td>\n",
       "      <td>1</td>\n",
       "      <td>0</td>\n",
       "      <td>0</td>\n",
       "    </tr>\n",
       "    <tr>\n",
       "      <th>9</th>\n",
       "      <td>2017-09-10 3:00</td>\n",
       "      <td>13.99</td>\n",
       "      <td>19.19</td>\n",
       "      <td>27.34</td>\n",
       "      <td>3</td>\n",
       "      <td>0.2002</td>\n",
       "      <td>0.366</td>\n",
       "      <td>89</td>\n",
       "      <td>0.0</td>\n",
       "      <td>87.59</td>\n",
       "      <td>...</td>\n",
       "      <td>19.78</td>\n",
       "      <td>0.69</td>\n",
       "      <td>1</td>\n",
       "      <td>0</td>\n",
       "      <td>0</td>\n",
       "      <td>0</td>\n",
       "      <td>0</td>\n",
       "      <td>0</td>\n",
       "      <td>0</td>\n",
       "      <td>0</td>\n",
       "    </tr>\n",
       "  </tbody>\n",
       "</table>\n",
       "<p>10 rows × 21 columns</p>\n",
       "</div>"
      ],
      "text/plain": [
       "          TimeStamp  PM1(Ug/m3)  PM2.5(Ug/m3)  PM10(Ug/m3)  hour     EVI  \\\n",
       "0  2017-09-09 18:00        6.36          8.31        18.36    18  0.2002   \n",
       "1  2017-09-09 19:00        9.98         12.27        18.93    19  0.2002   \n",
       "2  2017-09-09 20:00       12.33         15.04        21.93    20  0.2002   \n",
       "3  2017-09-09 21:00       16.61         22.81        45.38    21  0.2002   \n",
       "4  2017-09-09 22:00       17.01         23.40        46.11    22  0.2002   \n",
       "5  2017-09-09 23:00       17.29         23.77        44.29    23  0.2002   \n",
       "6   2017-09-10 0:00       16.59         22.76        39.24     0  0.2002   \n",
       "7   2017-09-10 1:00       16.15         22.14        35.52     1  0.2002   \n",
       "8   2017-09-10 2:00       15.33         21.00        31.42     2  0.2002   \n",
       "9   2017-09-10 3:00       13.99         19.19        27.34     3  0.2002   \n",
       "\n",
       "    NDVI  humidity (%)  precipitation (mm)  pressure (kPa)       ...         \\\n",
       "0  0.366            73                 0.0           87.50       ...          \n",
       "1  0.366            77                 0.0           87.58       ...          \n",
       "2  0.366            80                 0.0           87.67       ...          \n",
       "3  0.366            82                 0.0           87.66       ...          \n",
       "4  0.366            87                 0.0           87.68       ...          \n",
       "5  0.366            90                 0.0           87.77       ...          \n",
       "6  0.366            91                 0.0           87.74       ...          \n",
       "7  0.366            91                 0.0           87.67       ...          \n",
       "8  0.366            89                 0.0           87.63       ...          \n",
       "9  0.366            89                 0.0           87.59       ...          \n",
       "\n",
       "   temperature (oC)  windspeed (m/s)  winddirection_E  winddirection_N  \\\n",
       "0             23.27             0.44                0                0   \n",
       "1             22.72             0.38                0                0   \n",
       "2             22.29             0.37                0                0   \n",
       "3             21.71             0.34                0                1   \n",
       "4             20.86             0.29                0                0   \n",
       "5             20.30             0.46                0                0   \n",
       "6             20.30             0.59                0                0   \n",
       "7             20.14             0.99                0                0   \n",
       "8             20.15             1.19                0                0   \n",
       "9             19.78             0.69                1                0   \n",
       "\n",
       "   winddirection_NE  winddirection_NW  winddirection_S  winddirection_SE  \\\n",
       "0                 0                 0                0                 1   \n",
       "1                 1                 0                0                 0   \n",
       "2                 0                 0                0                 1   \n",
       "3                 0                 0                0                 0   \n",
       "4                 1                 0                0                 0   \n",
       "5                 0                 0                0                 1   \n",
       "6                 0                 0                0                 1   \n",
       "7                 0                 0                0                 1   \n",
       "8                 0                 0                0                 1   \n",
       "9                 0                 0                0                 0   \n",
       "\n",
       "   winddirection_SW  winddirection_W  \n",
       "0                 0                0  \n",
       "1                 0                0  \n",
       "2                 0                0  \n",
       "3                 0                0  \n",
       "4                 0                0  \n",
       "5                 0                0  \n",
       "6                 0                0  \n",
       "7                 0                0  \n",
       "8                 0                0  \n",
       "9                 0                0  \n",
       "\n",
       "[10 rows x 21 columns]"
      ]
     },
     "execution_count": 7,
     "metadata": {},
     "output_type": "execute_result"
    }
   ],
   "source": [
    "#airquality_data = pd.read_csv('/content/drive/My Drive/Uni/Msc Comp Science/Year Two/Research/experiments/data/AirQuality/AirQo/Bugolobi(ambrosoli)/bugolobi.csv')\n",
    "\n",
    "root_data_dir = 'data'\n",
    "base_dir ='data\\AirQuality\\AirQo'\n",
    "\n",
    "\n",
    "#airquality_data = pd.read_csv(os.path.join(base_dir,'Makerere','merged_hourly_airquality_greenness_meteorological_dataset.csv'))\n",
    "#filepath = os.path.join(base_dir,'Makerere','SelectedFeatures')\n",
    "\n",
    "#airquality_data = pd.read_csv(os.path.join(base_dir,'Bugolobi(ambrosoli)','merged_hourly_airquality_greenness_meteorological_dataset.csv'))\n",
    "#filepath = os.path.join(base_dir,'Bugolobi(ambrosoli)','SelectedFeatures')\n",
    "\n",
    "#airquality_data = pd.read_csv(os.path.join(base_dir,'Mulago','merged_hourly_airquality_greenness_meteorological_dataset.csv'))\n",
    "#filepath= os.path.join(base_dir,'Mulago','SelectedFeatures')\n",
    "\n",
    "airquality_data = pd.read_csv(os.path.join(base_dir,'Makindye','merged_hourly_airquality_greenness_meteorological_dataset.csv'))\n",
    "filepath = os.path.join(base_dir, 'Makindye','SelectedFeatures')\n",
    "\n",
    "#airquality_data = pd.read_csv(os.path.join(base_dir,'Bukoto(kisu)','merged_hourly_airquality_greenness_meteorological_dataset.csv'))\n",
    "#filepath= os.path.join(base_dir,'Bukoto(kisu)', 'SelectedFeatures')\n",
    "\n",
    "\n",
    "#airquality_data = pd.read_csv(os.path.join(base_dir,'Lubowa','merged_hourly_airquality_greenness_meteorological_dataset.csv'))\n",
    "#filepath = os.path.join(base_dir,'Lubowa','SelectedFeatures')\n",
    "\n",
    "#airquality_data = pd.read_csv(os.path.join(base_dir,'Jinja_Road(NEMAHOUSE)',' merged_hourly_airquality_greenness_meteorological_dataset.csv '))\n",
    "#filepath = os.path.join(base_dir,'Jinja_Road(NEMAHOUSE)','SelectedFeatures')\n",
    "\n",
    "#airquality_data = pd.read_csv(os.path.join(base_dir,'Rubaga_Kabusu','merged_hourly_airquality_greenness_meteorological_dataset.csv'))\n",
    "#filepath = os.path.join(base_dir,'Rubaga_Kabusu','SelectedFeatures')\n",
    "\n",
    "#airquality_data = pd.read_csv(os.path.join(base_dir,'Kireka','merged_hourly_airquality_greenness_meteorological_dataset.csv'))\n",
    "#filepath = os.path.join(base_dir,'Kireka','SelectedFeatures')\n",
    "\n",
    "#airquality_data = pd.read_csv(os.path.join(base_dir, 'Nsambya(American_Embassy)',' merged_hourly_airquality_greenness_meteorological_dataset.csv '))\n",
    "#filepath = os.path.join(base_dir, 'Nsambya(American_Embassy)','SelectedFeatures')\n",
    "airquality_data.head(10)"
   ]
  },
  {
   "cell_type": "code",
   "execution_count": 8,
   "metadata": {},
   "outputs": [],
   "source": [
    "airquality_data[\"TimeStamp\"] = pd.to_datetime(airquality_data[\"TimeStamp\"])\n",
    "airquality_data = airquality_data.set_index('TimeStamp')"
   ]
  },
  {
   "cell_type": "code",
   "execution_count": 9,
   "metadata": {},
   "outputs": [],
   "source": [
    "airquality_data_for_selected_features = airquality_data.drop(['hour', 'EVI', 'NDVI',\n",
    "       'humidity (%)', 'precipitation (mm)', 'pressure (kPa)',\n",
    "       'radiation (W/m2)', 'windspeed (m/s)',\n",
    "       'winddirection_E', 'winddirection_N', 'winddirection_NE',\n",
    "       'winddirection_NW', 'winddirection_S', 'winddirection_SE',\n",
    "       'winddirection_SW', 'winddirection_W','temperature (oC)','PM1(Ug/m3)','PM10(Ug/m3)'], axis=1)\n",
    "#temperature"
   ]
  },
  {
   "cell_type": "code",
   "execution_count": 10,
   "metadata": {
    "colab": {
     "base_uri": "https://localhost:8080/",
     "height": 197
    },
    "colab_type": "code",
    "id": "nCH7dg6uSby0",
    "outputId": "182b0084-fb2e-449f-a3e1-35388b82f8f7"
   },
   "outputs": [
    {
     "data": {
      "text/html": [
       "<div>\n",
       "<style scoped>\n",
       "    .dataframe tbody tr th:only-of-type {\n",
       "        vertical-align: middle;\n",
       "    }\n",
       "\n",
       "    .dataframe tbody tr th {\n",
       "        vertical-align: top;\n",
       "    }\n",
       "\n",
       "    .dataframe thead th {\n",
       "        text-align: right;\n",
       "    }\n",
       "</style>\n",
       "<table border=\"1\" class=\"dataframe\">\n",
       "  <thead>\n",
       "    <tr style=\"text-align: right;\">\n",
       "      <th></th>\n",
       "      <th>PM2.5(Ug/m3)</th>\n",
       "    </tr>\n",
       "    <tr>\n",
       "      <th>TimeStamp</th>\n",
       "      <th></th>\n",
       "    </tr>\n",
       "  </thead>\n",
       "  <tbody>\n",
       "    <tr>\n",
       "      <th>2017-09-09 18:00:00</th>\n",
       "      <td>8.31</td>\n",
       "    </tr>\n",
       "    <tr>\n",
       "      <th>2017-09-09 19:00:00</th>\n",
       "      <td>12.27</td>\n",
       "    </tr>\n",
       "    <tr>\n",
       "      <th>2017-09-09 20:00:00</th>\n",
       "      <td>15.04</td>\n",
       "    </tr>\n",
       "    <tr>\n",
       "      <th>2017-09-09 21:00:00</th>\n",
       "      <td>22.81</td>\n",
       "    </tr>\n",
       "    <tr>\n",
       "      <th>2017-09-09 22:00:00</th>\n",
       "      <td>23.40</td>\n",
       "    </tr>\n",
       "  </tbody>\n",
       "</table>\n",
       "</div>"
      ],
      "text/plain": [
       "                     PM2.5(Ug/m3)\n",
       "TimeStamp                        \n",
       "2017-09-09 18:00:00          8.31\n",
       "2017-09-09 19:00:00         12.27\n",
       "2017-09-09 20:00:00         15.04\n",
       "2017-09-09 21:00:00         22.81\n",
       "2017-09-09 22:00:00         23.40"
      ]
     },
     "execution_count": 10,
     "metadata": {},
     "output_type": "execute_result"
    }
   ],
   "source": [
    "airquality_data_for_selected_features.head()"
   ]
  },
  {
   "cell_type": "code",
   "execution_count": 11,
   "metadata": {
    "colab": {
     "base_uri": "https://localhost:8080/",
     "height": 197
    },
    "colab_type": "code",
    "id": "Ho2ych4lB3cA",
    "outputId": "ac2a2a33-7ff2-4943-b4be-2178342a65e1"
   },
   "outputs": [
    {
     "data": {
      "text/html": [
       "<div>\n",
       "<style scoped>\n",
       "    .dataframe tbody tr th:only-of-type {\n",
       "        vertical-align: middle;\n",
       "    }\n",
       "\n",
       "    .dataframe tbody tr th {\n",
       "        vertical-align: top;\n",
       "    }\n",
       "\n",
       "    .dataframe thead th {\n",
       "        text-align: right;\n",
       "    }\n",
       "</style>\n",
       "<table border=\"1\" class=\"dataframe\">\n",
       "  <thead>\n",
       "    <tr style=\"text-align: right;\">\n",
       "      <th></th>\n",
       "      <th>PM2.5(Ug/m3)</th>\n",
       "    </tr>\n",
       "    <tr>\n",
       "      <th>TimeStamp</th>\n",
       "      <th></th>\n",
       "    </tr>\n",
       "  </thead>\n",
       "  <tbody>\n",
       "    <tr>\n",
       "      <th>2019-04-05 10:00:00</th>\n",
       "      <td>2.81</td>\n",
       "    </tr>\n",
       "    <tr>\n",
       "      <th>2019-04-05 11:00:00</th>\n",
       "      <td>2.58</td>\n",
       "    </tr>\n",
       "    <tr>\n",
       "      <th>2019-04-05 12:00:00</th>\n",
       "      <td>2.69</td>\n",
       "    </tr>\n",
       "    <tr>\n",
       "      <th>2019-04-05 13:00:00</th>\n",
       "      <td>2.29</td>\n",
       "    </tr>\n",
       "    <tr>\n",
       "      <th>2019-04-05 14:00:00</th>\n",
       "      <td>2.60</td>\n",
       "    </tr>\n",
       "  </tbody>\n",
       "</table>\n",
       "</div>"
      ],
      "text/plain": [
       "                     PM2.5(Ug/m3)\n",
       "TimeStamp                        \n",
       "2019-04-05 10:00:00          2.81\n",
       "2019-04-05 11:00:00          2.58\n",
       "2019-04-05 12:00:00          2.69\n",
       "2019-04-05 13:00:00          2.29\n",
       "2019-04-05 14:00:00          2.60"
      ]
     },
     "execution_count": 11,
     "metadata": {},
     "output_type": "execute_result"
    }
   ],
   "source": [
    "airquality_data_for_selected_features.tail()"
   ]
  },
  {
   "cell_type": "code",
   "execution_count": 12,
   "metadata": {
    "colab": {
     "base_uri": "https://localhost:8080/",
     "height": 567
    },
    "colab_type": "code",
    "id": "LueXKLM3B_DR",
    "outputId": "ba5a377a-7b5b-41a8-f5ba-26424099dd23"
   },
   "outputs": [
    {
     "name": "stdout",
     "output_type": "stream",
     "text": [
      "(12596, 1)\n",
      "['PM2.5(Ug/m3)']\n",
      "<class 'pandas.core.frame.DataFrame'>\n",
      "DatetimeIndex: 12596 entries, 2017-09-09 18:00:00 to 2019-04-05 14:00:00\n",
      "Data columns (total 1 columns):\n",
      "PM2.5(Ug/m3)    12596 non-null float64\n",
      "dtypes: float64(1)\n",
      "memory usage: 196.8 KB\n",
      "\n",
      " dataframe info: \n",
      " None\n",
      "\n",
      " dataframe column datatypes:\n",
      " PM2.5(Ug/m3)    float64\n",
      "dtype: object\n"
     ]
    }
   ],
   "source": [
    "show_dataframe_info(airquality_data_for_selected_features)"
   ]
  },
  {
   "cell_type": "code",
   "execution_count": 13,
   "metadata": {
    "colab": {
     "base_uri": "https://localhost:8080/",
     "height": 287
    },
    "colab_type": "code",
    "id": "6inajEGHCWNw",
    "outputId": "33b50565-8809-4013-a695-c6b5f79bfe0b"
   },
   "outputs": [
    {
     "data": {
      "text/html": [
       "<div>\n",
       "<style scoped>\n",
       "    .dataframe tbody tr th:only-of-type {\n",
       "        vertical-align: middle;\n",
       "    }\n",
       "\n",
       "    .dataframe tbody tr th {\n",
       "        vertical-align: top;\n",
       "    }\n",
       "\n",
       "    .dataframe thead th {\n",
       "        text-align: right;\n",
       "    }\n",
       "</style>\n",
       "<table border=\"1\" class=\"dataframe\">\n",
       "  <thead>\n",
       "    <tr style=\"text-align: right;\">\n",
       "      <th></th>\n",
       "      <th>PM2.5(Ug/m3)</th>\n",
       "    </tr>\n",
       "  </thead>\n",
       "  <tbody>\n",
       "    <tr>\n",
       "      <th>count</th>\n",
       "      <td>12596.000000</td>\n",
       "    </tr>\n",
       "    <tr>\n",
       "      <th>mean</th>\n",
       "      <td>16.632879</td>\n",
       "    </tr>\n",
       "    <tr>\n",
       "      <th>std</th>\n",
       "      <td>15.939169</td>\n",
       "    </tr>\n",
       "    <tr>\n",
       "      <th>min</th>\n",
       "      <td>0.020000</td>\n",
       "    </tr>\n",
       "    <tr>\n",
       "      <th>25%</th>\n",
       "      <td>8.020000</td>\n",
       "    </tr>\n",
       "    <tr>\n",
       "      <th>50%</th>\n",
       "      <td>12.740000</td>\n",
       "    </tr>\n",
       "    <tr>\n",
       "      <th>75%</th>\n",
       "      <td>21.540000</td>\n",
       "    </tr>\n",
       "    <tr>\n",
       "      <th>max</th>\n",
       "      <td>461.130000</td>\n",
       "    </tr>\n",
       "  </tbody>\n",
       "</table>\n",
       "</div>"
      ],
      "text/plain": [
       "       PM2.5(Ug/m3)\n",
       "count  12596.000000\n",
       "mean      16.632879\n",
       "std       15.939169\n",
       "min        0.020000\n",
       "25%        8.020000\n",
       "50%       12.740000\n",
       "75%       21.540000\n",
       "max      461.130000"
      ]
     },
     "execution_count": 13,
     "metadata": {},
     "output_type": "execute_result"
    }
   ],
   "source": [
    "airquality_data_for_selected_features.describe()"
   ]
  },
  {
   "cell_type": "markdown",
   "metadata": {
    "colab_type": "text",
    "id": "_QqtVZw7Sb3i"
   },
   "source": [
    "### Separate Features From the Target"
   ]
  },
  {
   "cell_type": "code",
   "execution_count": 14,
   "metadata": {},
   "outputs": [
    {
     "data": {
      "text/plain": [
       "Index(['PM2.5(Ug/m3)'], dtype='object')"
      ]
     },
     "execution_count": 14,
     "metadata": {},
     "output_type": "execute_result"
    }
   ],
   "source": [
    "airquality_data_for_selected_features.columns"
   ]
  },
  {
   "cell_type": "code",
   "execution_count": 15,
   "metadata": {},
   "outputs": [],
   "source": [
    "#target_column = 'PM2.5(Ug/m3)'\n",
    "#feature_columns = [x for x in airquality_data.columns if x != 'PM2.5(Ug/m3)']\n",
    "#feature_columns = [0,2, 3]\n",
    "feature_columns = [0]\n",
    "target_column = [0]\n",
    "features = airquality_data_for_selected_features.iloc[:,feature_columns]\n",
    "targets = airquality_data_for_selected_features.iloc[:,target_column]"
   ]
  },
  {
   "cell_type": "code",
   "execution_count": 16,
   "metadata": {},
   "outputs": [
    {
     "data": {
      "text/html": [
       "<div>\n",
       "<style scoped>\n",
       "    .dataframe tbody tr th:only-of-type {\n",
       "        vertical-align: middle;\n",
       "    }\n",
       "\n",
       "    .dataframe tbody tr th {\n",
       "        vertical-align: top;\n",
       "    }\n",
       "\n",
       "    .dataframe thead th {\n",
       "        text-align: right;\n",
       "    }\n",
       "</style>\n",
       "<table border=\"1\" class=\"dataframe\">\n",
       "  <thead>\n",
       "    <tr style=\"text-align: right;\">\n",
       "      <th></th>\n",
       "      <th>PM2.5(Ug/m3)</th>\n",
       "    </tr>\n",
       "    <tr>\n",
       "      <th>TimeStamp</th>\n",
       "      <th></th>\n",
       "    </tr>\n",
       "  </thead>\n",
       "  <tbody>\n",
       "    <tr>\n",
       "      <th>2017-09-09 18:00:00</th>\n",
       "      <td>8.31</td>\n",
       "    </tr>\n",
       "    <tr>\n",
       "      <th>2017-09-09 19:00:00</th>\n",
       "      <td>12.27</td>\n",
       "    </tr>\n",
       "    <tr>\n",
       "      <th>2017-09-09 20:00:00</th>\n",
       "      <td>15.04</td>\n",
       "    </tr>\n",
       "    <tr>\n",
       "      <th>2017-09-09 21:00:00</th>\n",
       "      <td>22.81</td>\n",
       "    </tr>\n",
       "    <tr>\n",
       "      <th>2017-09-09 22:00:00</th>\n",
       "      <td>23.40</td>\n",
       "    </tr>\n",
       "  </tbody>\n",
       "</table>\n",
       "</div>"
      ],
      "text/plain": [
       "                     PM2.5(Ug/m3)\n",
       "TimeStamp                        \n",
       "2017-09-09 18:00:00          8.31\n",
       "2017-09-09 19:00:00         12.27\n",
       "2017-09-09 20:00:00         15.04\n",
       "2017-09-09 21:00:00         22.81\n",
       "2017-09-09 22:00:00         23.40"
      ]
     },
     "execution_count": 16,
     "metadata": {},
     "output_type": "execute_result"
    }
   ],
   "source": [
    "features.head()"
   ]
  },
  {
   "cell_type": "code",
   "execution_count": 17,
   "metadata": {},
   "outputs": [
    {
     "data": {
      "text/html": [
       "<div>\n",
       "<style scoped>\n",
       "    .dataframe tbody tr th:only-of-type {\n",
       "        vertical-align: middle;\n",
       "    }\n",
       "\n",
       "    .dataframe tbody tr th {\n",
       "        vertical-align: top;\n",
       "    }\n",
       "\n",
       "    .dataframe thead th {\n",
       "        text-align: right;\n",
       "    }\n",
       "</style>\n",
       "<table border=\"1\" class=\"dataframe\">\n",
       "  <thead>\n",
       "    <tr style=\"text-align: right;\">\n",
       "      <th></th>\n",
       "      <th>PM2.5(Ug/m3)</th>\n",
       "    </tr>\n",
       "    <tr>\n",
       "      <th>TimeStamp</th>\n",
       "      <th></th>\n",
       "    </tr>\n",
       "  </thead>\n",
       "  <tbody>\n",
       "    <tr>\n",
       "      <th>2017-09-09 18:00:00</th>\n",
       "      <td>8.31</td>\n",
       "    </tr>\n",
       "    <tr>\n",
       "      <th>2017-09-09 19:00:00</th>\n",
       "      <td>12.27</td>\n",
       "    </tr>\n",
       "    <tr>\n",
       "      <th>2017-09-09 20:00:00</th>\n",
       "      <td>15.04</td>\n",
       "    </tr>\n",
       "    <tr>\n",
       "      <th>2017-09-09 21:00:00</th>\n",
       "      <td>22.81</td>\n",
       "    </tr>\n",
       "    <tr>\n",
       "      <th>2017-09-09 22:00:00</th>\n",
       "      <td>23.40</td>\n",
       "    </tr>\n",
       "  </tbody>\n",
       "</table>\n",
       "</div>"
      ],
      "text/plain": [
       "                     PM2.5(Ug/m3)\n",
       "TimeStamp                        \n",
       "2017-09-09 18:00:00          8.31\n",
       "2017-09-09 19:00:00         12.27\n",
       "2017-09-09 20:00:00         15.04\n",
       "2017-09-09 21:00:00         22.81\n",
       "2017-09-09 22:00:00         23.40"
      ]
     },
     "execution_count": 17,
     "metadata": {},
     "output_type": "execute_result"
    }
   ],
   "source": [
    "targets.head()"
   ]
  },
  {
   "cell_type": "code",
   "execution_count": 18,
   "metadata": {},
   "outputs": [
    {
     "data": {
      "text/plain": [
       "12596"
      ]
     },
     "execution_count": 18,
     "metadata": {},
     "output_type": "execute_result"
    }
   ],
   "source": [
    "len(targets)"
   ]
  },
  {
   "cell_type": "code",
   "execution_count": 60,
   "metadata": {},
   "outputs": [],
   "source": [
    "airquality_data_for_selected_features = airquality_data_for_selected_features.values"
   ]
  },
  {
   "cell_type": "markdown",
   "metadata": {
    "colab_type": "text",
    "id": "LvOH8t25Sb4E"
   },
   "source": [
    "\n",
    "### separate test dataset from training dataset and validation dataset\n",
    "- separate data on 70/10/20 training/validation/testing\n"
   ]
  },
  {
   "cell_type": "code",
   "execution_count": 64,
   "metadata": {},
   "outputs": [
    {
     "name": "stdout",
     "output_type": "stream",
     "text": [
      "8817\n",
      "1259\n",
      "2519\n",
      "12595\n"
     ]
    }
   ],
   "source": [
    "training_data_length = math.floor(len(airquality_data_for_selected_features)* 0.7)\n",
    "print(training_data_length)\n",
    "\n",
    "validation_data_length = math.floor(len(airquality_data_for_selected_features)*0.1)\n",
    "print(validation_data_length)\n",
    "\n",
    "testing_data_length = math.floor(len(airquality_data_for_selected_features)* 0.2)\n",
    "print(testing_data_length)\n",
    "\n",
    "print(str(training_data_length + validation_data_length + testing_data_length ))"
   ]
  },
  {
   "cell_type": "code",
   "execution_count": 20,
   "metadata": {
    "colab": {
     "base_uri": "https://localhost:8080/",
     "height": 87
    },
    "colab_type": "code",
    "id": "yiqwv889Sb4E",
    "outputId": "38629036-60c7-4862-d0f2-b69b4cf3b32f"
   },
   "outputs": [
    {
     "name": "stdout",
     "output_type": "stream",
     "text": [
      "(8817, 1)\n",
      "(8817, 1)\n",
      "(1259, 1)\n",
      "(1259, 1)\n",
      "(2519, 1)\n",
      "(2519, 1)\n"
     ]
    }
   ],
   "source": [
    "training_features = features.iloc[0:training_data_length,:]\n",
    "print(training_features.shape)\n",
    "training_targets =  targets.iloc[0:training_data_length,:]\n",
    "print(training_targets.shape)\n",
    "\n",
    "validation_features = features.iloc[training_data_length:training_data_length+validation_data_length,:]\n",
    "print(validation_features.shape)\n",
    "validation_targets =  targets.iloc[training_data_length:training_data_length+validation_data_length,:]\n",
    "print(validation_targets.shape)\n",
    "\n",
    "testing_features = features.iloc[training_data_length+validation_data_length: training_data_length+validation_data_length+testing_data_length,:]\n",
    "print(testing_features.shape)\n",
    "\n",
    "testing_targets = targets.iloc[training_data_length+validation_data_length: training_data_length+validation_data_length+testing_data_length,:]\n",
    "print(testing_targets.shape)"
   ]
  },
  {
   "cell_type": "markdown",
   "metadata": {
    "colab_type": "text",
    "id": "qchOsoA0Sb3A"
   },
   "source": [
    "### Preprocess the data to a format a neural network can ingest.\n",
    "- Normalising/Scaling data using minmax scaler in sklearn preprocessing for each dataset separately\n",
    "- Generationg sequential data from the recent past (e.g 3hrs), along with a target pm2.5 value in the future (next day)  for the\n",
    "  * training dataset\n",
    "  * validation dataset\n",
    "  * test dataset"
   ]
  },
  {
   "cell_type": "code",
   "execution_count": 57,
   "metadata": {},
   "outputs": [],
   "source": [
    "def generate_dataset_in_format_lstm_can_ingest(data, look_back=1):\n",
    "    x_data, y_data = [], []\n",
    "    for i in range(len(data)-look_back-1):\n",
    "        feature_data = data[i:(i+look_back), 0]\n",
    "        x_data.append(feature_data)\n",
    "        y_data.append(data[i + look_back, 0])\n",
    "    return np.array(x_data), np.array(y_data)"
   ]
  },
  {
   "cell_type": "code",
   "execution_count": 58,
   "metadata": {},
   "outputs": [
    {
     "data": {
      "text/plain": [
       "array([[ 8.31],\n",
       "       [12.27],\n",
       "       [15.04],\n",
       "       [22.81],\n",
       "       [23.4 ],\n",
       "       [23.77],\n",
       "       [22.76],\n",
       "       [22.14],\n",
       "       [21.  ],\n",
       "       [19.19]])"
      ]
     },
     "execution_count": 58,
     "metadata": {},
     "output_type": "execute_result"
    }
   ],
   "source": [
    "sample_datax = airquality_data_for_selected_features.iloc[0:10,:]\n",
    "sample_data = sample_datax.values\n",
    "sample_data"
   ]
  },
  {
   "cell_type": "code",
   "execution_count": 59,
   "metadata": {},
   "outputs": [
    {
     "name": "stdout",
     "output_type": "stream",
     "text": [
      "[array([8.31])]\n",
      "[12.27]\n",
      "[array([8.31]), array([12.27])]\n",
      "[12.27, 15.04]\n",
      "[array([8.31]), array([12.27]), array([15.04])]\n",
      "[12.27, 15.04, 22.81]\n",
      "[array([8.31]), array([12.27]), array([15.04]), array([22.81])]\n",
      "[12.27, 15.04, 22.81, 23.4]\n",
      "[array([8.31]), array([12.27]), array([15.04]), array([22.81]), array([23.4])]\n",
      "[12.27, 15.04, 22.81, 23.4, 23.77]\n",
      "[array([8.31]), array([12.27]), array([15.04]), array([22.81]), array([23.4]), array([23.77])]\n",
      "[12.27, 15.04, 22.81, 23.4, 23.77, 22.76]\n",
      "[array([8.31]), array([12.27]), array([15.04]), array([22.81]), array([23.4]), array([23.77]), array([22.76])]\n",
      "[12.27, 15.04, 22.81, 23.4, 23.77, 22.76, 22.14]\n",
      "[array([8.31]), array([12.27]), array([15.04]), array([22.81]), array([23.4]), array([23.77]), array([22.76]), array([22.14])]\n",
      "[12.27, 15.04, 22.81, 23.4, 23.77, 22.76, 22.14, 21.0]\n"
     ]
    },
    {
     "data": {
      "text/plain": [
       "(array([[ 8.31],\n",
       "        [12.27],\n",
       "        [15.04],\n",
       "        [22.81],\n",
       "        [23.4 ],\n",
       "        [23.77],\n",
       "        [22.76],\n",
       "        [22.14]]),\n",
       " array([12.27, 15.04, 22.81, 23.4 , 23.77, 22.76, 22.14, 21.  ]))"
      ]
     },
     "execution_count": 59,
     "metadata": {},
     "output_type": "execute_result"
    }
   ],
   "source": [
    "generate_dataset_in_format_lstm_can_ingest(sample_data, 1)"
   ]
  },
  {
   "cell_type": "markdown",
   "metadata": {},
   "source": [
    "### given data that goes back a number of timesteps e.g 3hrs, can we predict the next hour."
   ]
  },
  {
   "cell_type": "markdown",
   "metadata": {},
   "source": [
    "### training dataset"
   ]
  },
  {
   "cell_type": "code",
   "execution_count": 148,
   "metadata": {
    "colab": {},
    "colab_type": "code",
    "id": "eJF-bFjySb4H"
   },
   "outputs": [
    {
     "name": "stdout",
     "output_type": "stream",
     "text": [
      "[[0.01797836]\n",
      " [0.02656633]\n",
      " [0.03257357]\n",
      " ...\n",
      " [0.09641951]\n",
      " [0.03853744]\n",
      " [0.04174709]]\n",
      "(8817, 1)\n",
      "trainging target shape:  (8817, 1)\n",
      "(8814,)\n",
      "(8814, 3, 1)\n",
      "3\n"
     ]
    }
   ],
   "source": [
    "scaler = MinMaxScaler()\n",
    "scaled_training_features = scaler.fit_transform(training_features)\n",
    "print(scaled_training_features)\n",
    "print(scaled_training_features.shape)\n",
    "timesteps = 3\n",
    "number_of_features = 1\n",
    "training_targets =  np.array(training_targets)\n",
    "training_targets = training_targets.reshape(-1,1)\n",
    "print('trainging target shape: ', training_targets.shape)\n",
    "\n",
    "##given data that goes back timesteps (e.g 3) hrs, can we predict the next hour.\n",
    "forecasters = [] \n",
    "pollution_real = [] \n",
    "for i in range(timesteps, scaled_training_features.shape[0]):\n",
    "    forecasters.append(scaled_training_features[i-timesteps:i, 0:number_of_features])\n",
    "    pollution_real.append(training_targets[i, 0])\n",
    "    \n",
    "forecasters, pollution_real = np.array(forecasters), np.array(pollution_real)\n",
    "\n",
    "look_back = 1\n",
    "trainX, trainY = create_dataset(train, look_back)\n",
    "testX, testY = create_dataset(test, look_back)\n",
    "\n",
    "print(pollution_real.shape)\n",
    "print(forecasters.shape)\n",
    "print(forecasters.shape[1])\n",
    "\n",
    "### selected features.\n"
   ]
  },
  {
   "cell_type": "markdown",
   "metadata": {},
   "source": [
    "### validation dataset"
   ]
  },
  {
   "cell_type": "code",
   "execution_count": 149,
   "metadata": {},
   "outputs": [
    {
     "name": "stdout",
     "output_type": "stream",
     "text": [
      "[[0.12884344]\n",
      " [0.06398439]\n",
      " [0.02899818]\n",
      " ...\n",
      " [0.04992263]\n",
      " [0.05032631]\n",
      " [0.05073   ]]\n",
      "(1259, 1)\n",
      "(1256, 3, 1)\n",
      "(1256,)\n"
     ]
    }
   ],
   "source": [
    "scaled_validation_features = scaler.fit_transform(validation_features)\n",
    "print(scaled_validation_features)\n",
    "forecasters_validation = [] \n",
    "pollution_real_validation = [] \n",
    "\n",
    "validation_targets =  np.array(validation_targets)\n",
    "validation_targets= validation_targets.reshape(-1,1)\n",
    "print(validation_targets.shape)\n",
    "\n",
    "for i in range(timesteps, scaled_validation_features.shape[0]):\n",
    "    forecasters_validation.append(scaled_validation_features[i-timesteps:i, 0:number_of_features])\n",
    "    pollution_real_validation.append(validation_targets[i, 0])\n",
    "    \n",
    "forecasters_validation, pollution_real_validation = np.array(forecasters_validation), np.array(pollution_real_validation)\n",
    "#baseline_prediction_validation_values, baseline_actual_validation_values = np.array(baseline_prediction_validation_values),\n",
    "#np.array(baseline_actual_validation_values)\n",
    "print(forecasters_validation.shape)\n",
    "print(pollution_real_validation.shape)"
   ]
  },
  {
   "cell_type": "markdown",
   "metadata": {},
   "source": [
    "### Testing dataset"
   ]
  },
  {
   "cell_type": "code",
   "execution_count": 150,
   "metadata": {
    "scrolled": true
   },
   "outputs": [
    {
     "name": "stdout",
     "output_type": "stream",
     "text": [
      "[[0.0916251 ]\n",
      " [0.0916251 ]\n",
      " [0.07298504]\n",
      " ...\n",
      " [0.01085149]\n",
      " [0.01181412]\n",
      " [0.00831364]]\n",
      "Testing Y values shape:  (2519,)\n",
      "Testing targets shape:  (2519, 1)\n",
      "(2516, 3, 1)\n",
      "(2516,)\n"
     ]
    }
   ],
   "source": [
    "scaled_testing_features = scaler.fit_transform(testing_features)\n",
    "print(scaled_testing_features)\n",
    "forecasters_test = [] \n",
    "pollution_real_test = [] \n",
    "\n",
    "testing_targets =  np.array(testing_targets)\n",
    "testing_y_values = testing_targets\n",
    "testing_targets = testing_targets.reshape(-1,1)\n",
    "print('Testing Y values shape: ',testing_y_values.ravel().shape)\n",
    "print('Testing targets shape: ',testing_targets.shape)\n",
    "for i in range(timesteps, scaled_testing_features.shape[0]):\n",
    "    forecasters_test.append(scaled_testing_features[i-timesteps:i, 0:number_of_features])\n",
    "    pollution_real_test.append(testing_targets[i, 0])\n",
    "    \n",
    "forecasters_test, pollution_real_test = np.array(forecasters_test), np.array(pollution_real_test)\n",
    "\n",
    "print(forecasters_test.shape)\n",
    "print(pollution_real_test.shape)"
   ]
  },
  {
   "cell_type": "markdown",
   "metadata": {},
   "source": [
    "### Building Baseline Model\n",
    "- for Baseline, we predict the average pm2.5 and check the RMSE on validation data. Any model, should be able to beat this simple benchmark\n",
    "- The airquality(pm25) timeseries are continuous (the pm25 conncentration in the next hour are likely to be close to the pm25 concentration at the current hour).\n",
    "- Thus a common sense approach would be to always predict that the pm25 concentrations right now  will be equal to the pm25 concentration 1hr hour ago. Let's evaluate this approach, using the Mean Absolute Error metric (MAE). Mean Absolute Error is simply equal to: np.mean(np.abs(preds - targets))"
   ]
  },
  {
   "cell_type": "code",
   "execution_count": 151,
   "metadata": {},
   "outputs": [
    {
     "name": "stdout",
     "output_type": "stream",
     "text": [
      "4.0945976095617524\n"
     ]
    }
   ],
   "source": [
    "def evaluate_naive_method():\n",
    "    baseline_prediction_validation_values = []\n",
    "    baseline_actual_validation_values = []\n",
    "    \n",
    "    #3 is the number of timesteps back.\n",
    "    for i in range(timesteps, scaled_validation_features.shape[0]):\n",
    "        if i != timesteps:\n",
    "            baseline_prediction_validation_values.append(validation_targets[i-1, 0])\n",
    "            baseline_actual_validation_values.append(validation_targets[i, 0])\n",
    "\n",
    "    baseline_prediction_validation_values = np.array(baseline_prediction_validation_values)\n",
    "    baseline_actual_validation_values = np.array(baseline_actual_validation_values)\n",
    "\n",
    "    baseline_maes = []\n",
    "    baseline_rmses = []\n",
    "    \n",
    "    for i in range(0,len(baseline_prediction_validation_values)):\n",
    "        mae = np.mean(np.abs(baseline_prediction_validation_values[i] - baseline_actual_validation_values[i]))\n",
    "        baseline_maes.append(mae)\n",
    "    \n",
    "    print(np.mean(baseline_maes))\n",
    "    \n",
    "evaluate_naive_method()\n",
    "\n",
    "def calculate_rmse(actual_values,predictions):\n",
    "    mse= mean_squared_error(actual_values, predictions)\n",
    "    rmse = np.sqrt(mse)\n",
    "    return rmse\n",
    "\n",
    "\n",
    "#calculate_rmse(baseline_actual_validation_values, baseline_prediction_validation_values)"
   ]
  },
  {
   "cell_type": "code",
   "execution_count": 152,
   "metadata": {},
   "outputs": [
    {
     "data": {
      "text/plain": [
       "(1259, 1)"
      ]
     },
     "execution_count": 152,
     "metadata": {},
     "output_type": "execute_result"
    }
   ],
   "source": [
    "validation_features.shape"
   ]
  },
  {
   "cell_type": "raw",
   "metadata": {},
   "source": [
    "print(baseline_actual_validation_values[0:10])\n",
    "print(baseline_prediction_validation_values[0:10])"
   ]
  },
  {
   "cell_type": "raw",
   "metadata": {},
   "source": [
    "print(baseline_prediction_validation_values.shape)\n",
    "#scaled_validation_features.shape[0]\n",
    "print(baseline_actual_validation_values.shape)"
   ]
  },
  {
   "cell_type": "markdown",
   "metadata": {},
   "source": [
    "### SUPPORT VECTOR REGRESSION APPROACH\n",
    "- Training and evaluation on support vector regression approach"
   ]
  },
  {
   "cell_type": "code",
   "execution_count": 153,
   "metadata": {},
   "outputs": [
    {
     "name": "stderr",
     "output_type": "stream",
     "text": [
      "C:\\Users\\DELL\\Anaconda3\\envs\\airquality_prediction\\lib\\site-packages\\sklearn\\svm\\base.py:196: FutureWarning: The default value of gamma will change from 'auto' to 'scale' in version 0.22 to account better for unscaled features. Set gamma explicitly to 'auto' or 'scale' to avoid this warning.\n",
      "  \"avoid this warning.\", FutureWarning)\n"
     ]
    },
    {
     "name": "stdout",
     "output_type": "stream",
     "text": [
      "[42.23410789 42.23410789 33.58978029 ...  5.07684713  5.513576\n",
      "  3.92641021]\n"
     ]
    }
   ],
   "source": [
    "from sklearn.svm import SVR\n",
    "svr = SVR(kernel='rbf', degree=3, C=100, epsilon=0.1)\n",
    "# fit the model by fitting the SVM regressor to the training data\n",
    "svr.fit(scaled_training_features, training_targets.ravel())\n",
    "svr_predictions = svr.predict(scaled_testing_features)\n",
    "print(svr_predictions)"
   ]
  },
  {
   "cell_type": "code",
   "execution_count": 154,
   "metadata": {},
   "outputs": [
    {
     "name": "stdout",
     "output_type": "stream",
     "text": [
      "SVR MAE:  45.18\n",
      "SVR RMSE:  57.09\n"
     ]
    }
   ],
   "source": [
    "svr_mae = mean_absolute_error(testing_targets, svr_predictions)\n",
    "print('SVR MAE: ', svr_mae.round(2))\n",
    "svr_rmse = calculate_rmse(testing_targets, svr_predictions)\n",
    "print('SVR RMSE: ', svr_rmse.round(2))\n",
    "svr_prediction_vs_actual_dataframe = pd.DataFrame({'Actual PM2.5': testing_targets.ravel(), 'Predicted PM2.5':svr_predictions}) \n",
    "svr_prediction_vs_actual_dataframe\n",
    "\n",
    "## save predictions by svr\n",
    "svr_prediction_vs_actual_dataframe.to_csv(os.path.join(filepath , 'svr_predictions.csv'))"
   ]
  },
  {
   "cell_type": "markdown",
   "metadata": {},
   "source": [
    "### BASIC LSTM MODOEL\n",
    "- Training and evaluating on basic lstm model with one layer"
   ]
  },
  {
   "cell_type": "code",
   "execution_count": 155,
   "metadata": {},
   "outputs": [
    {
     "name": "stdout",
     "output_type": "stream",
     "text": [
      "Train on 8814 samples, validate on 1256 samples\n",
      "Epoch 1/50\n",
      "8814/8814 [==============================] - 7s 800us/step - loss: 11.7540 - mean_absolute_error: 11.7540 - rmse: 18.0594 - val_loss: 8.4855 - val_mean_absolute_error: 8.4855 - val_rmse: 10.9614\n",
      "Epoch 2/50\n",
      "8814/8814 [==============================] - 2s 202us/step - loss: 8.9746 - mean_absolute_error: 8.9746 - rmse: 15.0411 - val_loss: 8.2514 - val_mean_absolute_error: 8.2514 - val_rmse: 10.5195\n",
      "Epoch 3/50\n",
      "8814/8814 [==============================] - 2s 214us/step - loss: 8.5982 - mean_absolute_error: 8.5982 - rmse: 14.6591 - val_loss: 7.7642 - val_mean_absolute_error: 7.7642 - val_rmse: 9.9713\n",
      "Epoch 4/50\n",
      "8814/8814 [==============================] - 2s 213us/step - loss: 7.8815 - mean_absolute_error: 7.8815 - rmse: 13.6200 - val_loss: 8.2914 - val_mean_absolute_error: 8.2914 - val_rmse: 10.6267\n",
      "Epoch 5/50\n",
      "8814/8814 [==============================] - 2s 199us/step - loss: 7.0084 - mean_absolute_error: 7.0084 - rmse: 12.8974 - val_loss: 10.2587 - val_mean_absolute_error: 10.2587 - val_rmse: 12.5132\n",
      "Epoch 6/50\n",
      "8814/8814 [==============================] - 2s 207us/step - loss: 6.7094 - mean_absolute_error: 6.7094 - rmse: 12.5006 - val_loss: 10.9394 - val_mean_absolute_error: 10.9394 - val_rmse: 13.1676\n",
      "Epoch 7/50\n",
      "8814/8814 [==============================] - 2s 222us/step - loss: 6.6628 - mean_absolute_error: 6.6628 - rmse: 12.3194 - val_loss: 11.2584 - val_mean_absolute_error: 11.2584 - val_rmse: 13.4697\n",
      "Epoch 8/50\n",
      "8814/8814 [==============================] - 2s 193us/step - loss: 6.6008 - mean_absolute_error: 6.6008 - rmse: 12.2281 - val_loss: 12.1054 - val_mean_absolute_error: 12.1054 - val_rmse: 14.2253\n"
     ]
    }
   ],
   "source": [
    "from tensorflow.keras.models import Sequential, load_model\n",
    "from tensorflow.keras.layers import Dense, LSTM\n",
    "from tensorflow.keras.optimizers import RMSprop\n",
    "from tensorflow.keras import backend\n",
    "from tensorflow.keras.utils import plot_model\n",
    "from tensorflow.keras.callbacks import EarlyStopping, ModelCheckpoint\n",
    "#from keras.models import load_model\n",
    "\n",
    "def rmse(y_true, y_pred):\n",
    "    return backend.sqrt(backend.mean(backend.square(y_pred - y_true)))\n",
    "\n",
    "def root_mean_squared_error(y_true, y_pred):\n",
    "        return backend.sqrt(backend.mean(backend.square(y_pred - y_true)))\n",
    "\n",
    "model = Sequential()\n",
    "model.add(LSTM(32, input_shape = (forecasters.shape[1], number_of_features)))\n",
    "model.add(Dense(1))\n",
    "\n",
    "callbacks_list = [\n",
    "    EarlyStopping(  # interrupts training when improvement stops \n",
    "        monitor='val_loss', \n",
    "        patience=5, \n",
    "        mode='min'), \n",
    "    \n",
    "   ModelCheckpoint( #saves the current weights after every epock\n",
    "        filepath=os.path.join(filepath, 'basic_lstm_model.h5'),\n",
    "        monitor='val_loss',save_best_only=True) # these 2 arguments mean , you won't overwrite the model file unless val_loss has improved which  allows you to keep the best model seen during training.\n",
    "]\n",
    "\n",
    "model.compile(optimizer='adam', loss='mean_absolute_error', metrics = ['mean_absolute_error', rmse])\n",
    "basic_model_history = model.fit(forecasters, pollution_real, epochs=50,\n",
    "                                validation_data=(forecasters_validation, pollution_real_validation),\n",
    "                               callbacks=callbacks_list)"
   ]
  },
  {
   "cell_type": "code",
   "execution_count": 156,
   "metadata": {},
   "outputs": [
    {
     "name": "stdout",
     "output_type": "stream",
     "text": [
      "_________________________________________________________________\n",
      "Layer (type)                 Output Shape              Param #   \n",
      "=================================================================\n",
      "lstm_10 (LSTM)               (None, 32)                4352      \n",
      "_________________________________________________________________\n",
      "dense_4 (Dense)              (None, 1)                 33        \n",
      "=================================================================\n",
      "Total params: 4,385\n",
      "Trainable params: 4,385\n",
      "Non-trainable params: 0\n",
      "_________________________________________________________________\n"
     ]
    }
   ],
   "source": [
    "model.summary()"
   ]
  },
  {
   "cell_type": "code",
   "execution_count": 157,
   "metadata": {},
   "outputs": [],
   "source": [
    "basic_model_architecture_path = os.path.join(filepath, 'basic_model_plot.png')\n",
    "plot_model(model, to_file=basic_model_architecture_path, show_shapes=False, show_layer_names=False)"
   ]
  },
  {
   "cell_type": "code",
   "execution_count": 158,
   "metadata": {
    "scrolled": true
   },
   "outputs": [
    {
     "data": {
      "image/png": "[encoded data removed]",
      "text/plain": [
       "<Figure size 864x432 with 1 Axes>"
      ]
     },
     "metadata": {
      "needs_background": "light"
     },
     "output_type": "display_data"
    }
   ],
   "source": [
    "loss = basic_model_history.history['loss']\n",
    "val_loss = basic_model_history.history['val_loss']\n",
    "\n",
    "epochs = range(len(loss))\n",
    "\n",
    "fig = plt.figure(figsize=(12,6))\n",
    "ax = fig.add_subplot(111)\n",
    "\n",
    "plt.plot(epochs, loss, 'bo', label='Training loss')\n",
    "plt.plot(epochs, val_loss, 'r', label='Validation loss')\n",
    "plt.title('Training and validation loss')\n",
    "plt.xlabel('Epochs')\n",
    "plt.ylabel('Loss')\n",
    "plt.legend()\n",
    "plt.show()\n",
    "\n",
    "fig.savefig(os.path.join(filepath, 'basic_model_history_training_validation_loss.png'))"
   ]
  },
  {
   "cell_type": "code",
   "execution_count": null,
   "metadata": {},
   "outputs": [],
   "source": [
    "print(np.argmin(val_loss))\n",
    "#val_loss[70]"
   ]
  },
  {
   "cell_type": "code",
   "execution_count": 159,
   "metadata": {},
   "outputs": [
    {
     "data": {
      "image/png": "[encoded data removed]",
      "text/plain": [
       "<Figure size 864x432 with 1 Axes>"
      ]
     },
     "metadata": {
      "needs_background": "light"
     },
     "output_type": "display_data"
    }
   ],
   "source": [
    "hist_rmse = basic_model_history.history['rmse']\n",
    "val_rmse = basic_model_history.history['val_rmse']\n",
    "epochs = range(len(hist_rmse))\n",
    "\n",
    "fig_rmse = plt.figure(figsize=(12,6))\n",
    "ax_rmse= fig_rmse.add_subplot(111)\n",
    "\n",
    "plt.plot(epochs, hist_rmse, 'bo', label='Training Root Mean Square Error')\n",
    "plt.plot(epochs, val_rmse, 'r', label='Validation Root Mean Square Error')\n",
    "plt.title('Training and Validation Root Mean Square Error')\n",
    "plt.xlabel('Epochs')\n",
    "plt.ylabel('RMSE')\n",
    "plt.legend()\n",
    "\n",
    "plt.show()\n",
    "fig_rmse.savefig(os.path.join(filepath, 'basic_model_history_training_validation_RMSE.png'))"
   ]
  },
  {
   "cell_type": "code",
   "execution_count": 160,
   "metadata": {},
   "outputs": [
    {
     "data": {
      "image/png": "[encoded data removed]",
      "text/plain": [
       "<Figure size 864x432 with 1 Axes>"
      ]
     },
     "metadata": {
      "needs_background": "light"
     },
     "output_type": "display_data"
    }
   ],
   "source": [
    "mae = basic_model_history.history['mean_absolute_error']\n",
    "val_mae = basic_model_history.history['val_mean_absolute_error']\n",
    "epochs = range(len(mae))\n",
    "\n",
    "fig_mae = plt.figure(figsize=(12,6))\n",
    "ax_mae = fig_mae.add_subplot(111)\n",
    "\n",
    "plt.plot(epochs, mae, 'bo', label='Training Mean Absolute Error')\n",
    "plt.plot(epochs, val_mae, 'r', label='Validation Mean Absolute Error')\n",
    "plt.title('Training and Validation Mean Absolute Error')\n",
    "plt.xlabel('Epochs')\n",
    "plt.ylabel('MAE')\n",
    "plt.legend()\n",
    "\n",
    "plt.show()\n",
    "fig_mae.savefig(os.path.join(filepath, 'basic_model_history_training_validation_mae.png'))"
   ]
  },
  {
   "cell_type": "code",
   "execution_count": 164,
   "metadata": {},
   "outputs": [
    {
     "name": "stdout",
     "output_type": "stream",
     "text": [
      "[8.292321239763142, 8.292321239763142, 11.03485001039689]\n",
      "[7.89654839247323, 7.89654839247323, 9.832936403671773]\n"
     ]
    }
   ],
   "source": [
    "saved_model = load_model(os.path.join(filepath,'basic_lstm_model.h5'),  custom_objects={'rmse': rmse})\n",
    "\n",
    "basic_lstm_model_train_evaluation = saved_model.evaluate(forecasters, pollution_real, verbose=0)\n",
    "basic_lstm_model_test_evaluation = saved_model.evaluate(forecasters_test, pollution_real_test, verbose=0)\n",
    "print(basic_lstm_model_train_evaluation)\n",
    "print(basic_lstm_model_test_evaluation)"
   ]
  },
  {
   "cell_type": "code",
   "execution_count": 165,
   "metadata": {},
   "outputs": [
    {
     "name": "stdout",
     "output_type": "stream",
     "text": [
      "2516/2516 [==============================] - 0s 58us/step\n",
      "[7.89654839247323, 7.89654839247323, 9.832936403671773]\n",
      "['loss', 'mean_absolute_error', 'rmse']\n"
     ]
    }
   ],
   "source": [
    "basic_lstm_model_predictions = saved_model.predict(forecasters_test)\n",
    "basic_lstm_model_evaluation =  saved_model.evaluate(forecasters_test, pollution_real_test)\n",
    "print(basic_lstm_model_evaluation)\n",
    "print(saved_model.metrics_names)"
   ]
  },
  {
   "cell_type": "code",
   "execution_count": 166,
   "metadata": {},
   "outputs": [
    {
     "name": "stdout",
     "output_type": "stream",
     "text": [
      "(2516, 1)\n",
      "(2516,)\n"
     ]
    }
   ],
   "source": [
    "print(basic_lstm_model_predictions.shape)\n",
    "print(basic_lstm_model_predictions.ravel().shape)"
   ]
  },
  {
   "cell_type": "code",
   "execution_count": 167,
   "metadata": {},
   "outputs": [],
   "source": [
    "basic_lstm_model_prediction_vs_actual_dataframe = pd.DataFrame({'Actual PM2.5': pollution_real_test, 'Predicted PM2.5':basic_lstm_model_predictions.ravel()}) \n",
    "basic_lstm_model_prediction_vs_actual_dataframe\n",
    "## save predictions by basic lstm model\n",
    "basic_lstm_model_prediction_vs_actual_dataframe.to_csv(os.path.join(filepath , 'basic_lstm_model_predictions.csv'))"
   ]
  },
  {
   "cell_type": "markdown",
   "metadata": {
    "colab_type": "text",
    "id": "WBitZDTLSb4P"
   },
   "source": [
    "### Creation Neural Network Architecture,Training & Evaluation  on Stacked LSTM and DROPOUT layers\n",
    "The last parameter with the value 18 represents, the number of features"
   ]
  },
  {
   "cell_type": "code",
   "execution_count": 168,
   "metadata": {
    "colab": {
     "base_uri": "https://localhost:8080/",
     "height": 7503
    },
    "colab_type": "code",
    "id": "IenaENnPSb4Q",
    "outputId": "30a425bc-f88c-49d5-98a6-2fcf2508ff89",
    "scrolled": true
   },
   "outputs": [
    {
     "name": "stdout",
     "output_type": "stream",
     "text": [
      "Train on 8814 samples, validate on 1256 samples\n",
      "Epoch 1/100\n",
      "8814/8814 [==============================] - 18s 2ms/step - loss: 10.6702 - mean_absolute_error: 10.6702 - rmse: 16.9731 - val_loss: 8.8242 - val_mean_absolute_error: 8.8242 - val_rmse: 11.4484\n",
      "Epoch 2/100\n",
      "8814/8814 [==============================] - 7s 814us/step - loss: 9.3424 - mean_absolute_error: 9.3424 - rmse: 15.3024 - val_loss: 8.8183 - val_mean_absolute_error: 8.8183 - val_rmse: 11.3710\n",
      "Epoch 3/100\n",
      "8814/8814 [==============================] - 7s 776us/step - loss: 9.3421 - mean_absolute_error: 9.3421 - rmse: 15.5065 - val_loss: 8.8009 - val_mean_absolute_error: 8.8009 - val_rmse: 11.3864\n",
      "Epoch 4/100\n",
      "8814/8814 [==============================] - 7s 740us/step - loss: 9.1816 - mean_absolute_error: 9.1816 - rmse: 15.3934 - val_loss: 8.5209 - val_mean_absolute_error: 8.5209 - val_rmse: 10.7824\n",
      "Epoch 5/100\n",
      "8814/8814 [==============================] - 7s 832us/step - loss: 7.4787 - mean_absolute_error: 7.4787 - rmse: 13.7637 - val_loss: 8.8540 - val_mean_absolute_error: 8.8540 - val_rmse: 11.2498\n",
      "Epoch 6/100\n",
      "8814/8814 [==============================] - 7s 770us/step - loss: 6.6501 - mean_absolute_error: 6.6501 - rmse: 12.6780 - val_loss: 8.9952 - val_mean_absolute_error: 8.9952 - val_rmse: 11.5764\n",
      "Epoch 7/100\n",
      "8814/8814 [==============================] - 7s 793us/step - loss: 5.8414 - mean_absolute_error: 5.8414 - rmse: 11.9393 - val_loss: 9.2494 - val_mean_absolute_error: 9.2494 - val_rmse: 11.4726\n",
      "Epoch 8/100\n",
      "8814/8814 [==============================] - 7s 814us/step - loss: 5.4955 - mean_absolute_error: 5.4955 - rmse: 11.3966 - val_loss: 9.7276 - val_mean_absolute_error: 9.7276 - val_rmse: 11.7356\n",
      "Epoch 9/100\n",
      "8814/8814 [==============================] - 7s 806us/step - loss: 5.2852 - mean_absolute_error: 5.2852 - rmse: 11.1490 - val_loss: 10.6522 - val_mean_absolute_error: 10.6522 - val_rmse: 12.5986\n"
     ]
    }
   ],
   "source": [
    "from tensorflow.keras.models import Sequential\n",
    "from tensorflow.keras.layers import Dense, LSTM, Dropout\n",
    "from tensorflow.keras.utils import plot_model\n",
    "\n",
    "deep_lstm_callbacks_list = [\n",
    "    EarlyStopping(  # interrupts training when improvement stops \n",
    "        monitor='val_loss', \n",
    "        patience=5, \n",
    "        mode='min'), \n",
    "    \n",
    "   ModelCheckpoint( #saves the current weights after every epock\n",
    "        filepath=os.path.join(filepath, 'deep_lstm_best_model.h5'),\n",
    "        monitor='val_loss',save_best_only=True) # these 2 arguments mean , you won't overwrite the model file unless val_loss has improved which  allows you to keep the best model seen during training.\n",
    "]\n",
    "\n",
    "regressor_model = Sequential()\n",
    "regressor_model.add(LSTM(units=64, return_sequences = True, input_shape = (forecasters.shape[1],number_of_features)))\n",
    "regressor_model.add(Dropout(0.3))\n",
    "number_of_features\n",
    "regressor_model.add(LSTM(units = 32, return_sequences = True))\n",
    "regressor_model.add(Dropout(0.2))\n",
    "\n",
    "regressor_model.add(LSTM(units = 32, return_sequences = True))\n",
    "regressor_model.add(Dropout(0.2))\n",
    "\n",
    "regressor_model.add(LSTM(units = 32))\n",
    "regressor_model.add(Dropout(0.2))\n",
    "\n",
    "regressor_model.add(Dense(units = 1))\n",
    "\n",
    "regressor_model.compile(optimizer = 'adam', loss = 'mean_absolute_error',metrics = ['mean_absolute_error',rmse] )\n",
    "\n",
    "##Training the model\n",
    "history = regressor_model.fit(forecasters, pollution_real,epochs = 100,\n",
    "                              validation_data=(forecasters_validation,pollution_real_validation),batch_size = 32 , \n",
    "                              callbacks=deep_lstm_callbacks_list)"
   ]
  },
  {
   "cell_type": "code",
   "execution_count": 181,
   "metadata": {
    "colab": {},
    "colab_type": "code",
    "id": "fN9EwdUFSb4R"
   },
   "outputs": [
    {
     "name": "stdout",
     "output_type": "stream",
     "text": [
      "_________________________________________________________________\n",
      "Layer (type)                 Output Shape              Param #   \n",
      "=================================================================\n",
      "lstm_11 (LSTM)               (None, 3, 64)             16896     \n",
      "_________________________________________________________________\n",
      "dropout_8 (Dropout)          (None, 3, 64)             0         \n",
      "_________________________________________________________________\n",
      "lstm_12 (LSTM)               (None, 3, 32)             12416     \n",
      "_________________________________________________________________\n",
      "dropout_9 (Dropout)          (None, 3, 32)             0         \n",
      "_________________________________________________________________\n",
      "lstm_13 (LSTM)               (None, 3, 32)             8320      \n",
      "_________________________________________________________________\n",
      "dropout_10 (Dropout)         (None, 3, 32)             0         \n",
      "_________________________________________________________________\n",
      "lstm_14 (LSTM)               (None, 32)                8320      \n",
      "_________________________________________________________________\n",
      "dropout_11 (Dropout)         (None, 32)                0         \n",
      "_________________________________________________________________\n",
      "dense_5 (Dense)              (None, 1)                 33        \n",
      "=================================================================\n",
      "Total params: 45,985\n",
      "Trainable params: 45,985\n",
      "Non-trainable params: 0\n",
      "_________________________________________________________________\n"
     ]
    }
   ],
   "source": [
    "#regressor_model.save('/content/drive/My Drive/Uni/Msc Comp Science/Year Two/Research/experiments/data/AirQuality/AirQo/airquality_prediction_bugolobi_04_20_2019.h5')\n",
    "\n",
    "regressor_model.save(os.path.join(filepath,'airquality_prediction_model.h5'))\n",
    "regressor_model.summary()\n",
    "regressor_model_architecture_path = os.path.join(filepath, 'deep_lstm_model_plot.png')\n",
    "plot_model(regressor_model, to_file=regressor_model_architecture_path, show_shapes=False, show_layer_names=False)"
   ]
  },
  {
   "cell_type": "code",
   "execution_count": 170,
   "metadata": {},
   "outputs": [
    {
     "data": {
      "image/png": "[encoded data removed]",
      "text/plain": [
       "<Figure size 864x432 with 1 Axes>"
      ]
     },
     "metadata": {
      "needs_background": "light"
     },
     "output_type": "display_data"
    }
   ],
   "source": [
    "loss = history.history['loss']\n",
    "val_loss = history.history['val_loss']\n",
    "\n",
    "epochs = range(len(loss))\n",
    "\n",
    "fig_deep_lstm_loss= plt.figure(figsize=(12,6))\n",
    "ax = fig_deep_lstm_loss.add_subplot(111)\n",
    "\n",
    "plt.plot(epochs, loss, 'bo', label='Training loss')\n",
    "plt.plot(epochs, val_loss, 'r', label='Validation loss')\n",
    "plt.title('Training and validation loss')\n",
    "plt.xlabel('Epochs')\n",
    "plt.ylabel('Loss')\n",
    "plt.legend()\n",
    "\n",
    "plt.show()\n",
    "\n",
    "fig_deep_lstm_loss.savefig(os.path.join(filepath, 'deep_lstm_model_history_training_validation_loss.png'))"
   ]
  },
  {
   "cell_type": "code",
   "execution_count": 182,
   "metadata": {},
   "outputs": [
    {
     "data": {
      "image/png": "[encoded data removed]",
      "text/plain": [
       "<Figure size 864x432 with 1 Axes>"
      ]
     },
     "metadata": {},
     "output_type": "display_data"
    }
   ],
   "source": [
    "mae = history.history['mean_absolute_error']\n",
    "val_mae = history.history['val_mean_absolute_error']\n",
    "epochs = range(len(mae))\n",
    "\n",
    "fig_deep_lstm_mae = plt.figure(figsize=(12,6))\n",
    "ax_mae = fig_deep_lstm_mae.add_subplot(111)\n",
    "\n",
    "plt.plot(epochs, mae, 'bo', label='Training Mean Absolute Error')\n",
    "plt.plot(epochs, val_mae, 'r', label='Validation Mean Absolute Error')\n",
    "plt.title('Training and Validation Mean Absolute Error')\n",
    "plt.xlabel('Epochs')\n",
    "plt.ylabel('MAE')\n",
    "plt.legend()\n",
    "\n",
    "plt.show()\n",
    "fig_mae.savefig(os.path.join(filepath, 'deep_lst_mmodel_history_training_validation_mae.png'))"
   ]
  },
  {
   "cell_type": "code",
   "execution_count": 183,
   "metadata": {},
   "outputs": [
    {
     "data": {
      "image/png": "[encoded data removed]",
      "text/plain": [
       "<Figure size 864x432 with 1 Axes>"
      ]
     },
     "metadata": {},
     "output_type": "display_data"
    }
   ],
   "source": [
    "hist_rmse = history.history['rmse']\n",
    "val_rmse = history.history['val_rmse']\n",
    "epochs = range(len(hist_rmse))\n",
    "\n",
    "fig_rmse = plt.figure(figsize=(12,6))\n",
    "ax_rmse= fig_rmse.add_subplot(111)\n",
    "\n",
    "plt.plot(epochs, hist_rmse, 'bo', label='Training Root Mean Squared Error')\n",
    "plt.plot(epochs, val_rmse, 'r', label='Validation Root Mean Squared Error')\n",
    "plt.title('Training and Validation Root Mean Squared Error')\n",
    "plt.xlabel('Epochs')\n",
    "plt.ylabel('RMSE')\n",
    "plt.legend()\n",
    "\n",
    "plt.show()\n",
    "fig_rmse.savefig(os.path.join(filepath, 'deep_model_history_training_validation_RMSE.png'))"
   ]
  },
  {
   "cell_type": "markdown",
   "metadata": {
    "colab_type": "text",
    "id": "sO0awXl1Sb4T"
   },
   "source": [
    "### Making predictions (forecasts) using the deep recurrent lstm\n",
    "1. Convert test set in the same format accepted by model\n",
    "1. make the forecasts directly on the testing dataset"
   ]
  },
  {
   "cell_type": "markdown",
   "metadata": {},
   "source": [
    "### Make prediction and evaluation using the developed deep lstm model"
   ]
  },
  {
   "cell_type": "code",
   "execution_count": 184,
   "metadata": {},
   "outputs": [
    {
     "name": "stdout",
     "output_type": "stream",
     "text": [
      "[4.897385105460253, 4.897385105460253, 7.402505451355604]\n",
      "[11.793015190452005, 11.793015190452005, 13.347717941660191]\n"
     ]
    }
   ],
   "source": [
    "#saved_best_deep_lstm_model = load_model(os.path.join(filepath,'deep_lstm_best_model.h5'),  custom_objects={'rmse': rmse})\n",
    "saved_best_deep_lstm_model = load_model(os.path.join(filepath,'airquality_prediction_model.h5'),  custom_objects={'rmse': rmse})\n",
    "deep_lstm_model_train_evaluation = saved_best_deep_lstm_model.evaluate(forecasters, pollution_real, verbose=0)\n",
    "deep_lstm_model_test_evaluation = saved_best_deep_lstm_model.evaluate(forecasters_test, pollution_real_test, verbose=0)\n",
    "print(deep_lstm_model_train_evaluation)\n",
    "print(deep_lstm_model_test_evaluation)"
   ]
  },
  {
   "cell_type": "code",
   "execution_count": 174,
   "metadata": {
    "colab": {},
    "colab_type": "code",
    "id": "ts5RRZWoSb4Z"
   },
   "outputs": [
    {
     "name": "stdout",
     "output_type": "stream",
     "text": [
      "2516/2516 [==============================] - 0s 165us/step\n"
     ]
    }
   ],
   "source": [
    "deep_lstm_model_predictions = saved_best_deep_lstm_model.predict(forecasters_test)\n",
    "deep_lstm_model_evaluation =  saved_best_deep_lstm_model.evaluate(forecasters_test, pollution_real_test)\n",
    "\n",
    "deep_lstm_model_prediction_vs_actual_dataframe = pd.DataFrame({'Actual PM2.5': pollution_real_test, 'Predicted PM2.5':deep_lstm_model_predictions.ravel()}) \n",
    "deep_lstm_model_prediction_vs_actual_dataframe\n",
    "## save predictions by basic lstm model\n",
    "deep_lstm_model_prediction_vs_actual_dataframe.to_csv(os.path.join(filepath , 'deep_lstm_model_predictions.csv'))"
   ]
  },
  {
   "cell_type": "code",
   "execution_count": 175,
   "metadata": {
    "colab": {
     "base_uri": "https://localhost:8080/",
     "height": 52
    },
    "colab_type": "code",
    "id": "pBCyXHz1Sb4h",
    "outputId": "08a4e2a2-9460-4bdf-8f2c-96e4b5efd36b"
   },
   "outputs": [
    {
     "name": "stdout",
     "output_type": "stream",
     "text": [
      "predictions 25.462488\n",
      "actual pm2.5 values 16.882154213036564\n"
     ]
    }
   ],
   "source": [
    "print('predictions', deep_lstm_model_predictions.mean())\n",
    "print('actual pm2.5 values', pollution_real_test.mean())"
   ]
  },
  {
   "cell_type": "markdown",
   "metadata": {
    "colab_type": "text",
    "id": "EQ7BkVaMSb4j"
   },
   "source": [
    "### Verification of the average in the results of the forecasts and in the actual results"
   ]
  },
  {
   "cell_type": "code",
   "execution_count": 176,
   "metadata": {
    "colab": {
     "base_uri": "https://localhost:8080/",
     "height": 52
    },
    "colab_type": "code",
    "id": "v3AVMbw6Sb4j",
    "outputId": "3d51c342-1fed-4b52-d946-34be9d7ba6a5"
   },
   "outputs": [
    {
     "name": "stdout",
     "output_type": "stream",
     "text": [
      "predictions 25.462488\n",
      "actual pm2.5 values 16.882154213036564\n"
     ]
    }
   ],
   "source": [
    "print('predictions', deep_lstm_model_predictions.mean())\n",
    "print('actual pm2.5 values', pollution_real_test.mean())"
   ]
  },
  {
   "cell_type": "markdown",
   "metadata": {
    "colab_type": "text",
    "id": "xX5heGwJSb4m"
   },
   "source": [
    "### Visualization of the predictions and actual values of PM2.5\n",
    "1. #### using bar chart"
   ]
  },
  {
   "cell_type": "code",
   "execution_count": 177,
   "metadata": {
    "colab": {
     "base_uri": "https://localhost:8080/",
     "height": 638
    },
    "colab_type": "code",
    "id": "e1NQ6pyMSb4m",
    "outputId": "1897373c-c28e-41f5-cc11-c000fbd05aa6"
   },
   "outputs": [
    {
     "data": {
      "image/png": "[encoded data removed]",
      "text/plain": [
       "<Figure size 864x432 with 1 Axes>"
      ]
     },
     "metadata": {
      "needs_background": "light"
     },
     "output_type": "display_data"
    }
   ],
   "source": [
    "fig_deep_lstm_predictions_vs_actual = plt.figure(figsize=(12,6))\n",
    "ax_fig_deep_lstm_predictions_vs_actual = fig_deep_lstm_predictions_vs_actual.add_subplot(111)\n",
    "plt.plot(pollution_real_test, color = 'red', label = 'Real PM2.5 Values')\n",
    "plt.plot(deep_lstm_model_predictions, color = 'blue', label = 'Predictions')\n",
    "plt.title('PM2.5 Values Predictions Vs Real PM2.5 Values ')\n",
    "plt.xlabel('PM2.5 Records')\n",
    "plt.ylabel('PM2.5 Values')\n",
    "plt.legend()\n",
    "\n",
    "fig_deep_lstm_predictions_vs_actual.savefig(os.path.join(filepath, 'deep_lstm_model_prediction_vs_actual.png'))"
   ]
  },
  {
   "cell_type": "markdown",
   "metadata": {
    "colab_type": "text",
    "id": "IgZEA2ZsSb4o"
   },
   "source": [
    "### 2. using line graphs"
   ]
  },
  {
   "cell_type": "code",
   "execution_count": 178,
   "metadata": {
    "colab": {
     "base_uri": "https://localhost:8080/",
     "height": 1164
    },
    "colab_type": "code",
    "id": "eVDzGVwdSb4o",
    "outputId": "611dd298-9007-43e9-e26b-b7538a370edc"
   },
   "outputs": [
    {
     "data": {
      "image/png": "[encoded data removed]",
      "text/plain": [
       "<Figure size 432x288 with 1 Axes>"
      ]
     },
     "metadata": {
      "needs_background": "light"
     },
     "output_type": "display_data"
    }
   ],
   "source": [
    "plt.plot(pollution_real_test, color = 'red', label = 'Real PM2.5 Values')\n",
    "plt.plot(deep_lstm_model_predictions, color = 'blue', label = 'Predicted PM2.5 Values')\n",
    "plt.title('PM2.5 Prediction')\n",
    "plt.xlabel('PM2.5 Records')\n",
    "plt.ylabel('PM2.5')\n",
    "plt.legend()\n",
    "plt.show()"
   ]
  },
  {
   "cell_type": "code",
   "execution_count": 179,
   "metadata": {
    "scrolled": true
   },
   "outputs": [
    {
     "data": {
      "image/png": "[encoded data removed]",
      "text/plain": [
       "<Figure size 576x432 with 1 Axes>"
      ]
     },
     "metadata": {},
     "output_type": "display_data"
    }
   ],
   "source": [
    "sns.set_context('talk')\n",
    "sns.set_style('ticks')\n",
    "sns.set_palette('dark')\n",
    "fig_deep_lstm_predictions_vs_actual_scatter = plt.figure(figsize=(8,6))\n",
    "ax_fig_deep_lstm_predictions_vs_actual_scatter = fig_deep_lstm_predictions_vs_actual_scatter.add_subplot(111)\n",
    "ax = ax_fig_deep_lstm_predictions_vs_actual_scatter\n",
    "# we are going to use y_test, y_test_pred\n",
    "ax.scatter(pollution_real_test, deep_lstm_model_predictions, alpha=.3)\n",
    "\n",
    "ax.set(xlabel='Actual Values', \n",
    "       ylabel='Predictions',\n",
    "       title='PM2.5 Predictions vs Actual Values');\n",
    "\n",
    "fig_deep_lstm_predictions_vs_actual_scatter.savefig(os.path.join(filepath, 'deep_lstm_model_predictions_vs_actual_values_scatter.png'))"
   ]
  },
  {
   "cell_type": "markdown",
   "metadata": {},
   "source": [
    "### saving results to file"
   ]
  },
  {
   "cell_type": "code",
   "execution_count": 180,
   "metadata": {},
   "outputs": [],
   "source": [
    "with open(os.path.join(filepath, \"results_summary.txt\"), \"w+\") as text_file:\n",
    "        print(\"SVR RMSE : {}\\n SVR MAE : {} \\n Basic LSTM: {} \\n Deep LSTM : {}, \\n metrics {}\"\n",
    "              .format(svr_rmse.round(2),svr_mae.round(2), basic_lstm_model_evaluation, deep_lstm_model_evaluation, model.metrics_names ), file=text_file)"
   ]
  },
  {
   "cell_type": "code",
   "execution_count": null,
   "metadata": {},
   "outputs": [],
   "source": []
  }
 ],
 "metadata": {
  "accelerator": "GPU",
  "colab": {
   "name": "air_quality_prediction_data_preprocesing_13_April_2019.ipynb",
   "provenance": [],
   "version": "0.3.2"
  },
  "kernelspec": {
   "display_name": "Python 3",
   "language": "python",
   "name": "python3"
  },
  "language_info": {
   "codemirror_mode": {
    "name": "ipython",
    "version": 3
   },
   "file_extension": ".py",
   "mimetype": "text/x-python",
   "name": "python",
   "nbconvert_exporter": "python",
   "pygments_lexer": "ipython3",
   "version": "3.6.6"
  }
 },
 "nbformat": 4,
 "nbformat_minor": 1
}
