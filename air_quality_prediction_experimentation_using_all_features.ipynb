{
 "cells": [
  {
   "cell_type": "code",
   "execution_count": 252,
   "metadata": {
    "colab": {},
    "colab_type": "code",
    "id": "L3-ikINq_CDz"
   },
   "outputs": [],
   "source": [
    "import pandas as pd\n",
    "import numpy as np\n",
    "import seaborn as sns\n",
    "import matplotlib.pyplot as plt \n",
    "%matplotlib inline\n",
    "from sklearn import preprocessing\n",
    "from sklearn.preprocessing import MinMaxScaler\n",
    "from sklearn.metrics import mean_squared_error, mean_absolute_error\n",
    "import os\n",
    "import datetime\n",
    "import math\n"
   ]
  },
  {
   "cell_type": "raw",
   "metadata": {
    "colab": {
     "base_uri": "https://localhost:8080/",
     "height": 125
    },
    "colab_type": "code",
    "id": "YgmwH-BI_txh",
    "outputId": "dd59d1ca-f56f-405b-ae1b-f867bef2c512"
   },
   "source": [
    "from google.colab import drive\n",
    "drive.mount('/content/drive')"
   ]
  },
  {
   "cell_type": "code",
   "execution_count": 253,
   "metadata": {
    "colab": {},
    "colab_type": "code",
    "id": "InRp4djsBMwh"
   },
   "outputs": [],
   "source": [
    "#!ls \"/content/drive/My Drive/Uni/Msc Comp Science/Year Two/Research/data\""
   ]
  },
  {
   "cell_type": "code",
   "execution_count": 254,
   "metadata": {
    "colab": {},
    "colab_type": "code",
    "id": "geukmPjkSbyn"
   },
   "outputs": [],
   "source": [
    "def show_dataframe_info(df):\n",
    "    print(df.shape)\n",
    "    print(list(df.columns.values))\n",
    "    print('\\n dataframe info: \\n', df.info())\n",
    "    print('\\n dataframe column datatypes:\\n', df.dtypes)\n",
    "    \n",
    "def calculate_rmse(actual_values,predictions):\n",
    "    mse= mean_squared_error(actual_values, predictions)\n",
    "    rmse = np.sqrt(mse)\n",
    "    return rmse"
   ]
  },
  {
   "cell_type": "code",
   "execution_count": 255,
   "metadata": {
    "colab": {
     "base_uri": "https://localhost:8080/",
     "height": 478
    },
    "colab_type": "code",
    "id": "SYFacJONAbXp",
    "outputId": "09eebaf5-610a-4c66-c4a1-cfa929ec9b46"
   },
   "outputs": [
    {
     "data": {
      "text/html": [
       "<div>\n",
       "<style scoped>\n",
       "    .dataframe tbody tr th:only-of-type {\n",
       "        vertical-align: middle;\n",
       "    }\n",
       "\n",
       "    .dataframe tbody tr th {\n",
       "        vertical-align: top;\n",
       "    }\n",
       "\n",
       "    .dataframe thead th {\n",
       "        text-align: right;\n",
       "    }\n",
       "</style>\n",
       "<table border=\"1\" class=\"dataframe\">\n",
       "  <thead>\n",
       "    <tr style=\"text-align: right;\">\n",
       "      <th></th>\n",
       "      <th>TimeStamp</th>\n",
       "      <th>PM2.5(Ug/m3)</th>\n",
       "      <th>hour</th>\n",
       "      <th>EVI</th>\n",
       "      <th>NDVI</th>\n",
       "      <th>humidity (%)</th>\n",
       "      <th>precipitation (mm)</th>\n",
       "      <th>pressure (kPa)</th>\n",
       "      <th>radiation (W/m2)</th>\n",
       "      <th>temperature (oC)</th>\n",
       "      <th>windspeed (m/s)</th>\n",
       "      <th>winddirection_E</th>\n",
       "      <th>winddirection_N</th>\n",
       "      <th>winddirection_NE</th>\n",
       "      <th>winddirection_NW</th>\n",
       "      <th>winddirection_S</th>\n",
       "      <th>winddirection_SE</th>\n",
       "      <th>winddirection_SW</th>\n",
       "      <th>winddirection_W</th>\n",
       "    </tr>\n",
       "  </thead>\n",
       "  <tbody>\n",
       "    <tr>\n",
       "      <th>0</th>\n",
       "      <td>2017-09-09 18:00:00</td>\n",
       "      <td>48.0</td>\n",
       "      <td>18</td>\n",
       "      <td>0.2018</td>\n",
       "      <td>0.3719</td>\n",
       "      <td>73</td>\n",
       "      <td>0.0</td>\n",
       "      <td>87.50</td>\n",
       "      <td>0.9</td>\n",
       "      <td>23.27</td>\n",
       "      <td>0.44</td>\n",
       "      <td>0</td>\n",
       "      <td>0</td>\n",
       "      <td>0</td>\n",
       "      <td>0</td>\n",
       "      <td>0</td>\n",
       "      <td>1</td>\n",
       "      <td>0</td>\n",
       "      <td>0</td>\n",
       "    </tr>\n",
       "    <tr>\n",
       "      <th>1</th>\n",
       "      <td>2017-09-09 19:00:00</td>\n",
       "      <td>46.0</td>\n",
       "      <td>19</td>\n",
       "      <td>0.2018</td>\n",
       "      <td>0.3719</td>\n",
       "      <td>77</td>\n",
       "      <td>0.0</td>\n",
       "      <td>87.58</td>\n",
       "      <td>0.0</td>\n",
       "      <td>22.72</td>\n",
       "      <td>0.38</td>\n",
       "      <td>0</td>\n",
       "      <td>0</td>\n",
       "      <td>1</td>\n",
       "      <td>0</td>\n",
       "      <td>0</td>\n",
       "      <td>0</td>\n",
       "      <td>0</td>\n",
       "      <td>0</td>\n",
       "    </tr>\n",
       "    <tr>\n",
       "      <th>2</th>\n",
       "      <td>2017-09-09 20:00:00</td>\n",
       "      <td>69.0</td>\n",
       "      <td>20</td>\n",
       "      <td>0.2018</td>\n",
       "      <td>0.3719</td>\n",
       "      <td>80</td>\n",
       "      <td>0.0</td>\n",
       "      <td>87.67</td>\n",
       "      <td>0.0</td>\n",
       "      <td>22.29</td>\n",
       "      <td>0.37</td>\n",
       "      <td>0</td>\n",
       "      <td>0</td>\n",
       "      <td>0</td>\n",
       "      <td>0</td>\n",
       "      <td>0</td>\n",
       "      <td>1</td>\n",
       "      <td>0</td>\n",
       "      <td>0</td>\n",
       "    </tr>\n",
       "    <tr>\n",
       "      <th>3</th>\n",
       "      <td>2017-09-09 21:00:00</td>\n",
       "      <td>84.0</td>\n",
       "      <td>21</td>\n",
       "      <td>0.2018</td>\n",
       "      <td>0.3719</td>\n",
       "      <td>82</td>\n",
       "      <td>0.0</td>\n",
       "      <td>87.66</td>\n",
       "      <td>0.0</td>\n",
       "      <td>21.71</td>\n",
       "      <td>0.34</td>\n",
       "      <td>0</td>\n",
       "      <td>1</td>\n",
       "      <td>0</td>\n",
       "      <td>0</td>\n",
       "      <td>0</td>\n",
       "      <td>0</td>\n",
       "      <td>0</td>\n",
       "      <td>0</td>\n",
       "    </tr>\n",
       "    <tr>\n",
       "      <th>4</th>\n",
       "      <td>2017-09-09 22:00:00</td>\n",
       "      <td>83.0</td>\n",
       "      <td>22</td>\n",
       "      <td>0.2018</td>\n",
       "      <td>0.3719</td>\n",
       "      <td>87</td>\n",
       "      <td>0.0</td>\n",
       "      <td>87.68</td>\n",
       "      <td>0.0</td>\n",
       "      <td>20.86</td>\n",
       "      <td>0.29</td>\n",
       "      <td>0</td>\n",
       "      <td>0</td>\n",
       "      <td>1</td>\n",
       "      <td>0</td>\n",
       "      <td>0</td>\n",
       "      <td>0</td>\n",
       "      <td>0</td>\n",
       "      <td>0</td>\n",
       "    </tr>\n",
       "    <tr>\n",
       "      <th>5</th>\n",
       "      <td>2017-09-09 23:00:00</td>\n",
       "      <td>138.0</td>\n",
       "      <td>23</td>\n",
       "      <td>0.2018</td>\n",
       "      <td>0.3719</td>\n",
       "      <td>90</td>\n",
       "      <td>0.0</td>\n",
       "      <td>87.77</td>\n",
       "      <td>0.0</td>\n",
       "      <td>20.30</td>\n",
       "      <td>0.46</td>\n",
       "      <td>0</td>\n",
       "      <td>0</td>\n",
       "      <td>0</td>\n",
       "      <td>0</td>\n",
       "      <td>0</td>\n",
       "      <td>1</td>\n",
       "      <td>0</td>\n",
       "      <td>0</td>\n",
       "    </tr>\n",
       "    <tr>\n",
       "      <th>6</th>\n",
       "      <td>2017-09-10 00:00:00</td>\n",
       "      <td>126.0</td>\n",
       "      <td>0</td>\n",
       "      <td>0.2018</td>\n",
       "      <td>0.3719</td>\n",
       "      <td>91</td>\n",
       "      <td>0.0</td>\n",
       "      <td>87.74</td>\n",
       "      <td>0.0</td>\n",
       "      <td>20.30</td>\n",
       "      <td>0.59</td>\n",
       "      <td>0</td>\n",
       "      <td>0</td>\n",
       "      <td>0</td>\n",
       "      <td>0</td>\n",
       "      <td>0</td>\n",
       "      <td>1</td>\n",
       "      <td>0</td>\n",
       "      <td>0</td>\n",
       "    </tr>\n",
       "    <tr>\n",
       "      <th>7</th>\n",
       "      <td>2017-09-10 01:00:00</td>\n",
       "      <td>63.0</td>\n",
       "      <td>1</td>\n",
       "      <td>0.2018</td>\n",
       "      <td>0.3719</td>\n",
       "      <td>91</td>\n",
       "      <td>0.0</td>\n",
       "      <td>87.67</td>\n",
       "      <td>0.0</td>\n",
       "      <td>20.14</td>\n",
       "      <td>0.99</td>\n",
       "      <td>0</td>\n",
       "      <td>0</td>\n",
       "      <td>0</td>\n",
       "      <td>0</td>\n",
       "      <td>0</td>\n",
       "      <td>1</td>\n",
       "      <td>0</td>\n",
       "      <td>0</td>\n",
       "    </tr>\n",
       "    <tr>\n",
       "      <th>8</th>\n",
       "      <td>2017-09-10 02:00:00</td>\n",
       "      <td>53.0</td>\n",
       "      <td>2</td>\n",
       "      <td>0.2018</td>\n",
       "      <td>0.3719</td>\n",
       "      <td>89</td>\n",
       "      <td>0.0</td>\n",
       "      <td>87.63</td>\n",
       "      <td>0.0</td>\n",
       "      <td>20.15</td>\n",
       "      <td>1.19</td>\n",
       "      <td>0</td>\n",
       "      <td>0</td>\n",
       "      <td>0</td>\n",
       "      <td>0</td>\n",
       "      <td>0</td>\n",
       "      <td>1</td>\n",
       "      <td>0</td>\n",
       "      <td>0</td>\n",
       "    </tr>\n",
       "    <tr>\n",
       "      <th>9</th>\n",
       "      <td>2017-09-10 03:00:00</td>\n",
       "      <td>48.0</td>\n",
       "      <td>3</td>\n",
       "      <td>0.2018</td>\n",
       "      <td>0.3719</td>\n",
       "      <td>89</td>\n",
       "      <td>0.0</td>\n",
       "      <td>87.59</td>\n",
       "      <td>0.0</td>\n",
       "      <td>19.78</td>\n",
       "      <td>0.69</td>\n",
       "      <td>1</td>\n",
       "      <td>0</td>\n",
       "      <td>0</td>\n",
       "      <td>0</td>\n",
       "      <td>0</td>\n",
       "      <td>0</td>\n",
       "      <td>0</td>\n",
       "      <td>0</td>\n",
       "    </tr>\n",
       "  </tbody>\n",
       "</table>\n",
       "</div>"
      ],
      "text/plain": [
       "             TimeStamp  PM2.5(Ug/m3)  hour     EVI    NDVI  humidity (%)  \\\n",
       "0  2017-09-09 18:00:00          48.0    18  0.2018  0.3719            73   \n",
       "1  2017-09-09 19:00:00          46.0    19  0.2018  0.3719            77   \n",
       "2  2017-09-09 20:00:00          69.0    20  0.2018  0.3719            80   \n",
       "3  2017-09-09 21:00:00          84.0    21  0.2018  0.3719            82   \n",
       "4  2017-09-09 22:00:00          83.0    22  0.2018  0.3719            87   \n",
       "5  2017-09-09 23:00:00         138.0    23  0.2018  0.3719            90   \n",
       "6  2017-09-10 00:00:00         126.0     0  0.2018  0.3719            91   \n",
       "7  2017-09-10 01:00:00          63.0     1  0.2018  0.3719            91   \n",
       "8  2017-09-10 02:00:00          53.0     2  0.2018  0.3719            89   \n",
       "9  2017-09-10 03:00:00          48.0     3  0.2018  0.3719            89   \n",
       "\n",
       "   precipitation (mm)  pressure (kPa)  radiation (W/m2)  temperature (oC)  \\\n",
       "0                 0.0           87.50               0.9             23.27   \n",
       "1                 0.0           87.58               0.0             22.72   \n",
       "2                 0.0           87.67               0.0             22.29   \n",
       "3                 0.0           87.66               0.0             21.71   \n",
       "4                 0.0           87.68               0.0             20.86   \n",
       "5                 0.0           87.77               0.0             20.30   \n",
       "6                 0.0           87.74               0.0             20.30   \n",
       "7                 0.0           87.67               0.0             20.14   \n",
       "8                 0.0           87.63               0.0             20.15   \n",
       "9                 0.0           87.59               0.0             19.78   \n",
       "\n",
       "   windspeed (m/s)  winddirection_E  winddirection_N  winddirection_NE  \\\n",
       "0             0.44                0                0                 0   \n",
       "1             0.38                0                0                 1   \n",
       "2             0.37                0                0                 0   \n",
       "3             0.34                0                1                 0   \n",
       "4             0.29                0                0                 1   \n",
       "5             0.46                0                0                 0   \n",
       "6             0.59                0                0                 0   \n",
       "7             0.99                0                0                 0   \n",
       "8             1.19                0                0                 0   \n",
       "9             0.69                1                0                 0   \n",
       "\n",
       "   winddirection_NW  winddirection_S  winddirection_SE  winddirection_SW  \\\n",
       "0                 0                0                 1                 0   \n",
       "1                 0                0                 0                 0   \n",
       "2                 0                0                 1                 0   \n",
       "3                 0                0                 0                 0   \n",
       "4                 0                0                 0                 0   \n",
       "5                 0                0                 1                 0   \n",
       "6                 0                0                 1                 0   \n",
       "7                 0                0                 1                 0   \n",
       "8                 0                0                 1                 0   \n",
       "9                 0                0                 0                 0   \n",
       "\n",
       "   winddirection_W  \n",
       "0                0  \n",
       "1                0  \n",
       "2                0  \n",
       "3                0  \n",
       "4                0  \n",
       "5                0  \n",
       "6                0  \n",
       "7                0  \n",
       "8                0  \n",
       "9                0  "
      ]
     },
     "execution_count": 255,
     "metadata": {},
     "output_type": "execute_result"
    }
   ],
   "source": [
    "#airquality_data = pd.read_csv('/content/drive/My Drive/Uni/Msc Comp Science/Year Two/Research/experiments/data/AirQuality/AirQo/Bugolobi(ambrosoli)/bugolobi.csv')\n",
    "\n",
    "root_data_dir = 'data'\n",
    "base_dir ='data\\AirQuality\\AirQo'\n",
    "\n",
    "#airquality_data = pd.read_csv(os.path.join(base_dir,'Makerere','merged_hourly_airquality_greenness_meteorological_dataset.csv'))\n",
    "#filepath= os.path.join(base_dir,'Makerere','all_features')\n",
    "#filepath= os.path.join(base_dir,'Makerere','all_features' ,'100-lstm-units')\n",
    "#sensor_type = 0\n",
    "\n",
    "#airquality_data = pd.read_csv(os.path.join(base_dir,'Bugolobi(ambrosoli)','merged_hourly_airquality_greenness_meteorological_dataset.csv'))\n",
    "#filepath= os.path.join(base_dir,'Bugolobi(ambrosoli)','all_features')\n",
    "#filepath= os.path.join(base_dir,'Bugolobi(ambrosoli)','all_features','100-lstm-units')\n",
    "#sensor_type = 0\n",
    "\n",
    "#airquality_data = pd.read_csv(os.path.join(base_dir,'Mulago','merged_hourly_airquality_greenness_meteorological_dataset.csv'))\n",
    "#filepath= os.path.join(base_dir,'Mulago','all_features')\n",
    "#filepath= os.path.join(base_dir,'Mulago','all_features','100-lstm-units')\n",
    "#sensor_type = 0\n",
    "\n",
    "#airquality_data = pd.read_csv(os.path.join(base_dir,'Makindye','merged_hourly_airquality_greenness_meteorological_dataset.csv'))\n",
    "#filepath= os.path.join(base_dir,'Makindye','all_features')\n",
    "#filepath= os.path.join(base_dir,'Makindye','all_features','100-lstm-units')\n",
    "#sensor_type = 0\n",
    "\n",
    "#airquality_data = pd.read_csv(os.path.join(base_dir,'Bukoto(kisu)','merged_hourly_airquality_greenness_meteorological_dataset.csv'))\n",
    "#filepath= os.path.join(base_dir,'Bukoto(kisu)','all_features')\n",
    "#filepath= os.path.join(base_dir,'Bukoto(kisu)','all_features','100-lstm-units')\n",
    "#sensor_type = 0\n",
    "\n",
    "#airquality_data = pd.read_csv(os.path.join(base_dir,'Lubowa','merged_hourly_airquality_greenness_meteorological_dataset.csv'))\n",
    "#filepath= os.path.join(base_dir,'Lubowa','all_features')\n",
    "#filepath= os.path.join(base_dir,'Lubowa','all_features','100-lstm-units')\n",
    "#sensor_type = 0\n",
    "\n",
    "#airquality_data = pd.read_csv(os.path.join(base_dir,'Jinja_Road(NEMAHOUSE)','merged_hourly_airquality_greenness_meteorological_dataset.csv '))\n",
    "#filepath= os.path.join(base_dir,'Jinja_Road(NEMAHOUSE)','all_features')\n",
    "#filepath= os.path.join(base_dir,'Jinja_Road(NEMAHOUSE)','all_features','100-lstm-units')\n",
    "#sensor_type = 1\n",
    "\n",
    "#airquality_data = pd.read_csv(os.path.join(base_dir,'Rubaga_Kabusu','merged_hourly_airquality_greenness_meteorological_dataset.csv'))\n",
    "#filepath= os.path.join(base_dir,'Rubaga_Kabusu','all_features')\n",
    "#filepath= os.path.join(base_dir,'Rubaga_Kabusu','all_features','100-lstm-units')\n",
    "#sensor_type = 1\n",
    "\n",
    "#airquality_data = pd.read_csv(os.path.join(base_dir,'Kireka','merged_hourly_airquality_greenness_meteorological_dataset.csv'))\n",
    "#filepath= os.path.join(base_dir,'Kireka','all_features')\n",
    "#filepath= os.path.join(base_dir,'Kireka','all_features','100-lstm-units')\n",
    "#sensor_type = 1\n",
    "\n",
    "airquality_data = pd.read_csv(os.path.join(base_dir, 'Nsambya(American_Embassy)','merged_hourly_airquality_greenness_meteorological_dataset.csv '))\n",
    "#filepath= os.path.join(base_dir,'Nsambya(American_Embassy)','all_features')\n",
    "filepath= os.path.join(base_dir,'Nsambya(American_Embassy)','all_features','100-lstm-units')\n",
    "sensor_type = 2\n",
    "\n",
    "airquality_data.head(10)"
   ]
  },
  {
   "cell_type": "code",
   "execution_count": 256,
   "metadata": {
    "colab": {},
    "colab_type": "code",
    "id": "ftQn1R_02W9o"
   },
   "outputs": [],
   "source": [
    "airquality_data_copy = airquality_data.copy()\n",
    "airquality_data[\"TimeStamp\"] = pd.to_datetime(airquality_data[\"TimeStamp\"])\n",
    "airquality_data = airquality_data.set_index('TimeStamp')"
   ]
  },
  {
   "cell_type": "raw",
   "metadata": {
    "colab": {},
    "colab_type": "code",
    "id": "Rl-Q0Swy2W9t"
   },
   "source": [
    "if sensor_type == 0:\n",
    "    airquality_data_for_selected_features = airquality_data.drop(['hour', 'EVI', 'NDVI',\n",
    "       'humidity (%)', 'precipitation (mm)', 'pressure (kPa)',\n",
    "       'radiation (W/m2)', 'windspeed (m/s)',\n",
    "       'winddirection_E', 'winddirection_N', 'winddirection_NE',\n",
    "       'winddirection_NW', 'winddirection_S', 'winddirection_SE',\n",
    "       'winddirection_SW', 'winddirection_W','temperature (oC)','PM1(Ug/m3)','PM10(Ug/m3)'], axis=1)\n",
    "    \n",
    "elif sensor_type == 1:\n",
    "    airquality_data_for_selected_features = airquality_data.drop(['hour', 'EVI', 'NDVI',\n",
    "       'humidity (%)', 'precipitation (mm)', 'pressure (kPa)',\n",
    "       'radiation (W/m2)', 'windspeed (m/s)',\n",
    "       'winddirection_E', 'winddirection_N', 'winddirection_NE',\n",
    "       'winddirection_NW', 'winddirection_S', 'winddirection_SE',\n",
    "       'winddirection_SW', 'winddirection_W','temperature (oC)','PM10(Ug/m3)'], axis=1)\n",
    "    \n",
    "elif sensor_type == 2:\n",
    "    airquality_data_for_selected_features = airquality_data.drop(['hour', 'EVI', 'NDVI',\n",
    "       'humidity (%)', 'precipitation (mm)', 'pressure (kPa)',\n",
    "       'radiation (W/m2)', 'windspeed (m/s)',\n",
    "       'winddirection_E', 'winddirection_N', 'winddirection_NE',\n",
    "       'winddirection_NW', 'winddirection_S', 'winddirection_SE',\n",
    "       'winddirection_SW', 'winddirection_W','temperature (oC)'], axis=1)\n",
    "    \n",
    "#temperature"
   ]
  },
  {
   "cell_type": "markdown",
   "metadata": {},
   "source": [
    "### considering  all features"
   ]
  },
  {
   "cell_type": "code",
   "execution_count": 257,
   "metadata": {},
   "outputs": [],
   "source": [
    " airquality_data_for_selected_features = airquality_data"
   ]
  },
  {
   "cell_type": "code",
   "execution_count": 258,
   "metadata": {
    "colab": {},
    "colab_type": "code",
    "id": "nCH7dg6uSby0"
   },
   "outputs": [
    {
     "data": {
      "text/html": [
       "<div>\n",
       "<style scoped>\n",
       "    .dataframe tbody tr th:only-of-type {\n",
       "        vertical-align: middle;\n",
       "    }\n",
       "\n",
       "    .dataframe tbody tr th {\n",
       "        vertical-align: top;\n",
       "    }\n",
       "\n",
       "    .dataframe thead th {\n",
       "        text-align: right;\n",
       "    }\n",
       "</style>\n",
       "<table border=\"1\" class=\"dataframe\">\n",
       "  <thead>\n",
       "    <tr style=\"text-align: right;\">\n",
       "      <th></th>\n",
       "      <th>PM2.5(Ug/m3)</th>\n",
       "      <th>hour</th>\n",
       "      <th>EVI</th>\n",
       "      <th>NDVI</th>\n",
       "      <th>humidity (%)</th>\n",
       "      <th>precipitation (mm)</th>\n",
       "      <th>pressure (kPa)</th>\n",
       "      <th>radiation (W/m2)</th>\n",
       "      <th>temperature (oC)</th>\n",
       "      <th>windspeed (m/s)</th>\n",
       "      <th>winddirection_E</th>\n",
       "      <th>winddirection_N</th>\n",
       "      <th>winddirection_NE</th>\n",
       "      <th>winddirection_NW</th>\n",
       "      <th>winddirection_S</th>\n",
       "      <th>winddirection_SE</th>\n",
       "      <th>winddirection_SW</th>\n",
       "      <th>winddirection_W</th>\n",
       "    </tr>\n",
       "    <tr>\n",
       "      <th>TimeStamp</th>\n",
       "      <th></th>\n",
       "      <th></th>\n",
       "      <th></th>\n",
       "      <th></th>\n",
       "      <th></th>\n",
       "      <th></th>\n",
       "      <th></th>\n",
       "      <th></th>\n",
       "      <th></th>\n",
       "      <th></th>\n",
       "      <th></th>\n",
       "      <th></th>\n",
       "      <th></th>\n",
       "      <th></th>\n",
       "      <th></th>\n",
       "      <th></th>\n",
       "      <th></th>\n",
       "      <th></th>\n",
       "    </tr>\n",
       "  </thead>\n",
       "  <tbody>\n",
       "    <tr>\n",
       "      <th>2017-09-09 18:00:00</th>\n",
       "      <td>48.0</td>\n",
       "      <td>18</td>\n",
       "      <td>0.2018</td>\n",
       "      <td>0.3719</td>\n",
       "      <td>73</td>\n",
       "      <td>0.0</td>\n",
       "      <td>87.50</td>\n",
       "      <td>0.9</td>\n",
       "      <td>23.27</td>\n",
       "      <td>0.44</td>\n",
       "      <td>0</td>\n",
       "      <td>0</td>\n",
       "      <td>0</td>\n",
       "      <td>0</td>\n",
       "      <td>0</td>\n",
       "      <td>1</td>\n",
       "      <td>0</td>\n",
       "      <td>0</td>\n",
       "    </tr>\n",
       "    <tr>\n",
       "      <th>2017-09-09 19:00:00</th>\n",
       "      <td>46.0</td>\n",
       "      <td>19</td>\n",
       "      <td>0.2018</td>\n",
       "      <td>0.3719</td>\n",
       "      <td>77</td>\n",
       "      <td>0.0</td>\n",
       "      <td>87.58</td>\n",
       "      <td>0.0</td>\n",
       "      <td>22.72</td>\n",
       "      <td>0.38</td>\n",
       "      <td>0</td>\n",
       "      <td>0</td>\n",
       "      <td>1</td>\n",
       "      <td>0</td>\n",
       "      <td>0</td>\n",
       "      <td>0</td>\n",
       "      <td>0</td>\n",
       "      <td>0</td>\n",
       "    </tr>\n",
       "    <tr>\n",
       "      <th>2017-09-09 20:00:00</th>\n",
       "      <td>69.0</td>\n",
       "      <td>20</td>\n",
       "      <td>0.2018</td>\n",
       "      <td>0.3719</td>\n",
       "      <td>80</td>\n",
       "      <td>0.0</td>\n",
       "      <td>87.67</td>\n",
       "      <td>0.0</td>\n",
       "      <td>22.29</td>\n",
       "      <td>0.37</td>\n",
       "      <td>0</td>\n",
       "      <td>0</td>\n",
       "      <td>0</td>\n",
       "      <td>0</td>\n",
       "      <td>0</td>\n",
       "      <td>1</td>\n",
       "      <td>0</td>\n",
       "      <td>0</td>\n",
       "    </tr>\n",
       "    <tr>\n",
       "      <th>2017-09-09 21:00:00</th>\n",
       "      <td>84.0</td>\n",
       "      <td>21</td>\n",
       "      <td>0.2018</td>\n",
       "      <td>0.3719</td>\n",
       "      <td>82</td>\n",
       "      <td>0.0</td>\n",
       "      <td>87.66</td>\n",
       "      <td>0.0</td>\n",
       "      <td>21.71</td>\n",
       "      <td>0.34</td>\n",
       "      <td>0</td>\n",
       "      <td>1</td>\n",
       "      <td>0</td>\n",
       "      <td>0</td>\n",
       "      <td>0</td>\n",
       "      <td>0</td>\n",
       "      <td>0</td>\n",
       "      <td>0</td>\n",
       "    </tr>\n",
       "    <tr>\n",
       "      <th>2017-09-09 22:00:00</th>\n",
       "      <td>83.0</td>\n",
       "      <td>22</td>\n",
       "      <td>0.2018</td>\n",
       "      <td>0.3719</td>\n",
       "      <td>87</td>\n",
       "      <td>0.0</td>\n",
       "      <td>87.68</td>\n",
       "      <td>0.0</td>\n",
       "      <td>20.86</td>\n",
       "      <td>0.29</td>\n",
       "      <td>0</td>\n",
       "      <td>0</td>\n",
       "      <td>1</td>\n",
       "      <td>0</td>\n",
       "      <td>0</td>\n",
       "      <td>0</td>\n",
       "      <td>0</td>\n",
       "      <td>0</td>\n",
       "    </tr>\n",
       "  </tbody>\n",
       "</table>\n",
       "</div>"
      ],
      "text/plain": [
       "                     PM2.5(Ug/m3)  hour     EVI    NDVI  humidity (%)  \\\n",
       "TimeStamp                                                               \n",
       "2017-09-09 18:00:00          48.0    18  0.2018  0.3719            73   \n",
       "2017-09-09 19:00:00          46.0    19  0.2018  0.3719            77   \n",
       "2017-09-09 20:00:00          69.0    20  0.2018  0.3719            80   \n",
       "2017-09-09 21:00:00          84.0    21  0.2018  0.3719            82   \n",
       "2017-09-09 22:00:00          83.0    22  0.2018  0.3719            87   \n",
       "\n",
       "                     precipitation (mm)  pressure (kPa)  radiation (W/m2)  \\\n",
       "TimeStamp                                                                   \n",
       "2017-09-09 18:00:00                 0.0           87.50               0.9   \n",
       "2017-09-09 19:00:00                 0.0           87.58               0.0   \n",
       "2017-09-09 20:00:00                 0.0           87.67               0.0   \n",
       "2017-09-09 21:00:00                 0.0           87.66               0.0   \n",
       "2017-09-09 22:00:00                 0.0           87.68               0.0   \n",
       "\n",
       "                     temperature (oC)  windspeed (m/s)  winddirection_E  \\\n",
       "TimeStamp                                                                 \n",
       "2017-09-09 18:00:00             23.27             0.44                0   \n",
       "2017-09-09 19:00:00             22.72             0.38                0   \n",
       "2017-09-09 20:00:00             22.29             0.37                0   \n",
       "2017-09-09 21:00:00             21.71             0.34                0   \n",
       "2017-09-09 22:00:00             20.86             0.29                0   \n",
       "\n",
       "                     winddirection_N  winddirection_NE  winddirection_NW  \\\n",
       "TimeStamp                                                                  \n",
       "2017-09-09 18:00:00                0                 0                 0   \n",
       "2017-09-09 19:00:00                0                 1                 0   \n",
       "2017-09-09 20:00:00                0                 0                 0   \n",
       "2017-09-09 21:00:00                1                 0                 0   \n",
       "2017-09-09 22:00:00                0                 1                 0   \n",
       "\n",
       "                     winddirection_S  winddirection_SE  winddirection_SW  \\\n",
       "TimeStamp                                                                  \n",
       "2017-09-09 18:00:00                0                 1                 0   \n",
       "2017-09-09 19:00:00                0                 0                 0   \n",
       "2017-09-09 20:00:00                0                 1                 0   \n",
       "2017-09-09 21:00:00                0                 0                 0   \n",
       "2017-09-09 22:00:00                0                 0                 0   \n",
       "\n",
       "                     winddirection_W  \n",
       "TimeStamp                             \n",
       "2017-09-09 18:00:00                0  \n",
       "2017-09-09 19:00:00                0  \n",
       "2017-09-09 20:00:00                0  \n",
       "2017-09-09 21:00:00                0  \n",
       "2017-09-09 22:00:00                0  "
      ]
     },
     "execution_count": 258,
     "metadata": {},
     "output_type": "execute_result"
    }
   ],
   "source": [
    "airquality_data_for_selected_features.head()"
   ]
  },
  {
   "cell_type": "code",
   "execution_count": 259,
   "metadata": {
    "colab": {},
    "colab_type": "code",
    "id": "Ho2ych4lB3cA"
   },
   "outputs": [
    {
     "data": {
      "text/html": [
       "<div>\n",
       "<style scoped>\n",
       "    .dataframe tbody tr th:only-of-type {\n",
       "        vertical-align: middle;\n",
       "    }\n",
       "\n",
       "    .dataframe tbody tr th {\n",
       "        vertical-align: top;\n",
       "    }\n",
       "\n",
       "    .dataframe thead th {\n",
       "        text-align: right;\n",
       "    }\n",
       "</style>\n",
       "<table border=\"1\" class=\"dataframe\">\n",
       "  <thead>\n",
       "    <tr style=\"text-align: right;\">\n",
       "      <th></th>\n",
       "      <th>PM2.5(Ug/m3)</th>\n",
       "      <th>hour</th>\n",
       "      <th>EVI</th>\n",
       "      <th>NDVI</th>\n",
       "      <th>humidity (%)</th>\n",
       "      <th>precipitation (mm)</th>\n",
       "      <th>pressure (kPa)</th>\n",
       "      <th>radiation (W/m2)</th>\n",
       "      <th>temperature (oC)</th>\n",
       "      <th>windspeed (m/s)</th>\n",
       "      <th>winddirection_E</th>\n",
       "      <th>winddirection_N</th>\n",
       "      <th>winddirection_NE</th>\n",
       "      <th>winddirection_NW</th>\n",
       "      <th>winddirection_S</th>\n",
       "      <th>winddirection_SE</th>\n",
       "      <th>winddirection_SW</th>\n",
       "      <th>winddirection_W</th>\n",
       "    </tr>\n",
       "    <tr>\n",
       "      <th>TimeStamp</th>\n",
       "      <th></th>\n",
       "      <th></th>\n",
       "      <th></th>\n",
       "      <th></th>\n",
       "      <th></th>\n",
       "      <th></th>\n",
       "      <th></th>\n",
       "      <th></th>\n",
       "      <th></th>\n",
       "      <th></th>\n",
       "      <th></th>\n",
       "      <th></th>\n",
       "      <th></th>\n",
       "      <th></th>\n",
       "      <th></th>\n",
       "      <th></th>\n",
       "      <th></th>\n",
       "      <th></th>\n",
       "    </tr>\n",
       "  </thead>\n",
       "  <tbody>\n",
       "    <tr>\n",
       "      <th>2018-09-30 20:00:00</th>\n",
       "      <td>60.0</td>\n",
       "      <td>20</td>\n",
       "      <td>0.2152</td>\n",
       "      <td>0.3723</td>\n",
       "      <td>81</td>\n",
       "      <td>0.0</td>\n",
       "      <td>87.57</td>\n",
       "      <td>0.0</td>\n",
       "      <td>21.37</td>\n",
       "      <td>0.54</td>\n",
       "      <td>0</td>\n",
       "      <td>0</td>\n",
       "      <td>1</td>\n",
       "      <td>0</td>\n",
       "      <td>0</td>\n",
       "      <td>0</td>\n",
       "      <td>0</td>\n",
       "      <td>0</td>\n",
       "    </tr>\n",
       "    <tr>\n",
       "      <th>2018-09-30 21:00:00</th>\n",
       "      <td>86.0</td>\n",
       "      <td>21</td>\n",
       "      <td>0.2152</td>\n",
       "      <td>0.3723</td>\n",
       "      <td>82</td>\n",
       "      <td>0.0</td>\n",
       "      <td>87.61</td>\n",
       "      <td>0.0</td>\n",
       "      <td>21.12</td>\n",
       "      <td>0.64</td>\n",
       "      <td>1</td>\n",
       "      <td>0</td>\n",
       "      <td>0</td>\n",
       "      <td>0</td>\n",
       "      <td>0</td>\n",
       "      <td>0</td>\n",
       "      <td>0</td>\n",
       "      <td>0</td>\n",
       "    </tr>\n",
       "    <tr>\n",
       "      <th>2018-09-30 22:00:00</th>\n",
       "      <td>99.0</td>\n",
       "      <td>22</td>\n",
       "      <td>0.2152</td>\n",
       "      <td>0.3723</td>\n",
       "      <td>83</td>\n",
       "      <td>0.0</td>\n",
       "      <td>87.62</td>\n",
       "      <td>0.0</td>\n",
       "      <td>20.94</td>\n",
       "      <td>1.06</td>\n",
       "      <td>0</td>\n",
       "      <td>0</td>\n",
       "      <td>1</td>\n",
       "      <td>0</td>\n",
       "      <td>0</td>\n",
       "      <td>0</td>\n",
       "      <td>0</td>\n",
       "      <td>0</td>\n",
       "    </tr>\n",
       "    <tr>\n",
       "      <th>2018-09-30 23:00:00</th>\n",
       "      <td>100.0</td>\n",
       "      <td>23</td>\n",
       "      <td>0.2152</td>\n",
       "      <td>0.3723</td>\n",
       "      <td>83</td>\n",
       "      <td>0.0</td>\n",
       "      <td>87.62</td>\n",
       "      <td>0.0</td>\n",
       "      <td>20.61</td>\n",
       "      <td>0.90</td>\n",
       "      <td>1</td>\n",
       "      <td>0</td>\n",
       "      <td>0</td>\n",
       "      <td>0</td>\n",
       "      <td>0</td>\n",
       "      <td>0</td>\n",
       "      <td>0</td>\n",
       "      <td>0</td>\n",
       "    </tr>\n",
       "    <tr>\n",
       "      <th>2018-10-01 00:00:00</th>\n",
       "      <td>119.0</td>\n",
       "      <td>0</td>\n",
       "      <td>0.2165</td>\n",
       "      <td>0.3805</td>\n",
       "      <td>83</td>\n",
       "      <td>0.0</td>\n",
       "      <td>87.61</td>\n",
       "      <td>0.0</td>\n",
       "      <td>20.67</td>\n",
       "      <td>0.70</td>\n",
       "      <td>1</td>\n",
       "      <td>0</td>\n",
       "      <td>0</td>\n",
       "      <td>0</td>\n",
       "      <td>0</td>\n",
       "      <td>0</td>\n",
       "      <td>0</td>\n",
       "      <td>0</td>\n",
       "    </tr>\n",
       "  </tbody>\n",
       "</table>\n",
       "</div>"
      ],
      "text/plain": [
       "                     PM2.5(Ug/m3)  hour     EVI    NDVI  humidity (%)  \\\n",
       "TimeStamp                                                               \n",
       "2018-09-30 20:00:00          60.0    20  0.2152  0.3723            81   \n",
       "2018-09-30 21:00:00          86.0    21  0.2152  0.3723            82   \n",
       "2018-09-30 22:00:00          99.0    22  0.2152  0.3723            83   \n",
       "2018-09-30 23:00:00         100.0    23  0.2152  0.3723            83   \n",
       "2018-10-01 00:00:00         119.0     0  0.2165  0.3805            83   \n",
       "\n",
       "                     precipitation (mm)  pressure (kPa)  radiation (W/m2)  \\\n",
       "TimeStamp                                                                   \n",
       "2018-09-30 20:00:00                 0.0           87.57               0.0   \n",
       "2018-09-30 21:00:00                 0.0           87.61               0.0   \n",
       "2018-09-30 22:00:00                 0.0           87.62               0.0   \n",
       "2018-09-30 23:00:00                 0.0           87.62               0.0   \n",
       "2018-10-01 00:00:00                 0.0           87.61               0.0   \n",
       "\n",
       "                     temperature (oC)  windspeed (m/s)  winddirection_E  \\\n",
       "TimeStamp                                                                 \n",
       "2018-09-30 20:00:00             21.37             0.54                0   \n",
       "2018-09-30 21:00:00             21.12             0.64                1   \n",
       "2018-09-30 22:00:00             20.94             1.06                0   \n",
       "2018-09-30 23:00:00             20.61             0.90                1   \n",
       "2018-10-01 00:00:00             20.67             0.70                1   \n",
       "\n",
       "                     winddirection_N  winddirection_NE  winddirection_NW  \\\n",
       "TimeStamp                                                                  \n",
       "2018-09-30 20:00:00                0                 1                 0   \n",
       "2018-09-30 21:00:00                0                 0                 0   \n",
       "2018-09-30 22:00:00                0                 1                 0   \n",
       "2018-09-30 23:00:00                0                 0                 0   \n",
       "2018-10-01 00:00:00                0                 0                 0   \n",
       "\n",
       "                     winddirection_S  winddirection_SE  winddirection_SW  \\\n",
       "TimeStamp                                                                  \n",
       "2018-09-30 20:00:00                0                 0                 0   \n",
       "2018-09-30 21:00:00                0                 0                 0   \n",
       "2018-09-30 22:00:00                0                 0                 0   \n",
       "2018-09-30 23:00:00                0                 0                 0   \n",
       "2018-10-01 00:00:00                0                 0                 0   \n",
       "\n",
       "                     winddirection_W  \n",
       "TimeStamp                             \n",
       "2018-09-30 20:00:00                0  \n",
       "2018-09-30 21:00:00                0  \n",
       "2018-09-30 22:00:00                0  \n",
       "2018-09-30 23:00:00                0  \n",
       "2018-10-01 00:00:00                0  "
      ]
     },
     "execution_count": 259,
     "metadata": {},
     "output_type": "execute_result"
    }
   ],
   "source": [
    "airquality_data_for_selected_features.tail()"
   ]
  },
  {
   "cell_type": "code",
   "execution_count": 260,
   "metadata": {
    "colab": {},
    "colab_type": "code",
    "id": "LueXKLM3B_DR"
   },
   "outputs": [
    {
     "name": "stdout",
     "output_type": "stream",
     "text": [
      "(7431, 18)\n",
      "['PM2.5(Ug/m3)', 'hour', 'EVI', 'NDVI', 'humidity (%)', 'precipitation (mm)', 'pressure (kPa)', 'radiation (W/m2)', 'temperature (oC)', 'windspeed (m/s)', 'winddirection_E', 'winddirection_N', 'winddirection_NE', 'winddirection_NW', 'winddirection_S', 'winddirection_SE', 'winddirection_SW', 'winddirection_W']\n",
      "<class 'pandas.core.frame.DataFrame'>\n",
      "DatetimeIndex: 7431 entries, 2017-09-09 18:00:00 to 2018-10-01 00:00:00\n",
      "Data columns (total 18 columns):\n",
      "PM2.5(Ug/m3)          7431 non-null float64\n",
      "hour                  7431 non-null int64\n",
      "EVI                   7431 non-null float64\n",
      "NDVI                  7431 non-null float64\n",
      "humidity (%)          7431 non-null int64\n",
      "precipitation (mm)    7431 non-null float64\n",
      "pressure (kPa)        7431 non-null float64\n",
      "radiation (W/m2)      7431 non-null float64\n",
      "temperature (oC)      7431 non-null float64\n",
      "windspeed (m/s)       7431 non-null float64\n",
      "winddirection_E       7431 non-null int64\n",
      "winddirection_N       7431 non-null int64\n",
      "winddirection_NE      7431 non-null int64\n",
      "winddirection_NW      7431 non-null int64\n",
      "winddirection_S       7431 non-null int64\n",
      "winddirection_SE      7431 non-null int64\n",
      "winddirection_SW      7431 non-null int64\n",
      "winddirection_W       7431 non-null int64\n",
      "dtypes: float64(8), int64(10)\n",
      "memory usage: 1.1 MB\n",
      "\n",
      " dataframe info: \n",
      " None\n",
      "\n",
      " dataframe column datatypes:\n",
      " PM2.5(Ug/m3)          float64\n",
      "hour                    int64\n",
      "EVI                   float64\n",
      "NDVI                  float64\n",
      "humidity (%)            int64\n",
      "precipitation (mm)    float64\n",
      "pressure (kPa)        float64\n",
      "radiation (W/m2)      float64\n",
      "temperature (oC)      float64\n",
      "windspeed (m/s)       float64\n",
      "winddirection_E         int64\n",
      "winddirection_N         int64\n",
      "winddirection_NE        int64\n",
      "winddirection_NW        int64\n",
      "winddirection_S         int64\n",
      "winddirection_SE        int64\n",
      "winddirection_SW        int64\n",
      "winddirection_W         int64\n",
      "dtype: object\n"
     ]
    }
   ],
   "source": [
    "show_dataframe_info(airquality_data_for_selected_features)"
   ]
  },
  {
   "cell_type": "code",
   "execution_count": 261,
   "metadata": {
    "colab": {},
    "colab_type": "code",
    "id": "6inajEGHCWNw"
   },
   "outputs": [
    {
     "data": {
      "text/html": [
       "<div>\n",
       "<style scoped>\n",
       "    .dataframe tbody tr th:only-of-type {\n",
       "        vertical-align: middle;\n",
       "    }\n",
       "\n",
       "    .dataframe tbody tr th {\n",
       "        vertical-align: top;\n",
       "    }\n",
       "\n",
       "    .dataframe thead th {\n",
       "        text-align: right;\n",
       "    }\n",
       "</style>\n",
       "<table border=\"1\" class=\"dataframe\">\n",
       "  <thead>\n",
       "    <tr style=\"text-align: right;\">\n",
       "      <th></th>\n",
       "      <th>PM2.5(Ug/m3)</th>\n",
       "      <th>hour</th>\n",
       "      <th>EVI</th>\n",
       "      <th>NDVI</th>\n",
       "      <th>humidity (%)</th>\n",
       "      <th>precipitation (mm)</th>\n",
       "      <th>pressure (kPa)</th>\n",
       "      <th>radiation (W/m2)</th>\n",
       "      <th>temperature (oC)</th>\n",
       "      <th>windspeed (m/s)</th>\n",
       "      <th>winddirection_E</th>\n",
       "      <th>winddirection_N</th>\n",
       "      <th>winddirection_NE</th>\n",
       "      <th>winddirection_NW</th>\n",
       "      <th>winddirection_S</th>\n",
       "      <th>winddirection_SE</th>\n",
       "      <th>winddirection_SW</th>\n",
       "      <th>winddirection_W</th>\n",
       "    </tr>\n",
       "  </thead>\n",
       "  <tbody>\n",
       "    <tr>\n",
       "      <th>count</th>\n",
       "      <td>7431.000000</td>\n",
       "      <td>7431.000000</td>\n",
       "      <td>7431.000000</td>\n",
       "      <td>7431.000000</td>\n",
       "      <td>7431.000000</td>\n",
       "      <td>7431.000000</td>\n",
       "      <td>7431.000000</td>\n",
       "      <td>7431.000000</td>\n",
       "      <td>7431.000000</td>\n",
       "      <td>7431.000000</td>\n",
       "      <td>7431.000000</td>\n",
       "      <td>7431.000000</td>\n",
       "      <td>7431.000000</td>\n",
       "      <td>7431.000000</td>\n",
       "      <td>7431.000000</td>\n",
       "      <td>7431.000000</td>\n",
       "      <td>7431.000000</td>\n",
       "      <td>7431.000000</td>\n",
       "    </tr>\n",
       "    <tr>\n",
       "      <th>mean</th>\n",
       "      <td>60.795613</td>\n",
       "      <td>11.504239</td>\n",
       "      <td>0.204960</td>\n",
       "      <td>0.382688</td>\n",
       "      <td>-222.646885</td>\n",
       "      <td>0.093078</td>\n",
       "      <td>87.689556</td>\n",
       "      <td>150.874296</td>\n",
       "      <td>22.284876</td>\n",
       "      <td>-129.668199</td>\n",
       "      <td>0.092585</td>\n",
       "      <td>0.072534</td>\n",
       "      <td>0.068766</td>\n",
       "      <td>0.133495</td>\n",
       "      <td>0.193648</td>\n",
       "      <td>0.139416</td>\n",
       "      <td>0.160275</td>\n",
       "      <td>0.139281</td>\n",
       "    </tr>\n",
       "    <tr>\n",
       "      <th>std</th>\n",
       "      <td>34.575160</td>\n",
       "      <td>6.929734</td>\n",
       "      <td>0.027148</td>\n",
       "      <td>0.046771</td>\n",
       "      <td>1715.609953</td>\n",
       "      <td>0.993019</td>\n",
       "      <td>0.191855</td>\n",
       "      <td>223.186749</td>\n",
       "      <td>3.323996</td>\n",
       "      <td>1134.981505</td>\n",
       "      <td>0.289870</td>\n",
       "      <td>0.259387</td>\n",
       "      <td>0.253073</td>\n",
       "      <td>0.340132</td>\n",
       "      <td>0.395183</td>\n",
       "      <td>0.346403</td>\n",
       "      <td>0.366885</td>\n",
       "      <td>0.346263</td>\n",
       "    </tr>\n",
       "    <tr>\n",
       "      <th>min</th>\n",
       "      <td>6.000000</td>\n",
       "      <td>0.000000</td>\n",
       "      <td>0.155300</td>\n",
       "      <td>0.287200</td>\n",
       "      <td>-9998.000000</td>\n",
       "      <td>0.000000</td>\n",
       "      <td>87.060000</td>\n",
       "      <td>0.000000</td>\n",
       "      <td>15.470000</td>\n",
       "      <td>-9998.000000</td>\n",
       "      <td>0.000000</td>\n",
       "      <td>0.000000</td>\n",
       "      <td>0.000000</td>\n",
       "      <td>0.000000</td>\n",
       "      <td>0.000000</td>\n",
       "      <td>0.000000</td>\n",
       "      <td>0.000000</td>\n",
       "      <td>0.000000</td>\n",
       "    </tr>\n",
       "    <tr>\n",
       "      <th>25%</th>\n",
       "      <td>35.500000</td>\n",
       "      <td>5.000000</td>\n",
       "      <td>0.181300</td>\n",
       "      <td>0.356200</td>\n",
       "      <td>66.000000</td>\n",
       "      <td>0.000000</td>\n",
       "      <td>87.550000</td>\n",
       "      <td>0.000000</td>\n",
       "      <td>19.680000</td>\n",
       "      <td>0.450000</td>\n",
       "      <td>0.000000</td>\n",
       "      <td>0.000000</td>\n",
       "      <td>0.000000</td>\n",
       "      <td>0.000000</td>\n",
       "      <td>0.000000</td>\n",
       "      <td>0.000000</td>\n",
       "      <td>0.000000</td>\n",
       "      <td>0.000000</td>\n",
       "    </tr>\n",
       "    <tr>\n",
       "      <th>50%</th>\n",
       "      <td>52.000000</td>\n",
       "      <td>12.000000</td>\n",
       "      <td>0.213600</td>\n",
       "      <td>0.372000</td>\n",
       "      <td>82.000000</td>\n",
       "      <td>0.000000</td>\n",
       "      <td>87.690000</td>\n",
       "      <td>2.680000</td>\n",
       "      <td>21.310000</td>\n",
       "      <td>0.660000</td>\n",
       "      <td>0.000000</td>\n",
       "      <td>0.000000</td>\n",
       "      <td>0.000000</td>\n",
       "      <td>0.000000</td>\n",
       "      <td>0.000000</td>\n",
       "      <td>0.000000</td>\n",
       "      <td>0.000000</td>\n",
       "      <td>0.000000</td>\n",
       "    </tr>\n",
       "    <tr>\n",
       "      <th>75%</th>\n",
       "      <td>77.000000</td>\n",
       "      <td>17.000000</td>\n",
       "      <td>0.230900</td>\n",
       "      <td>0.431800</td>\n",
       "      <td>91.000000</td>\n",
       "      <td>0.000000</td>\n",
       "      <td>87.830000</td>\n",
       "      <td>260.085000</td>\n",
       "      <td>24.825000</td>\n",
       "      <td>0.990000</td>\n",
       "      <td>0.000000</td>\n",
       "      <td>0.000000</td>\n",
       "      <td>0.000000</td>\n",
       "      <td>0.000000</td>\n",
       "      <td>0.000000</td>\n",
       "      <td>0.000000</td>\n",
       "      <td>0.000000</td>\n",
       "      <td>0.000000</td>\n",
       "    </tr>\n",
       "    <tr>\n",
       "      <th>max</th>\n",
       "      <td>407.000000</td>\n",
       "      <td>23.000000</td>\n",
       "      <td>0.241400</td>\n",
       "      <td>0.475400</td>\n",
       "      <td>100.000000</td>\n",
       "      <td>46.230000</td>\n",
       "      <td>88.200000</td>\n",
       "      <td>899.250000</td>\n",
       "      <td>32.950000</td>\n",
       "      <td>34.990000</td>\n",
       "      <td>1.000000</td>\n",
       "      <td>1.000000</td>\n",
       "      <td>1.000000</td>\n",
       "      <td>1.000000</td>\n",
       "      <td>1.000000</td>\n",
       "      <td>1.000000</td>\n",
       "      <td>1.000000</td>\n",
       "      <td>1.000000</td>\n",
       "    </tr>\n",
       "  </tbody>\n",
       "</table>\n",
       "</div>"
      ],
      "text/plain": [
       "       PM2.5(Ug/m3)         hour          EVI         NDVI  humidity (%)  \\\n",
       "count   7431.000000  7431.000000  7431.000000  7431.000000   7431.000000   \n",
       "mean      60.795613    11.504239     0.204960     0.382688   -222.646885   \n",
       "std       34.575160     6.929734     0.027148     0.046771   1715.609953   \n",
       "min        6.000000     0.000000     0.155300     0.287200  -9998.000000   \n",
       "25%       35.500000     5.000000     0.181300     0.356200     66.000000   \n",
       "50%       52.000000    12.000000     0.213600     0.372000     82.000000   \n",
       "75%       77.000000    17.000000     0.230900     0.431800     91.000000   \n",
       "max      407.000000    23.000000     0.241400     0.475400    100.000000   \n",
       "\n",
       "       precipitation (mm)  pressure (kPa)  radiation (W/m2)  temperature (oC)  \\\n",
       "count         7431.000000     7431.000000       7431.000000       7431.000000   \n",
       "mean             0.093078       87.689556        150.874296         22.284876   \n",
       "std              0.993019        0.191855        223.186749          3.323996   \n",
       "min              0.000000       87.060000          0.000000         15.470000   \n",
       "25%              0.000000       87.550000          0.000000         19.680000   \n",
       "50%              0.000000       87.690000          2.680000         21.310000   \n",
       "75%              0.000000       87.830000        260.085000         24.825000   \n",
       "max             46.230000       88.200000        899.250000         32.950000   \n",
       "\n",
       "       windspeed (m/s)  winddirection_E  winddirection_N  winddirection_NE  \\\n",
       "count      7431.000000      7431.000000      7431.000000       7431.000000   \n",
       "mean       -129.668199         0.092585         0.072534          0.068766   \n",
       "std        1134.981505         0.289870         0.259387          0.253073   \n",
       "min       -9998.000000         0.000000         0.000000          0.000000   \n",
       "25%           0.450000         0.000000         0.000000          0.000000   \n",
       "50%           0.660000         0.000000         0.000000          0.000000   \n",
       "75%           0.990000         0.000000         0.000000          0.000000   \n",
       "max          34.990000         1.000000         1.000000          1.000000   \n",
       "\n",
       "       winddirection_NW  winddirection_S  winddirection_SE  winddirection_SW  \\\n",
       "count       7431.000000      7431.000000       7431.000000       7431.000000   \n",
       "mean           0.133495         0.193648          0.139416          0.160275   \n",
       "std            0.340132         0.395183          0.346403          0.366885   \n",
       "min            0.000000         0.000000          0.000000          0.000000   \n",
       "25%            0.000000         0.000000          0.000000          0.000000   \n",
       "50%            0.000000         0.000000          0.000000          0.000000   \n",
       "75%            0.000000         0.000000          0.000000          0.000000   \n",
       "max            1.000000         1.000000          1.000000          1.000000   \n",
       "\n",
       "       winddirection_W  \n",
       "count      7431.000000  \n",
       "mean          0.139281  \n",
       "std           0.346263  \n",
       "min           0.000000  \n",
       "25%           0.000000  \n",
       "50%           0.000000  \n",
       "75%           0.000000  \n",
       "max           1.000000  "
      ]
     },
     "execution_count": 261,
     "metadata": {},
     "output_type": "execute_result"
    }
   ],
   "source": [
    "airquality_data_for_selected_features.describe()"
   ]
  },
  {
   "cell_type": "markdown",
   "metadata": {
    "colab_type": "text",
    "id": "_QqtVZw7Sb3i"
   },
   "source": [
    "### Separate Features From the Target"
   ]
  },
  {
   "cell_type": "code",
   "execution_count": 262,
   "metadata": {
    "colab": {},
    "colab_type": "code",
    "id": "y5tqylHa2W-Y"
   },
   "outputs": [
    {
     "data": {
      "text/plain": [
       "Index(['PM2.5(Ug/m3)', 'hour', 'EVI', 'NDVI', 'humidity (%)',\n",
       "       'precipitation (mm)', 'pressure (kPa)', 'radiation (W/m2)',\n",
       "       'temperature (oC)', 'windspeed (m/s)', 'winddirection_E',\n",
       "       'winddirection_N', 'winddirection_NE', 'winddirection_NW',\n",
       "       'winddirection_S', 'winddirection_SE', 'winddirection_SW',\n",
       "       'winddirection_W'],\n",
       "      dtype='object')"
      ]
     },
     "execution_count": 262,
     "metadata": {},
     "output_type": "execute_result"
    }
   ],
   "source": [
    "airquality_data_for_selected_features.columns"
   ]
  },
  {
   "cell_type": "code",
   "execution_count": 263,
   "metadata": {},
   "outputs": [],
   "source": [
    "airquality_data_for_selected_features_copy = airquality_data_for_selected_features.copy()"
   ]
  },
  {
   "cell_type": "code",
   "execution_count": 264,
   "metadata": {
    "colab": {},
    "colab_type": "code",
    "id": "4sPre3D-2W-6"
   },
   "outputs": [],
   "source": [
    "airquality_data_for_selected_features = airquality_data_for_selected_features.values"
   ]
  },
  {
   "cell_type": "markdown",
   "metadata": {
    "colab_type": "text",
    "id": "LvOH8t25Sb4E"
   },
   "source": [
    "\n",
    "### separate test dataset from training dataset and validation dataset\n",
    "- separate data on 70/10/20 training/validation/testing\n"
   ]
  },
  {
   "cell_type": "code",
   "execution_count": 265,
   "metadata": {
    "colab": {},
    "colab_type": "code",
    "id": "ahZvu1i-2W_A"
   },
   "outputs": [
    {
     "name": "stdout",
     "output_type": "stream",
     "text": [
      "5201\n",
      "743\n",
      "1486\n",
      "7430\n"
     ]
    }
   ],
   "source": [
    "training_data_length = math.floor(len(airquality_data_for_selected_features)* 0.7)\n",
    "print(training_data_length)\n",
    "\n",
    "validation_data_length = math.floor(len(airquality_data_for_selected_features)*0.1)\n",
    "print(validation_data_length)\n",
    "\n",
    "testing_data_length = math.floor(len(airquality_data_for_selected_features)* 0.2)\n",
    "print(testing_data_length)\n",
    "\n",
    "print(str(training_data_length + validation_data_length + testing_data_length ))"
   ]
  },
  {
   "cell_type": "code",
   "execution_count": 266,
   "metadata": {
    "colab": {},
    "colab_type": "code",
    "id": "yiqwv889Sb4E"
   },
   "outputs": [
    {
     "name": "stdout",
     "output_type": "stream",
     "text": [
      "(5201, 18)\n",
      "(743, 18)\n",
      "(1486, 18)\n"
     ]
    }
   ],
   "source": [
    "training_data = airquality_data_for_selected_features[0:training_data_length,:]\n",
    "print(training_data.shape)\n",
    "\n",
    "validation_data = airquality_data_for_selected_features[training_data_length:training_data_length+validation_data_length,:]\n",
    "print(validation_data.shape)\n",
    "\n",
    "testing_data = airquality_data_for_selected_features[training_data_length+validation_data_length: training_data_length+validation_data_length+testing_data_length,:]\n",
    "print(testing_data.shape)\n",
    "\n"
   ]
  },
  {
   "cell_type": "markdown",
   "metadata": {
    "colab_type": "text",
    "id": "qchOsoA0Sb3A"
   },
   "source": [
    "### Preprocess the data to a format a neural network can ingest.\n",
    "- Normalising/Scaling data using minmax scaler in sklearn preprocessing for each dataset separately\n",
    "- Generationg sequential data from the recent past (e.g 3hrs), along with a target pm2.5 value in the future (next day)  for the\n",
    "  * training dataset\n",
    "  * validation dataset\n",
    "  * test dataset"
   ]
  },
  {
   "cell_type": "code",
   "execution_count": 267,
   "metadata": {
    "colab": {},
    "colab_type": "code",
    "id": "GpJLPXVa2W_b"
   },
   "outputs": [],
   "source": [
    "def generate_dataset_in_format_lstm_can_ingest(data, look_back=1):\n",
    "    x_data, y_data = [], []\n",
    "    for i in range(len(data)-look_back-1):\n",
    "        feature_data = data[i:(i+look_back), 0]\n",
    "        x_data.append(feature_data)\n",
    "        y_data.append(data[i + look_back, 0])\n",
    "    return np.array(x_data), np.array(y_data)"
   ]
  },
  {
   "cell_type": "code",
   "execution_count": 268,
   "metadata": {},
   "outputs": [],
   "source": [
    "## format series to supervised problem.. example obtained from machine learning mastery. Number of lag observations, number of observations as output\n",
    "def generate_multivariate_dataset_in_format_lstm_can_ingest(data, number_of_inputs, number_of_outputs, dropnan=True):\n",
    "    number_of_variables = 1 if type(data) is list else data.shape[1]\n",
    "    data_frame= pd.DataFrame(data)\n",
    "    columnsx, names = list(),list()\n",
    "    #generate input sequence (t-n, ... t-1)\n",
    "    for i in range(number_of_inputs, 0, -1):\n",
    "        columnsx.append(data_frame.shift(i))\n",
    "        names += [('var%d(t-%d)' % (j+1, i)) for j in range(number_of_variables)]\n",
    "       # forecast sequence (t, t+1, ... t+n)\n",
    "    for i in range(0, number_of_outputs):\n",
    "        columnsx.append(data_frame.shift(-i))\n",
    "        if i == 0:\n",
    "            names += [('var%d(t)' % (j+1)) for j in range(number_of_variables)]\n",
    "        else:\n",
    "            names += [('var%d(t+%d)' % (j+1, i)) for j in range(number_of_variables)]\n",
    "            \n",
    "    \n",
    "    aggregated_df = pd.concat(columnsx, axis=1)\n",
    "    aggregated_df.columns = names\n",
    "    \n",
    "    if dropnan:\n",
    "        aggregated_df.dropna(inplace=True)\n",
    "    return aggregated_df\n",
    "    "
   ]
  },
  {
   "cell_type": "markdown",
   "metadata": {
    "colab_type": "text",
    "id": "TDXADXdT2W_g"
   },
   "source": [
    "### given data that goes back a number of timesteps e.g 3hrs, can we predict the next hour."
   ]
  },
  {
   "cell_type": "markdown",
   "metadata": {
    "colab_type": "text",
    "id": "LpEnC6fs2W_h"
   },
   "source": [
    "### training dataset"
   ]
  },
  {
   "cell_type": "raw",
   "metadata": {},
   "source": [
    "transformed_training_data.head().T"
   ]
  },
  {
   "cell_type": "code",
   "execution_count": 269,
   "metadata": {},
   "outputs": [
    {
     "name": "stdout",
     "output_type": "stream",
     "text": [
      "Index(['var1(t-1)', 'var2(t-1)', 'var3(t-1)', 'var4(t-1)', 'var5(t-1)',\n",
      "       'var6(t-1)', 'var7(t-1)', 'var8(t-1)', 'var9(t-1)', 'var10(t-1)',\n",
      "       'var11(t-1)', 'var12(t-1)', 'var13(t-1)', 'var14(t-1)', 'var15(t-1)',\n",
      "       'var16(t-1)', 'var17(t-1)', 'var18(t-1)', 'var1(t)'],\n",
      "      dtype='object')\n",
      "(5200, 1, 18) (5200,) (5200, 18)\n"
     ]
    },
    {
     "data": {
      "text/html": [
       "<div>\n",
       "<style scoped>\n",
       "    .dataframe tbody tr th:only-of-type {\n",
       "        vertical-align: middle;\n",
       "    }\n",
       "\n",
       "    .dataframe tbody tr th {\n",
       "        vertical-align: top;\n",
       "    }\n",
       "\n",
       "    .dataframe thead th {\n",
       "        text-align: right;\n",
       "    }\n",
       "</style>\n",
       "<table border=\"1\" class=\"dataframe\">\n",
       "  <thead>\n",
       "    <tr style=\"text-align: right;\">\n",
       "      <th></th>\n",
       "      <th>1</th>\n",
       "      <th>2</th>\n",
       "      <th>3</th>\n",
       "      <th>4</th>\n",
       "      <th>5</th>\n",
       "    </tr>\n",
       "  </thead>\n",
       "  <tbody>\n",
       "    <tr>\n",
       "      <th>var1(t-1)</th>\n",
       "      <td>48.0000</td>\n",
       "      <td>46.0000</td>\n",
       "      <td>69.0000</td>\n",
       "      <td>84.0000</td>\n",
       "      <td>83.0000</td>\n",
       "    </tr>\n",
       "    <tr>\n",
       "      <th>var2(t-1)</th>\n",
       "      <td>18.0000</td>\n",
       "      <td>19.0000</td>\n",
       "      <td>20.0000</td>\n",
       "      <td>21.0000</td>\n",
       "      <td>22.0000</td>\n",
       "    </tr>\n",
       "    <tr>\n",
       "      <th>var3(t-1)</th>\n",
       "      <td>0.2018</td>\n",
       "      <td>0.2018</td>\n",
       "      <td>0.2018</td>\n",
       "      <td>0.2018</td>\n",
       "      <td>0.2018</td>\n",
       "    </tr>\n",
       "    <tr>\n",
       "      <th>var4(t-1)</th>\n",
       "      <td>0.3719</td>\n",
       "      <td>0.3719</td>\n",
       "      <td>0.3719</td>\n",
       "      <td>0.3719</td>\n",
       "      <td>0.3719</td>\n",
       "    </tr>\n",
       "    <tr>\n",
       "      <th>var5(t-1)</th>\n",
       "      <td>73.0000</td>\n",
       "      <td>77.0000</td>\n",
       "      <td>80.0000</td>\n",
       "      <td>82.0000</td>\n",
       "      <td>87.0000</td>\n",
       "    </tr>\n",
       "    <tr>\n",
       "      <th>var6(t-1)</th>\n",
       "      <td>0.0000</td>\n",
       "      <td>0.0000</td>\n",
       "      <td>0.0000</td>\n",
       "      <td>0.0000</td>\n",
       "      <td>0.0000</td>\n",
       "    </tr>\n",
       "    <tr>\n",
       "      <th>var7(t-1)</th>\n",
       "      <td>87.5000</td>\n",
       "      <td>87.5800</td>\n",
       "      <td>87.6700</td>\n",
       "      <td>87.6600</td>\n",
       "      <td>87.6800</td>\n",
       "    </tr>\n",
       "    <tr>\n",
       "      <th>var8(t-1)</th>\n",
       "      <td>0.9000</td>\n",
       "      <td>0.0000</td>\n",
       "      <td>0.0000</td>\n",
       "      <td>0.0000</td>\n",
       "      <td>0.0000</td>\n",
       "    </tr>\n",
       "    <tr>\n",
       "      <th>var9(t-1)</th>\n",
       "      <td>23.2700</td>\n",
       "      <td>22.7200</td>\n",
       "      <td>22.2900</td>\n",
       "      <td>21.7100</td>\n",
       "      <td>20.8600</td>\n",
       "    </tr>\n",
       "    <tr>\n",
       "      <th>var10(t-1)</th>\n",
       "      <td>0.4400</td>\n",
       "      <td>0.3800</td>\n",
       "      <td>0.3700</td>\n",
       "      <td>0.3400</td>\n",
       "      <td>0.2900</td>\n",
       "    </tr>\n",
       "    <tr>\n",
       "      <th>var11(t-1)</th>\n",
       "      <td>0.0000</td>\n",
       "      <td>0.0000</td>\n",
       "      <td>0.0000</td>\n",
       "      <td>0.0000</td>\n",
       "      <td>0.0000</td>\n",
       "    </tr>\n",
       "    <tr>\n",
       "      <th>var12(t-1)</th>\n",
       "      <td>0.0000</td>\n",
       "      <td>0.0000</td>\n",
       "      <td>0.0000</td>\n",
       "      <td>1.0000</td>\n",
       "      <td>0.0000</td>\n",
       "    </tr>\n",
       "    <tr>\n",
       "      <th>var13(t-1)</th>\n",
       "      <td>0.0000</td>\n",
       "      <td>1.0000</td>\n",
       "      <td>0.0000</td>\n",
       "      <td>0.0000</td>\n",
       "      <td>1.0000</td>\n",
       "    </tr>\n",
       "    <tr>\n",
       "      <th>var14(t-1)</th>\n",
       "      <td>0.0000</td>\n",
       "      <td>0.0000</td>\n",
       "      <td>0.0000</td>\n",
       "      <td>0.0000</td>\n",
       "      <td>0.0000</td>\n",
       "    </tr>\n",
       "    <tr>\n",
       "      <th>var15(t-1)</th>\n",
       "      <td>0.0000</td>\n",
       "      <td>0.0000</td>\n",
       "      <td>0.0000</td>\n",
       "      <td>0.0000</td>\n",
       "      <td>0.0000</td>\n",
       "    </tr>\n",
       "    <tr>\n",
       "      <th>var16(t-1)</th>\n",
       "      <td>1.0000</td>\n",
       "      <td>0.0000</td>\n",
       "      <td>1.0000</td>\n",
       "      <td>0.0000</td>\n",
       "      <td>0.0000</td>\n",
       "    </tr>\n",
       "    <tr>\n",
       "      <th>var17(t-1)</th>\n",
       "      <td>0.0000</td>\n",
       "      <td>0.0000</td>\n",
       "      <td>0.0000</td>\n",
       "      <td>0.0000</td>\n",
       "      <td>0.0000</td>\n",
       "    </tr>\n",
       "    <tr>\n",
       "      <th>var18(t-1)</th>\n",
       "      <td>0.0000</td>\n",
       "      <td>0.0000</td>\n",
       "      <td>0.0000</td>\n",
       "      <td>0.0000</td>\n",
       "      <td>0.0000</td>\n",
       "    </tr>\n",
       "    <tr>\n",
       "      <th>var1(t)</th>\n",
       "      <td>46.0000</td>\n",
       "      <td>69.0000</td>\n",
       "      <td>84.0000</td>\n",
       "      <td>83.0000</td>\n",
       "      <td>138.0000</td>\n",
       "    </tr>\n",
       "  </tbody>\n",
       "</table>\n",
       "</div>"
      ],
      "text/plain": [
       "                  1        2        3        4         5\n",
       "var1(t-1)   48.0000  46.0000  69.0000  84.0000   83.0000\n",
       "var2(t-1)   18.0000  19.0000  20.0000  21.0000   22.0000\n",
       "var3(t-1)    0.2018   0.2018   0.2018   0.2018    0.2018\n",
       "var4(t-1)    0.3719   0.3719   0.3719   0.3719    0.3719\n",
       "var5(t-1)   73.0000  77.0000  80.0000  82.0000   87.0000\n",
       "var6(t-1)    0.0000   0.0000   0.0000   0.0000    0.0000\n",
       "var7(t-1)   87.5000  87.5800  87.6700  87.6600   87.6800\n",
       "var8(t-1)    0.9000   0.0000   0.0000   0.0000    0.0000\n",
       "var9(t-1)   23.2700  22.7200  22.2900  21.7100   20.8600\n",
       "var10(t-1)   0.4400   0.3800   0.3700   0.3400    0.2900\n",
       "var11(t-1)   0.0000   0.0000   0.0000   0.0000    0.0000\n",
       "var12(t-1)   0.0000   0.0000   0.0000   1.0000    0.0000\n",
       "var13(t-1)   0.0000   1.0000   0.0000   0.0000    1.0000\n",
       "var14(t-1)   0.0000   0.0000   0.0000   0.0000    0.0000\n",
       "var15(t-1)   0.0000   0.0000   0.0000   0.0000    0.0000\n",
       "var16(t-1)   1.0000   0.0000   1.0000   0.0000    0.0000\n",
       "var17(t-1)   0.0000   0.0000   0.0000   0.0000    0.0000\n",
       "var18(t-1)   0.0000   0.0000   0.0000   0.0000    0.0000\n",
       "var1(t)     46.0000  69.0000  84.0000  83.0000  138.0000"
      ]
     },
     "execution_count": 269,
     "metadata": {},
     "output_type": "execute_result"
    }
   ],
   "source": [
    "# reshape into X=t and Y=t+1 timesteps = lookback\n",
    "timesteps = 1\n",
    "number_of_features = 1\n",
    "number_of_outputs = 1\n",
    "transformed_training_data = generate_multivariate_dataset_in_format_lstm_can_ingest(training_data, timesteps, number_of_outputs)\n",
    "# drop columns we don't want to predict...21 is pm2.5 we want to predict\n",
    "if sensor_type == 0:\n",
    "    transformed_training_data.drop(transformed_training_data.columns[[20,22,23, 24,25, 26,27, 28,29, 30,31,32,33, 34,35, 36,37,38,39,]], axis=1, inplace=True)\n",
    "    print(transformed_training_data.columns)\n",
    "elif sensor_type == 1:\n",
    "    transformed_training_data.drop(transformed_training_data.columns[[20,21,22,23, 24,25, 26,27, 28,29, 30,31,32,33, 34,35, 36,37]], axis=1, inplace=True)\n",
    "    print(transformed_training_data.columns)\n",
    "elif sensor_type == 2:\n",
    "    transformed_training_data.drop(transformed_training_data.columns[[19,20,21,22,23, 24,25, 26,27, 28,29, 30,31,32,33, 34,35]], axis=1, inplace=True)\n",
    "    print(transformed_training_data.columns)\n",
    "\n",
    "\n",
    "transformed_training_data_values = transformed_training_data.values\n",
    "scaler = MinMaxScaler()\n",
    "training_features =transformed_training_data_values[:, :-1]\n",
    "scaled_training_features_original = scaler.fit_transform(training_features)\n",
    "training_targets = transformed_training_data_values[:, -1]\n",
    "\n",
    "scaled_training_features = np.reshape(scaled_training_features_original, \n",
    "                                      (scaled_training_features_original.shape[0], timesteps, scaled_training_features_original.shape[1]))\n",
    "print(scaled_training_features.shape, training_targets.shape, scaled_training_features_original.shape )\n",
    "transformed_training_data.head().T"
   ]
  },
  {
   "cell_type": "markdown",
   "metadata": {
    "colab_type": "text",
    "id": "2rUqfzEj2XHf"
   },
   "source": [
    "### validation dataset"
   ]
  },
  {
   "cell_type": "code",
   "execution_count": 270,
   "metadata": {
    "colab": {},
    "colab_type": "code",
    "id": "9K3nO_QW2XHg"
   },
   "outputs": [
    {
     "name": "stdout",
     "output_type": "stream",
     "text": [
      "Index(['var1(t-1)', 'var2(t-1)', 'var3(t-1)', 'var4(t-1)', 'var5(t-1)',\n",
      "       'var6(t-1)', 'var7(t-1)', 'var8(t-1)', 'var9(t-1)', 'var10(t-1)',\n",
      "       'var11(t-1)', 'var12(t-1)', 'var13(t-1)', 'var14(t-1)', 'var15(t-1)',\n",
      "       'var16(t-1)', 'var17(t-1)', 'var18(t-1)', 'var1(t)'],\n",
      "      dtype='object')\n",
      "(742, 1, 18) (742,) (742, 18)\n"
     ]
    },
    {
     "data": {
      "text/html": [
       "<div>\n",
       "<style scoped>\n",
       "    .dataframe tbody tr th:only-of-type {\n",
       "        vertical-align: middle;\n",
       "    }\n",
       "\n",
       "    .dataframe tbody tr th {\n",
       "        vertical-align: top;\n",
       "    }\n",
       "\n",
       "    .dataframe thead th {\n",
       "        text-align: right;\n",
       "    }\n",
       "</style>\n",
       "<table border=\"1\" class=\"dataframe\">\n",
       "  <thead>\n",
       "    <tr style=\"text-align: right;\">\n",
       "      <th></th>\n",
       "      <th>1</th>\n",
       "      <th>2</th>\n",
       "      <th>3</th>\n",
       "      <th>4</th>\n",
       "      <th>5</th>\n",
       "    </tr>\n",
       "  </thead>\n",
       "  <tbody>\n",
       "    <tr>\n",
       "      <th>var1(t-1)</th>\n",
       "      <td>23.8000</td>\n",
       "      <td>23.9000</td>\n",
       "      <td>24.0000</td>\n",
       "      <td>23.8000</td>\n",
       "      <td>23.4000</td>\n",
       "    </tr>\n",
       "    <tr>\n",
       "      <th>var2(t-1)</th>\n",
       "      <td>2.0000</td>\n",
       "      <td>3.0000</td>\n",
       "      <td>4.0000</td>\n",
       "      <td>5.0000</td>\n",
       "      <td>6.0000</td>\n",
       "    </tr>\n",
       "    <tr>\n",
       "      <th>var3(t-1)</th>\n",
       "      <td>0.2414</td>\n",
       "      <td>0.2414</td>\n",
       "      <td>0.2414</td>\n",
       "      <td>0.2414</td>\n",
       "      <td>0.2414</td>\n",
       "    </tr>\n",
       "    <tr>\n",
       "      <th>var4(t-1)</th>\n",
       "      <td>0.4096</td>\n",
       "      <td>0.4096</td>\n",
       "      <td>0.4096</td>\n",
       "      <td>0.4096</td>\n",
       "      <td>0.4096</td>\n",
       "    </tr>\n",
       "    <tr>\n",
       "      <th>var5(t-1)</th>\n",
       "      <td>92.0000</td>\n",
       "      <td>92.0000</td>\n",
       "      <td>94.0000</td>\n",
       "      <td>95.0000</td>\n",
       "      <td>96.0000</td>\n",
       "    </tr>\n",
       "    <tr>\n",
       "      <th>var6(t-1)</th>\n",
       "      <td>0.0000</td>\n",
       "      <td>0.0000</td>\n",
       "      <td>0.0000</td>\n",
       "      <td>0.0000</td>\n",
       "      <td>0.0000</td>\n",
       "    </tr>\n",
       "    <tr>\n",
       "      <th>var7(t-1)</th>\n",
       "      <td>87.7200</td>\n",
       "      <td>87.7000</td>\n",
       "      <td>87.6900</td>\n",
       "      <td>87.7000</td>\n",
       "      <td>87.7400</td>\n",
       "    </tr>\n",
       "    <tr>\n",
       "      <th>var8(t-1)</th>\n",
       "      <td>0.0000</td>\n",
       "      <td>0.0000</td>\n",
       "      <td>0.0000</td>\n",
       "      <td>0.0000</td>\n",
       "      <td>0.1200</td>\n",
       "    </tr>\n",
       "    <tr>\n",
       "      <th>var9(t-1)</th>\n",
       "      <td>19.5300</td>\n",
       "      <td>19.2700</td>\n",
       "      <td>18.4700</td>\n",
       "      <td>17.9500</td>\n",
       "      <td>17.5400</td>\n",
       "    </tr>\n",
       "    <tr>\n",
       "      <th>var10(t-1)</th>\n",
       "      <td>0.5700</td>\n",
       "      <td>0.4300</td>\n",
       "      <td>0.6600</td>\n",
       "      <td>0.5000</td>\n",
       "      <td>0.4500</td>\n",
       "    </tr>\n",
       "    <tr>\n",
       "      <th>var11(t-1)</th>\n",
       "      <td>0.0000</td>\n",
       "      <td>0.0000</td>\n",
       "      <td>0.0000</td>\n",
       "      <td>0.0000</td>\n",
       "      <td>0.0000</td>\n",
       "    </tr>\n",
       "    <tr>\n",
       "      <th>var12(t-1)</th>\n",
       "      <td>0.0000</td>\n",
       "      <td>0.0000</td>\n",
       "      <td>0.0000</td>\n",
       "      <td>0.0000</td>\n",
       "      <td>0.0000</td>\n",
       "    </tr>\n",
       "    <tr>\n",
       "      <th>var13(t-1)</th>\n",
       "      <td>0.0000</td>\n",
       "      <td>0.0000</td>\n",
       "      <td>0.0000</td>\n",
       "      <td>0.0000</td>\n",
       "      <td>0.0000</td>\n",
       "    </tr>\n",
       "    <tr>\n",
       "      <th>var14(t-1)</th>\n",
       "      <td>0.0000</td>\n",
       "      <td>0.0000</td>\n",
       "      <td>0.0000</td>\n",
       "      <td>0.0000</td>\n",
       "      <td>0.0000</td>\n",
       "    </tr>\n",
       "    <tr>\n",
       "      <th>var15(t-1)</th>\n",
       "      <td>0.0000</td>\n",
       "      <td>0.0000</td>\n",
       "      <td>0.0000</td>\n",
       "      <td>1.0000</td>\n",
       "      <td>1.0000</td>\n",
       "    </tr>\n",
       "    <tr>\n",
       "      <th>var16(t-1)</th>\n",
       "      <td>0.0000</td>\n",
       "      <td>0.0000</td>\n",
       "      <td>1.0000</td>\n",
       "      <td>0.0000</td>\n",
       "      <td>0.0000</td>\n",
       "    </tr>\n",
       "    <tr>\n",
       "      <th>var17(t-1)</th>\n",
       "      <td>0.0000</td>\n",
       "      <td>1.0000</td>\n",
       "      <td>0.0000</td>\n",
       "      <td>0.0000</td>\n",
       "      <td>0.0000</td>\n",
       "    </tr>\n",
       "    <tr>\n",
       "      <th>var18(t-1)</th>\n",
       "      <td>1.0000</td>\n",
       "      <td>0.0000</td>\n",
       "      <td>0.0000</td>\n",
       "      <td>0.0000</td>\n",
       "      <td>0.0000</td>\n",
       "    </tr>\n",
       "    <tr>\n",
       "      <th>var1(t)</th>\n",
       "      <td>23.9000</td>\n",
       "      <td>24.0000</td>\n",
       "      <td>23.8000</td>\n",
       "      <td>23.4000</td>\n",
       "      <td>23.6000</td>\n",
       "    </tr>\n",
       "  </tbody>\n",
       "</table>\n",
       "</div>"
      ],
      "text/plain": [
       "                  1        2        3        4        5\n",
       "var1(t-1)   23.8000  23.9000  24.0000  23.8000  23.4000\n",
       "var2(t-1)    2.0000   3.0000   4.0000   5.0000   6.0000\n",
       "var3(t-1)    0.2414   0.2414   0.2414   0.2414   0.2414\n",
       "var4(t-1)    0.4096   0.4096   0.4096   0.4096   0.4096\n",
       "var5(t-1)   92.0000  92.0000  94.0000  95.0000  96.0000\n",
       "var6(t-1)    0.0000   0.0000   0.0000   0.0000   0.0000\n",
       "var7(t-1)   87.7200  87.7000  87.6900  87.7000  87.7400\n",
       "var8(t-1)    0.0000   0.0000   0.0000   0.0000   0.1200\n",
       "var9(t-1)   19.5300  19.2700  18.4700  17.9500  17.5400\n",
       "var10(t-1)   0.5700   0.4300   0.6600   0.5000   0.4500\n",
       "var11(t-1)   0.0000   0.0000   0.0000   0.0000   0.0000\n",
       "var12(t-1)   0.0000   0.0000   0.0000   0.0000   0.0000\n",
       "var13(t-1)   0.0000   0.0000   0.0000   0.0000   0.0000\n",
       "var14(t-1)   0.0000   0.0000   0.0000   0.0000   0.0000\n",
       "var15(t-1)   0.0000   0.0000   0.0000   1.0000   1.0000\n",
       "var16(t-1)   0.0000   0.0000   1.0000   0.0000   0.0000\n",
       "var17(t-1)   0.0000   1.0000   0.0000   0.0000   0.0000\n",
       "var18(t-1)   1.0000   0.0000   0.0000   0.0000   0.0000\n",
       "var1(t)     23.9000  24.0000  23.8000  23.4000  23.6000"
      ]
     },
     "execution_count": 270,
     "metadata": {},
     "output_type": "execute_result"
    }
   ],
   "source": [
    "transformed_validation_data = generate_multivariate_dataset_in_format_lstm_can_ingest(validation_data, timesteps, number_of_outputs)\n",
    "\n",
    "if sensor_type == 0:\n",
    "    transformed_validation_data.drop(transformed_validation_data.columns[[20,22,23, 24,25, 26,27, 28,29, 30,31,32,33, 34,35, 36,37,38,39,]], axis=1, inplace=True)\n",
    "    print(transformed_validation_data.columns)\n",
    "elif sensor_type == 1:\n",
    "    transformed_validation_data.drop(transformed_validation_data.columns[[20,21,22,23, 24,25, 26,27, 28,29, 30,31,32,33, 34,35, 36,37]], axis=1, inplace=True)\n",
    "    print(transformed_validation_data.columns)\n",
    "elif sensor_type == 2:\n",
    "    transformed_validation_data.drop(transformed_validation_data.columns[[19,20,21,22,23, 24,25, 26,27, 28,29, 30,31,32,33, 34,35]], axis=1, inplace=True)\n",
    "    print(transformed_validation_data.columns)\n",
    "\n",
    "##convert dataframe to array form\n",
    "transformed_validation_data_values = transformed_validation_data.values\n",
    "validation_features = transformed_validation_data_values[:, :-1]\n",
    "validation_targets =  transformed_validation_data_values[:, -1]\n",
    "scaled_validation_features_original = scaler.fit_transform(validation_features)\n",
    "# reshape validation features to [samples, time steps, features]\n",
    "scaled_validation_features = np.reshape(scaled_validation_features_original, \n",
    "                                      (scaled_validation_features_original.shape[0], timesteps, scaled_validation_features_original.shape[1]))\n",
    "\n",
    "print(scaled_validation_features.shape, validation_targets.shape, scaled_validation_features_original.shape )\n",
    "transformed_validation_data.head().T\n"
   ]
  },
  {
   "cell_type": "markdown",
   "metadata": {
    "colab_type": "text",
    "id": "DNtoE6H22XHl"
   },
   "source": [
    "### Testing dataset"
   ]
  },
  {
   "cell_type": "code",
   "execution_count": 271,
   "metadata": {},
   "outputs": [
    {
     "name": "stdout",
     "output_type": "stream",
     "text": [
      "Index(['var1(t-1)', 'var2(t-1)', 'var3(t-1)', 'var4(t-1)', 'var5(t-1)',\n",
      "       'var6(t-1)', 'var7(t-1)', 'var8(t-1)', 'var9(t-1)', 'var10(t-1)',\n",
      "       'var11(t-1)', 'var12(t-1)', 'var13(t-1)', 'var14(t-1)', 'var15(t-1)',\n",
      "       'var16(t-1)', 'var17(t-1)', 'var18(t-1)', 'var1(t)'],\n",
      "      dtype='object')\n",
      "(1485, 1, 18) (1485,) (1485, 18)\n"
     ]
    },
    {
     "data": {
      "text/html": [
       "<div>\n",
       "<style scoped>\n",
       "    .dataframe tbody tr th:only-of-type {\n",
       "        vertical-align: middle;\n",
       "    }\n",
       "\n",
       "    .dataframe tbody tr th {\n",
       "        vertical-align: top;\n",
       "    }\n",
       "\n",
       "    .dataframe thead th {\n",
       "        text-align: right;\n",
       "    }\n",
       "</style>\n",
       "<table border=\"1\" class=\"dataframe\">\n",
       "  <thead>\n",
       "    <tr style=\"text-align: right;\">\n",
       "      <th></th>\n",
       "      <th>1</th>\n",
       "      <th>2</th>\n",
       "      <th>3</th>\n",
       "      <th>4</th>\n",
       "      <th>5</th>\n",
       "    </tr>\n",
       "  </thead>\n",
       "  <tbody>\n",
       "    <tr>\n",
       "      <th>var1(t-1)</th>\n",
       "      <td>38.0000</td>\n",
       "      <td>33.0000</td>\n",
       "      <td>33.0000</td>\n",
       "      <td>41.0000</td>\n",
       "      <td>42.0000</td>\n",
       "    </tr>\n",
       "    <tr>\n",
       "      <th>var2(t-1)</th>\n",
       "      <td>15.0000</td>\n",
       "      <td>16.0000</td>\n",
       "      <td>17.0000</td>\n",
       "      <td>18.0000</td>\n",
       "      <td>19.0000</td>\n",
       "    </tr>\n",
       "    <tr>\n",
       "      <th>var3(t-1)</th>\n",
       "      <td>0.1877</td>\n",
       "      <td>0.1877</td>\n",
       "      <td>0.1877</td>\n",
       "      <td>0.1877</td>\n",
       "      <td>0.1877</td>\n",
       "    </tr>\n",
       "    <tr>\n",
       "      <th>var4(t-1)</th>\n",
       "      <td>0.3720</td>\n",
       "      <td>0.3720</td>\n",
       "      <td>0.3720</td>\n",
       "      <td>0.3720</td>\n",
       "      <td>0.3720</td>\n",
       "    </tr>\n",
       "    <tr>\n",
       "      <th>var5(t-1)</th>\n",
       "      <td>55.0000</td>\n",
       "      <td>59.0000</td>\n",
       "      <td>65.0000</td>\n",
       "      <td>77.0000</td>\n",
       "      <td>82.0000</td>\n",
       "    </tr>\n",
       "    <tr>\n",
       "      <th>var6(t-1)</th>\n",
       "      <td>0.0000</td>\n",
       "      <td>0.0000</td>\n",
       "      <td>0.0000</td>\n",
       "      <td>0.0000</td>\n",
       "      <td>0.0000</td>\n",
       "    </tr>\n",
       "    <tr>\n",
       "      <th>var7(t-1)</th>\n",
       "      <td>87.8300</td>\n",
       "      <td>87.7800</td>\n",
       "      <td>87.7900</td>\n",
       "      <td>87.8000</td>\n",
       "      <td>87.8000</td>\n",
       "    </tr>\n",
       "    <tr>\n",
       "      <th>var8(t-1)</th>\n",
       "      <td>672.9600</td>\n",
       "      <td>466.7500</td>\n",
       "      <td>59.0700</td>\n",
       "      <td>21.5300</td>\n",
       "      <td>0.1700</td>\n",
       "    </tr>\n",
       "    <tr>\n",
       "      <th>var9(t-1)</th>\n",
       "      <td>27.9600</td>\n",
       "      <td>27.2400</td>\n",
       "      <td>24.8300</td>\n",
       "      <td>22.8300</td>\n",
       "      <td>21.8000</td>\n",
       "    </tr>\n",
       "    <tr>\n",
       "      <th>var10(t-1)</th>\n",
       "      <td>1.3800</td>\n",
       "      <td>1.3100</td>\n",
       "      <td>1.1100</td>\n",
       "      <td>0.7000</td>\n",
       "      <td>0.4300</td>\n",
       "    </tr>\n",
       "    <tr>\n",
       "      <th>var11(t-1)</th>\n",
       "      <td>0.0000</td>\n",
       "      <td>0.0000</td>\n",
       "      <td>0.0000</td>\n",
       "      <td>0.0000</td>\n",
       "      <td>0.0000</td>\n",
       "    </tr>\n",
       "    <tr>\n",
       "      <th>var12(t-1)</th>\n",
       "      <td>0.0000</td>\n",
       "      <td>0.0000</td>\n",
       "      <td>0.0000</td>\n",
       "      <td>0.0000</td>\n",
       "      <td>0.0000</td>\n",
       "    </tr>\n",
       "    <tr>\n",
       "      <th>var13(t-1)</th>\n",
       "      <td>0.0000</td>\n",
       "      <td>0.0000</td>\n",
       "      <td>0.0000</td>\n",
       "      <td>0.0000</td>\n",
       "      <td>0.0000</td>\n",
       "    </tr>\n",
       "    <tr>\n",
       "      <th>var14(t-1)</th>\n",
       "      <td>0.0000</td>\n",
       "      <td>0.0000</td>\n",
       "      <td>0.0000</td>\n",
       "      <td>0.0000</td>\n",
       "      <td>0.0000</td>\n",
       "    </tr>\n",
       "    <tr>\n",
       "      <th>var15(t-1)</th>\n",
       "      <td>1.0000</td>\n",
       "      <td>1.0000</td>\n",
       "      <td>1.0000</td>\n",
       "      <td>1.0000</td>\n",
       "      <td>0.0000</td>\n",
       "    </tr>\n",
       "    <tr>\n",
       "      <th>var16(t-1)</th>\n",
       "      <td>0.0000</td>\n",
       "      <td>0.0000</td>\n",
       "      <td>0.0000</td>\n",
       "      <td>0.0000</td>\n",
       "      <td>0.0000</td>\n",
       "    </tr>\n",
       "    <tr>\n",
       "      <th>var17(t-1)</th>\n",
       "      <td>0.0000</td>\n",
       "      <td>0.0000</td>\n",
       "      <td>0.0000</td>\n",
       "      <td>0.0000</td>\n",
       "      <td>0.0000</td>\n",
       "    </tr>\n",
       "    <tr>\n",
       "      <th>var18(t-1)</th>\n",
       "      <td>0.0000</td>\n",
       "      <td>0.0000</td>\n",
       "      <td>0.0000</td>\n",
       "      <td>0.0000</td>\n",
       "      <td>1.0000</td>\n",
       "    </tr>\n",
       "    <tr>\n",
       "      <th>var1(t)</th>\n",
       "      <td>33.0000</td>\n",
       "      <td>33.0000</td>\n",
       "      <td>41.0000</td>\n",
       "      <td>42.0000</td>\n",
       "      <td>49.0000</td>\n",
       "    </tr>\n",
       "  </tbody>\n",
       "</table>\n",
       "</div>"
      ],
      "text/plain": [
       "                   1         2        3        4        5\n",
       "var1(t-1)    38.0000   33.0000  33.0000  41.0000  42.0000\n",
       "var2(t-1)    15.0000   16.0000  17.0000  18.0000  19.0000\n",
       "var3(t-1)     0.1877    0.1877   0.1877   0.1877   0.1877\n",
       "var4(t-1)     0.3720    0.3720   0.3720   0.3720   0.3720\n",
       "var5(t-1)    55.0000   59.0000  65.0000  77.0000  82.0000\n",
       "var6(t-1)     0.0000    0.0000   0.0000   0.0000   0.0000\n",
       "var7(t-1)    87.8300   87.7800  87.7900  87.8000  87.8000\n",
       "var8(t-1)   672.9600  466.7500  59.0700  21.5300   0.1700\n",
       "var9(t-1)    27.9600   27.2400  24.8300  22.8300  21.8000\n",
       "var10(t-1)    1.3800    1.3100   1.1100   0.7000   0.4300\n",
       "var11(t-1)    0.0000    0.0000   0.0000   0.0000   0.0000\n",
       "var12(t-1)    0.0000    0.0000   0.0000   0.0000   0.0000\n",
       "var13(t-1)    0.0000    0.0000   0.0000   0.0000   0.0000\n",
       "var14(t-1)    0.0000    0.0000   0.0000   0.0000   0.0000\n",
       "var15(t-1)    1.0000    1.0000   1.0000   1.0000   0.0000\n",
       "var16(t-1)    0.0000    0.0000   0.0000   0.0000   0.0000\n",
       "var17(t-1)    0.0000    0.0000   0.0000   0.0000   0.0000\n",
       "var18(t-1)    0.0000    0.0000   0.0000   0.0000   1.0000\n",
       "var1(t)      33.0000   33.0000  41.0000  42.0000  49.0000"
      ]
     },
     "execution_count": 271,
     "metadata": {},
     "output_type": "execute_result"
    }
   ],
   "source": [
    "transformed_testing_data = generate_multivariate_dataset_in_format_lstm_can_ingest(testing_data,\n",
    "                                                                                   timesteps, number_of_outputs)\n",
    "\n",
    "if sensor_type == 0:\n",
    "    transformed_testing_data.drop(transformed_testing_data.columns[[20,22,23, 24,25, 26,27, 28,29, 30,31,32,33, 34,35, 36,37,38,39,]], axis=1, inplace=True)\n",
    "elif sensor_type == 1:\n",
    "    transformed_testing_data.drop(transformed_testing_data.columns[[20,21,22,23, 24,25, 26,27, 28,29, 30,31,32,33, 34,35, 36,37]], axis=1, inplace=True)\n",
    "elif sensor_type == 2:\n",
    "    transformed_testing_data.drop(transformed_testing_data.columns[[19,20,21,22,23, 24,25, 26,27, 28,29, 30,31,32,33, 34,35]], axis=1, inplace=True)\n",
    "\n",
    "print(transformed_testing_data.columns)\n",
    "\n",
    "transformed_testing_data_values = transformed_testing_data.values\n",
    "testing_features =  transformed_testing_data_values[:, :-1]\n",
    "testing_targets =  transformed_testing_data_values[:, -1]\n",
    "\n",
    "test_scaler = MinMaxScaler()\n",
    "scaled_testing_features_original = test_scaler.fit_transform(testing_features)\n",
    "# reshape testing features to [samples, timesteps, features]\n",
    "scaled_testing_features = np.reshape(scaled_testing_features_original, \n",
    "                                      (scaled_testing_features_original.shape[0], timesteps, scaled_testing_features_original.shape[1]))\n",
    "\n",
    "print(scaled_testing_features.shape, testing_targets.shape, scaled_testing_features_original.shape )\n",
    "transformed_testing_data.head().T"
   ]
  },
  {
   "cell_type": "markdown",
   "metadata": {
    "colab_type": "text",
    "id": "2NYYNr3J2XH5"
   },
   "source": [
    "### SUPPORT VECTOR REGRESSION APPROACH\n",
    "- Training and evaluation on support vector regression approach"
   ]
  },
  {
   "cell_type": "code",
   "execution_count": 272,
   "metadata": {
    "colab": {},
    "colab_type": "code",
    "id": "S0qt0M402XH6"
   },
   "outputs": [
    {
     "name": "stderr",
     "output_type": "stream",
     "text": [
      "C:\\Users\\DELL\\Anaconda3\\envs\\airquality_prediction\\lib\\site-packages\\sklearn\\svm\\base.py:196: FutureWarning: The default value of gamma will change from 'auto' to 'scale' in version 0.22 to account better for unscaled features. Set gamma explicitly to 'auto' or 'scale' to avoid this warning.\n",
      "  \"avoid this warning.\", FutureWarning)\n"
     ]
    },
    {
     "name": "stdout",
     "output_type": "stream",
     "text": [
      "(1485,)\n",
      "[ 28.12098307  27.03848557  42.27805007 ...  73.23019015 104.49140574\n",
      " 123.5314899 ]\n"
     ]
    }
   ],
   "source": [
    "from sklearn.svm import SVR\n",
    "svr = SVR(kernel='rbf', degree=3, C=100, epsilon=0.1)\n",
    "# fit the model by fitting the SVM regressor to the training data\n",
    "svr.fit(scaled_training_features_original,training_targets.ravel())\n",
    "svr_predictions = svr.predict(scaled_testing_features_original)\n",
    "print(svr_predictions.shape)\n",
    "print(svr_predictions)"
   ]
  },
  {
   "cell_type": "code",
   "execution_count": 273,
   "metadata": {},
   "outputs": [
    {
     "data": {
      "text/plain": [
       "(1485, 1)"
      ]
     },
     "execution_count": 273,
     "metadata": {},
     "output_type": "execute_result"
    }
   ],
   "source": [
    "svr_predictions = svr_predictions.reshape(-1, 1)\n",
    "svr_predictions.shape"
   ]
  },
  {
   "cell_type": "code",
   "execution_count": 274,
   "metadata": {},
   "outputs": [
    {
     "data": {
      "text/plain": [
       "(1485, 18)"
      ]
     },
     "execution_count": 274,
     "metadata": {},
     "output_type": "execute_result"
    }
   ],
   "source": [
    "scaled_testing_features_original.shape"
   ]
  },
  {
   "cell_type": "markdown",
   "metadata": {},
   "source": [
    "### inverting the predictions and actual values from standardized form"
   ]
  },
  {
   "cell_type": "raw",
   "metadata": {},
   "source": [
    "svr_testing_predictions_unscaled = scaler.inverse_transform(svr_predictions)\n",
    "#print(testing_data_unscaled.shape)\n",
    "#restored_original_scaled_testing_data_shape.shape\n",
    "#testing_targets_unscaled[0:5]"
   ]
  },
  {
   "cell_type": "raw",
   "metadata": {},
   "source": [
    "svr_testing_predictions_unscaled.ravel()\n",
    "testing_targets.ravel()"
   ]
  },
  {
   "cell_type": "code",
   "execution_count": 275,
   "metadata": {},
   "outputs": [
    {
     "data": {
      "text/plain": [
       "array([ 28.12098307,  27.03848557,  42.27805007, ...,  73.23019015,\n",
       "       104.49140574, 123.5314899 ])"
      ]
     },
     "execution_count": 275,
     "metadata": {},
     "output_type": "execute_result"
    }
   ],
   "source": [
    "svr_predictions.ravel()"
   ]
  },
  {
   "cell_type": "code",
   "execution_count": 276,
   "metadata": {
    "colab": {},
    "colab_type": "code",
    "id": "G0ZZNqj72XH-"
   },
   "outputs": [
    {
     "name": "stdout",
     "output_type": "stream",
     "text": [
      "SVR MAE:  21.75\n",
      "SVR RMSE:  30.53\n"
     ]
    }
   ],
   "source": [
    "#svr_testing_predictions_unscaled = scaler.inverse_transform(svr_predictions)\n",
    "svr_mae = mean_absolute_error(testing_targets, svr_predictions)\n",
    "print('SVR MAE: ', svr_mae.round(2))\n",
    "svr_rmse = calculate_rmse(testing_targets, svr_predictions)\n",
    "print('SVR RMSE: ', svr_rmse.round(2))\n",
    "svr_prediction_vs_actual_dataframe = pd.DataFrame({'Actual PM2.5': testing_targets.ravel(), 'Predicted PM2.5':svr_predictions.ravel()}) \n",
    "svr_prediction_vs_actual_dataframe\n",
    "\n",
    "## save predictions by svr\n",
    "svr_prediction_vs_actual_dataframe.to_csv(os.path.join(filepath , 'svr_predictions.csv'))"
   ]
  },
  {
   "cell_type": "code",
   "execution_count": 277,
   "metadata": {},
   "outputs": [
    {
     "data": {
      "image/png": "[encoded data removed]",
      "text/plain": [
       "<Figure size 864x432 with 1 Axes>"
      ]
     },
     "metadata": {
      "needs_background": "light"
     },
     "output_type": "display_data"
    }
   ],
   "source": [
    "fig_svr_predictions_vs_actual = plt.figure(figsize=(12,6))\n",
    "ax_fig_svr_predictions_vs_actual = fig_svr_predictions_vs_actual.add_subplot(111)\n",
    "plt.plot(testing_targets, color = 'red', label = 'Actual PM2.5 Values')\n",
    "plt.plot(svr_predictions, color = 'blue', label = 'Predicted PM2.5 Values')\n",
    "plt.title('Predicted PM2.5  Vs Actual PM2.5 ')\n",
    "plt.xlabel('PM2.5 Records')\n",
    "plt.ylabel('PM2.5 Values')\n",
    "plt.legend()\n",
    "plt.tight_layout()\n",
    "fig_svr_predictions_vs_actual.savefig(os.path.join(filepath, 'svr_model_prediction_vs_actual.png'))"
   ]
  },
  {
   "cell_type": "markdown",
   "metadata": {},
   "source": [
    "## Gaussian Process Model"
   ]
  },
  {
   "cell_type": "code",
   "execution_count": 278,
   "metadata": {},
   "outputs": [
    {
     "name": "stdout",
     "output_type": "stream",
     "text": [
      "(1485, 1)\n",
      "-4.386853637238136\n"
     ]
    }
   ],
   "source": [
    "from sklearn.gaussian_process import GaussianProcessRegressor\n",
    "from sklearn.gaussian_process.kernels import ConstantKernel, RBF\n",
    "\n",
    "#kernel =   RBF(length_scale=1.0)\n",
    "gp = GaussianProcessRegressor(kernel=RBF(1))\n",
    "\n",
    "gp.fit(scaled_training_features_original,training_targets.reshape(-1,1))\n",
    "\n",
    "gp_predictions, sigma = gp.predict(scaled_testing_features_original, return_std=True)\n",
    "\n",
    "print(gp_predictions.shape)\n",
    "\n",
    "gp_regression_score = gp.score(scaled_testing_features_original, testing_targets)\n",
    "print(gp_regression_score)"
   ]
  },
  {
   "cell_type": "code",
   "execution_count": 279,
   "metadata": {},
   "outputs": [
    {
     "name": "stdout",
     "output_type": "stream",
     "text": [
      "GP MAE:  66.02\n",
      "GP RMSE:  73.16\n"
     ]
    },
    {
     "data": {
      "image/png": "[encoded data removed]",
      "text/plain": [
       "<Figure size 864x432 with 1 Axes>"
      ]
     },
     "metadata": {
      "needs_background": "light"
     },
     "output_type": "display_data"
    }
   ],
   "source": [
    "#gp_testing_predictions_unscaled = scaler.inverse_transform(gp_predictions)\n",
    "gp_mae = mean_absolute_error(testing_targets, gp_predictions)\n",
    "print('GP MAE: ', gp_mae.round(2))\n",
    "gp_rmse = calculate_rmse(testing_targets, gp_predictions)\n",
    "print('GP RMSE: ', gp_rmse.round(2))\n",
    "gp_prediction_vs_actual_dataframe = pd.DataFrame({'Actual PM2.5': testing_targets.ravel(), 'Predicted PM2.5':gp_predictions.ravel()}) \n",
    "gp_prediction_vs_actual_dataframe\n",
    "\n",
    "## save predictions by gp\n",
    "gp_prediction_vs_actual_dataframe.to_csv(os.path.join(filepath , 'gp_predictions.csv'))\n",
    "\n",
    "fig_gp_predictions_vs_actual = plt.figure(figsize=(12,6))\n",
    "ax_fig_gp_predictions_vs_actual = fig_gp_predictions_vs_actual.add_subplot(111)\n",
    "plt.plot(testing_targets, color = 'red', label = 'Actual PM2.5 Values')\n",
    "plt.plot(gp_predictions, color = 'blue', label = 'Predicted PM2.5 Values')\n",
    "plt.title('Predicted PM2.5 Vs Actual PM2.5 ')\n",
    "plt.xlabel('PM2.5 Records')\n",
    "plt.ylabel('PM2.5 Values')\n",
    "plt.legend()\n",
    "fig_gp_predictions_vs_actual.savefig(os.path.join(filepath, 'gp_model_prediction_vs_actual.png'))\n",
    "\n",
    "with open(os.path.join(filepath, \"results_summary_gaussian_process_model.txt\"), \"w+\") as text_file:\n",
    "        print(\"GP RMSE: {} \\n GP MAE: {}\"\n",
    "              .format(gp_rmse.round(2), gp_mae.round(2)), file=text_file)"
   ]
  },
  {
   "cell_type": "markdown",
   "metadata": {
    "colab_type": "text",
    "id": "NWJELt102XID"
   },
   "source": [
    "### BASIC LSTM MODOEL\n",
    "- Training and evaluating on basic lstm model with one layer"
   ]
  },
  {
   "cell_type": "code",
   "execution_count": 27,
   "metadata": {},
   "outputs": [
    {
     "data": {
      "text/plain": [
       "(1, 20)"
      ]
     },
     "execution_count": 27,
     "metadata": {},
     "output_type": "execute_result"
    }
   ],
   "source": [
    "scaled_training_features.shape[1], scaled_training_features.shape[2]"
   ]
  },
  {
   "cell_type": "code",
   "execution_count": 28,
   "metadata": {
    "colab": {},
    "colab_type": "code",
    "id": "LUzooi-O2XIE"
   },
   "outputs": [
    {
     "name": "stdout",
     "output_type": "stream",
     "text": [
      "Train on 8738 samples, validate on 1247 samples\n",
      "Epoch 1/50\n",
      "8738/8738 [==============================] - 5s 518us/step - loss: 1351.4629 - mean_absolute_error: 16.4738 - rmse: 30.8796 - val_loss: 177.0523 - val_mean_absolute_error: 11.1064 - val_rmse: 12.6822\n",
      "Epoch 2/50\n",
      "8738/8738 [==============================] - 1s 131us/step - loss: 1166.1915 - mean_absolute_error: 15.8456 - rmse: 28.4457 - val_loss: 184.2330 - val_mean_absolute_error: 11.6041 - val_rmse: 12.9925\n",
      "Epoch 3/50\n",
      "8738/8738 [==============================] - 1s 123us/step - loss: 1085.6334 - mean_absolute_error: 14.5368 - rmse: 27.2279 - val_loss: 170.4008 - val_mean_absolute_error: 11.6368 - val_rmse: 12.6862\n",
      "Epoch 4/50\n",
      "8738/8738 [==============================] - 1s 142us/step - loss: 955.0975 - mean_absolute_error: 12.6194 - rmse: 24.8993 - val_loss: 244.0114 - val_mean_absolute_error: 14.4599 - val_rmse: 15.5384\n",
      "Epoch 5/50\n",
      "8738/8738 [==============================] - 1s 128us/step - loss: 823.7255 - mean_absolute_error: 10.6526 - rmse: 22.3852 - val_loss: 458.5732 - val_mean_absolute_error: 19.9999 - val_rmse: 21.2656\n",
      "Epoch 6/50\n",
      "8738/8738 [==============================] - 1s 126us/step - loss: 713.5887 - mean_absolute_error: 8.8585 - rmse: 20.0289 - val_loss: 806.2397 - val_mean_absolute_error: 26.3786 - val_rmse: 28.0282\n",
      "Epoch 7/50\n",
      "8738/8738 [==============================] - 1s 119us/step - loss: 634.5666 - mean_absolute_error: 7.4781 - rmse: 17.9710 - val_loss: 1159.5297 - val_mean_absolute_error: 31.1876 - val_rmse: 33.4548\n",
      "Epoch 8/50\n",
      "8738/8738 [==============================] - 1s 125us/step - loss: 583.1636 - mean_absolute_error: 6.7508 - rmse: 17.1662 - val_loss: 1443.5633 - val_mean_absolute_error: 34.1379 - val_rmse: 37.1716\n",
      "Epoch 9/50\n",
      "8738/8738 [==============================] - 1s 127us/step - loss: 548.2845 - mean_absolute_error: 6.5427 - rmse: 16.4349 - val_loss: 1621.4385 - val_mean_absolute_error: 35.3566 - val_rmse: 39.2169\n",
      "Epoch 10/50\n",
      "8738/8738 [==============================] - 1s 136us/step - loss: 520.7516 - mean_absolute_error: 6.2711 - rmse: 16.3478 - val_loss: 1854.2957 - val_mean_absolute_error: 37.7617 - val_rmse: 41.9045\n",
      "Epoch 11/50\n",
      "8738/8738 [==============================] - 1s 128us/step - loss: 496.8437 - mean_absolute_error: 6.1683 - rmse: 15.8975 - val_loss: 1859.9356 - val_mean_absolute_error: 36.5985 - val_rmse: 41.7417\n",
      "Epoch 12/50\n",
      "8738/8738 [==============================] - 1s 136us/step - loss: 475.4053 - mean_absolute_error: 6.0018 - rmse: 15.4763 - val_loss: 1917.0993 - val_mean_absolute_error: 36.5878 - val_rmse: 42.2661\n",
      "Epoch 13/50\n",
      "8738/8738 [==============================] - 1s 135us/step - loss: 456.0395 - mean_absolute_error: 5.8774 - rmse: 15.0449 - val_loss: 1991.5539 - val_mean_absolute_error: 37.0703 - val_rmse: 43.0190\n"
     ]
    }
   ],
   "source": [
    "from tensorflow.keras.models import Sequential, load_model\n",
    "from tensorflow.keras.layers import Dense, LSTM\n",
    "from tensorflow.keras.optimizers import RMSprop\n",
    "from tensorflow.keras import backend\n",
    "from tensorflow.keras.utils import plot_model\n",
    "from tensorflow.keras.callbacks import EarlyStopping, ModelCheckpoint\n",
    "#from keras.models import load_model\n",
    "\n",
    "def rmse(y_true, y_pred):\n",
    "    return backend.sqrt(backend.mean(backend.square(y_pred - y_true)))\n",
    "\n",
    "def root_mean_squared_error(y_true, y_pred):\n",
    "        return backend.sqrt(backend.mean(backend.square(y_pred - y_true)))\n",
    "\n",
    "model = Sequential()\n",
    "model.add(LSTM(100, input_shape = (scaled_training_features.shape[1], scaled_training_features.shape[2]))) #timesteps, seq_length(no of features)\n",
    "model.add(Dense(1))\n",
    "\n",
    "callbacks_list = [\n",
    "    EarlyStopping(  # interrupts training when improvement stops \n",
    "        monitor='val_loss', \n",
    "        patience=10, \n",
    "        mode='min'), \n",
    "    \n",
    "   ModelCheckpoint( #saves the current weights after every epock\n",
    "        filepath=os.path.join(filepath, 'basic_lstm_model.h5'),\n",
    "        monitor='val_loss',save_best_only=True) # these 2 arguments mean , you won't overwrite the model file unless val_loss has improved which  allows you to keep the best model seen during training.\n",
    "]\n",
    "\n",
    "model.compile(optimizer='adam', loss='mse', metrics = ['mean_absolute_error', rmse])\n",
    "basic_model_history = model.fit(scaled_training_features, training_targets, epochs=50,\n",
    "                                validation_data=(scaled_validation_features, validation_targets),\n",
    "                               callbacks=callbacks_list)"
   ]
  },
  {
   "cell_type": "code",
   "execution_count": 29,
   "metadata": {
    "colab": {},
    "colab_type": "code",
    "id": "YEwyHV1o2XIK"
   },
   "outputs": [
    {
     "name": "stdout",
     "output_type": "stream",
     "text": [
      "_________________________________________________________________\n",
      "Layer (type)                 Output Shape              Param #   \n",
      "=================================================================\n",
      "lstm (LSTM)                  (None, 100)               48400     \n",
      "_________________________________________________________________\n",
      "dense (Dense)                (None, 1)                 101       \n",
      "=================================================================\n",
      "Total params: 48,501\n",
      "Trainable params: 48,501\n",
      "Non-trainable params: 0\n",
      "_________________________________________________________________\n"
     ]
    }
   ],
   "source": [
    "model.summary()"
   ]
  },
  {
   "cell_type": "code",
   "execution_count": 30,
   "metadata": {
    "colab": {},
    "colab_type": "code",
    "id": "PZL3AsR92XIR"
   },
   "outputs": [],
   "source": [
    "basic_model_architecture_path = os.path.join(filepath, 'basic_model_plot.png')\n",
    "plot_model(model, to_file=basic_model_architecture_path, show_shapes=False, show_layer_names=False)"
   ]
  },
  {
   "cell_type": "code",
   "execution_count": 31,
   "metadata": {
    "colab": {},
    "colab_type": "code",
    "id": "uL8eqrcs2XIa",
    "scrolled": true
   },
   "outputs": [
    {
     "data": {
      "image/png": "[encoded data removed]",
      "text/plain": [
       "<Figure size 432x288 with 1 Axes>"
      ]
     },
     "metadata": {
      "needs_background": "light"
     },
     "output_type": "display_data"
    }
   ],
   "source": [
    "loss = basic_model_history.history['loss']\n",
    "val_loss = basic_model_history.history['val_loss']\n",
    "\n",
    "epochs = range(len(loss))\n",
    "#figsize=(12,6)\n",
    "fig = plt.figure()\n",
    "ax = fig.add_subplot(111)\n",
    "\n",
    "plt.plot(epochs, loss, 'bo', label='Training loss')\n",
    "plt.plot(epochs, val_loss, 'r', label='Validation loss')\n",
    "plt.title('Training and validation loss')\n",
    "plt.xlabel('Epochs')\n",
    "plt.ylabel('Loss')\n",
    "plt.legend()\n",
    "plt.tight_layout()\n",
    "plt.show()\n",
    "\n",
    "fig.savefig(os.path.join(filepath, 'basic_model_history_training_validation_loss.png'))"
   ]
  },
  {
   "cell_type": "code",
   "execution_count": 32,
   "metadata": {
    "colab": {},
    "colab_type": "code",
    "id": "lsH0QO0v2XId"
   },
   "outputs": [
    {
     "name": "stdout",
     "output_type": "stream",
     "text": [
      "2\n"
     ]
    }
   ],
   "source": [
    "print(np.argmin(val_loss))\n",
    "#val_loss[70]"
   ]
  },
  {
   "cell_type": "code",
   "execution_count": 33,
   "metadata": {
    "colab": {},
    "colab_type": "code",
    "id": "EDgTEYNe2XIg"
   },
   "outputs": [
    {
     "data": {
      "image/png": "[encoded data removed]",
      "text/plain": [
       "<Figure size 432x288 with 1 Axes>"
      ]
     },
     "metadata": {
      "needs_background": "light"
     },
     "output_type": "display_data"
    }
   ],
   "source": [
    "hist_rmse = basic_model_history.history['rmse']\n",
    "val_rmse = basic_model_history.history['val_rmse']\n",
    "epochs = range(len(hist_rmse))\n",
    "fig_rmse = plt.figure()\n",
    "ax_rmse= fig_rmse.add_subplot(111)\n",
    "\n",
    "plt.plot(epochs, hist_rmse, 'bo', label='Training Root Mean Square Error')\n",
    "plt.plot(epochs, val_rmse, 'r', label='Validation Root Mean Square Error')\n",
    "plt.title('Training and Validation Root Mean Square Error')\n",
    "plt.xlabel('Epochs')\n",
    "plt.ylabel('RMSE')\n",
    "plt.legend()\n",
    "plt.tight_layout()\n",
    "plt.show()\n",
    "fig_rmse.savefig(os.path.join(filepath, 'basic_model_history_training_validation_RMSE.png'))"
   ]
  },
  {
   "cell_type": "code",
   "execution_count": 34,
   "metadata": {
    "colab": {},
    "colab_type": "code",
    "id": "vSw3rqR92XIk"
   },
   "outputs": [
    {
     "data": {
      "image/png": "[encoded data removed]",
      "text/plain": [
       "<Figure size 432x288 with 1 Axes>"
      ]
     },
     "metadata": {
      "needs_background": "light"
     },
     "output_type": "display_data"
    }
   ],
   "source": [
    "mae = basic_model_history.history['mean_absolute_error']\n",
    "val_mae = basic_model_history.history['val_mean_absolute_error']\n",
    "epochs = range(len(mae))\n",
    "\n",
    "fig_mae = plt.figure()\n",
    "ax_mae = fig_mae.add_subplot(111)\n",
    "\n",
    "plt.plot(epochs, mae, 'bo', label='Training Mean Absolute Error')\n",
    "plt.plot(epochs, val_mae, 'r', label='Validation Mean Absolute Error')\n",
    "plt.title('Training and Validation Mean Absolute Error')\n",
    "plt.xlabel('Epochs')\n",
    "plt.ylabel('MAE')\n",
    "plt.tight_layout()\n",
    "plt.legend()\n",
    "\n",
    "plt.show()\n",
    "fig_mae.savefig(os.path.join(filepath, 'basic_model_history_training_validation_mae.png'))"
   ]
  },
  {
   "cell_type": "code",
   "execution_count": 35,
   "metadata": {
    "colab": {},
    "colab_type": "code",
    "id": "_RR1f5UE2XIr"
   },
   "outputs": [
    {
     "name": "stdout",
     "output_type": "stream",
     "text": [
      "[1020.9616644360103, 13.503385707316504, 16.341064459564322]\n",
      "[122.3722324126806, 9.340374463643784, 10.467029180282202]\n"
     ]
    }
   ],
   "source": [
    "saved_model = load_model(os.path.join(filepath,'basic_lstm_model.h5'),  custom_objects={'rmse': rmse})\n",
    "\n",
    "basic_lstm_model_train_evaluation = saved_model.evaluate(scaled_training_features, training_targets, verbose=0)\n",
    "basic_lstm_model_test_evaluation = saved_model.evaluate(scaled_testing_features, testing_targets, verbose=0)\n",
    "print(basic_lstm_model_train_evaluation)\n",
    "print(basic_lstm_model_test_evaluation)"
   ]
  },
  {
   "cell_type": "code",
   "execution_count": 36,
   "metadata": {
    "colab": {},
    "colab_type": "code",
    "id": "_sYd1zZO2XI4"
   },
   "outputs": [
    {
     "name": "stdout",
     "output_type": "stream",
     "text": [
      "2496/2496 [==============================] - 0s 28us/step\n",
      "[122.3722324126806, 9.340374463643784, 10.467029180282202]\n",
      "['loss', 'mean_absolute_error', 'rmse']\n"
     ]
    }
   ],
   "source": [
    "basic_lstm_model_predictions = saved_model.predict(scaled_testing_features)\n",
    "basic_lstm_model_evaluation =  saved_model.evaluate(scaled_testing_features, testing_targets)\n",
    "print(basic_lstm_model_evaluation)\n",
    "print(saved_model.metrics_names)"
   ]
  },
  {
   "cell_type": "code",
   "execution_count": 37,
   "metadata": {},
   "outputs": [],
   "source": [
    "### converting targets and predictions to from scaled values"
   ]
  },
  {
   "cell_type": "raw",
   "metadata": {},
   "source": [
    "basic_lstm_testing_targets_unscaled = scaler.inverse_transform(scaled_testing_targets)\n",
    "basic_lstm_testing_predictions_unscaled = scaler.inverse_transform(basic_lstm_model_predictions)"
   ]
  },
  {
   "cell_type": "code",
   "execution_count": 38,
   "metadata": {},
   "outputs": [
    {
     "name": "stdout",
     "output_type": "stream",
     "text": [
      "BASIC LSTM RMSE:  11.06\n",
      "BASIC LSTM MAE:  9.34\n"
     ]
    }
   ],
   "source": [
    "basic_lstm_rmse = calculate_rmse(testing_targets, basic_lstm_model_predictions)\n",
    "basic_lstm_mae =  mean_absolute_error(testing_targets, basic_lstm_model_predictions)\n",
    "print('BASIC LSTM RMSE: ', basic_lstm_rmse.round(2))\n",
    "print('BASIC LSTM MAE: ', basic_lstm_mae.round(2))"
   ]
  },
  {
   "cell_type": "code",
   "execution_count": 39,
   "metadata": {},
   "outputs": [
    {
     "data": {
      "image/png": "[encoded data removed]",
      "text/plain": [
       "<Figure size 864x432 with 1 Axes>"
      ]
     },
     "metadata": {
      "needs_background": "light"
     },
     "output_type": "display_data"
    }
   ],
   "source": [
    "fig_basic_lstm_predictions_vs_actual = plt.figure(figsize=(12,6))\n",
    "ax_fig_basic_lstm_predictions_vs_actual = fig_basic_lstm_predictions_vs_actual.add_subplot(111)\n",
    "plt.plot(testing_targets, color = 'red', label = 'Actual PM2.5 Values')\n",
    "plt.plot(basic_lstm_model_predictions, color = 'blue', label = 'Predicted PM2.5 Values')\n",
    "plt.title('Predicted PM2.5  Vs Actual PM2.5 ')\n",
    "plt.xlabel('PM2.5 Records')\n",
    "plt.ylabel('PM2.5 Values')\n",
    "plt.legend()\n",
    "\n",
    "fig_basic_lstm_predictions_vs_actual.savefig(os.path.join(filepath, 'basic_lstm_model_prediction_vs_actual.png'))"
   ]
  },
  {
   "cell_type": "code",
   "execution_count": 40,
   "metadata": {
    "colab": {},
    "colab_type": "code",
    "id": "s2K0wBp62XI9"
   },
   "outputs": [
    {
     "name": "stdout",
     "output_type": "stream",
     "text": [
      "(2496, 1)\n",
      "(2496,)\n"
     ]
    }
   ],
   "source": [
    "print(basic_lstm_model_predictions.shape)\n",
    "print(basic_lstm_model_predictions.ravel().shape)"
   ]
  },
  {
   "cell_type": "code",
   "execution_count": 41,
   "metadata": {
    "colab": {},
    "colab_type": "code",
    "id": "ZGfCLc2T2XJA"
   },
   "outputs": [],
   "source": [
    "basic_lstm_model_prediction_vs_actual_dataframe = pd.DataFrame({'Actual PM2.5': testing_targets.ravel(), 'Predicted PM2.5':basic_lstm_model_predictions.ravel()}) \n",
    "basic_lstm_model_prediction_vs_actual_dataframe\n",
    "## save predictions by basic lstm model\n",
    "basic_lstm_model_prediction_vs_actual_dataframe.to_csv(os.path.join(filepath , 'basic_lstm_model_predictions.csv'))"
   ]
  },
  {
   "cell_type": "markdown",
   "metadata": {
    "colab_type": "text",
    "id": "WBitZDTLSb4P"
   },
   "source": [
    "### Creation of Neural Network Architecture,Training & Evaluation  on Stacked LSTM and DROPOUT layers"
   ]
  },
  {
   "cell_type": "code",
   "execution_count": 42,
   "metadata": {
    "colab": {},
    "colab_type": "code",
    "id": "IenaENnPSb4Q",
    "scrolled": true
   },
   "outputs": [
    {
     "name": "stdout",
     "output_type": "stream",
     "text": [
      "Train on 8738 samples, validate on 1247 samples\n",
      "Epoch 1/100\n",
      "8738/8738 [==============================] - 9s 1ms/step - loss: 1260.2883 - mean_absolute_error: 16.1546 - rmse: 29.8647 - val_loss: 168.6827 - val_mean_absolute_error: 10.7429 - val_rmse: 12.2843\n",
      "Epoch 2/100\n",
      "8738/8738 [==============================] - 4s 408us/step - loss: 1195.5806 - mean_absolute_error: 16.0421 - rmse: 28.8020 - val_loss: 179.4860 - val_mean_absolute_error: 11.1683 - val_rmse: 12.7209\n",
      "Epoch 3/100\n",
      "8738/8738 [==============================] - 3s 370us/step - loss: 1148.6193 - mean_absolute_error: 14.6597 - rmse: 27.7691 - val_loss: 185.4027 - val_mean_absolute_error: 12.0162 - val_rmse: 13.3249\n",
      "Epoch 4/100\n",
      "8738/8738 [==============================] - 3s 376us/step - loss: 923.3999 - mean_absolute_error: 9.0640 - rmse: 22.6985 - val_loss: 560.8169 - val_mean_absolute_error: 22.0963 - val_rmse: 23.5852\n",
      "Epoch 5/100\n",
      "8738/8738 [==============================] - 3s 355us/step - loss: 813.5438 - mean_absolute_error: 7.8978 - rmse: 21.1959 - val_loss: 732.0882 - val_mean_absolute_error: 24.0606 - val_rmse: 26.7109\n",
      "Epoch 6/100\n",
      "8738/8738 [==============================] - 3s 354us/step - loss: 745.3343 - mean_absolute_error: 7.5364 - rmse: 19.6509 - val_loss: 1082.6100 - val_mean_absolute_error: 29.7027 - val_rmse: 32.4035\n",
      "Epoch 7/100\n",
      "8738/8738 [==============================] - 3s 370us/step - loss: 691.5716 - mean_absolute_error: 7.2382 - rmse: 18.8362 - val_loss: 1093.3346 - val_mean_absolute_error: 27.6192 - val_rmse: 32.1259\n",
      "Epoch 8/100\n",
      "8738/8738 [==============================] - 3s 331us/step - loss: 646.6357 - mean_absolute_error: 6.9645 - rmse: 17.9635 - val_loss: 1421.6280 - val_mean_absolute_error: 32.4167 - val_rmse: 36.6678\n",
      "Epoch 9/100\n",
      "8738/8738 [==============================] - 3s 341us/step - loss: 607.3944 - mean_absolute_error: 6.8154 - rmse: 17.5698 - val_loss: 1448.1515 - val_mean_absolute_error: 31.3233 - val_rmse: 36.6680\n",
      "Epoch 10/100\n",
      "8738/8738 [==============================] - 3s 390us/step - loss: 573.7694 - mean_absolute_error: 6.6646 - rmse: 17.1369 - val_loss: 1591.3187 - val_mean_absolute_error: 34.8630 - val_rmse: 38.9321\n",
      "Epoch 11/100\n",
      "8738/8738 [==============================] - 3s 354us/step - loss: 543.7900 - mean_absolute_error: 6.5542 - rmse: 16.4743 - val_loss: 1542.8924 - val_mean_absolute_error: 32.6540 - val_rmse: 38.0157\n"
     ]
    }
   ],
   "source": [
    "from tensorflow.keras.models import Sequential\n",
    "from tensorflow.keras.layers import Dense, LSTM, Dropout\n",
    "from tensorflow.keras.utils import plot_model\n",
    "\n",
    "deep_lstm_callbacks_list = [\n",
    "    EarlyStopping(  # interrupts training when improvement stops \n",
    "        monitor='val_loss', \n",
    "        patience=10, \n",
    "        mode='min'), \n",
    "    \n",
    "   ModelCheckpoint( #saves the current weights after every epock\n",
    "        filepath=os.path.join(filepath, 'deep_lstm_best_model.h5'),\n",
    "        monitor='val_loss',save_best_only=True) # these 2 arguments mean , you won't overwrite the model file unless val_loss has improved which  allows you to keep the best model seen during training.\n",
    "]\n",
    "\n",
    "regressor_model = Sequential()\n",
    "regressor_model.add(LSTM(units=100, return_sequences = True, input_shape = (scaled_training_features.shape[1],scaled_training_features.shape[2])))\n",
    "regressor_model.add(Dropout(0.2))\n",
    "number_of_features\n",
    "regressor_model.add(LSTM(units = 100, return_sequences = True))\n",
    "regressor_model.add(Dropout(0.1))\n",
    "regressor_model.add(LSTM(units = 100))\n",
    "#regressor_model.add(Dropout(0.2))\n",
    "\n",
    "regressor_model.add(Dense(units = 1))\n",
    "\n",
    "regressor_model.compile(optimizer = 'adam', loss = 'mse',metrics = ['mean_absolute_error',rmse] )\n",
    "\n",
    "##Training the model\n",
    "history = regressor_model.fit(scaled_training_features, training_targets,epochs = 100,\n",
    "                              validation_data=(scaled_validation_features, validation_targets), batch_size=32,\n",
    "                              callbacks=deep_lstm_callbacks_list)\n"
   ]
  },
  {
   "cell_type": "code",
   "execution_count": 43,
   "metadata": {
    "colab": {},
    "colab_type": "code",
    "id": "fN9EwdUFSb4R"
   },
   "outputs": [
    {
     "name": "stdout",
     "output_type": "stream",
     "text": [
      "_________________________________________________________________\n",
      "Layer (type)                 Output Shape              Param #   \n",
      "=================================================================\n",
      "lstm_1 (LSTM)                (None, 1, 100)            48400     \n",
      "_________________________________________________________________\n",
      "dropout (Dropout)            (None, 1, 100)            0         \n",
      "_________________________________________________________________\n",
      "lstm_2 (LSTM)                (None, 1, 100)            80400     \n",
      "_________________________________________________________________\n",
      "dropout_1 (Dropout)          (None, 1, 100)            0         \n",
      "_________________________________________________________________\n",
      "lstm_3 (LSTM)                (None, 100)               80400     \n",
      "_________________________________________________________________\n",
      "dense_1 (Dense)              (None, 1)                 101       \n",
      "=================================================================\n",
      "Total params: 209,301\n",
      "Trainable params: 209,301\n",
      "Non-trainable params: 0\n",
      "_________________________________________________________________\n"
     ]
    }
   ],
   "source": [
    "#regressor_model.save('/content/drive/My Drive/Uni/Msc Comp Science/Year Two/Research/experiments/data/AirQuality/AirQo/airquality_prediction_bugolobi_04_20_2019.h5')\n",
    "regressor_model.save(os.path.join(filepath,'airquality_prediction_model.h5'))\n",
    "regressor_model.summary()\n",
    "regressor_model_architecture_path = os.path.join(filepath, 'deep_lstm_model_plot.png')\n",
    "plot_model(regressor_model, to_file=regressor_model_architecture_path, show_shapes=False, show_layer_names=False)"
   ]
  },
  {
   "cell_type": "code",
   "execution_count": 44,
   "metadata": {
    "colab": {},
    "colab_type": "code",
    "id": "PNUn7SCa2XJT"
   },
   "outputs": [
    {
     "data": {
      "image/png": "[encoded data removed]",
      "text/plain": [
       "<Figure size 864x432 with 1 Axes>"
      ]
     },
     "metadata": {
      "needs_background": "light"
     },
     "output_type": "display_data"
    }
   ],
   "source": [
    "loss = history.history['loss']\n",
    "val_loss = history.history['val_loss']\n",
    "\n",
    "epochs = range(len(loss))\n",
    "\n",
    "fig_deep_lstm_loss= plt.figure(figsize=(12,6))\n",
    "ax = fig_deep_lstm_loss.add_subplot(111)\n",
    "\n",
    "plt.plot(epochs, loss, 'bo', label='Training loss')\n",
    "plt.plot(epochs, val_loss, 'r', label='Validation loss')\n",
    "plt.title('Training and validation loss')\n",
    "plt.xlabel('Epochs')\n",
    "plt.ylabel('Loss')\n",
    "plt.legend()\n",
    "\n",
    "plt.show()\n",
    "\n",
    "fig_deep_lstm_loss.savefig(os.path.join(filepath, 'deep_lstm_model_history_training_validation_loss.png'))"
   ]
  },
  {
   "cell_type": "code",
   "execution_count": 45,
   "metadata": {
    "colab": {},
    "colab_type": "code",
    "id": "MCJ9OT-u2XJn"
   },
   "outputs": [
    {
     "data": {
      "image/png": "[encoded data removed]",
      "text/plain": [
       "<Figure size 864x432 with 1 Axes>"
      ]
     },
     "metadata": {
      "needs_background": "light"
     },
     "output_type": "display_data"
    }
   ],
   "source": [
    "mae = history.history['mean_absolute_error']\n",
    "val_mae = history.history['val_mean_absolute_error']\n",
    "epochs = range(len(mae))\n",
    "\n",
    "fig_deep_lstm_mae = plt.figure(figsize=(12,6))\n",
    "ax_mae = fig_deep_lstm_mae.add_subplot(111)\n",
    "\n",
    "plt.plot(epochs, mae, 'bo', label='Training Mean Absolute Error')\n",
    "plt.plot(epochs, val_mae, 'r', label='Validation Mean Absolute Error')\n",
    "plt.title('Training and Validation Mean Absolute Error')\n",
    "plt.xlabel('Epochs')\n",
    "plt.ylabel('MAE')\n",
    "plt.legend()\n",
    "\n",
    "plt.show()\n",
    "fig_mae.savefig(os.path.join(filepath, 'deep_lst_mmodel_history_training_validation_mae.png'))"
   ]
  },
  {
   "cell_type": "code",
   "execution_count": 46,
   "metadata": {
    "colab": {},
    "colab_type": "code",
    "id": "ti0Xaz812XJt"
   },
   "outputs": [
    {
     "data": {
      "image/png": "[encoded data removed]",
      "text/plain": [
       "<Figure size 864x432 with 1 Axes>"
      ]
     },
     "metadata": {
      "needs_background": "light"
     },
     "output_type": "display_data"
    }
   ],
   "source": [
    "hist_rmse = history.history['rmse']\n",
    "val_rmse = history.history['val_rmse']\n",
    "epochs = range(len(hist_rmse))\n",
    "\n",
    "fig_rmse = plt.figure(figsize=(12,6))\n",
    "ax_rmse= fig_rmse.add_subplot(111)\n",
    "\n",
    "plt.plot(epochs, hist_rmse, 'bo', label='Training Root Mean Squared Error')\n",
    "plt.plot(epochs, val_rmse, 'r', label='Validation Root Mean Squared Error')\n",
    "plt.title('Training and Validation Root Mean Squared Error')\n",
    "plt.xlabel('Epochs')\n",
    "plt.ylabel('RMSE')\n",
    "plt.legend()\n",
    "\n",
    "plt.show()\n",
    "fig_rmse.savefig(os.path.join(filepath, 'deep_model_history_training_validation_RMSE.png'))"
   ]
  },
  {
   "cell_type": "markdown",
   "metadata": {
    "colab_type": "text",
    "id": "sO0awXl1Sb4T"
   },
   "source": [
    "### Making predictions (forecasts) using the deep recurrent lstm\n",
    "1. Convert test set in the same format accepted by model\n",
    "1. make the forecasts directly on the testing dataset"
   ]
  },
  {
   "cell_type": "markdown",
   "metadata": {
    "colab_type": "text",
    "id": "RDyMT-YB2XJ0"
   },
   "source": [
    "### Make prediction and evaluation using the developed deep lstm model"
   ]
  },
  {
   "cell_type": "code",
   "execution_count": 54,
   "metadata": {
    "colab": {},
    "colab_type": "code",
    "id": "99pD-uTa2XJ1"
   },
   "outputs": [
    {
     "name": "stdout",
     "output_type": "stream",
     "text": [
      "[1195.4193999643428, 15.970988578778924, 18.878771010403447]\n",
      "[143.87039791009366, 8.916908893829737, 10.404545484445034]\n"
     ]
    }
   ],
   "source": [
    "saved_best_deep_lstm_model = load_model(os.path.join(filepath,'deep_lstm_best_model.h5'),  custom_objects={'rmse': rmse})\n",
    "#saved_best_deep_lstm_model = load_model(os.path.join(filepath,'airquality_prediction_model.h5'),  custom_objects={'rmse': rmse})\n",
    "deep_lstm_model_train_evaluation = saved_best_deep_lstm_model.evaluate(scaled_training_features, training_targets, verbose=0)\n",
    "deep_lstm_model_test_evaluation = saved_best_deep_lstm_model.evaluate(scaled_testing_features, testing_targets, verbose=0)\n",
    "print(deep_lstm_model_train_evaluation)\n",
    "print(deep_lstm_model_test_evaluation)"
   ]
  },
  {
   "cell_type": "code",
   "execution_count": 55,
   "metadata": {
    "colab": {},
    "colab_type": "code",
    "id": "ts5RRZWoSb4Z"
   },
   "outputs": [
    {
     "name": "stdout",
     "output_type": "stream",
     "text": [
      "2496/2496 [==============================] - 0s 108us/step\n",
      "Deep LSTM RMSE:  11.99\n",
      "Deep LSTM MAE:  8.92\n"
     ]
    }
   ],
   "source": [
    "deep_lstm_model_predictions = saved_best_deep_lstm_model.predict(scaled_testing_features)\n",
    "deep_lstm_model_evaluation =  saved_best_deep_lstm_model.evaluate(scaled_testing_features, testing_targets)\n",
    "\n",
    "deep_lstm_rmse = calculate_rmse(testing_targets, deep_lstm_model_predictions )\n",
    "deep_lstm_mae =  mean_absolute_error(testing_targets, deep_lstm_model_predictions)\n",
    "print('Deep LSTM RMSE: ', deep_lstm_rmse.round(2))\n",
    "print('Deep LSTM MAE: ', deep_lstm_mae.round(2))\n",
    "\n",
    "deep_lstm_model_prediction_vs_actual_dataframe = pd.DataFrame({'Actual PM2.5':testing_targets.ravel(), 'Predicted PM2.5':deep_lstm_model_predictions.ravel()}) \n",
    "deep_lstm_model_prediction_vs_actual_dataframe\n",
    "## save predictions by basic lstm model\n",
    "deep_lstm_model_prediction_vs_actual_dataframe.to_csv(os.path.join(filepath , 'deep_lstm_model_predictions.csv'))"
   ]
  },
  {
   "cell_type": "markdown",
   "metadata": {
    "colab_type": "text",
    "id": "EQ7BkVaMSb4j"
   },
   "source": [
    "### Verification of the average in the results of the forecasts and in the actual results"
   ]
  },
  {
   "cell_type": "code",
   "execution_count": 56,
   "metadata": {
    "colab": {},
    "colab_type": "code",
    "id": "pBCyXHz1Sb4h"
   },
   "outputs": [
    {
     "name": "stdout",
     "output_type": "stream",
     "text": [
      "predictions 18.90527\n",
      "actual pm2.5 values 16.21225560897436\n"
     ]
    }
   ],
   "source": [
    "print('predictions', deep_lstm_model_predictions.mean())\n",
    "print('actual pm2.5 values', testing_targets.mean())"
   ]
  },
  {
   "cell_type": "markdown",
   "metadata": {
    "colab_type": "text",
    "id": "xX5heGwJSb4m"
   },
   "source": [
    "### Visualization of the predictions and actual values of PM2.5\n",
    "1. #### using line graph"
   ]
  },
  {
   "cell_type": "raw",
   "metadata": {},
   "source": [
    "#added timestep to cater for the shifted records which get droped for having nan values\n",
    "testing_data_for_plotting =airquality_data_copy.loc[training_data_length+validation_data_length+timesteps: training_data_length+validation_data_length+testing_data_length,:]\n",
    "print(testing_data_for_plotting.shape)\n",
    "testing_data_for_plotting.head()"
   ]
  },
  {
   "cell_type": "code",
   "execution_count": 50,
   "metadata": {},
   "outputs": [
    {
     "data": {
      "text/plain": [
       "(2496, 1)"
      ]
     },
     "execution_count": 50,
     "metadata": {},
     "output_type": "execute_result"
    }
   ],
   "source": [
    "deep_lstm_model_predictions.shape"
   ]
  },
  {
   "cell_type": "code",
   "execution_count": 57,
   "metadata": {
    "colab": {},
    "colab_type": "code",
    "id": "e1NQ6pyMSb4m"
   },
   "outputs": [
    {
     "data": {
      "image/png": "[encoded data removed]",
      "text/plain": [
       "<Figure size 864x432 with 1 Axes>"
      ]
     },
     "metadata": {},
     "output_type": "display_data"
    }
   ],
   "source": [
    "fig_deep_lstm_predictions_vs_actual = plt.figure(figsize=(12,6))\n",
    "ax_fig_deep_lstm_predictions_vs_actual = fig_deep_lstm_predictions_vs_actual.add_subplot(111)\n",
    "plt.plot(testing_targets, color = 'red', label = 'Actual PM2.5 Values')\n",
    "plt.plot(deep_lstm_model_predictions, color = 'blue', label = 'Predicted PM2.5 Values')\n",
    "plt.title('Predicted PM2.5  Vs Actual PM2.5 ')\n",
    "plt.xlabel('PM2.5 Records')\n",
    "plt.ylabel('PM2.5 Values')\n",
    "plt.legend()\n",
    "\n",
    "fig_deep_lstm_predictions_vs_actual.savefig(os.path.join(filepath, 'deep_lstm_model_prediction_vs_actual.png'))"
   ]
  },
  {
   "cell_type": "code",
   "execution_count": 58,
   "metadata": {
    "colab": {},
    "colab_type": "code",
    "id": "SAro3NFG2XKh",
    "scrolled": true
   },
   "outputs": [
    {
     "data": {
      "image/png": "[encoded data removed]",
      "text/plain": [
       "<Figure size 576x432 with 1 Axes>"
      ]
     },
     "metadata": {},
     "output_type": "display_data"
    }
   ],
   "source": [
    "sns.set_context('talk')\n",
    "sns.set_style('ticks')\n",
    "sns.set_palette('dark')\n",
    "fig_deep_lstm_predictions_vs_actual_scatter = plt.figure(figsize=(8,6))\n",
    "ax_fig_deep_lstm_predictions_vs_actual_scatter = fig_deep_lstm_predictions_vs_actual_scatter.add_subplot(111)\n",
    "ax = ax_fig_deep_lstm_predictions_vs_actual_scatter\n",
    "# we are going to use y_test, y_test_pred\n",
    "ax.scatter(testing_targets, deep_lstm_model_predictions, alpha=.3)\n",
    "\n",
    "ax.set(xlabel='Actual Values', \n",
    "       ylabel='Predictions',\n",
    "       title='PM2.5 Predictions vs Actual Values');\n",
    "\n",
    "fig_deep_lstm_predictions_vs_actual_scatter.savefig(os.path.join(filepath, 'deep_lstm_model_predictions_vs_actual_values_scatter.png'))"
   ]
  },
  {
   "cell_type": "markdown",
   "metadata": {
    "colab_type": "text",
    "id": "5lryEQH12XKn"
   },
   "source": [
    "### saving results to file"
   ]
  },
  {
   "cell_type": "code",
   "execution_count": 53,
   "metadata": {
    "colab": {},
    "colab_type": "code",
    "id": "2EDwleDm2XLC"
   },
   "outputs": [],
   "source": [
    "with open(os.path.join(filepath, \"results_summary.txt\"), \"w+\") as text_file:\n",
    "        print(\"SVR RMSE : {}\\n SVR MAE : {} \\n Basic LSTM RMSE: {} \\n Basic LSTM MAE: {} \\n Basic LSTM Evaluation Results: {} \\n Deep LSTM RMSE : {} \\n Deep LSTM MAE: {} \\n Deep LSTM Evaluation Results: {}, \\n metrics {}\"\n",
    "              .format(svr_rmse.round(2),svr_mae.round(2),  basic_lstm_rmse.round(2), basic_lstm_mae.round(2), basic_lstm_model_evaluation,\n",
    "                      deep_lstm_rmse.round(2), deep_lstm_mae.round(2),  deep_lstm_model_evaluation, model.metrics_names ), file=text_file)"
   ]
  },
  {
   "cell_type": "code",
   "execution_count": null,
   "metadata": {
    "colab": {},
    "colab_type": "code",
    "id": "kTcRwaN42XLT"
   },
   "outputs": [],
   "source": []
  }
 ],
 "metadata": {
  "accelerator": "GPU",
  "colab": {
   "name": "air_quality_prediction_experimentation_selected_features.ipynb",
   "provenance": [],
   "version": "0.3.2"
  },
  "kernelspec": {
   "display_name": "Python 3",
   "language": "python",
   "name": "python3"
  },
  "language_info": {
   "codemirror_mode": {
    "name": "ipython",
    "version": 3
   },
   "file_extension": ".py",
   "mimetype": "text/x-python",
   "name": "python",
   "nbconvert_exporter": "python",
   "pygments_lexer": "ipython3",
   "version": "3.6.6"
  }
 },
 "nbformat": 4,
 "nbformat_minor": 1
}
