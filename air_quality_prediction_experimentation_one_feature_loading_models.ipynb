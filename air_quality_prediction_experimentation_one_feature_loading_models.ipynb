{
 "cells": [
  {
   "cell_type": "code",
   "execution_count": 557,
   "metadata": {
    "colab": {},
    "colab_type": "code",
    "id": "L3-ikINq_CDz"
   },
   "outputs": [],
   "source": [
    "import pandas as pd\n",
    "import numpy as np\n",
    "import seaborn as sns\n",
    "import matplotlib.pyplot as plt \n",
    "%matplotlib inline\n",
    "from sklearn import preprocessing\n",
    "from sklearn.preprocessing import MinMaxScaler\n",
    "from sklearn.metrics import mean_squared_error, mean_absolute_error\n",
    "import os\n",
    "import datetime\n",
    "import math"
   ]
  },
  {
   "cell_type": "raw",
   "metadata": {
    "colab": {
     "base_uri": "https://localhost:8080/",
     "height": 125
    },
    "colab_type": "code",
    "id": "YgmwH-BI_txh",
    "outputId": "dd59d1ca-f56f-405b-ae1b-f867bef2c512"
   },
   "source": [
    "from google.colab import drive\n",
    "drive.mount('/content/drive')"
   ]
  },
  {
   "cell_type": "code",
   "execution_count": 558,
   "metadata": {
    "colab": {},
    "colab_type": "code",
    "id": "InRp4djsBMwh"
   },
   "outputs": [],
   "source": [
    "#!ls \"/content/drive/My Drive/Uni/Msc Comp Science/Year Two/Research/data\""
   ]
  },
  {
   "cell_type": "code",
   "execution_count": 559,
   "metadata": {
    "colab": {},
    "colab_type": "code",
    "id": "geukmPjkSbyn"
   },
   "outputs": [],
   "source": [
    "def show_dataframe_info(df):\n",
    "    print(df.shape)\n",
    "    print(list(df.columns.values))\n",
    "    print('\\n dataframe info: \\n', df.info())\n",
    "    print('\\n dataframe column datatypes:\\n', df.dtypes)\n",
    "    \n",
    "def calculate_rmse(actual_values,predictions):\n",
    "    mse= mean_squared_error(actual_values, predictions)\n",
    "    rmse = np.sqrt(mse)\n",
    "    return rmse"
   ]
  },
  {
   "cell_type": "code",
   "execution_count": 560,
   "metadata": {
    "colab": {
     "base_uri": "https://localhost:8080/",
     "height": 478
    },
    "colab_type": "code",
    "id": "SYFacJONAbXp",
    "outputId": "09eebaf5-610a-4c66-c4a1-cfa929ec9b46"
   },
   "outputs": [
    {
     "data": {
      "text/html": [
       "<div>\n",
       "<style scoped>\n",
       "    .dataframe tbody tr th:only-of-type {\n",
       "        vertical-align: middle;\n",
       "    }\n",
       "\n",
       "    .dataframe tbody tr th {\n",
       "        vertical-align: top;\n",
       "    }\n",
       "\n",
       "    .dataframe thead th {\n",
       "        text-align: right;\n",
       "    }\n",
       "</style>\n",
       "<table border=\"1\" class=\"dataframe\">\n",
       "  <thead>\n",
       "    <tr style=\"text-align: right;\">\n",
       "      <th></th>\n",
       "      <th>TimeStamp</th>\n",
       "      <th>PM2.5(Ug/m3)</th>\n",
       "      <th>hour</th>\n",
       "      <th>EVI</th>\n",
       "      <th>NDVI</th>\n",
       "      <th>humidity (%)</th>\n",
       "      <th>precipitation (mm)</th>\n",
       "      <th>pressure (kPa)</th>\n",
       "      <th>radiation (W/m2)</th>\n",
       "      <th>temperature (oC)</th>\n",
       "      <th>windspeed (m/s)</th>\n",
       "      <th>winddirection_E</th>\n",
       "      <th>winddirection_N</th>\n",
       "      <th>winddirection_NE</th>\n",
       "      <th>winddirection_NW</th>\n",
       "      <th>winddirection_S</th>\n",
       "      <th>winddirection_SE</th>\n",
       "      <th>winddirection_SW</th>\n",
       "      <th>winddirection_W</th>\n",
       "    </tr>\n",
       "  </thead>\n",
       "  <tbody>\n",
       "    <tr>\n",
       "      <th>0</th>\n",
       "      <td>2017-09-09 18:00:00</td>\n",
       "      <td>48.0</td>\n",
       "      <td>18</td>\n",
       "      <td>0.2018</td>\n",
       "      <td>0.3719</td>\n",
       "      <td>73</td>\n",
       "      <td>0.0</td>\n",
       "      <td>87.50</td>\n",
       "      <td>0.9</td>\n",
       "      <td>23.27</td>\n",
       "      <td>0.44</td>\n",
       "      <td>0</td>\n",
       "      <td>0</td>\n",
       "      <td>0</td>\n",
       "      <td>0</td>\n",
       "      <td>0</td>\n",
       "      <td>1</td>\n",
       "      <td>0</td>\n",
       "      <td>0</td>\n",
       "    </tr>\n",
       "    <tr>\n",
       "      <th>1</th>\n",
       "      <td>2017-09-09 19:00:00</td>\n",
       "      <td>46.0</td>\n",
       "      <td>19</td>\n",
       "      <td>0.2018</td>\n",
       "      <td>0.3719</td>\n",
       "      <td>77</td>\n",
       "      <td>0.0</td>\n",
       "      <td>87.58</td>\n",
       "      <td>0.0</td>\n",
       "      <td>22.72</td>\n",
       "      <td>0.38</td>\n",
       "      <td>0</td>\n",
       "      <td>0</td>\n",
       "      <td>1</td>\n",
       "      <td>0</td>\n",
       "      <td>0</td>\n",
       "      <td>0</td>\n",
       "      <td>0</td>\n",
       "      <td>0</td>\n",
       "    </tr>\n",
       "    <tr>\n",
       "      <th>2</th>\n",
       "      <td>2017-09-09 20:00:00</td>\n",
       "      <td>69.0</td>\n",
       "      <td>20</td>\n",
       "      <td>0.2018</td>\n",
       "      <td>0.3719</td>\n",
       "      <td>80</td>\n",
       "      <td>0.0</td>\n",
       "      <td>87.67</td>\n",
       "      <td>0.0</td>\n",
       "      <td>22.29</td>\n",
       "      <td>0.37</td>\n",
       "      <td>0</td>\n",
       "      <td>0</td>\n",
       "      <td>0</td>\n",
       "      <td>0</td>\n",
       "      <td>0</td>\n",
       "      <td>1</td>\n",
       "      <td>0</td>\n",
       "      <td>0</td>\n",
       "    </tr>\n",
       "    <tr>\n",
       "      <th>3</th>\n",
       "      <td>2017-09-09 21:00:00</td>\n",
       "      <td>84.0</td>\n",
       "      <td>21</td>\n",
       "      <td>0.2018</td>\n",
       "      <td>0.3719</td>\n",
       "      <td>82</td>\n",
       "      <td>0.0</td>\n",
       "      <td>87.66</td>\n",
       "      <td>0.0</td>\n",
       "      <td>21.71</td>\n",
       "      <td>0.34</td>\n",
       "      <td>0</td>\n",
       "      <td>1</td>\n",
       "      <td>0</td>\n",
       "      <td>0</td>\n",
       "      <td>0</td>\n",
       "      <td>0</td>\n",
       "      <td>0</td>\n",
       "      <td>0</td>\n",
       "    </tr>\n",
       "    <tr>\n",
       "      <th>4</th>\n",
       "      <td>2017-09-09 22:00:00</td>\n",
       "      <td>83.0</td>\n",
       "      <td>22</td>\n",
       "      <td>0.2018</td>\n",
       "      <td>0.3719</td>\n",
       "      <td>87</td>\n",
       "      <td>0.0</td>\n",
       "      <td>87.68</td>\n",
       "      <td>0.0</td>\n",
       "      <td>20.86</td>\n",
       "      <td>0.29</td>\n",
       "      <td>0</td>\n",
       "      <td>0</td>\n",
       "      <td>1</td>\n",
       "      <td>0</td>\n",
       "      <td>0</td>\n",
       "      <td>0</td>\n",
       "      <td>0</td>\n",
       "      <td>0</td>\n",
       "    </tr>\n",
       "    <tr>\n",
       "      <th>5</th>\n",
       "      <td>2017-09-09 23:00:00</td>\n",
       "      <td>138.0</td>\n",
       "      <td>23</td>\n",
       "      <td>0.2018</td>\n",
       "      <td>0.3719</td>\n",
       "      <td>90</td>\n",
       "      <td>0.0</td>\n",
       "      <td>87.77</td>\n",
       "      <td>0.0</td>\n",
       "      <td>20.30</td>\n",
       "      <td>0.46</td>\n",
       "      <td>0</td>\n",
       "      <td>0</td>\n",
       "      <td>0</td>\n",
       "      <td>0</td>\n",
       "      <td>0</td>\n",
       "      <td>1</td>\n",
       "      <td>0</td>\n",
       "      <td>0</td>\n",
       "    </tr>\n",
       "    <tr>\n",
       "      <th>6</th>\n",
       "      <td>2017-09-10 00:00:00</td>\n",
       "      <td>126.0</td>\n",
       "      <td>0</td>\n",
       "      <td>0.2018</td>\n",
       "      <td>0.3719</td>\n",
       "      <td>91</td>\n",
       "      <td>0.0</td>\n",
       "      <td>87.74</td>\n",
       "      <td>0.0</td>\n",
       "      <td>20.30</td>\n",
       "      <td>0.59</td>\n",
       "      <td>0</td>\n",
       "      <td>0</td>\n",
       "      <td>0</td>\n",
       "      <td>0</td>\n",
       "      <td>0</td>\n",
       "      <td>1</td>\n",
       "      <td>0</td>\n",
       "      <td>0</td>\n",
       "    </tr>\n",
       "    <tr>\n",
       "      <th>7</th>\n",
       "      <td>2017-09-10 01:00:00</td>\n",
       "      <td>63.0</td>\n",
       "      <td>1</td>\n",
       "      <td>0.2018</td>\n",
       "      <td>0.3719</td>\n",
       "      <td>91</td>\n",
       "      <td>0.0</td>\n",
       "      <td>87.67</td>\n",
       "      <td>0.0</td>\n",
       "      <td>20.14</td>\n",
       "      <td>0.99</td>\n",
       "      <td>0</td>\n",
       "      <td>0</td>\n",
       "      <td>0</td>\n",
       "      <td>0</td>\n",
       "      <td>0</td>\n",
       "      <td>1</td>\n",
       "      <td>0</td>\n",
       "      <td>0</td>\n",
       "    </tr>\n",
       "    <tr>\n",
       "      <th>8</th>\n",
       "      <td>2017-09-10 02:00:00</td>\n",
       "      <td>53.0</td>\n",
       "      <td>2</td>\n",
       "      <td>0.2018</td>\n",
       "      <td>0.3719</td>\n",
       "      <td>89</td>\n",
       "      <td>0.0</td>\n",
       "      <td>87.63</td>\n",
       "      <td>0.0</td>\n",
       "      <td>20.15</td>\n",
       "      <td>1.19</td>\n",
       "      <td>0</td>\n",
       "      <td>0</td>\n",
       "      <td>0</td>\n",
       "      <td>0</td>\n",
       "      <td>0</td>\n",
       "      <td>1</td>\n",
       "      <td>0</td>\n",
       "      <td>0</td>\n",
       "    </tr>\n",
       "    <tr>\n",
       "      <th>9</th>\n",
       "      <td>2017-09-10 03:00:00</td>\n",
       "      <td>48.0</td>\n",
       "      <td>3</td>\n",
       "      <td>0.2018</td>\n",
       "      <td>0.3719</td>\n",
       "      <td>89</td>\n",
       "      <td>0.0</td>\n",
       "      <td>87.59</td>\n",
       "      <td>0.0</td>\n",
       "      <td>19.78</td>\n",
       "      <td>0.69</td>\n",
       "      <td>1</td>\n",
       "      <td>0</td>\n",
       "      <td>0</td>\n",
       "      <td>0</td>\n",
       "      <td>0</td>\n",
       "      <td>0</td>\n",
       "      <td>0</td>\n",
       "      <td>0</td>\n",
       "    </tr>\n",
       "  </tbody>\n",
       "</table>\n",
       "</div>"
      ],
      "text/plain": [
       "             TimeStamp  PM2.5(Ug/m3)  hour     EVI    NDVI  humidity (%)  \\\n",
       "0  2017-09-09 18:00:00          48.0    18  0.2018  0.3719            73   \n",
       "1  2017-09-09 19:00:00          46.0    19  0.2018  0.3719            77   \n",
       "2  2017-09-09 20:00:00          69.0    20  0.2018  0.3719            80   \n",
       "3  2017-09-09 21:00:00          84.0    21  0.2018  0.3719            82   \n",
       "4  2017-09-09 22:00:00          83.0    22  0.2018  0.3719            87   \n",
       "5  2017-09-09 23:00:00         138.0    23  0.2018  0.3719            90   \n",
       "6  2017-09-10 00:00:00         126.0     0  0.2018  0.3719            91   \n",
       "7  2017-09-10 01:00:00          63.0     1  0.2018  0.3719            91   \n",
       "8  2017-09-10 02:00:00          53.0     2  0.2018  0.3719            89   \n",
       "9  2017-09-10 03:00:00          48.0     3  0.2018  0.3719            89   \n",
       "\n",
       "   precipitation (mm)  pressure (kPa)  radiation (W/m2)  temperature (oC)  \\\n",
       "0                 0.0           87.50               0.9             23.27   \n",
       "1                 0.0           87.58               0.0             22.72   \n",
       "2                 0.0           87.67               0.0             22.29   \n",
       "3                 0.0           87.66               0.0             21.71   \n",
       "4                 0.0           87.68               0.0             20.86   \n",
       "5                 0.0           87.77               0.0             20.30   \n",
       "6                 0.0           87.74               0.0             20.30   \n",
       "7                 0.0           87.67               0.0             20.14   \n",
       "8                 0.0           87.63               0.0             20.15   \n",
       "9                 0.0           87.59               0.0             19.78   \n",
       "\n",
       "   windspeed (m/s)  winddirection_E  winddirection_N  winddirection_NE  \\\n",
       "0             0.44                0                0                 0   \n",
       "1             0.38                0                0                 1   \n",
       "2             0.37                0                0                 0   \n",
       "3             0.34                0                1                 0   \n",
       "4             0.29                0                0                 1   \n",
       "5             0.46                0                0                 0   \n",
       "6             0.59                0                0                 0   \n",
       "7             0.99                0                0                 0   \n",
       "8             1.19                0                0                 0   \n",
       "9             0.69                1                0                 0   \n",
       "\n",
       "   winddirection_NW  winddirection_S  winddirection_SE  winddirection_SW  \\\n",
       "0                 0                0                 1                 0   \n",
       "1                 0                0                 0                 0   \n",
       "2                 0                0                 1                 0   \n",
       "3                 0                0                 0                 0   \n",
       "4                 0                0                 0                 0   \n",
       "5                 0                0                 1                 0   \n",
       "6                 0                0                 1                 0   \n",
       "7                 0                0                 1                 0   \n",
       "8                 0                0                 1                 0   \n",
       "9                 0                0                 0                 0   \n",
       "\n",
       "   winddirection_W  \n",
       "0                0  \n",
       "1                0  \n",
       "2                0  \n",
       "3                0  \n",
       "4                0  \n",
       "5                0  \n",
       "6                0  \n",
       "7                0  \n",
       "8                0  \n",
       "9                0  "
      ]
     },
     "execution_count": 560,
     "metadata": {},
     "output_type": "execute_result"
    }
   ],
   "source": [
    "#airquality_data = pd.read_csv('/content/drive/My Drive/Uni/Msc Comp Science/Year Two/Research/experiments/data/AirQuality/AirQo/Bugolobi(ambrosoli)/bugolobi.csv')\n",
    "\n",
    "root_data_dir = 'data'\n",
    "base_dir ='data\\AirQuality\\AirQo'\n",
    "\n",
    "#airquality_data = pd.read_csv(os.path.join(base_dir,'Makerere','merged_hourly_airquality_greenness_meteorological_dataset.csv'))\n",
    "#filepath = os.path.join(base_dir,'Makerere','one_feature')\n",
    "#sensor_type = 0\n",
    "\n",
    "#airquality_data = pd.read_csv(os.path.join(base_dir,'Bugolobi(ambrosoli)','merged_hourly_airquality_greenness_meteorological_dataset.csv'))\n",
    "#filepath = os.path.join(base_dir,'Bugolobi(ambrosoli)','one_feature')\n",
    "#sensor_type = 0\n",
    "\n",
    "#airquality_data = pd.read_csv(os.path.join(base_dir,'Mulago','merged_hourly_airquality_greenness_meteorological_dataset.csv'))\n",
    "#filepath= os.path.join(base_dir,'Mulago','one_feature')\n",
    "#sensor_type = 0\n",
    "\n",
    "#airquality_data = pd.read_csv(os.path.join(base_dir,'Makindye','merged_hourly_airquality_greenness_meteorological_dataset.csv'))\n",
    "#filepath = os.path.join(base_dir, 'Makindye','one_feature')\n",
    "#sensor_type = 0\n",
    "\n",
    "#airquality_data = pd.read_csv(os.path.join(base_dir,'Bukoto(kisu)','merged_hourly_airquality_greenness_meteorological_dataset.csv'))\n",
    "#filepath= os.path.join(base_dir,'Bukoto(kisu)', 'one_feature')\n",
    "#sensor_type = 0\n",
    "\n",
    "#airquality_data = pd.read_csv(os.path.join(base_dir,'Lubowa','merged_hourly_airquality_greenness_meteorological_dataset.csv'))\n",
    "#filepath = os.path.join(base_dir,'Lubowa','one_feature')\n",
    "#sensor_type = 0\n",
    "\n",
    "#airquality_data = pd.read_csv(os.path.join(base_dir,'Jinja_Road(NEMAHOUSE)','merged_hourly_airquality_greenness_meteorological_dataset.csv '))\n",
    "#filepath = os.path.join(base_dir,'Jinja_Road(NEMAHOUSE)','one_feature')\n",
    "#sensor_type = 1\n",
    "\n",
    "#airquality_data = pd.read_csv(os.path.join(base_dir,'Rubaga_Kabusu','merged_hourly_airquality_greenness_meteorological_dataset.csv'))\n",
    "#filepath = os.path.join(base_dir,'Rubaga_Kabusu','one_feature')\n",
    "#sensor_type = 1\n",
    "\n",
    "#airquality_data = pd.read_csv(os.path.join(base_dir,'Kireka','merged_hourly_airquality_greenness_meteorological_dataset.csv'))\n",
    "#filepath = os.path.join(base_dir,'Kireka','one_feature')\n",
    "#sensor_type = 1\n",
    "\n",
    "airquality_data = pd.read_csv(os.path.join(base_dir, 'Nsambya(American_Embassy)','merged_hourly_airquality_greenness_meteorological_dataset.csv '))\n",
    "filepath = os.path.join(base_dir, 'Nsambya(American_Embassy)','one_feature')\n",
    "sensor_type = 2\n",
    "\n",
    "airquality_data.head(10)"
   ]
  },
  {
   "cell_type": "code",
   "execution_count": 561,
   "metadata": {
    "colab": {},
    "colab_type": "code",
    "id": "ftQn1R_02W9o"
   },
   "outputs": [],
   "source": [
    "airquality_data_copy = airquality_data.copy()\n",
    "airquality_data[\"TimeStamp\"] = pd.to_datetime(airquality_data[\"TimeStamp\"])\n",
    "airquality_data = airquality_data.set_index('TimeStamp')"
   ]
  },
  {
   "cell_type": "code",
   "execution_count": 562,
   "metadata": {
    "colab": {},
    "colab_type": "code",
    "id": "Rl-Q0Swy2W9t"
   },
   "outputs": [],
   "source": [
    "if sensor_type == 0:\n",
    "    airquality_data_for_selected_features = airquality_data.drop(['hour', 'EVI', 'NDVI',\n",
    "       'humidity (%)', 'precipitation (mm)', 'pressure (kPa)',\n",
    "       'radiation (W/m2)', 'windspeed (m/s)',\n",
    "       'winddirection_E', 'winddirection_N', 'winddirection_NE',\n",
    "       'winddirection_NW', 'winddirection_S', 'winddirection_SE',\n",
    "       'winddirection_SW', 'winddirection_W','temperature (oC)','PM1(Ug/m3)','PM10(Ug/m3)'], axis=1)\n",
    "    \n",
    "elif sensor_type == 1:\n",
    "    airquality_data_for_selected_features = airquality_data.drop(['hour', 'EVI', 'NDVI',\n",
    "       'humidity (%)', 'precipitation (mm)', 'pressure (kPa)',\n",
    "       'radiation (W/m2)', 'windspeed (m/s)',\n",
    "       'winddirection_E', 'winddirection_N', 'winddirection_NE',\n",
    "       'winddirection_NW', 'winddirection_S', 'winddirection_SE',\n",
    "       'winddirection_SW', 'winddirection_W','temperature (oC)','PM10(Ug/m3)'], axis=1)\n",
    "    \n",
    "elif sensor_type == 2:\n",
    "    airquality_data_for_selected_features = airquality_data.drop(['hour', 'EVI', 'NDVI',\n",
    "       'humidity (%)', 'precipitation (mm)', 'pressure (kPa)',\n",
    "       'radiation (W/m2)', 'windspeed (m/s)',\n",
    "       'winddirection_E', 'winddirection_N', 'winddirection_NE',\n",
    "       'winddirection_NW', 'winddirection_S', 'winddirection_SE',\n",
    "       'winddirection_SW', 'winddirection_W','temperature (oC)'], axis=1)\n",
    "    \n",
    "#temperature"
   ]
  },
  {
   "cell_type": "code",
   "execution_count": 563,
   "metadata": {
    "colab": {},
    "colab_type": "code",
    "id": "nCH7dg6uSby0"
   },
   "outputs": [
    {
     "data": {
      "text/html": [
       "<div>\n",
       "<style scoped>\n",
       "    .dataframe tbody tr th:only-of-type {\n",
       "        vertical-align: middle;\n",
       "    }\n",
       "\n",
       "    .dataframe tbody tr th {\n",
       "        vertical-align: top;\n",
       "    }\n",
       "\n",
       "    .dataframe thead th {\n",
       "        text-align: right;\n",
       "    }\n",
       "</style>\n",
       "<table border=\"1\" class=\"dataframe\">\n",
       "  <thead>\n",
       "    <tr style=\"text-align: right;\">\n",
       "      <th></th>\n",
       "      <th>PM2.5(Ug/m3)</th>\n",
       "    </tr>\n",
       "    <tr>\n",
       "      <th>TimeStamp</th>\n",
       "      <th></th>\n",
       "    </tr>\n",
       "  </thead>\n",
       "  <tbody>\n",
       "    <tr>\n",
       "      <th>2017-09-09 18:00:00</th>\n",
       "      <td>48.0</td>\n",
       "    </tr>\n",
       "    <tr>\n",
       "      <th>2017-09-09 19:00:00</th>\n",
       "      <td>46.0</td>\n",
       "    </tr>\n",
       "    <tr>\n",
       "      <th>2017-09-09 20:00:00</th>\n",
       "      <td>69.0</td>\n",
       "    </tr>\n",
       "    <tr>\n",
       "      <th>2017-09-09 21:00:00</th>\n",
       "      <td>84.0</td>\n",
       "    </tr>\n",
       "    <tr>\n",
       "      <th>2017-09-09 22:00:00</th>\n",
       "      <td>83.0</td>\n",
       "    </tr>\n",
       "  </tbody>\n",
       "</table>\n",
       "</div>"
      ],
      "text/plain": [
       "                     PM2.5(Ug/m3)\n",
       "TimeStamp                        \n",
       "2017-09-09 18:00:00          48.0\n",
       "2017-09-09 19:00:00          46.0\n",
       "2017-09-09 20:00:00          69.0\n",
       "2017-09-09 21:00:00          84.0\n",
       "2017-09-09 22:00:00          83.0"
      ]
     },
     "execution_count": 563,
     "metadata": {},
     "output_type": "execute_result"
    }
   ],
   "source": [
    "airquality_data_for_selected_features.head()"
   ]
  },
  {
   "cell_type": "code",
   "execution_count": 564,
   "metadata": {
    "colab": {},
    "colab_type": "code",
    "id": "Ho2ych4lB3cA"
   },
   "outputs": [
    {
     "data": {
      "text/html": [
       "<div>\n",
       "<style scoped>\n",
       "    .dataframe tbody tr th:only-of-type {\n",
       "        vertical-align: middle;\n",
       "    }\n",
       "\n",
       "    .dataframe tbody tr th {\n",
       "        vertical-align: top;\n",
       "    }\n",
       "\n",
       "    .dataframe thead th {\n",
       "        text-align: right;\n",
       "    }\n",
       "</style>\n",
       "<table border=\"1\" class=\"dataframe\">\n",
       "  <thead>\n",
       "    <tr style=\"text-align: right;\">\n",
       "      <th></th>\n",
       "      <th>PM2.5(Ug/m3)</th>\n",
       "    </tr>\n",
       "    <tr>\n",
       "      <th>TimeStamp</th>\n",
       "      <th></th>\n",
       "    </tr>\n",
       "  </thead>\n",
       "  <tbody>\n",
       "    <tr>\n",
       "      <th>2018-09-30 20:00:00</th>\n",
       "      <td>60.0</td>\n",
       "    </tr>\n",
       "    <tr>\n",
       "      <th>2018-09-30 21:00:00</th>\n",
       "      <td>86.0</td>\n",
       "    </tr>\n",
       "    <tr>\n",
       "      <th>2018-09-30 22:00:00</th>\n",
       "      <td>99.0</td>\n",
       "    </tr>\n",
       "    <tr>\n",
       "      <th>2018-09-30 23:00:00</th>\n",
       "      <td>100.0</td>\n",
       "    </tr>\n",
       "    <tr>\n",
       "      <th>2018-10-01 00:00:00</th>\n",
       "      <td>119.0</td>\n",
       "    </tr>\n",
       "  </tbody>\n",
       "</table>\n",
       "</div>"
      ],
      "text/plain": [
       "                     PM2.5(Ug/m3)\n",
       "TimeStamp                        \n",
       "2018-09-30 20:00:00          60.0\n",
       "2018-09-30 21:00:00          86.0\n",
       "2018-09-30 22:00:00          99.0\n",
       "2018-09-30 23:00:00         100.0\n",
       "2018-10-01 00:00:00         119.0"
      ]
     },
     "execution_count": 564,
     "metadata": {},
     "output_type": "execute_result"
    }
   ],
   "source": [
    "airquality_data_for_selected_features.tail()"
   ]
  },
  {
   "cell_type": "code",
   "execution_count": 565,
   "metadata": {
    "colab": {},
    "colab_type": "code",
    "id": "LueXKLM3B_DR"
   },
   "outputs": [
    {
     "name": "stdout",
     "output_type": "stream",
     "text": [
      "(7431, 1)\n",
      "['PM2.5(Ug/m3)']\n",
      "<class 'pandas.core.frame.DataFrame'>\n",
      "DatetimeIndex: 7431 entries, 2017-09-09 18:00:00 to 2018-10-01 00:00:00\n",
      "Data columns (total 1 columns):\n",
      "PM2.5(Ug/m3)    7431 non-null float64\n",
      "dtypes: float64(1)\n",
      "memory usage: 116.1 KB\n",
      "\n",
      " dataframe info: \n",
      " None\n",
      "\n",
      " dataframe column datatypes:\n",
      " PM2.5(Ug/m3)    float64\n",
      "dtype: object\n"
     ]
    }
   ],
   "source": [
    "show_dataframe_info(airquality_data_for_selected_features)"
   ]
  },
  {
   "cell_type": "code",
   "execution_count": 566,
   "metadata": {
    "colab": {},
    "colab_type": "code",
    "id": "6inajEGHCWNw"
   },
   "outputs": [
    {
     "data": {
      "text/html": [
       "<div>\n",
       "<style scoped>\n",
       "    .dataframe tbody tr th:only-of-type {\n",
       "        vertical-align: middle;\n",
       "    }\n",
       "\n",
       "    .dataframe tbody tr th {\n",
       "        vertical-align: top;\n",
       "    }\n",
       "\n",
       "    .dataframe thead th {\n",
       "        text-align: right;\n",
       "    }\n",
       "</style>\n",
       "<table border=\"1\" class=\"dataframe\">\n",
       "  <thead>\n",
       "    <tr style=\"text-align: right;\">\n",
       "      <th></th>\n",
       "      <th>PM2.5(Ug/m3)</th>\n",
       "    </tr>\n",
       "  </thead>\n",
       "  <tbody>\n",
       "    <tr>\n",
       "      <th>count</th>\n",
       "      <td>7431.000000</td>\n",
       "    </tr>\n",
       "    <tr>\n",
       "      <th>mean</th>\n",
       "      <td>60.795613</td>\n",
       "    </tr>\n",
       "    <tr>\n",
       "      <th>std</th>\n",
       "      <td>34.575160</td>\n",
       "    </tr>\n",
       "    <tr>\n",
       "      <th>min</th>\n",
       "      <td>6.000000</td>\n",
       "    </tr>\n",
       "    <tr>\n",
       "      <th>25%</th>\n",
       "      <td>35.500000</td>\n",
       "    </tr>\n",
       "    <tr>\n",
       "      <th>50%</th>\n",
       "      <td>52.000000</td>\n",
       "    </tr>\n",
       "    <tr>\n",
       "      <th>75%</th>\n",
       "      <td>77.000000</td>\n",
       "    </tr>\n",
       "    <tr>\n",
       "      <th>max</th>\n",
       "      <td>407.000000</td>\n",
       "    </tr>\n",
       "  </tbody>\n",
       "</table>\n",
       "</div>"
      ],
      "text/plain": [
       "       PM2.5(Ug/m3)\n",
       "count   7431.000000\n",
       "mean      60.795613\n",
       "std       34.575160\n",
       "min        6.000000\n",
       "25%       35.500000\n",
       "50%       52.000000\n",
       "75%       77.000000\n",
       "max      407.000000"
      ]
     },
     "execution_count": 566,
     "metadata": {},
     "output_type": "execute_result"
    }
   ],
   "source": [
    "airquality_data_for_selected_features.describe()"
   ]
  },
  {
   "cell_type": "markdown",
   "metadata": {
    "colab_type": "text",
    "id": "_QqtVZw7Sb3i"
   },
   "source": [
    "### Separate Features From the Target"
   ]
  },
  {
   "cell_type": "code",
   "execution_count": 567,
   "metadata": {
    "colab": {},
    "colab_type": "code",
    "id": "y5tqylHa2W-Y"
   },
   "outputs": [
    {
     "data": {
      "text/plain": [
       "Index(['PM2.5(Ug/m3)'], dtype='object')"
      ]
     },
     "execution_count": 567,
     "metadata": {},
     "output_type": "execute_result"
    }
   ],
   "source": [
    "airquality_data_for_selected_features.columns"
   ]
  },
  {
   "cell_type": "code",
   "execution_count": 568,
   "metadata": {
    "colab": {},
    "colab_type": "code",
    "id": "4sPre3D-2W-6"
   },
   "outputs": [],
   "source": [
    "airquality_data_for_selected_features = airquality_data_for_selected_features.values"
   ]
  },
  {
   "cell_type": "markdown",
   "metadata": {
    "colab_type": "text",
    "id": "LvOH8t25Sb4E"
   },
   "source": [
    "\n",
    "### separate test dataset from training dataset and validation dataset\n",
    "- separate data on 70/10/20 training/validation/testing\n"
   ]
  },
  {
   "cell_type": "code",
   "execution_count": 569,
   "metadata": {
    "colab": {},
    "colab_type": "code",
    "id": "ahZvu1i-2W_A"
   },
   "outputs": [
    {
     "name": "stdout",
     "output_type": "stream",
     "text": [
      "5201\n",
      "743\n",
      "1486\n",
      "7430\n"
     ]
    }
   ],
   "source": [
    "training_data_length = math.floor(len(airquality_data_for_selected_features)* 0.7)\n",
    "print(training_data_length)\n",
    "\n",
    "validation_data_length = math.floor(len(airquality_data_for_selected_features)*0.1)\n",
    "print(validation_data_length)\n",
    "\n",
    "testing_data_length = math.floor(len(airquality_data_for_selected_features)* 0.2)\n",
    "print(testing_data_length)\n",
    "\n",
    "print(str(training_data_length + validation_data_length + testing_data_length ))"
   ]
  },
  {
   "cell_type": "code",
   "execution_count": 570,
   "metadata": {
    "colab": {},
    "colab_type": "code",
    "id": "yiqwv889Sb4E"
   },
   "outputs": [
    {
     "name": "stdout",
     "output_type": "stream",
     "text": [
      "(5201, 1)\n",
      "(743, 1)\n",
      "(1486, 1)\n"
     ]
    }
   ],
   "source": [
    "training_data = airquality_data_for_selected_features[0:training_data_length,:]\n",
    "print(training_data.shape)\n",
    "\n",
    "validation_data = airquality_data_for_selected_features[training_data_length:training_data_length+validation_data_length,:]\n",
    "print(validation_data.shape)\n",
    "\n",
    "testing_data = airquality_data_for_selected_features[training_data_length+validation_data_length: training_data_length+validation_data_length+testing_data_length,:]\n",
    "print(testing_data.shape)\n"
   ]
  },
  {
   "cell_type": "markdown",
   "metadata": {
    "colab_type": "text",
    "id": "qchOsoA0Sb3A"
   },
   "source": [
    "### Preprocess the data to a format a neural network can ingest.\n",
    "- Normalising/Scaling data using minmax scaler in sklearn preprocessing for each dataset separately\n",
    "- Generationg sequential data from the recent past (e.g 3hrs), along with a target pm2.5 value in the future (next day)  for the\n",
    "  * training dataset\n",
    "  * validation dataset\n",
    "  * test dataset"
   ]
  },
  {
   "cell_type": "code",
   "execution_count": 571,
   "metadata": {
    "colab": {},
    "colab_type": "code",
    "id": "GpJLPXVa2W_b"
   },
   "outputs": [],
   "source": [
    "def generate_dataset_in_format_lstm_can_ingest(data, look_back=1):\n",
    "    x_data, y_data = [], []\n",
    "    for i in range(len(data)-look_back-1):\n",
    "        feature_data = data[i:(i+look_back), 0]\n",
    "        x_data.append(feature_data)\n",
    "        y_data.append(data[i + look_back, 0])\n",
    "    return np.array(x_data), np.array(y_data)"
   ]
  },
  {
   "cell_type": "code",
   "execution_count": 572,
   "metadata": {},
   "outputs": [],
   "source": [
    "def generate_multivariate_dataset_in_format_lstm_can_ingest(data, number_of_inputs, number_of_outputs, dropnan=True):\n",
    "    number_of_variables = 1 if type(data) is list else data.shape[1]\n",
    "    data_frame= pd.DataFrame(data)\n",
    "    columnsx, names = list(),list()\n",
    "    #generate input sequence (t-n, ... t-1)\n",
    "    for i in range(number_of_inputs, 0, -1):\n",
    "        columnsx.append(data_frame.shift(i))\n",
    "        names += [('var%d(t-%d)' % (j+1, i)) for j in range(number_of_variables)]\n",
    "       # forecast sequence (t, t+1, ... t+n)\n",
    "    for i in range(0, number_of_outputs):\n",
    "        columnsx.append(data_frame.shift(-i))\n",
    "        if i == 0:\n",
    "            names += [('var%d(t)' % (j+1)) for j in range(number_of_variables)]\n",
    "        else:\n",
    "            names += [('var%d(t+%d)' % (j+1, i)) for j in range(number_of_variables)]\n",
    "            \n",
    "    aggregated_df = pd.concat(columnsx, axis=1)\n",
    "    aggregated_df.columns = names\n",
    "    \n",
    "    if dropnan:\n",
    "        aggregated_df.dropna(inplace=True)\n",
    "    return aggregated_df\n",
    "    "
   ]
  },
  {
   "cell_type": "markdown",
   "metadata": {
    "colab_type": "text",
    "id": "TDXADXdT2W_g"
   },
   "source": [
    "### given data that goes back a number of timesteps e.g 3hrs, can we predict the next hour."
   ]
  },
  {
   "cell_type": "markdown",
   "metadata": {
    "colab_type": "text",
    "id": "LpEnC6fs2W_h"
   },
   "source": [
    "### training dataset"
   ]
  },
  {
   "cell_type": "code",
   "execution_count": 573,
   "metadata": {
    "colab": {},
    "colab_type": "code",
    "id": "eJF-bFjySb4H"
   },
   "outputs": [],
   "source": [
    "scaler = MinMaxScaler()\n",
    "scaled_training_data = scaler.fit_transform(training_data)\n",
    "# reshape into X=t and Y=t+1 timesteps = lookback\n",
    "timesteps = 1\n",
    "number_of_features = 1\n",
    "scaled_training_features, training_targets = generate_dataset_in_format_lstm_can_ingest(scaled_training_data, timesteps)\n",
    "# reshape input to [samples, time steps, features]\n",
    "\n",
    "scaled_training_features_with_original_shape = scaled_training_features\n",
    "scaled_training_features = np.reshape(scaled_training_features, \n",
    "                                      (scaled_training_features.shape[0], timesteps, scaled_training_features.shape[1]))\n"
   ]
  },
  {
   "cell_type": "markdown",
   "metadata": {
    "colab_type": "text",
    "id": "2rUqfzEj2XHf"
   },
   "source": [
    "### validation dataset"
   ]
  },
  {
   "cell_type": "code",
   "execution_count": 574,
   "metadata": {
    "colab": {},
    "colab_type": "code",
    "id": "9K3nO_QW2XHg"
   },
   "outputs": [],
   "source": [
    "scaled_validation_data = scaler.fit_transform(validation_data)\n",
    "#print(scaled_validation_data)\n",
    "\n",
    "scaled_validation_features, validation_targets = generate_dataset_in_format_lstm_can_ingest(scaled_validation_data, timesteps)\n",
    "# reshape input to [samples, time steps, features]\n",
    "scaled_validation_features = np.reshape(scaled_validation_features, (scaled_validation_features.shape[0], \n",
    "                                                                     timesteps, scaled_validation_features.shape[1]))"
   ]
  },
  {
   "cell_type": "markdown",
   "metadata": {
    "colab_type": "text",
    "id": "DNtoE6H22XHl"
   },
   "source": [
    "### Testing dataset"
   ]
  },
  {
   "cell_type": "code",
   "execution_count": 575,
   "metadata": {
    "colab": {},
    "colab_type": "code",
    "id": "GO-KGFQe2XHm",
    "scrolled": true
   },
   "outputs": [],
   "source": [
    "scaled_testing_data = scaler.fit_transform(testing_data)\n",
    "scaled_testing_features, testing_targets = generate_dataset_in_format_lstm_can_ingest(scaled_testing_data, timesteps)\n",
    "scaled_testing_features_with_original_shape = scaled_testing_features\n",
    "scaled_testing_features = np.reshape(scaled_testing_features, (scaled_testing_features.shape[0], \n",
    "                                                                     timesteps, scaled_testing_features.shape[1]))"
   ]
  },
  {
   "cell_type": "code",
   "execution_count": 576,
   "metadata": {},
   "outputs": [
    {
     "data": {
      "text/plain": [
       "array([[38.],\n",
       "       [33.]])"
      ]
     },
     "execution_count": 576,
     "metadata": {},
     "output_type": "execute_result"
    }
   ],
   "source": [
    "testing_data[0:2]"
   ]
  },
  {
   "cell_type": "code",
   "execution_count": 577,
   "metadata": {},
   "outputs": [
    {
     "data": {
      "text/plain": [
       "array([0.06392694, 0.06392694])"
      ]
     },
     "execution_count": 577,
     "metadata": {},
     "output_type": "execute_result"
    }
   ],
   "source": [
    "testing_targets[0:2]"
   ]
  },
  {
   "cell_type": "markdown",
   "metadata": {
    "colab_type": "text",
    "id": "2NYYNr3J2XH5"
   },
   "source": [
    "### SUPPORT VECTOR REGRESSION APPROACH\n",
    "- Training and evaluation on support vector regression approach"
   ]
  },
  {
   "cell_type": "code",
   "execution_count": 578,
   "metadata": {},
   "outputs": [
    {
     "data": {
      "text/plain": [
       "(5199, 1, 1)"
      ]
     },
     "execution_count": 578,
     "metadata": {},
     "output_type": "execute_result"
    }
   ],
   "source": [
    "scaled_training_features.shape"
   ]
  },
  {
   "cell_type": "code",
   "execution_count": 579,
   "metadata": {},
   "outputs": [
    {
     "data": {
      "text/plain": [
       "(5199,)"
      ]
     },
     "execution_count": 579,
     "metadata": {},
     "output_type": "execute_result"
    }
   ],
   "source": [
    "training_targets.shape"
   ]
  },
  {
   "cell_type": "code",
   "execution_count": 580,
   "metadata": {},
   "outputs": [
    {
     "data": {
      "text/plain": [
       "(5199, 1)"
      ]
     },
     "execution_count": 580,
     "metadata": {},
     "output_type": "execute_result"
    }
   ],
   "source": [
    "scaled_training_features_with_original_shape.shape"
   ]
  },
  {
   "cell_type": "code",
   "execution_count": 581,
   "metadata": {},
   "outputs": [
    {
     "data": {
      "text/plain": [
       "(1484,)"
      ]
     },
     "execution_count": 581,
     "metadata": {},
     "output_type": "execute_result"
    }
   ],
   "source": [
    "testing_targets.shape"
   ]
  },
  {
   "cell_type": "code",
   "execution_count": 582,
   "metadata": {},
   "outputs": [
    {
     "data": {
      "text/plain": [
       "(1484, 1)"
      ]
     },
     "execution_count": 582,
     "metadata": {},
     "output_type": "execute_result"
    }
   ],
   "source": [
    "scaled_testing_targets = testing_targets.reshape(-1,1)\n",
    "scaled_testing_targets.shape"
   ]
  },
  {
   "cell_type": "code",
   "execution_count": 583,
   "metadata": {},
   "outputs": [
    {
     "data": {
      "text/plain": [
       "(1484, 1)"
      ]
     },
     "execution_count": 583,
     "metadata": {},
     "output_type": "execute_result"
    }
   ],
   "source": [
    "scaled_testing_targets.shape"
   ]
  },
  {
   "cell_type": "code",
   "execution_count": 584,
   "metadata": {},
   "outputs": [
    {
     "data": {
      "text/plain": [
       "(1484, 1)"
      ]
     },
     "execution_count": 584,
     "metadata": {},
     "output_type": "execute_result"
    }
   ],
   "source": [
    "scaled_testing_features_with_original_shape.shape"
   ]
  },
  {
   "cell_type": "markdown",
   "metadata": {
    "colab_type": "text",
    "id": "NWJELt102XID"
   },
   "source": [
    "### BASIC LSTM MODOEL\n",
    "- Training and evaluating on basic lstm model with one layer"
   ]
  },
  {
   "cell_type": "code",
   "execution_count": 585,
   "metadata": {
    "colab": {},
    "colab_type": "code",
    "id": "LUzooi-O2XIE"
   },
   "outputs": [],
   "source": [
    "from tensorflow.keras.models import Sequential, load_model\n",
    "from tensorflow.keras import backend\n",
    "from tensorflow.keras.utils import plot_model\n",
    "\n",
    "def rmse(y_true, y_pred):\n",
    "    return backend.sqrt(backend.mean(backend.square(y_pred - y_true)))\n",
    "\n"
   ]
  },
  {
   "cell_type": "code",
   "execution_count": 586,
   "metadata": {
    "colab": {},
    "colab_type": "code",
    "id": "_RR1f5UE2XIr"
   },
   "outputs": [
    {
     "name": "stdout",
     "output_type": "stream",
     "text": [
      "[0.0025289737447646825, 0.034299992884746264, 0.046425798960183416]\n",
      "[0.008432418781375347, 0.06212654782112718, 0.0878564272567911]\n"
     ]
    }
   ],
   "source": [
    "saved_model = load_model(os.path.join(filepath,'basic_lstm_model.h5'),  custom_objects={'rmse': rmse})\n",
    "\n",
    "basic_lstm_model_train_evaluation = saved_model.evaluate(scaled_training_features, training_targets, verbose=0)\n",
    "basic_lstm_model_test_evaluation = saved_model.evaluate(scaled_testing_features, testing_targets, verbose=0)\n",
    "print(basic_lstm_model_train_evaluation)\n",
    "print(basic_lstm_model_test_evaluation)"
   ]
  },
  {
   "cell_type": "code",
   "execution_count": 587,
   "metadata": {
    "colab": {},
    "colab_type": "code",
    "id": "_sYd1zZO2XI4"
   },
   "outputs": [
    {
     "name": "stdout",
     "output_type": "stream",
     "text": [
      "5199/5199 [==============================] - 0s 64us/step\n",
      "[0.0025289737447646825, 0.034299992884746264, 0.046425798960183416]\n",
      "['loss', 'mean_absolute_error', 'rmse']\n"
     ]
    }
   ],
   "source": [
    "basic_lstm_model_predictions = saved_model.predict(scaled_testing_features)\n",
    "basic_lstm_model_evaluation =  saved_model.evaluate(scaled_training_features, training_targets)\n",
    "print(basic_lstm_model_evaluation)\n",
    "print(saved_model.metrics_names)"
   ]
  },
  {
   "cell_type": "code",
   "execution_count": 588,
   "metadata": {},
   "outputs": [],
   "source": [
    "basic_lstm_testing_targets_unscaled = scaler.inverse_transform(scaled_testing_targets)\n",
    "basic_lstm_testing_predictions_unscaled = scaler.inverse_transform(basic_lstm_model_predictions)"
   ]
  },
  {
   "cell_type": "code",
   "execution_count": 589,
   "metadata": {},
   "outputs": [
    {
     "name": "stdout",
     "output_type": "stream",
     "text": [
      "BASIC LSTM RMSE:  20.11\n",
      "BASIC LSTM MAE:  13.61\n"
     ]
    }
   ],
   "source": [
    "basic_lstm_rmse = calculate_rmse(basic_lstm_testing_targets_unscaled, basic_lstm_testing_predictions_unscaled)\n",
    "basic_lstm_mae =  mean_absolute_error(basic_lstm_testing_targets_unscaled, basic_lstm_testing_predictions_unscaled)\n",
    "print('BASIC LSTM RMSE: ', basic_lstm_rmse.round(2))\n",
    "print('BASIC LSTM MAE: ', basic_lstm_mae.round(2))"
   ]
  },
  {
   "cell_type": "code",
   "execution_count": 590,
   "metadata": {
    "colab": {},
    "colab_type": "code",
    "id": "s2K0wBp62XI9"
   },
   "outputs": [
    {
     "name": "stdout",
     "output_type": "stream",
     "text": [
      "(1484, 1)\n",
      "(1484,)\n"
     ]
    }
   ],
   "source": [
    "print(basic_lstm_model_predictions.shape)\n",
    "print(basic_lstm_model_predictions.ravel().shape)"
   ]
  },
  {
   "cell_type": "code",
   "execution_count": 591,
   "metadata": {
    "colab": {},
    "colab_type": "code",
    "id": "ZGfCLc2T2XJA"
   },
   "outputs": [],
   "source": [
    "basic_lstm_model_prediction_vs_actual_dataframe = pd.DataFrame({'Actual PM2.5': basic_lstm_testing_targets_unscaled.ravel(), 'Predicted PM2.5':basic_lstm_testing_predictions_unscaled.ravel()}) \n",
    "basic_lstm_model_prediction_vs_actual_dataframe\n",
    "## save predictions by basic lstm model\n",
    "basic_lstm_model_prediction_vs_actual_dataframe.to_csv(os.path.join(filepath , 'basic_lstm_model_predictions.csv'))"
   ]
  },
  {
   "cell_type": "markdown",
   "metadata": {
    "colab_type": "text",
    "id": "sO0awXl1Sb4T"
   },
   "source": [
    "### Making predictions (forecasts) using the deep recurrent lstm\n",
    "1. Convert test set in the same format accepted by model\n",
    "1. make the forecasts directly on the testing dataset"
   ]
  },
  {
   "cell_type": "markdown",
   "metadata": {
    "colab_type": "text",
    "id": "RDyMT-YB2XJ0"
   },
   "source": [
    "### Make prediction and evaluation using the developed deep lstm model"
   ]
  },
  {
   "cell_type": "code",
   "execution_count": 592,
   "metadata": {
    "colab": {},
    "colab_type": "code",
    "id": "99pD-uTa2XJ1"
   },
   "outputs": [
    {
     "name": "stdout",
     "output_type": "stream",
     "text": [
      "[0.0024029508724045666, 0.032120134894096423, 0.044937324993402646]\n",
      "[0.008560078833603635, 0.061696925614722016, 0.08834790279762443]\n"
     ]
    }
   ],
   "source": [
    "from tensorflow.keras.models import load_model\n",
    "#saved_best_deep_lstm_model = load_model(os.path.join(filepath,'deep_lstm_best_model.h5'),  custom_objects={'rmse': rmse})\n",
    "saved_best_deep_lstm_model = load_model(os.path.join(filepath,'airquality_prediction_model.h5'),  custom_objects={'rmse': rmse})\n",
    "deep_lstm_model_train_evaluation = saved_best_deep_lstm_model.evaluate(scaled_training_features, training_targets, verbose=0)\n",
    "deep_lstm_model_test_evaluation = saved_best_deep_lstm_model.evaluate(scaled_testing_features, testing_targets, verbose=0)\n",
    "print(deep_lstm_model_train_evaluation)\n",
    "print(deep_lstm_model_test_evaluation)"
   ]
  },
  {
   "cell_type": "code",
   "execution_count": 593,
   "metadata": {
    "colab": {},
    "colab_type": "code",
    "id": "ts5RRZWoSb4Z"
   },
   "outputs": [
    {
     "name": "stdout",
     "output_type": "stream",
     "text": [
      "1484/1484 [==============================] - 0s 66us/step\n",
      "Deep LSTM RMSE:  20.26\n",
      "Deep LSTM MAE:  13.51\n"
     ]
    }
   ],
   "source": [
    "deep_lstm_model_predictions = saved_best_deep_lstm_model.predict(scaled_testing_features)\n",
    "deep_lstm_model_evaluation =  saved_best_deep_lstm_model.evaluate(scaled_testing_features, testing_targets)\n",
    "\n",
    "\n",
    "deep_lstm_testing_targets_unscaled = scaler.inverse_transform(scaled_testing_targets)\n",
    "deep_lstm_testing_predictions_unscaled = scaler.inverse_transform(deep_lstm_model_predictions)\n",
    "\n",
    "deep_lstm_rmse = calculate_rmse(deep_lstm_testing_targets_unscaled, deep_lstm_testing_predictions_unscaled )\n",
    "deep_lstm_mae =  mean_absolute_error(deep_lstm_testing_targets_unscaled, deep_lstm_testing_predictions_unscaled )\n",
    "print('Deep LSTM RMSE: ', deep_lstm_rmse.round(2))\n",
    "print('Deep LSTM MAE: ', deep_lstm_mae.round(2))\n",
    "\n",
    "deep_lstm_model_prediction_vs_actual_dataframe = pd.DataFrame({'Actual PM2.5': deep_lstm_testing_targets_unscaled.ravel(), 'Predicted PM2.5':deep_lstm_model_predictions.ravel()}) \n",
    "deep_lstm_model_prediction_vs_actual_dataframe\n",
    "## save predictions by basic lstm model\n",
    "deep_lstm_model_prediction_vs_actual_dataframe.to_csv(os.path.join(filepath , 'deep_lstm_model_predictions.csv'))"
   ]
  },
  {
   "cell_type": "markdown",
   "metadata": {
    "colab_type": "text",
    "id": "EQ7BkVaMSb4j"
   },
   "source": [
    "### Verification of the average in the results of the forecasts and in the actual results"
   ]
  },
  {
   "cell_type": "code",
   "execution_count": 594,
   "metadata": {
    "colab": {},
    "colab_type": "code",
    "id": "pBCyXHz1Sb4h"
   },
   "outputs": [
    {
     "name": "stdout",
     "output_type": "stream",
     "text": [
      "predictions 62.52011\n",
      "actual pm2.5 values 66.00134770889488\n"
     ]
    }
   ],
   "source": [
    "print('predictions', deep_lstm_testing_predictions_unscaled.mean())\n",
    "print('actual pm2.5 values', deep_lstm_testing_targets_unscaled.mean())"
   ]
  },
  {
   "cell_type": "markdown",
   "metadata": {
    "colab_type": "text",
    "id": "xX5heGwJSb4m"
   },
   "source": [
    "### Visualization of the predictions and actual values of PM2.5\n",
    "1. #### using line graph"
   ]
  },
  {
   "cell_type": "code",
   "execution_count": 595,
   "metadata": {},
   "outputs": [
    {
     "name": "stdout",
     "output_type": "stream",
     "text": [
      "(1484, 19)\n",
      "(1484,)\n",
      "\n"
     ]
    }
   ],
   "source": [
    "testing_data_for_plotting =airquality_data_copy.loc[training_data_length+validation_data_length+timesteps+2: training_data_length+validation_data_length+testing_data_length,:]\n",
    "print(testing_data_for_plotting.shape)\n",
    "print(testing_targets.shape)\n",
    "print()"
   ]
  },
  {
   "cell_type": "code",
   "execution_count": 596,
   "metadata": {},
   "outputs": [
    {
     "data": {
      "text/html": [
       "<div>\n",
       "<style scoped>\n",
       "    .dataframe tbody tr th:only-of-type {\n",
       "        vertical-align: middle;\n",
       "    }\n",
       "\n",
       "    .dataframe tbody tr th {\n",
       "        vertical-align: top;\n",
       "    }\n",
       "\n",
       "    .dataframe thead th {\n",
       "        text-align: right;\n",
       "    }\n",
       "</style>\n",
       "<table border=\"1\" class=\"dataframe\">\n",
       "  <thead>\n",
       "    <tr style=\"text-align: right;\">\n",
       "      <th></th>\n",
       "      <th>TimeStamp</th>\n",
       "      <th>PM2.5(Ug/m3)</th>\n",
       "      <th>hour</th>\n",
       "      <th>EVI</th>\n",
       "      <th>NDVI</th>\n",
       "      <th>humidity (%)</th>\n",
       "      <th>precipitation (mm)</th>\n",
       "      <th>pressure (kPa)</th>\n",
       "      <th>radiation (W/m2)</th>\n",
       "      <th>temperature (oC)</th>\n",
       "      <th>windspeed (m/s)</th>\n",
       "      <th>winddirection_E</th>\n",
       "      <th>winddirection_N</th>\n",
       "      <th>winddirection_NE</th>\n",
       "      <th>winddirection_NW</th>\n",
       "      <th>winddirection_S</th>\n",
       "      <th>winddirection_SE</th>\n",
       "      <th>winddirection_SW</th>\n",
       "      <th>winddirection_W</th>\n",
       "    </tr>\n",
       "  </thead>\n",
       "  <tbody>\n",
       "    <tr>\n",
       "      <th>5947</th>\n",
       "      <td>2018-07-28 18:00:00</td>\n",
       "      <td>41.0</td>\n",
       "      <td>18</td>\n",
       "      <td>0.1877</td>\n",
       "      <td>0.372</td>\n",
       "      <td>77</td>\n",
       "      <td>0.0</td>\n",
       "      <td>87.8</td>\n",
       "      <td>21.53</td>\n",
       "      <td>22.83</td>\n",
       "      <td>0.70</td>\n",
       "      <td>0</td>\n",
       "      <td>0</td>\n",
       "      <td>0</td>\n",
       "      <td>0</td>\n",
       "      <td>1</td>\n",
       "      <td>0</td>\n",
       "      <td>0</td>\n",
       "      <td>0</td>\n",
       "    </tr>\n",
       "    <tr>\n",
       "      <th>5948</th>\n",
       "      <td>2018-07-28 19:00:00</td>\n",
       "      <td>42.0</td>\n",
       "      <td>19</td>\n",
       "      <td>0.1877</td>\n",
       "      <td>0.372</td>\n",
       "      <td>82</td>\n",
       "      <td>0.0</td>\n",
       "      <td>87.8</td>\n",
       "      <td>0.17</td>\n",
       "      <td>21.80</td>\n",
       "      <td>0.43</td>\n",
       "      <td>0</td>\n",
       "      <td>0</td>\n",
       "      <td>0</td>\n",
       "      <td>0</td>\n",
       "      <td>0</td>\n",
       "      <td>0</td>\n",
       "      <td>0</td>\n",
       "      <td>1</td>\n",
       "    </tr>\n",
       "  </tbody>\n",
       "</table>\n",
       "</div>"
      ],
      "text/plain": [
       "                TimeStamp  PM2.5(Ug/m3)  hour     EVI   NDVI  humidity (%)  \\\n",
       "5947  2018-07-28 18:00:00          41.0    18  0.1877  0.372            77   \n",
       "5948  2018-07-28 19:00:00          42.0    19  0.1877  0.372            82   \n",
       "\n",
       "      precipitation (mm)  pressure (kPa)  radiation (W/m2)  temperature (oC)  \\\n",
       "5947                 0.0            87.8             21.53             22.83   \n",
       "5948                 0.0            87.8              0.17             21.80   \n",
       "\n",
       "      windspeed (m/s)  winddirection_E  winddirection_N  winddirection_NE  \\\n",
       "5947             0.70                0                0                 0   \n",
       "5948             0.43                0                0                 0   \n",
       "\n",
       "      winddirection_NW  winddirection_S  winddirection_SE  winddirection_SW  \\\n",
       "5947                 0                1                 0                 0   \n",
       "5948                 0                0                 0                 0   \n",
       "\n",
       "      winddirection_W  \n",
       "5947                0  \n",
       "5948                1  "
      ]
     },
     "execution_count": 596,
     "metadata": {},
     "output_type": "execute_result"
    }
   ],
   "source": [
    "testing_data_for_plotting.head(2)"
   ]
  },
  {
   "cell_type": "code",
   "execution_count": 597,
   "metadata": {},
   "outputs": [
    {
     "name": "stdout",
     "output_type": "stream",
     "text": [
      "(1484, 1)\n",
      "[[33.]\n",
      " [33.]\n",
      " [41.]]\n",
      "(1484, 1)\n",
      "[[39.580322]\n",
      " [35.184288]\n",
      " [35.184288]]\n"
     ]
    }
   ],
   "source": [
    "print(deep_lstm_testing_targets_unscaled.shape)\n",
    "print(deep_lstm_testing_targets_unscaled[0:3])\n",
    "print(deep_lstm_testing_predictions_unscaled.shape)\n",
    "print(deep_lstm_testing_predictions_unscaled[0:3])"
   ]
  },
  {
   "cell_type": "code",
   "execution_count": 598,
   "metadata": {},
   "outputs": [
    {
     "data": {
      "text/html": [
       "<div>\n",
       "<style scoped>\n",
       "    .dataframe tbody tr th:only-of-type {\n",
       "        vertical-align: middle;\n",
       "    }\n",
       "\n",
       "    .dataframe tbody tr th {\n",
       "        vertical-align: top;\n",
       "    }\n",
       "\n",
       "    .dataframe thead th {\n",
       "        text-align: right;\n",
       "    }\n",
       "</style>\n",
       "<table border=\"1\" class=\"dataframe\">\n",
       "  <thead>\n",
       "    <tr style=\"text-align: right;\">\n",
       "      <th></th>\n",
       "      <th>Actual PM2.5</th>\n",
       "      <th>Predicted PM2.5</th>\n",
       "    </tr>\n",
       "    <tr>\n",
       "      <th>TimeStamp</th>\n",
       "      <th></th>\n",
       "      <th></th>\n",
       "    </tr>\n",
       "  </thead>\n",
       "  <tbody>\n",
       "    <tr>\n",
       "      <th>2018-07-28 18:00:00</th>\n",
       "      <td>0.063927</td>\n",
       "      <td>0.093974</td>\n",
       "    </tr>\n",
       "    <tr>\n",
       "      <th>2018-07-28 19:00:00</th>\n",
       "      <td>0.063927</td>\n",
       "      <td>0.073901</td>\n",
       "    </tr>\n",
       "    <tr>\n",
       "      <th>2018-07-28 20:00:00</th>\n",
       "      <td>0.100457</td>\n",
       "      <td>0.073901</td>\n",
       "    </tr>\n",
       "    <tr>\n",
       "      <th>2018-07-28 21:00:00</th>\n",
       "      <td>0.105023</td>\n",
       "      <td>0.106172</td>\n",
       "    </tr>\n",
       "    <tr>\n",
       "      <th>2018-07-28 22:00:00</th>\n",
       "      <td>0.136986</td>\n",
       "      <td>0.110258</td>\n",
       "    </tr>\n",
       "  </tbody>\n",
       "</table>\n",
       "</div>"
      ],
      "text/plain": [
       "                     Actual PM2.5  Predicted PM2.5\n",
       "TimeStamp                                         \n",
       "2018-07-28 18:00:00      0.063927         0.093974\n",
       "2018-07-28 19:00:00      0.063927         0.073901\n",
       "2018-07-28 20:00:00      0.100457         0.073901\n",
       "2018-07-28 21:00:00      0.105023         0.106172\n",
       "2018-07-28 22:00:00      0.136986         0.110258"
      ]
     },
     "execution_count": 598,
     "metadata": {},
     "output_type": "execute_result"
    }
   ],
   "source": [
    "actual_pm25_vs_predicted_pm25_dataframe = pd.DataFrame({'TimeStamp':testing_data_for_plotting['TimeStamp'].values, \n",
    "                           'Actual PM2.5':testing_targets.ravel(), 'Predicted PM2.5': deep_lstm_model_predictions.ravel()})\n",
    "\n",
    "\n",
    "actual_pm25_vs_predicted_pm25_dataframe[\"TimeStamp\"] = pd.to_datetime(actual_pm25_vs_predicted_pm25_dataframe[\"TimeStamp\"])\n",
    "actual_pm25_vs_predicted_pm25_dataframe = actual_pm25_vs_predicted_pm25_dataframe.set_index('TimeStamp')\n",
    "actual_pm25_vs_predicted_pm25_dataframe.head()"
   ]
  },
  {
   "cell_type": "raw",
   "metadata": {},
   "source": [
    "fig_deep_lstm_predictions_vs_actual_x = plt.figure(figsize=(6,4))\n",
    "ax_fig_deep_lstm_predictions_vs_actual_x = fig_deep_lstm_predictions_vs_actual_x.add_subplot(111)\n",
    "plt.plot(actual_pm25_vs_predicted_pm25_dataframe.index, deep_lstm_testing_targets_unscaled, color = 'red', label = 'Actual PM2.5 Values')\n",
    "plt.plot(actual_pm25_vs_predicted_pm25_dataframe.index, deep_lstm_testing_predictions_unscaled,  color = 'blue', label = 'Predicted PM2.5 Values')\n",
    "#plt.title('PM2.5 Values Predictions Vs Actual PM2.5 Values ')\n",
    "plt.xlabel('Date', fontsize=16)\n",
    "plt.ylabel('PM2.5 Concentration')\n",
    "plt.legend()\n",
    "plt.xticks(rotation=90)\n",
    "plt.tight_layout()"
   ]
  },
  {
   "cell_type": "code",
   "execution_count": 599,
   "metadata": {
    "colab": {},
    "colab_type": "code",
    "id": "e1NQ6pyMSb4m"
   },
   "outputs": [
    {
     "data": {
      "image/png": "[encoded data removed]",
      "text/plain": [
       "<Figure size 432x288 with 1 Axes>"
      ]
     },
     "metadata": {
      "needs_background": "light"
     },
     "output_type": "display_data"
    }
   ],
   "source": [
    "plt.rcParams.update({'font.size':12, 'font.weight':'bold'})\n",
    "fig_deep_lstm_predictions_vs_actual = plt.figure(figsize=(6,4))\n",
    "ax_fig_deep_lstm_predictions_vs_actual = fig_deep_lstm_predictions_vs_actual.add_subplot(111)\n",
    "plt.plot(actual_pm25_vs_predicted_pm25_dataframe.index, deep_lstm_testing_targets_unscaled, color = 'red', label = 'Actual PM2.5 Values')\n",
    "plt.plot(actual_pm25_vs_predicted_pm25_dataframe.index, deep_lstm_testing_predictions_unscaled, color = 'blue', label = 'Predicted PM2.5 Values')\n",
    "#plt.title('PM2.5 Values Predictions Vs Actual PM2.5 Values ')\n",
    "#ax_fig_deep_lstm_predictions_vs_actual.tick_params(axis='both', which='major', labelsize=14)\n",
    "plt.xlabel('Date')\n",
    "plt.ylabel('PM2.5 Concentration')\n",
    "plt.legend()\n",
    "plt.xticks(rotation=90)\n",
    "ax_fig_deep_lstm_predictions_vs_actual.xaxis.set_major_locator(plt.MaxNLocator(8))\n",
    "plt.tight_layout()\n",
    "fig_deep_lstm_predictions_vs_actual.savefig(os.path.join(filepath, 'deep_lstm_model_prediction_vs_actual.png'))"
   ]
  },
  {
   "cell_type": "code",
   "execution_count": null,
   "metadata": {},
   "outputs": [],
   "source": []
  }
 ],
 "metadata": {
  "accelerator": "GPU",
  "colab": {
   "name": "air_quality_prediction_experimentation_selected_features.ipynb",
   "provenance": [],
   "version": "0.3.2"
  },
  "kernelspec": {
   "display_name": "Python 3",
   "language": "python",
   "name": "python3"
  },
  "language_info": {
   "codemirror_mode": {
    "name": "ipython",
    "version": 3
   },
   "file_extension": ".py",
   "mimetype": "text/x-python",
   "name": "python",
   "nbconvert_exporter": "python",
   "pygments_lexer": "ipython3",
   "version": "3.6.6"
  }
 },
 "nbformat": 4,
 "nbformat_minor": 1
}
