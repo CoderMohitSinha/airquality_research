{
 "cells": [
  {
   "cell_type": "code",
   "execution_count": 2,
   "metadata": {},
   "outputs": [],
   "source": [
    "import pandas as pd\n",
    "import numpy as np\n",
    "import matplotlib.pyplot as plt \n",
    "%matplotlib inline\n",
    "import os\n"
   ]
  },
  {
   "cell_type": "code",
   "execution_count": 91,
   "metadata": {},
   "outputs": [
    {
     "data": {
      "text/html": [
       "<div>\n",
       "<style scoped>\n",
       "    .dataframe tbody tr th:only-of-type {\n",
       "        vertical-align: middle;\n",
       "    }\n",
       "\n",
       "    .dataframe tbody tr th {\n",
       "        vertical-align: top;\n",
       "    }\n",
       "\n",
       "    .dataframe thead th {\n",
       "        text-align: right;\n",
       "    }\n",
       "</style>\n",
       "<table border=\"1\" class=\"dataframe\">\n",
       "  <thead>\n",
       "    <tr style=\"text-align: right;\">\n",
       "      <th></th>\n",
       "      <th>Model Approach</th>\n",
       "      <th>RMSE_One_Feature</th>\n",
       "      <th>RMSE_Three_Features</th>\n",
       "      <th>RMSE_Five_Features</th>\n",
       "      <th>RMSE_All_Features</th>\n",
       "    </tr>\n",
       "  </thead>\n",
       "  <tbody>\n",
       "    <tr>\n",
       "      <th>0</th>\n",
       "      <td>Deep LSTM</td>\n",
       "      <td>20.45</td>\n",
       "      <td>26.30</td>\n",
       "      <td>25.87</td>\n",
       "      <td>30.60</td>\n",
       "    </tr>\n",
       "    <tr>\n",
       "      <th>1</th>\n",
       "      <td>SVR</td>\n",
       "      <td>21.08</td>\n",
       "      <td>35.28</td>\n",
       "      <td>34.57</td>\n",
       "      <td>30.53</td>\n",
       "    </tr>\n",
       "    <tr>\n",
       "      <th>2</th>\n",
       "      <td>GP</td>\n",
       "      <td>NaN</td>\n",
       "      <td>NaN</td>\n",
       "      <td>NaN</td>\n",
       "      <td>NaN</td>\n",
       "    </tr>\n",
       "  </tbody>\n",
       "</table>\n",
       "</div>"
      ],
      "text/plain": [
       "  Model Approach  RMSE_One_Feature  RMSE_Three_Features  RMSE_Five_Features  \\\n",
       "0      Deep LSTM             20.45                26.30               25.87   \n",
       "1            SVR             21.08                35.28               34.57   \n",
       "2             GP               NaN                  NaN                 NaN   \n",
       "\n",
       "   RMSE_All_Features  \n",
       "0              30.60  \n",
       "1              30.53  \n",
       "2                NaN  "
      ]
     },
     "execution_count": 91,
     "metadata": {},
     "output_type": "execute_result"
    }
   ],
   "source": [
    "base_dir ='data\\AirQuality\\AirQo'\n",
    "number_of_features_vs_rmse_for_different_locations= pd.read_csv(os.path.join(base_dir,'model_approaches_vs_rmse_for_nsambya.csv'))\n",
    "number_of_features_vs_rmse_for_different_locations_a = pd.read_csv(os.path.join(base_dir,'model_approaches_vs_rmse_for_bukoto.csv'))\n",
    "number_of_features_vs_rmse_for_different_locations.head()"
   ]
  },
  {
   "cell_type": "code",
   "execution_count": 92,
   "metadata": {},
   "outputs": [
    {
     "data": {
      "text/html": [
       "<div>\n",
       "<style scoped>\n",
       "    .dataframe tbody tr th:only-of-type {\n",
       "        vertical-align: middle;\n",
       "    }\n",
       "\n",
       "    .dataframe tbody tr th {\n",
       "        vertical-align: top;\n",
       "    }\n",
       "\n",
       "    .dataframe thead th {\n",
       "        text-align: right;\n",
       "    }\n",
       "</style>\n",
       "<table border=\"1\" class=\"dataframe\">\n",
       "  <thead>\n",
       "    <tr style=\"text-align: right;\">\n",
       "      <th></th>\n",
       "      <th>0</th>\n",
       "      <th>1</th>\n",
       "      <th>2</th>\n",
       "    </tr>\n",
       "  </thead>\n",
       "  <tbody>\n",
       "    <tr>\n",
       "      <th>Model Approach</th>\n",
       "      <td>Deep LSTM</td>\n",
       "      <td>SVR</td>\n",
       "      <td>GP</td>\n",
       "    </tr>\n",
       "    <tr>\n",
       "      <th>RMSE_One_Feature</th>\n",
       "      <td>20.45</td>\n",
       "      <td>21.08</td>\n",
       "      <td>NaN</td>\n",
       "    </tr>\n",
       "    <tr>\n",
       "      <th>RMSE_Three_Features</th>\n",
       "      <td>26.3</td>\n",
       "      <td>35.28</td>\n",
       "      <td>NaN</td>\n",
       "    </tr>\n",
       "    <tr>\n",
       "      <th>RMSE_Five_Features</th>\n",
       "      <td>25.87</td>\n",
       "      <td>34.57</td>\n",
       "      <td>NaN</td>\n",
       "    </tr>\n",
       "    <tr>\n",
       "      <th>RMSE_All_Features</th>\n",
       "      <td>30.6</td>\n",
       "      <td>30.53</td>\n",
       "      <td>NaN</td>\n",
       "    </tr>\n",
       "  </tbody>\n",
       "</table>\n",
       "</div>"
      ],
      "text/plain": [
       "                             0      1    2\n",
       "Model Approach       Deep LSTM    SVR   GP\n",
       "RMSE_One_Feature         20.45  21.08  NaN\n",
       "RMSE_Three_Features       26.3  35.28  NaN\n",
       "RMSE_Five_Features       25.87  34.57  NaN\n",
       "RMSE_All_Features         30.6  30.53  NaN"
      ]
     },
     "execution_count": 92,
     "metadata": {},
     "output_type": "execute_result"
    }
   ],
   "source": [
    "number_of_features_vs_rmse_for_different_locations = number_of_features_vs_rmse_for_different_locations.T\n",
    "number_of_features_vs_rmse_for_different_locations.head()"
   ]
  },
  {
   "cell_type": "code",
   "execution_count": 93,
   "metadata": {},
   "outputs": [],
   "source": [
    "number_of_features_vs_rmse_for_different_locations.to_csv(os.path.join(base_dir,\"models_comparisons_for_approaches_vs_rmse_for_nsambya.csv\"))\n"
   ]
  },
  {
   "cell_type": "code",
   "execution_count": 94,
   "metadata": {},
   "outputs": [],
   "source": [
    "#number_of_features_vs_rmse_for_different_locations= pd.read_csv(os.path.join(base_dir,'models_comparisons_for_approaches_vs_rmse_for_makerere.csv'))\n",
    "#number_of_features_vs_rmse_for_different_locations= pd.read_csv(os.path.join(base_dir,'models_comparisons_for_approaches_vs_rmse_for_bugolobi.csv'))\n",
    "#number_of_features_vs_rmse_for_different_locations= pd.read_csv(os.path.join(base_dir,'models_comparisons_for_approaches_vs_rmse_for_mulago.csv'))\n",
    "#number_of_features_vs_rmse_for_different_locations= pd.read_csv(os.path.join(base_dir,'models_comparisons_for_approaches_vs_rmse_for_makindye.csv'))\n",
    "#number_of_features_vs_rmse_for_different_locations= pd.read_csv(os.path.join(base_dir,'models_comparisons_for_approaches_vs_rmse_for_bukoto.csv'))\n",
    "#number_of_features_vs_rmse_for_different_locations= pd.read_csv(os.path.join(base_dir,'models_comparisons_for_approaches_vs_rmse_for_lubowa.csv'))\n",
    "#number_of_features_vs_rmse_for_different_locations= pd.read_csv(os.path.join(base_dir,'models_comparisons_for_approaches_vs_rmse_for_jinja_road.csv'))\n",
    "#number_of_features_vs_rmse_for_different_locations= pd.read_csv(os.path.join(base_dir,'models_comparisons_for_approaches_vs_rmse_for_rubaga.csv'))\n",
    "#number_of_features_vs_rmse_for_different_locations= pd.read_csv(os.path.join(base_dir,'models_comparisons_for_approaches_vs_rmse_for_kireka.csv'))\n",
    "number_of_features_vs_rmse_for_different_locations= pd.read_csv(os.path.join(base_dir,'models_comparisons_for_approaches_vs_rmse_for_nsambya.csv'))"
   ]
  },
  {
   "cell_type": "code",
   "execution_count": 95,
   "metadata": {},
   "outputs": [
    {
     "data": {
      "text/plain": [
       "0    20.45\n",
       "1    26.30\n",
       "2    25.87\n",
       "3    30.60\n",
       "Name: Deep LSTM, dtype: float64"
      ]
     },
     "execution_count": 95,
     "metadata": {},
     "output_type": "execute_result"
    }
   ],
   "source": [
    "number_of_features_vs_rmse_for_different_locations['Deep LSTM']"
   ]
  },
  {
   "cell_type": "code",
   "execution_count": 96,
   "metadata": {},
   "outputs": [
    {
     "data": {
      "image/png": "[encoded data removed]",
      "text/plain": [
       "<Figure size 504x360 with 1 Axes>"
      ]
     },
     "metadata": {
      "needs_background": "light"
     },
     "output_type": "display_data"
    }
   ],
   "source": [
    "    plt.rcParams.update({'font.size':12, 'font.weight':'bold'})\n",
    "    x_axis_label = 'Number of Features'\n",
    "    y_axis_label =  'RMSE'\n",
    "    chart_title  =  'Performance Comparison'\n",
    "    #file_path    =   os.path.join(base_dir , 'Performance_comparison_RMSE_for_different_models_makerere.png')\n",
    "    #file_path    =   os.path.join(base_dir , 'Performance_comparison_RMSE_for_different_models_bugolobi.png')\n",
    "    #file_path    =   os.path.join(base_dir , 'Performance_comparison_RMSE_for_different_models_mulago.png')\n",
    "    #file_path    =   os.path.join(base_dir , 'Performance_comparison_RMSE_for_different_models_makindye.png')\n",
    "    #file_path    =   os.path.join(base_dir , 'Performance_comparison_RMSE_for_different_models_bukoto.png')\n",
    "    #file_path    =   os.path.join(base_dir , 'Performance_comparison_RMSE_for_different_models_lubowa.png')\n",
    "    #file_path    =   os.path.join(base_dir , 'Performance_comparison_RMSE_for_different_models_jinja_road.png')\n",
    "    #file_path    =   os.path.join(base_dir , 'Performance_comparison_RMSE_for_different_models_rubaga.png')\n",
    "    #file_path    =   os.path.join(base_dir , 'Performance_comparison_RMSE_for_different_models_kireka.png')\n",
    "    file_path    =   os.path.join(base_dir , 'Performance_comparison_RMSE_for_different_models_nsambya.png')\n",
    "    \n",
    "    fig = plt.figure(figsize=(7,5))\n",
    "    ax = fig.add_subplot(111)\n",
    "    plt.plot(number_of_features_vs_rmse_for_different_locations['Number of Features'].values, \n",
    "             number_of_features_vs_rmse_for_different_locations['Deep LSTM'].values, \n",
    "             color='deeppink', marker='d', linestyle='solid',  label='Deep LSTM Models', linewidth=1.5,markersize=12)\n",
    "    \n",
    "    \n",
    "    plt.plot(number_of_features_vs_rmse_for_different_locations['Number of Features'].values, \n",
    "             number_of_features_vs_rmse_for_different_locations['SVR'].values, \n",
    "             color='darkcyan', marker='*', linestyle='solid',  label='SVR Models',linewidth=2.0, markersize=12)\n",
    "    \n",
    "    \n",
    "    plt.title(chart_title, fontsize=20)\n",
    "    plt.ylabel(y_axis_label, fontsize=16)\n",
    "    plt.xlabel(x_axis_label,fontsize=16)\n",
    "    \n",
    "    #plt.xticks(rotation=60)\n",
    "    plt.legend()\n",
    "    plt.tight_layout()\n",
    "    plt.show()\n",
    "    fig.savefig(file_path)"
   ]
  },
  {
   "cell_type": "markdown",
   "metadata": {},
   "source": [
    "### PLOTS FOR MAE  VS NUMBER OF FEATURES"
   ]
  },
  {
   "cell_type": "code",
   "execution_count": 97,
   "metadata": {},
   "outputs": [
    {
     "data": {
      "text/html": [
       "<div>\n",
       "<style scoped>\n",
       "    .dataframe tbody tr th:only-of-type {\n",
       "        vertical-align: middle;\n",
       "    }\n",
       "\n",
       "    .dataframe tbody tr th {\n",
       "        vertical-align: top;\n",
       "    }\n",
       "\n",
       "    .dataframe thead th {\n",
       "        text-align: right;\n",
       "    }\n",
       "</style>\n",
       "<table border=\"1\" class=\"dataframe\">\n",
       "  <thead>\n",
       "    <tr style=\"text-align: right;\">\n",
       "      <th></th>\n",
       "      <th>Number of Features</th>\n",
       "      <th>MAE_Lubowa</th>\n",
       "      <th>MAE_JinjaRoad</th>\n",
       "      <th>MAE_Rubaga</th>\n",
       "      <th>MAE_Kireka</th>\n",
       "      <th>MAE_Nsambya</th>\n",
       "    </tr>\n",
       "  </thead>\n",
       "  <tbody>\n",
       "    <tr>\n",
       "      <th>0</th>\n",
       "      <td>One Feature</td>\n",
       "      <td>4.97</td>\n",
       "      <td>8.27</td>\n",
       "      <td>14.51</td>\n",
       "      <td>33.33</td>\n",
       "      <td>13.65</td>\n",
       "    </tr>\n",
       "    <tr>\n",
       "      <th>1</th>\n",
       "      <td>Three Features</td>\n",
       "      <td>8.81</td>\n",
       "      <td>13.06</td>\n",
       "      <td>16.21</td>\n",
       "      <td>35.15</td>\n",
       "      <td>20.12</td>\n",
       "    </tr>\n",
       "    <tr>\n",
       "      <th>2</th>\n",
       "      <td>Five Features</td>\n",
       "      <td>7.62</td>\n",
       "      <td>12.36</td>\n",
       "      <td>15.58</td>\n",
       "      <td>30.62</td>\n",
       "      <td>20.95</td>\n",
       "    </tr>\n",
       "    <tr>\n",
       "      <th>3</th>\n",
       "      <td>All Features</td>\n",
       "      <td>6.94</td>\n",
       "      <td>14.75</td>\n",
       "      <td>19.53</td>\n",
       "      <td>63.86</td>\n",
       "      <td>23.52</td>\n",
       "    </tr>\n",
       "  </tbody>\n",
       "</table>\n",
       "</div>"
      ],
      "text/plain": [
       "  Number of Features  MAE_Lubowa  MAE_JinjaRoad  MAE_Rubaga  MAE_Kireka  \\\n",
       "0        One Feature        4.97           8.27       14.51       33.33   \n",
       "1     Three Features        8.81          13.06       16.21       35.15   \n",
       "2      Five Features        7.62          12.36       15.58       30.62   \n",
       "3       All Features        6.94          14.75       19.53       63.86   \n",
       "\n",
       "   MAE_Nsambya  \n",
       "0        13.65  \n",
       "1        20.12  \n",
       "2        20.95  \n",
       "3        23.52  "
      ]
     },
     "execution_count": 97,
     "metadata": {},
     "output_type": "execute_result"
    }
   ],
   "source": [
    "number_of_features_vs_mae_for_different_locations= pd.read_csv(os.path.join(base_dir,'number_of_features_vs_mae_for_different_locations.csv'))\n",
    "number_of_features_vs_mae_for_different_locations_a = pd.read_csv(os.path.join(base_dir,'number_of_features_vs_mae_for_different_locations_a.csv'))\n",
    "number_of_features_vs_mae_for_different_locations.head()"
   ]
  },
  {
   "cell_type": "raw",
   "metadata": {},
   "source": [
    "    plt.rcParams.update({'font.size':14, 'font.weight':'bold'})\n",
    "    x_axis_label = 'Number of Features'\n",
    "    y_axis_label =  'MAE'\n",
    "    chart_title  =  'MAE vs. Number of features for selected locations '\n",
    "    file_path    =   os.path.join(base_dir , 'MAE_vs_Number_of_Features.png')\n",
    "    \n",
    "    fig = plt.figure(figsize=(7,5))\n",
    "    ax = fig.add_subplot(111)\n",
    "    plt.plot(number_of_features_vs_mae_for_different_locations['Number of Features'].values, \n",
    "             number_of_features_vs_mae_for_different_locations['MAE_Lubowa'].values, \n",
    "             color='deeppink', marker='d', linestyle='solid',  label='Lubowa', linewidth=1.5,markersize=12)\n",
    "    \n",
    "    plt.plot(number_of_features_vs_mae_for_different_locations['Number of Features'].values, \n",
    "             number_of_features_vs_mae_for_different_locations['MAE_Rubaga'].values, \n",
    "             #Rubaga\n",
    "             color='black', marker='P', linestyle='solid',  label='Rubaga', linewidth=2.0,markersize=12)\n",
    "    \n",
    "    plt.plot(number_of_features_vs_mae_for_different_locations['Number of Features'].values, \n",
    "             number_of_features_vs_mae_for_different_locations['MAE_Kireka'].values, #Kireka\n",
    "             color='blue', marker='o', linestyle='solid',  label='Kireka', linewidth=2.0,markersize=12)\n",
    "    \n",
    "    plt.plot(number_of_features_vs_mae_for_different_locations['Number of Features'].values, \n",
    "             number_of_features_vs_mae_for_different_locations['MAE_JinjaRoad'].values, #Jinja Road\n",
    "             color='darkcyan', marker='*', linestyle='solid',  label='Jinja Road',linewidth=2.0, markersize=12)\n",
    "    \n",
    "    plt.plot(number_of_features_vs_mae_for_different_locations['Number of Features'].values, \n",
    "             number_of_features_vs_mae_for_different_locations['MAE_Nsambya'].values, #Nsambya\n",
    "             color='midnightblue', marker='p', linestyle='dashed',  label='Nsambya ',linewidth=2.0, markersize=12)\n",
    "    \n",
    "    #plt.title(chart_title, fontsize=20)\n",
    "    plt.ylabel(y_axis_label, fontsize=20)\n",
    "    plt.xlabel(x_axis_label,fontsize=20)\n",
    "    \n",
    "    #plt.xticks(rotation=60)\n",
    "    plt.legend()\n",
    "    plt.tight_layout()\n",
    "    plt.show()\n",
    "    fig.savefig(file_path)"
   ]
  },
  {
   "cell_type": "code",
   "execution_count": null,
   "metadata": {},
   "outputs": [],
   "source": []
  }
 ],
 "metadata": {
  "kernelspec": {
   "display_name": "Python 3",
   "language": "python",
   "name": "python3"
  },
  "language_info": {
   "codemirror_mode": {
    "name": "ipython",
    "version": 3
   },
   "file_extension": ".py",
   "mimetype": "text/x-python",
   "name": "python",
   "nbconvert_exporter": "python",
   "pygments_lexer": "ipython3",
   "version": "3.6.6"
  }
 },
 "nbformat": 4,
 "nbformat_minor": 2
}
