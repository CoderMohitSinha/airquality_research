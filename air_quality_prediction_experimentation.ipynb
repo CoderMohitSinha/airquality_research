{
 "cells": [
  {
   "cell_type": "code",
   "execution_count": 321,
   "metadata": {
    "colab": {},
    "colab_type": "code",
    "id": "L3-ikINq_CDz"
   },
   "outputs": [],
   "source": [
    "import pandas as pd\n",
    "import numpy as np\n",
    "import seaborn as sns\n",
    "import matplotlib.pyplot as plt \n",
    "%matplotlib inline\n",
    "from sklearn import preprocessing\n",
    "from sklearn.preprocessing import MinMaxScaler\n",
    "from sklearn.metrics import mean_squared_error, mean_absolute_error\n",
    "import os\n",
    "import datetime\n",
    "import math"
   ]
  },
  {
   "cell_type": "code",
   "execution_count": 322,
   "metadata": {
    "colab": {
     "base_uri": "https://localhost:8080/",
     "height": 34
    },
    "colab_type": "code",
    "id": "YgmwH-BI_txh",
    "outputId": "3e4e1ced-5245-4791-a322-86d27a3e3ef8"
   },
   "outputs": [],
   "source": [
    "#from google.colab import drive\n",
    "#drive.mount('/content/drive')"
   ]
  },
  {
   "cell_type": "code",
   "execution_count": 323,
   "metadata": {
    "colab": {},
    "colab_type": "code",
    "id": "InRp4djsBMwh"
   },
   "outputs": [],
   "source": [
    "#!ls \"/content/drive/My Drive/Uni/Msc Comp Science/Year Two/Research/data\""
   ]
  },
  {
   "cell_type": "markdown",
   "metadata": {
    "colab_type": "text",
    "id": "29AZ-B0rSbyj"
   },
   "source": [
    "### Reading in data from various sensors stored in  csv files for airquality data\n",
    "1. Get a list of all the filenames containing data from various sensors using the os python module.\n",
    "2. Turn those into a list of dataframes using pandas"
   ]
  },
  {
   "cell_type": "code",
   "execution_count": 324,
   "metadata": {
    "colab": {},
    "colab_type": "code",
    "id": "geukmPjkSbyn"
   },
   "outputs": [],
   "source": [
    "def show_dataframe_info(df):\n",
    "    print(df.shape)\n",
    "    print(list(df.columns.values))\n",
    "    print('\\n dataframe info: \\n', df.info())\n",
    "    print('\\n dataframe column datatypes:\\n', df.dtypes)"
   ]
  },
  {
   "cell_type": "code",
   "execution_count": 325,
   "metadata": {
    "colab": {
     "base_uri": "https://localhost:8080/",
     "height": 347
    },
    "colab_type": "code",
    "id": "SYFacJONAbXp",
    "outputId": "2b9aad80-eeea-48c9-9345-a1753be42e59"
   },
   "outputs": [
    {
     "data": {
      "text/html": [
       "<div>\n",
       "<style scoped>\n",
       "    .dataframe tbody tr th:only-of-type {\n",
       "        vertical-align: middle;\n",
       "    }\n",
       "\n",
       "    .dataframe tbody tr th {\n",
       "        vertical-align: top;\n",
       "    }\n",
       "\n",
       "    .dataframe thead th {\n",
       "        text-align: right;\n",
       "    }\n",
       "</style>\n",
       "<table border=\"1\" class=\"dataframe\">\n",
       "  <thead>\n",
       "    <tr style=\"text-align: right;\">\n",
       "      <th></th>\n",
       "      <th>TimeStamp</th>\n",
       "      <th>PM1(Ug/m3)</th>\n",
       "      <th>PM2.5(Ug/m3)</th>\n",
       "      <th>PM10(Ug/m3)</th>\n",
       "      <th>hour</th>\n",
       "      <th>MOD13A3_006_Line_Y_1km</th>\n",
       "      <th>MOD13A3_006_Sample_X_1km</th>\n",
       "      <th>EVI</th>\n",
       "      <th>NDVI</th>\n",
       "      <th>MOD13A3_006__1_km_monthly_VI_Quality</th>\n",
       "      <th>...</th>\n",
       "      <th>temperature (oC)</th>\n",
       "      <th>windspeed (m/s)</th>\n",
       "      <th>winddirection_E</th>\n",
       "      <th>winddirection_N</th>\n",
       "      <th>winddirection_NE</th>\n",
       "      <th>winddirection_NW</th>\n",
       "      <th>winddirection_S</th>\n",
       "      <th>winddirection_SE</th>\n",
       "      <th>winddirection_SW</th>\n",
       "      <th>winddirection_W</th>\n",
       "    </tr>\n",
       "  </thead>\n",
       "  <tbody>\n",
       "    <tr>\n",
       "      <th>0</th>\n",
       "      <td>2017-09-09 18:00:00</td>\n",
       "      <td>5.52</td>\n",
       "      <td>6.93</td>\n",
       "      <td>9.73</td>\n",
       "      <td>18</td>\n",
       "      <td>1160.0</td>\n",
       "      <td>308.0</td>\n",
       "      <td>0.2133</td>\n",
       "      <td>0.3988</td>\n",
       "      <td>2185.0</td>\n",
       "      <td>...</td>\n",
       "      <td>23.27</td>\n",
       "      <td>0.44</td>\n",
       "      <td>0</td>\n",
       "      <td>0</td>\n",
       "      <td>0</td>\n",
       "      <td>0</td>\n",
       "      <td>0</td>\n",
       "      <td>1</td>\n",
       "      <td>0</td>\n",
       "      <td>0</td>\n",
       "    </tr>\n",
       "    <tr>\n",
       "      <th>1</th>\n",
       "      <td>2017-09-09 19:00:00</td>\n",
       "      <td>7.89</td>\n",
       "      <td>9.97</td>\n",
       "      <td>14.24</td>\n",
       "      <td>19</td>\n",
       "      <td>1160.0</td>\n",
       "      <td>308.0</td>\n",
       "      <td>0.2133</td>\n",
       "      <td>0.3988</td>\n",
       "      <td>2185.0</td>\n",
       "      <td>...</td>\n",
       "      <td>22.72</td>\n",
       "      <td>0.38</td>\n",
       "      <td>0</td>\n",
       "      <td>0</td>\n",
       "      <td>1</td>\n",
       "      <td>0</td>\n",
       "      <td>0</td>\n",
       "      <td>0</td>\n",
       "      <td>0</td>\n",
       "      <td>0</td>\n",
       "    </tr>\n",
       "    <tr>\n",
       "      <th>2</th>\n",
       "      <td>2017-09-09 20:00:00</td>\n",
       "      <td>9.55</td>\n",
       "      <td>12.09</td>\n",
       "      <td>16.99</td>\n",
       "      <td>20</td>\n",
       "      <td>1160.0</td>\n",
       "      <td>308.0</td>\n",
       "      <td>0.2133</td>\n",
       "      <td>0.3988</td>\n",
       "      <td>2185.0</td>\n",
       "      <td>...</td>\n",
       "      <td>22.29</td>\n",
       "      <td>0.37</td>\n",
       "      <td>0</td>\n",
       "      <td>0</td>\n",
       "      <td>0</td>\n",
       "      <td>0</td>\n",
       "      <td>0</td>\n",
       "      <td>1</td>\n",
       "      <td>0</td>\n",
       "      <td>0</td>\n",
       "    </tr>\n",
       "    <tr>\n",
       "      <th>3</th>\n",
       "      <td>2017-09-09 21:00:00</td>\n",
       "      <td>10.09</td>\n",
       "      <td>12.97</td>\n",
       "      <td>18.97</td>\n",
       "      <td>21</td>\n",
       "      <td>1160.0</td>\n",
       "      <td>308.0</td>\n",
       "      <td>0.2133</td>\n",
       "      <td>0.3988</td>\n",
       "      <td>2185.0</td>\n",
       "      <td>...</td>\n",
       "      <td>21.71</td>\n",
       "      <td>0.34</td>\n",
       "      <td>0</td>\n",
       "      <td>1</td>\n",
       "      <td>0</td>\n",
       "      <td>0</td>\n",
       "      <td>0</td>\n",
       "      <td>0</td>\n",
       "      <td>0</td>\n",
       "      <td>0</td>\n",
       "    </tr>\n",
       "    <tr>\n",
       "      <th>4</th>\n",
       "      <td>2017-09-09 22:00:00</td>\n",
       "      <td>9.66</td>\n",
       "      <td>12.53</td>\n",
       "      <td>18.17</td>\n",
       "      <td>22</td>\n",
       "      <td>1160.0</td>\n",
       "      <td>308.0</td>\n",
       "      <td>0.2133</td>\n",
       "      <td>0.3988</td>\n",
       "      <td>2185.0</td>\n",
       "      <td>...</td>\n",
       "      <td>20.86</td>\n",
       "      <td>0.29</td>\n",
       "      <td>0</td>\n",
       "      <td>0</td>\n",
       "      <td>1</td>\n",
       "      <td>0</td>\n",
       "      <td>0</td>\n",
       "      <td>0</td>\n",
       "      <td>0</td>\n",
       "      <td>0</td>\n",
       "    </tr>\n",
       "    <tr>\n",
       "      <th>5</th>\n",
       "      <td>2017-09-09 23:00:00</td>\n",
       "      <td>10.01</td>\n",
       "      <td>12.87</td>\n",
       "      <td>18.33</td>\n",
       "      <td>23</td>\n",
       "      <td>1160.0</td>\n",
       "      <td>308.0</td>\n",
       "      <td>0.2133</td>\n",
       "      <td>0.3988</td>\n",
       "      <td>2185.0</td>\n",
       "      <td>...</td>\n",
       "      <td>20.30</td>\n",
       "      <td>0.46</td>\n",
       "      <td>0</td>\n",
       "      <td>0</td>\n",
       "      <td>0</td>\n",
       "      <td>0</td>\n",
       "      <td>0</td>\n",
       "      <td>1</td>\n",
       "      <td>0</td>\n",
       "      <td>0</td>\n",
       "    </tr>\n",
       "    <tr>\n",
       "      <th>6</th>\n",
       "      <td>2017-09-10 00:00:00</td>\n",
       "      <td>9.37</td>\n",
       "      <td>11.92</td>\n",
       "      <td>16.35</td>\n",
       "      <td>0</td>\n",
       "      <td>1160.0</td>\n",
       "      <td>308.0</td>\n",
       "      <td>0.2133</td>\n",
       "      <td>0.3988</td>\n",
       "      <td>2185.0</td>\n",
       "      <td>...</td>\n",
       "      <td>20.30</td>\n",
       "      <td>0.59</td>\n",
       "      <td>0</td>\n",
       "      <td>0</td>\n",
       "      <td>0</td>\n",
       "      <td>0</td>\n",
       "      <td>0</td>\n",
       "      <td>1</td>\n",
       "      <td>0</td>\n",
       "      <td>0</td>\n",
       "    </tr>\n",
       "    <tr>\n",
       "      <th>7</th>\n",
       "      <td>2017-09-10 01:00:00</td>\n",
       "      <td>9.29</td>\n",
       "      <td>11.66</td>\n",
       "      <td>15.12</td>\n",
       "      <td>1</td>\n",
       "      <td>1160.0</td>\n",
       "      <td>308.0</td>\n",
       "      <td>0.2133</td>\n",
       "      <td>0.3988</td>\n",
       "      <td>2185.0</td>\n",
       "      <td>...</td>\n",
       "      <td>20.14</td>\n",
       "      <td>0.99</td>\n",
       "      <td>0</td>\n",
       "      <td>0</td>\n",
       "      <td>0</td>\n",
       "      <td>0</td>\n",
       "      <td>0</td>\n",
       "      <td>1</td>\n",
       "      <td>0</td>\n",
       "      <td>0</td>\n",
       "    </tr>\n",
       "    <tr>\n",
       "      <th>8</th>\n",
       "      <td>2017-09-10 02:00:00</td>\n",
       "      <td>9.91</td>\n",
       "      <td>12.43</td>\n",
       "      <td>15.28</td>\n",
       "      <td>2</td>\n",
       "      <td>1160.0</td>\n",
       "      <td>308.0</td>\n",
       "      <td>0.2133</td>\n",
       "      <td>0.3988</td>\n",
       "      <td>2185.0</td>\n",
       "      <td>...</td>\n",
       "      <td>20.15</td>\n",
       "      <td>1.19</td>\n",
       "      <td>0</td>\n",
       "      <td>0</td>\n",
       "      <td>0</td>\n",
       "      <td>0</td>\n",
       "      <td>0</td>\n",
       "      <td>1</td>\n",
       "      <td>0</td>\n",
       "      <td>0</td>\n",
       "    </tr>\n",
       "    <tr>\n",
       "      <th>9</th>\n",
       "      <td>2017-09-10 03:00:00</td>\n",
       "      <td>8.61</td>\n",
       "      <td>10.61</td>\n",
       "      <td>12.72</td>\n",
       "      <td>3</td>\n",
       "      <td>1160.0</td>\n",
       "      <td>308.0</td>\n",
       "      <td>0.2133</td>\n",
       "      <td>0.3988</td>\n",
       "      <td>2185.0</td>\n",
       "      <td>...</td>\n",
       "      <td>19.78</td>\n",
       "      <td>0.69</td>\n",
       "      <td>1</td>\n",
       "      <td>0</td>\n",
       "      <td>0</td>\n",
       "      <td>0</td>\n",
       "      <td>0</td>\n",
       "      <td>0</td>\n",
       "      <td>0</td>\n",
       "      <td>0</td>\n",
       "    </tr>\n",
       "  </tbody>\n",
       "</table>\n",
       "<p>10 rows × 24 columns</p>\n",
       "</div>"
      ],
      "text/plain": [
       "             TimeStamp  PM1(Ug/m3)  PM2.5(Ug/m3)  PM10(Ug/m3)  hour  \\\n",
       "0  2017-09-09 18:00:00        5.52          6.93         9.73    18   \n",
       "1  2017-09-09 19:00:00        7.89          9.97        14.24    19   \n",
       "2  2017-09-09 20:00:00        9.55         12.09        16.99    20   \n",
       "3  2017-09-09 21:00:00       10.09         12.97        18.97    21   \n",
       "4  2017-09-09 22:00:00        9.66         12.53        18.17    22   \n",
       "5  2017-09-09 23:00:00       10.01         12.87        18.33    23   \n",
       "6  2017-09-10 00:00:00        9.37         11.92        16.35     0   \n",
       "7  2017-09-10 01:00:00        9.29         11.66        15.12     1   \n",
       "8  2017-09-10 02:00:00        9.91         12.43        15.28     2   \n",
       "9  2017-09-10 03:00:00        8.61         10.61        12.72     3   \n",
       "\n",
       "   MOD13A3_006_Line_Y_1km  MOD13A3_006_Sample_X_1km     EVI    NDVI  \\\n",
       "0                  1160.0                     308.0  0.2133  0.3988   \n",
       "1                  1160.0                     308.0  0.2133  0.3988   \n",
       "2                  1160.0                     308.0  0.2133  0.3988   \n",
       "3                  1160.0                     308.0  0.2133  0.3988   \n",
       "4                  1160.0                     308.0  0.2133  0.3988   \n",
       "5                  1160.0                     308.0  0.2133  0.3988   \n",
       "6                  1160.0                     308.0  0.2133  0.3988   \n",
       "7                  1160.0                     308.0  0.2133  0.3988   \n",
       "8                  1160.0                     308.0  0.2133  0.3988   \n",
       "9                  1160.0                     308.0  0.2133  0.3988   \n",
       "\n",
       "   MOD13A3_006__1_km_monthly_VI_Quality       ...         temperature (oC)  \\\n",
       "0                                2185.0       ...                    23.27   \n",
       "1                                2185.0       ...                    22.72   \n",
       "2                                2185.0       ...                    22.29   \n",
       "3                                2185.0       ...                    21.71   \n",
       "4                                2185.0       ...                    20.86   \n",
       "5                                2185.0       ...                    20.30   \n",
       "6                                2185.0       ...                    20.30   \n",
       "7                                2185.0       ...                    20.14   \n",
       "8                                2185.0       ...                    20.15   \n",
       "9                                2185.0       ...                    19.78   \n",
       "\n",
       "   windspeed (m/s)  winddirection_E  winddirection_N  winddirection_NE  \\\n",
       "0             0.44                0                0                 0   \n",
       "1             0.38                0                0                 1   \n",
       "2             0.37                0                0                 0   \n",
       "3             0.34                0                1                 0   \n",
       "4             0.29                0                0                 1   \n",
       "5             0.46                0                0                 0   \n",
       "6             0.59                0                0                 0   \n",
       "7             0.99                0                0                 0   \n",
       "8             1.19                0                0                 0   \n",
       "9             0.69                1                0                 0   \n",
       "\n",
       "   winddirection_NW  winddirection_S  winddirection_SE  winddirection_SW  \\\n",
       "0                 0                0                 1                 0   \n",
       "1                 0                0                 0                 0   \n",
       "2                 0                0                 1                 0   \n",
       "3                 0                0                 0                 0   \n",
       "4                 0                0                 0                 0   \n",
       "5                 0                0                 1                 0   \n",
       "6                 0                0                 1                 0   \n",
       "7                 0                0                 1                 0   \n",
       "8                 0                0                 1                 0   \n",
       "9                 0                0                 0                 0   \n",
       "\n",
       "   winddirection_W  \n",
       "0                0  \n",
       "1                0  \n",
       "2                0  \n",
       "3                0  \n",
       "4                0  \n",
       "5                0  \n",
       "6                0  \n",
       "7                0  \n",
       "8                0  \n",
       "9                0  \n",
       "\n",
       "[10 rows x 24 columns]"
      ]
     },
     "execution_count": 325,
     "metadata": {},
     "output_type": "execute_result"
    }
   ],
   "source": [
    "#airquality_data = combined_df\n",
    "#airquality_data = pd.read_csv('/content/drive/My Drive/Uni/Msc Comp Science/Year Two/Research/experiments/data/AirQuality/AirQo/Bugolobi(ambrosoli)/bugolobi.csv')\n",
    "\n",
    "root_data_dir = 'data'\n",
    "base_dir ='data\\AirQuality\\AirQo'\n",
    "#unit_name = 'Makindye'\n",
    "#base_dir = os.path.join(base_dir, unit_name)\n",
    "\n",
    "#airquality_data = pd.read_csv(os.path.join(base_dir,'Bugolobi(ambrosoli)','merged_hourly_airquality_greenness_meteorological_dataset.csv'))\n",
    "#filepath = os.path.join(base_dir,'Bugolobi(ambrosoli)')\n",
    "\n",
    "airquality_data = pd.read_csv(os.path.join(base_dir,'Makerere','merged_hourly_airquality_greenness_meteorological_dataset.csv'))\n",
    "filepath = os.path.join(base_dir,'Makerere')\n",
    "\n",
    "#airquality_data = pd.read_csv(os.path.join(base_dir,'Makindye','merged_hourly_airquality_greenness_meteorological_dataset.csv'))\n",
    "#filepath = os.path.join(base_dir, 'Makindye')\n",
    "\n",
    "#airquality_data = pd.read_csv(os.path.join(base_dir,'Bukoto(kisu)','merged_hourly_airquality_greenness_meteorological_dataset.csv'))\n",
    "#filepath= os.path.join(base_dir,'Bukoto(kisu)')\n",
    "\n",
    "#airquality_data = pd.read_csv(os.path.join(base_dir,'Mulago','merged_hourly_airquality_greenness_meteorological_dataset.csv'))\n",
    "#filepath= os.path.join(base_dir,'Mulagox')\n",
    "\n",
    "#airquality_data = pd.read_csv(os.path.join(base_dir,'Lubowa','merged_hourly_airquality_greenness_meteorological_dataset.csv'))\n",
    "#filepath = os.path.join(base_dir,'Lubowa')\n",
    "\n",
    "#airquality_data = pd.read_csv(os.path.join(base_dir,'Jinja_Road(NEMAHOUSE)',' merged_hourly_airquality_greenness_meteorological_dataset.csv '))\n",
    "#filepath = os.path.join(base_dir,'Jinja_Road(NEMAHOUSE)')\n",
    "\n",
    "#airquality_data = pd.read_csv(os.path.join(base_dir, 'Rubaga_Mobile',' merged_hourly_airquality_greenness_meteorological_dataset.csv '))\n",
    "#filepath = os.path.join(base_dir, 'Rubaga_Mobile')\n",
    "\n",
    "airquality_data.head(10)"
   ]
  },
  {
   "cell_type": "code",
   "execution_count": 326,
   "metadata": {},
   "outputs": [],
   "source": [
    "airquality_data[\"TimeStamp\"] = pd.to_datetime(airquality_data[\"TimeStamp\"])\n",
    "airquality_data = airquality_data.set_index('TimeStamp')"
   ]
  },
  {
   "cell_type": "code",
   "execution_count": 327,
   "metadata": {},
   "outputs": [],
   "source": [
    "#airquality_data = airquality_data.drop(['Hour'], axis=1)"
   ]
  },
  {
   "cell_type": "code",
   "execution_count": 328,
   "metadata": {
    "colab": {
     "base_uri": "https://localhost:8080/",
     "height": 197
    },
    "colab_type": "code",
    "id": "nCH7dg6uSby0",
    "outputId": "182b0084-fb2e-449f-a3e1-35388b82f8f7"
   },
   "outputs": [
    {
     "data": {
      "text/html": [
       "<div>\n",
       "<style scoped>\n",
       "    .dataframe tbody tr th:only-of-type {\n",
       "        vertical-align: middle;\n",
       "    }\n",
       "\n",
       "    .dataframe tbody tr th {\n",
       "        vertical-align: top;\n",
       "    }\n",
       "\n",
       "    .dataframe thead th {\n",
       "        text-align: right;\n",
       "    }\n",
       "</style>\n",
       "<table border=\"1\" class=\"dataframe\">\n",
       "  <thead>\n",
       "    <tr style=\"text-align: right;\">\n",
       "      <th></th>\n",
       "      <th>PM1(Ug/m3)</th>\n",
       "      <th>PM2.5(Ug/m3)</th>\n",
       "      <th>PM10(Ug/m3)</th>\n",
       "      <th>hour</th>\n",
       "      <th>MOD13A3_006_Line_Y_1km</th>\n",
       "      <th>MOD13A3_006_Sample_X_1km</th>\n",
       "      <th>EVI</th>\n",
       "      <th>NDVI</th>\n",
       "      <th>MOD13A3_006__1_km_monthly_VI_Quality</th>\n",
       "      <th>humidity (%)</th>\n",
       "      <th>...</th>\n",
       "      <th>temperature (oC)</th>\n",
       "      <th>windspeed (m/s)</th>\n",
       "      <th>winddirection_E</th>\n",
       "      <th>winddirection_N</th>\n",
       "      <th>winddirection_NE</th>\n",
       "      <th>winddirection_NW</th>\n",
       "      <th>winddirection_S</th>\n",
       "      <th>winddirection_SE</th>\n",
       "      <th>winddirection_SW</th>\n",
       "      <th>winddirection_W</th>\n",
       "    </tr>\n",
       "    <tr>\n",
       "      <th>TimeStamp</th>\n",
       "      <th></th>\n",
       "      <th></th>\n",
       "      <th></th>\n",
       "      <th></th>\n",
       "      <th></th>\n",
       "      <th></th>\n",
       "      <th></th>\n",
       "      <th></th>\n",
       "      <th></th>\n",
       "      <th></th>\n",
       "      <th></th>\n",
       "      <th></th>\n",
       "      <th></th>\n",
       "      <th></th>\n",
       "      <th></th>\n",
       "      <th></th>\n",
       "      <th></th>\n",
       "      <th></th>\n",
       "      <th></th>\n",
       "      <th></th>\n",
       "      <th></th>\n",
       "    </tr>\n",
       "  </thead>\n",
       "  <tbody>\n",
       "    <tr>\n",
       "      <th>2017-09-09 18:00:00</th>\n",
       "      <td>5.52</td>\n",
       "      <td>6.93</td>\n",
       "      <td>9.73</td>\n",
       "      <td>18</td>\n",
       "      <td>1160.0</td>\n",
       "      <td>308.0</td>\n",
       "      <td>0.2133</td>\n",
       "      <td>0.3988</td>\n",
       "      <td>2185.0</td>\n",
       "      <td>73</td>\n",
       "      <td>...</td>\n",
       "      <td>23.27</td>\n",
       "      <td>0.44</td>\n",
       "      <td>0</td>\n",
       "      <td>0</td>\n",
       "      <td>0</td>\n",
       "      <td>0</td>\n",
       "      <td>0</td>\n",
       "      <td>1</td>\n",
       "      <td>0</td>\n",
       "      <td>0</td>\n",
       "    </tr>\n",
       "    <tr>\n",
       "      <th>2017-09-09 19:00:00</th>\n",
       "      <td>7.89</td>\n",
       "      <td>9.97</td>\n",
       "      <td>14.24</td>\n",
       "      <td>19</td>\n",
       "      <td>1160.0</td>\n",
       "      <td>308.0</td>\n",
       "      <td>0.2133</td>\n",
       "      <td>0.3988</td>\n",
       "      <td>2185.0</td>\n",
       "      <td>77</td>\n",
       "      <td>...</td>\n",
       "      <td>22.72</td>\n",
       "      <td>0.38</td>\n",
       "      <td>0</td>\n",
       "      <td>0</td>\n",
       "      <td>1</td>\n",
       "      <td>0</td>\n",
       "      <td>0</td>\n",
       "      <td>0</td>\n",
       "      <td>0</td>\n",
       "      <td>0</td>\n",
       "    </tr>\n",
       "    <tr>\n",
       "      <th>2017-09-09 20:00:00</th>\n",
       "      <td>9.55</td>\n",
       "      <td>12.09</td>\n",
       "      <td>16.99</td>\n",
       "      <td>20</td>\n",
       "      <td>1160.0</td>\n",
       "      <td>308.0</td>\n",
       "      <td>0.2133</td>\n",
       "      <td>0.3988</td>\n",
       "      <td>2185.0</td>\n",
       "      <td>80</td>\n",
       "      <td>...</td>\n",
       "      <td>22.29</td>\n",
       "      <td>0.37</td>\n",
       "      <td>0</td>\n",
       "      <td>0</td>\n",
       "      <td>0</td>\n",
       "      <td>0</td>\n",
       "      <td>0</td>\n",
       "      <td>1</td>\n",
       "      <td>0</td>\n",
       "      <td>0</td>\n",
       "    </tr>\n",
       "    <tr>\n",
       "      <th>2017-09-09 21:00:00</th>\n",
       "      <td>10.09</td>\n",
       "      <td>12.97</td>\n",
       "      <td>18.97</td>\n",
       "      <td>21</td>\n",
       "      <td>1160.0</td>\n",
       "      <td>308.0</td>\n",
       "      <td>0.2133</td>\n",
       "      <td>0.3988</td>\n",
       "      <td>2185.0</td>\n",
       "      <td>82</td>\n",
       "      <td>...</td>\n",
       "      <td>21.71</td>\n",
       "      <td>0.34</td>\n",
       "      <td>0</td>\n",
       "      <td>1</td>\n",
       "      <td>0</td>\n",
       "      <td>0</td>\n",
       "      <td>0</td>\n",
       "      <td>0</td>\n",
       "      <td>0</td>\n",
       "      <td>0</td>\n",
       "    </tr>\n",
       "    <tr>\n",
       "      <th>2017-09-09 22:00:00</th>\n",
       "      <td>9.66</td>\n",
       "      <td>12.53</td>\n",
       "      <td>18.17</td>\n",
       "      <td>22</td>\n",
       "      <td>1160.0</td>\n",
       "      <td>308.0</td>\n",
       "      <td>0.2133</td>\n",
       "      <td>0.3988</td>\n",
       "      <td>2185.0</td>\n",
       "      <td>87</td>\n",
       "      <td>...</td>\n",
       "      <td>20.86</td>\n",
       "      <td>0.29</td>\n",
       "      <td>0</td>\n",
       "      <td>0</td>\n",
       "      <td>1</td>\n",
       "      <td>0</td>\n",
       "      <td>0</td>\n",
       "      <td>0</td>\n",
       "      <td>0</td>\n",
       "      <td>0</td>\n",
       "    </tr>\n",
       "  </tbody>\n",
       "</table>\n",
       "<p>5 rows × 23 columns</p>\n",
       "</div>"
      ],
      "text/plain": [
       "                     PM1(Ug/m3)  PM2.5(Ug/m3)  PM10(Ug/m3)  hour  \\\n",
       "TimeStamp                                                          \n",
       "2017-09-09 18:00:00        5.52          6.93         9.73    18   \n",
       "2017-09-09 19:00:00        7.89          9.97        14.24    19   \n",
       "2017-09-09 20:00:00        9.55         12.09        16.99    20   \n",
       "2017-09-09 21:00:00       10.09         12.97        18.97    21   \n",
       "2017-09-09 22:00:00        9.66         12.53        18.17    22   \n",
       "\n",
       "                     MOD13A3_006_Line_Y_1km  MOD13A3_006_Sample_X_1km     EVI  \\\n",
       "TimeStamp                                                                       \n",
       "2017-09-09 18:00:00                  1160.0                     308.0  0.2133   \n",
       "2017-09-09 19:00:00                  1160.0                     308.0  0.2133   \n",
       "2017-09-09 20:00:00                  1160.0                     308.0  0.2133   \n",
       "2017-09-09 21:00:00                  1160.0                     308.0  0.2133   \n",
       "2017-09-09 22:00:00                  1160.0                     308.0  0.2133   \n",
       "\n",
       "                       NDVI  MOD13A3_006__1_km_monthly_VI_Quality  \\\n",
       "TimeStamp                                                           \n",
       "2017-09-09 18:00:00  0.3988                                2185.0   \n",
       "2017-09-09 19:00:00  0.3988                                2185.0   \n",
       "2017-09-09 20:00:00  0.3988                                2185.0   \n",
       "2017-09-09 21:00:00  0.3988                                2185.0   \n",
       "2017-09-09 22:00:00  0.3988                                2185.0   \n",
       "\n",
       "                     humidity (%)       ...         temperature (oC)  \\\n",
       "TimeStamp                               ...                            \n",
       "2017-09-09 18:00:00            73       ...                    23.27   \n",
       "2017-09-09 19:00:00            77       ...                    22.72   \n",
       "2017-09-09 20:00:00            80       ...                    22.29   \n",
       "2017-09-09 21:00:00            82       ...                    21.71   \n",
       "2017-09-09 22:00:00            87       ...                    20.86   \n",
       "\n",
       "                     windspeed (m/s)  winddirection_E  winddirection_N  \\\n",
       "TimeStamp                                                                \n",
       "2017-09-09 18:00:00             0.44                0                0   \n",
       "2017-09-09 19:00:00             0.38                0                0   \n",
       "2017-09-09 20:00:00             0.37                0                0   \n",
       "2017-09-09 21:00:00             0.34                0                1   \n",
       "2017-09-09 22:00:00             0.29                0                0   \n",
       "\n",
       "                     winddirection_NE  winddirection_NW  winddirection_S  \\\n",
       "TimeStamp                                                                  \n",
       "2017-09-09 18:00:00                 0                 0                0   \n",
       "2017-09-09 19:00:00                 1                 0                0   \n",
       "2017-09-09 20:00:00                 0                 0                0   \n",
       "2017-09-09 21:00:00                 0                 0                0   \n",
       "2017-09-09 22:00:00                 1                 0                0   \n",
       "\n",
       "                     winddirection_SE  winddirection_SW  winddirection_W  \n",
       "TimeStamp                                                                 \n",
       "2017-09-09 18:00:00                 1                 0                0  \n",
       "2017-09-09 19:00:00                 0                 0                0  \n",
       "2017-09-09 20:00:00                 1                 0                0  \n",
       "2017-09-09 21:00:00                 0                 0                0  \n",
       "2017-09-09 22:00:00                 0                 0                0  \n",
       "\n",
       "[5 rows x 23 columns]"
      ]
     },
     "execution_count": 328,
     "metadata": {},
     "output_type": "execute_result"
    }
   ],
   "source": [
    "airquality_data.head()"
   ]
  },
  {
   "cell_type": "code",
   "execution_count": 329,
   "metadata": {
    "colab": {
     "base_uri": "https://localhost:8080/",
     "height": 197
    },
    "colab_type": "code",
    "id": "Ho2ych4lB3cA",
    "outputId": "ac2a2a33-7ff2-4943-b4be-2178342a65e1"
   },
   "outputs": [
    {
     "data": {
      "text/html": [
       "<div>\n",
       "<style scoped>\n",
       "    .dataframe tbody tr th:only-of-type {\n",
       "        vertical-align: middle;\n",
       "    }\n",
       "\n",
       "    .dataframe tbody tr th {\n",
       "        vertical-align: top;\n",
       "    }\n",
       "\n",
       "    .dataframe thead th {\n",
       "        text-align: right;\n",
       "    }\n",
       "</style>\n",
       "<table border=\"1\" class=\"dataframe\">\n",
       "  <thead>\n",
       "    <tr style=\"text-align: right;\">\n",
       "      <th></th>\n",
       "      <th>PM1(Ug/m3)</th>\n",
       "      <th>PM2.5(Ug/m3)</th>\n",
       "      <th>PM10(Ug/m3)</th>\n",
       "      <th>hour</th>\n",
       "      <th>MOD13A3_006_Line_Y_1km</th>\n",
       "      <th>MOD13A3_006_Sample_X_1km</th>\n",
       "      <th>EVI</th>\n",
       "      <th>NDVI</th>\n",
       "      <th>MOD13A3_006__1_km_monthly_VI_Quality</th>\n",
       "      <th>humidity (%)</th>\n",
       "      <th>...</th>\n",
       "      <th>temperature (oC)</th>\n",
       "      <th>windspeed (m/s)</th>\n",
       "      <th>winddirection_E</th>\n",
       "      <th>winddirection_N</th>\n",
       "      <th>winddirection_NE</th>\n",
       "      <th>winddirection_NW</th>\n",
       "      <th>winddirection_S</th>\n",
       "      <th>winddirection_SE</th>\n",
       "      <th>winddirection_SW</th>\n",
       "      <th>winddirection_W</th>\n",
       "    </tr>\n",
       "    <tr>\n",
       "      <th>TimeStamp</th>\n",
       "      <th></th>\n",
       "      <th></th>\n",
       "      <th></th>\n",
       "      <th></th>\n",
       "      <th></th>\n",
       "      <th></th>\n",
       "      <th></th>\n",
       "      <th></th>\n",
       "      <th></th>\n",
       "      <th></th>\n",
       "      <th></th>\n",
       "      <th></th>\n",
       "      <th></th>\n",
       "      <th></th>\n",
       "      <th></th>\n",
       "      <th></th>\n",
       "      <th></th>\n",
       "      <th></th>\n",
       "      <th></th>\n",
       "      <th></th>\n",
       "      <th></th>\n",
       "    </tr>\n",
       "  </thead>\n",
       "  <tbody>\n",
       "    <tr>\n",
       "      <th>2019-03-31 19:00:00</th>\n",
       "      <td>4.69</td>\n",
       "      <td>6.00</td>\n",
       "      <td>6.02</td>\n",
       "      <td>19</td>\n",
       "      <td>1160.0</td>\n",
       "      <td>308.0</td>\n",
       "      <td>0.2376</td>\n",
       "      <td>0.3732</td>\n",
       "      <td>2445.0</td>\n",
       "      <td>73</td>\n",
       "      <td>...</td>\n",
       "      <td>24.46</td>\n",
       "      <td>0.44</td>\n",
       "      <td>0</td>\n",
       "      <td>0</td>\n",
       "      <td>0</td>\n",
       "      <td>0</td>\n",
       "      <td>0</td>\n",
       "      <td>0</td>\n",
       "      <td>1</td>\n",
       "      <td>0</td>\n",
       "    </tr>\n",
       "    <tr>\n",
       "      <th>2019-03-31 20:00:00</th>\n",
       "      <td>4.64</td>\n",
       "      <td>5.88</td>\n",
       "      <td>5.90</td>\n",
       "      <td>20</td>\n",
       "      <td>1160.0</td>\n",
       "      <td>308.0</td>\n",
       "      <td>0.2376</td>\n",
       "      <td>0.3732</td>\n",
       "      <td>2445.0</td>\n",
       "      <td>80</td>\n",
       "      <td>...</td>\n",
       "      <td>23.84</td>\n",
       "      <td>0.51</td>\n",
       "      <td>0</td>\n",
       "      <td>0</td>\n",
       "      <td>0</td>\n",
       "      <td>0</td>\n",
       "      <td>0</td>\n",
       "      <td>0</td>\n",
       "      <td>0</td>\n",
       "      <td>1</td>\n",
       "    </tr>\n",
       "    <tr>\n",
       "      <th>2019-03-31 21:00:00</th>\n",
       "      <td>5.07</td>\n",
       "      <td>6.35</td>\n",
       "      <td>6.36</td>\n",
       "      <td>21</td>\n",
       "      <td>1160.0</td>\n",
       "      <td>308.0</td>\n",
       "      <td>0.2376</td>\n",
       "      <td>0.3732</td>\n",
       "      <td>2445.0</td>\n",
       "      <td>83</td>\n",
       "      <td>...</td>\n",
       "      <td>23.47</td>\n",
       "      <td>0.58</td>\n",
       "      <td>0</td>\n",
       "      <td>0</td>\n",
       "      <td>0</td>\n",
       "      <td>0</td>\n",
       "      <td>0</td>\n",
       "      <td>1</td>\n",
       "      <td>0</td>\n",
       "      <td>0</td>\n",
       "    </tr>\n",
       "    <tr>\n",
       "      <th>2019-03-31 22:00:00</th>\n",
       "      <td>6.17</td>\n",
       "      <td>7.54</td>\n",
       "      <td>7.55</td>\n",
       "      <td>22</td>\n",
       "      <td>1160.0</td>\n",
       "      <td>308.0</td>\n",
       "      <td>0.2376</td>\n",
       "      <td>0.3732</td>\n",
       "      <td>2445.0</td>\n",
       "      <td>83</td>\n",
       "      <td>...</td>\n",
       "      <td>23.10</td>\n",
       "      <td>0.49</td>\n",
       "      <td>0</td>\n",
       "      <td>0</td>\n",
       "      <td>0</td>\n",
       "      <td>0</td>\n",
       "      <td>1</td>\n",
       "      <td>0</td>\n",
       "      <td>0</td>\n",
       "      <td>0</td>\n",
       "    </tr>\n",
       "    <tr>\n",
       "      <th>2019-03-31 23:00:00</th>\n",
       "      <td>7.34</td>\n",
       "      <td>8.72</td>\n",
       "      <td>8.73</td>\n",
       "      <td>23</td>\n",
       "      <td>1160.0</td>\n",
       "      <td>308.0</td>\n",
       "      <td>0.2376</td>\n",
       "      <td>0.3732</td>\n",
       "      <td>2445.0</td>\n",
       "      <td>81</td>\n",
       "      <td>...</td>\n",
       "      <td>22.77</td>\n",
       "      <td>0.40</td>\n",
       "      <td>0</td>\n",
       "      <td>0</td>\n",
       "      <td>0</td>\n",
       "      <td>0</td>\n",
       "      <td>0</td>\n",
       "      <td>1</td>\n",
       "      <td>0</td>\n",
       "      <td>0</td>\n",
       "    </tr>\n",
       "  </tbody>\n",
       "</table>\n",
       "<p>5 rows × 23 columns</p>\n",
       "</div>"
      ],
      "text/plain": [
       "                     PM1(Ug/m3)  PM2.5(Ug/m3)  PM10(Ug/m3)  hour  \\\n",
       "TimeStamp                                                          \n",
       "2019-03-31 19:00:00        4.69          6.00         6.02    19   \n",
       "2019-03-31 20:00:00        4.64          5.88         5.90    20   \n",
       "2019-03-31 21:00:00        5.07          6.35         6.36    21   \n",
       "2019-03-31 22:00:00        6.17          7.54         7.55    22   \n",
       "2019-03-31 23:00:00        7.34          8.72         8.73    23   \n",
       "\n",
       "                     MOD13A3_006_Line_Y_1km  MOD13A3_006_Sample_X_1km     EVI  \\\n",
       "TimeStamp                                                                       \n",
       "2019-03-31 19:00:00                  1160.0                     308.0  0.2376   \n",
       "2019-03-31 20:00:00                  1160.0                     308.0  0.2376   \n",
       "2019-03-31 21:00:00                  1160.0                     308.0  0.2376   \n",
       "2019-03-31 22:00:00                  1160.0                     308.0  0.2376   \n",
       "2019-03-31 23:00:00                  1160.0                     308.0  0.2376   \n",
       "\n",
       "                       NDVI  MOD13A3_006__1_km_monthly_VI_Quality  \\\n",
       "TimeStamp                                                           \n",
       "2019-03-31 19:00:00  0.3732                                2445.0   \n",
       "2019-03-31 20:00:00  0.3732                                2445.0   \n",
       "2019-03-31 21:00:00  0.3732                                2445.0   \n",
       "2019-03-31 22:00:00  0.3732                                2445.0   \n",
       "2019-03-31 23:00:00  0.3732                                2445.0   \n",
       "\n",
       "                     humidity (%)       ...         temperature (oC)  \\\n",
       "TimeStamp                               ...                            \n",
       "2019-03-31 19:00:00            73       ...                    24.46   \n",
       "2019-03-31 20:00:00            80       ...                    23.84   \n",
       "2019-03-31 21:00:00            83       ...                    23.47   \n",
       "2019-03-31 22:00:00            83       ...                    23.10   \n",
       "2019-03-31 23:00:00            81       ...                    22.77   \n",
       "\n",
       "                     windspeed (m/s)  winddirection_E  winddirection_N  \\\n",
       "TimeStamp                                                                \n",
       "2019-03-31 19:00:00             0.44                0                0   \n",
       "2019-03-31 20:00:00             0.51                0                0   \n",
       "2019-03-31 21:00:00             0.58                0                0   \n",
       "2019-03-31 22:00:00             0.49                0                0   \n",
       "2019-03-31 23:00:00             0.40                0                0   \n",
       "\n",
       "                     winddirection_NE  winddirection_NW  winddirection_S  \\\n",
       "TimeStamp                                                                  \n",
       "2019-03-31 19:00:00                 0                 0                0   \n",
       "2019-03-31 20:00:00                 0                 0                0   \n",
       "2019-03-31 21:00:00                 0                 0                0   \n",
       "2019-03-31 22:00:00                 0                 0                1   \n",
       "2019-03-31 23:00:00                 0                 0                0   \n",
       "\n",
       "                     winddirection_SE  winddirection_SW  winddirection_W  \n",
       "TimeStamp                                                                 \n",
       "2019-03-31 19:00:00                 0                 1                0  \n",
       "2019-03-31 20:00:00                 0                 0                1  \n",
       "2019-03-31 21:00:00                 1                 0                0  \n",
       "2019-03-31 22:00:00                 0                 0                0  \n",
       "2019-03-31 23:00:00                 1                 0                0  \n",
       "\n",
       "[5 rows x 23 columns]"
      ]
     },
     "execution_count": 329,
     "metadata": {},
     "output_type": "execute_result"
    }
   ],
   "source": [
    "airquality_data.tail()"
   ]
  },
  {
   "cell_type": "code",
   "execution_count": 330,
   "metadata": {
    "colab": {
     "base_uri": "https://localhost:8080/",
     "height": 567
    },
    "colab_type": "code",
    "id": "LueXKLM3B_DR",
    "outputId": "ba5a377a-7b5b-41a8-f5ba-26424099dd23"
   },
   "outputs": [
    {
     "name": "stdout",
     "output_type": "stream",
     "text": [
      "(12485, 23)\n",
      "['PM1(Ug/m3)', 'PM2.5(Ug/m3)', 'PM10(Ug/m3)', 'hour', 'MOD13A3_006_Line_Y_1km', 'MOD13A3_006_Sample_X_1km', 'EVI', 'NDVI', 'MOD13A3_006__1_km_monthly_VI_Quality', 'humidity (%)', 'precipitation (mm)', 'pressure (kPa)', 'radiation (W/m2)', 'temperature (oC)', 'windspeed (m/s)', 'winddirection_E', 'winddirection_N', 'winddirection_NE', 'winddirection_NW', 'winddirection_S', 'winddirection_SE', 'winddirection_SW', 'winddirection_W']\n",
      "<class 'pandas.core.frame.DataFrame'>\n",
      "DatetimeIndex: 12485 entries, 2017-09-09 18:00:00 to 2019-03-31 23:00:00\n",
      "Data columns (total 23 columns):\n",
      "PM1(Ug/m3)                              12485 non-null float64\n",
      "PM2.5(Ug/m3)                            12485 non-null float64\n",
      "PM10(Ug/m3)                             12485 non-null float64\n",
      "hour                                    12485 non-null int64\n",
      "MOD13A3_006_Line_Y_1km                  12485 non-null float64\n",
      "MOD13A3_006_Sample_X_1km                12485 non-null float64\n",
      "EVI                                     12485 non-null float64\n",
      "NDVI                                    12485 non-null float64\n",
      "MOD13A3_006__1_km_monthly_VI_Quality    12485 non-null float64\n",
      "humidity (%)                            12485 non-null int64\n",
      "precipitation (mm)                      12485 non-null float64\n",
      "pressure (kPa)                          12485 non-null float64\n",
      "radiation (W/m2)                        12485 non-null float64\n",
      "temperature (oC)                        12485 non-null float64\n",
      "windspeed (m/s)                         12485 non-null float64\n",
      "winddirection_E                         12485 non-null int64\n",
      "winddirection_N                         12485 non-null int64\n",
      "winddirection_NE                        12485 non-null int64\n",
      "winddirection_NW                        12485 non-null int64\n",
      "winddirection_S                         12485 non-null int64\n",
      "winddirection_SE                        12485 non-null int64\n",
      "winddirection_SW                        12485 non-null int64\n",
      "winddirection_W                         12485 non-null int64\n",
      "dtypes: float64(13), int64(10)\n",
      "memory usage: 2.3 MB\n",
      "\n",
      " dataframe info: \n",
      " None\n",
      "\n",
      " dataframe column datatypes:\n",
      " PM1(Ug/m3)                              float64\n",
      "PM2.5(Ug/m3)                            float64\n",
      "PM10(Ug/m3)                             float64\n",
      "hour                                      int64\n",
      "MOD13A3_006_Line_Y_1km                  float64\n",
      "MOD13A3_006_Sample_X_1km                float64\n",
      "EVI                                     float64\n",
      "NDVI                                    float64\n",
      "MOD13A3_006__1_km_monthly_VI_Quality    float64\n",
      "humidity (%)                              int64\n",
      "precipitation (mm)                      float64\n",
      "pressure (kPa)                          float64\n",
      "radiation (W/m2)                        float64\n",
      "temperature (oC)                        float64\n",
      "windspeed (m/s)                         float64\n",
      "winddirection_E                           int64\n",
      "winddirection_N                           int64\n",
      "winddirection_NE                          int64\n",
      "winddirection_NW                          int64\n",
      "winddirection_S                           int64\n",
      "winddirection_SE                          int64\n",
      "winddirection_SW                          int64\n",
      "winddirection_W                           int64\n",
      "dtype: object\n"
     ]
    }
   ],
   "source": [
    "show_dataframe_info(airquality_data)"
   ]
  },
  {
   "cell_type": "code",
   "execution_count": 331,
   "metadata": {
    "colab": {
     "base_uri": "https://localhost:8080/",
     "height": 287
    },
    "colab_type": "code",
    "id": "6inajEGHCWNw",
    "outputId": "33b50565-8809-4013-a695-c6b5f79bfe0b"
   },
   "outputs": [
    {
     "data": {
      "text/html": [
       "<div>\n",
       "<style scoped>\n",
       "    .dataframe tbody tr th:only-of-type {\n",
       "        vertical-align: middle;\n",
       "    }\n",
       "\n",
       "    .dataframe tbody tr th {\n",
       "        vertical-align: top;\n",
       "    }\n",
       "\n",
       "    .dataframe thead th {\n",
       "        text-align: right;\n",
       "    }\n",
       "</style>\n",
       "<table border=\"1\" class=\"dataframe\">\n",
       "  <thead>\n",
       "    <tr style=\"text-align: right;\">\n",
       "      <th></th>\n",
       "      <th>PM1(Ug/m3)</th>\n",
       "      <th>PM2.5(Ug/m3)</th>\n",
       "      <th>PM10(Ug/m3)</th>\n",
       "      <th>hour</th>\n",
       "      <th>MOD13A3_006_Line_Y_1km</th>\n",
       "      <th>MOD13A3_006_Sample_X_1km</th>\n",
       "      <th>EVI</th>\n",
       "      <th>NDVI</th>\n",
       "      <th>MOD13A3_006__1_km_monthly_VI_Quality</th>\n",
       "      <th>humidity (%)</th>\n",
       "      <th>...</th>\n",
       "      <th>temperature (oC)</th>\n",
       "      <th>windspeed (m/s)</th>\n",
       "      <th>winddirection_E</th>\n",
       "      <th>winddirection_N</th>\n",
       "      <th>winddirection_NE</th>\n",
       "      <th>winddirection_NW</th>\n",
       "      <th>winddirection_S</th>\n",
       "      <th>winddirection_SE</th>\n",
       "      <th>winddirection_SW</th>\n",
       "      <th>winddirection_W</th>\n",
       "    </tr>\n",
       "  </thead>\n",
       "  <tbody>\n",
       "    <tr>\n",
       "      <th>count</th>\n",
       "      <td>1.248500e+04</td>\n",
       "      <td>12485.000000</td>\n",
       "      <td>12485.000000</td>\n",
       "      <td>12485.000000</td>\n",
       "      <td>12485.0</td>\n",
       "      <td>12485.0</td>\n",
       "      <td>12485.000000</td>\n",
       "      <td>12485.000000</td>\n",
       "      <td>12485.000000</td>\n",
       "      <td>12485.000000</td>\n",
       "      <td>...</td>\n",
       "      <td>12485.000000</td>\n",
       "      <td>12485.000000</td>\n",
       "      <td>12485.000000</td>\n",
       "      <td>12485.000000</td>\n",
       "      <td>12485.000000</td>\n",
       "      <td>12485.000000</td>\n",
       "      <td>12485.000000</td>\n",
       "      <td>12485.000000</td>\n",
       "      <td>12485.000000</td>\n",
       "      <td>12485.000000</td>\n",
       "    </tr>\n",
       "    <tr>\n",
       "      <th>mean</th>\n",
       "      <td>3.028915e+14</td>\n",
       "      <td>10.673821</td>\n",
       "      <td>15.369912</td>\n",
       "      <td>11.499960</td>\n",
       "      <td>1160.0</td>\n",
       "      <td>308.0</td>\n",
       "      <td>0.210689</td>\n",
       "      <td>0.379469</td>\n",
       "      <td>2184.886584</td>\n",
       "      <td>-100.709251</td>\n",
       "      <td>...</td>\n",
       "      <td>22.567326</td>\n",
       "      <td>-101.547885</td>\n",
       "      <td>0.103564</td>\n",
       "      <td>0.063356</td>\n",
       "      <td>0.074329</td>\n",
       "      <td>0.098438</td>\n",
       "      <td>0.214257</td>\n",
       "      <td>0.219143</td>\n",
       "      <td>0.123588</td>\n",
       "      <td>0.103324</td>\n",
       "    </tr>\n",
       "    <tr>\n",
       "      <th>std</th>\n",
       "      <td>1.971218e+15</td>\n",
       "      <td>7.022369</td>\n",
       "      <td>11.679562</td>\n",
       "      <td>6.922913</td>\n",
       "      <td>0.0</td>\n",
       "      <td>0.0</td>\n",
       "      <td>0.034487</td>\n",
       "      <td>0.042931</td>\n",
       "      <td>104.165659</td>\n",
       "      <td>1331.806401</td>\n",
       "      <td>...</td>\n",
       "      <td>3.449116</td>\n",
       "      <td>1007.269962</td>\n",
       "      <td>0.304707</td>\n",
       "      <td>0.243612</td>\n",
       "      <td>0.262316</td>\n",
       "      <td>0.297918</td>\n",
       "      <td>0.410322</td>\n",
       "      <td>0.413682</td>\n",
       "      <td>0.329124</td>\n",
       "      <td>0.304394</td>\n",
       "    </tr>\n",
       "    <tr>\n",
       "      <th>min</th>\n",
       "      <td>1.000000e-02</td>\n",
       "      <td>0.010000</td>\n",
       "      <td>0.010000</td>\n",
       "      <td>0.000000</td>\n",
       "      <td>1160.0</td>\n",
       "      <td>308.0</td>\n",
       "      <td>0.158000</td>\n",
       "      <td>0.292000</td>\n",
       "      <td>2112.000000</td>\n",
       "      <td>-9998.000000</td>\n",
       "      <td>...</td>\n",
       "      <td>15.470000</td>\n",
       "      <td>-9998.000000</td>\n",
       "      <td>0.000000</td>\n",
       "      <td>0.000000</td>\n",
       "      <td>0.000000</td>\n",
       "      <td>0.000000</td>\n",
       "      <td>0.000000</td>\n",
       "      <td>0.000000</td>\n",
       "      <td>0.000000</td>\n",
       "      <td>0.000000</td>\n",
       "    </tr>\n",
       "    <tr>\n",
       "      <th>25%</th>\n",
       "      <td>5.520000e+00</td>\n",
       "      <td>6.790000</td>\n",
       "      <td>9.510000</td>\n",
       "      <td>5.000000</td>\n",
       "      <td>1160.0</td>\n",
       "      <td>308.0</td>\n",
       "      <td>0.178400</td>\n",
       "      <td>0.345000</td>\n",
       "      <td>2112.000000</td>\n",
       "      <td>66.000000</td>\n",
       "      <td>...</td>\n",
       "      <td>19.870000</td>\n",
       "      <td>0.480000</td>\n",
       "      <td>0.000000</td>\n",
       "      <td>0.000000</td>\n",
       "      <td>0.000000</td>\n",
       "      <td>0.000000</td>\n",
       "      <td>0.000000</td>\n",
       "      <td>0.000000</td>\n",
       "      <td>0.000000</td>\n",
       "      <td>0.000000</td>\n",
       "    </tr>\n",
       "    <tr>\n",
       "      <th>50%</th>\n",
       "      <td>8.830000e+00</td>\n",
       "      <td>10.820000</td>\n",
       "      <td>14.240000</td>\n",
       "      <td>11.000000</td>\n",
       "      <td>1160.0</td>\n",
       "      <td>308.0</td>\n",
       "      <td>0.212600</td>\n",
       "      <td>0.373200</td>\n",
       "      <td>2181.000000</td>\n",
       "      <td>82.000000</td>\n",
       "      <td>...</td>\n",
       "      <td>21.580000</td>\n",
       "      <td>0.710000</td>\n",
       "      <td>0.000000</td>\n",
       "      <td>0.000000</td>\n",
       "      <td>0.000000</td>\n",
       "      <td>0.000000</td>\n",
       "      <td>0.000000</td>\n",
       "      <td>0.000000</td>\n",
       "      <td>0.000000</td>\n",
       "      <td>0.000000</td>\n",
       "    </tr>\n",
       "    <tr>\n",
       "      <th>75%</th>\n",
       "      <td>9.910000e+00</td>\n",
       "      <td>12.430000</td>\n",
       "      <td>18.170000</td>\n",
       "      <td>18.000000</td>\n",
       "      <td>1160.0</td>\n",
       "      <td>308.0</td>\n",
       "      <td>0.237600</td>\n",
       "      <td>0.417300</td>\n",
       "      <td>2181.000000</td>\n",
       "      <td>91.000000</td>\n",
       "      <td>...</td>\n",
       "      <td>25.140000</td>\n",
       "      <td>1.040000</td>\n",
       "      <td>0.000000</td>\n",
       "      <td>0.000000</td>\n",
       "      <td>0.000000</td>\n",
       "      <td>0.000000</td>\n",
       "      <td>0.000000</td>\n",
       "      <td>0.000000</td>\n",
       "      <td>0.000000</td>\n",
       "      <td>0.000000</td>\n",
       "    </tr>\n",
       "    <tr>\n",
       "      <th>max</th>\n",
       "      <td>1.313056e+16</td>\n",
       "      <td>210.400000</td>\n",
       "      <td>228.260000</td>\n",
       "      <td>23.000000</td>\n",
       "      <td>1160.0</td>\n",
       "      <td>308.0</td>\n",
       "      <td>0.270800</td>\n",
       "      <td>0.449100</td>\n",
       "      <td>2445.000000</td>\n",
       "      <td>100.000000</td>\n",
       "      <td>...</td>\n",
       "      <td>33.370000</td>\n",
       "      <td>36.910000</td>\n",
       "      <td>1.000000</td>\n",
       "      <td>1.000000</td>\n",
       "      <td>1.000000</td>\n",
       "      <td>1.000000</td>\n",
       "      <td>1.000000</td>\n",
       "      <td>1.000000</td>\n",
       "      <td>1.000000</td>\n",
       "      <td>1.000000</td>\n",
       "    </tr>\n",
       "  </tbody>\n",
       "</table>\n",
       "<p>8 rows × 23 columns</p>\n",
       "</div>"
      ],
      "text/plain": [
       "         PM1(Ug/m3)  PM2.5(Ug/m3)   PM10(Ug/m3)          hour  \\\n",
       "count  1.248500e+04  12485.000000  12485.000000  12485.000000   \n",
       "mean   3.028915e+14     10.673821     15.369912     11.499960   \n",
       "std    1.971218e+15      7.022369     11.679562      6.922913   \n",
       "min    1.000000e-02      0.010000      0.010000      0.000000   \n",
       "25%    5.520000e+00      6.790000      9.510000      5.000000   \n",
       "50%    8.830000e+00     10.820000     14.240000     11.000000   \n",
       "75%    9.910000e+00     12.430000     18.170000     18.000000   \n",
       "max    1.313056e+16    210.400000    228.260000     23.000000   \n",
       "\n",
       "       MOD13A3_006_Line_Y_1km  MOD13A3_006_Sample_X_1km           EVI  \\\n",
       "count                 12485.0                   12485.0  12485.000000   \n",
       "mean                   1160.0                     308.0      0.210689   \n",
       "std                       0.0                       0.0      0.034487   \n",
       "min                    1160.0                     308.0      0.158000   \n",
       "25%                    1160.0                     308.0      0.178400   \n",
       "50%                    1160.0                     308.0      0.212600   \n",
       "75%                    1160.0                     308.0      0.237600   \n",
       "max                    1160.0                     308.0      0.270800   \n",
       "\n",
       "               NDVI  MOD13A3_006__1_km_monthly_VI_Quality  humidity (%)  \\\n",
       "count  12485.000000                          12485.000000  12485.000000   \n",
       "mean       0.379469                           2184.886584   -100.709251   \n",
       "std        0.042931                            104.165659   1331.806401   \n",
       "min        0.292000                           2112.000000  -9998.000000   \n",
       "25%        0.345000                           2112.000000     66.000000   \n",
       "50%        0.373200                           2181.000000     82.000000   \n",
       "75%        0.417300                           2181.000000     91.000000   \n",
       "max        0.449100                           2445.000000    100.000000   \n",
       "\n",
       "            ...         temperature (oC)  windspeed (m/s)  winddirection_E  \\\n",
       "count       ...             12485.000000     12485.000000     12485.000000   \n",
       "mean        ...                22.567326      -101.547885         0.103564   \n",
       "std         ...                 3.449116      1007.269962         0.304707   \n",
       "min         ...                15.470000     -9998.000000         0.000000   \n",
       "25%         ...                19.870000         0.480000         0.000000   \n",
       "50%         ...                21.580000         0.710000         0.000000   \n",
       "75%         ...                25.140000         1.040000         0.000000   \n",
       "max         ...                33.370000        36.910000         1.000000   \n",
       "\n",
       "       winddirection_N  winddirection_NE  winddirection_NW  winddirection_S  \\\n",
       "count     12485.000000      12485.000000      12485.000000     12485.000000   \n",
       "mean          0.063356          0.074329          0.098438         0.214257   \n",
       "std           0.243612          0.262316          0.297918         0.410322   \n",
       "min           0.000000          0.000000          0.000000         0.000000   \n",
       "25%           0.000000          0.000000          0.000000         0.000000   \n",
       "50%           0.000000          0.000000          0.000000         0.000000   \n",
       "75%           0.000000          0.000000          0.000000         0.000000   \n",
       "max           1.000000          1.000000          1.000000         1.000000   \n",
       "\n",
       "       winddirection_SE  winddirection_SW  winddirection_W  \n",
       "count      12485.000000      12485.000000     12485.000000  \n",
       "mean           0.219143          0.123588         0.103324  \n",
       "std            0.413682          0.329124         0.304394  \n",
       "min            0.000000          0.000000         0.000000  \n",
       "25%            0.000000          0.000000         0.000000  \n",
       "50%            0.000000          0.000000         0.000000  \n",
       "75%            0.000000          0.000000         0.000000  \n",
       "max            1.000000          1.000000         1.000000  \n",
       "\n",
       "[8 rows x 23 columns]"
      ]
     },
     "execution_count": 331,
     "metadata": {},
     "output_type": "execute_result"
    }
   ],
   "source": [
    "airquality_data.describe()"
   ]
  },
  {
   "cell_type": "markdown",
   "metadata": {
    "colab_type": "text",
    "id": "_QqtVZw7Sb3i"
   },
   "source": [
    "### Separate Features From the Target"
   ]
  },
  {
   "cell_type": "code",
   "execution_count": 332,
   "metadata": {},
   "outputs": [],
   "source": [
    "#target_column = 'PM2.5(Ug/m3)'\n",
    "#feature_columns = [x for x in airquality_data.columns if x != target_column]\n",
    "feature_columns = [0,2, 3,4,5,6,8,9,10,11,12,13,14,15,16,17,18,19]\n",
    "target_column = [1]\n",
    "features = airquality_data.iloc[:,feature_columns]\n",
    "targets = airquality_data.iloc[:,target_column]"
   ]
  },
  {
   "cell_type": "code",
   "execution_count": 333,
   "metadata": {},
   "outputs": [
    {
     "data": {
      "text/html": [
       "<div>\n",
       "<style scoped>\n",
       "    .dataframe tbody tr th:only-of-type {\n",
       "        vertical-align: middle;\n",
       "    }\n",
       "\n",
       "    .dataframe tbody tr th {\n",
       "        vertical-align: top;\n",
       "    }\n",
       "\n",
       "    .dataframe thead th {\n",
       "        text-align: right;\n",
       "    }\n",
       "</style>\n",
       "<table border=\"1\" class=\"dataframe\">\n",
       "  <thead>\n",
       "    <tr style=\"text-align: right;\">\n",
       "      <th></th>\n",
       "      <th>PM1(Ug/m3)</th>\n",
       "      <th>PM10(Ug/m3)</th>\n",
       "      <th>hour</th>\n",
       "      <th>MOD13A3_006_Line_Y_1km</th>\n",
       "      <th>MOD13A3_006_Sample_X_1km</th>\n",
       "      <th>EVI</th>\n",
       "      <th>MOD13A3_006__1_km_monthly_VI_Quality</th>\n",
       "      <th>humidity (%)</th>\n",
       "      <th>precipitation (mm)</th>\n",
       "      <th>pressure (kPa)</th>\n",
       "      <th>radiation (W/m2)</th>\n",
       "      <th>temperature (oC)</th>\n",
       "      <th>windspeed (m/s)</th>\n",
       "      <th>winddirection_E</th>\n",
       "      <th>winddirection_N</th>\n",
       "      <th>winddirection_NE</th>\n",
       "      <th>winddirection_NW</th>\n",
       "      <th>winddirection_S</th>\n",
       "    </tr>\n",
       "    <tr>\n",
       "      <th>TimeStamp</th>\n",
       "      <th></th>\n",
       "      <th></th>\n",
       "      <th></th>\n",
       "      <th></th>\n",
       "      <th></th>\n",
       "      <th></th>\n",
       "      <th></th>\n",
       "      <th></th>\n",
       "      <th></th>\n",
       "      <th></th>\n",
       "      <th></th>\n",
       "      <th></th>\n",
       "      <th></th>\n",
       "      <th></th>\n",
       "      <th></th>\n",
       "      <th></th>\n",
       "      <th></th>\n",
       "      <th></th>\n",
       "    </tr>\n",
       "  </thead>\n",
       "  <tbody>\n",
       "    <tr>\n",
       "      <th>2017-09-09 18:00:00</th>\n",
       "      <td>5.52</td>\n",
       "      <td>9.73</td>\n",
       "      <td>18</td>\n",
       "      <td>1160.0</td>\n",
       "      <td>308.0</td>\n",
       "      <td>0.2133</td>\n",
       "      <td>2185.0</td>\n",
       "      <td>73</td>\n",
       "      <td>0.0</td>\n",
       "      <td>87.50</td>\n",
       "      <td>0.9</td>\n",
       "      <td>23.27</td>\n",
       "      <td>0.44</td>\n",
       "      <td>0</td>\n",
       "      <td>0</td>\n",
       "      <td>0</td>\n",
       "      <td>0</td>\n",
       "      <td>0</td>\n",
       "    </tr>\n",
       "    <tr>\n",
       "      <th>2017-09-09 19:00:00</th>\n",
       "      <td>7.89</td>\n",
       "      <td>14.24</td>\n",
       "      <td>19</td>\n",
       "      <td>1160.0</td>\n",
       "      <td>308.0</td>\n",
       "      <td>0.2133</td>\n",
       "      <td>2185.0</td>\n",
       "      <td>77</td>\n",
       "      <td>0.0</td>\n",
       "      <td>87.58</td>\n",
       "      <td>0.0</td>\n",
       "      <td>22.72</td>\n",
       "      <td>0.38</td>\n",
       "      <td>0</td>\n",
       "      <td>0</td>\n",
       "      <td>1</td>\n",
       "      <td>0</td>\n",
       "      <td>0</td>\n",
       "    </tr>\n",
       "    <tr>\n",
       "      <th>2017-09-09 20:00:00</th>\n",
       "      <td>9.55</td>\n",
       "      <td>16.99</td>\n",
       "      <td>20</td>\n",
       "      <td>1160.0</td>\n",
       "      <td>308.0</td>\n",
       "      <td>0.2133</td>\n",
       "      <td>2185.0</td>\n",
       "      <td>80</td>\n",
       "      <td>0.0</td>\n",
       "      <td>87.67</td>\n",
       "      <td>0.0</td>\n",
       "      <td>22.29</td>\n",
       "      <td>0.37</td>\n",
       "      <td>0</td>\n",
       "      <td>0</td>\n",
       "      <td>0</td>\n",
       "      <td>0</td>\n",
       "      <td>0</td>\n",
       "    </tr>\n",
       "    <tr>\n",
       "      <th>2017-09-09 21:00:00</th>\n",
       "      <td>10.09</td>\n",
       "      <td>18.97</td>\n",
       "      <td>21</td>\n",
       "      <td>1160.0</td>\n",
       "      <td>308.0</td>\n",
       "      <td>0.2133</td>\n",
       "      <td>2185.0</td>\n",
       "      <td>82</td>\n",
       "      <td>0.0</td>\n",
       "      <td>87.66</td>\n",
       "      <td>0.0</td>\n",
       "      <td>21.71</td>\n",
       "      <td>0.34</td>\n",
       "      <td>0</td>\n",
       "      <td>1</td>\n",
       "      <td>0</td>\n",
       "      <td>0</td>\n",
       "      <td>0</td>\n",
       "    </tr>\n",
       "    <tr>\n",
       "      <th>2017-09-09 22:00:00</th>\n",
       "      <td>9.66</td>\n",
       "      <td>18.17</td>\n",
       "      <td>22</td>\n",
       "      <td>1160.0</td>\n",
       "      <td>308.0</td>\n",
       "      <td>0.2133</td>\n",
       "      <td>2185.0</td>\n",
       "      <td>87</td>\n",
       "      <td>0.0</td>\n",
       "      <td>87.68</td>\n",
       "      <td>0.0</td>\n",
       "      <td>20.86</td>\n",
       "      <td>0.29</td>\n",
       "      <td>0</td>\n",
       "      <td>0</td>\n",
       "      <td>1</td>\n",
       "      <td>0</td>\n",
       "      <td>0</td>\n",
       "    </tr>\n",
       "  </tbody>\n",
       "</table>\n",
       "</div>"
      ],
      "text/plain": [
       "                     PM1(Ug/m3)  PM10(Ug/m3)  hour  MOD13A3_006_Line_Y_1km  \\\n",
       "TimeStamp                                                                    \n",
       "2017-09-09 18:00:00        5.52         9.73    18                  1160.0   \n",
       "2017-09-09 19:00:00        7.89        14.24    19                  1160.0   \n",
       "2017-09-09 20:00:00        9.55        16.99    20                  1160.0   \n",
       "2017-09-09 21:00:00       10.09        18.97    21                  1160.0   \n",
       "2017-09-09 22:00:00        9.66        18.17    22                  1160.0   \n",
       "\n",
       "                     MOD13A3_006_Sample_X_1km     EVI  \\\n",
       "TimeStamp                                               \n",
       "2017-09-09 18:00:00                     308.0  0.2133   \n",
       "2017-09-09 19:00:00                     308.0  0.2133   \n",
       "2017-09-09 20:00:00                     308.0  0.2133   \n",
       "2017-09-09 21:00:00                     308.0  0.2133   \n",
       "2017-09-09 22:00:00                     308.0  0.2133   \n",
       "\n",
       "                     MOD13A3_006__1_km_monthly_VI_Quality  humidity (%)  \\\n",
       "TimeStamp                                                                 \n",
       "2017-09-09 18:00:00                                2185.0            73   \n",
       "2017-09-09 19:00:00                                2185.0            77   \n",
       "2017-09-09 20:00:00                                2185.0            80   \n",
       "2017-09-09 21:00:00                                2185.0            82   \n",
       "2017-09-09 22:00:00                                2185.0            87   \n",
       "\n",
       "                     precipitation (mm)  pressure (kPa)  radiation (W/m2)  \\\n",
       "TimeStamp                                                                   \n",
       "2017-09-09 18:00:00                 0.0           87.50               0.9   \n",
       "2017-09-09 19:00:00                 0.0           87.58               0.0   \n",
       "2017-09-09 20:00:00                 0.0           87.67               0.0   \n",
       "2017-09-09 21:00:00                 0.0           87.66               0.0   \n",
       "2017-09-09 22:00:00                 0.0           87.68               0.0   \n",
       "\n",
       "                     temperature (oC)  windspeed (m/s)  winddirection_E  \\\n",
       "TimeStamp                                                                 \n",
       "2017-09-09 18:00:00             23.27             0.44                0   \n",
       "2017-09-09 19:00:00             22.72             0.38                0   \n",
       "2017-09-09 20:00:00             22.29             0.37                0   \n",
       "2017-09-09 21:00:00             21.71             0.34                0   \n",
       "2017-09-09 22:00:00             20.86             0.29                0   \n",
       "\n",
       "                     winddirection_N  winddirection_NE  winddirection_NW  \\\n",
       "TimeStamp                                                                  \n",
       "2017-09-09 18:00:00                0                 0                 0   \n",
       "2017-09-09 19:00:00                0                 1                 0   \n",
       "2017-09-09 20:00:00                0                 0                 0   \n",
       "2017-09-09 21:00:00                1                 0                 0   \n",
       "2017-09-09 22:00:00                0                 1                 0   \n",
       "\n",
       "                     winddirection_S  \n",
       "TimeStamp                             \n",
       "2017-09-09 18:00:00                0  \n",
       "2017-09-09 19:00:00                0  \n",
       "2017-09-09 20:00:00                0  \n",
       "2017-09-09 21:00:00                0  \n",
       "2017-09-09 22:00:00                0  "
      ]
     },
     "execution_count": 333,
     "metadata": {},
     "output_type": "execute_result"
    }
   ],
   "source": [
    "features.head()"
   ]
  },
  {
   "cell_type": "code",
   "execution_count": 334,
   "metadata": {},
   "outputs": [
    {
     "data": {
      "text/html": [
       "<div>\n",
       "<style scoped>\n",
       "    .dataframe tbody tr th:only-of-type {\n",
       "        vertical-align: middle;\n",
       "    }\n",
       "\n",
       "    .dataframe tbody tr th {\n",
       "        vertical-align: top;\n",
       "    }\n",
       "\n",
       "    .dataframe thead th {\n",
       "        text-align: right;\n",
       "    }\n",
       "</style>\n",
       "<table border=\"1\" class=\"dataframe\">\n",
       "  <thead>\n",
       "    <tr style=\"text-align: right;\">\n",
       "      <th></th>\n",
       "      <th>PM2.5(Ug/m3)</th>\n",
       "    </tr>\n",
       "    <tr>\n",
       "      <th>TimeStamp</th>\n",
       "      <th></th>\n",
       "    </tr>\n",
       "  </thead>\n",
       "  <tbody>\n",
       "    <tr>\n",
       "      <th>2017-09-09 18:00:00</th>\n",
       "      <td>6.93</td>\n",
       "    </tr>\n",
       "    <tr>\n",
       "      <th>2017-09-09 19:00:00</th>\n",
       "      <td>9.97</td>\n",
       "    </tr>\n",
       "    <tr>\n",
       "      <th>2017-09-09 20:00:00</th>\n",
       "      <td>12.09</td>\n",
       "    </tr>\n",
       "    <tr>\n",
       "      <th>2017-09-09 21:00:00</th>\n",
       "      <td>12.97</td>\n",
       "    </tr>\n",
       "    <tr>\n",
       "      <th>2017-09-09 22:00:00</th>\n",
       "      <td>12.53</td>\n",
       "    </tr>\n",
       "  </tbody>\n",
       "</table>\n",
       "</div>"
      ],
      "text/plain": [
       "                     PM2.5(Ug/m3)\n",
       "TimeStamp                        \n",
       "2017-09-09 18:00:00          6.93\n",
       "2017-09-09 19:00:00          9.97\n",
       "2017-09-09 20:00:00         12.09\n",
       "2017-09-09 21:00:00         12.97\n",
       "2017-09-09 22:00:00         12.53"
      ]
     },
     "execution_count": 334,
     "metadata": {},
     "output_type": "execute_result"
    }
   ],
   "source": [
    "targets.head()"
   ]
  },
  {
   "cell_type": "markdown",
   "metadata": {
    "colab_type": "text",
    "id": "LvOH8t25Sb4E"
   },
   "source": [
    "\n",
    "### separate test dataset from training dataset and validation dataset\n",
    "- separate data on 70/10/20 training/validation/testing\n"
   ]
  },
  {
   "cell_type": "code",
   "execution_count": 335,
   "metadata": {},
   "outputs": [
    {
     "name": "stdout",
     "output_type": "stream",
     "text": [
      "12485\n",
      "8739\n",
      "1248\n",
      "2497\n",
      "12484\n"
     ]
    }
   ],
   "source": [
    "training_data = len(airquality_data)\n",
    "print(training_data)\n",
    "\n",
    "training_data_length = math.floor(len(airquality_data)* 0.7)\n",
    "print(training_data_length)\n",
    "\n",
    "validation_data_length = math.floor(len(airquality_data)*0.1)\n",
    "print(validation_data_length)\n",
    "\n",
    "testing_data_length = math.floor(len(airquality_data)* 0.2)\n",
    "print(testing_data_length)\n",
    "\n",
    "print(str(training_data_length + validation_data_length + testing_data_length ))"
   ]
  },
  {
   "cell_type": "code",
   "execution_count": null,
   "metadata": {},
   "outputs": [],
   "source": []
  },
  {
   "cell_type": "code",
   "execution_count": 336,
   "metadata": {
    "colab": {
     "base_uri": "https://localhost:8080/",
     "height": 87
    },
    "colab_type": "code",
    "id": "yiqwv889Sb4E",
    "outputId": "38629036-60c7-4862-d0f2-b69b4cf3b32f"
   },
   "outputs": [
    {
     "name": "stdout",
     "output_type": "stream",
     "text": [
      "(8739, 18)\n",
      "(8739, 1)\n",
      "(1248, 18)\n",
      "(1248, 1)\n",
      "(2497, 18)\n",
      "(2497, 1)\n"
     ]
    }
   ],
   "source": [
    "training_features = features.iloc[0:training_data_length,:]\n",
    "print(training_features.shape)\n",
    "training_targets =  targets.iloc[0:training_data_length,:]\n",
    "print(training_targets.shape)\n",
    "\n",
    "validation_features = features.iloc[training_data_length:training_data_length+validation_data_length,:]\n",
    "print(validation_features.shape)\n",
    "validation_targets =  targets.iloc[training_data_length:training_data_length+validation_data_length,:]\n",
    "print(validation_targets.shape)\n",
    "\n",
    "testing_features = features.iloc[training_data_length+validation_data_length: training_data_length+validation_data_length+testing_data_length,:]\n",
    "print(testing_features.shape)\n",
    "\n",
    "testing_targets = targets.iloc[training_data_length+validation_data_length: training_data_length+validation_data_length+testing_data_length,:]\n",
    "print(testing_targets.shape)"
   ]
  },
  {
   "cell_type": "markdown",
   "metadata": {
    "colab_type": "text",
    "id": "qchOsoA0Sb3A"
   },
   "source": [
    "### Preprocess the data to a format a neural network can ingest.\n",
    "- Normalising/Scaling data using minmax scaler in sklearn preprocessing for each dataset separately\n",
    "- Generationg sequential data from the recent past (3hrs), along with a target pm2.5 value in the future (next day)  for the\n",
    "  * training dataset\n",
    "  * validation dataset\n",
    "  * test dataset"
   ]
  },
  {
   "cell_type": "markdown",
   "metadata": {},
   "source": [
    "### given data that goes back 3hrs, can we predict the next hour."
   ]
  },
  {
   "cell_type": "markdown",
   "metadata": {},
   "source": [
    "### training dataset"
   ]
  },
  {
   "cell_type": "code",
   "execution_count": 337,
   "metadata": {
    "colab": {},
    "colab_type": "code",
    "id": "eJF-bFjySb4H"
   },
   "outputs": [
    {
     "name": "stderr",
     "output_type": "stream",
     "text": [
      "C:\\Users\\DELL\\Anaconda3\\envs\\airquality_prediction\\lib\\site-packages\\sklearn\\preprocessing\\data.py:323: DataConversionWarning: Data with input dtype int64, float64 were all converted to float64 by MinMaxScaler.\n",
      "  return self.partial_fit(X, y)\n"
     ]
    },
    {
     "name": "stdout",
     "output_type": "stream",
     "text": [
      "[[4.19631862e-16 4.57734872e-02 7.82608696e-01 ... 0.00000000e+00\n",
      "  0.00000000e+00 0.00000000e+00]\n",
      " [6.00126873e-16 6.70120085e-02 8.26086957e-01 ... 1.00000000e+00\n",
      "  0.00000000e+00 0.00000000e+00]\n",
      " [7.26549540e-16 7.99623263e-02 8.69565217e-01 ... 0.00000000e+00\n",
      "  0.00000000e+00 0.00000000e+00]\n",
      " ...\n",
      " [6.00126873e-16 6.70120085e-02 8.26086957e-01 ... 0.00000000e+00\n",
      "  0.00000000e+00 1.00000000e+00]\n",
      " [7.26549540e-16 7.99623263e-02 8.69565217e-01 ... 0.00000000e+00\n",
      "  0.00000000e+00 1.00000000e+00]\n",
      " [7.67674985e-16 8.92865552e-02 9.13043478e-01 ... 0.00000000e+00\n",
      "  0.00000000e+00 0.00000000e+00]]\n",
      "(8739, 18)\n",
      "trainging target shape:  (8739, 1)\n",
      "(8738,)\n",
      "(8738, 1, 18)\n",
      "1\n"
     ]
    }
   ],
   "source": [
    "scaler = MinMaxScaler()\n",
    "scaled_training_features = scaler.fit_transform(training_features)\n",
    "print(scaled_training_features)\n",
    "print(scaled_training_features.shape)\n",
    "\n",
    "training_targets =  np.array(training_targets)\n",
    "training_targets = training_targets.reshape(-1,1)\n",
    "print('trainging target shape: ', training_targets.shape)\n",
    "\n",
    "##given data that goes back 3hrs, can we predict the next hour.\n",
    "forecasters = [] \n",
    "pollution_real = [] \n",
    "for i in range(1, scaled_training_features.shape[0]):\n",
    "    forecasters.append(scaled_training_features[i-1:i, 0:18])\n",
    "    pollution_real.append(training_targets[i, 0])\n",
    "    \n",
    "forecasters, pollution_real = np.array(forecasters), np.array(pollution_real)\n",
    "\n",
    "print(pollution_real.shape)\n",
    "print(forecasters.shape)\n",
    "print(forecasters.shape[1])"
   ]
  },
  {
   "cell_type": "markdown",
   "metadata": {},
   "source": [
    "### validation dataset"
   ]
  },
  {
   "cell_type": "code",
   "execution_count": 338,
   "metadata": {},
   "outputs": [
    {
     "name": "stdout",
     "output_type": "stream",
     "text": [
      "[[6.97609411e-16 2.06928949e-01 9.56521739e-01 ... 0.00000000e+00\n",
      "  0.00000000e+00 1.00000000e+00]\n",
      " [7.24264793e-16 2.08807986e-01 1.00000000e+00 ... 0.00000000e+00\n",
      "  0.00000000e+00 1.00000000e+00]\n",
      " [6.75523524e-16 1.85554903e-01 0.00000000e+00 ... 0.00000000e+00\n",
      "  0.00000000e+00 1.00000000e+00]\n",
      " ...\n",
      " [2.39898433e-16 4.15736935e-02 8.26086957e-01 ... 0.00000000e+00\n",
      "  0.00000000e+00 0.00000000e+00]\n",
      " [2.88639702e-16 5.00293600e-02 8.69565217e-01 ... 0.00000000e+00\n",
      "  0.00000000e+00 1.00000000e+00]\n",
      " [3.09202425e-16 5.33176747e-02 9.13043478e-01 ... 0.00000000e+00\n",
      "  0.00000000e+00 1.00000000e+00]]\n",
      "(1248, 1)\n",
      "(1247, 1, 18)\n",
      "(1247,)\n"
     ]
    },
    {
     "name": "stderr",
     "output_type": "stream",
     "text": [
      "C:\\Users\\DELL\\Anaconda3\\envs\\airquality_prediction\\lib\\site-packages\\sklearn\\preprocessing\\data.py:323: DataConversionWarning: Data with input dtype int64, float64 were all converted to float64 by MinMaxScaler.\n",
      "  return self.partial_fit(X, y)\n"
     ]
    }
   ],
   "source": [
    "scaled_validation_features = scaler.fit_transform(validation_features)\n",
    "print(scaled_validation_features)\n",
    "forecasters_validation = [] \n",
    "pollution_real_validation = [] \n",
    "\n",
    "validation_targets =  np.array(validation_targets)\n",
    "validation_targets= validation_targets.reshape(-1,1)\n",
    "print(validation_targets.shape)\n",
    "\n",
    "for i in range(1, scaled_validation_features.shape[0]):\n",
    "    forecasters_validation.append(scaled_validation_features[i-1:i, 0:18])\n",
    "    pollution_real_validation.append(validation_targets[i, 0])\n",
    "    \n",
    "forecasters_validation, pollution_real_validation = np.array(forecasters_validation), np.array(pollution_real_validation)\n",
    "#baseline_prediction_validation_values, baseline_actual_validation_values = np.array(baseline_prediction_validation_values),\n",
    "#np.array(baseline_actual_validation_values)\n",
    "print(forecasters_validation.shape)\n",
    "print(pollution_real_validation.shape)"
   ]
  },
  {
   "cell_type": "markdown",
   "metadata": {},
   "source": [
    "### Testing dataset"
   ]
  },
  {
   "cell_type": "code",
   "execution_count": 339,
   "metadata": {
    "scrolled": true
   },
   "outputs": [
    {
     "name": "stdout",
     "output_type": "stream",
     "text": [
      "[[3.38904135e-16 2.16114326e-02 9.56521739e-01 ... 0.00000000e+00\n",
      "  0.00000000e+00 1.00000000e+00]\n",
      " [3.75460087e-16 2.40224443e-02 1.00000000e+00 ... 0.00000000e+00\n",
      "  0.00000000e+00 1.00000000e+00]\n",
      " [4.31055597e-16 2.74416974e-02 0.00000000e+00 ... 0.00000000e+00\n",
      "  0.00000000e+00 1.00000000e+00]\n",
      " ...\n",
      " [3.43473629e-16 2.52498685e-02 8.69565217e-01 ... 0.00000000e+00\n",
      "  0.00000000e+00 0.00000000e+00]\n",
      " [3.76221669e-16 2.72663510e-02 9.13043478e-01 ... 0.00000000e+00\n",
      "  0.00000000e+00 0.00000000e+00]\n",
      " [4.59995725e-16 3.24829037e-02 9.56521739e-01 ... 0.00000000e+00\n",
      "  0.00000000e+00 1.00000000e+00]]\n",
      "Testing Y values shape:  (2497,)\n",
      "Testing targets shape:  (2497, 1)\n",
      "(2496, 1, 18)\n",
      "(2496,)\n"
     ]
    },
    {
     "name": "stderr",
     "output_type": "stream",
     "text": [
      "C:\\Users\\DELL\\Anaconda3\\envs\\airquality_prediction\\lib\\site-packages\\sklearn\\preprocessing\\data.py:323: DataConversionWarning: Data with input dtype int64, float64 were all converted to float64 by MinMaxScaler.\n",
      "  return self.partial_fit(X, y)\n"
     ]
    }
   ],
   "source": [
    "scaled_testing_features = scaler.fit_transform(testing_features)\n",
    "print(scaled_testing_features)\n",
    "forecasters_test = [] \n",
    "pollution_real_test = [] \n",
    "\n",
    "testing_targets =  np.array(testing_targets)\n",
    "testing_y_values = testing_targets\n",
    "testing_targets = testing_targets.reshape(-1,1)\n",
    "print('Testing Y values shape: ',testing_y_values.ravel().shape)\n",
    "print('Testing targets shape: ',testing_targets.shape)\n",
    "\n",
    "for i in range(1, scaled_testing_features.shape[0]):\n",
    "    forecasters_test.append(scaled_testing_features[i-1:i, 0:18])\n",
    "    pollution_real_test.append(testing_targets[i, 0])\n",
    "    \n",
    "forecasters_test, pollution_real_test = np.array(forecasters_test), np.array(pollution_real_test)\n",
    "\n",
    "print(forecasters_test.shape)\n",
    "print(pollution_real_test.shape)"
   ]
  },
  {
   "cell_type": "markdown",
   "metadata": {},
   "source": [
    "### Building Baseline Model\n",
    "- for Baseline, we predict the average pm2.5 and check the RMSE on validation data. Any model, should be able to beat this simple benchmark\n",
    "- The airquality(pm25) timeseries are continuous (the pm25 conncentration in the next hour are likely to be close to the pm25 concentration at the current hour).\n",
    "- Thus a common sense approach would be to always predict that the pm25 concentrations right now  will be equal to the pm25 concentration 1hr hour ago. Let's evaluate this approach, using the Mean Absolute Error metric (MAE). Mean Absolute Error is simply equal to: np.mean(np.abs(preds - targets))"
   ]
  },
  {
   "cell_type": "code",
   "execution_count": 340,
   "metadata": {},
   "outputs": [
    {
     "name": "stdout",
     "output_type": "stream",
     "text": [
      "1.5183199356913184\n"
     ]
    }
   ],
   "source": [
    "def evaluate_naive_method():\n",
    "    baseline_prediction_validation_values = []\n",
    "    baseline_actual_validation_values = []\n",
    "    \n",
    "    #3 is the number of timesteps back.\n",
    "    for i in range(3, scaled_validation_features.shape[0]):\n",
    "        if i != 3:\n",
    "            baseline_prediction_validation_values.append(validation_targets[i-1, 0])\n",
    "            baseline_actual_validation_values.append(validation_targets[i, 0])\n",
    "\n",
    "    baseline_prediction_validation_values = np.array(baseline_prediction_validation_values)\n",
    "    baseline_actual_validation_values = np.array(baseline_actual_validation_values)\n",
    "\n",
    "    baseline_maes = []\n",
    "    baseline_rmses = []\n",
    "    \n",
    "    for i in range(0,len(baseline_prediction_validation_values)):\n",
    "        mae = np.mean(np.abs(baseline_prediction_validation_values[i] - baseline_actual_validation_values[i]))\n",
    "        baseline_maes.append(mae)\n",
    "    \n",
    "    print(np.mean(baseline_maes))\n",
    "    \n",
    "evaluate_naive_method()\n",
    "\n",
    "def calculate_rmse(actual_values,predictions):\n",
    "    mse= mean_squared_error(actual_values, predictions)\n",
    "    rmse = np.sqrt(mse)\n",
    "    return rmse\n",
    "\n",
    "#def rmse(ytrue, ypredicted):\n",
    "    #return np.sqrt(mean_squared_error(ytrue, ypredicted))\n",
    "\n",
    "#calculate_rmse(baseline_actual_validation_values, baseline_prediction_validation_values)"
   ]
  },
  {
   "cell_type": "code",
   "execution_count": 341,
   "metadata": {},
   "outputs": [
    {
     "data": {
      "text/plain": [
       "(1248, 18)"
      ]
     },
     "execution_count": 341,
     "metadata": {},
     "output_type": "execute_result"
    }
   ],
   "source": [
    "validation_features.shape"
   ]
  },
  {
   "cell_type": "raw",
   "metadata": {},
   "source": [
    "print(baseline_actual_validation_values[0:10])\n",
    "print(baseline_prediction_validation_values[0:10])"
   ]
  },
  {
   "cell_type": "raw",
   "metadata": {},
   "source": [
    "print(baseline_prediction_validation_values.shape)\n",
    "#scaled_validation_features.shape[0]\n",
    "print(baseline_actual_validation_values.shape)"
   ]
  },
  {
   "cell_type": "markdown",
   "metadata": {},
   "source": [
    "### SUPPORT VECTOR REGRESSION APPROACH\n",
    "- Training and evaluation on support vector regression approach"
   ]
  },
  {
   "cell_type": "code",
   "execution_count": 342,
   "metadata": {},
   "outputs": [
    {
     "name": "stderr",
     "output_type": "stream",
     "text": [
      "C:\\Users\\DELL\\Anaconda3\\envs\\airquality_prediction\\lib\\site-packages\\sklearn\\svm\\base.py:196: FutureWarning: The default value of gamma will change from 'auto' to 'scale' in version 0.22 to account better for unscaled features. Set gamma explicitly to 'auto' or 'scale' to avoid this warning.\n",
      "  \"avoid this warning.\", FutureWarning)\n"
     ]
    },
    {
     "name": "stdout",
     "output_type": "stream",
     "text": [
      "[4.51895018 4.86258328 7.62887258 ... 3.4108809  3.90637379 4.69138584]\n"
     ]
    }
   ],
   "source": [
    "from sklearn.svm import SVR\n",
    "svr = SVR(kernel='rbf', degree=3, C=100, epsilon=0.1)\n",
    "# fit the model by fitting the SVM regressor to the training data\n",
    "svr.fit(scaled_training_features, training_targets.ravel())\n",
    "svr_predictions = svr.predict(scaled_testing_features)\n",
    "print(svr_predictions)"
   ]
  },
  {
   "cell_type": "code",
   "execution_count": 343,
   "metadata": {},
   "outputs": [
    {
     "name": "stdout",
     "output_type": "stream",
     "text": [
      "SVR MAE:  3.34\n",
      "SVR RMSE:  5.92\n"
     ]
    }
   ],
   "source": [
    "svr_mae = mean_absolute_error(testing_targets, svr_predictions)\n",
    "print('SVR MAE: ', svr_mae.round(2))\n",
    "svr_rmse = calculate_rmse(testing_targets, svr_predictions)\n",
    "print('SVR RMSE: ', svr_rmse.round(2))\n",
    "svr_prediction_vs_actual_dataframe = pd.DataFrame({'Actual PM2.5': testing_targets.ravel(), 'Predicted PM2.5':svr_predictions}) \n",
    "svr_prediction_vs_actual_dataframe\n",
    "\n",
    "## save predictions by svr\n",
    "svr_prediction_vs_actual_dataframe.to_csv(os.path.join(filepath , 'svr_predictions.csv'))"
   ]
  },
  {
   "cell_type": "markdown",
   "metadata": {},
   "source": [
    "### BASIC LSTM MODOEL\n",
    "- Training and evaluating on basic lstm model with one layer"
   ]
  },
  {
   "cell_type": "code",
   "execution_count": 344,
   "metadata": {},
   "outputs": [
    {
     "name": "stdout",
     "output_type": "stream",
     "text": [
      "Train on 8738 samples, validate on 1247 samples\n",
      "Epoch 1/50\n",
      "8738/8738 [==============================] - 14s 2ms/step - loss: 75.0721 - mean_absolute_error: 6.5037 - rmse: 7.9936 - val_loss: 38.7651 - val_mean_absolute_error: 4.4789 - val_rmse: 5.3173\n",
      "Epoch 2/50\n",
      "8738/8738 [==============================] - 2s 273us/step - loss: 32.9655 - mean_absolute_error: 3.3705 - rmse: 5.0984 - val_loss: 35.6771 - val_mean_absolute_error: 4.1762 - val_rmse: 4.9583\n",
      "Epoch 3/50\n",
      "8738/8738 [==============================] - 2s 269us/step - loss: 30.2997 - mean_absolute_error: 2.9785 - rmse: 4.8389 - val_loss: 33.1516 - val_mean_absolute_error: 3.9438 - val_rmse: 4.7140\n",
      "Epoch 4/50\n",
      "8738/8738 [==============================] - 2s 226us/step - loss: 28.3250 - mean_absolute_error: 2.6915 - rmse: 4.5936 - val_loss: 31.5848 - val_mean_absolute_error: 3.8757 - val_rmse: 4.6045\n",
      "Epoch 5/50\n",
      "8738/8738 [==============================] - 2s 256us/step - loss: 26.5873 - mean_absolute_error: 2.4748 - rmse: 4.3625 - val_loss: 29.8593 - val_mean_absolute_error: 3.8137 - val_rmse: 4.5262\n",
      "Epoch 6/50\n",
      "8738/8738 [==============================] - 2s 225us/step - loss: 25.3537 - mean_absolute_error: 2.3750 - rmse: 4.2546 - val_loss: 27.5856 - val_mean_absolute_error: 3.7245 - val_rmse: 4.4138\n",
      "Epoch 7/50\n",
      "8738/8738 [==============================] - 2s 245us/step - loss: 24.3192 - mean_absolute_error: 2.3200 - rmse: 4.1398 - val_loss: 25.6467 - val_mean_absolute_error: 3.6062 - val_rmse: 4.2707\n",
      "Epoch 8/50\n",
      "8738/8738 [==============================] - 2s 219us/step - loss: 23.3132 - mean_absolute_error: 2.2734 - rmse: 4.0566 - val_loss: 22.7193 - val_mean_absolute_error: 3.3781 - val_rmse: 4.0149\n",
      "Epoch 9/50\n",
      "8738/8738 [==============================] - 2s 219us/step - loss: 22.3171 - mean_absolute_error: 2.2184 - rmse: 3.9512 - val_loss: 20.1780 - val_mean_absolute_error: 3.1490 - val_rmse: 3.7679\n",
      "Epoch 10/50\n",
      "8738/8738 [==============================] - 2s 219us/step - loss: 21.3386 - mean_absolute_error: 2.1537 - rmse: 3.8195 - val_loss: 18.2859 - val_mean_absolute_error: 2.9814 - val_rmse: 3.5752\n",
      "Epoch 11/50\n",
      "8738/8738 [==============================] - 2s 215us/step - loss: 20.5070 - mean_absolute_error: 2.0864 - rmse: 3.7491 - val_loss: 18.0965 - val_mean_absolute_error: 3.0885 - val_rmse: 3.6778\n",
      "Epoch 12/50\n",
      "8738/8738 [==============================] - 2s 272us/step - loss: 19.8042 - mean_absolute_error: 2.0162 - rmse: 3.6863 - val_loss: 19.3538 - val_mean_absolute_error: 3.3718 - val_rmse: 3.9840\n",
      "Epoch 13/50\n",
      "8738/8738 [==============================] - 3s 356us/step - loss: 19.2909 - mean_absolute_error: 1.9568 - rmse: 3.6369 - val_loss: 20.7093 - val_mean_absolute_error: 3.6157 - val_rmse: 4.2394\n",
      "Epoch 14/50\n",
      "8738/8738 [==============================] - 2s 250us/step - loss: 19.0366 - mean_absolute_error: 1.9253 - rmse: 3.5748 - val_loss: 24.4701 - val_mean_absolute_error: 4.0989 - val_rmse: 4.7174\n",
      "Epoch 15/50\n",
      "8738/8738 [==============================] - 2s 243us/step - loss: 18.7531 - mean_absolute_error: 1.8919 - rmse: 3.5340 - val_loss: 23.9095 - val_mean_absolute_error: 4.0238 - val_rmse: 4.6485\n",
      "Epoch 16/50\n",
      "8738/8738 [==============================] - 2s 246us/step - loss: 18.6023 - mean_absolute_error: 1.8664 - rmse: 3.5270 - val_loss: 27.3054 - val_mean_absolute_error: 4.4134 - val_rmse: 5.0263\n"
     ]
    }
   ],
   "source": [
    "from tensorflow.keras.models import Sequential, load_model\n",
    "from tensorflow.keras.layers import Dense, LSTM\n",
    "from tensorflow.keras.optimizers import RMSprop\n",
    "from tensorflow.keras import backend\n",
    "from tensorflow.keras.utils import plot_model\n",
    "from tensorflow.keras.callbacks import EarlyStopping, ModelCheckpoint\n",
    "#from keras.models import load_model\n",
    "\n",
    "def rmse(y_true, y_pred):\n",
    "    return backend.sqrt(backend.mean(backend.square(y_pred - y_true)))\n",
    "\n",
    "def root_mean_squared_error(y_true, y_pred):\n",
    "        return backend.sqrt(backend.mean(backend.square(y_pred - y_true)))\n",
    "\n",
    "model = Sequential()\n",
    "model.add(LSTM(64, input_shape = (forecasters.shape[1],18)))\n",
    "model.add(Dense(1))\n",
    "\n",
    "callbacks_list = [\n",
    "    EarlyStopping(  # interrupts training when improvement stops \n",
    "        monitor='val_loss', \n",
    "        patience=5, \n",
    "        mode='min'), \n",
    "    \n",
    "   ModelCheckpoint( #saves the current weights after every epock\n",
    "        filepath=os.path.join(filepath, 'basic_lstm_model.h5'),\n",
    "        monitor='val_loss',save_best_only=True) # these 2 arguments mean , you won't overwrite the model file unless val_loss has improved which  allows you to keep the best model seen during training.\n",
    "]\n",
    "\n",
    "model.compile(optimizer='adam', loss='mse', metrics = ['mean_absolute_error', rmse])\n",
    "basic_model_history = model.fit(forecasters, pollution_real, epochs=50,\n",
    "                                validation_data=(forecasters_validation, pollution_real_validation),\n",
    "                               callbacks=callbacks_list)"
   ]
  },
  {
   "cell_type": "code",
   "execution_count": 345,
   "metadata": {},
   "outputs": [
    {
     "name": "stdout",
     "output_type": "stream",
     "text": [
      "_________________________________________________________________\n",
      "Layer (type)                 Output Shape              Param #   \n",
      "=================================================================\n",
      "lstm_36 (LSTM)               (None, 64)                21248     \n",
      "_________________________________________________________________\n",
      "dense_18 (Dense)             (None, 1)                 65        \n",
      "=================================================================\n",
      "Total params: 21,313\n",
      "Trainable params: 21,313\n",
      "Non-trainable params: 0\n",
      "_________________________________________________________________\n"
     ]
    }
   ],
   "source": [
    "model.summary()"
   ]
  },
  {
   "cell_type": "code",
   "execution_count": 369,
   "metadata": {},
   "outputs": [],
   "source": [
    "basic_model_architecture_path = os.path.join(filepath, 'basic_model_plot.png')\n",
    "plot_model(model, to_file=basic_model_architecture_path, show_shapes=False, show_layer_names=False)"
   ]
  },
  {
   "cell_type": "code",
   "execution_count": 347,
   "metadata": {
    "scrolled": true
   },
   "outputs": [
    {
     "data": {
      "image/png": "[encoded data removed]",
      "text/plain": [
       "<Figure size 864x432 with 1 Axes>"
      ]
     },
     "metadata": {
      "needs_background": "light"
     },
     "output_type": "display_data"
    }
   ],
   "source": [
    "loss = basic_model_history.history['loss']\n",
    "val_loss = basic_model_history.history['val_loss']\n",
    "\n",
    "epochs = range(len(loss))\n",
    "\n",
    "fig = plt.figure(figsize=(12,6))\n",
    "ax = fig.add_subplot(111)\n",
    "\n",
    "plt.plot(epochs, loss, 'bo', label='Training loss')\n",
    "plt.plot(epochs, val_loss, 'r', label='Validation loss')\n",
    "plt.title('Training and validation loss')\n",
    "plt.xlabel('Epochs')\n",
    "plt.ylabel('Loss')\n",
    "plt.legend()\n",
    "plt.show()\n",
    "\n",
    "fig.savefig(os.path.join(filepath, 'basic_model_history_training_validation_loss.png'))"
   ]
  },
  {
   "cell_type": "code",
   "execution_count": 348,
   "metadata": {},
   "outputs": [
    {
     "name": "stdout",
     "output_type": "stream",
     "text": [
      "10\n"
     ]
    }
   ],
   "source": [
    "print(np.argmin(val_loss))\n",
    "#val_loss[70]"
   ]
  },
  {
   "cell_type": "code",
   "execution_count": null,
   "metadata": {},
   "outputs": [],
   "source": [
    "hist_rmse = basic_model_history.history['rmse']\n",
    "val_rmse = basic_model_history.history['val_rmse']\n",
    "epochs = range(len(hist_rmse))\n",
    "\n",
    "fig_rmse = plt.figure(figsize=(12,6))\n",
    "ax_rmse= fig_rmse.add_subplot(111)\n",
    "\n",
    "plt.plot(epochs, hist_rmse, 'bo', label='Training Root Mean Square Error')\n",
    "plt.plot(epochs, val_rmse, 'r', label='Validation Root Mean Square Error')\n",
    "plt.title('Training and Validation Root Mean Square Error')\n",
    "plt.xlabel('Epochs')\n",
    "plt.ylabel('RMSE')\n",
    "plt.legend()\n",
    "\n",
    "plt.show()\n",
    "fig_rmse.savefig(os.path.join(filepath, 'basic_model_history_training_validation_RMSE.png'))"
   ]
  },
  {
   "cell_type": "code",
   "execution_count": 350,
   "metadata": {},
   "outputs": [
    {
     "data": {
      "image/png": "[encoded data removed]",
      "text/plain": [
       "<Figure size 864x432 with 1 Axes>"
      ]
     },
     "metadata": {
      "needs_background": "light"
     },
     "output_type": "display_data"
    }
   ],
   "source": [
    "mae = basic_model_history.history['mean_absolute_error']\n",
    "val_mae = basic_model_history.history['val_mean_absolute_error']\n",
    "epochs = range(len(mae))\n",
    "\n",
    "fig_mae = plt.figure(figsize=(12,6))\n",
    "ax_mae = fig_mae.add_subplot(111)\n",
    "\n",
    "plt.plot(epochs, mae, 'bo', label='Training Mean Absolute Error')\n",
    "plt.plot(epochs, val_mae, 'r', label='Validation Mean Absolute Error')\n",
    "plt.title('Training and Validation Mean Absolute Error')\n",
    "plt.xlabel('Epochs')\n",
    "plt.ylabel('MAE')\n",
    "plt.legend()\n",
    "\n",
    "plt.show()\n",
    "fig_mae.savefig(os.path.join(filepath, 'basic_model_history_training_validation_mae.png'))"
   ]
  },
  {
   "cell_type": "code",
   "execution_count": 351,
   "metadata": {},
   "outputs": [
    {
     "name": "stdout",
     "output_type": "stream",
     "text": [
      "[20.03999092809994, 2.0317792009505125, 3.1754458829313754]\n",
      "[86.7225147607999, 4.598553794316756, 6.6883582182419605]\n"
     ]
    }
   ],
   "source": [
    "saved_model = load_model(os.path.join(filepath,'basic_lstm_model.h5'),  custom_objects={'rmse': rmse})\n",
    "\n",
    "basic_lstm_model_train_evaluation = saved_model.evaluate(forecasters, pollution_real, verbose=0)\n",
    "basic_lstm_model_test_evaluation = saved_model.evaluate(forecasters_test, pollution_real_test, verbose=0)\n",
    "print(basic_lstm_model_train_evaluation)\n",
    "print(basic_lstm_model_test_evaluation)"
   ]
  },
  {
   "cell_type": "code",
   "execution_count": 352,
   "metadata": {},
   "outputs": [
    {
     "name": "stdout",
     "output_type": "stream",
     "text": [
      "2496/2496 [==============================] - 0s 55us/step\n",
      "[86.7225147607999, 4.598553794316756, 6.6883582182419605]\n",
      "['loss', 'mean_absolute_error', 'rmse']\n"
     ]
    }
   ],
   "source": [
    "basic_lstm_model_predictions = saved_model.predict(forecasters_test)\n",
    "basic_lstm_model_evaluation =  saved_model.evaluate(forecasters_test, pollution_real_test)\n",
    "print(basic_lstm_model_evaluation)\n",
    "print(saved_model.metrics_names)"
   ]
  },
  {
   "cell_type": "code",
   "execution_count": 353,
   "metadata": {},
   "outputs": [
    {
     "name": "stdout",
     "output_type": "stream",
     "text": [
      "(2496, 1)\n",
      "(2496,)\n"
     ]
    }
   ],
   "source": [
    "print(basic_lstm_model_predictions.shape)\n",
    "print(basic_lstm_model_predictions.ravel().shape)"
   ]
  },
  {
   "cell_type": "code",
   "execution_count": 354,
   "metadata": {},
   "outputs": [],
   "source": [
    "basic_lstm_model_prediction_vs_actual_dataframe = pd.DataFrame({'Actual PM2.5': pollution_real_test, 'Predicted PM2.5':basic_lstm_model_predictions.ravel()}) \n",
    "basic_lstm_model_prediction_vs_actual_dataframe\n",
    "## save predictions by basic lstm model\n",
    "basic_lstm_model_prediction_vs_actual_dataframe.to_csv(os.path.join(filepath , 'basic_lstm_model_predictions.csv'))"
   ]
  },
  {
   "cell_type": "markdown",
   "metadata": {
    "colab_type": "text",
    "id": "WBitZDTLSb4P"
   },
   "source": [
    "### Creation Neural Network Architecture,Training & Evaluation  On Recurrent LSTM and DROPOUT layers\n",
    "The last parameter with the value 18 represents, the number of features"
   ]
  },
  {
   "cell_type": "code",
   "execution_count": 355,
   "metadata": {
    "colab": {
     "base_uri": "https://localhost:8080/",
     "height": 7503
    },
    "colab_type": "code",
    "id": "IenaENnPSb4Q",
    "outputId": "30a425bc-f88c-49d5-98a6-2fcf2508ff89",
    "scrolled": true
   },
   "outputs": [
    {
     "name": "stdout",
     "output_type": "stream",
     "text": [
      "Train on 8738 samples, validate on 1247 samples\n",
      "Epoch 1/100\n",
      "8738/8738 [==============================] - 22s 3ms/step - loss: 52.9050 - mean_absolute_error: 4.6151 - rmse: 6.2903 - val_loss: 40.0913 - val_mean_absolute_error: 4.5318 - val_rmse: 5.3444\n",
      "Epoch 2/100\n",
      "8738/8738 [==============================] - 6s 710us/step - loss: 32.6183 - mean_absolute_error: 3.2099 - rmse: 5.0281 - val_loss: 40.2863 - val_mean_absolute_error: 4.5474 - val_rmse: 5.3645\n",
      "Epoch 3/100\n",
      "8738/8738 [==============================] - 6s 686us/step - loss: 32.4523 - mean_absolute_error: 3.1983 - rmse: 5.0188 - val_loss: 39.8105 - val_mean_absolute_error: 4.5082 - val_rmse: 5.3151 - loss: 31.9633 - mean_absolute_error: 3.1885 - rm\n",
      "Epoch 4/100\n",
      "8738/8738 [==============================] - 6s 686us/step - loss: 32.4095 - mean_absolute_error: 3.1866 - rmse: 5.0383 - val_loss: 39.9344 - val_mean_absolute_error: 4.5187 - val_rmse: 5.3280\n",
      "Epoch 5/100\n",
      "8738/8738 [==============================] - 6s 686us/step - loss: 32.6109 - mean_absolute_error: 3.2051 - rmse: 5.0404 - val_loss: 40.2323 - val_mean_absolute_error: 4.5429 - val_rmse: 5.3588\n",
      "Epoch 6/100\n",
      "8738/8738 [==============================] - 6s 687us/step - loss: 32.5129 - mean_absolute_error: 3.1946 - rmse: 5.0195 - val_loss: 39.9832 - val_mean_absolute_error: 4.5228 - val_rmse: 5.3330\n",
      "Epoch 7/100\n",
      "8738/8738 [==============================] - 6s 727us/step - loss: 32.4839 - mean_absolute_error: 3.1987 - rmse: 5.0468 - val_loss: 39.9524 - val_mean_absolute_error: 4.5202 - val_rmse: 5.3298\n",
      "Epoch 8/100\n",
      "8738/8738 [==============================] - 6s 695us/step - loss: 32.6134 - mean_absolute_error: 3.2043 - rmse: 5.0287 - val_loss: 40.6539 - val_mean_absolute_error: 4.5796 - val_rmse: 5.4024\n"
     ]
    }
   ],
   "source": [
    "from tensorflow.keras.models import Sequential\n",
    "from tensorflow.keras.layers import Dense, LSTM, Dropout\n",
    "from tensorflow.keras.utils import plot_model\n",
    "\n",
    "deep_lstm_callbacks_list = [\n",
    "    EarlyStopping(  # interrupts training when improvement stops \n",
    "        monitor='val_loss', \n",
    "        patience=5, \n",
    "        mode='min'), \n",
    "    \n",
    "   ModelCheckpoint( #saves the current weights after every epock\n",
    "        filepath=os.path.join(filepath, 'deep_lstm_best_model.h5'),\n",
    "        monitor='val_loss',save_best_only=True) # these 2 arguments mean , you won't overwrite the model file unless val_loss has improved which  allows you to keep the best model seen during training.\n",
    "]\n",
    "\n",
    "regressor_model = Sequential()\n",
    "regressor_model.add(LSTM(units=100, return_sequences = True, input_shape = (forecasters.shape[1],18)))\n",
    "regressor_model.add(Dropout(0.3))\n",
    "\n",
    "regressor_model.add(LSTM(units = 50, return_sequences = True))\n",
    "regressor_model.add(Dropout(0.2))\n",
    "\n",
    "regressor_model.add(LSTM(units = 50, return_sequences = True))\n",
    "regressor_model.add(Dropout(0.2))\n",
    "\n",
    "regressor_model.add(LSTM(units = 50))\n",
    "regressor_model.add(Dropout(0.2))\n",
    "\n",
    "regressor_model.add(Dense(units = 1))\n",
    "\n",
    "regressor_model.compile(optimizer = 'adam', loss = 'mean_squared_error',metrics = ['mean_absolute_error',rmse] )\n",
    "\n",
    "##Training the model\n",
    "history = regressor_model.fit(forecasters, pollution_real,epochs = 100,\n",
    "                              validation_data=(forecasters_validation,pollution_real_validation),batch_size = 32 , \n",
    "                              callbacks=deep_lstm_callbacks_list)"
   ]
  },
  {
   "cell_type": "code",
   "execution_count": 370,
   "metadata": {
    "colab": {},
    "colab_type": "code",
    "id": "fN9EwdUFSb4R"
   },
   "outputs": [
    {
     "name": "stdout",
     "output_type": "stream",
     "text": [
      "_________________________________________________________________\n",
      "Layer (type)                 Output Shape              Param #   \n",
      "=================================================================\n",
      "lstm_37 (LSTM)               (None, 1, 100)            47600     \n",
      "_________________________________________________________________\n",
      "dropout_24 (Dropout)         (None, 1, 100)            0         \n",
      "_________________________________________________________________\n",
      "lstm_38 (LSTM)               (None, 1, 50)             30200     \n",
      "_________________________________________________________________\n",
      "dropout_25 (Dropout)         (None, 1, 50)             0         \n",
      "_________________________________________________________________\n",
      "lstm_39 (LSTM)               (None, 1, 50)             20200     \n",
      "_________________________________________________________________\n",
      "dropout_26 (Dropout)         (None, 1, 50)             0         \n",
      "_________________________________________________________________\n",
      "lstm_40 (LSTM)               (None, 50)                20200     \n",
      "_________________________________________________________________\n",
      "dropout_27 (Dropout)         (None, 50)                0         \n",
      "_________________________________________________________________\n",
      "dense_19 (Dense)             (None, 1)                 51        \n",
      "=================================================================\n",
      "Total params: 118,251\n",
      "Trainable params: 118,251\n",
      "Non-trainable params: 0\n",
      "_________________________________________________________________\n"
     ]
    }
   ],
   "source": [
    "#regressor_model.save('/content/drive/My Drive/Uni/Msc Comp Science/Year Two/Research/experiments/data/AirQuality/AirQo/airquality_prediction_bugolobi_04_20_2019.h5')\n",
    "\n",
    "regressor_model.save(os.path.join(filepath,'airquality_prediction_model.h5'))\n",
    "regressor_model.summary()\n",
    "regressor_model_architecture_path = os.path.join(filepath, 'deep_lstm_model_plot.png')\n",
    "plot_model(regressor_model, to_file=regressor_model_architecture_path, show_shapes=False, show_layer_names=False)"
   ]
  },
  {
   "cell_type": "code",
   "execution_count": 357,
   "metadata": {},
   "outputs": [
    {
     "data": {
      "image/png": "[encoded data removed]",
      "text/plain": [
       "<Figure size 864x432 with 1 Axes>"
      ]
     },
     "metadata": {
      "needs_background": "light"
     },
     "output_type": "display_data"
    }
   ],
   "source": [
    "loss = history.history['loss']\n",
    "val_loss = history.history['val_loss']\n",
    "\n",
    "epochs = range(len(loss))\n",
    "\n",
    "fig_deep_lstm_loss= plt.figure(figsize=(12,6))\n",
    "ax = fig_deep_lstm_loss.add_subplot(111)\n",
    "\n",
    "plt.plot(epochs, loss, 'bo', label='Training loss')\n",
    "plt.plot(epochs, val_loss, 'r', label='Validation loss')\n",
    "plt.title('Training and validation loss')\n",
    "plt.xlabel('Epochs')\n",
    "plt.ylabel('Loss')\n",
    "plt.legend()\n",
    "\n",
    "plt.show()\n",
    "\n",
    "fig_deep_lstm_loss.savefig(os.path.join(filepath, 'deep_lstm_model_history_training_validation_loss.png'))"
   ]
  },
  {
   "cell_type": "code",
   "execution_count": 358,
   "metadata": {},
   "outputs": [
    {
     "data": {
      "image/png": "[encoded data removed]",
      "text/plain": [
       "<Figure size 864x432 with 1 Axes>"
      ]
     },
     "metadata": {
      "needs_background": "light"
     },
     "output_type": "display_data"
    }
   ],
   "source": [
    "mae = history.history['mean_absolute_error']\n",
    "val_mae = history.history['val_mean_absolute_error']\n",
    "epochs = range(len(mae))\n",
    "\n",
    "fig_deep_lstm_mae = plt.figure(figsize=(12,6))\n",
    "ax_mae = fig_deep_lstm_mae.add_subplot(111)\n",
    "\n",
    "plt.plot(epochs, mae, 'bo', label='Training Mean Absolute Error')\n",
    "plt.plot(epochs, val_mae, 'r', label='Validation Mean Absolute Error')\n",
    "plt.title('Training and Validation Mean Absolute Error')\n",
    "plt.xlabel('Epochs')\n",
    "plt.ylabel('MAE')\n",
    "plt.legend()\n",
    "\n",
    "plt.show()\n",
    "fig_mae.savefig(os.path.join(filepath, 'deep_lst_mmodel_history_training_validation_mae.png'))"
   ]
  },
  {
   "cell_type": "code",
   "execution_count": null,
   "metadata": {},
   "outputs": [],
   "source": [
    "hist_rmse = history.history['rmse']\n",
    "val_rmse = history.history['val_rmse']\n",
    "epochs = range(len(hist_rmse))\n",
    "\n",
    "fig_rmse = plt.figure(figsize=(12,6))\n",
    "ax_rmse= fig_rmse.add_subplot(111)\n",
    "\n",
    "plt.plot(epochs, hist_rmse, 'bo', label='Training Root Mean Squared Error')\n",
    "plt.plot(epochs, val_rmse, 'r', label='Validation Root Mean Squared Error')\n",
    "plt.title('Training and Validation Root Mean Squared Error')\n",
    "plt.xlabel('Epochs')\n",
    "plt.ylabel('RMSE')\n",
    "plt.legend()\n",
    "\n",
    "plt.show()\n",
    "fig_rmse.savefig(os.path.join(filepath, 'basic_model_history_training_validation_RMSE.png'))"
   ]
  },
  {
   "cell_type": "markdown",
   "metadata": {
    "colab_type": "text",
    "id": "sO0awXl1Sb4T"
   },
   "source": [
    "### Making predictions (forecasts) using the deep recurrent lstm\n",
    "1. Convert test set in the same format accepted by model\n",
    "1. make the forecasts directly on the testing dataset"
   ]
  },
  {
   "cell_type": "markdown",
   "metadata": {},
   "source": [
    "### Make prediction and evaluation using the developed deep lstm model"
   ]
  },
  {
   "cell_type": "code",
   "execution_count": 359,
   "metadata": {},
   "outputs": [
    {
     "name": "stdout",
     "output_type": "stream",
     "text": [
      "[31.92528834673654, 3.140943225883297, 4.365459765523543]\n",
      "[115.25322790023608, 6.22182341111012, 8.352543451847174]\n"
     ]
    }
   ],
   "source": [
    "saved_best_deep_lstm_model = load_model(os.path.join(filepath,'deep_lstm_best_model.h5'),  custom_objects={'rmse': rmse})\n",
    "deep_lstm_model_train_evaluation = saved_best_deep_lstm_model.evaluate(forecasters, pollution_real, verbose=0)\n",
    "deep_lstm_model_test_evaluation = saved_best_deep_lstm_model.evaluate(forecasters_test, pollution_real_test, verbose=0)\n",
    "print(deep_lstm_model_train_evaluation)\n",
    "print(deep_lstm_model_test_evaluation)"
   ]
  },
  {
   "cell_type": "code",
   "execution_count": 360,
   "metadata": {
    "colab": {},
    "colab_type": "code",
    "id": "ts5RRZWoSb4Z"
   },
   "outputs": [
    {
     "name": "stdout",
     "output_type": "stream",
     "text": [
      "2496/2496 [==============================] - 0s 105us/step\n"
     ]
    }
   ],
   "source": [
    "deep_lstm_model_predictions = saved_best_deep_lstm_model.predict(forecasters_test)\n",
    "deep_lstm_model_evaluation =  saved_best_deep_lstm_model.evaluate(forecasters_test, pollution_real_test)\n",
    "\n",
    "deep_lstm_model_prediction_vs_actual_dataframe = pd.DataFrame({'Actual PM2.5': pollution_real_test, 'Predicted PM2.5':deep_lstm_model_predictions.ravel()}) \n",
    "deep_lstm_model_prediction_vs_actual_dataframe\n",
    "## save predictions by basic lstm model\n",
    "deep_lstm_model_prediction_vs_actual_dataframe.to_csv(os.path.join(filepath , 'deep_lstm_model_predictions.csv'))"
   ]
  },
  {
   "cell_type": "code",
   "execution_count": 361,
   "metadata": {
    "colab": {
     "base_uri": "https://localhost:8080/",
     "height": 34
    },
    "colab_type": "code",
    "id": "PhydX24QSb4e",
    "outputId": "7b932aca-3c48-4890-864e-62663465aed7"
   },
   "outputs": [
    {
     "name": "stdout",
     "output_type": "stream",
     "text": [
      "(2496, 1)\n"
     ]
    }
   ],
   "source": [
    "#print(forecasters_test.shape)\n",
    "print(deep_lstm_model_predictions.shape)"
   ]
  },
  {
   "cell_type": "code",
   "execution_count": 362,
   "metadata": {
    "colab": {
     "base_uri": "https://localhost:8080/",
     "height": 52
    },
    "colab_type": "code",
    "id": "pBCyXHz1Sb4h",
    "outputId": "08a4e2a2-9460-4bdf-8f2c-96e4b5efd36b"
   },
   "outputs": [
    {
     "name": "stdout",
     "output_type": "stream",
     "text": [
      "predictions 10.442364\n",
      "actual pm2.5 values 11.5590625\n"
     ]
    }
   ],
   "source": [
    "print('predictions', deep_lstm_model_predictions.mean())\n",
    "print('actual pm2.5 values', pollution_real_test.mean())"
   ]
  },
  {
   "cell_type": "markdown",
   "metadata": {
    "colab_type": "text",
    "id": "EQ7BkVaMSb4j"
   },
   "source": [
    "### Verification of the average in the results of the forecasts and in the actual results"
   ]
  },
  {
   "cell_type": "code",
   "execution_count": 363,
   "metadata": {
    "colab": {
     "base_uri": "https://localhost:8080/",
     "height": 52
    },
    "colab_type": "code",
    "id": "v3AVMbw6Sb4j",
    "outputId": "3d51c342-1fed-4b52-d946-34be9d7ba6a5"
   },
   "outputs": [
    {
     "name": "stdout",
     "output_type": "stream",
     "text": [
      "predictions 10.442364\n",
      "actual pm2.5 values 11.5590625\n"
     ]
    }
   ],
   "source": [
    "print('predictions', deep_lstm_model_predictions.mean())\n",
    "print('actual pm2.5 values', pollution_real_test.mean())"
   ]
  },
  {
   "cell_type": "markdown",
   "metadata": {
    "colab_type": "text",
    "id": "xX5heGwJSb4m"
   },
   "source": [
    "### Visualization of the predictions and actual values of PM2.5\n",
    "1. #### using bar chart"
   ]
  },
  {
   "cell_type": "code",
   "execution_count": 364,
   "metadata": {
    "colab": {
     "base_uri": "https://localhost:8080/",
     "height": 638
    },
    "colab_type": "code",
    "id": "e1NQ6pyMSb4m",
    "outputId": "1897373c-c28e-41f5-cc11-c000fbd05aa6"
   },
   "outputs": [
    {
     "data": {
      "image/png": "[encoded data removed]",
      "text/plain": [
       "<Figure size 864x432 with 1 Axes>"
      ]
     },
     "metadata": {
      "needs_background": "light"
     },
     "output_type": "display_data"
    }
   ],
   "source": [
    "fig_deep_lstm_predictions_vs_actual = plt.figure(figsize=(12,6))\n",
    "ax_fig_deep_lstm_predictions_vs_actual = fig_deep_lstm_predictions_vs_actual.add_subplot(111)\n",
    "plt.plot(pollution_real_test, color = 'red', label = 'Real PM2.5 Values')\n",
    "plt.plot(deep_lstm_model_predictions, color = 'blue', label = 'Predictions')\n",
    "plt.title('PM2.5 Values Predictions Vs Real PM2.5 Values ')\n",
    "plt.xlabel('PM2.5 Records')\n",
    "plt.ylabel('PM2.5 Values')\n",
    "plt.legend()\n",
    "\n",
    "fig_deep_lstm_predictions_vs_actual.savefig(os.path.join(filepath, 'deep_lstm_model_prediction_vs_actual.png'))"
   ]
  },
  {
   "cell_type": "markdown",
   "metadata": {
    "colab_type": "text",
    "id": "IgZEA2ZsSb4o"
   },
   "source": [
    "### 2. using line graphs"
   ]
  },
  {
   "cell_type": "code",
   "execution_count": 365,
   "metadata": {
    "colab": {
     "base_uri": "https://localhost:8080/",
     "height": 1164
    },
    "colab_type": "code",
    "id": "eVDzGVwdSb4o",
    "outputId": "611dd298-9007-43e9-e26b-b7538a370edc"
   },
   "outputs": [
    {
     "data": {
      "image/png": "[encoded data removed]",
      "text/plain": [
       "<Figure size 432x288 with 1 Axes>"
      ]
     },
     "metadata": {
      "needs_background": "light"
     },
     "output_type": "display_data"
    }
   ],
   "source": [
    "plt.plot(pollution_real_test, color = 'red', label = 'Real PM2.5 Values')\n",
    "plt.plot(deep_lstm_model_predictions, color = 'blue', label = 'Predicted PM2.5 Values')\n",
    "plt.title('PM2.5 Prediction')\n",
    "plt.xlabel('PM2.5 Records')\n",
    "plt.ylabel('PM2.5')\n",
    "plt.legend()\n",
    "plt.show()"
   ]
  },
  {
   "cell_type": "code",
   "execution_count": 366,
   "metadata": {
    "scrolled": true
   },
   "outputs": [
    {
     "data": {
      "image/png": "[encoded data removed]",
      "text/plain": [
       "<Figure size 576x432 with 1 Axes>"
      ]
     },
     "metadata": {},
     "output_type": "display_data"
    }
   ],
   "source": [
    "sns.set_context('talk')\n",
    "sns.set_style('ticks')\n",
    "sns.set_palette('dark')\n",
    "fig_deep_lstm_predictions_vs_actual_scatter = plt.figure(figsize=(8,6))\n",
    "ax_fig_deep_lstm_predictions_vs_actual_scatter = fig_deep_lstm_predictions_vs_actual_scatter.add_subplot(111)\n",
    "ax = ax_fig_deep_lstm_predictions_vs_actual_scatter\n",
    "# we are going to use y_test, y_test_pred\n",
    "ax.scatter(pollution_real_test, deep_lstm_model_predictions, alpha=.3)\n",
    "\n",
    "ax.set(xlabel='Actual Values', \n",
    "       ylabel='Predictions',\n",
    "       title='PM2.5 Predictions vs Actual Values');\n",
    "\n",
    "fig_deep_lstm_predictions_vs_actual_scatter.savefig(os.path.join(filepath, 'deep_lstm_model_predictions_vs_actual_values_scatter.png'))"
   ]
  },
  {
   "cell_type": "markdown",
   "metadata": {},
   "source": [
    "### saving results to file"
   ]
  },
  {
   "cell_type": "code",
   "execution_count": 367,
   "metadata": {},
   "outputs": [],
   "source": [
    "with open(os.path.join(filepath, \"results_summary.txt\"), \"w+\") as text_file:\n",
    "        print(\"SVR RMSE : {}\\n SVR MAE : {} \\n Basic LSTM: {} \\n Deep LSTM : {}, \\n metrics {}\"\n",
    "              .format(svr_rmse.round(2),svr_mae.round(2), basic_lstm_model_evaluation, deep_lstm_model_evaluation, model.metrics_names ), file=text_file)"
   ]
  },
  {
   "cell_type": "code",
   "execution_count": null,
   "metadata": {},
   "outputs": [],
   "source": []
  }
 ],
 "metadata": {
  "accelerator": "GPU",
  "colab": {
   "name": "air_quality_prediction_data_preprocesing_13_April_2019.ipynb",
   "provenance": [],
   "version": "0.3.2"
  },
  "kernelspec": {
   "display_name": "Python 3",
   "language": "python",
   "name": "python3"
  },
  "language_info": {
   "codemirror_mode": {
    "name": "ipython",
    "version": 3
   },
   "file_extension": ".py",
   "mimetype": "text/x-python",
   "name": "python",
   "nbconvert_exporter": "python",
   "pygments_lexer": "ipython3",
   "version": "3.6.6"
  }
 },
 "nbformat": 4,
 "nbformat_minor": 1
}
