{
 "cells": [
  {
   "cell_type": "code",
   "execution_count": 1,
   "metadata": {
    "colab": {},
    "colab_type": "code",
    "id": "L3-ikINq_CDz"
   },
   "outputs": [],
   "source": [
    "import pandas as pd\n",
    "import numpy as np\n",
    "import seaborn as sns\n",
    "import matplotlib.pyplot as plt \n",
    "%matplotlib inline\n",
    "from sklearn import preprocessing\n",
    "from sklearn.preprocessing import MinMaxScaler\n",
    "from sklearn.metrics import mean_squared_error, mean_absolute_error\n",
    "import os\n",
    "import datetime\n",
    "import math"
   ]
  },
  {
   "cell_type": "code",
   "execution_count": 2,
   "metadata": {
    "colab": {
     "base_uri": "https://localhost:8080/",
     "height": 34
    },
    "colab_type": "code",
    "id": "YgmwH-BI_txh",
    "outputId": "3e4e1ced-5245-4791-a322-86d27a3e3ef8"
   },
   "outputs": [],
   "source": [
    "#from google.colab import drive\n",
    "#drive.mount('/content/drive')"
   ]
  },
  {
   "cell_type": "code",
   "execution_count": 3,
   "metadata": {
    "colab": {},
    "colab_type": "code",
    "id": "InRp4djsBMwh"
   },
   "outputs": [],
   "source": [
    "#!ls \"/content/drive/My Drive/Uni/Msc Comp Science/Year Two/Research/data\""
   ]
  },
  {
   "cell_type": "markdown",
   "metadata": {
    "colab_type": "text",
    "id": "29AZ-B0rSbyj"
   },
   "source": [
    "### Reading in data from various sensors stored in  csv files for airquality data\n",
    "1. Get a list of all the filenames containing data from various sensors using the os python module.\n",
    "2. Turn those into a list of dataframes using pandas"
   ]
  },
  {
   "cell_type": "code",
   "execution_count": 4,
   "metadata": {
    "colab": {},
    "colab_type": "code",
    "id": "geukmPjkSbyn"
   },
   "outputs": [],
   "source": [
    "def show_dataframe_info(df):\n",
    "    print(df.shape)\n",
    "    print(list(df.columns.values))\n",
    "    print('\\n dataframe info: \\n', df.info())\n",
    "    print('\\n dataframe column datatypes:\\n', df.dtypes)"
   ]
  },
  {
   "cell_type": "code",
   "execution_count": 5,
   "metadata": {
    "colab": {
     "base_uri": "https://localhost:8080/",
     "height": 347
    },
    "colab_type": "code",
    "id": "SYFacJONAbXp",
    "outputId": "2b9aad80-eeea-48c9-9345-a1753be42e59"
   },
   "outputs": [
    {
     "data": {
      "text/html": [
       "<div>\n",
       "<style scoped>\n",
       "    .dataframe tbody tr th:only-of-type {\n",
       "        vertical-align: middle;\n",
       "    }\n",
       "\n",
       "    .dataframe tbody tr th {\n",
       "        vertical-align: top;\n",
       "    }\n",
       "\n",
       "    .dataframe thead th {\n",
       "        text-align: right;\n",
       "    }\n",
       "</style>\n",
       "<table border=\"1\" class=\"dataframe\">\n",
       "  <thead>\n",
       "    <tr style=\"text-align: right;\">\n",
       "      <th></th>\n",
       "      <th>TimeStamp</th>\n",
       "      <th>PM1(Ug/m3)</th>\n",
       "      <th>PM2.5(Ug/m3)</th>\n",
       "      <th>PM10(Ug/m3)</th>\n",
       "      <th>hour</th>\n",
       "      <th>EVI</th>\n",
       "      <th>NDVI</th>\n",
       "      <th>humidity (%)</th>\n",
       "      <th>precipitation (mm)</th>\n",
       "      <th>pressure (kPa)</th>\n",
       "      <th>...</th>\n",
       "      <th>temperature (oC)</th>\n",
       "      <th>windspeed (m/s)</th>\n",
       "      <th>winddirection_E</th>\n",
       "      <th>winddirection_N</th>\n",
       "      <th>winddirection_NE</th>\n",
       "      <th>winddirection_NW</th>\n",
       "      <th>winddirection_S</th>\n",
       "      <th>winddirection_SE</th>\n",
       "      <th>winddirection_SW</th>\n",
       "      <th>winddirection_W</th>\n",
       "    </tr>\n",
       "  </thead>\n",
       "  <tbody>\n",
       "    <tr>\n",
       "      <th>0</th>\n",
       "      <td>2017-09-09 18:00:00</td>\n",
       "      <td>11.27</td>\n",
       "      <td>15.52</td>\n",
       "      <td>40.13</td>\n",
       "      <td>18</td>\n",
       "      <td>0.2245</td>\n",
       "      <td>0.3999</td>\n",
       "      <td>73</td>\n",
       "      <td>0.0</td>\n",
       "      <td>87.50</td>\n",
       "      <td>...</td>\n",
       "      <td>23.27</td>\n",
       "      <td>0.44</td>\n",
       "      <td>0</td>\n",
       "      <td>0</td>\n",
       "      <td>0</td>\n",
       "      <td>0</td>\n",
       "      <td>0</td>\n",
       "      <td>1</td>\n",
       "      <td>0</td>\n",
       "      <td>0</td>\n",
       "    </tr>\n",
       "    <tr>\n",
       "      <th>1</th>\n",
       "      <td>2017-09-09 19:00:00</td>\n",
       "      <td>14.87</td>\n",
       "      <td>20.51</td>\n",
       "      <td>54.50</td>\n",
       "      <td>19</td>\n",
       "      <td>0.2245</td>\n",
       "      <td>0.3999</td>\n",
       "      <td>77</td>\n",
       "      <td>0.0</td>\n",
       "      <td>87.58</td>\n",
       "      <td>...</td>\n",
       "      <td>22.72</td>\n",
       "      <td>0.38</td>\n",
       "      <td>0</td>\n",
       "      <td>0</td>\n",
       "      <td>1</td>\n",
       "      <td>0</td>\n",
       "      <td>0</td>\n",
       "      <td>0</td>\n",
       "      <td>0</td>\n",
       "      <td>0</td>\n",
       "    </tr>\n",
       "    <tr>\n",
       "      <th>2</th>\n",
       "      <td>2017-09-09 20:00:00</td>\n",
       "      <td>20.77</td>\n",
       "      <td>29.18</td>\n",
       "      <td>70.89</td>\n",
       "      <td>20</td>\n",
       "      <td>0.2245</td>\n",
       "      <td>0.3999</td>\n",
       "      <td>80</td>\n",
       "      <td>0.0</td>\n",
       "      <td>87.67</td>\n",
       "      <td>...</td>\n",
       "      <td>22.29</td>\n",
       "      <td>0.37</td>\n",
       "      <td>0</td>\n",
       "      <td>0</td>\n",
       "      <td>0</td>\n",
       "      <td>0</td>\n",
       "      <td>0</td>\n",
       "      <td>1</td>\n",
       "      <td>0</td>\n",
       "      <td>0</td>\n",
       "    </tr>\n",
       "    <tr>\n",
       "      <th>3</th>\n",
       "      <td>2017-09-09 21:00:00</td>\n",
       "      <td>22.54</td>\n",
       "      <td>31.99</td>\n",
       "      <td>81.10</td>\n",
       "      <td>21</td>\n",
       "      <td>0.2245</td>\n",
       "      <td>0.3999</td>\n",
       "      <td>82</td>\n",
       "      <td>0.0</td>\n",
       "      <td>87.66</td>\n",
       "      <td>...</td>\n",
       "      <td>21.71</td>\n",
       "      <td>0.34</td>\n",
       "      <td>0</td>\n",
       "      <td>1</td>\n",
       "      <td>0</td>\n",
       "      <td>0</td>\n",
       "      <td>0</td>\n",
       "      <td>0</td>\n",
       "      <td>0</td>\n",
       "      <td>0</td>\n",
       "    </tr>\n",
       "    <tr>\n",
       "      <th>4</th>\n",
       "      <td>2017-09-09 22:00:00</td>\n",
       "      <td>22.37</td>\n",
       "      <td>31.85</td>\n",
       "      <td>78.94</td>\n",
       "      <td>22</td>\n",
       "      <td>0.2245</td>\n",
       "      <td>0.3999</td>\n",
       "      <td>87</td>\n",
       "      <td>0.0</td>\n",
       "      <td>87.68</td>\n",
       "      <td>...</td>\n",
       "      <td>20.86</td>\n",
       "      <td>0.29</td>\n",
       "      <td>0</td>\n",
       "      <td>0</td>\n",
       "      <td>1</td>\n",
       "      <td>0</td>\n",
       "      <td>0</td>\n",
       "      <td>0</td>\n",
       "      <td>0</td>\n",
       "      <td>0</td>\n",
       "    </tr>\n",
       "    <tr>\n",
       "      <th>5</th>\n",
       "      <td>2017-09-09 23:00:00</td>\n",
       "      <td>23.46</td>\n",
       "      <td>32.23</td>\n",
       "      <td>74.90</td>\n",
       "      <td>23</td>\n",
       "      <td>0.2245</td>\n",
       "      <td>0.3999</td>\n",
       "      <td>90</td>\n",
       "      <td>0.0</td>\n",
       "      <td>87.77</td>\n",
       "      <td>...</td>\n",
       "      <td>20.30</td>\n",
       "      <td>0.46</td>\n",
       "      <td>0</td>\n",
       "      <td>0</td>\n",
       "      <td>0</td>\n",
       "      <td>0</td>\n",
       "      <td>0</td>\n",
       "      <td>1</td>\n",
       "      <td>0</td>\n",
       "      <td>0</td>\n",
       "    </tr>\n",
       "    <tr>\n",
       "      <th>6</th>\n",
       "      <td>2017-09-10 00:00:00</td>\n",
       "      <td>23.61</td>\n",
       "      <td>32.53</td>\n",
       "      <td>67.31</td>\n",
       "      <td>0</td>\n",
       "      <td>0.2245</td>\n",
       "      <td>0.3999</td>\n",
       "      <td>91</td>\n",
       "      <td>0.0</td>\n",
       "      <td>87.74</td>\n",
       "      <td>...</td>\n",
       "      <td>20.30</td>\n",
       "      <td>0.59</td>\n",
       "      <td>0</td>\n",
       "      <td>0</td>\n",
       "      <td>0</td>\n",
       "      <td>0</td>\n",
       "      <td>0</td>\n",
       "      <td>1</td>\n",
       "      <td>0</td>\n",
       "      <td>0</td>\n",
       "    </tr>\n",
       "    <tr>\n",
       "      <th>7</th>\n",
       "      <td>2017-09-10 01:00:00</td>\n",
       "      <td>21.78</td>\n",
       "      <td>29.90</td>\n",
       "      <td>56.56</td>\n",
       "      <td>1</td>\n",
       "      <td>0.2245</td>\n",
       "      <td>0.3999</td>\n",
       "      <td>91</td>\n",
       "      <td>0.0</td>\n",
       "      <td>87.67</td>\n",
       "      <td>...</td>\n",
       "      <td>20.14</td>\n",
       "      <td>0.99</td>\n",
       "      <td>0</td>\n",
       "      <td>0</td>\n",
       "      <td>0</td>\n",
       "      <td>0</td>\n",
       "      <td>0</td>\n",
       "      <td>1</td>\n",
       "      <td>0</td>\n",
       "      <td>0</td>\n",
       "    </tr>\n",
       "    <tr>\n",
       "      <th>8</th>\n",
       "      <td>2017-09-10 02:00:00</td>\n",
       "      <td>18.13</td>\n",
       "      <td>24.95</td>\n",
       "      <td>45.56</td>\n",
       "      <td>2</td>\n",
       "      <td>0.2245</td>\n",
       "      <td>0.3999</td>\n",
       "      <td>89</td>\n",
       "      <td>0.0</td>\n",
       "      <td>87.63</td>\n",
       "      <td>...</td>\n",
       "      <td>20.15</td>\n",
       "      <td>1.19</td>\n",
       "      <td>0</td>\n",
       "      <td>0</td>\n",
       "      <td>0</td>\n",
       "      <td>0</td>\n",
       "      <td>0</td>\n",
       "      <td>1</td>\n",
       "      <td>0</td>\n",
       "      <td>0</td>\n",
       "    </tr>\n",
       "    <tr>\n",
       "      <th>9</th>\n",
       "      <td>2017-09-10 03:00:00</td>\n",
       "      <td>15.81</td>\n",
       "      <td>21.78</td>\n",
       "      <td>38.09</td>\n",
       "      <td>3</td>\n",
       "      <td>0.2245</td>\n",
       "      <td>0.3999</td>\n",
       "      <td>89</td>\n",
       "      <td>0.0</td>\n",
       "      <td>87.59</td>\n",
       "      <td>...</td>\n",
       "      <td>19.78</td>\n",
       "      <td>0.69</td>\n",
       "      <td>1</td>\n",
       "      <td>0</td>\n",
       "      <td>0</td>\n",
       "      <td>0</td>\n",
       "      <td>0</td>\n",
       "      <td>0</td>\n",
       "      <td>0</td>\n",
       "      <td>0</td>\n",
       "    </tr>\n",
       "  </tbody>\n",
       "</table>\n",
       "<p>10 rows × 21 columns</p>\n",
       "</div>"
      ],
      "text/plain": [
       "             TimeStamp  PM1(Ug/m3)  PM2.5(Ug/m3)  PM10(Ug/m3)  hour     EVI  \\\n",
       "0  2017-09-09 18:00:00       11.27         15.52        40.13    18  0.2245   \n",
       "1  2017-09-09 19:00:00       14.87         20.51        54.50    19  0.2245   \n",
       "2  2017-09-09 20:00:00       20.77         29.18        70.89    20  0.2245   \n",
       "3  2017-09-09 21:00:00       22.54         31.99        81.10    21  0.2245   \n",
       "4  2017-09-09 22:00:00       22.37         31.85        78.94    22  0.2245   \n",
       "5  2017-09-09 23:00:00       23.46         32.23        74.90    23  0.2245   \n",
       "6  2017-09-10 00:00:00       23.61         32.53        67.31     0  0.2245   \n",
       "7  2017-09-10 01:00:00       21.78         29.90        56.56     1  0.2245   \n",
       "8  2017-09-10 02:00:00       18.13         24.95        45.56     2  0.2245   \n",
       "9  2017-09-10 03:00:00       15.81         21.78        38.09     3  0.2245   \n",
       "\n",
       "     NDVI  humidity (%)  precipitation (mm)  pressure (kPa)       ...         \\\n",
       "0  0.3999            73                 0.0           87.50       ...          \n",
       "1  0.3999            77                 0.0           87.58       ...          \n",
       "2  0.3999            80                 0.0           87.67       ...          \n",
       "3  0.3999            82                 0.0           87.66       ...          \n",
       "4  0.3999            87                 0.0           87.68       ...          \n",
       "5  0.3999            90                 0.0           87.77       ...          \n",
       "6  0.3999            91                 0.0           87.74       ...          \n",
       "7  0.3999            91                 0.0           87.67       ...          \n",
       "8  0.3999            89                 0.0           87.63       ...          \n",
       "9  0.3999            89                 0.0           87.59       ...          \n",
       "\n",
       "   temperature (oC)  windspeed (m/s)  winddirection_E  winddirection_N  \\\n",
       "0             23.27             0.44                0                0   \n",
       "1             22.72             0.38                0                0   \n",
       "2             22.29             0.37                0                0   \n",
       "3             21.71             0.34                0                1   \n",
       "4             20.86             0.29                0                0   \n",
       "5             20.30             0.46                0                0   \n",
       "6             20.30             0.59                0                0   \n",
       "7             20.14             0.99                0                0   \n",
       "8             20.15             1.19                0                0   \n",
       "9             19.78             0.69                1                0   \n",
       "\n",
       "   winddirection_NE  winddirection_NW  winddirection_S  winddirection_SE  \\\n",
       "0                 0                 0                0                 1   \n",
       "1                 1                 0                0                 0   \n",
       "2                 0                 0                0                 1   \n",
       "3                 0                 0                0                 0   \n",
       "4                 1                 0                0                 0   \n",
       "5                 0                 0                0                 1   \n",
       "6                 0                 0                0                 1   \n",
       "7                 0                 0                0                 1   \n",
       "8                 0                 0                0                 1   \n",
       "9                 0                 0                0                 0   \n",
       "\n",
       "   winddirection_SW  winddirection_W  \n",
       "0                 0                0  \n",
       "1                 0                0  \n",
       "2                 0                0  \n",
       "3                 0                0  \n",
       "4                 0                0  \n",
       "5                 0                0  \n",
       "6                 0                0  \n",
       "7                 0                0  \n",
       "8                 0                0  \n",
       "9                 0                0  \n",
       "\n",
       "[10 rows x 21 columns]"
      ]
     },
     "execution_count": 5,
     "metadata": {},
     "output_type": "execute_result"
    }
   ],
   "source": [
    "#airquality_data = combined_df\n",
    "#airquality_data = pd.read_csv('/content/drive/My Drive/Uni/Msc Comp Science/Year Two/Research/experiments/data/AirQuality/AirQo/Bugolobi(ambrosoli)/bugolobi.csv')\n",
    "\n",
    "root_data_dir = 'data'\n",
    "base_dir ='data\\AirQuality\\AirQo'\n",
    "#unit_name = 'Makindye'\n",
    "#base_dir = os.path.join(base_dir, unit_name)\n",
    "\n",
    "#airquality_data = pd.read_csv(os.path.join(base_dir,'Bugolobi(ambrosoli)','merged_hourly_airquality_greenness_meteorological_dataset.csv'))\n",
    "#filepath = os.path.join(base_dir,'Bugolobi(ambrosoli)')\n",
    "\n",
    "#airquality_data = pd.read_csv(os.path.join(base_dir,'Makerere','merged_hourly_airquality_greenness_meteorological_dataset.csv'))\n",
    "#filepath = os.path.join(base_dir,'Makerere')\n",
    "\n",
    "#airquality_data = pd.read_csv(os.path.join(base_dir,'Makindye','merged_hourly_airquality_greenness_meteorological_dataset.csv'))\n",
    "#filepath = os.path.join(base_dir, 'Makindye')\n",
    "\n",
    "#airquality_data = pd.read_csv(os.path.join(base_dir,'Bukoto(kisu)','merged_hourly_airquality_greenness_meteorological_dataset.csv'))\n",
    "#filepath= os.path.join(base_dir,'Bukoto(kisu)')\n",
    "\n",
    "airquality_data = pd.read_csv(os.path.join(base_dir,'Mulago','merged_hourly_airquality_greenness_meteorological_dataset.csv'))\n",
    "filepath= os.path.join(base_dir,'Mulago')\n",
    "\n",
    "#airquality_data = pd.read_csv(os.path.join(base_dir,'Lubowa','merged_hourly_airquality_greenness_meteorological_dataset.csv'))\n",
    "#filepath = os.path.join(base_dir,'Lubowa')\n",
    "\n",
    "#airquality_data = pd.read_csv(os.path.join(base_dir,'Jinja_Road(NEMAHOUSE)',' merged_hourly_airquality_greenness_meteorological_dataset.csv '))\n",
    "#filepath = os.path.join(base_dir,'Jinja_Road(NEMAHOUSE)')\n",
    "\n",
    "#airquality_data = pd.read_csv(os.path.join(base_dir, 'Rubaga_Mobile',' merged_hourly_airquality_greenness_meteorological_dataset.csv '))\n",
    "#filepath = os.path.join(base_dir, 'Rubaga_Mobile')\n",
    "\n",
    "airquality_data.head(10)"
   ]
  },
  {
   "cell_type": "code",
   "execution_count": 6,
   "metadata": {},
   "outputs": [],
   "source": [
    "airquality_data[\"TimeStamp\"] = pd.to_datetime(airquality_data[\"TimeStamp\"])\n",
    "airquality_data = airquality_data.set_index('TimeStamp')"
   ]
  },
  {
   "cell_type": "code",
   "execution_count": 7,
   "metadata": {},
   "outputs": [],
   "source": [
    "#airquality_data = airquality_data.drop(['Hour'], axis=1)"
   ]
  },
  {
   "cell_type": "code",
   "execution_count": 8,
   "metadata": {
    "colab": {
     "base_uri": "https://localhost:8080/",
     "height": 197
    },
    "colab_type": "code",
    "id": "nCH7dg6uSby0",
    "outputId": "182b0084-fb2e-449f-a3e1-35388b82f8f7"
   },
   "outputs": [
    {
     "data": {
      "text/html": [
       "<div>\n",
       "<style scoped>\n",
       "    .dataframe tbody tr th:only-of-type {\n",
       "        vertical-align: middle;\n",
       "    }\n",
       "\n",
       "    .dataframe tbody tr th {\n",
       "        vertical-align: top;\n",
       "    }\n",
       "\n",
       "    .dataframe thead th {\n",
       "        text-align: right;\n",
       "    }\n",
       "</style>\n",
       "<table border=\"1\" class=\"dataframe\">\n",
       "  <thead>\n",
       "    <tr style=\"text-align: right;\">\n",
       "      <th></th>\n",
       "      <th>PM1(Ug/m3)</th>\n",
       "      <th>PM2.5(Ug/m3)</th>\n",
       "      <th>PM10(Ug/m3)</th>\n",
       "      <th>hour</th>\n",
       "      <th>EVI</th>\n",
       "      <th>NDVI</th>\n",
       "      <th>humidity (%)</th>\n",
       "      <th>precipitation (mm)</th>\n",
       "      <th>pressure (kPa)</th>\n",
       "      <th>radiation (W/m2)</th>\n",
       "      <th>temperature (oC)</th>\n",
       "      <th>windspeed (m/s)</th>\n",
       "      <th>winddirection_E</th>\n",
       "      <th>winddirection_N</th>\n",
       "      <th>winddirection_NE</th>\n",
       "      <th>winddirection_NW</th>\n",
       "      <th>winddirection_S</th>\n",
       "      <th>winddirection_SE</th>\n",
       "      <th>winddirection_SW</th>\n",
       "      <th>winddirection_W</th>\n",
       "    </tr>\n",
       "    <tr>\n",
       "      <th>TimeStamp</th>\n",
       "      <th></th>\n",
       "      <th></th>\n",
       "      <th></th>\n",
       "      <th></th>\n",
       "      <th></th>\n",
       "      <th></th>\n",
       "      <th></th>\n",
       "      <th></th>\n",
       "      <th></th>\n",
       "      <th></th>\n",
       "      <th></th>\n",
       "      <th></th>\n",
       "      <th></th>\n",
       "      <th></th>\n",
       "      <th></th>\n",
       "      <th></th>\n",
       "      <th></th>\n",
       "      <th></th>\n",
       "      <th></th>\n",
       "      <th></th>\n",
       "    </tr>\n",
       "  </thead>\n",
       "  <tbody>\n",
       "    <tr>\n",
       "      <th>2017-09-09 18:00:00</th>\n",
       "      <td>11.27</td>\n",
       "      <td>15.52</td>\n",
       "      <td>40.13</td>\n",
       "      <td>18</td>\n",
       "      <td>0.2245</td>\n",
       "      <td>0.3999</td>\n",
       "      <td>73</td>\n",
       "      <td>0.0</td>\n",
       "      <td>87.50</td>\n",
       "      <td>0.9</td>\n",
       "      <td>23.27</td>\n",
       "      <td>0.44</td>\n",
       "      <td>0</td>\n",
       "      <td>0</td>\n",
       "      <td>0</td>\n",
       "      <td>0</td>\n",
       "      <td>0</td>\n",
       "      <td>1</td>\n",
       "      <td>0</td>\n",
       "      <td>0</td>\n",
       "    </tr>\n",
       "    <tr>\n",
       "      <th>2017-09-09 19:00:00</th>\n",
       "      <td>14.87</td>\n",
       "      <td>20.51</td>\n",
       "      <td>54.50</td>\n",
       "      <td>19</td>\n",
       "      <td>0.2245</td>\n",
       "      <td>0.3999</td>\n",
       "      <td>77</td>\n",
       "      <td>0.0</td>\n",
       "      <td>87.58</td>\n",
       "      <td>0.0</td>\n",
       "      <td>22.72</td>\n",
       "      <td>0.38</td>\n",
       "      <td>0</td>\n",
       "      <td>0</td>\n",
       "      <td>1</td>\n",
       "      <td>0</td>\n",
       "      <td>0</td>\n",
       "      <td>0</td>\n",
       "      <td>0</td>\n",
       "      <td>0</td>\n",
       "    </tr>\n",
       "    <tr>\n",
       "      <th>2017-09-09 20:00:00</th>\n",
       "      <td>20.77</td>\n",
       "      <td>29.18</td>\n",
       "      <td>70.89</td>\n",
       "      <td>20</td>\n",
       "      <td>0.2245</td>\n",
       "      <td>0.3999</td>\n",
       "      <td>80</td>\n",
       "      <td>0.0</td>\n",
       "      <td>87.67</td>\n",
       "      <td>0.0</td>\n",
       "      <td>22.29</td>\n",
       "      <td>0.37</td>\n",
       "      <td>0</td>\n",
       "      <td>0</td>\n",
       "      <td>0</td>\n",
       "      <td>0</td>\n",
       "      <td>0</td>\n",
       "      <td>1</td>\n",
       "      <td>0</td>\n",
       "      <td>0</td>\n",
       "    </tr>\n",
       "    <tr>\n",
       "      <th>2017-09-09 21:00:00</th>\n",
       "      <td>22.54</td>\n",
       "      <td>31.99</td>\n",
       "      <td>81.10</td>\n",
       "      <td>21</td>\n",
       "      <td>0.2245</td>\n",
       "      <td>0.3999</td>\n",
       "      <td>82</td>\n",
       "      <td>0.0</td>\n",
       "      <td>87.66</td>\n",
       "      <td>0.0</td>\n",
       "      <td>21.71</td>\n",
       "      <td>0.34</td>\n",
       "      <td>0</td>\n",
       "      <td>1</td>\n",
       "      <td>0</td>\n",
       "      <td>0</td>\n",
       "      <td>0</td>\n",
       "      <td>0</td>\n",
       "      <td>0</td>\n",
       "      <td>0</td>\n",
       "    </tr>\n",
       "    <tr>\n",
       "      <th>2017-09-09 22:00:00</th>\n",
       "      <td>22.37</td>\n",
       "      <td>31.85</td>\n",
       "      <td>78.94</td>\n",
       "      <td>22</td>\n",
       "      <td>0.2245</td>\n",
       "      <td>0.3999</td>\n",
       "      <td>87</td>\n",
       "      <td>0.0</td>\n",
       "      <td>87.68</td>\n",
       "      <td>0.0</td>\n",
       "      <td>20.86</td>\n",
       "      <td>0.29</td>\n",
       "      <td>0</td>\n",
       "      <td>0</td>\n",
       "      <td>1</td>\n",
       "      <td>0</td>\n",
       "      <td>0</td>\n",
       "      <td>0</td>\n",
       "      <td>0</td>\n",
       "      <td>0</td>\n",
       "    </tr>\n",
       "  </tbody>\n",
       "</table>\n",
       "</div>"
      ],
      "text/plain": [
       "                     PM1(Ug/m3)  PM2.5(Ug/m3)  PM10(Ug/m3)  hour     EVI  \\\n",
       "TimeStamp                                                                  \n",
       "2017-09-09 18:00:00       11.27         15.52        40.13    18  0.2245   \n",
       "2017-09-09 19:00:00       14.87         20.51        54.50    19  0.2245   \n",
       "2017-09-09 20:00:00       20.77         29.18        70.89    20  0.2245   \n",
       "2017-09-09 21:00:00       22.54         31.99        81.10    21  0.2245   \n",
       "2017-09-09 22:00:00       22.37         31.85        78.94    22  0.2245   \n",
       "\n",
       "                       NDVI  humidity (%)  precipitation (mm)  pressure (kPa)  \\\n",
       "TimeStamp                                                                       \n",
       "2017-09-09 18:00:00  0.3999            73                 0.0           87.50   \n",
       "2017-09-09 19:00:00  0.3999            77                 0.0           87.58   \n",
       "2017-09-09 20:00:00  0.3999            80                 0.0           87.67   \n",
       "2017-09-09 21:00:00  0.3999            82                 0.0           87.66   \n",
       "2017-09-09 22:00:00  0.3999            87                 0.0           87.68   \n",
       "\n",
       "                     radiation (W/m2)  temperature (oC)  windspeed (m/s)  \\\n",
       "TimeStamp                                                                  \n",
       "2017-09-09 18:00:00               0.9             23.27             0.44   \n",
       "2017-09-09 19:00:00               0.0             22.72             0.38   \n",
       "2017-09-09 20:00:00               0.0             22.29             0.37   \n",
       "2017-09-09 21:00:00               0.0             21.71             0.34   \n",
       "2017-09-09 22:00:00               0.0             20.86             0.29   \n",
       "\n",
       "                     winddirection_E  winddirection_N  winddirection_NE  \\\n",
       "TimeStamp                                                                 \n",
       "2017-09-09 18:00:00                0                0                 0   \n",
       "2017-09-09 19:00:00                0                0                 1   \n",
       "2017-09-09 20:00:00                0                0                 0   \n",
       "2017-09-09 21:00:00                0                1                 0   \n",
       "2017-09-09 22:00:00                0                0                 1   \n",
       "\n",
       "                     winddirection_NW  winddirection_S  winddirection_SE  \\\n",
       "TimeStamp                                                                  \n",
       "2017-09-09 18:00:00                 0                0                 1   \n",
       "2017-09-09 19:00:00                 0                0                 0   \n",
       "2017-09-09 20:00:00                 0                0                 1   \n",
       "2017-09-09 21:00:00                 0                0                 0   \n",
       "2017-09-09 22:00:00                 0                0                 0   \n",
       "\n",
       "                     winddirection_SW  winddirection_W  \n",
       "TimeStamp                                               \n",
       "2017-09-09 18:00:00                 0                0  \n",
       "2017-09-09 19:00:00                 0                0  \n",
       "2017-09-09 20:00:00                 0                0  \n",
       "2017-09-09 21:00:00                 0                0  \n",
       "2017-09-09 22:00:00                 0                0  "
      ]
     },
     "execution_count": 8,
     "metadata": {},
     "output_type": "execute_result"
    }
   ],
   "source": [
    "airquality_data.head()"
   ]
  },
  {
   "cell_type": "code",
   "execution_count": 9,
   "metadata": {
    "colab": {
     "base_uri": "https://localhost:8080/",
     "height": 197
    },
    "colab_type": "code",
    "id": "Ho2ych4lB3cA",
    "outputId": "ac2a2a33-7ff2-4943-b4be-2178342a65e1"
   },
   "outputs": [
    {
     "data": {
      "text/html": [
       "<div>\n",
       "<style scoped>\n",
       "    .dataframe tbody tr th:only-of-type {\n",
       "        vertical-align: middle;\n",
       "    }\n",
       "\n",
       "    .dataframe tbody tr th {\n",
       "        vertical-align: top;\n",
       "    }\n",
       "\n",
       "    .dataframe thead th {\n",
       "        text-align: right;\n",
       "    }\n",
       "</style>\n",
       "<table border=\"1\" class=\"dataframe\">\n",
       "  <thead>\n",
       "    <tr style=\"text-align: right;\">\n",
       "      <th></th>\n",
       "      <th>PM1(Ug/m3)</th>\n",
       "      <th>PM2.5(Ug/m3)</th>\n",
       "      <th>PM10(Ug/m3)</th>\n",
       "      <th>hour</th>\n",
       "      <th>EVI</th>\n",
       "      <th>NDVI</th>\n",
       "      <th>humidity (%)</th>\n",
       "      <th>precipitation (mm)</th>\n",
       "      <th>pressure (kPa)</th>\n",
       "      <th>radiation (W/m2)</th>\n",
       "      <th>temperature (oC)</th>\n",
       "      <th>windspeed (m/s)</th>\n",
       "      <th>winddirection_E</th>\n",
       "      <th>winddirection_N</th>\n",
       "      <th>winddirection_NE</th>\n",
       "      <th>winddirection_NW</th>\n",
       "      <th>winddirection_S</th>\n",
       "      <th>winddirection_SE</th>\n",
       "      <th>winddirection_SW</th>\n",
       "      <th>winddirection_W</th>\n",
       "    </tr>\n",
       "    <tr>\n",
       "      <th>TimeStamp</th>\n",
       "      <th></th>\n",
       "      <th></th>\n",
       "      <th></th>\n",
       "      <th></th>\n",
       "      <th></th>\n",
       "      <th></th>\n",
       "      <th></th>\n",
       "      <th></th>\n",
       "      <th></th>\n",
       "      <th></th>\n",
       "      <th></th>\n",
       "      <th></th>\n",
       "      <th></th>\n",
       "      <th></th>\n",
       "      <th></th>\n",
       "      <th></th>\n",
       "      <th></th>\n",
       "      <th></th>\n",
       "      <th></th>\n",
       "      <th></th>\n",
       "    </tr>\n",
       "  </thead>\n",
       "  <tbody>\n",
       "    <tr>\n",
       "      <th>2019-03-11 14:00:00</th>\n",
       "      <td>3.72</td>\n",
       "      <td>5.39</td>\n",
       "      <td>17.75</td>\n",
       "      <td>14</td>\n",
       "      <td>0.2073</td>\n",
       "      <td>0.3637</td>\n",
       "      <td>49</td>\n",
       "      <td>0.0</td>\n",
       "      <td>87.64</td>\n",
       "      <td>476.83</td>\n",
       "      <td>28.41</td>\n",
       "      <td>0.50</td>\n",
       "      <td>0</td>\n",
       "      <td>1</td>\n",
       "      <td>0</td>\n",
       "      <td>0</td>\n",
       "      <td>0</td>\n",
       "      <td>0</td>\n",
       "      <td>0</td>\n",
       "      <td>0</td>\n",
       "    </tr>\n",
       "    <tr>\n",
       "      <th>2019-03-11 15:00:00</th>\n",
       "      <td>3.30</td>\n",
       "      <td>4.78</td>\n",
       "      <td>13.96</td>\n",
       "      <td>15</td>\n",
       "      <td>0.2073</td>\n",
       "      <td>0.3637</td>\n",
       "      <td>45</td>\n",
       "      <td>0.0</td>\n",
       "      <td>87.55</td>\n",
       "      <td>667.62</td>\n",
       "      <td>29.34</td>\n",
       "      <td>0.94</td>\n",
       "      <td>0</td>\n",
       "      <td>0</td>\n",
       "      <td>0</td>\n",
       "      <td>0</td>\n",
       "      <td>0</td>\n",
       "      <td>0</td>\n",
       "      <td>1</td>\n",
       "      <td>0</td>\n",
       "    </tr>\n",
       "    <tr>\n",
       "      <th>2019-03-11 16:00:00</th>\n",
       "      <td>3.14</td>\n",
       "      <td>4.59</td>\n",
       "      <td>12.44</td>\n",
       "      <td>16</td>\n",
       "      <td>0.2073</td>\n",
       "      <td>0.3637</td>\n",
       "      <td>49</td>\n",
       "      <td>0.0</td>\n",
       "      <td>87.50</td>\n",
       "      <td>525.28</td>\n",
       "      <td>28.69</td>\n",
       "      <td>1.09</td>\n",
       "      <td>0</td>\n",
       "      <td>0</td>\n",
       "      <td>0</td>\n",
       "      <td>0</td>\n",
       "      <td>1</td>\n",
       "      <td>0</td>\n",
       "      <td>0</td>\n",
       "      <td>0</td>\n",
       "    </tr>\n",
       "    <tr>\n",
       "      <th>2019-03-11 17:00:00</th>\n",
       "      <td>3.62</td>\n",
       "      <td>5.13</td>\n",
       "      <td>13.06</td>\n",
       "      <td>17</td>\n",
       "      <td>0.2073</td>\n",
       "      <td>0.3637</td>\n",
       "      <td>52</td>\n",
       "      <td>0.0</td>\n",
       "      <td>87.51</td>\n",
       "      <td>305.62</td>\n",
       "      <td>27.42</td>\n",
       "      <td>1.19</td>\n",
       "      <td>0</td>\n",
       "      <td>0</td>\n",
       "      <td>0</td>\n",
       "      <td>0</td>\n",
       "      <td>1</td>\n",
       "      <td>0</td>\n",
       "      <td>0</td>\n",
       "      <td>0</td>\n",
       "    </tr>\n",
       "    <tr>\n",
       "      <th>2019-03-11 18:00:00</th>\n",
       "      <td>2.94</td>\n",
       "      <td>4.47</td>\n",
       "      <td>11.57</td>\n",
       "      <td>18</td>\n",
       "      <td>0.2073</td>\n",
       "      <td>0.3637</td>\n",
       "      <td>59</td>\n",
       "      <td>0.0</td>\n",
       "      <td>87.52</td>\n",
       "      <td>75.15</td>\n",
       "      <td>26.14</td>\n",
       "      <td>0.83</td>\n",
       "      <td>0</td>\n",
       "      <td>0</td>\n",
       "      <td>0</td>\n",
       "      <td>0</td>\n",
       "      <td>1</td>\n",
       "      <td>0</td>\n",
       "      <td>0</td>\n",
       "      <td>0</td>\n",
       "    </tr>\n",
       "  </tbody>\n",
       "</table>\n",
       "</div>"
      ],
      "text/plain": [
       "                     PM1(Ug/m3)  PM2.5(Ug/m3)  PM10(Ug/m3)  hour     EVI  \\\n",
       "TimeStamp                                                                  \n",
       "2019-03-11 14:00:00        3.72          5.39        17.75    14  0.2073   \n",
       "2019-03-11 15:00:00        3.30          4.78        13.96    15  0.2073   \n",
       "2019-03-11 16:00:00        3.14          4.59        12.44    16  0.2073   \n",
       "2019-03-11 17:00:00        3.62          5.13        13.06    17  0.2073   \n",
       "2019-03-11 18:00:00        2.94          4.47        11.57    18  0.2073   \n",
       "\n",
       "                       NDVI  humidity (%)  precipitation (mm)  pressure (kPa)  \\\n",
       "TimeStamp                                                                       \n",
       "2019-03-11 14:00:00  0.3637            49                 0.0           87.64   \n",
       "2019-03-11 15:00:00  0.3637            45                 0.0           87.55   \n",
       "2019-03-11 16:00:00  0.3637            49                 0.0           87.50   \n",
       "2019-03-11 17:00:00  0.3637            52                 0.0           87.51   \n",
       "2019-03-11 18:00:00  0.3637            59                 0.0           87.52   \n",
       "\n",
       "                     radiation (W/m2)  temperature (oC)  windspeed (m/s)  \\\n",
       "TimeStamp                                                                  \n",
       "2019-03-11 14:00:00            476.83             28.41             0.50   \n",
       "2019-03-11 15:00:00            667.62             29.34             0.94   \n",
       "2019-03-11 16:00:00            525.28             28.69             1.09   \n",
       "2019-03-11 17:00:00            305.62             27.42             1.19   \n",
       "2019-03-11 18:00:00             75.15             26.14             0.83   \n",
       "\n",
       "                     winddirection_E  winddirection_N  winddirection_NE  \\\n",
       "TimeStamp                                                                 \n",
       "2019-03-11 14:00:00                0                1                 0   \n",
       "2019-03-11 15:00:00                0                0                 0   \n",
       "2019-03-11 16:00:00                0                0                 0   \n",
       "2019-03-11 17:00:00                0                0                 0   \n",
       "2019-03-11 18:00:00                0                0                 0   \n",
       "\n",
       "                     winddirection_NW  winddirection_S  winddirection_SE  \\\n",
       "TimeStamp                                                                  \n",
       "2019-03-11 14:00:00                 0                0                 0   \n",
       "2019-03-11 15:00:00                 0                0                 0   \n",
       "2019-03-11 16:00:00                 0                1                 0   \n",
       "2019-03-11 17:00:00                 0                1                 0   \n",
       "2019-03-11 18:00:00                 0                1                 0   \n",
       "\n",
       "                     winddirection_SW  winddirection_W  \n",
       "TimeStamp                                               \n",
       "2019-03-11 14:00:00                 0                0  \n",
       "2019-03-11 15:00:00                 1                0  \n",
       "2019-03-11 16:00:00                 0                0  \n",
       "2019-03-11 17:00:00                 0                0  \n",
       "2019-03-11 18:00:00                 0                0  "
      ]
     },
     "execution_count": 9,
     "metadata": {},
     "output_type": "execute_result"
    }
   ],
   "source": [
    "airquality_data.tail()"
   ]
  },
  {
   "cell_type": "code",
   "execution_count": 10,
   "metadata": {
    "colab": {
     "base_uri": "https://localhost:8080/",
     "height": 567
    },
    "colab_type": "code",
    "id": "LueXKLM3B_DR",
    "outputId": "ba5a377a-7b5b-41a8-f5ba-26424099dd23"
   },
   "outputs": [
    {
     "name": "stdout",
     "output_type": "stream",
     "text": [
      "(12000, 20)\n",
      "['PM1(Ug/m3)', 'PM2.5(Ug/m3)', 'PM10(Ug/m3)', 'hour', 'EVI', 'NDVI', 'humidity (%)', 'precipitation (mm)', 'pressure (kPa)', 'radiation (W/m2)', 'temperature (oC)', 'windspeed (m/s)', 'winddirection_E', 'winddirection_N', 'winddirection_NE', 'winddirection_NW', 'winddirection_S', 'winddirection_SE', 'winddirection_SW', 'winddirection_W']\n",
      "<class 'pandas.core.frame.DataFrame'>\n",
      "DatetimeIndex: 12000 entries, 2017-09-09 18:00:00 to 2019-03-11 18:00:00\n",
      "Data columns (total 20 columns):\n",
      "PM1(Ug/m3)            12000 non-null float64\n",
      "PM2.5(Ug/m3)          12000 non-null float64\n",
      "PM10(Ug/m3)           12000 non-null float64\n",
      "hour                  12000 non-null int64\n",
      "EVI                   12000 non-null float64\n",
      "NDVI                  12000 non-null float64\n",
      "humidity (%)          12000 non-null int64\n",
      "precipitation (mm)    12000 non-null float64\n",
      "pressure (kPa)        12000 non-null float64\n",
      "radiation (W/m2)      12000 non-null float64\n",
      "temperature (oC)      12000 non-null float64\n",
      "windspeed (m/s)       12000 non-null float64\n",
      "winddirection_E       12000 non-null int64\n",
      "winddirection_N       12000 non-null int64\n",
      "winddirection_NE      12000 non-null int64\n",
      "winddirection_NW      12000 non-null int64\n",
      "winddirection_S       12000 non-null int64\n",
      "winddirection_SE      12000 non-null int64\n",
      "winddirection_SW      12000 non-null int64\n",
      "winddirection_W       12000 non-null int64\n",
      "dtypes: float64(10), int64(10)\n",
      "memory usage: 1.9 MB\n",
      "\n",
      " dataframe info: \n",
      " None\n",
      "\n",
      " dataframe column datatypes:\n",
      " PM1(Ug/m3)            float64\n",
      "PM2.5(Ug/m3)          float64\n",
      "PM10(Ug/m3)           float64\n",
      "hour                    int64\n",
      "EVI                   float64\n",
      "NDVI                  float64\n",
      "humidity (%)            int64\n",
      "precipitation (mm)    float64\n",
      "pressure (kPa)        float64\n",
      "radiation (W/m2)      float64\n",
      "temperature (oC)      float64\n",
      "windspeed (m/s)       float64\n",
      "winddirection_E         int64\n",
      "winddirection_N         int64\n",
      "winddirection_NE        int64\n",
      "winddirection_NW        int64\n",
      "winddirection_S         int64\n",
      "winddirection_SE        int64\n",
      "winddirection_SW        int64\n",
      "winddirection_W         int64\n",
      "dtype: object\n"
     ]
    }
   ],
   "source": [
    "show_dataframe_info(airquality_data)"
   ]
  },
  {
   "cell_type": "code",
   "execution_count": 11,
   "metadata": {
    "colab": {
     "base_uri": "https://localhost:8080/",
     "height": 287
    },
    "colab_type": "code",
    "id": "6inajEGHCWNw",
    "outputId": "33b50565-8809-4013-a695-c6b5f79bfe0b"
   },
   "outputs": [
    {
     "data": {
      "text/html": [
       "<div>\n",
       "<style scoped>\n",
       "    .dataframe tbody tr th:only-of-type {\n",
       "        vertical-align: middle;\n",
       "    }\n",
       "\n",
       "    .dataframe tbody tr th {\n",
       "        vertical-align: top;\n",
       "    }\n",
       "\n",
       "    .dataframe thead th {\n",
       "        text-align: right;\n",
       "    }\n",
       "</style>\n",
       "<table border=\"1\" class=\"dataframe\">\n",
       "  <thead>\n",
       "    <tr style=\"text-align: right;\">\n",
       "      <th></th>\n",
       "      <th>PM1(Ug/m3)</th>\n",
       "      <th>PM2.5(Ug/m3)</th>\n",
       "      <th>PM10(Ug/m3)</th>\n",
       "      <th>hour</th>\n",
       "      <th>EVI</th>\n",
       "      <th>NDVI</th>\n",
       "      <th>humidity (%)</th>\n",
       "      <th>precipitation (mm)</th>\n",
       "      <th>pressure (kPa)</th>\n",
       "      <th>radiation (W/m2)</th>\n",
       "      <th>temperature (oC)</th>\n",
       "      <th>windspeed (m/s)</th>\n",
       "      <th>winddirection_E</th>\n",
       "      <th>winddirection_N</th>\n",
       "      <th>winddirection_NE</th>\n",
       "      <th>winddirection_NW</th>\n",
       "      <th>winddirection_S</th>\n",
       "      <th>winddirection_SE</th>\n",
       "      <th>winddirection_SW</th>\n",
       "      <th>winddirection_W</th>\n",
       "    </tr>\n",
       "  </thead>\n",
       "  <tbody>\n",
       "    <tr>\n",
       "      <th>count</th>\n",
       "      <td>12000.000000</td>\n",
       "      <td>12000.000000</td>\n",
       "      <td>12000.000000</td>\n",
       "      <td>12000.000000</td>\n",
       "      <td>12000.000000</td>\n",
       "      <td>12000.000000</td>\n",
       "      <td>12000.000000</td>\n",
       "      <td>12000.000000</td>\n",
       "      <td>12000.000000</td>\n",
       "      <td>12000.000000</td>\n",
       "      <td>12000.000000</td>\n",
       "      <td>12000.000000</td>\n",
       "      <td>12000.000000</td>\n",
       "      <td>12000.000000</td>\n",
       "      <td>12000.000000</td>\n",
       "      <td>12000.000000</td>\n",
       "      <td>12000.000000</td>\n",
       "      <td>12000.000000</td>\n",
       "      <td>12000.000000</td>\n",
       "      <td>12000.000000</td>\n",
       "    </tr>\n",
       "    <tr>\n",
       "      <th>mean</th>\n",
       "      <td>13.540177</td>\n",
       "      <td>18.835673</td>\n",
       "      <td>43.560323</td>\n",
       "      <td>11.496000</td>\n",
       "      <td>0.234250</td>\n",
       "      <td>0.409090</td>\n",
       "      <td>-107.744667</td>\n",
       "      <td>0.132941</td>\n",
       "      <td>87.678892</td>\n",
       "      <td>154.812255</td>\n",
       "      <td>22.495915</td>\n",
       "      <td>-105.679550</td>\n",
       "      <td>0.102583</td>\n",
       "      <td>0.062417</td>\n",
       "      <td>0.071167</td>\n",
       "      <td>0.098250</td>\n",
       "      <td>0.211917</td>\n",
       "      <td>0.225083</td>\n",
       "      <td>0.125000</td>\n",
       "      <td>0.103583</td>\n",
       "    </tr>\n",
       "    <tr>\n",
       "      <th>std</th>\n",
       "      <td>7.964570</td>\n",
       "      <td>10.838085</td>\n",
       "      <td>24.116789</td>\n",
       "      <td>6.921607</td>\n",
       "      <td>0.048602</td>\n",
       "      <td>0.067086</td>\n",
       "      <td>1357.983267</td>\n",
       "      <td>1.229351</td>\n",
       "      <td>0.182687</td>\n",
       "      <td>229.215247</td>\n",
       "      <td>3.442575</td>\n",
       "      <td>1027.211358</td>\n",
       "      <td>0.303427</td>\n",
       "      <td>0.241921</td>\n",
       "      <td>0.257114</td>\n",
       "      <td>0.297665</td>\n",
       "      <td>0.408683</td>\n",
       "      <td>0.417655</td>\n",
       "      <td>0.330733</td>\n",
       "      <td>0.304732</td>\n",
       "    </tr>\n",
       "    <tr>\n",
       "      <th>min</th>\n",
       "      <td>0.000000</td>\n",
       "      <td>0.010000</td>\n",
       "      <td>0.010000</td>\n",
       "      <td>0.000000</td>\n",
       "      <td>0.157100</td>\n",
       "      <td>0.283200</td>\n",
       "      <td>-9998.000000</td>\n",
       "      <td>0.000000</td>\n",
       "      <td>87.060000</td>\n",
       "      <td>0.000000</td>\n",
       "      <td>15.470000</td>\n",
       "      <td>-9998.000000</td>\n",
       "      <td>0.000000</td>\n",
       "      <td>0.000000</td>\n",
       "      <td>0.000000</td>\n",
       "      <td>0.000000</td>\n",
       "      <td>0.000000</td>\n",
       "      <td>0.000000</td>\n",
       "      <td>0.000000</td>\n",
       "      <td>0.000000</td>\n",
       "    </tr>\n",
       "    <tr>\n",
       "      <th>25%</th>\n",
       "      <td>7.530000</td>\n",
       "      <td>10.380000</td>\n",
       "      <td>26.580000</td>\n",
       "      <td>5.000000</td>\n",
       "      <td>0.207300</td>\n",
       "      <td>0.363700</td>\n",
       "      <td>66.000000</td>\n",
       "      <td>0.000000</td>\n",
       "      <td>87.550000</td>\n",
       "      <td>0.000000</td>\n",
       "      <td>19.810000</td>\n",
       "      <td>0.480000</td>\n",
       "      <td>0.000000</td>\n",
       "      <td>0.000000</td>\n",
       "      <td>0.000000</td>\n",
       "      <td>0.000000</td>\n",
       "      <td>0.000000</td>\n",
       "      <td>0.000000</td>\n",
       "      <td>0.000000</td>\n",
       "      <td>0.000000</td>\n",
       "    </tr>\n",
       "    <tr>\n",
       "      <th>50%</th>\n",
       "      <td>14.090000</td>\n",
       "      <td>19.480000</td>\n",
       "      <td>38.090000</td>\n",
       "      <td>11.000000</td>\n",
       "      <td>0.224500</td>\n",
       "      <td>0.400800</td>\n",
       "      <td>82.000000</td>\n",
       "      <td>0.000000</td>\n",
       "      <td>87.680000</td>\n",
       "      <td>3.515000</td>\n",
       "      <td>21.480000</td>\n",
       "      <td>0.710000</td>\n",
       "      <td>0.000000</td>\n",
       "      <td>0.000000</td>\n",
       "      <td>0.000000</td>\n",
       "      <td>0.000000</td>\n",
       "      <td>0.000000</td>\n",
       "      <td>0.000000</td>\n",
       "      <td>0.000000</td>\n",
       "      <td>0.000000</td>\n",
       "    </tr>\n",
       "    <tr>\n",
       "      <th>75%</th>\n",
       "      <td>18.822500</td>\n",
       "      <td>26.260000</td>\n",
       "      <td>56.560000</td>\n",
       "      <td>17.000000</td>\n",
       "      <td>0.262600</td>\n",
       "      <td>0.430900</td>\n",
       "      <td>91.000000</td>\n",
       "      <td>0.000000</td>\n",
       "      <td>87.810000</td>\n",
       "      <td>269.300000</td>\n",
       "      <td>25.050000</td>\n",
       "      <td>1.050000</td>\n",
       "      <td>0.000000</td>\n",
       "      <td>0.000000</td>\n",
       "      <td>0.000000</td>\n",
       "      <td>0.000000</td>\n",
       "      <td>0.000000</td>\n",
       "      <td>0.000000</td>\n",
       "      <td>0.000000</td>\n",
       "      <td>0.000000</td>\n",
       "    </tr>\n",
       "    <tr>\n",
       "      <th>max</th>\n",
       "      <td>140.010000</td>\n",
       "      <td>172.250000</td>\n",
       "      <td>415.160000</td>\n",
       "      <td>23.000000</td>\n",
       "      <td>0.330400</td>\n",
       "      <td>0.548200</td>\n",
       "      <td>100.000000</td>\n",
       "      <td>46.230000</td>\n",
       "      <td>88.200000</td>\n",
       "      <td>1049.080000</td>\n",
       "      <td>33.370000</td>\n",
       "      <td>36.910000</td>\n",
       "      <td>1.000000</td>\n",
       "      <td>1.000000</td>\n",
       "      <td>1.000000</td>\n",
       "      <td>1.000000</td>\n",
       "      <td>1.000000</td>\n",
       "      <td>1.000000</td>\n",
       "      <td>1.000000</td>\n",
       "      <td>1.000000</td>\n",
       "    </tr>\n",
       "  </tbody>\n",
       "</table>\n",
       "</div>"
      ],
      "text/plain": [
       "         PM1(Ug/m3)  PM2.5(Ug/m3)   PM10(Ug/m3)          hour           EVI  \\\n",
       "count  12000.000000  12000.000000  12000.000000  12000.000000  12000.000000   \n",
       "mean      13.540177     18.835673     43.560323     11.496000      0.234250   \n",
       "std        7.964570     10.838085     24.116789      6.921607      0.048602   \n",
       "min        0.000000      0.010000      0.010000      0.000000      0.157100   \n",
       "25%        7.530000     10.380000     26.580000      5.000000      0.207300   \n",
       "50%       14.090000     19.480000     38.090000     11.000000      0.224500   \n",
       "75%       18.822500     26.260000     56.560000     17.000000      0.262600   \n",
       "max      140.010000    172.250000    415.160000     23.000000      0.330400   \n",
       "\n",
       "               NDVI  humidity (%)  precipitation (mm)  pressure (kPa)  \\\n",
       "count  12000.000000  12000.000000        12000.000000    12000.000000   \n",
       "mean       0.409090   -107.744667            0.132941       87.678892   \n",
       "std        0.067086   1357.983267            1.229351        0.182687   \n",
       "min        0.283200  -9998.000000            0.000000       87.060000   \n",
       "25%        0.363700     66.000000            0.000000       87.550000   \n",
       "50%        0.400800     82.000000            0.000000       87.680000   \n",
       "75%        0.430900     91.000000            0.000000       87.810000   \n",
       "max        0.548200    100.000000           46.230000       88.200000   \n",
       "\n",
       "       radiation (W/m2)  temperature (oC)  windspeed (m/s)  winddirection_E  \\\n",
       "count      12000.000000      12000.000000     12000.000000     12000.000000   \n",
       "mean         154.812255         22.495915      -105.679550         0.102583   \n",
       "std          229.215247          3.442575      1027.211358         0.303427   \n",
       "min            0.000000         15.470000     -9998.000000         0.000000   \n",
       "25%            0.000000         19.810000         0.480000         0.000000   \n",
       "50%            3.515000         21.480000         0.710000         0.000000   \n",
       "75%          269.300000         25.050000         1.050000         0.000000   \n",
       "max         1049.080000         33.370000        36.910000         1.000000   \n",
       "\n",
       "       winddirection_N  winddirection_NE  winddirection_NW  winddirection_S  \\\n",
       "count     12000.000000      12000.000000      12000.000000     12000.000000   \n",
       "mean          0.062417          0.071167          0.098250         0.211917   \n",
       "std           0.241921          0.257114          0.297665         0.408683   \n",
       "min           0.000000          0.000000          0.000000         0.000000   \n",
       "25%           0.000000          0.000000          0.000000         0.000000   \n",
       "50%           0.000000          0.000000          0.000000         0.000000   \n",
       "75%           0.000000          0.000000          0.000000         0.000000   \n",
       "max           1.000000          1.000000          1.000000         1.000000   \n",
       "\n",
       "       winddirection_SE  winddirection_SW  winddirection_W  \n",
       "count      12000.000000      12000.000000     12000.000000  \n",
       "mean           0.225083          0.125000         0.103583  \n",
       "std            0.417655          0.330733         0.304732  \n",
       "min            0.000000          0.000000         0.000000  \n",
       "25%            0.000000          0.000000         0.000000  \n",
       "50%            0.000000          0.000000         0.000000  \n",
       "75%            0.000000          0.000000         0.000000  \n",
       "max            1.000000          1.000000         1.000000  "
      ]
     },
     "execution_count": 11,
     "metadata": {},
     "output_type": "execute_result"
    }
   ],
   "source": [
    "airquality_data.describe()"
   ]
  },
  {
   "cell_type": "markdown",
   "metadata": {
    "colab_type": "text",
    "id": "_QqtVZw7Sb3i"
   },
   "source": [
    "### Separate Features From the Target"
   ]
  },
  {
   "cell_type": "code",
   "execution_count": 12,
   "metadata": {},
   "outputs": [],
   "source": [
    "#target_column = 'PM2.5(Ug/m3)'\n",
    "#feature_columns = [x for x in airquality_data.columns if x != target_column]\n",
    "feature_columns = [0,2, 3,4,5,6,8,9,10,11,12,13,14,15,16,17,18,19]\n",
    "target_column = [1]\n",
    "features = airquality_data.iloc[:,feature_columns]\n",
    "targets = airquality_data.iloc[:,target_column]"
   ]
  },
  {
   "cell_type": "code",
   "execution_count": 13,
   "metadata": {},
   "outputs": [
    {
     "data": {
      "text/html": [
       "<div>\n",
       "<style scoped>\n",
       "    .dataframe tbody tr th:only-of-type {\n",
       "        vertical-align: middle;\n",
       "    }\n",
       "\n",
       "    .dataframe tbody tr th {\n",
       "        vertical-align: top;\n",
       "    }\n",
       "\n",
       "    .dataframe thead th {\n",
       "        text-align: right;\n",
       "    }\n",
       "</style>\n",
       "<table border=\"1\" class=\"dataframe\">\n",
       "  <thead>\n",
       "    <tr style=\"text-align: right;\">\n",
       "      <th></th>\n",
       "      <th>PM1(Ug/m3)</th>\n",
       "      <th>PM10(Ug/m3)</th>\n",
       "      <th>hour</th>\n",
       "      <th>EVI</th>\n",
       "      <th>NDVI</th>\n",
       "      <th>humidity (%)</th>\n",
       "      <th>pressure (kPa)</th>\n",
       "      <th>radiation (W/m2)</th>\n",
       "      <th>temperature (oC)</th>\n",
       "      <th>windspeed (m/s)</th>\n",
       "      <th>winddirection_E</th>\n",
       "      <th>winddirection_N</th>\n",
       "      <th>winddirection_NE</th>\n",
       "      <th>winddirection_NW</th>\n",
       "      <th>winddirection_S</th>\n",
       "      <th>winddirection_SE</th>\n",
       "      <th>winddirection_SW</th>\n",
       "      <th>winddirection_W</th>\n",
       "    </tr>\n",
       "    <tr>\n",
       "      <th>TimeStamp</th>\n",
       "      <th></th>\n",
       "      <th></th>\n",
       "      <th></th>\n",
       "      <th></th>\n",
       "      <th></th>\n",
       "      <th></th>\n",
       "      <th></th>\n",
       "      <th></th>\n",
       "      <th></th>\n",
       "      <th></th>\n",
       "      <th></th>\n",
       "      <th></th>\n",
       "      <th></th>\n",
       "      <th></th>\n",
       "      <th></th>\n",
       "      <th></th>\n",
       "      <th></th>\n",
       "      <th></th>\n",
       "    </tr>\n",
       "  </thead>\n",
       "  <tbody>\n",
       "    <tr>\n",
       "      <th>2017-09-09 18:00:00</th>\n",
       "      <td>11.27</td>\n",
       "      <td>40.13</td>\n",
       "      <td>18</td>\n",
       "      <td>0.2245</td>\n",
       "      <td>0.3999</td>\n",
       "      <td>73</td>\n",
       "      <td>87.50</td>\n",
       "      <td>0.9</td>\n",
       "      <td>23.27</td>\n",
       "      <td>0.44</td>\n",
       "      <td>0</td>\n",
       "      <td>0</td>\n",
       "      <td>0</td>\n",
       "      <td>0</td>\n",
       "      <td>0</td>\n",
       "      <td>1</td>\n",
       "      <td>0</td>\n",
       "      <td>0</td>\n",
       "    </tr>\n",
       "    <tr>\n",
       "      <th>2017-09-09 19:00:00</th>\n",
       "      <td>14.87</td>\n",
       "      <td>54.50</td>\n",
       "      <td>19</td>\n",
       "      <td>0.2245</td>\n",
       "      <td>0.3999</td>\n",
       "      <td>77</td>\n",
       "      <td>87.58</td>\n",
       "      <td>0.0</td>\n",
       "      <td>22.72</td>\n",
       "      <td>0.38</td>\n",
       "      <td>0</td>\n",
       "      <td>0</td>\n",
       "      <td>1</td>\n",
       "      <td>0</td>\n",
       "      <td>0</td>\n",
       "      <td>0</td>\n",
       "      <td>0</td>\n",
       "      <td>0</td>\n",
       "    </tr>\n",
       "    <tr>\n",
       "      <th>2017-09-09 20:00:00</th>\n",
       "      <td>20.77</td>\n",
       "      <td>70.89</td>\n",
       "      <td>20</td>\n",
       "      <td>0.2245</td>\n",
       "      <td>0.3999</td>\n",
       "      <td>80</td>\n",
       "      <td>87.67</td>\n",
       "      <td>0.0</td>\n",
       "      <td>22.29</td>\n",
       "      <td>0.37</td>\n",
       "      <td>0</td>\n",
       "      <td>0</td>\n",
       "      <td>0</td>\n",
       "      <td>0</td>\n",
       "      <td>0</td>\n",
       "      <td>1</td>\n",
       "      <td>0</td>\n",
       "      <td>0</td>\n",
       "    </tr>\n",
       "    <tr>\n",
       "      <th>2017-09-09 21:00:00</th>\n",
       "      <td>22.54</td>\n",
       "      <td>81.10</td>\n",
       "      <td>21</td>\n",
       "      <td>0.2245</td>\n",
       "      <td>0.3999</td>\n",
       "      <td>82</td>\n",
       "      <td>87.66</td>\n",
       "      <td>0.0</td>\n",
       "      <td>21.71</td>\n",
       "      <td>0.34</td>\n",
       "      <td>0</td>\n",
       "      <td>1</td>\n",
       "      <td>0</td>\n",
       "      <td>0</td>\n",
       "      <td>0</td>\n",
       "      <td>0</td>\n",
       "      <td>0</td>\n",
       "      <td>0</td>\n",
       "    </tr>\n",
       "    <tr>\n",
       "      <th>2017-09-09 22:00:00</th>\n",
       "      <td>22.37</td>\n",
       "      <td>78.94</td>\n",
       "      <td>22</td>\n",
       "      <td>0.2245</td>\n",
       "      <td>0.3999</td>\n",
       "      <td>87</td>\n",
       "      <td>87.68</td>\n",
       "      <td>0.0</td>\n",
       "      <td>20.86</td>\n",
       "      <td>0.29</td>\n",
       "      <td>0</td>\n",
       "      <td>0</td>\n",
       "      <td>1</td>\n",
       "      <td>0</td>\n",
       "      <td>0</td>\n",
       "      <td>0</td>\n",
       "      <td>0</td>\n",
       "      <td>0</td>\n",
       "    </tr>\n",
       "  </tbody>\n",
       "</table>\n",
       "</div>"
      ],
      "text/plain": [
       "                     PM1(Ug/m3)  PM10(Ug/m3)  hour     EVI    NDVI  \\\n",
       "TimeStamp                                                            \n",
       "2017-09-09 18:00:00       11.27        40.13    18  0.2245  0.3999   \n",
       "2017-09-09 19:00:00       14.87        54.50    19  0.2245  0.3999   \n",
       "2017-09-09 20:00:00       20.77        70.89    20  0.2245  0.3999   \n",
       "2017-09-09 21:00:00       22.54        81.10    21  0.2245  0.3999   \n",
       "2017-09-09 22:00:00       22.37        78.94    22  0.2245  0.3999   \n",
       "\n",
       "                     humidity (%)  pressure (kPa)  radiation (W/m2)  \\\n",
       "TimeStamp                                                             \n",
       "2017-09-09 18:00:00            73           87.50               0.9   \n",
       "2017-09-09 19:00:00            77           87.58               0.0   \n",
       "2017-09-09 20:00:00            80           87.67               0.0   \n",
       "2017-09-09 21:00:00            82           87.66               0.0   \n",
       "2017-09-09 22:00:00            87           87.68               0.0   \n",
       "\n",
       "                     temperature (oC)  windspeed (m/s)  winddirection_E  \\\n",
       "TimeStamp                                                                 \n",
       "2017-09-09 18:00:00             23.27             0.44                0   \n",
       "2017-09-09 19:00:00             22.72             0.38                0   \n",
       "2017-09-09 20:00:00             22.29             0.37                0   \n",
       "2017-09-09 21:00:00             21.71             0.34                0   \n",
       "2017-09-09 22:00:00             20.86             0.29                0   \n",
       "\n",
       "                     winddirection_N  winddirection_NE  winddirection_NW  \\\n",
       "TimeStamp                                                                  \n",
       "2017-09-09 18:00:00                0                 0                 0   \n",
       "2017-09-09 19:00:00                0                 1                 0   \n",
       "2017-09-09 20:00:00                0                 0                 0   \n",
       "2017-09-09 21:00:00                1                 0                 0   \n",
       "2017-09-09 22:00:00                0                 1                 0   \n",
       "\n",
       "                     winddirection_S  winddirection_SE  winddirection_SW  \\\n",
       "TimeStamp                                                                  \n",
       "2017-09-09 18:00:00                0                 1                 0   \n",
       "2017-09-09 19:00:00                0                 0                 0   \n",
       "2017-09-09 20:00:00                0                 1                 0   \n",
       "2017-09-09 21:00:00                0                 0                 0   \n",
       "2017-09-09 22:00:00                0                 0                 0   \n",
       "\n",
       "                     winddirection_W  \n",
       "TimeStamp                             \n",
       "2017-09-09 18:00:00                0  \n",
       "2017-09-09 19:00:00                0  \n",
       "2017-09-09 20:00:00                0  \n",
       "2017-09-09 21:00:00                0  \n",
       "2017-09-09 22:00:00                0  "
      ]
     },
     "execution_count": 13,
     "metadata": {},
     "output_type": "execute_result"
    }
   ],
   "source": [
    "features.head()"
   ]
  },
  {
   "cell_type": "code",
   "execution_count": 14,
   "metadata": {},
   "outputs": [
    {
     "data": {
      "text/html": [
       "<div>\n",
       "<style scoped>\n",
       "    .dataframe tbody tr th:only-of-type {\n",
       "        vertical-align: middle;\n",
       "    }\n",
       "\n",
       "    .dataframe tbody tr th {\n",
       "        vertical-align: top;\n",
       "    }\n",
       "\n",
       "    .dataframe thead th {\n",
       "        text-align: right;\n",
       "    }\n",
       "</style>\n",
       "<table border=\"1\" class=\"dataframe\">\n",
       "  <thead>\n",
       "    <tr style=\"text-align: right;\">\n",
       "      <th></th>\n",
       "      <th>PM2.5(Ug/m3)</th>\n",
       "    </tr>\n",
       "    <tr>\n",
       "      <th>TimeStamp</th>\n",
       "      <th></th>\n",
       "    </tr>\n",
       "  </thead>\n",
       "  <tbody>\n",
       "    <tr>\n",
       "      <th>2017-09-09 18:00:00</th>\n",
       "      <td>15.52</td>\n",
       "    </tr>\n",
       "    <tr>\n",
       "      <th>2017-09-09 19:00:00</th>\n",
       "      <td>20.51</td>\n",
       "    </tr>\n",
       "    <tr>\n",
       "      <th>2017-09-09 20:00:00</th>\n",
       "      <td>29.18</td>\n",
       "    </tr>\n",
       "    <tr>\n",
       "      <th>2017-09-09 21:00:00</th>\n",
       "      <td>31.99</td>\n",
       "    </tr>\n",
       "    <tr>\n",
       "      <th>2017-09-09 22:00:00</th>\n",
       "      <td>31.85</td>\n",
       "    </tr>\n",
       "  </tbody>\n",
       "</table>\n",
       "</div>"
      ],
      "text/plain": [
       "                     PM2.5(Ug/m3)\n",
       "TimeStamp                        \n",
       "2017-09-09 18:00:00         15.52\n",
       "2017-09-09 19:00:00         20.51\n",
       "2017-09-09 20:00:00         29.18\n",
       "2017-09-09 21:00:00         31.99\n",
       "2017-09-09 22:00:00         31.85"
      ]
     },
     "execution_count": 14,
     "metadata": {},
     "output_type": "execute_result"
    }
   ],
   "source": [
    "targets.head()"
   ]
  },
  {
   "cell_type": "markdown",
   "metadata": {
    "colab_type": "text",
    "id": "LvOH8t25Sb4E"
   },
   "source": [
    "\n",
    "### separate test dataset from training dataset and validation dataset\n",
    "- separate data on 70/10/20 training/validation/testing\n"
   ]
  },
  {
   "cell_type": "code",
   "execution_count": 15,
   "metadata": {},
   "outputs": [
    {
     "name": "stdout",
     "output_type": "stream",
     "text": [
      "12000\n",
      "8400\n",
      "1200\n",
      "2400\n",
      "12000\n"
     ]
    }
   ],
   "source": [
    "training_data = len(airquality_data)\n",
    "print(training_data)\n",
    "\n",
    "training_data_length = math.floor(len(airquality_data)* 0.7)\n",
    "print(training_data_length)\n",
    "\n",
    "validation_data_length = math.floor(len(airquality_data)*0.1)\n",
    "print(validation_data_length)\n",
    "\n",
    "testing_data_length = math.floor(len(airquality_data)* 0.2)\n",
    "print(testing_data_length)\n",
    "\n",
    "print(str(training_data_length + validation_data_length + testing_data_length ))"
   ]
  },
  {
   "cell_type": "code",
   "execution_count": null,
   "metadata": {},
   "outputs": [],
   "source": []
  },
  {
   "cell_type": "code",
   "execution_count": 16,
   "metadata": {
    "colab": {
     "base_uri": "https://localhost:8080/",
     "height": 87
    },
    "colab_type": "code",
    "id": "yiqwv889Sb4E",
    "outputId": "38629036-60c7-4862-d0f2-b69b4cf3b32f"
   },
   "outputs": [
    {
     "name": "stdout",
     "output_type": "stream",
     "text": [
      "(8400, 18)\n",
      "(8400, 1)\n",
      "(1200, 18)\n",
      "(1200, 1)\n",
      "(2400, 18)\n",
      "(2400, 1)\n"
     ]
    }
   ],
   "source": [
    "training_features = features.iloc[0:training_data_length,:]\n",
    "print(training_features.shape)\n",
    "training_targets =  targets.iloc[0:training_data_length,:]\n",
    "print(training_targets.shape)\n",
    "\n",
    "validation_features = features.iloc[training_data_length:training_data_length+validation_data_length,:]\n",
    "print(validation_features.shape)\n",
    "validation_targets =  targets.iloc[training_data_length:training_data_length+validation_data_length,:]\n",
    "print(validation_targets.shape)\n",
    "\n",
    "testing_features = features.iloc[training_data_length+validation_data_length: training_data_length+validation_data_length+testing_data_length,:]\n",
    "print(testing_features.shape)\n",
    "\n",
    "testing_targets = targets.iloc[training_data_length+validation_data_length: training_data_length+validation_data_length+testing_data_length,:]\n",
    "print(testing_targets.shape)"
   ]
  },
  {
   "cell_type": "markdown",
   "metadata": {
    "colab_type": "text",
    "id": "qchOsoA0Sb3A"
   },
   "source": [
    "### Preprocess the data to a format a neural network can ingest.\n",
    "- Normalising/Scaling data using minmax scaler in sklearn preprocessing for each dataset separately\n",
    "- Generationg sequential data from the recent past (3hrs), along with a target pm2.5 value in the future (next day)  for the\n",
    "  * training dataset\n",
    "  * validation dataset\n",
    "  * test dataset"
   ]
  },
  {
   "cell_type": "markdown",
   "metadata": {},
   "source": [
    "### given data that goes back 3hrs, can we predict the next hour."
   ]
  },
  {
   "cell_type": "markdown",
   "metadata": {},
   "source": [
    "### training dataset"
   ]
  },
  {
   "cell_type": "code",
   "execution_count": 17,
   "metadata": {
    "colab": {},
    "colab_type": "code",
    "id": "eJF-bFjySb4H"
   },
   "outputs": [
    {
     "name": "stdout",
     "output_type": "stream",
     "text": [
      "[[0.08049425 0.09663977 0.7826087  ... 1.         0.         0.        ]\n",
      " [0.1062067  0.13125376 0.82608696 ... 0.         0.         0.        ]\n",
      " [0.14834655 0.17073347 0.86956522 ... 1.         0.         0.        ]\n",
      " ...\n",
      " [0.05035355 0.08813682 0.69565217 ... 1.         0.         0.        ]\n",
      " [0.0584244  0.07235939 0.73913043 ... 0.         0.         0.        ]\n",
      " [0.08049425 0.09663977 0.7826087  ... 0.         0.         0.        ]]\n",
      "(8400, 18)\n",
      "trainging target shape:  (8400, 1)\n",
      "(8397,)\n",
      "(8397, 3, 18)\n",
      "3\n"
     ]
    },
    {
     "name": "stderr",
     "output_type": "stream",
     "text": [
      "C:\\Users\\DELL\\Anaconda3\\envs\\airquality_prediction\\lib\\site-packages\\sklearn\\preprocessing\\data.py:323: DataConversionWarning: Data with input dtype int64, float64 were all converted to float64 by MinMaxScaler.\n",
      "  return self.partial_fit(X, y)\n"
     ]
    }
   ],
   "source": [
    "scaler = MinMaxScaler()\n",
    "scaled_training_features = scaler.fit_transform(training_features)\n",
    "print(scaled_training_features)\n",
    "print(scaled_training_features.shape)\n",
    "\n",
    "training_targets =  np.array(training_targets)\n",
    "training_targets = training_targets.reshape(-1,1)\n",
    "print('trainging target shape: ', training_targets.shape)\n",
    "\n",
    "##given data that goes back 3hrs, can we predict the next hour.\n",
    "forecasters = [] \n",
    "pollution_real = [] \n",
    "for i in range(3, scaled_training_features.shape[0]):\n",
    "    forecasters.append(scaled_training_features[i-3:i, 0:18])\n",
    "    pollution_real.append(training_targets[i, 0])\n",
    "    \n",
    "forecasters, pollution_real = np.array(forecasters), np.array(pollution_real)\n",
    "\n",
    "print(pollution_real.shape)\n",
    "print(forecasters.shape)\n",
    "print(forecasters.shape[1])"
   ]
  },
  {
   "cell_type": "markdown",
   "metadata": {},
   "source": [
    "### validation dataset"
   ]
  },
  {
   "cell_type": "code",
   "execution_count": 18,
   "metadata": {},
   "outputs": [
    {
     "name": "stdout",
     "output_type": "stream",
     "text": [
      "[[0.54612403 0.54593121 0.82608696 ... 1.         0.         0.        ]\n",
      " [0.7748062  0.71780621 0.86956522 ... 0.         1.         0.        ]\n",
      " [0.84341085 0.82487416 0.91304348 ... 0.         0.         0.        ]\n",
      " ...\n",
      " [0.47015504 0.31061242 0.69565217 ... 1.         0.         0.        ]\n",
      " [0.30968992 0.27286074 0.73913043 ... 1.         0.         0.        ]\n",
      " [0.40658915 0.39523909 0.7826087  ... 1.         0.         0.        ]]\n",
      "(1200, 1)\n",
      "(1197, 3, 18)\n",
      "(1197,)\n"
     ]
    },
    {
     "name": "stderr",
     "output_type": "stream",
     "text": [
      "C:\\Users\\DELL\\Anaconda3\\envs\\airquality_prediction\\lib\\site-packages\\sklearn\\preprocessing\\data.py:323: DataConversionWarning: Data with input dtype int64, float64 were all converted to float64 by MinMaxScaler.\n",
      "  return self.partial_fit(X, y)\n"
     ]
    }
   ],
   "source": [
    "scaled_validation_features = scaler.fit_transform(validation_features)\n",
    "print(scaled_validation_features)\n",
    "forecasters_validation = [] \n",
    "pollution_real_validation = [] \n",
    "\n",
    "validation_targets =  np.array(validation_targets)\n",
    "validation_targets= validation_targets.reshape(-1,1)\n",
    "print(validation_targets.shape)\n",
    "\n",
    "for i in range(3, scaled_validation_features.shape[0]):\n",
    "    forecasters_validation.append(scaled_validation_features[i-3:i, 0:18])\n",
    "    pollution_real_validation.append(validation_targets[i, 0])\n",
    "    \n",
    "forecasters_validation, pollution_real_validation = np.array(forecasters_validation), np.array(pollution_real_validation)\n",
    "#baseline_prediction_validation_values, baseline_actual_validation_values = np.array(baseline_prediction_validation_values),\n",
    "#np.array(baseline_actual_validation_values)\n",
    "print(forecasters_validation.shape)\n",
    "print(pollution_real_validation.shape)"
   ]
  },
  {
   "cell_type": "markdown",
   "metadata": {},
   "source": [
    "### Testing dataset"
   ]
  },
  {
   "cell_type": "code",
   "execution_count": 19,
   "metadata": {
    "scrolled": true
   },
   "outputs": [
    {
     "name": "stdout",
     "output_type": "stream",
     "text": [
      "[[0.41256831 0.40527963 0.82608696 ... 1.         0.         0.        ]\n",
      " [0.59168185 0.5367889  0.86956522 ... 1.         0.         0.        ]\n",
      " [0.64541591 0.61871139 0.91304348 ... 1.         0.         0.        ]\n",
      " ...\n",
      " [0.0564663  0.06780069 0.69565217 ... 0.         0.         0.        ]\n",
      " [0.07103825 0.07277542 0.73913043 ... 0.         0.         0.        ]\n",
      " [0.05039466 0.06082003 0.7826087  ... 0.         0.         0.        ]]\n",
      "Testing Y values shape:  (2400,)\n",
      "Testing targets shape:  (2400, 1)\n",
      "(2397, 3, 18)\n",
      "(2397,)\n"
     ]
    },
    {
     "name": "stderr",
     "output_type": "stream",
     "text": [
      "C:\\Users\\DELL\\Anaconda3\\envs\\airquality_prediction\\lib\\site-packages\\sklearn\\preprocessing\\data.py:323: DataConversionWarning: Data with input dtype int64, float64 were all converted to float64 by MinMaxScaler.\n",
      "  return self.partial_fit(X, y)\n"
     ]
    }
   ],
   "source": [
    "scaled_testing_features = scaler.fit_transform(testing_features)\n",
    "print(scaled_testing_features)\n",
    "forecasters_test = [] \n",
    "pollution_real_test = [] \n",
    "\n",
    "testing_targets =  np.array(testing_targets)\n",
    "testing_y_values = testing_targets\n",
    "testing_targets = testing_targets.reshape(-1,1)\n",
    "print('Testing Y values shape: ',testing_y_values.ravel().shape)\n",
    "print('Testing targets shape: ',testing_targets.shape)\n",
    "\n",
    "for i in range(3, scaled_testing_features.shape[0]):\n",
    "    forecasters_test.append(scaled_testing_features[i-3:i, 0:18])\n",
    "    pollution_real_test.append(testing_targets[i, 0])\n",
    "    \n",
    "forecasters_test, pollution_real_test = np.array(forecasters_test), np.array(pollution_real_test)\n",
    "\n",
    "print(forecasters_test.shape)\n",
    "print(pollution_real_test.shape)"
   ]
  },
  {
   "cell_type": "markdown",
   "metadata": {},
   "source": [
    "### Building Baseline Model\n",
    "- for Baseline, we predict the average pm2.5 and check the RMSE on validation data. Any model, should be able to beat this simple benchmark\n",
    "- The airquality(pm25) timeseries are continuous (the pm25 conncentration in the next hour are likely to be close to the pm25 concentration at the current hour).\n",
    "- Thus a common sense approach would be to always predict that the pm25 concentrations right now  will be equal to the pm25 concentration 1hr hour ago. Let's evaluate this approach, using the Mean Absolute Error metric (MAE). Mean Absolute Error is simply equal to: np.mean(np.abs(preds - targets))"
   ]
  },
  {
   "cell_type": "code",
   "execution_count": 20,
   "metadata": {},
   "outputs": [
    {
     "name": "stdout",
     "output_type": "stream",
     "text": [
      "3.50945652173913\n"
     ]
    }
   ],
   "source": [
    "def evaluate_naive_method():\n",
    "    baseline_prediction_validation_values = []\n",
    "    baseline_actual_validation_values = []\n",
    "    \n",
    "    #3 is the number of timesteps back.\n",
    "    for i in range(3, scaled_validation_features.shape[0]):\n",
    "        if i != 3:\n",
    "            baseline_prediction_validation_values.append(validation_targets[i-1, 0])\n",
    "            baseline_actual_validation_values.append(validation_targets[i, 0])\n",
    "\n",
    "    baseline_prediction_validation_values = np.array(baseline_prediction_validation_values)\n",
    "    baseline_actual_validation_values = np.array(baseline_actual_validation_values)\n",
    "\n",
    "    baseline_maes = []\n",
    "    baseline_rmses = []\n",
    "    \n",
    "    for i in range(0,len(baseline_prediction_validation_values)):\n",
    "        mae = np.mean(np.abs(baseline_prediction_validation_values[i] - baseline_actual_validation_values[i]))\n",
    "        baseline_maes.append(mae)\n",
    "    \n",
    "    print(np.mean(baseline_maes))\n",
    "    \n",
    "evaluate_naive_method()\n",
    "\n",
    "def calculate_rmse(actual_values,predictions):\n",
    "    mse= mean_squared_error(actual_values, predictions)\n",
    "    rmse = np.sqrt(mse)\n",
    "    return rmse\n",
    "\n",
    "#def rmse(ytrue, ypredicted):\n",
    "    #return np.sqrt(mean_squared_error(ytrue, ypredicted))\n",
    "\n",
    "#calculate_rmse(baseline_actual_validation_values, baseline_prediction_validation_values)"
   ]
  },
  {
   "cell_type": "code",
   "execution_count": 21,
   "metadata": {},
   "outputs": [
    {
     "data": {
      "text/plain": [
       "(1200, 18)"
      ]
     },
     "execution_count": 21,
     "metadata": {},
     "output_type": "execute_result"
    }
   ],
   "source": [
    "validation_features.shape"
   ]
  },
  {
   "cell_type": "raw",
   "metadata": {},
   "source": [
    "print(baseline_actual_validation_values[0:10])\n",
    "print(baseline_prediction_validation_values[0:10])"
   ]
  },
  {
   "cell_type": "raw",
   "metadata": {},
   "source": [
    "print(baseline_prediction_validation_values.shape)\n",
    "#scaled_validation_features.shape[0]\n",
    "print(baseline_actual_validation_values.shape)"
   ]
  },
  {
   "cell_type": "markdown",
   "metadata": {},
   "source": [
    "### SUPPORT VECTOR REGRESSION APPROACH\n",
    "- Training and evaluation on support vector regression approach"
   ]
  },
  {
   "cell_type": "code",
   "execution_count": 22,
   "metadata": {},
   "outputs": [
    {
     "name": "stderr",
     "output_type": "stream",
     "text": [
      "C:\\Users\\DELL\\Anaconda3\\envs\\airquality_prediction\\lib\\site-packages\\sklearn\\svm\\base.py:196: FutureWarning: The default value of gamma will change from 'auto' to 'scale' in version 0.22 to account better for unscaled features. Set gamma explicitly to 'auto' or 'scale' to avoid this warning.\n",
      "  \"avoid this warning.\", FutureWarning)\n"
     ]
    },
    {
     "name": "stdout",
     "output_type": "stream",
     "text": [
      "[ 76.60918701 107.96292788 117.88683464 ...  10.67400821  13.25088726\n",
      "   9.86735528]\n"
     ]
    }
   ],
   "source": [
    "from sklearn.svm import SVR\n",
    "svr = SVR(kernel='rbf', degree=3, C=100, epsilon=0.1)\n",
    "# fit the model by fitting the SVM regressor to the training data\n",
    "svr.fit(scaled_training_features, training_targets.ravel())\n",
    "svr_predictions = svr.predict(scaled_testing_features)\n",
    "print(svr_predictions)"
   ]
  },
  {
   "cell_type": "code",
   "execution_count": 23,
   "metadata": {},
   "outputs": [
    {
     "name": "stdout",
     "output_type": "stream",
     "text": [
      "SVR MAE:  51.68\n",
      "SVR RMSE:  58.48\n"
     ]
    }
   ],
   "source": [
    "svr_mae = mean_absolute_error(testing_targets, svr_predictions)\n",
    "print('SVR MAE: ', svr_mae.round(2))\n",
    "svr_rmse = calculate_rmse(testing_targets, svr_predictions)\n",
    "print('SVR RMSE: ', svr_rmse.round(2))\n",
    "svr_prediction_vs_actual_dataframe = pd.DataFrame({'Actual PM2.5': testing_targets.ravel(), 'Predicted PM2.5':svr_predictions}) \n",
    "svr_prediction_vs_actual_dataframe\n",
    "\n",
    "## save predictions by svr\n",
    "svr_prediction_vs_actual_dataframe.to_csv(os.path.join(filepath , 'svr_predictions.csv'))"
   ]
  },
  {
   "cell_type": "markdown",
   "metadata": {},
   "source": [
    "### BASIC LSTM MODOEL\n",
    "- Training and evaluating on basic lstm model with one layer"
   ]
  },
  {
   "cell_type": "code",
   "execution_count": null,
   "metadata": {},
   "outputs": [],
   "source": []
  },
  {
   "cell_type": "code",
   "execution_count": 46,
   "metadata": {},
   "outputs": [
    {
     "name": "stdout",
     "output_type": "stream",
     "text": [
      "Train on 8397 samples, validate on 1197 samples\n",
      "Epoch 1/10\n",
      "8397/8397 [==============================] - 5s 543us/step - loss: 234.6503 - mean_absolute_error: 11.5214 - rmse: 14.5707 - val_loss: 116.2526 - val_mean_absolute_error: 9.4790 - val_rmse: 10.7444\n",
      "Epoch 2/10\n",
      "8397/8397 [==============================] - 1s 165us/step - loss: 131.4045 - mean_absolute_error: 8.6601 - rmse: 11.0348 - val_loss: 104.7502 - val_mean_absolute_error: 8.8615 - val_rmse: 10.1660\n",
      "Epoch 3/10\n",
      "8397/8397 [==============================] - 1s 161us/step - loss: 127.5627 - mean_absolute_error: 8.5501 - rmse: 10.8827 - val_loss: 102.6647 - val_mean_absolute_error: 8.6977 - val_rmse: 10.0567\n",
      "Epoch 4/10\n",
      "8397/8397 [==============================] - 1s 162us/step - loss: 105.3506 - mean_absolute_error: 7.1747 - rmse: 9.7009 - val_loss: 62.2202 - val_mean_absolute_error: 6.4166 - val_rmse: 7.8261\n",
      "Epoch 5/10\n",
      "8397/8397 [==============================] - 1s 171us/step - loss: 79.2296 - mean_absolute_error: 5.6982 - rmse: 8.2916 - val_loss: 68.7206 - val_mean_absolute_error: 6.8323 - val_rmse: 8.1964\n",
      "Epoch 6/10\n",
      "8397/8397 [==============================] - 1s 169us/step - loss: 71.4519 - mean_absolute_error: 5.2360 - rmse: 7.7880 - val_loss: 83.8529 - val_mean_absolute_error: 7.3104 - val_rmse: 9.0585\n",
      "Epoch 7/10\n",
      "8397/8397 [==============================] - 2s 185us/step - loss: 67.4789 - mean_absolute_error: 4.9956 - rmse: 7.5439 - val_loss: 91.9063 - val_mean_absolute_error: 7.3582 - val_rmse: 9.4963\n",
      "Epoch 8/10\n",
      "8397/8397 [==============================] - 2s 185us/step - loss: 64.7004 - mean_absolute_error: 4.8261 - rmse: 7.4022 - val_loss: 101.9477 - val_mean_absolute_error: 7.6259 - val_rmse: 10.0164\n",
      "Epoch 9/10\n",
      "8397/8397 [==============================] - 1s 167us/step - loss: 62.6641 - mean_absolute_error: 4.6980 - rmse: 7.2404 - val_loss: 127.2638 - val_mean_absolute_error: 8.8189 - val_rmse: 11.2010\n",
      "Epoch 10/10\n",
      "8397/8397 [==============================] - 1s 163us/step - loss: 60.5246 - mean_absolute_error: 4.5579 - rmse: 7.0835 - val_loss: 141.9454 - val_mean_absolute_error: 9.6845 - val_rmse: 11.8408\n"
     ]
    }
   ],
   "source": [
    "from tensorflow.keras.models import Sequential\n",
    "from tensorflow.keras.layers import Dense, LSTM\n",
    "from tensorflow.keras.optimizers import RMSprop\n",
    "from tensorflow.keras import backend\n",
    " \n",
    "\n",
    "def rmse(y_true, y_pred):\n",
    "    return backend.sqrt(backend.mean(backend.square(y_pred - y_true)))\n",
    "\n",
    "def root_mean_squared_error(y_true, y_pred):\n",
    "        return backend.sqrt(backend.mean(backend.square(y_pred - y_true)))\n",
    "\n",
    "model = Sequential()\n",
    "model.add(LSTM(32, input_shape = (forecasters.shape[1],18)))\n",
    "model.add(Dense(1))\n",
    "\n",
    "model.compile(optimizer='adam', loss='mse', metrics = ['mean_absolute_error', rmse])\n",
    "basic_model_history = model.fit(forecasters, pollution_real, epochs=10, validation_data=(forecasters_validation,pollution_real_validation))"
   ]
  },
  {
   "cell_type": "code",
   "execution_count": 25,
   "metadata": {},
   "outputs": [
    {
     "name": "stdout",
     "output_type": "stream",
     "text": [
      "_________________________________________________________________\n",
      "Layer (type)                 Output Shape              Param #   \n",
      "=================================================================\n",
      "lstm (LSTM)                  (None, 32)                6528      \n",
      "_________________________________________________________________\n",
      "dense (Dense)                (None, 1)                 33        \n",
      "=================================================================\n",
      "Total params: 6,561\n",
      "Trainable params: 6,561\n",
      "Non-trainable params: 0\n",
      "_________________________________________________________________\n"
     ]
    }
   ],
   "source": [
    "model.summary()"
   ]
  },
  {
   "cell_type": "code",
   "execution_count": 26,
   "metadata": {
    "scrolled": true
   },
   "outputs": [
    {
     "data": {
      "image/png": "[encoded data removed]",
      "text/plain": [
       "<Figure size 864x432 with 1 Axes>"
      ]
     },
     "metadata": {
      "needs_background": "light"
     },
     "output_type": "display_data"
    }
   ],
   "source": [
    "loss = basic_model_history.history['loss']\n",
    "val_loss = basic_model_history.history['val_loss']\n",
    "\n",
    "epochs = range(len(loss))\n",
    "\n",
    "fig = plt.figure(figsize=(12,6))\n",
    "ax = fig.add_subplot(111)\n",
    "\n",
    "plt.plot(epochs, loss, 'bo', label='Training loss')\n",
    "plt.plot(epochs, val_loss, 'r', label='Validation loss')\n",
    "plt.title('Training and validation loss')\n",
    "plt.xlabel('Epochs')\n",
    "plt.ylabel('Loss')\n",
    "plt.legend()\n",
    "plt.show()\n",
    "\n",
    "fig.savefig(os.path.join(filepath, 'basic_model_history_training_validation_loss.png'))"
   ]
  },
  {
   "cell_type": "code",
   "execution_count": 27,
   "metadata": {},
   "outputs": [
    {
     "name": "stdout",
     "output_type": "stream",
     "text": [
      "3\n"
     ]
    }
   ],
   "source": [
    "print(np.argmin(val_loss))\n",
    "#val_loss[70]"
   ]
  },
  {
   "cell_type": "code",
   "execution_count": 28,
   "metadata": {},
   "outputs": [
    {
     "data": {
      "image/png": "[encoded data removed]",
      "text/plain": [
       "<Figure size 864x432 with 1 Axes>"
      ]
     },
     "metadata": {
      "needs_background": "light"
     },
     "output_type": "display_data"
    }
   ],
   "source": [
    "hist_rmse = basic_model_history.history['rmse']\n",
    "val_rmse = basic_model_history.history['val_rmse']\n",
    "epochs = range(len(hist_rmse))\n",
    "\n",
    "fig_rmse = plt.figure(figsize=(12,6))\n",
    "ax_rmse= fig_rmse.add_subplot(111)\n",
    "\n",
    "plt.plot(epochs, hist_rmse, 'bo', label='Training Root Mean Squared Error')\n",
    "plt.plot(epochs, val_rmse, 'r', label='Validation Root Mean Squared Error')\n",
    "plt.title('Training and Validation Root Mean Squared Error')\n",
    "plt.xlabel('Epochs')\n",
    "plt.ylabel('RMSE')\n",
    "plt.legend()\n",
    "\n",
    "plt.show()\n",
    "fig_rmse.savefig(os.path.join(filepath, 'basic_model_history_training_validation_RMSE.png'))"
   ]
  },
  {
   "cell_type": "code",
   "execution_count": 29,
   "metadata": {},
   "outputs": [
    {
     "data": {
      "image/png": "[encoded data removed]",
      "text/plain": [
       "<Figure size 864x432 with 1 Axes>"
      ]
     },
     "metadata": {
      "needs_background": "light"
     },
     "output_type": "display_data"
    }
   ],
   "source": [
    "mae = basic_model_history.history['mean_absolute_error']\n",
    "val_mae = basic_model_history.history['val_mean_absolute_error']\n",
    "epochs = range(len(mae))\n",
    "\n",
    "fig_mae = plt.figure(figsize=(12,6))\n",
    "ax_mae = fig_mae.add_subplot(111)\n",
    "\n",
    "plt.plot(epochs, mae, 'bo', label='Training Mean Absolute Error')\n",
    "plt.plot(epochs, val_mae, 'r', label='Validation Mean Absolute Error')\n",
    "plt.title('Training and Validation Mean Absolute Error')\n",
    "plt.xlabel('Epochs')\n",
    "plt.ylabel('MAE')\n",
    "plt.legend()\n",
    "\n",
    "plt.show()\n",
    "fig_mae.savefig(os.path.join(filepath, 'basic_model_history_training_validation_mae.png'))"
   ]
  },
  {
   "cell_type": "code",
   "execution_count": 30,
   "metadata": {},
   "outputs": [
    {
     "name": "stdout",
     "output_type": "stream",
     "text": [
      "2397/2397 [==============================] - 0s 39us/step\n",
      "[1466.2349854788781, 34.596990352180235, 38.18143370751296]\n",
      "['loss', 'mean_absolute_error', 'rmse']\n"
     ]
    }
   ],
   "source": [
    "basic_lstm_model_predictions = model.predict(forecasters_test)\n",
    "basic_lstm_model_evaluation =  model.evaluate(forecasters_test, pollution_real_test)\n",
    "print(basic_lstm_model_evaluation)\n",
    "print(model.metrics_names)"
   ]
  },
  {
   "cell_type": "code",
   "execution_count": 31,
   "metadata": {},
   "outputs": [
    {
     "name": "stdout",
     "output_type": "stream",
     "text": [
      "(2397, 1)\n",
      "(2397,)\n"
     ]
    }
   ],
   "source": [
    "print(basic_lstm_model_predictions.shape)\n",
    "print(basic_lstm_model_predictions.ravel().shape)"
   ]
  },
  {
   "cell_type": "code",
   "execution_count": 32,
   "metadata": {},
   "outputs": [],
   "source": [
    "basic_lstm_model_prediction_vs_actual_dataframe = pd.DataFrame({'Actual PM2.5': pollution_real_test, 'Predicted PM2.5':basic_lstm_model_predictions.ravel()}) \n",
    "basic_lstm_model_prediction_vs_actual_dataframe\n",
    "## save predictions by basic lstm model\n",
    "basic_lstm_model_prediction_vs_actual_dataframe.to_csv(os.path.join(filepath , 'basic_lstm_model_predictions.csv'))"
   ]
  },
  {
   "cell_type": "markdown",
   "metadata": {
    "colab_type": "text",
    "id": "WBitZDTLSb4P"
   },
   "source": [
    "### Creation Neural Network Architecture,Training & Evaluation  On Recurrent LSTM and DROPOUT layers\n",
    "The last parameter with the value 18 represents, the number of features"
   ]
  },
  {
   "cell_type": "code",
   "execution_count": 33,
   "metadata": {
    "colab": {
     "base_uri": "https://localhost:8080/",
     "height": 7503
    },
    "colab_type": "code",
    "id": "IenaENnPSb4Q",
    "outputId": "30a425bc-f88c-49d5-98a6-2fcf2508ff89",
    "scrolled": true
   },
   "outputs": [
    {
     "name": "stdout",
     "output_type": "stream",
     "text": [
      "Train on 8397 samples, validate on 1197 samples\n",
      "Epoch 1/100\n",
      "8397/8397 [==============================] - 12s 1ms/step - loss: 182.6512 - mean_absolute_error: 10.0739 - rmse: 12.7686 - val_loss: 105.7120 - val_mean_absolute_error: 8.9263 - val_rmse: 10.2159\n",
      "Epoch 2/100\n",
      "8397/8397 [==============================] - 6s 695us/step - loss: 129.5808 - mean_absolute_error: 8.6131 - rmse: 10.9684 - val_loss: 104.9110 - val_mean_absolute_error: 8.8310 - val_rmse: 10.1682\n",
      "Epoch 3/100\n",
      "8397/8397 [==============================] - 6s 690us/step - loss: 121.2587 - mean_absolute_error: 8.0845 - rmse: 10.5748 - val_loss: 67.0541 - val_mean_absolute_error: 6.6984 - val_rmse: 8.13669840 - mean_absolute_error: 8.3\n",
      "Epoch 4/100\n",
      "8397/8397 [==============================] - 6s 684us/step - loss: 80.5209 - mean_absolute_error: 5.7653 - rmse: 8.3059 - val_loss: 68.9419 - val_mean_absolute_error: 6.7156 - val_rmse: 8.2106\n",
      "Epoch 5/100\n",
      "8397/8397 [==============================] - 6s 686us/step - loss: 68.2056 - mean_absolute_error: 5.1092 - rmse: 7.5850 - val_loss: 93.5563 - val_mean_absolute_error: 7.4793 - val_rmse: 9.5814\n",
      "Epoch 6/100\n",
      "8397/8397 [==============================] - 6s 685us/step - loss: 61.9354 - mean_absolute_error: 4.7330 - rmse: 7.1545 - val_loss: 119.4793 - val_mean_absolute_error: 8.4082 - val_rmse: 10.8474\n",
      "Epoch 7/100\n",
      "8397/8397 [==============================] - 6s 693us/step - loss: 57.3712 - mean_absolute_error: 4.4547 - rmse: 6.8344 - val_loss: 147.4195 - val_mean_absolute_error: 9.6722 - val_rmse: 12.0596\n",
      "Epoch 8/100\n",
      "8397/8397 [==============================] - 6s 722us/step - loss: 55.2466 - mean_absolute_error: 4.3657 - rmse: 6.7376 - val_loss: 173.4631 - val_mean_absolute_error: 10.9994 - val_rmse: 13.0977n_absolut - ETA: 0s - loss: 53.4119 - mean_absolute_error: 4.3503 - \n",
      "Epoch 9/100\n",
      "8397/8397 [==============================] - 6s 686us/step - loss: 53.5583 - mean_absolute_error: 4.2663 - rmse: 6.5991 - val_loss: 182.6142 - val_mean_absolute_error: 11.4533 - val_rmse: 13.4415\n",
      "Epoch 10/100\n",
      "8397/8397 [==============================] - 6s 684us/step - loss: 52.8758 - mean_absolute_error: 4.2344 - rmse: 6.5600 - val_loss: 197.9670 - val_mean_absolute_error: 12.2487 - val_rmse: 14.0123\n",
      "Epoch 11/100\n",
      "8397/8397 [==============================] - 6s 690us/step - loss: 51.7825 - mean_absolute_error: 4.1714 - rmse: 6.4806 - val_loss: 211.1447 - val_mean_absolute_error: 12.7039 - val_rmse: 14.4698\n",
      "Epoch 12/100\n",
      "8397/8397 [==============================] - 6s 686us/step - loss: 49.6175 - mean_absolute_error: 4.0590 - rmse: 6.3731 - val_loss: 253.7336 - val_mean_absolute_error: 14.2690 - val_rmse: 15.8638\n",
      "Epoch 13/100\n",
      "8397/8397 [==============================] - 6s 682us/step - loss: 49.2977 - mean_absolute_error: 4.0808 - rmse: 6.3588 - val_loss: 266.4878 - val_mean_absolute_error: 14.7061 - val_rmse: 16.2675\n",
      "Epoch 14/100\n",
      "8397/8397 [==============================] - 6s 687us/step - loss: 48.8591 - mean_absolute_error: 4.0429 - rmse: 6.2853 - val_loss: 306.8906 - val_mean_absolute_error: 15.8922 - val_rmse: 17.4428\n",
      "Epoch 15/100\n",
      "8397/8397 [==============================] - 6s 681us/step - loss: 48.4327 - mean_absolute_error: 4.0009 - rmse: 6.2767 - val_loss: 335.7767 - val_mean_absolute_error: 16.6669 - val_rmse: 18.2458\n",
      "Epoch 16/100\n",
      "8397/8397 [==============================] - 6s 690us/step - loss: 47.2784 - mean_absolute_error: 3.9629 - rmse: 6.2077 - val_loss: 340.1556 - val_mean_absolute_error: 16.8761 - val_rmse: 18.3773\n",
      "Epoch 17/100\n",
      "8397/8397 [==============================] - 6s 685us/step - loss: 46.6970 - mean_absolute_error: 3.9447 - rmse: 6.1558 - val_loss: 373.6187 - val_mean_absolute_error: 17.7878 - val_rmse: 19.2688\n",
      "Epoch 18/100\n",
      "8397/8397 [==============================] - 6s 692us/step - loss: 47.5593 - mean_absolute_error: 3.9434 - rmse: 6.1771 - val_loss: 398.0180 - val_mean_absolute_error: 18.4306 - val_rmse: 19.8820\n",
      "Epoch 19/100\n",
      "8397/8397 [==============================] - 6s 729us/step - loss: 46.1706 - mean_absolute_error: 3.8990 - rmse: 6.1408 - val_loss: 430.4976 - val_mean_absolute_error: 19.2511 - val_rmse: 20.6625\n",
      "Epoch 20/100\n",
      "8397/8397 [==============================] - 6s 732us/step - loss: 46.6441 - mean_absolute_error: 3.9475 - rmse: 6.1590 - val_loss: 450.0382 - val_mean_absolute_error: 19.6791 - val_rmse: 21.1442\n",
      "Epoch 21/100\n",
      "8397/8397 [==============================] - 6s 711us/step - loss: 46.5836 - mean_absolute_error: 3.9139 - rmse: 6.1473 - val_loss: 450.2484 - val_mean_absolute_error: 19.5463 - val_rmse: 21.1396\n",
      "Epoch 22/100\n",
      "8397/8397 [==============================] - 6s 718us/step - loss: 45.1270 - mean_absolute_error: 3.8690 - rmse: 6.0411 - val_loss: 429.9912 - val_mean_absolute_error: 19.1246 - val_rmse: 20.6662\n",
      "Epoch 23/100\n",
      "8397/8397 [==============================] - 6s 715us/step - loss: 44.0302 - mean_absolute_error: 3.8113 - rmse: 5.9684 - val_loss: 479.5632 - val_mean_absolute_error: 20.3400 - val_rmse: 21.8354\n",
      "Epoch 24/100\n",
      "8397/8397 [==============================] - 6s 715us/step - loss: 44.9460 - mean_absolute_error: 3.8676 - rmse: 6.0362 - val_loss: 518.5909 - val_mean_absolute_error: 21.3594 - val_rmse: 22.7045\n",
      "Epoch 25/100\n",
      "8397/8397 [==============================] - 6s 702us/step - loss: 45.2662 - mean_absolute_error: 3.8445 - rmse: 6.0398 - val_loss: 506.2073 - val_mean_absolute_error: 20.8522 - val_rmse: 22.4305\n",
      "Epoch 26/100\n",
      "8397/8397 [==============================] - 6s 714us/step - loss: 44.0682 - mean_absolute_error: 3.8192 - rmse: 5.9737 - val_loss: 580.4113 - val_mean_absolute_error: 22.3429 - val_rmse: 23.9985\n",
      "Epoch 27/100\n",
      "8397/8397 [==============================] - 6s 763us/step - loss: 44.7899 - mean_absolute_error: 3.8456 - rmse: 6.0186 - val_loss: 572.5880 - val_mean_absolute_error: 22.3409 - val_rmse: 23.8481\n",
      "Epoch 28/100\n",
      "8397/8397 [==============================] - 6s 729us/step - loss: 43.7282 - mean_absolute_error: 3.8020 - rmse: 6.0142 - val_loss: 599.8823 - val_mean_absolute_error: 22.7757 - val_rmse: 24.4182\n",
      "Epoch 29/100\n",
      "8397/8397 [==============================] - 6s 729us/step - loss: 43.3750 - mean_absolute_error: 3.7920 - rmse: 5.9737 - val_loss: 624.0869 - val_mean_absolute_error: 23.2498 - val_rmse: 24.9041\n",
      "Epoch 30/100\n",
      "8397/8397 [==============================] - 6s 720us/step - loss: 41.9692 - mean_absolute_error: 3.7292 - rmse: 5.8371 - val_loss: 642.7080 - val_mean_absolute_error: 23.6588 - val_rmse: 25.2829\n",
      "Epoch 31/100\n",
      "8397/8397 [==============================] - 6s 723us/step - loss: 43.6815 - mean_absolute_error: 3.7921 - rmse: 5.9705 - val_loss: 570.8551 - val_mean_absolute_error: 21.9196 - val_rmse: 23.8224\n",
      "Epoch 32/100\n",
      "8397/8397 [==============================] - 6s 726us/step - loss: 42.5622 - mean_absolute_error: 3.7769 - rmse: 5.9031 - val_loss: 665.1714 - val_mean_absolute_error: 23.9471 - val_rmse: 25.7168\n",
      "Epoch 33/100\n",
      "8397/8397 [==============================] - 6s 720us/step - loss: 42.6503 - mean_absolute_error: 3.7866 - rmse: 5.9073 - val_loss: 660.7522 - val_mean_absolute_error: 23.7574 - val_rmse: 25.6420\n",
      "Epoch 34/100\n",
      "8397/8397 [==============================] - 6s 718us/step - loss: 42.5234 - mean_absolute_error: 3.7386 - rmse: 5.8676 - val_loss: 687.3105 - val_mean_absolute_error: 24.3028 - val_rmse: 26.1354\n",
      "Epoch 35/100\n",
      "8397/8397 [==============================] - 6s 718us/step - loss: 42.1484 - mean_absolute_error: 3.7182 - rmse: 5.8400 - val_loss: 772.4712 - val_mean_absolute_error: 25.7766 - val_rmse: 27.6829\n",
      "Epoch 36/100\n",
      "8397/8397 [==============================] - 6s 726us/step - loss: 40.4663 - mean_absolute_error: 3.7065 - rmse: 5.7748 - val_loss: 811.1111 - val_mean_absolute_error: 26.5556 - val_rmse: 28.3870\n",
      "Epoch 37/100\n",
      "8397/8397 [==============================] - 6s 738us/step - loss: 41.4464 - mean_absolute_error: 3.7247 - rmse: 5.8492 - val_loss: 772.9284 - val_mean_absolute_error: 25.7703 - val_rmse: 27.7241\n",
      "Epoch 38/100\n",
      "8397/8397 [==============================] - 6s 734us/step - loss: 40.0816 - mean_absolute_error: 3.6947 - rmse: 5.7367 - val_loss: 895.2554 - val_mean_absolute_error: 27.7311 - val_rmse: 29.7700\n",
      "Epoch 39/100\n"
     ]
    },
    {
     "name": "stdout",
     "output_type": "stream",
     "text": [
      "8397/8397 [==============================] - 6s 726us/step - loss: 40.5220 - mean_absolute_error: 3.7114 - rmse: 5.7564 - val_loss: 797.0217 - val_mean_absolute_error: 26.1813 - val_rmse: 28.1535\n",
      "Epoch 40/100\n",
      "8397/8397 [==============================] - 6s 738us/step - loss: 40.5502 - mean_absolute_error: 3.6803 - rmse: 5.7699 - val_loss: 847.5979 - val_mean_absolute_error: 26.9367 - val_rmse: 29.0217\n",
      "Epoch 41/100\n",
      "8397/8397 [==============================] - 6s 716us/step - loss: 39.7631 - mean_absolute_error: 3.6503 - rmse: 5.6867 - val_loss: 936.4384 - val_mean_absolute_error: 27.9271 - val_rmse: 30.4879\n",
      "Epoch 42/100\n",
      "8397/8397 [==============================] - 6s 702us/step - loss: 39.3472 - mean_absolute_error: 3.6531 - rmse: 5.7047 - val_loss: 948.7642 - val_mean_absolute_error: 28.3437 - val_rmse: 30.6764loss: 38.3719 - mean_absolute_error: 3.6297 - rmse\n",
      "Epoch 43/100\n",
      "8397/8397 [==============================] - 6s 692us/step - loss: 38.8131 - mean_absolute_error: 3.6192 - rmse: 5.6378 - val_loss: 1008.8088 - val_mean_absolute_error: 29.0392 - val_rmse: 31.6438\n",
      "Epoch 44/100\n",
      "8397/8397 [==============================] - 6s 681us/step - loss: 39.5097 - mean_absolute_error: 3.6423 - rmse: 5.7064 - val_loss: 1017.3081 - val_mean_absolute_error: 29.0242 - val_rmse: 31.7802\n",
      "Epoch 45/100\n",
      "8397/8397 [==============================] - 6s 682us/step - loss: 39.0341 - mean_absolute_error: 3.6095 - rmse: 5.6244 - val_loss: 1032.9018 - val_mean_absolute_error: 29.2071 - val_rmse: 32.0310\n",
      "Epoch 46/100\n",
      "8397/8397 [==============================] - 6s 705us/step - loss: 39.4539 - mean_absolute_error: 3.6428 - rmse: 5.6973 - val_loss: 1021.4265 - val_mean_absolute_error: 28.9303 - val_rmse: 31.8601\n",
      "Epoch 47/100\n",
      "8397/8397 [==============================] - 6s 717us/step - loss: 38.5597 - mean_absolute_error: 3.5808 - rmse: 5.6348 - val_loss: 1040.7688 - val_mean_absolute_error: 29.5335 - val_rmse: 32.1509\n",
      "Epoch 48/100\n",
      "8397/8397 [==============================] - 6s 709us/step - loss: 37.9496 - mean_absolute_error: 3.5629 - rmse: 5.5736 - val_loss: 1029.4470 - val_mean_absolute_error: 29.2124 - val_rmse: 32.0019\n",
      "Epoch 49/100\n",
      "8397/8397 [==============================] - 6s 715us/step - loss: 37.6349 - mean_absolute_error: 3.5771 - rmse: 5.5785 - val_loss: 1081.3381 - val_mean_absolute_error: 29.8758 - val_rmse: 32.7883\n",
      "Epoch 50/100\n",
      "8397/8397 [==============================] - 6s 722us/step - loss: 36.6173 - mean_absolute_error: 3.4998 - rmse: 5.5124 - val_loss: 1168.6081 - val_mean_absolute_error: 30.8227 - val_rmse: 34.0672\n",
      "Epoch 51/100\n",
      "8397/8397 [==============================] - 7s 877us/step - loss: 37.6127 - mean_absolute_error: 3.5536 - rmse: 5.5864 - val_loss: 1190.7688 - val_mean_absolute_error: 31.4687 - val_rmse: 34.3719\n",
      "Epoch 52/100\n",
      "8397/8397 [==============================] - 7s 824us/step - loss: 38.3008 - mean_absolute_error: 3.5637 - rmse: 5.6207 - val_loss: 1191.7197 - val_mean_absolute_error: 31.1995 - val_rmse: 34.4184\n",
      "Epoch 53/100\n",
      "8397/8397 [==============================] - 7s 775us/step - loss: 36.7271 - mean_absolute_error: 3.5177 - rmse: 5.5069 - val_loss: 1250.4118 - val_mean_absolute_error: 32.1963 - val_rmse: 35.2262\n",
      "Epoch 54/100\n",
      "8397/8397 [==============================] - 7s 850us/step - loss: 35.6602 - mean_absolute_error: 3.4541 - rmse: 5.4261 - val_loss: 1233.9866 - val_mean_absolute_error: 31.8780 - val_rmse: 35.0220\n",
      "Epoch 55/100\n",
      "8397/8397 [==============================] - 7s 799us/step - loss: 34.9765 - mean_absolute_error: 3.4273 - rmse: 5.3634 - val_loss: 1410.5565 - val_mean_absolute_error: 34.1364 - val_rmse: 37.3813\n",
      "Epoch 56/100\n",
      "8397/8397 [==============================] - 7s 857us/step - loss: 35.2199 - mean_absolute_error: 3.4226 - rmse: 5.3995 - val_loss: 1423.3729 - val_mean_absolute_error: 34.2879 - val_rmse: 37.5475\n",
      "Epoch 57/100\n",
      "8397/8397 [==============================] - 6s 769us/step - loss: 35.5111 - mean_absolute_error: 3.4699 - rmse: 5.4229 - val_loss: 1354.0987 - val_mean_absolute_error: 33.4438 - val_rmse: 36.6719- mean_absolute_error: 3.4309 \n",
      "Epoch 58/100\n",
      "8397/8397 [==============================] - 7s 785us/step - loss: 35.3118 - mean_absolute_error: 3.4418 - rmse: 5.4097 - val_loss: 1413.1821 - val_mean_absolute_error: 34.3144 - val_rmse: 37.4273\n",
      "Epoch 59/100\n",
      "8397/8397 [==============================] - 6s 764us/step - loss: 34.9465 - mean_absolute_error: 3.4211 - rmse: 5.3329 - val_loss: 1395.6802 - val_mean_absolute_error: 34.0470 - val_rmse: 37.2315\n",
      "Epoch 60/100\n",
      "8397/8397 [==============================] - 6s 768us/step - loss: 34.4299 - mean_absolute_error: 3.3947 - rmse: 5.3539 - val_loss: 1410.5555 - val_mean_absolute_error: 33.8503 - val_rmse: 37.4298e: 5\n",
      "Epoch 61/100\n",
      "8397/8397 [==============================] - 6s 748us/step - loss: 33.6836 - mean_absolute_error: 3.3664 - rmse: 5.2783 - val_loss: 1381.1957 - val_mean_absolute_error: 33.7342 - val_rmse: 37.0403\n",
      "Epoch 62/100\n",
      "8397/8397 [==============================] - 6s 770us/step - loss: 33.2087 - mean_absolute_error: 3.3578 - rmse: 5.2176 - val_loss: 1450.6452 - val_mean_absolute_error: 34.3779 - val_rmse: 37.9524mean_absolute_error: 3.37 - ETA: 2s - loss: 33.1467 - mean_absolute_error: 3.3531 - rms - ETA: 1s - loss: 32.9781 - mean_absolute_er\n",
      "Epoch 63/100\n",
      "8397/8397 [==============================] - 6s 752us/step - loss: 34.6565 - mean_absolute_error: 3.4116 - rmse: 5.3576 - val_loss: 1527.3566 - val_mean_absolute_error: 35.2092 - val_rmse: 38.9472s - loss: 34.7154 - mean_absolute_error: 3.4064 - rmse: 5.3\n",
      "Epoch 64/100\n",
      "8397/8397 [==============================] - 6s 738us/step - loss: 34.0999 - mean_absolute_error: 3.3573 - rmse: 5.2856 - val_loss: 1548.2458 - val_mean_absolute_error: 35.3094 - val_rmse: 39.2019 loss: 34.9264 - mean_absolute_error: 3.3542 - rmse:  - ETA: 0s - loss: 34.3205 - mean_absolute_error: 3.3536 - rmse\n",
      "Epoch 65/100\n",
      "8397/8397 [==============================] - 7s 781us/step - loss: 32.8755 - mean_absolute_error: 3.3357 - rmse: 5.2031 - val_loss: 1635.0790 - val_mean_absolute_error: 36.5755 - val_rmse: 40.2767\n",
      "Epoch 66/100\n",
      "8397/8397 [==============================] - 6s 744us/step - loss: 34.4151 - mean_absolute_error: 3.3992 - rmse: 5.3505 - val_loss: 1675.3099 - val_mean_absolute_error: 37.4608 - val_rmse: 40.7746\n",
      "Epoch 67/100\n",
      "8397/8397 [==============================] - 7s 803us/step - loss: 32.8700 - mean_absolute_error: 3.3199 - rmse: 5.2099 - val_loss: 1605.7811 - val_mean_absolute_error: 36.2106 - val_rmse: 39.9415\n",
      "Epoch 68/100\n",
      "8397/8397 [==============================] - 7s 800us/step - loss: 32.5286 - mean_absolute_error: 3.3146 - rmse: 5.1731 - val_loss: 1541.2470 - val_mean_absolute_error: 35.2809 - val_rmse: 39.1396\n",
      "Epoch 69/100\n",
      "8397/8397 [==============================] - 7s 876us/step - loss: 33.0527 - mean_absolute_error: 3.3181 - rmse: 5.2274 - val_loss: 1753.9451 - val_mean_absolute_error: 37.7186 - val_rmse: 41.7138\n",
      "Epoch 70/100\n",
      "8397/8397 [==============================] - 7s 780us/step - loss: 32.3928 - mean_absolute_error: 3.3089 - rmse: 5.2268 - val_loss: 1766.9877 - val_mean_absolute_error: 37.8364 - val_rmse: 41.8539116 - mean_absolute_error: 3.3027 - rmse: 5.215\n",
      "Epoch 71/100\n",
      "8397/8397 [==============================] - 7s 807us/step - loss: 31.5982 - mean_absolute_error: 3.2834 - rmse: 5.0996 - val_loss: 1795.6683 - val_mean_absolute_error: 37.9319 - val_rmse: 42.2263e:\n",
      "Epoch 72/100\n",
      "8397/8397 [==============================] - 7s 785us/step - loss: 31.7064 - mean_absolute_error: 3.2684 - rmse: 5.1475 - val_loss: 1785.1429 - val_mean_absolute_error: 38.0283 - val_rmse: 42.0996\n",
      "Epoch 73/100\n",
      "8397/8397 [==============================] - 6s 744us/step - loss: 30.9871 - mean_absolute_error: 3.2386 - rmse: 5.0616 - val_loss: 1639.6143 - val_mean_absolute_error: 36.3844 - val_rmse: 40.3405\n",
      "Epoch 74/100\n",
      "8397/8397 [==============================] - 6s 739us/step - loss: 32.9671 - mean_absolute_error: 3.3178 - rmse: 5.2071 - val_loss: 1942.0633 - val_mean_absolute_error: 39.7667 - val_rmse: 43.8730\n",
      "Epoch 75/100\n",
      "8397/8397 [==============================] - 7s 788us/step - loss: 32.2893 - mean_absolute_error: 3.2964 - rmse: 5.1371 - val_loss: 1783.2439 - val_mean_absolute_error: 37.6261 - val_rmse: 42.0286\n"
     ]
    },
    {
     "name": "stdout",
     "output_type": "stream",
     "text": [
      "Epoch 76/100\n",
      "8397/8397 [==============================] - 7s 778us/step - loss: 32.8851 - mean_absolute_error: 3.3310 - rmse: 5.2246 - val_loss: 1916.4163 - val_mean_absolute_error: 39.2835 - val_rmse: 43.6233\n",
      "Epoch 77/100\n",
      "8397/8397 [==============================] - 6s 736us/step - loss: 32.4449 - mean_absolute_error: 3.3009 - rmse: 5.2268 - val_loss: 1888.8592 - val_mean_absolute_error: 38.8653 - val_rmse: 43.3049\n",
      "Epoch 78/100\n",
      "8397/8397 [==============================] - 7s 792us/step - loss: 30.9841 - mean_absolute_error: 3.2414 - rmse: 5.0892 - val_loss: 2040.5808 - val_mean_absolute_error: 40.4435 - val_rmse: 44.9991bsolute_err\n",
      "Epoch 79/100\n",
      "8397/8397 [==============================] - 6s 772us/step - loss: 30.3654 - mean_absolute_error: 3.2106 - rmse: 4.9871 - val_loss: 1934.1249 - val_mean_absolute_error: 38.8819 - val_rmse: 43.8389\n",
      "Epoch 80/100\n",
      "8397/8397 [==============================] - 7s 784us/step - loss: 29.3214 - mean_absolute_error: 3.2108 - rmse: 4.9455 - val_loss: 2033.6173 - val_mean_absolute_error: 39.7704 - val_rmse: 44.9307\n",
      "Epoch 81/100\n",
      "8397/8397 [==============================] - 7s 797us/step - loss: 29.0644 - mean_absolute_error: 3.1707 - rmse: 4.9006 - val_loss: 2182.9377 - val_mean_absolute_error: 41.3848 - val_rmse: 46.5434or: 3.1711 - rmse: 4.9\n",
      "Epoch 82/100\n",
      "8397/8397 [==============================] - 8s 962us/step - loss: 28.5310 - mean_absolute_error: 3.1260 - rmse: 4.8919 - val_loss: 2271.2242 - val_mean_absolute_error: 42.4115 - val_rmse: 47.4751bsolute_error: 2.9622 - rmse: 4. - ETA: 4 - ETA: 0s - loss: 28.6366 - mean_absolute_error: 3.1308 - rmse: 4.902\n",
      "Epoch 83/100\n",
      "8397/8397 [==============================] - 6s 738us/step - loss: 28.5821 - mean_absolute_error: 3.1739 - rmse: 4.9492 - val_loss: 2259.8435 - val_mean_absolute_error: 42.3629 - val_rmse: 47.36546 - mean_absolute_error: 3.1644 - rmse:\n",
      "Epoch 84/100\n",
      "8397/8397 [==============================] - 6s 731us/step - loss: 28.2485 - mean_absolute_error: 3.1672 - rmse: 4.8643 - val_loss: 2222.1098 - val_mean_absolute_error: 41.1926 - val_rmse: 46.9643oss: 37.6102 - mean_absolute_error: 3.3306 - - ETA: 2s - loss: 33.5062 \n",
      "Epoch 85/100\n",
      "8397/8397 [==============================] - 6s 730us/step - loss: 29.7533 - mean_absolute_error: 3.2040 - rmse: 5.0085 - val_loss: 2377.6822 - val_mean_absolute_error: 43.1773 - val_rmse: 48.5870\n",
      "Epoch 86/100\n",
      "8397/8397 [==============================] - 6s 736us/step - loss: 28.2737 - mean_absolute_error: 3.1658 - rmse: 4.8964 - val_loss: 2295.3082 - val_mean_absolute_error: 41.9555 - val_rmse: 47.7198\n",
      "Epoch 87/100\n",
      "8397/8397 [==============================] - 6s 763us/step - loss: 28.8609 - mean_absolute_error: 3.1990 - rmse: 4.9504 - val_loss: 2488.5923 - val_mean_absolute_error: 44.2263 - val_rmse: 49.7085\n",
      "Epoch 88/100\n",
      "8397/8397 [==============================] - 6s 771us/step - loss: 29.1628 - mean_absolute_error: 3.2018 - rmse: 4.9605 - val_loss: 2477.1424 - val_mean_absolute_error: 43.6487 - val_rmse: 49.5910\n",
      "Epoch 89/100\n",
      "8397/8397 [==============================] - 6s 712us/step - loss: 28.1024 - mean_absolute_error: 3.1307 - rmse: 4.8796 - val_loss: 2320.4340 - val_mean_absolute_error: 42.3234 - val_rmse: 48.0109\n",
      "Epoch 90/100\n",
      "8397/8397 [==============================] - 6s 687us/step - loss: 29.5575 - mean_absolute_error: 3.2237 - rmse: 4.9520 - val_loss: 2507.3533 - val_mean_absolute_error: 43.8054 - val_rmse: 49.9185\n",
      "Epoch 91/100\n",
      "8397/8397 [==============================] - 6s 721us/step - loss: 26.8925 - mean_absolute_error: 3.1027 - rmse: 4.7644 - val_loss: 2378.4316 - val_mean_absolute_error: 42.4339 - val_rmse: 48.6228\n",
      "Epoch 92/100\n",
      "8397/8397 [==============================] - 6s 761us/step - loss: 27.3341 - mean_absolute_error: 3.1360 - rmse: 4.8321 - val_loss: 2371.5729 - val_mean_absolute_error: 42.4276 - val_rmse: 48.5101\n",
      "Epoch 93/100\n",
      "8397/8397 [==============================] - 6s 770us/step - loss: 27.3470 - mean_absolute_error: 3.1200 - rmse: 4.8385 - val_loss: 2100.3061 - val_mean_absolute_error: 39.7497 - val_rmse: 45.6379\n",
      "Epoch 94/100\n",
      "8397/8397 [==============================] - 7s 810us/step - loss: 28.2940 - mean_absolute_error: 3.1539 - rmse: 4.8636 - val_loss: 2138.4100 - val_mean_absolute_error: 40.1121 - val_rmse: 46.0407\n",
      "Epoch 95/100\n",
      "8397/8397 [==============================] - 6s 740us/step - loss: 26.9809 - mean_absolute_error: 3.0804 - rmse: 4.8161 - val_loss: 2602.9571 - val_mean_absolute_error: 44.4166 - val_rmse: 50.800735 \n",
      "Epoch 96/100\n",
      "8397/8397 [==============================] - 6s 729us/step - loss: 27.7149 - mean_absolute_error: 3.1150 - rmse: 4.8272 - val_loss: 1977.2551 - val_mean_absolute_error: 38.0106 - val_rmse: 44.1306\n",
      "Epoch 97/100\n",
      "8397/8397 [==============================] - 6s 753us/step - loss: 26.7566 - mean_absolute_error: 3.0887 - rmse: 4.7598 - val_loss: 2762.5748 - val_mean_absolute_error: 45.1941 - val_rmse: 52.3745\n",
      "Epoch 98/100\n",
      "8397/8397 [==============================] - 6s 745us/step - loss: 25.6140 - mean_absolute_error: 3.0668 - rmse: 4.6961 - val_loss: 2537.4289 - val_mean_absolute_error: 43.7305 - val_rmse: 50.1691\n",
      "Epoch 99/100\n",
      "8397/8397 [==============================] - 7s 825us/step - loss: 26.4815 - mean_absolute_error: 3.0898 - rmse: 4.7407 - val_loss: 2726.1386 - val_mean_absolute_error: 45.0916 - val_rmse: 51.9839\n",
      "Epoch 100/100\n",
      "8397/8397 [==============================] - 7s 848us/step - loss: 25.2137 - mean_absolute_error: 3.0499 - rmse: 4.6514 - val_loss: 2867.8449 - val_mean_absolute_error: 46.5250 - val_rmse: 53.3017\n"
     ]
    }
   ],
   "source": [
    "from tensorflow.keras.models import Sequential\n",
    "from tensorflow.keras.layers import Dense, LSTM, Dropout\n",
    "\n",
    "regressor_model = Sequential()\n",
    "regressor_model.add(LSTM(units=100, return_sequences = True, input_shape = (forecasters.shape[1],18)))\n",
    "regressor_model.add(Dropout(0.3))\n",
    "\n",
    "regressor_model.add(LSTM(units = 50, return_sequences = True))\n",
    "regressor_model.add(Dropout(0.2))\n",
    "\n",
    "regressor_model.add(LSTM(units = 50, return_sequences = True))\n",
    "regressor_model.add(Dropout(0.2))\n",
    "\n",
    "regressor_model.add(LSTM(units = 50))\n",
    "regressor_model.add(Dropout(0.2))\n",
    "\n",
    "regressor_model.add(Dense(units = 1))\n",
    "\n",
    "regressor_model.compile(optimizer = 'adam', loss = 'mean_squared_error',metrics = ['mean_absolute_error',rmse] )\n",
    "\n",
    "##Training the model\n",
    "history = regressor_model.fit(forecasters, pollution_real,epochs = 100,\n",
    "                              validation_data=(forecasters_validation,pollution_real_validation),batch_size = 32)"
   ]
  },
  {
   "cell_type": "code",
   "execution_count": 34,
   "metadata": {
    "colab": {},
    "colab_type": "code",
    "id": "fN9EwdUFSb4R"
   },
   "outputs": [
    {
     "name": "stdout",
     "output_type": "stream",
     "text": [
      "_________________________________________________________________\n",
      "Layer (type)                 Output Shape              Param #   \n",
      "=================================================================\n",
      "lstm_1 (LSTM)                (None, 3, 100)            47600     \n",
      "_________________________________________________________________\n",
      "dropout (Dropout)            (None, 3, 100)            0         \n",
      "_________________________________________________________________\n",
      "lstm_2 (LSTM)                (None, 3, 50)             30200     \n",
      "_________________________________________________________________\n",
      "dropout_1 (Dropout)          (None, 3, 50)             0         \n",
      "_________________________________________________________________\n",
      "lstm_3 (LSTM)                (None, 3, 50)             20200     \n",
      "_________________________________________________________________\n",
      "dropout_2 (Dropout)          (None, 3, 50)             0         \n",
      "_________________________________________________________________\n",
      "lstm_4 (LSTM)                (None, 50)                20200     \n",
      "_________________________________________________________________\n",
      "dropout_3 (Dropout)          (None, 50)                0         \n",
      "_________________________________________________________________\n",
      "dense_1 (Dense)              (None, 1)                 51        \n",
      "=================================================================\n",
      "Total params: 118,251\n",
      "Trainable params: 118,251\n",
      "Non-trainable params: 0\n",
      "_________________________________________________________________\n"
     ]
    }
   ],
   "source": [
    "#regressor_model.save('/content/drive/My Drive/Uni/Msc Comp Science/Year Two/Research/experiments/data/AirQuality/AirQo/airquality_prediction_bugolobi_04_20_2019.h5')\n",
    "\n",
    "regressor_model.save(os.path.join(filepath,'airquality_prediction_model.h5'))\n",
    "regressor_model.summary()"
   ]
  },
  {
   "cell_type": "code",
   "execution_count": 35,
   "metadata": {},
   "outputs": [
    {
     "data": {
      "image/png": "[encoded data removed]",
      "text/plain": [
       "<Figure size 864x432 with 1 Axes>"
      ]
     },
     "metadata": {
      "needs_background": "light"
     },
     "output_type": "display_data"
    }
   ],
   "source": [
    "loss = history.history['loss']\n",
    "val_loss = history.history['val_loss']\n",
    "\n",
    "epochs = range(len(loss))\n",
    "\n",
    "fig_deep_lstm_loss= plt.figure(figsize=(12,6))\n",
    "ax = fig_deep_lstm_loss.add_subplot(111)\n",
    "\n",
    "plt.plot(epochs, loss, 'bo', label='Training loss')\n",
    "plt.plot(epochs, val_loss, 'r', label='Validation loss')\n",
    "plt.title('Training and validation loss')\n",
    "plt.xlabel('Epochs')\n",
    "plt.ylabel('Loss')\n",
    "plt.legend()\n",
    "\n",
    "plt.show()\n",
    "\n",
    "fig_deep_lstm_loss.savefig(os.path.join(filepath, 'deep_lstm_model_history_training_validation_mae.png'))"
   ]
  },
  {
   "cell_type": "code",
   "execution_count": 36,
   "metadata": {},
   "outputs": [
    {
     "data": {
      "image/png": "[encoded data removed]",
      "text/plain": [
       "<Figure size 864x432 with 1 Axes>"
      ]
     },
     "metadata": {
      "needs_background": "light"
     },
     "output_type": "display_data"
    }
   ],
   "source": [
    "mae = history.history['mean_absolute_error']\n",
    "val_mae = history.history['val_mean_absolute_error']\n",
    "epochs = range(len(mae))\n",
    "\n",
    "fig_deep_lstm_mae = plt.figure(figsize=(12,6))\n",
    "ax_mae = fig_deep_lstm_mae.add_subplot(111)\n",
    "\n",
    "plt.plot(epochs, mae, 'bo', label='Training Mean Absolute Error')\n",
    "plt.plot(epochs, val_mae, 'r', label='Validation Mean Absolute Error')\n",
    "plt.title('Training and Validation Mean Absolute Error')\n",
    "plt.xlabel('Epochs')\n",
    "plt.ylabel('MAE')\n",
    "plt.legend()\n",
    "\n",
    "plt.show()\n",
    "fig_mae.savefig(os.path.join(filepath, 'deep_lst_mmodel_history_training_validation_mae.png'))"
   ]
  },
  {
   "cell_type": "markdown",
   "metadata": {
    "colab_type": "text",
    "id": "sO0awXl1Sb4T"
   },
   "source": [
    "### Making predictions (forecasts) using the deep recurrent lstm\n",
    "1. Convert test set in the same format accepted by model\n",
    "1. make the forecasts directly on the testing dataset"
   ]
  },
  {
   "cell_type": "markdown",
   "metadata": {},
   "source": [
    "### Make prediction and evaluation using the developed deep lstm model"
   ]
  },
  {
   "cell_type": "code",
   "execution_count": 37,
   "metadata": {
    "colab": {},
    "colab_type": "code",
    "id": "ts5RRZWoSb4Z"
   },
   "outputs": [
    {
     "name": "stdout",
     "output_type": "stream",
     "text": [
      "2397/2397 [==============================] - 0s 189us/step\n"
     ]
    }
   ],
   "source": [
    "deep_lstm_model_predictions = regressor_model.predict(forecasters_test)\n",
    "deep_lstm_model_evaluation =  regressor_model.evaluate(forecasters_test, pollution_real_test)\n",
    "\n",
    "deep_lstm_model_prediction_vs_actual_dataframe = pd.DataFrame({'Actual PM2.5': pollution_real_test, 'Predicted PM2.5':deep_lstm_model_predictions.ravel()}) \n",
    "deep_lstm_model_prediction_vs_actual_dataframe\n",
    "## save predictions by basic lstm model\n",
    "deep_lstm_model_prediction_vs_actual_dataframe.to_csv(os.path.join(filepath , 'deep_lstm_model_predictions.csv'))"
   ]
  },
  {
   "cell_type": "code",
   "execution_count": 45,
   "metadata": {},
   "outputs": [
    {
     "data": {
      "text/plain": [
       "[2016.142433341563, 36.95493795994077, 44.57012139432968]"
      ]
     },
     "execution_count": 45,
     "metadata": {},
     "output_type": "execute_result"
    }
   ],
   "source": [
    "deep_lstm_model_evaluation"
   ]
  },
  {
   "cell_type": "code",
   "execution_count": 38,
   "metadata": {
    "colab": {
     "base_uri": "https://localhost:8080/",
     "height": 34
    },
    "colab_type": "code",
    "id": "PhydX24QSb4e",
    "outputId": "7b932aca-3c48-4890-864e-62663465aed7"
   },
   "outputs": [
    {
     "name": "stdout",
     "output_type": "stream",
     "text": [
      "(2397, 1)\n"
     ]
    }
   ],
   "source": [
    "#print(forecasters_test.shape)\n",
    "print(deep_lstm_model_predictions.shape)"
   ]
  },
  {
   "cell_type": "code",
   "execution_count": 39,
   "metadata": {
    "colab": {
     "base_uri": "https://localhost:8080/",
     "height": 52
    },
    "colab_type": "code",
    "id": "pBCyXHz1Sb4h",
    "outputId": "08a4e2a2-9460-4bdf-8f2c-96e4b5efd36b"
   },
   "outputs": [
    {
     "name": "stdout",
     "output_type": "stream",
     "text": [
      "predictions 56.3726\n",
      "actual pm2.5 values 19.495219023779725\n"
     ]
    }
   ],
   "source": [
    "print('predictions', deep_lstm_model_predictions.mean())\n",
    "print('actual pm2.5 values', pollution_real_test.mean())"
   ]
  },
  {
   "cell_type": "markdown",
   "metadata": {
    "colab_type": "text",
    "id": "EQ7BkVaMSb4j"
   },
   "source": [
    "### Verification of the average in the results of the forecasts and in the actual results"
   ]
  },
  {
   "cell_type": "code",
   "execution_count": 40,
   "metadata": {
    "colab": {
     "base_uri": "https://localhost:8080/",
     "height": 52
    },
    "colab_type": "code",
    "id": "v3AVMbw6Sb4j",
    "outputId": "3d51c342-1fed-4b52-d946-34be9d7ba6a5"
   },
   "outputs": [
    {
     "name": "stdout",
     "output_type": "stream",
     "text": [
      "predictions 56.3726\n",
      "actual pm2.5 values 19.495219023779725\n"
     ]
    }
   ],
   "source": [
    "print('predictions', deep_lstm_model_predictions.mean())\n",
    "print('actual pm2.5 values', pollution_real_test.mean())"
   ]
  },
  {
   "cell_type": "markdown",
   "metadata": {
    "colab_type": "text",
    "id": "xX5heGwJSb4m"
   },
   "source": [
    "### Visualization of the predictions and actual values of PM2.5\n",
    "1. #### using bar chart"
   ]
  },
  {
   "cell_type": "code",
   "execution_count": 41,
   "metadata": {
    "colab": {
     "base_uri": "https://localhost:8080/",
     "height": 638
    },
    "colab_type": "code",
    "id": "e1NQ6pyMSb4m",
    "outputId": "1897373c-c28e-41f5-cc11-c000fbd05aa6"
   },
   "outputs": [
    {
     "data": {
      "image/png": "[encoded data removed]",
      "text/plain": [
       "<Figure size 864x432 with 1 Axes>"
      ]
     },
     "metadata": {
      "needs_background": "light"
     },
     "output_type": "display_data"
    }
   ],
   "source": [
    "fig_deep_lstm_predictions_vs_actual = plt.figure(figsize=(12,6))\n",
    "ax_fig_deep_lstm_predictions_vs_actual = fig_deep_lstm_predictions_vs_actual.add_subplot(111)\n",
    "plt.plot(pollution_real_test, color = 'red', label = 'Real PM2.5 Values')\n",
    "plt.plot(deep_lstm_model_predictions, color = 'blue', label = 'Predictions')\n",
    "plt.title('PM2.5 Values Predictions Vs Real PM2.5 Values ')\n",
    "plt.xlabel('PM2.5 Records')\n",
    "plt.ylabel('PM2.5 Values')\n",
    "plt.legend()\n",
    "\n",
    "fig_deep_lstm_predictions_vs_actual.savefig(os.path.join(filepath, 'deep_lstm_model_prediction_vs_actual.png'))"
   ]
  },
  {
   "cell_type": "markdown",
   "metadata": {
    "colab_type": "text",
    "id": "IgZEA2ZsSb4o"
   },
   "source": [
    "### 2. using line graphs"
   ]
  },
  {
   "cell_type": "code",
   "execution_count": 42,
   "metadata": {
    "colab": {
     "base_uri": "https://localhost:8080/",
     "height": 1164
    },
    "colab_type": "code",
    "id": "eVDzGVwdSb4o",
    "outputId": "611dd298-9007-43e9-e26b-b7538a370edc"
   },
   "outputs": [
    {
     "data": {
      "image/png": "[encoded data removed]",
      "text/plain": [
       "<Figure size 432x288 with 1 Axes>"
      ]
     },
     "metadata": {
      "needs_background": "light"
     },
     "output_type": "display_data"
    }
   ],
   "source": [
    "plt.plot(pollution_real_test, color = 'red', label = 'Real PM2.5 Values')\n",
    "plt.plot(deep_lstm_model_predictions, color = 'blue', label = 'Predicted PM2.5 Values')\n",
    "plt.title('PM2.5 Prediction')\n",
    "plt.xlabel('PM2.5 Records')\n",
    "plt.ylabel('PM2.5')\n",
    "plt.legend()\n",
    "plt.show()"
   ]
  },
  {
   "cell_type": "code",
   "execution_count": 43,
   "metadata": {
    "scrolled": true
   },
   "outputs": [
    {
     "data": {
      "image/png": "[encoded data removed]",
      "text/plain": [
       "<Figure size 576x432 with 1 Axes>"
      ]
     },
     "metadata": {},
     "output_type": "display_data"
    }
   ],
   "source": [
    "sns.set_context('talk')\n",
    "sns.set_style('ticks')\n",
    "sns.set_palette('dark')\n",
    "fig_deep_lstm_predictions_vs_actual_scatter = plt.figure(figsize=(8,6))\n",
    "ax_fig_deep_lstm_predictions_vs_actual_scatter = fig_deep_lstm_predictions_vs_actual_scatter.add_subplot(111)\n",
    "ax = ax_fig_deep_lstm_predictions_vs_actual_scatter\n",
    "# we are going to use y_test, y_test_pred\n",
    "ax.scatter(pollution_real_test, deep_lstm_model_predictions, alpha=.3)\n",
    "\n",
    "ax.set(xlabel='Actual Values', \n",
    "       ylabel='Predictions',\n",
    "       title='PM2.5 Predictions vs Actual Values');\n",
    "\n",
    "fig_deep_lstm_predictions_vs_actual_scatter.savefig(os.path.join(filepath, 'deep_lstm_model_predictions_vs_actual_values_scatter.png'))"
   ]
  },
  {
   "cell_type": "markdown",
   "metadata": {},
   "source": [
    "### saving results to file"
   ]
  },
  {
   "cell_type": "code",
   "execution_count": 44,
   "metadata": {},
   "outputs": [],
   "source": [
    "with open(os.path.join(filepath, \"results_summary.txt\"), \"w+\") as text_file:\n",
    "        print(\"SVR RMSE : {}\\n SVR MAE : {} \\n Basic LSTM: {} \\n Deep LSTM : {}, \\n metrics {}\"\n",
    "              .format(svr_rmse.round(2),svr_mae.round(2), basic_lstm_model_evaluation, deep_lstm_model_evaluation, model.metrics_names ), file=text_file)"
   ]
  },
  {
   "cell_type": "code",
   "execution_count": null,
   "metadata": {},
   "outputs": [],
   "source": []
  }
 ],
 "metadata": {
  "accelerator": "GPU",
  "colab": {
   "name": "air_quality_prediction_data_preprocesing_13_April_2019.ipynb",
   "provenance": [],
   "version": "0.3.2"
  },
  "kernelspec": {
   "display_name": "Python 3",
   "language": "python",
   "name": "python3"
  },
  "language_info": {
   "codemirror_mode": {
    "name": "ipython",
    "version": 3
   },
   "file_extension": ".py",
   "mimetype": "text/x-python",
   "name": "python",
   "nbconvert_exporter": "python",
   "pygments_lexer": "ipython3",
   "version": "3.6.6"
  }
 },
 "nbformat": 4,
 "nbformat_minor": 1
}
